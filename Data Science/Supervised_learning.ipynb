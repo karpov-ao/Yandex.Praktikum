{
 "cells": [
  {
   "cell_type": "markdown",
   "metadata": {},
   "source": [
    "# Отток клиентов"
   ]
  },
  {
   "cell_type": "markdown",
   "metadata": {},
   "source": [
    "Из «Бета-Банка» стали уходить клиенты. Каждый месяц. Немного, но заметно. Банковские маркетологи посчитали: сохранять текущих клиентов дешевле, чем привлекать новых.\n",
    "\n",
    "Нужно спрогнозировать, уйдёт клиент из банка в ближайшее время или нет. Вам предоставлены исторические данные о поведении клиентов и расторжении договоров с банком. \n",
    "\n",
    "Постройте модель с предельно большим значением *F1*-меры. Чтобы сдать проект успешно, нужно довести метрику до 0.59. Проверьте *F1*-меру на тестовой выборке самостоятельно.\n",
    "\n",
    "Дополнительно измеряйте *AUC-ROC*, сравнивайте её значение с *F1*-мерой.\n",
    "\n",
    "Источник данных: [https://www.kaggle.com/barelydedicated/bank-customer-churn-modeling](https://www.kaggle.com/barelydedicated/bank-customer-churn-modeling)"
   ]
  },
  {
   "cell_type": "markdown",
   "metadata": {},
   "source": [
    "## Подготовка данных"
   ]
  },
  {
   "cell_type": "code",
   "execution_count": 1,
   "metadata": {},
   "outputs": [],
   "source": [
    "import pandas as pd\n",
    "import seaborn as sns\n",
    "import matplotlib.pyplot as plt\n",
    "from sklearn.preprocessing import StandardScaler\n",
    "from sklearn.tree import DecisionTreeClassifier\n",
    "from sklearn.ensemble import RandomForestClassifier\n",
    "from sklearn.linear_model import LogisticRegression\n",
    "from sklearn.model_selection import train_test_split\n",
    "import sklearn.metrics\n",
    "from sklearn.metrics import accuracy_score, f1_score\n",
    "from sklearn.metrics import mean_squared_error\n",
    "from sklearn.dummy import DummyClassifier\n",
    "from statsmodels.tools.tools import add_constant\n",
    "from statsmodels.stats.outliers_influence import variance_inflation_factor\n",
    "from sklearn.metrics import roc_curve, roc_auc_score\n",
    "from sklearn.utils import shuffle"
   ]
  },
  {
   "cell_type": "code",
   "execution_count": 2,
   "metadata": {},
   "outputs": [],
   "source": [
    "try:\n",
    "    data = pd.read_csv('/datasets/Churn.csv')\n",
    "except:\n",
    "    data = pd.read_csv('Churn.csv')    "
   ]
  },
  {
   "cell_type": "code",
   "execution_count": 3,
   "metadata": {},
   "outputs": [
    {
     "data": {
      "text/html": [
       "<div>\n",
       "<style scoped>\n",
       "    .dataframe tbody tr th:only-of-type {\n",
       "        vertical-align: middle;\n",
       "    }\n",
       "\n",
       "    .dataframe tbody tr th {\n",
       "        vertical-align: top;\n",
       "    }\n",
       "\n",
       "    .dataframe thead th {\n",
       "        text-align: right;\n",
       "    }\n",
       "</style>\n",
       "<table border=\"1\" class=\"dataframe\">\n",
       "  <thead>\n",
       "    <tr style=\"text-align: right;\">\n",
       "      <th></th>\n",
       "      <th>RowNumber</th>\n",
       "      <th>CustomerId</th>\n",
       "      <th>Surname</th>\n",
       "      <th>CreditScore</th>\n",
       "      <th>Geography</th>\n",
       "      <th>Gender</th>\n",
       "      <th>Age</th>\n",
       "      <th>Tenure</th>\n",
       "      <th>Balance</th>\n",
       "      <th>NumOfProducts</th>\n",
       "      <th>HasCrCard</th>\n",
       "      <th>IsActiveMember</th>\n",
       "      <th>EstimatedSalary</th>\n",
       "      <th>Exited</th>\n",
       "    </tr>\n",
       "  </thead>\n",
       "  <tbody>\n",
       "    <tr>\n",
       "      <th>0</th>\n",
       "      <td>1</td>\n",
       "      <td>15634602</td>\n",
       "      <td>Hargrave</td>\n",
       "      <td>619</td>\n",
       "      <td>France</td>\n",
       "      <td>Female</td>\n",
       "      <td>42</td>\n",
       "      <td>2.0</td>\n",
       "      <td>0.00</td>\n",
       "      <td>1</td>\n",
       "      <td>1</td>\n",
       "      <td>1</td>\n",
       "      <td>101348.88</td>\n",
       "      <td>1</td>\n",
       "    </tr>\n",
       "    <tr>\n",
       "      <th>1</th>\n",
       "      <td>2</td>\n",
       "      <td>15647311</td>\n",
       "      <td>Hill</td>\n",
       "      <td>608</td>\n",
       "      <td>Spain</td>\n",
       "      <td>Female</td>\n",
       "      <td>41</td>\n",
       "      <td>1.0</td>\n",
       "      <td>83807.86</td>\n",
       "      <td>1</td>\n",
       "      <td>0</td>\n",
       "      <td>1</td>\n",
       "      <td>112542.58</td>\n",
       "      <td>0</td>\n",
       "    </tr>\n",
       "    <tr>\n",
       "      <th>2</th>\n",
       "      <td>3</td>\n",
       "      <td>15619304</td>\n",
       "      <td>Onio</td>\n",
       "      <td>502</td>\n",
       "      <td>France</td>\n",
       "      <td>Female</td>\n",
       "      <td>42</td>\n",
       "      <td>8.0</td>\n",
       "      <td>159660.80</td>\n",
       "      <td>3</td>\n",
       "      <td>1</td>\n",
       "      <td>0</td>\n",
       "      <td>113931.57</td>\n",
       "      <td>1</td>\n",
       "    </tr>\n",
       "    <tr>\n",
       "      <th>3</th>\n",
       "      <td>4</td>\n",
       "      <td>15701354</td>\n",
       "      <td>Boni</td>\n",
       "      <td>699</td>\n",
       "      <td>France</td>\n",
       "      <td>Female</td>\n",
       "      <td>39</td>\n",
       "      <td>1.0</td>\n",
       "      <td>0.00</td>\n",
       "      <td>2</td>\n",
       "      <td>0</td>\n",
       "      <td>0</td>\n",
       "      <td>93826.63</td>\n",
       "      <td>0</td>\n",
       "    </tr>\n",
       "    <tr>\n",
       "      <th>4</th>\n",
       "      <td>5</td>\n",
       "      <td>15737888</td>\n",
       "      <td>Mitchell</td>\n",
       "      <td>850</td>\n",
       "      <td>Spain</td>\n",
       "      <td>Female</td>\n",
       "      <td>43</td>\n",
       "      <td>2.0</td>\n",
       "      <td>125510.82</td>\n",
       "      <td>1</td>\n",
       "      <td>1</td>\n",
       "      <td>1</td>\n",
       "      <td>79084.10</td>\n",
       "      <td>0</td>\n",
       "    </tr>\n",
       "  </tbody>\n",
       "</table>\n",
       "</div>"
      ],
      "text/plain": [
       "   RowNumber  CustomerId   Surname  CreditScore Geography  Gender  Age  \\\n",
       "0          1    15634602  Hargrave          619    France  Female   42   \n",
       "1          2    15647311      Hill          608     Spain  Female   41   \n",
       "2          3    15619304      Onio          502    France  Female   42   \n",
       "3          4    15701354      Boni          699    France  Female   39   \n",
       "4          5    15737888  Mitchell          850     Spain  Female   43   \n",
       "\n",
       "   Tenure    Balance  NumOfProducts  HasCrCard  IsActiveMember  \\\n",
       "0     2.0       0.00              1          1               1   \n",
       "1     1.0   83807.86              1          0               1   \n",
       "2     8.0  159660.80              3          1               0   \n",
       "3     1.0       0.00              2          0               0   \n",
       "4     2.0  125510.82              1          1               1   \n",
       "\n",
       "   EstimatedSalary  Exited  \n",
       "0        101348.88       1  \n",
       "1        112542.58       0  \n",
       "2        113931.57       1  \n",
       "3         93826.63       0  \n",
       "4         79084.10       0  "
      ]
     },
     "execution_count": 3,
     "metadata": {},
     "output_type": "execute_result"
    }
   ],
   "source": [
    "data.head()"
   ]
  },
  {
   "cell_type": "markdown",
   "metadata": {},
   "source": [
    "Исходя из имеющейся у нас документации:\n",
    "\n",
    "*Признаки*\n",
    "* RowNumber — индекс строки в данных\n",
    "* CustomerId — уникальный идентификатор клиента\n",
    "* Surname — фамилия\n",
    "* CreditScore — кредитный рейтинг\n",
    "* Geography — страна проживания\n",
    "* Gender — пол\n",
    "* Age — возраст\n",
    "* Tenure — сколько лет человек является клиентом банка\n",
    "* Balance — баланс на счёте\n",
    "* NumOfProducts — количество продуктов банка, используемых клиентом\n",
    "* HasCrCard — наличие кредитной карты\n",
    "* IsActiveMember — активность клиента\n",
    "* EstimatedSalary — предполагаемая зарплата\n",
    "\n",
    "*Целевой признак*\n",
    "* Exited — факт ухода клиента"
   ]
  },
  {
   "cell_type": "code",
   "execution_count": 4,
   "metadata": {},
   "outputs": [],
   "source": [
    "data.drop(['Surname', 'RowNumber', 'CustomerId'], axis=1, inplace=True) # удаляем столбец с фамилией клиента так как \n",
    "                                            # нам достаточно и уникального идентификатора клиента"
   ]
  },
  {
   "cell_type": "code",
   "execution_count": 5,
   "metadata": {},
   "outputs": [],
   "source": [
    "gender_one_hot = pd.get_dummies(data['Gender'], drop_first=True)\n",
    "country_one_hot = pd.get_dummies(data['Geography'], drop_first=True)\n",
    "data.drop(['Gender', 'Geography'], axis=1, inplace=True)\n",
    "df = pd.concat([data, gender_one_hot, country_one_hot], axis=1)"
   ]
  },
  {
   "cell_type": "code",
   "execution_count": 6,
   "metadata": {
    "scrolled": false
   },
   "outputs": [
    {
     "name": "stdout",
     "output_type": "stream",
     "text": [
      "<class 'pandas.core.frame.DataFrame'>\n",
      "RangeIndex: 10000 entries, 0 to 9999\n",
      "Data columns (total 12 columns):\n",
      " #   Column           Non-Null Count  Dtype  \n",
      "---  ------           --------------  -----  \n",
      " 0   CreditScore      10000 non-null  int64  \n",
      " 1   Age              10000 non-null  int64  \n",
      " 2   Tenure           9091 non-null   float64\n",
      " 3   Balance          10000 non-null  float64\n",
      " 4   NumOfProducts    10000 non-null  int64  \n",
      " 5   HasCrCard        10000 non-null  int64  \n",
      " 6   IsActiveMember   10000 non-null  int64  \n",
      " 7   EstimatedSalary  10000 non-null  float64\n",
      " 8   Exited           10000 non-null  int64  \n",
      " 9   Male             10000 non-null  uint8  \n",
      " 10  Germany          10000 non-null  uint8  \n",
      " 11  Spain            10000 non-null  uint8  \n",
      "dtypes: float64(3), int64(6), uint8(3)\n",
      "memory usage: 732.5 KB\n"
     ]
    }
   ],
   "source": [
    "df.info()"
   ]
  },
  {
   "cell_type": "code",
   "execution_count": 7,
   "metadata": {},
   "outputs": [
    {
     "data": {
      "text/html": [
       "<div>\n",
       "<style scoped>\n",
       "    .dataframe tbody tr th:only-of-type {\n",
       "        vertical-align: middle;\n",
       "    }\n",
       "\n",
       "    .dataframe tbody tr th {\n",
       "        vertical-align: top;\n",
       "    }\n",
       "\n",
       "    .dataframe thead th {\n",
       "        text-align: right;\n",
       "    }\n",
       "</style>\n",
       "<table border=\"1\" class=\"dataframe\">\n",
       "  <thead>\n",
       "    <tr style=\"text-align: right;\">\n",
       "      <th></th>\n",
       "      <th>CreditScore</th>\n",
       "      <th>Age</th>\n",
       "      <th>Tenure</th>\n",
       "      <th>Balance</th>\n",
       "      <th>NumOfProducts</th>\n",
       "      <th>HasCrCard</th>\n",
       "      <th>IsActiveMember</th>\n",
       "      <th>EstimatedSalary</th>\n",
       "      <th>Exited</th>\n",
       "      <th>Male</th>\n",
       "      <th>Germany</th>\n",
       "      <th>Spain</th>\n",
       "    </tr>\n",
       "  </thead>\n",
       "  <tbody>\n",
       "    <tr>\n",
       "      <th>count</th>\n",
       "      <td>10000.000000</td>\n",
       "      <td>10000.000000</td>\n",
       "      <td>9091.000000</td>\n",
       "      <td>10000.000000</td>\n",
       "      <td>10000.000000</td>\n",
       "      <td>10000.00000</td>\n",
       "      <td>10000.000000</td>\n",
       "      <td>10000.000000</td>\n",
       "      <td>10000.000000</td>\n",
       "      <td>10000.000000</td>\n",
       "      <td>10000.000000</td>\n",
       "      <td>10000.000000</td>\n",
       "    </tr>\n",
       "    <tr>\n",
       "      <th>mean</th>\n",
       "      <td>650.528800</td>\n",
       "      <td>38.921800</td>\n",
       "      <td>4.997690</td>\n",
       "      <td>76485.889288</td>\n",
       "      <td>1.530200</td>\n",
       "      <td>0.70550</td>\n",
       "      <td>0.515100</td>\n",
       "      <td>100090.239881</td>\n",
       "      <td>0.203700</td>\n",
       "      <td>0.545700</td>\n",
       "      <td>0.250900</td>\n",
       "      <td>0.247700</td>\n",
       "    </tr>\n",
       "    <tr>\n",
       "      <th>std</th>\n",
       "      <td>96.653299</td>\n",
       "      <td>10.487806</td>\n",
       "      <td>2.894723</td>\n",
       "      <td>62397.405202</td>\n",
       "      <td>0.581654</td>\n",
       "      <td>0.45584</td>\n",
       "      <td>0.499797</td>\n",
       "      <td>57510.492818</td>\n",
       "      <td>0.402769</td>\n",
       "      <td>0.497932</td>\n",
       "      <td>0.433553</td>\n",
       "      <td>0.431698</td>\n",
       "    </tr>\n",
       "    <tr>\n",
       "      <th>min</th>\n",
       "      <td>350.000000</td>\n",
       "      <td>18.000000</td>\n",
       "      <td>0.000000</td>\n",
       "      <td>0.000000</td>\n",
       "      <td>1.000000</td>\n",
       "      <td>0.00000</td>\n",
       "      <td>0.000000</td>\n",
       "      <td>11.580000</td>\n",
       "      <td>0.000000</td>\n",
       "      <td>0.000000</td>\n",
       "      <td>0.000000</td>\n",
       "      <td>0.000000</td>\n",
       "    </tr>\n",
       "    <tr>\n",
       "      <th>25%</th>\n",
       "      <td>584.000000</td>\n",
       "      <td>32.000000</td>\n",
       "      <td>2.000000</td>\n",
       "      <td>0.000000</td>\n",
       "      <td>1.000000</td>\n",
       "      <td>0.00000</td>\n",
       "      <td>0.000000</td>\n",
       "      <td>51002.110000</td>\n",
       "      <td>0.000000</td>\n",
       "      <td>0.000000</td>\n",
       "      <td>0.000000</td>\n",
       "      <td>0.000000</td>\n",
       "    </tr>\n",
       "    <tr>\n",
       "      <th>50%</th>\n",
       "      <td>652.000000</td>\n",
       "      <td>37.000000</td>\n",
       "      <td>5.000000</td>\n",
       "      <td>97198.540000</td>\n",
       "      <td>1.000000</td>\n",
       "      <td>1.00000</td>\n",
       "      <td>1.000000</td>\n",
       "      <td>100193.915000</td>\n",
       "      <td>0.000000</td>\n",
       "      <td>1.000000</td>\n",
       "      <td>0.000000</td>\n",
       "      <td>0.000000</td>\n",
       "    </tr>\n",
       "    <tr>\n",
       "      <th>75%</th>\n",
       "      <td>718.000000</td>\n",
       "      <td>44.000000</td>\n",
       "      <td>7.000000</td>\n",
       "      <td>127644.240000</td>\n",
       "      <td>2.000000</td>\n",
       "      <td>1.00000</td>\n",
       "      <td>1.000000</td>\n",
       "      <td>149388.247500</td>\n",
       "      <td>0.000000</td>\n",
       "      <td>1.000000</td>\n",
       "      <td>1.000000</td>\n",
       "      <td>0.000000</td>\n",
       "    </tr>\n",
       "    <tr>\n",
       "      <th>max</th>\n",
       "      <td>850.000000</td>\n",
       "      <td>92.000000</td>\n",
       "      <td>10.000000</td>\n",
       "      <td>250898.090000</td>\n",
       "      <td>4.000000</td>\n",
       "      <td>1.00000</td>\n",
       "      <td>1.000000</td>\n",
       "      <td>199992.480000</td>\n",
       "      <td>1.000000</td>\n",
       "      <td>1.000000</td>\n",
       "      <td>1.000000</td>\n",
       "      <td>1.000000</td>\n",
       "    </tr>\n",
       "  </tbody>\n",
       "</table>\n",
       "</div>"
      ],
      "text/plain": [
       "        CreditScore           Age       Tenure        Balance  NumOfProducts  \\\n",
       "count  10000.000000  10000.000000  9091.000000   10000.000000   10000.000000   \n",
       "mean     650.528800     38.921800     4.997690   76485.889288       1.530200   \n",
       "std       96.653299     10.487806     2.894723   62397.405202       0.581654   \n",
       "min      350.000000     18.000000     0.000000       0.000000       1.000000   \n",
       "25%      584.000000     32.000000     2.000000       0.000000       1.000000   \n",
       "50%      652.000000     37.000000     5.000000   97198.540000       1.000000   \n",
       "75%      718.000000     44.000000     7.000000  127644.240000       2.000000   \n",
       "max      850.000000     92.000000    10.000000  250898.090000       4.000000   \n",
       "\n",
       "         HasCrCard  IsActiveMember  EstimatedSalary        Exited  \\\n",
       "count  10000.00000    10000.000000     10000.000000  10000.000000   \n",
       "mean       0.70550        0.515100    100090.239881      0.203700   \n",
       "std        0.45584        0.499797     57510.492818      0.402769   \n",
       "min        0.00000        0.000000        11.580000      0.000000   \n",
       "25%        0.00000        0.000000     51002.110000      0.000000   \n",
       "50%        1.00000        1.000000    100193.915000      0.000000   \n",
       "75%        1.00000        1.000000    149388.247500      0.000000   \n",
       "max        1.00000        1.000000    199992.480000      1.000000   \n",
       "\n",
       "               Male       Germany         Spain  \n",
       "count  10000.000000  10000.000000  10000.000000  \n",
       "mean       0.545700      0.250900      0.247700  \n",
       "std        0.497932      0.433553      0.431698  \n",
       "min        0.000000      0.000000      0.000000  \n",
       "25%        0.000000      0.000000      0.000000  \n",
       "50%        1.000000      0.000000      0.000000  \n",
       "75%        1.000000      1.000000      0.000000  \n",
       "max        1.000000      1.000000      1.000000  "
      ]
     },
     "execution_count": 7,
     "metadata": {},
     "output_type": "execute_result"
    }
   ],
   "source": [
    "df.describe()"
   ]
  },
  {
   "cell_type": "code",
   "execution_count": 8,
   "metadata": {},
   "outputs": [
    {
     "data": {
      "text/plain": [
       "CreditScore          0\n",
       "Age                  0\n",
       "Tenure             909\n",
       "Balance              0\n",
       "NumOfProducts        0\n",
       "HasCrCard            0\n",
       "IsActiveMember       0\n",
       "EstimatedSalary      0\n",
       "Exited               0\n",
       "Male                 0\n",
       "Germany              0\n",
       "Spain                0\n",
       "dtype: int64"
      ]
     },
     "execution_count": 8,
     "metadata": {},
     "output_type": "execute_result"
    }
   ],
   "source": [
    "df.isna().sum()"
   ]
  },
  {
   "cell_type": "markdown",
   "metadata": {},
   "source": [
    "Пропуски в данных о том сколько лет клиент пользуется услугами нашего банка. Скорее всего это новые клиенты, и с нами они менее года. Заменим пропущеные значения на -1."
   ]
  },
  {
   "cell_type": "code",
   "execution_count": 9,
   "metadata": {},
   "outputs": [],
   "source": [
    "df['Tenure'] = df['Tenure'].fillna(-1)"
   ]
  },
  {
   "cell_type": "code",
   "execution_count": 10,
   "metadata": {
    "scrolled": true
   },
   "outputs": [
    {
     "data": {
      "text/plain": [
       "0"
      ]
     },
     "execution_count": 10,
     "metadata": {},
     "output_type": "execute_result"
    }
   ],
   "source": [
    "df['Tenure'].isna().sum()"
   ]
  },
  {
   "cell_type": "code",
   "execution_count": 11,
   "metadata": {},
   "outputs": [
    {
     "data": {
      "text/plain": [
       "0"
      ]
     },
     "execution_count": 11,
     "metadata": {},
     "output_type": "execute_result"
    }
   ],
   "source": [
    "df.duplicated().sum()"
   ]
  },
  {
   "cell_type": "code",
   "execution_count": 12,
   "metadata": {
    "scrolled": true
   },
   "outputs": [
    {
     "data": {
      "text/plain": [
       "0    7963\n",
       "1    2037\n",
       "Name: Exited, dtype: int64"
      ]
     },
     "execution_count": 12,
     "metadata": {},
     "output_type": "execute_result"
    }
   ],
   "source": [
    "df['Exited'].value_counts()"
   ]
  },
  {
   "cell_type": "markdown",
   "metadata": {},
   "source": [
    "Число клиентов покинувших наш банк почти в 4 раза меньше, чем клиентов пока ещё остающихся с нами."
   ]
  },
  {
   "cell_type": "code",
   "execution_count": 13,
   "metadata": {
    "scrolled": true
   },
   "outputs": [
    {
     "data": {
      "image/png": "[encoded data removed]",
      "text/plain": [
       "<Figure size 432x288 with 2 Axes>"
      ]
     },
     "metadata": {
      "needs_background": "light"
     },
     "output_type": "display_data"
    }
   ],
   "source": [
    "sns.heatmap(df.corr(), annot=True, cmap=\"Blues\", fmt='.2f', annot_kws={'size':8});"
   ]
  },
  {
   "cell_type": "markdown",
   "metadata": {},
   "source": [
    "Мультиколлинеарных признаков не наблюдается."
   ]
  },
  {
   "cell_type": "markdown",
   "metadata": {},
   "source": [
    "### Разобьем данные на выборки"
   ]
  },
  {
   "cell_type": "code",
   "execution_count": 14,
   "metadata": {},
   "outputs": [
    {
     "name": "stdout",
     "output_type": "stream",
     "text": [
      "(6000, 11) (2000, 11) (2000, 11)\n",
      "(6000,) (2000,) (2000,)\n"
     ]
    }
   ],
   "source": [
    "df_ohe = pd.get_dummies(df, drop_first=True)\n",
    "\n",
    "target = df_ohe['Exited']\n",
    "features = df_ohe.drop('Exited', axis=1)\n",
    "\n",
    "features_train, features_valid, target_train, target_valid = train_test_split(features, target, test_size=0.4, \n",
    "                                                                              random_state=12345)\n",
    "features_valid, features_test, target_valid, target_test = train_test_split(features_valid, target_valid, test_size=0.5, \n",
    "                                                                              random_state=12345)\n",
    "print(features_train.shape, features_valid.shape, features_test.shape)\n",
    "print(target_train.shape, target_valid.shape, target_test.shape)"
   ]
  },
  {
   "cell_type": "code",
   "execution_count": 15,
   "metadata": {},
   "outputs": [
    {
     "name": "stderr",
     "output_type": "stream",
     "text": [
      "/tmp/ipykernel_111/3945192486.py:5: SettingWithCopyWarning: \n",
      "A value is trying to be set on a copy of a slice from a DataFrame.\n",
      "Try using .loc[row_indexer,col_indexer] = value instead\n",
      "\n",
      "See the caveats in the documentation: https://pandas.pydata.org/pandas-docs/stable/user_guide/indexing.html#returning-a-view-versus-a-copy\n",
      "  features_train[numeric] = scaler.transform(features_train[numeric])\n",
      "/opt/conda/lib/python3.9/site-packages/pandas/core/indexing.py:1738: SettingWithCopyWarning: \n",
      "A value is trying to be set on a copy of a slice from a DataFrame.\n",
      "Try using .loc[row_indexer,col_indexer] = value instead\n",
      "\n",
      "See the caveats in the documentation: https://pandas.pydata.org/pandas-docs/stable/user_guide/indexing.html#returning-a-view-versus-a-copy\n",
      "  self._setitem_single_column(loc, value[:, i].tolist(), pi)\n"
     ]
    },
    {
     "data": {
      "text/html": [
       "<div>\n",
       "<style scoped>\n",
       "    .dataframe tbody tr th:only-of-type {\n",
       "        vertical-align: middle;\n",
       "    }\n",
       "\n",
       "    .dataframe tbody tr th {\n",
       "        vertical-align: top;\n",
       "    }\n",
       "\n",
       "    .dataframe thead th {\n",
       "        text-align: right;\n",
       "    }\n",
       "</style>\n",
       "<table border=\"1\" class=\"dataframe\">\n",
       "  <thead>\n",
       "    <tr style=\"text-align: right;\">\n",
       "      <th></th>\n",
       "      <th>CreditScore</th>\n",
       "      <th>Age</th>\n",
       "      <th>Tenure</th>\n",
       "      <th>Balance</th>\n",
       "      <th>NumOfProducts</th>\n",
       "      <th>HasCrCard</th>\n",
       "      <th>IsActiveMember</th>\n",
       "      <th>EstimatedSalary</th>\n",
       "      <th>Male</th>\n",
       "      <th>Germany</th>\n",
       "      <th>Spain</th>\n",
       "    </tr>\n",
       "  </thead>\n",
       "  <tbody>\n",
       "    <tr>\n",
       "      <th>7479</th>\n",
       "      <td>-0.886751</td>\n",
       "      <td>-0.373192</td>\n",
       "      <td>1.083651</td>\n",
       "      <td>1.232271</td>\n",
       "      <td>1</td>\n",
       "      <td>1</td>\n",
       "      <td>0</td>\n",
       "      <td>-0.187705</td>\n",
       "      <td>1</td>\n",
       "      <td>0</td>\n",
       "      <td>1</td>\n",
       "    </tr>\n",
       "    <tr>\n",
       "      <th>3411</th>\n",
       "      <td>0.608663</td>\n",
       "      <td>-0.183385</td>\n",
       "      <td>1.083651</td>\n",
       "      <td>0.600563</td>\n",
       "      <td>1</td>\n",
       "      <td>0</td>\n",
       "      <td>0</td>\n",
       "      <td>-0.333945</td>\n",
       "      <td>0</td>\n",
       "      <td>0</td>\n",
       "      <td>0</td>\n",
       "    </tr>\n",
       "    <tr>\n",
       "      <th>6027</th>\n",
       "      <td>2.052152</td>\n",
       "      <td>0.480939</td>\n",
       "      <td>-0.452862</td>\n",
       "      <td>1.027098</td>\n",
       "      <td>2</td>\n",
       "      <td>0</td>\n",
       "      <td>1</td>\n",
       "      <td>1.503095</td>\n",
       "      <td>1</td>\n",
       "      <td>1</td>\n",
       "      <td>0</td>\n",
       "    </tr>\n",
       "    <tr>\n",
       "      <th>1247</th>\n",
       "      <td>-1.457915</td>\n",
       "      <td>-1.417129</td>\n",
       "      <td>0.469046</td>\n",
       "      <td>-1.233163</td>\n",
       "      <td>2</td>\n",
       "      <td>1</td>\n",
       "      <td>0</td>\n",
       "      <td>-1.071061</td>\n",
       "      <td>1</td>\n",
       "      <td>0</td>\n",
       "      <td>0</td>\n",
       "    </tr>\n",
       "    <tr>\n",
       "      <th>3716</th>\n",
       "      <td>0.130961</td>\n",
       "      <td>-1.132419</td>\n",
       "      <td>-0.760164</td>\n",
       "      <td>1.140475</td>\n",
       "      <td>1</td>\n",
       "      <td>0</td>\n",
       "      <td>0</td>\n",
       "      <td>1.524268</td>\n",
       "      <td>0</td>\n",
       "      <td>1</td>\n",
       "      <td>0</td>\n",
       "    </tr>\n",
       "  </tbody>\n",
       "</table>\n",
       "</div>"
      ],
      "text/plain": [
       "      CreditScore       Age    Tenure   Balance  NumOfProducts  HasCrCard  \\\n",
       "7479    -0.886751 -0.373192  1.083651  1.232271              1          1   \n",
       "3411     0.608663 -0.183385  1.083651  0.600563              1          0   \n",
       "6027     2.052152  0.480939 -0.452862  1.027098              2          0   \n",
       "1247    -1.457915 -1.417129  0.469046 -1.233163              2          1   \n",
       "3716     0.130961 -1.132419 -0.760164  1.140475              1          0   \n",
       "\n",
       "      IsActiveMember  EstimatedSalary  Male  Germany  Spain  \n",
       "7479               0        -0.187705     1        0      1  \n",
       "3411               0        -0.333945     0        0      0  \n",
       "6027               1         1.503095     1        1      0  \n",
       "1247               0        -1.071061     1        0      0  \n",
       "3716               0         1.524268     0        1      0  "
      ]
     },
     "execution_count": 15,
     "metadata": {},
     "output_type": "execute_result"
    }
   ],
   "source": [
    "numeric = ['CreditScore', 'Age', 'Tenure', 'Balance', 'EstimatedSalary']\n",
    "\n",
    "scaler = StandardScaler()\n",
    "scaler.fit(features_train[numeric])\n",
    "features_train[numeric] = scaler.transform(features_train[numeric])\n",
    "features_valid[numeric] = scaler.transform(features_valid[numeric])\n",
    "features_train.head()"
   ]
  },
  {
   "cell_type": "markdown",
   "metadata": {},
   "source": [
    "## Исследование задачи"
   ]
  },
  {
   "cell_type": "markdown",
   "metadata": {},
   "source": [
    "### Баланс классов"
   ]
  },
  {
   "cell_type": "code",
   "execution_count": 16,
   "metadata": {},
   "outputs": [
    {
     "data": {
      "text/plain": [
       "0    7963\n",
       "1    2037\n",
       "Name: Exited, dtype: int64"
      ]
     },
     "execution_count": 16,
     "metadata": {},
     "output_type": "execute_result"
    }
   ],
   "source": [
    "target.value_counts()"
   ]
  },
  {
   "cell_type": "markdown",
   "metadata": {},
   "source": [
    "Наблюдается дисбаланс в сторону *0* значений."
   ]
  },
  {
   "cell_type": "markdown",
   "metadata": {},
   "source": [
    "### Обучим модели без учета дисбаланса"
   ]
  },
  {
   "cell_type": "markdown",
   "metadata": {},
   "source": [
    "#### Случайный лес"
   ]
  },
  {
   "cell_type": "code",
   "execution_count": 17,
   "metadata": {
    "scrolled": true
   },
   "outputs": [
    {
     "name": "stdout",
     "output_type": "stream",
     "text": [
      "Accuracy: 0.864. EST:1000. Глубина дерева: 13. F1: 0.5782414307004471\n"
     ]
    }
   ],
   "source": [
    "best_model = None\n",
    "best_result = 0\n",
    "best_depth = 0\n",
    "for depth in range(1, 22, 2):\n",
    "    for n_est in range(100, 1001, 100):\n",
    "        model = RandomForestClassifier(random_state=12345, max_depth=depth, n_estimators=n_est)\n",
    "        model.fit(features_train, target_train)\n",
    "        predictions = model.predict(features_valid)\n",
    "        result = accuracy_score(predictions, target_valid)\n",
    "        score = f1_score(predictions, target_valid)\n",
    "        if result > best_result:\n",
    "            best_model = model\n",
    "            best_result = result\n",
    "            best_depth = depth\n",
    "    \n",
    "print(f'Accuracy: {best_result}. EST:{n_est}. Глубина дерева: {best_depth}. F1: {score}')"
   ]
  },
  {
   "cell_type": "markdown",
   "metadata": {},
   "source": [
    "#### Логистическая регрессия"
   ]
  },
  {
   "cell_type": "code",
   "execution_count": 18,
   "metadata": {},
   "outputs": [
    {
     "name": "stdout",
     "output_type": "stream",
     "text": [
      "Accuracy: 0.802. F1: 0.33108108108108103\n"
     ]
    }
   ],
   "source": [
    "model = LogisticRegression(solver='liblinear', random_state=12345)\n",
    "model.fit(features_train, target_train)\n",
    "predictions = model.predict(features_valid)\n",
    "result = accuracy_score(predictions, target_valid)\n",
    "score = f1_score(predictions, target_valid)\n",
    "print(f'Accuracy: {result}. F1: {score}')"
   ]
  },
  {
   "cell_type": "code",
   "execution_count": 19,
   "metadata": {
    "scrolled": true
   },
   "outputs": [
    {
     "name": "stdout",
     "output_type": "stream",
     "text": [
      "AUC-ROC: 0.758536526352083\n"
     ]
    },
    {
     "data": {
      "image/png": "[encoded data removed]",
      "text/plain": [
       "<Figure size 432x288 with 1 Axes>"
      ]
     },
     "metadata": {
      "needs_background": "light"
     },
     "output_type": "display_data"
    }
   ],
   "source": [
    "probabilities_valid = model.predict_proba(features_valid)\n",
    "probabilities_one_valid = probabilities_valid[:, 1]\n",
    "\n",
    "auc_roc = roc_auc_score(target_valid, probabilities_one_valid)\n",
    "print(f'AUC-ROC: {auc_roc}')\n",
    "\n",
    "fpr, tpr, thresholds = roc_curve(target_valid, probabilities_one_valid)\n",
    "\n",
    "plt.figure()\n",
    "plt.plot(fpr, tpr)\n",
    "\n",
    "plt.plot([0, 1], [0, 1], linestyle='--')\n",
    "\n",
    "plt.xlim([0.0, 1.0])\n",
    "plt.ylim([0.0, 1.0])\n",
    "plt.xlabel('False Positive Rate')\n",
    "plt.ylabel('True Positive Rate')\n",
    "plt.title('ROC-кривая')\n",
    "plt.show()"
   ]
  },
  {
   "cell_type": "markdown",
   "metadata": {},
   "source": [
    "На несбалансированных данных логистическая регрессия показывает слишком низкий параметр F1. F1  мера у случайного леса хоть и выше чем у логистической регрессии, 0.5782, все же не достаточно для дальнейшей работы.\n",
    "Площадь под ROC кривой (метрика AUC-ROC) ровна 0.7585."
   ]
  },
  {
   "cell_type": "markdown",
   "metadata": {},
   "source": [
    "## Борьба с дисбалансом"
   ]
  },
  {
   "cell_type": "markdown",
   "metadata": {},
   "source": [
    "### Upsampling"
   ]
  },
  {
   "cell_type": "code",
   "execution_count": 20,
   "metadata": {},
   "outputs": [],
   "source": [
    "def upsample(features, target, repeat):\n",
    "    features_zeros = features[target == 0]\n",
    "    features_ones = features[target == 1]\n",
    "    target_zeros = target[target == 0]\n",
    "    target_ones = target[target == 1]\n",
    "\n",
    "    features_upsampled = pd.concat([features_zeros] + [features_ones] * repeat)\n",
    "    target_upsampled = pd.concat([target_zeros] + [target_ones] * repeat)\n",
    "    \n",
    "    features_upsampled, target_upsampled = shuffle(\n",
    "        features_upsampled, target_upsampled, random_state=12345)\n",
    "    \n",
    "    return features_upsampled, target_upsampled\n",
    "\n",
    "features_upsampled, target_upsampled = upsample(features_train, target_train, repeat=4)"
   ]
  },
  {
   "cell_type": "code",
   "execution_count": 21,
   "metadata": {},
   "outputs": [
    {
     "name": "stdout",
     "output_type": "stream",
     "text": [
      "Accuracy: 0.844. F1: 0.6204379562043797\n"
     ]
    }
   ],
   "source": [
    "model_ups = RandomForestClassifier(random_state=12345, max_depth=13, n_estimators=1000)\n",
    "model_ups.fit(features_upsampled, target_upsampled)\n",
    "predictions = model_ups.predict(features_valid)\n",
    "result = accuracy_score(predictions, target_valid)\n",
    "score = f1_score(predictions, target_valid)\n",
    "print(f'Accuracy: {result}. F1: {score}')"
   ]
  },
  {
   "cell_type": "markdown",
   "metadata": {},
   "source": [
    "### Downsampling"
   ]
  },
  {
   "cell_type": "code",
   "execution_count": 22,
   "metadata": {},
   "outputs": [],
   "source": [
    "def downsample(features, target, fraction):\n",
    "    features_zeros = features[target == 0]\n",
    "    features_ones = features[target == 1]\n",
    "    target_zeros = target[target == 0]\n",
    "    target_ones = target[target == 1]\n",
    "\n",
    "    features_downsampled = pd.concat(\n",
    "        [features_zeros.sample(frac=fraction, random_state=12345)] + [features_ones])\n",
    "    target_downsampled = pd.concat(\n",
    "        [target_zeros.sample(frac=fraction, random_state=12345)] + [target_ones])\n",
    "    \n",
    "    features_downsampled, target_downsampled = shuffle(\n",
    "        features_downsampled, target_downsampled, random_state=12345)\n",
    "    \n",
    "    return features_downsampled, target_downsampled\n",
    "\n",
    "features_downsampled, target_downsampled = downsample(features_train, target_train, fraction=0.5)"
   ]
  },
  {
   "cell_type": "code",
   "execution_count": 23,
   "metadata": {},
   "outputs": [
    {
     "name": "stdout",
     "output_type": "stream",
     "text": [
      "Accuracy: 0.8455. F1: 0.6180469715698393\n"
     ]
    }
   ],
   "source": [
    "model = RandomForestClassifier(random_state=12345, max_depth=13, n_estimators=1000)\n",
    "model.fit(features_downsampled, target_downsampled)\n",
    "predictions = model.predict(features_valid)\n",
    "result = accuracy_score(predictions, target_valid)\n",
    "score = f1_score(predictions, target_valid)\n",
    "print(f'Accuracy: {result}. F1: {score}')"
   ]
  },
  {
   "cell_type": "markdown",
   "metadata": {},
   "source": [
    "## Тестирование модели"
   ]
  },
  {
   "cell_type": "code",
   "execution_count": 24,
   "metadata": {
    "scrolled": true
   },
   "outputs": [
    {
     "name": "stdout",
     "output_type": "stream",
     "text": [
      "Accuracy: 0.675. F1: 0.4482173174872666\n"
     ]
    }
   ],
   "source": [
    "model_ups.fit(features_train, target_train)\n",
    "predictions = model_ups.predict(features_test)\n",
    "result = accuracy_score(predictions, target_test)\n",
    "score = f1_score(predictions, target_test)\n",
    "print(f'Accuracy: {result}. F1: {score}')"
   ]
  },
  {
   "cell_type": "code",
   "execution_count": 25,
   "metadata": {},
   "outputs": [
    {
     "name": "stdout",
     "output_type": "stream",
     "text": [
      "AUC-ROC: 0.6826687114265197\n"
     ]
    },
    {
     "data": {
      "image/png": "[encoded data removed]",
      "text/plain": [
       "<Figure size 432x288 with 1 Axes>"
      ]
     },
     "metadata": {
      "needs_background": "light"
     },
     "output_type": "display_data"
    }
   ],
   "source": [
    "probabilities_test = model_ups.predict_proba(features_test)\n",
    "probabilities_one_test = probabilities_test[:, 1]\n",
    "\n",
    "auc_roc = roc_auc_score(target_test, probabilities_one_test)\n",
    "print(f'AUC-ROC: {auc_roc}')\n",
    "\n",
    "fpr, tpr, thresholds = roc_curve(target_test, probabilities_one_test)\n",
    "\n",
    "plt.figure()\n",
    "plt.plot(fpr, tpr)\n",
    "\n",
    "plt.plot([0, 1], [0, 1], linestyle='--')\n",
    "\n",
    "plt.xlim([0.0, 1.0])\n",
    "plt.ylim([0.0, 1.0])\n",
    "plt.xlabel('False Positive Rate')\n",
    "plt.ylabel('True Positive Rate')\n",
    "plt.title('ROC-кривая')\n",
    "plt.show()"
   ]
  },
  {
   "cell_type": "markdown",
   "metadata": {},
   "source": [
    "AUC-ROC: 0.6826, точность предсказаний стала ниже. "
   ]
  },
  {
   "cell_type": "markdown",
   "metadata": {},
   "source": [
    "# Выводы"
   ]
  },
  {
   "cell_type": "markdown",
   "metadata": {},
   "source": [
    "* Первичный анализ данных показал явный дисбаланс классов, примерно 4 к 1;\n",
    "* Произвели предобработку данных;\n",
    "* Заполнили пропуски;\n",
    "* Провели one_hot_encoding; \n",
    "* Модель случайного леса, до борьбы с дисбалансом, показывала результат F1 метрики 0.5782;\n",
    "* Upsampling дал результат F1 меры равный 0.6204;\n",
    "* Dowmsampling оказался менее эффективен, и показал 0.6180;\n",
    "* Проверка на тестовой выборке проверка на тестовой выборке показала результат 0.4482.\n",
    "* Площадь под ROC-кривой уменьшилась на 7%."
   ]
  }
 ],
 "metadata": {
  "ExecuteTimeLog": [
   {
    "duration": 1918,
    "start_time": "2022-05-24T08:38:11.677Z"
   },
   {
    "duration": 5,
    "start_time": "2022-05-24T08:38:42.812Z"
   },
   {
    "duration": 112,
    "start_time": "2022-05-24T08:38:43.792Z"
   },
   {
    "duration": 29,
    "start_time": "2022-05-24T08:39:01.270Z"
   },
   {
    "duration": 23,
    "start_time": "2022-05-24T08:42:35.532Z"
   },
   {
    "duration": 6,
    "start_time": "2022-05-24T08:44:03.188Z"
   },
   {
    "duration": 1617,
    "start_time": "2022-05-24T08:45:09.462Z"
   },
   {
    "duration": 997,
    "start_time": "2022-05-24T08:45:28.668Z"
   },
   {
    "duration": 969,
    "start_time": "2022-05-24T08:46:10.379Z"
   },
   {
    "duration": 1022,
    "start_time": "2022-05-24T08:46:19.687Z"
   },
   {
    "duration": 1202,
    "start_time": "2022-05-24T08:46:25.432Z"
   },
   {
    "duration": 994,
    "start_time": "2022-05-24T08:46:34.284Z"
   },
   {
    "duration": 60,
    "start_time": "2022-05-24T08:51:46.180Z"
   },
   {
    "duration": 4,
    "start_time": "2022-05-24T08:58:36.837Z"
   },
   {
    "duration": 6,
    "start_time": "2022-05-24T08:59:40.976Z"
   },
   {
    "duration": 8,
    "start_time": "2022-05-24T09:00:28.372Z"
   },
   {
    "duration": 4,
    "start_time": "2022-05-24T09:01:19.371Z"
   },
   {
    "duration": 6,
    "start_time": "2022-05-24T09:01:36.399Z"
   },
   {
    "duration": 19,
    "start_time": "2022-05-24T09:04:55.889Z"
   },
   {
    "duration": 13,
    "start_time": "2022-05-24T09:16:44.940Z"
   },
   {
    "duration": 6,
    "start_time": "2022-05-24T09:18:04.885Z"
   },
   {
    "duration": 7,
    "start_time": "2022-05-24T09:18:41.688Z"
   },
   {
    "duration": 10,
    "start_time": "2022-05-24T09:19:17.808Z"
   },
   {
    "duration": 7,
    "start_time": "2022-05-24T09:27:20.241Z"
   },
   {
    "duration": 151,
    "start_time": "2022-05-24T09:31:50.805Z"
   },
   {
    "duration": 1560,
    "start_time": "2022-05-24T09:32:11.367Z"
   },
   {
    "duration": 42,
    "start_time": "2022-05-24T09:32:12.929Z"
   },
   {
    "duration": 19,
    "start_time": "2022-05-24T09:32:12.973Z"
   },
   {
    "duration": 16,
    "start_time": "2022-05-24T09:32:12.994Z"
   },
   {
    "duration": 18,
    "start_time": "2022-05-24T09:32:13.012Z"
   },
   {
    "duration": 8,
    "start_time": "2022-05-24T09:32:13.031Z"
   },
   {
    "duration": 8,
    "start_time": "2022-05-24T09:32:13.041Z"
   },
   {
    "duration": 21,
    "start_time": "2022-05-24T09:32:13.051Z"
   },
   {
    "duration": 6,
    "start_time": "2022-05-24T09:32:13.074Z"
   },
   {
    "duration": 1110,
    "start_time": "2022-05-24T09:32:13.084Z"
   },
   {
    "duration": 11,
    "start_time": "2022-05-24T09:32:14.195Z"
   },
   {
    "duration": 19,
    "start_time": "2022-05-24T09:32:14.209Z"
   },
   {
    "duration": 8,
    "start_time": "2022-05-24T09:32:14.231Z"
   },
   {
    "duration": 17,
    "start_time": "2022-05-24T09:32:14.242Z"
   },
   {
    "duration": 8,
    "start_time": "2022-05-24T09:32:14.260Z"
   },
   {
    "duration": 148,
    "start_time": "2022-05-24T09:32:14.270Z"
   },
   {
    "duration": 35,
    "start_time": "2022-05-24T09:33:32.643Z"
   },
   {
    "duration": 6,
    "start_time": "2022-05-24T09:44:16.587Z"
   },
   {
    "duration": 17,
    "start_time": "2022-05-24T09:46:56.236Z"
   },
   {
    "duration": 13,
    "start_time": "2022-05-24T09:47:02.009Z"
   },
   {
    "duration": 13,
    "start_time": "2022-05-24T09:47:03.669Z"
   },
   {
    "duration": 9,
    "start_time": "2022-05-24T09:47:12.090Z"
   },
   {
    "duration": 1560,
    "start_time": "2022-05-24T09:47:51.336Z"
   },
   {
    "duration": 51,
    "start_time": "2022-05-24T09:47:52.899Z"
   },
   {
    "duration": 27,
    "start_time": "2022-05-24T09:47:52.952Z"
   },
   {
    "duration": 7,
    "start_time": "2022-05-24T09:47:52.983Z"
   },
   {
    "duration": 13,
    "start_time": "2022-05-24T09:47:52.993Z"
   },
   {
    "duration": 16,
    "start_time": "2022-05-24T09:47:53.024Z"
   },
   {
    "duration": 8,
    "start_time": "2022-05-24T09:47:53.042Z"
   },
   {
    "duration": 8,
    "start_time": "2022-05-24T09:47:53.052Z"
   },
   {
    "duration": 9,
    "start_time": "2022-05-24T09:47:53.062Z"
   },
   {
    "duration": 14,
    "start_time": "2022-05-24T09:47:53.073Z"
   },
   {
    "duration": 7,
    "start_time": "2022-05-24T09:47:53.089Z"
   },
   {
    "duration": 1521,
    "start_time": "2022-05-24T09:47:53.098Z"
   },
   {
    "duration": 22,
    "start_time": "2022-05-24T09:47:54.620Z"
   },
   {
    "duration": 17,
    "start_time": "2022-05-24T09:47:54.644Z"
   },
   {
    "duration": 10,
    "start_time": "2022-05-24T09:47:54.663Z"
   },
   {
    "duration": 9,
    "start_time": "2022-05-24T09:47:54.675Z"
   },
   {
    "duration": 7,
    "start_time": "2022-05-24T09:47:54.686Z"
   },
   {
    "duration": 2486,
    "start_time": "2022-05-24T09:47:54.695Z"
   },
   {
    "duration": 1448,
    "start_time": "2022-05-24T09:47:57.183Z"
   },
   {
    "duration": 151,
    "start_time": "2022-05-24T09:49:55.021Z"
   },
   {
    "duration": 1550,
    "start_time": "2022-05-24T09:50:00.600Z"
   },
   {
    "duration": 44,
    "start_time": "2022-05-24T09:50:02.152Z"
   },
   {
    "duration": 18,
    "start_time": "2022-05-24T09:50:02.198Z"
   },
   {
    "duration": 23,
    "start_time": "2022-05-24T09:50:02.218Z"
   },
   {
    "duration": 29,
    "start_time": "2022-05-24T09:50:02.243Z"
   },
   {
    "duration": 25,
    "start_time": "2022-05-24T09:50:02.274Z"
   },
   {
    "duration": 17,
    "start_time": "2022-05-24T09:50:02.301Z"
   },
   {
    "duration": 44,
    "start_time": "2022-05-24T09:50:02.320Z"
   },
   {
    "duration": 19,
    "start_time": "2022-05-24T09:50:02.366Z"
   },
   {
    "duration": 20,
    "start_time": "2022-05-24T09:50:02.387Z"
   },
   {
    "duration": 17,
    "start_time": "2022-05-24T09:50:02.409Z"
   },
   {
    "duration": 1586,
    "start_time": "2022-05-24T09:50:02.428Z"
   },
   {
    "duration": 21,
    "start_time": "2022-05-24T09:50:04.017Z"
   },
   {
    "duration": 8,
    "start_time": "2022-05-24T09:50:04.042Z"
   },
   {
    "duration": 13,
    "start_time": "2022-05-24T09:50:04.052Z"
   },
   {
    "duration": 16,
    "start_time": "2022-05-24T09:50:04.067Z"
   },
   {
    "duration": 20,
    "start_time": "2022-05-24T09:50:04.085Z"
   },
   {
    "duration": 2508,
    "start_time": "2022-05-24T09:50:04.106Z"
   },
   {
    "duration": 1627,
    "start_time": "2022-05-24T09:50:06.615Z"
   },
   {
    "duration": 1418,
    "start_time": "2022-05-24T09:51:05.559Z"
   },
   {
    "duration": 44,
    "start_time": "2022-05-24T09:52:32.895Z"
   },
   {
    "duration": 1074,
    "start_time": "2022-05-24T09:52:38.873Z"
   },
   {
    "duration": 4,
    "start_time": "2022-05-24T09:53:01.636Z"
   },
   {
    "duration": 1259,
    "start_time": "2022-05-24T09:53:08.074Z"
   },
   {
    "duration": 1257,
    "start_time": "2022-05-24T09:54:21.882Z"
   },
   {
    "duration": 1320,
    "start_time": "2022-05-24T09:54:48.415Z"
   },
   {
    "duration": 1515,
    "start_time": "2022-05-24T09:56:15.707Z"
   },
   {
    "duration": 48,
    "start_time": "2022-05-24T09:56:17.231Z"
   },
   {
    "duration": 19,
    "start_time": "2022-05-24T09:56:17.280Z"
   },
   {
    "duration": 11,
    "start_time": "2022-05-24T09:56:17.302Z"
   },
   {
    "duration": 32,
    "start_time": "2022-05-24T09:56:17.317Z"
   },
   {
    "duration": 19,
    "start_time": "2022-05-24T09:56:17.351Z"
   },
   {
    "duration": 8,
    "start_time": "2022-05-24T09:56:17.372Z"
   },
   {
    "duration": 10,
    "start_time": "2022-05-24T09:56:17.382Z"
   },
   {
    "duration": 10,
    "start_time": "2022-05-24T09:56:17.394Z"
   },
   {
    "duration": 29,
    "start_time": "2022-05-24T09:56:17.405Z"
   },
   {
    "duration": 7,
    "start_time": "2022-05-24T09:56:17.437Z"
   },
   {
    "duration": 1571,
    "start_time": "2022-05-24T09:56:17.446Z"
   },
   {
    "duration": 24,
    "start_time": "2022-05-24T09:56:19.024Z"
   },
   {
    "duration": 5,
    "start_time": "2022-05-24T09:56:19.051Z"
   },
   {
    "duration": 15,
    "start_time": "2022-05-24T09:56:19.058Z"
   },
   {
    "duration": 11,
    "start_time": "2022-05-24T09:56:19.075Z"
   },
   {
    "duration": 7,
    "start_time": "2022-05-24T09:56:19.089Z"
   },
   {
    "duration": 2511,
    "start_time": "2022-05-24T09:56:19.097Z"
   },
   {
    "duration": 721,
    "start_time": "2022-05-24T09:56:21.610Z"
   },
   {
    "duration": 802,
    "start_time": "2022-05-24T09:57:50.439Z"
   },
   {
    "duration": 174,
    "start_time": "2022-05-24T09:59:52.619Z"
   },
   {
    "duration": 1395,
    "start_time": "2022-05-24T10:00:30.345Z"
   },
   {
    "duration": 1808,
    "start_time": "2022-05-24T10:00:51.144Z"
   },
   {
    "duration": 1506,
    "start_time": "2022-05-24T10:01:03.715Z"
   },
   {
    "duration": 47,
    "start_time": "2022-05-24T10:01:05.229Z"
   },
   {
    "duration": 19,
    "start_time": "2022-05-24T10:01:05.278Z"
   },
   {
    "duration": 6,
    "start_time": "2022-05-24T10:01:05.299Z"
   },
   {
    "duration": 16,
    "start_time": "2022-05-24T10:01:05.306Z"
   },
   {
    "duration": 36,
    "start_time": "2022-05-24T10:01:05.333Z"
   },
   {
    "duration": 7,
    "start_time": "2022-05-24T10:01:05.371Z"
   },
   {
    "duration": 4,
    "start_time": "2022-05-24T10:01:05.380Z"
   },
   {
    "duration": 9,
    "start_time": "2022-05-24T10:01:05.386Z"
   },
   {
    "duration": 22,
    "start_time": "2022-05-24T10:01:05.397Z"
   },
   {
    "duration": 42,
    "start_time": "2022-05-24T10:01:05.421Z"
   },
   {
    "duration": 1653,
    "start_time": "2022-05-24T10:01:05.465Z"
   },
   {
    "duration": 19,
    "start_time": "2022-05-24T10:01:07.121Z"
   },
   {
    "duration": 21,
    "start_time": "2022-05-24T10:01:07.147Z"
   },
   {
    "duration": 11,
    "start_time": "2022-05-24T10:01:07.170Z"
   },
   {
    "duration": 22,
    "start_time": "2022-05-24T10:01:07.183Z"
   },
   {
    "duration": 8,
    "start_time": "2022-05-24T10:01:07.207Z"
   },
   {
    "duration": 2836,
    "start_time": "2022-05-24T10:01:07.217Z"
   },
   {
    "duration": 1580,
    "start_time": "2022-05-24T10:01:10.056Z"
   },
   {
    "duration": 2172,
    "start_time": "2022-05-24T10:01:17.298Z"
   },
   {
    "duration": 1591,
    "start_time": "2022-05-24T10:01:29.612Z"
   },
   {
    "duration": 61,
    "start_time": "2022-05-24T10:01:31.205Z"
   },
   {
    "duration": 18,
    "start_time": "2022-05-24T10:01:31.268Z"
   },
   {
    "duration": 8,
    "start_time": "2022-05-24T10:01:31.288Z"
   },
   {
    "duration": 16,
    "start_time": "2022-05-24T10:01:31.300Z"
   },
   {
    "duration": 30,
    "start_time": "2022-05-24T10:01:31.320Z"
   },
   {
    "duration": 23,
    "start_time": "2022-05-24T10:01:31.352Z"
   },
   {
    "duration": 7,
    "start_time": "2022-05-24T10:01:31.376Z"
   },
   {
    "duration": 14,
    "start_time": "2022-05-24T10:01:31.384Z"
   },
   {
    "duration": 37,
    "start_time": "2022-05-24T10:01:31.400Z"
   },
   {
    "duration": 18,
    "start_time": "2022-05-24T10:01:31.452Z"
   },
   {
    "duration": 1839,
    "start_time": "2022-05-24T10:01:31.473Z"
   },
   {
    "duration": 18,
    "start_time": "2022-05-24T10:01:33.314Z"
   },
   {
    "duration": 26,
    "start_time": "2022-05-24T10:01:33.341Z"
   },
   {
    "duration": 9,
    "start_time": "2022-05-24T10:01:33.369Z"
   },
   {
    "duration": 12,
    "start_time": "2022-05-24T10:01:33.380Z"
   },
   {
    "duration": 7,
    "start_time": "2022-05-24T10:01:33.394Z"
   },
   {
    "duration": 2611,
    "start_time": "2022-05-24T10:01:33.403Z"
   },
   {
    "duration": 1354,
    "start_time": "2022-05-24T10:01:36.016Z"
   },
   {
    "duration": 1351,
    "start_time": "2022-05-24T10:01:45.500Z"
   },
   {
    "duration": 1561,
    "start_time": "2022-05-24T10:01:56.655Z"
   },
   {
    "duration": 57,
    "start_time": "2022-05-24T10:01:58.218Z"
   },
   {
    "duration": 16,
    "start_time": "2022-05-24T10:01:58.277Z"
   },
   {
    "duration": 5,
    "start_time": "2022-05-24T10:01:58.295Z"
   },
   {
    "duration": 16,
    "start_time": "2022-05-24T10:01:58.302Z"
   },
   {
    "duration": 27,
    "start_time": "2022-05-24T10:01:58.319Z"
   },
   {
    "duration": 15,
    "start_time": "2022-05-24T10:01:58.351Z"
   },
   {
    "duration": 4,
    "start_time": "2022-05-24T10:01:58.367Z"
   },
   {
    "duration": 9,
    "start_time": "2022-05-24T10:01:58.373Z"
   },
   {
    "duration": 16,
    "start_time": "2022-05-24T10:01:58.383Z"
   },
   {
    "duration": 5,
    "start_time": "2022-05-24T10:01:58.401Z"
   },
   {
    "duration": 1555,
    "start_time": "2022-05-24T10:01:58.408Z"
   },
   {
    "duration": 18,
    "start_time": "2022-05-24T10:01:59.965Z"
   },
   {
    "duration": 10,
    "start_time": "2022-05-24T10:01:59.987Z"
   },
   {
    "duration": 23,
    "start_time": "2022-05-24T10:01:59.999Z"
   },
   {
    "duration": 37,
    "start_time": "2022-05-24T10:02:00.033Z"
   },
   {
    "duration": 13,
    "start_time": "2022-05-24T10:02:00.072Z"
   },
   {
    "duration": 2694,
    "start_time": "2022-05-24T10:02:00.087Z"
   },
   {
    "duration": 2189,
    "start_time": "2022-05-24T10:02:02.783Z"
   },
   {
    "duration": 1681,
    "start_time": "2022-05-24T10:02:14.949Z"
   },
   {
    "duration": 75,
    "start_time": "2022-05-25T11:59:24.442Z"
   },
   {
    "duration": 1632,
    "start_time": "2022-05-25T11:59:42.211Z"
   },
   {
    "duration": 85,
    "start_time": "2022-05-25T11:59:43.845Z"
   },
   {
    "duration": 18,
    "start_time": "2022-05-25T11:59:43.932Z"
   },
   {
    "duration": 16,
    "start_time": "2022-05-25T11:59:43.952Z"
   },
   {
    "duration": 14,
    "start_time": "2022-05-25T11:59:43.969Z"
   },
   {
    "duration": 12,
    "start_time": "2022-05-25T11:59:43.985Z"
   },
   {
    "duration": 60,
    "start_time": "2022-05-25T11:59:43.999Z"
   },
   {
    "duration": 7,
    "start_time": "2022-05-25T11:59:44.061Z"
   },
   {
    "duration": 28,
    "start_time": "2022-05-25T11:59:44.069Z"
   },
   {
    "duration": 18,
    "start_time": "2022-05-25T11:59:44.101Z"
   },
   {
    "duration": 15,
    "start_time": "2022-05-25T11:59:44.121Z"
   },
   {
    "duration": 6,
    "start_time": "2022-05-25T11:59:44.138Z"
   },
   {
    "duration": 1176,
    "start_time": "2022-05-25T11:59:44.145Z"
   },
   {
    "duration": 19,
    "start_time": "2022-05-25T11:59:45.324Z"
   },
   {
    "duration": 10,
    "start_time": "2022-05-25T11:59:45.346Z"
   },
   {
    "duration": 328801,
    "start_time": "2022-05-25T11:59:45.358Z"
   },
   {
    "duration": 69,
    "start_time": "2022-05-25T12:05:14.161Z"
   },
   {
    "duration": 407,
    "start_time": "2022-05-25T12:05:14.233Z"
   },
   {
    "duration": 15,
    "start_time": "2022-05-25T12:05:14.642Z"
   },
   {
    "duration": 12013,
    "start_time": "2022-05-25T12:05:14.658Z"
   },
   {
    "duration": 11,
    "start_time": "2022-05-25T12:05:26.673Z"
   },
   {
    "duration": 2742,
    "start_time": "2022-05-25T12:05:26.686Z"
   },
   {
    "duration": 7172,
    "start_time": "2022-05-25T12:05:29.430Z"
   },
   {
    "duration": 10,
    "start_time": "2022-05-25T12:19:13.042Z"
   },
   {
    "duration": 4,
    "start_time": "2022-05-25T12:19:35.397Z"
   },
   {
    "duration": 29,
    "start_time": "2022-05-25T12:19:40.320Z"
   },
   {
    "duration": 6261,
    "start_time": "2022-05-25T12:20:39.319Z"
   },
   {
    "duration": 1378,
    "start_time": "2022-05-25T12:21:16.990Z"
   },
   {
    "duration": 44,
    "start_time": "2022-05-25T12:21:18.370Z"
   },
   {
    "duration": 17,
    "start_time": "2022-05-25T12:21:18.415Z"
   },
   {
    "duration": 4,
    "start_time": "2022-05-25T12:21:18.435Z"
   },
   {
    "duration": 17,
    "start_time": "2022-05-25T12:21:18.441Z"
   },
   {
    "duration": 13,
    "start_time": "2022-05-25T12:21:18.460Z"
   },
   {
    "duration": 63,
    "start_time": "2022-05-25T12:21:18.475Z"
   },
   {
    "duration": 8,
    "start_time": "2022-05-25T12:21:18.540Z"
   },
   {
    "duration": 7,
    "start_time": "2022-05-25T12:21:18.550Z"
   },
   {
    "duration": 7,
    "start_time": "2022-05-25T12:21:18.560Z"
   },
   {
    "duration": 16,
    "start_time": "2022-05-25T12:21:18.569Z"
   },
   {
    "duration": 7,
    "start_time": "2022-05-25T12:21:18.587Z"
   },
   {
    "duration": 1170,
    "start_time": "2022-05-25T12:21:18.595Z"
   },
   {
    "duration": 19,
    "start_time": "2022-05-25T12:21:19.767Z"
   },
   {
    "duration": 53,
    "start_time": "2022-05-25T12:21:19.788Z"
   },
   {
    "duration": 6,
    "start_time": "2022-05-25T12:21:19.843Z"
   },
   {
    "duration": 331945,
    "start_time": "2022-05-25T12:21:19.851Z"
   },
   {
    "duration": 43,
    "start_time": "2022-05-25T12:26:51.798Z"
   },
   {
    "duration": 414,
    "start_time": "2022-05-25T12:26:51.844Z"
   },
   {
    "duration": 14,
    "start_time": "2022-05-25T12:26:52.260Z"
   },
   {
    "duration": 12537,
    "start_time": "2022-05-25T12:26:52.276Z"
   },
   {
    "duration": 12,
    "start_time": "2022-05-25T12:27:04.815Z"
   },
   {
    "duration": 2770,
    "start_time": "2022-05-25T12:27:04.828Z"
   },
   {
    "duration": 6389,
    "start_time": "2022-05-25T12:27:07.599Z"
   },
   {
    "duration": 436,
    "start_time": "2022-05-25T12:27:13.991Z"
   },
   {
    "duration": 12575,
    "start_time": "2022-05-25T12:28:42.667Z"
   },
   {
    "duration": 6447,
    "start_time": "2022-05-25T12:29:27.797Z"
   },
   {
    "duration": 12454,
    "start_time": "2022-05-25T12:30:52.497Z"
   },
   {
    "duration": 6550,
    "start_time": "2022-05-25T12:31:30.394Z"
   },
   {
    "duration": 423,
    "start_time": "2022-05-25T12:32:31.383Z"
   },
   {
    "duration": 1318,
    "start_time": "2022-05-25T12:36:06.927Z"
   },
   {
    "duration": 41,
    "start_time": "2022-05-25T12:36:08.247Z"
   },
   {
    "duration": 16,
    "start_time": "2022-05-25T12:36:08.290Z"
   },
   {
    "duration": 4,
    "start_time": "2022-05-25T12:36:08.308Z"
   },
   {
    "duration": 21,
    "start_time": "2022-05-25T12:36:08.314Z"
   },
   {
    "duration": 15,
    "start_time": "2022-05-25T12:36:08.337Z"
   },
   {
    "duration": 50,
    "start_time": "2022-05-25T12:36:08.354Z"
   },
   {
    "duration": 7,
    "start_time": "2022-05-25T12:36:08.405Z"
   },
   {
    "duration": 15,
    "start_time": "2022-05-25T12:36:08.413Z"
   },
   {
    "duration": 9,
    "start_time": "2022-05-25T12:36:08.431Z"
   },
   {
    "duration": 11,
    "start_time": "2022-05-25T12:36:08.442Z"
   },
   {
    "duration": 11,
    "start_time": "2022-05-25T12:36:08.455Z"
   },
   {
    "duration": 1125,
    "start_time": "2022-05-25T12:36:08.468Z"
   },
   {
    "duration": 17,
    "start_time": "2022-05-25T12:36:09.595Z"
   },
   {
    "duration": 32,
    "start_time": "2022-05-25T12:36:09.627Z"
   },
   {
    "duration": 6,
    "start_time": "2022-05-25T12:36:09.661Z"
   },
   {
    "duration": 319665,
    "start_time": "2022-05-25T12:36:09.668Z"
   },
   {
    "duration": 33,
    "start_time": "2022-05-25T12:41:29.335Z"
   },
   {
    "duration": 403,
    "start_time": "2022-05-25T12:41:29.431Z"
   },
   {
    "duration": 12,
    "start_time": "2022-05-25T12:41:29.836Z"
   },
   {
    "duration": 9097,
    "start_time": "2022-05-25T12:41:29.850Z"
   },
   {
    "duration": 13,
    "start_time": "2022-05-25T12:41:38.948Z"
   },
   {
    "duration": 4460,
    "start_time": "2022-05-25T12:41:38.963Z"
   },
   {
    "duration": 6252,
    "start_time": "2022-05-25T12:41:43.425Z"
   },
   {
    "duration": 444,
    "start_time": "2022-05-25T12:41:49.679Z"
   }
  ],
  "kernelspec": {
   "display_name": "Python 3 (ipykernel)",
   "language": "python",
   "name": "python3"
  },
  "language_info": {
   "codemirror_mode": {
    "name": "ipython",
    "version": 3
   },
   "file_extension": ".py",
   "mimetype": "text/x-python",
   "name": "python",
   "nbconvert_exporter": "python",
   "pygments_lexer": "ipython3",
   "version": "3.9.5"
  },
  "toc": {
   "base_numbering": 1,
   "nav_menu": {},
   "number_sections": true,
   "sideBar": true,
   "skip_h1_title": true,
   "title_cell": "Содержание",
   "title_sidebar": "Contents",
   "toc_cell": true,
   "toc_position": {
    "height": "calc(100% - 180px)",
    "left": "10px",
    "top": "150px",
    "width": "165px"
   },
   "toc_section_display": true,
   "toc_window_display": true
  }
 },
 "nbformat": 4,
 "nbformat_minor": 2
}
