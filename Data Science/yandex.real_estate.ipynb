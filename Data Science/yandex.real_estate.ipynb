{
 "cells": [
  {
   "cell_type": "markdown",
   "metadata": {},
   "source": [
    "# Исследование объявлений о продаже квартир\n",
    "\n",
    "В вашем распоряжении данные сервиса Яндекc Недвижимость — архив объявлений о продаже квартир в Санкт-Петербурге и соседних населённых пунктах за несколько лет. Нужно научиться определять рыночную стоимость объектов недвижимости. Ваша задача — установить параметры. Это позволит построить автоматизированную систему: она отследит аномалии и мошенническую деятельность. \n",
    "\n",
    "По каждой квартире на продажу доступны два вида данных. Первые вписаны пользователем, вторые получены автоматически на основе картографических данных. Например, расстояние до центра, аэропорта, ближайшего парка и водоёма. "
   ]
  },
  {
   "cell_type": "markdown",
   "metadata": {},
   "source": [
    "## Изучение данных из файла"
   ]
  },
  {
   "cell_type": "markdown",
   "metadata": {},
   "source": [
    "Вызовем все необходимые библиотеки."
   ]
  },
  {
   "cell_type": "code",
   "execution_count": 1,
   "metadata": {},
   "outputs": [],
   "source": [
    "import pandas as pd\n",
    "import matplotlib.pyplot as plt"
   ]
  },
  {
   "cell_type": "markdown",
   "metadata": {},
   "source": [
    "Сохраним полученные данные в новый датафрейм df, и выведем на экран общюю информацию для ознакомления."
   ]
  },
  {
   "cell_type": "code",
   "execution_count": 2,
   "metadata": {},
   "outputs": [
    {
     "name": "stdout",
     "output_type": "stream",
     "text": [
      "<class 'pandas.core.frame.DataFrame'>\n",
      "RangeIndex: 23699 entries, 0 to 23698\n",
      "Data columns (total 1 columns):\n",
      " #   Column                                                                                                                                                                                                                                                                                           Non-Null Count  Dtype \n",
      "---  ------                                                                                                                                                                                                                                                                                           --------------  ----- \n",
      " 0   total_images\tlast_price\ttotal_area\tfirst_day_exposition\trooms\tceiling_height\tfloors_total\tliving_area\tfloor\tis_apartment\tstudio\topen_plan\tkitchen_area\tbalcony\tlocality_name\tairports_nearest\tcityCenters_nearest\tparks_around3000\tparks_nearest\tponds_around3000\tponds_nearest\tdays_exposition  23699 non-null  object\n",
      "dtypes: object(1)\n",
      "memory usage: 185.3+ KB\n"
     ]
    }
   ],
   "source": [
    "df = pd.read_csv('/datasets/real_estate_data.csv')\n",
    "df.info()"
   ]
  },
  {
   "cell_type": "markdown",
   "metadata": {},
   "source": [
    "Одна колонка и 23699 строк. Видимо в данных неизвестный разделитель. Выведем на экран первые 5 строк чтобы определить разделитель."
   ]
  },
  {
   "cell_type": "code",
   "execution_count": 3,
   "metadata": {},
   "outputs": [
    {
     "data": {
      "text/html": [
       "<div>\n",
       "<style scoped>\n",
       "    .dataframe tbody tr th:only-of-type {\n",
       "        vertical-align: middle;\n",
       "    }\n",
       "\n",
       "    .dataframe tbody tr th {\n",
       "        vertical-align: top;\n",
       "    }\n",
       "\n",
       "    .dataframe thead th {\n",
       "        text-align: right;\n",
       "    }\n",
       "</style>\n",
       "<table border=\"1\" class=\"dataframe\">\n",
       "  <thead>\n",
       "    <tr style=\"text-align: right;\">\n",
       "      <th></th>\n",
       "      <th>total_images\\tlast_price\\ttotal_area\\tfirst_day_exposition\\trooms\\tceiling_height\\tfloors_total\\tliving_area\\tfloor\\tis_apartment\\tstudio\\topen_plan\\tkitchen_area\\tbalcony\\tlocality_name\\tairports_nearest\\tcityCenters_nearest\\tparks_around3000\\tparks_nearest\\tponds_around3000\\tponds_nearest\\tdays_exposition</th>\n",
       "    </tr>\n",
       "  </thead>\n",
       "  <tbody>\n",
       "    <tr>\n",
       "      <th>0</th>\n",
       "      <td>20\\t13000000.0\\t108.0\\t2019-03-07T00:00:00\\t3\\...</td>\n",
       "    </tr>\n",
       "    <tr>\n",
       "      <th>1</th>\n",
       "      <td>7\\t3350000.0\\t40.4\\t2018-12-04T00:00:00\\t1\\t\\t...</td>\n",
       "    </tr>\n",
       "    <tr>\n",
       "      <th>2</th>\n",
       "      <td>10\\t5196000.0\\t56.0\\t2015-08-20T00:00:00\\t2\\t\\...</td>\n",
       "    </tr>\n",
       "    <tr>\n",
       "      <th>3</th>\n",
       "      <td>0\\t64900000.0\\t159.0\\t2015-07-24T00:00:00\\t3\\t...</td>\n",
       "    </tr>\n",
       "    <tr>\n",
       "      <th>4</th>\n",
       "      <td>2\\t10000000.0\\t100.0\\t2018-06-19T00:00:00\\t2\\t...</td>\n",
       "    </tr>\n",
       "  </tbody>\n",
       "</table>\n",
       "</div>"
      ],
      "text/plain": [
       "  total_images\\tlast_price\\ttotal_area\\tfirst_day_exposition\\trooms\\tceiling_height\\tfloors_total\\tliving_area\\tfloor\\tis_apartment\\tstudio\\topen_plan\\tkitchen_area\\tbalcony\\tlocality_name\\tairports_nearest\\tcityCenters_nearest\\tparks_around3000\\tparks_nearest\\tponds_around3000\\tponds_nearest\\tdays_exposition\n",
       "0  20\\t13000000.0\\t108.0\\t2019-03-07T00:00:00\\t3\\...                                                                                                                                                                                                                                                                  \n",
       "1  7\\t3350000.0\\t40.4\\t2018-12-04T00:00:00\\t1\\t\\t...                                                                                                                                                                                                                                                                  \n",
       "2  10\\t5196000.0\\t56.0\\t2015-08-20T00:00:00\\t2\\t\\...                                                                                                                                                                                                                                                                  \n",
       "3  0\\t64900000.0\\t159.0\\t2015-07-24T00:00:00\\t3\\t...                                                                                                                                                                                                                                                                  \n",
       "4  2\\t10000000.0\\t100.0\\t2018-06-19T00:00:00\\t2\\t...                                                                                                                                                                                                                                                                  "
      ]
     },
     "execution_count": 3,
     "metadata": {},
     "output_type": "execute_result"
    }
   ],
   "source": [
    "df.head()"
   ]
  },
  {
   "cell_type": "markdown",
   "metadata": {},
   "source": [
    "В роли разделителя у нас  `\\t`. Внесем необходимые изменения в `df` для корректного отображения таблицы. И выведем информацию."
   ]
  },
  {
   "cell_type": "code",
   "execution_count": 4,
   "metadata": {},
   "outputs": [
    {
     "name": "stdout",
     "output_type": "stream",
     "text": [
      "<class 'pandas.core.frame.DataFrame'>\n",
      "RangeIndex: 23699 entries, 0 to 23698\n",
      "Data columns (total 22 columns):\n",
      " #   Column                Non-Null Count  Dtype  \n",
      "---  ------                --------------  -----  \n",
      " 0   total_images          23699 non-null  int64  \n",
      " 1   last_price            23699 non-null  float64\n",
      " 2   total_area            23699 non-null  float64\n",
      " 3   first_day_exposition  23699 non-null  object \n",
      " 4   rooms                 23699 non-null  int64  \n",
      " 5   ceiling_height        14504 non-null  float64\n",
      " 6   floors_total          23613 non-null  float64\n",
      " 7   living_area           21796 non-null  float64\n",
      " 8   floor                 23699 non-null  int64  \n",
      " 9   is_apartment          2775 non-null   object \n",
      " 10  studio                23699 non-null  bool   \n",
      " 11  open_plan             23699 non-null  bool   \n",
      " 12  kitchen_area          21421 non-null  float64\n",
      " 13  balcony               12180 non-null  float64\n",
      " 14  locality_name         23650 non-null  object \n",
      " 15  airports_nearest      18157 non-null  float64\n",
      " 16  cityCenters_nearest   18180 non-null  float64\n",
      " 17  parks_around3000      18181 non-null  float64\n",
      " 18  parks_nearest         8079 non-null   float64\n",
      " 19  ponds_around3000      18181 non-null  float64\n",
      " 20  ponds_nearest         9110 non-null   float64\n",
      " 21  days_exposition       20518 non-null  float64\n",
      "dtypes: bool(2), float64(14), int64(3), object(3)\n",
      "memory usage: 3.7+ MB\n"
     ]
    }
   ],
   "source": [
    "df = pd.read_csv('/datasets/real_estate_data.csv', sep='\\t')\n",
    "df.info()"
   ]
  },
  {
   "cell_type": "markdown",
   "metadata": {},
   "source": [
    "Мы имеем 22 колонки, 23699 строк. Данные представлены в виде:\n",
    "\n",
    "\n",
    "* булевы значения `bool` - 2\n",
    "* дробные числа 90 `float64` - 14\n",
    "* целочисленные значения `int64` - 3\n",
    "* значения `object` - 3"
   ]
  },
  {
   "cell_type": "markdown",
   "metadata": {},
   "source": [
    "Согласно описания:\n",
    "\n",
    "* `airports_nearest` — расстояние до ближайшего аэропорта в метрах (м)\n",
    "* `balcony` — число балконов\n",
    "* `ceiling_height` — высота потолков (м)\n",
    "* `cityCenters_nearest` — расстояние до центра города (м)\n",
    "* `days_exposition` — сколько дней было размещено объявление (от публикации до снятия)\n",
    "* `first_day_exposition` — дата публикации\n",
    "* `floor` — этаж\n",
    "* `floors_total` — всего этажей в доме\n",
    "* `is_apartment` — апартаменты (булев тип)\n",
    "* `kitchen_area` — площадь кухни в квадратных метрах (м²)\n",
    "* `last_price` — цена на момент снятия с публикации\n",
    "* `living_area` — жилая площадь в квадратных метрах (м²)\n",
    "* `locality_name` — название населённого пункта\n",
    "* `open_plan` — свободная планировка (булев тип)\n",
    "* `parks_around3000` — число парков в радиусе 3 км\n",
    "* `parks_nearest` — расстояние до ближайшего парка (м)\n",
    "* `ponds_around3000` — число водоёмов в радиусе 3 км\n",
    "* `ponds_nearest` — расстояние до ближайшего водоёма (м)\n",
    "* `rooms` — число комнат\n",
    "* `studio` — квартира-студия (булев тип)\n",
    "* `total_area` — площадь квартиры в квадратных метрах (м²)\n",
    "* `total_images` — число фотографий квартиры в объявлении"
   ]
  },
  {
   "cell_type": "markdown",
   "metadata": {},
   "source": [
    "Выведем на экран 10 строк нашего датафрейма."
   ]
  },
  {
   "cell_type": "code",
   "execution_count": 5,
   "metadata": {},
   "outputs": [
    {
     "data": {
      "text/html": [
       "<div>\n",
       "<style scoped>\n",
       "    .dataframe tbody tr th:only-of-type {\n",
       "        vertical-align: middle;\n",
       "    }\n",
       "\n",
       "    .dataframe tbody tr th {\n",
       "        vertical-align: top;\n",
       "    }\n",
       "\n",
       "    .dataframe thead th {\n",
       "        text-align: right;\n",
       "    }\n",
       "</style>\n",
       "<table border=\"1\" class=\"dataframe\">\n",
       "  <thead>\n",
       "    <tr style=\"text-align: right;\">\n",
       "      <th></th>\n",
       "      <th>total_images</th>\n",
       "      <th>last_price</th>\n",
       "      <th>total_area</th>\n",
       "      <th>first_day_exposition</th>\n",
       "      <th>rooms</th>\n",
       "      <th>ceiling_height</th>\n",
       "      <th>floors_total</th>\n",
       "      <th>living_area</th>\n",
       "      <th>floor</th>\n",
       "      <th>is_apartment</th>\n",
       "      <th>...</th>\n",
       "      <th>kitchen_area</th>\n",
       "      <th>balcony</th>\n",
       "      <th>locality_name</th>\n",
       "      <th>airports_nearest</th>\n",
       "      <th>cityCenters_nearest</th>\n",
       "      <th>parks_around3000</th>\n",
       "      <th>parks_nearest</th>\n",
       "      <th>ponds_around3000</th>\n",
       "      <th>ponds_nearest</th>\n",
       "      <th>days_exposition</th>\n",
       "    </tr>\n",
       "  </thead>\n",
       "  <tbody>\n",
       "    <tr>\n",
       "      <th>0</th>\n",
       "      <td>20</td>\n",
       "      <td>13000000.0</td>\n",
       "      <td>108.00</td>\n",
       "      <td>2019-03-07T00:00:00</td>\n",
       "      <td>3</td>\n",
       "      <td>2.70</td>\n",
       "      <td>16.0</td>\n",
       "      <td>51.00</td>\n",
       "      <td>8</td>\n",
       "      <td>NaN</td>\n",
       "      <td>...</td>\n",
       "      <td>25.00</td>\n",
       "      <td>NaN</td>\n",
       "      <td>Санкт-Петербург</td>\n",
       "      <td>18863.0</td>\n",
       "      <td>16028.0</td>\n",
       "      <td>1.0</td>\n",
       "      <td>482.0</td>\n",
       "      <td>2.0</td>\n",
       "      <td>755.0</td>\n",
       "      <td>NaN</td>\n",
       "    </tr>\n",
       "    <tr>\n",
       "      <th>1</th>\n",
       "      <td>7</td>\n",
       "      <td>3350000.0</td>\n",
       "      <td>40.40</td>\n",
       "      <td>2018-12-04T00:00:00</td>\n",
       "      <td>1</td>\n",
       "      <td>NaN</td>\n",
       "      <td>11.0</td>\n",
       "      <td>18.60</td>\n",
       "      <td>1</td>\n",
       "      <td>NaN</td>\n",
       "      <td>...</td>\n",
       "      <td>11.00</td>\n",
       "      <td>2.0</td>\n",
       "      <td>посёлок Шушары</td>\n",
       "      <td>12817.0</td>\n",
       "      <td>18603.0</td>\n",
       "      <td>0.0</td>\n",
       "      <td>NaN</td>\n",
       "      <td>0.0</td>\n",
       "      <td>NaN</td>\n",
       "      <td>81.0</td>\n",
       "    </tr>\n",
       "    <tr>\n",
       "      <th>2</th>\n",
       "      <td>10</td>\n",
       "      <td>5196000.0</td>\n",
       "      <td>56.00</td>\n",
       "      <td>2015-08-20T00:00:00</td>\n",
       "      <td>2</td>\n",
       "      <td>NaN</td>\n",
       "      <td>5.0</td>\n",
       "      <td>34.30</td>\n",
       "      <td>4</td>\n",
       "      <td>NaN</td>\n",
       "      <td>...</td>\n",
       "      <td>8.30</td>\n",
       "      <td>0.0</td>\n",
       "      <td>Санкт-Петербург</td>\n",
       "      <td>21741.0</td>\n",
       "      <td>13933.0</td>\n",
       "      <td>1.0</td>\n",
       "      <td>90.0</td>\n",
       "      <td>2.0</td>\n",
       "      <td>574.0</td>\n",
       "      <td>558.0</td>\n",
       "    </tr>\n",
       "    <tr>\n",
       "      <th>3</th>\n",
       "      <td>0</td>\n",
       "      <td>64900000.0</td>\n",
       "      <td>159.00</td>\n",
       "      <td>2015-07-24T00:00:00</td>\n",
       "      <td>3</td>\n",
       "      <td>NaN</td>\n",
       "      <td>14.0</td>\n",
       "      <td>NaN</td>\n",
       "      <td>9</td>\n",
       "      <td>NaN</td>\n",
       "      <td>...</td>\n",
       "      <td>NaN</td>\n",
       "      <td>0.0</td>\n",
       "      <td>Санкт-Петербург</td>\n",
       "      <td>28098.0</td>\n",
       "      <td>6800.0</td>\n",
       "      <td>2.0</td>\n",
       "      <td>84.0</td>\n",
       "      <td>3.0</td>\n",
       "      <td>234.0</td>\n",
       "      <td>424.0</td>\n",
       "    </tr>\n",
       "    <tr>\n",
       "      <th>4</th>\n",
       "      <td>2</td>\n",
       "      <td>10000000.0</td>\n",
       "      <td>100.00</td>\n",
       "      <td>2018-06-19T00:00:00</td>\n",
       "      <td>2</td>\n",
       "      <td>3.03</td>\n",
       "      <td>14.0</td>\n",
       "      <td>32.00</td>\n",
       "      <td>13</td>\n",
       "      <td>NaN</td>\n",
       "      <td>...</td>\n",
       "      <td>41.00</td>\n",
       "      <td>NaN</td>\n",
       "      <td>Санкт-Петербург</td>\n",
       "      <td>31856.0</td>\n",
       "      <td>8098.0</td>\n",
       "      <td>2.0</td>\n",
       "      <td>112.0</td>\n",
       "      <td>1.0</td>\n",
       "      <td>48.0</td>\n",
       "      <td>121.0</td>\n",
       "    </tr>\n",
       "    <tr>\n",
       "      <th>5</th>\n",
       "      <td>10</td>\n",
       "      <td>2890000.0</td>\n",
       "      <td>30.40</td>\n",
       "      <td>2018-09-10T00:00:00</td>\n",
       "      <td>1</td>\n",
       "      <td>NaN</td>\n",
       "      <td>12.0</td>\n",
       "      <td>14.40</td>\n",
       "      <td>5</td>\n",
       "      <td>NaN</td>\n",
       "      <td>...</td>\n",
       "      <td>9.10</td>\n",
       "      <td>NaN</td>\n",
       "      <td>городской посёлок Янино-1</td>\n",
       "      <td>NaN</td>\n",
       "      <td>NaN</td>\n",
       "      <td>NaN</td>\n",
       "      <td>NaN</td>\n",
       "      <td>NaN</td>\n",
       "      <td>NaN</td>\n",
       "      <td>55.0</td>\n",
       "    </tr>\n",
       "    <tr>\n",
       "      <th>6</th>\n",
       "      <td>6</td>\n",
       "      <td>3700000.0</td>\n",
       "      <td>37.30</td>\n",
       "      <td>2017-11-02T00:00:00</td>\n",
       "      <td>1</td>\n",
       "      <td>NaN</td>\n",
       "      <td>26.0</td>\n",
       "      <td>10.60</td>\n",
       "      <td>6</td>\n",
       "      <td>NaN</td>\n",
       "      <td>...</td>\n",
       "      <td>14.40</td>\n",
       "      <td>1.0</td>\n",
       "      <td>посёлок Парголово</td>\n",
       "      <td>52996.0</td>\n",
       "      <td>19143.0</td>\n",
       "      <td>0.0</td>\n",
       "      <td>NaN</td>\n",
       "      <td>0.0</td>\n",
       "      <td>NaN</td>\n",
       "      <td>155.0</td>\n",
       "    </tr>\n",
       "    <tr>\n",
       "      <th>7</th>\n",
       "      <td>5</td>\n",
       "      <td>7915000.0</td>\n",
       "      <td>71.60</td>\n",
       "      <td>2019-04-18T00:00:00</td>\n",
       "      <td>2</td>\n",
       "      <td>NaN</td>\n",
       "      <td>24.0</td>\n",
       "      <td>NaN</td>\n",
       "      <td>22</td>\n",
       "      <td>NaN</td>\n",
       "      <td>...</td>\n",
       "      <td>18.90</td>\n",
       "      <td>2.0</td>\n",
       "      <td>Санкт-Петербург</td>\n",
       "      <td>23982.0</td>\n",
       "      <td>11634.0</td>\n",
       "      <td>0.0</td>\n",
       "      <td>NaN</td>\n",
       "      <td>0.0</td>\n",
       "      <td>NaN</td>\n",
       "      <td>NaN</td>\n",
       "    </tr>\n",
       "    <tr>\n",
       "      <th>8</th>\n",
       "      <td>20</td>\n",
       "      <td>2900000.0</td>\n",
       "      <td>33.16</td>\n",
       "      <td>2018-05-23T00:00:00</td>\n",
       "      <td>1</td>\n",
       "      <td>NaN</td>\n",
       "      <td>27.0</td>\n",
       "      <td>15.43</td>\n",
       "      <td>26</td>\n",
       "      <td>NaN</td>\n",
       "      <td>...</td>\n",
       "      <td>8.81</td>\n",
       "      <td>NaN</td>\n",
       "      <td>посёлок Мурино</td>\n",
       "      <td>NaN</td>\n",
       "      <td>NaN</td>\n",
       "      <td>NaN</td>\n",
       "      <td>NaN</td>\n",
       "      <td>NaN</td>\n",
       "      <td>NaN</td>\n",
       "      <td>189.0</td>\n",
       "    </tr>\n",
       "    <tr>\n",
       "      <th>9</th>\n",
       "      <td>18</td>\n",
       "      <td>5400000.0</td>\n",
       "      <td>61.00</td>\n",
       "      <td>2017-02-26T00:00:00</td>\n",
       "      <td>3</td>\n",
       "      <td>2.50</td>\n",
       "      <td>9.0</td>\n",
       "      <td>43.60</td>\n",
       "      <td>7</td>\n",
       "      <td>NaN</td>\n",
       "      <td>...</td>\n",
       "      <td>6.50</td>\n",
       "      <td>2.0</td>\n",
       "      <td>Санкт-Петербург</td>\n",
       "      <td>50898.0</td>\n",
       "      <td>15008.0</td>\n",
       "      <td>0.0</td>\n",
       "      <td>NaN</td>\n",
       "      <td>0.0</td>\n",
       "      <td>NaN</td>\n",
       "      <td>289.0</td>\n",
       "    </tr>\n",
       "  </tbody>\n",
       "</table>\n",
       "<p>10 rows × 22 columns</p>\n",
       "</div>"
      ],
      "text/plain": [
       "   total_images  last_price  total_area first_day_exposition  rooms  \\\n",
       "0            20  13000000.0      108.00  2019-03-07T00:00:00      3   \n",
       "1             7   3350000.0       40.40  2018-12-04T00:00:00      1   \n",
       "2            10   5196000.0       56.00  2015-08-20T00:00:00      2   \n",
       "3             0  64900000.0      159.00  2015-07-24T00:00:00      3   \n",
       "4             2  10000000.0      100.00  2018-06-19T00:00:00      2   \n",
       "5            10   2890000.0       30.40  2018-09-10T00:00:00      1   \n",
       "6             6   3700000.0       37.30  2017-11-02T00:00:00      1   \n",
       "7             5   7915000.0       71.60  2019-04-18T00:00:00      2   \n",
       "8            20   2900000.0       33.16  2018-05-23T00:00:00      1   \n",
       "9            18   5400000.0       61.00  2017-02-26T00:00:00      3   \n",
       "\n",
       "   ceiling_height  floors_total  living_area  floor is_apartment  ...  \\\n",
       "0            2.70          16.0        51.00      8          NaN  ...   \n",
       "1             NaN          11.0        18.60      1          NaN  ...   \n",
       "2             NaN           5.0        34.30      4          NaN  ...   \n",
       "3             NaN          14.0          NaN      9          NaN  ...   \n",
       "4            3.03          14.0        32.00     13          NaN  ...   \n",
       "5             NaN          12.0        14.40      5          NaN  ...   \n",
       "6             NaN          26.0        10.60      6          NaN  ...   \n",
       "7             NaN          24.0          NaN     22          NaN  ...   \n",
       "8             NaN          27.0        15.43     26          NaN  ...   \n",
       "9            2.50           9.0        43.60      7          NaN  ...   \n",
       "\n",
       "   kitchen_area  balcony              locality_name  airports_nearest  \\\n",
       "0         25.00      NaN            Санкт-Петербург           18863.0   \n",
       "1         11.00      2.0             посёлок Шушары           12817.0   \n",
       "2          8.30      0.0            Санкт-Петербург           21741.0   \n",
       "3           NaN      0.0            Санкт-Петербург           28098.0   \n",
       "4         41.00      NaN            Санкт-Петербург           31856.0   \n",
       "5          9.10      NaN  городской посёлок Янино-1               NaN   \n",
       "6         14.40      1.0          посёлок Парголово           52996.0   \n",
       "7         18.90      2.0            Санкт-Петербург           23982.0   \n",
       "8          8.81      NaN             посёлок Мурино               NaN   \n",
       "9          6.50      2.0            Санкт-Петербург           50898.0   \n",
       "\n",
       "  cityCenters_nearest  parks_around3000  parks_nearest  ponds_around3000  \\\n",
       "0             16028.0               1.0          482.0               2.0   \n",
       "1             18603.0               0.0            NaN               0.0   \n",
       "2             13933.0               1.0           90.0               2.0   \n",
       "3              6800.0               2.0           84.0               3.0   \n",
       "4              8098.0               2.0          112.0               1.0   \n",
       "5                 NaN               NaN            NaN               NaN   \n",
       "6             19143.0               0.0            NaN               0.0   \n",
       "7             11634.0               0.0            NaN               0.0   \n",
       "8                 NaN               NaN            NaN               NaN   \n",
       "9             15008.0               0.0            NaN               0.0   \n",
       "\n",
       "   ponds_nearest  days_exposition  \n",
       "0          755.0              NaN  \n",
       "1            NaN             81.0  \n",
       "2          574.0            558.0  \n",
       "3          234.0            424.0  \n",
       "4           48.0            121.0  \n",
       "5            NaN             55.0  \n",
       "6            NaN            155.0  \n",
       "7            NaN              NaN  \n",
       "8            NaN            189.0  \n",
       "9            NaN            289.0  \n",
       "\n",
       "[10 rows x 22 columns]"
      ]
     },
     "execution_count": 5,
     "metadata": {},
     "output_type": "execute_result"
    }
   ],
   "source": [
    "df.head(10)"
   ]
  },
  {
   "cell_type": "markdown",
   "metadata": {},
   "source": [
    "### Вывод"
   ]
  },
  {
   "cell_type": "markdown",
   "metadata": {},
   "source": [
    "Уже по первым 10 строкам видно, что в данных множество пропусков. В колонке `first_day_exposition` данные указаны в виде `object` хотя и хранят дату и время публикации. В колонке `last_price` цена сохранена в в виде вещественного числа, нужно вернуть целочисленное (вряд ли люди уточняют в обьявлении цену за недвижимость до копеек). В колонке `floors_total` тоже указаны вещественные числа, количество этажей целое число (по крайней мере в готовых домах). Количество балконов нужно вернуть к целочисленным значениям. То же касательно и растояния до аэропорта, центра города, парков и их количества, водоемов и количества дней публикации. \n",
    "\n",
    "Прежде чем преступить к анализу, нужно превести данные к порядку. "
   ]
  },
  {
   "cell_type": "markdown",
   "metadata": {},
   "source": [
    "## Предобработка данных"
   ]
  },
  {
   "cell_type": "markdown",
   "metadata": {},
   "source": [
    "### Пропущеные значения"
   ]
  },
  {
   "cell_type": "markdown",
   "metadata": {},
   "source": [
    "Для начала посмотрим на пропущенные значения."
   ]
  },
  {
   "cell_type": "code",
   "execution_count": 6,
   "metadata": {},
   "outputs": [
    {
     "data": {
      "text/plain": [
       "total_images                0\n",
       "last_price                  0\n",
       "total_area                  0\n",
       "first_day_exposition        0\n",
       "rooms                       0\n",
       "ceiling_height           9195\n",
       "floors_total               86\n",
       "living_area              1903\n",
       "floor                       0\n",
       "is_apartment            20924\n",
       "studio                      0\n",
       "open_plan                   0\n",
       "kitchen_area             2278\n",
       "balcony                 11519\n",
       "locality_name              49\n",
       "airports_nearest         5542\n",
       "cityCenters_nearest      5519\n",
       "parks_around3000         5518\n",
       "parks_nearest           15620\n",
       "ponds_around3000         5518\n",
       "ponds_nearest           14589\n",
       "days_exposition          3181\n",
       "dtype: int64"
      ]
     },
     "execution_count": 6,
     "metadata": {},
     "output_type": "execute_result"
    }
   ],
   "source": [
    "df.isna().sum()"
   ]
  },
  {
   "cell_type": "markdown",
   "metadata": {},
   "source": [
    "Пойдем по порядку:\n",
    "\n",
    "* `floors_total` — всего этажей в доме, заменить средним значением не получится, пропусков всего 86.\n",
    "* `living_area` — жилая площадь в квадратных метрах (м²), заменить пропуски пока не чем.\n",
    "* `kitchen_area` — площадь кухни в квадратных метрах (м²), в разных квартирах - разная площадь кухонь, оставим пропуски без изменений.\n",
    "* `locality_name` — название населённого пункта, востановить название населенного пункта по имеющимся данным у нас не получится. Да и пропусков в этом столбце всего 49.\n",
    "* `airports_nearest` — расстояние до ближайшего аэропорта в метрах (м), и `cityCenters_nearest` — расстояние до центра города (м). В Санкт-Петербурге один центр и один аэропорт(Пулково), но уже по первым срокам датафрейма видно что пропуски у объектов находящихся в Ленинградской Области. Не понятно до какого центра города, в случае с Янино или Мурино - центром города будет центр Всеволожска, а не Санкт-Петербурга. Оставим пропуски.\n",
    "* `parks_around3000` — число парков в радиусе 3 км, и `parks_nearest` — расстояние до ближайшего парка (м). В некоторых случаях парка нет по близости, а в некоторых даже на расстоянии 3км, но наличие и отстствие данных объектов ифраструктуры может существенно влиять на стоимость недвижимости. Оставим пропуски.\n",
    "* `ponds_around3000` — число водоёмов в радиусе 3 км, `ponds_nearest` — расстояние до ближайшего водоёма (м), то же самое что и с парками. Оставим пропуски.\n",
    "* `days_exposition` — сколько дней было размещено объявление (от публикации до снятия), скорее всего объявление не было снято с публикации на момент получения данных."
   ]
  },
  {
   "cell_type": "code",
   "execution_count": 7,
   "metadata": {},
   "outputs": [],
   "source": [
    "df['locality_name'] = df['locality_name'].fillna('неизвестно') # заменим пропуски в названиях на неизвестно"
   ]
  },
  {
   "cell_type": "markdown",
   "metadata": {},
   "source": [
    "Столбцу last_price вернем целочисленное значение(в случае с недвижимостью цену в объявлении указывают без копеек):"
   ]
  },
  {
   "cell_type": "code",
   "execution_count": 8,
   "metadata": {},
   "outputs": [],
   "source": [
    "df['last_price'] = df['last_price'].astype('int')"
   ]
  },
  {
   "cell_type": "markdown",
   "metadata": {},
   "source": [
    "* высота потолков 9195 пропусков. Высота потолков в квартирах стандартно от 2.4м. до 3м.(в некоторых случаях), в среднем 2.5-2.7м. Заменим пропуски на медианное значение по столбцу."
   ]
  },
  {
   "cell_type": "code",
   "execution_count": 9,
   "metadata": {},
   "outputs": [],
   "source": [
    "df['ceiling_height'] = df['ceiling_height'].fillna(df['ceiling_height'].median()).round(1)"
   ]
  },
  {
   "cell_type": "code",
   "execution_count": 10,
   "metadata": {
    "scrolled": true
   },
   "outputs": [
    {
     "data": {
      "text/plain": [
       "0"
      ]
     },
     "execution_count": 10,
     "metadata": {},
     "output_type": "execute_result"
    }
   ],
   "source": [
    "df['ceiling_height'].isna().sum()"
   ]
  },
  {
   "cell_type": "markdown",
   "metadata": {},
   "source": [
    "Отлично. Пропусков нет."
   ]
  },
  {
   "cell_type": "markdown",
   "metadata": {},
   "source": [
    "* `is_apartment` — апартаменты, должен быть булев тип, а сейчас `object`. изменим тип данных и заменим пропуски на `False`."
   ]
  },
  {
   "cell_type": "code",
   "execution_count": 11,
   "metadata": {},
   "outputs": [],
   "source": [
    "df['is_apartment'] = df['is_apartment'].fillna(False).astype('bool')"
   ]
  },
  {
   "cell_type": "markdown",
   "metadata": {},
   "source": [
    "Проверим:"
   ]
  },
  {
   "cell_type": "code",
   "execution_count": 12,
   "metadata": {},
   "outputs": [
    {
     "data": {
      "text/plain": [
       "dtype('bool')"
      ]
     },
     "execution_count": 12,
     "metadata": {},
     "output_type": "execute_result"
    }
   ],
   "source": [
    "df['is_apartment'].dtype"
   ]
  },
  {
   "cell_type": "code",
   "execution_count": 13,
   "metadata": {},
   "outputs": [
    {
     "data": {
      "text/plain": [
       "False    23649\n",
       "True        50\n",
       "Name: is_apartment, dtype: int64"
      ]
     },
     "execution_count": 13,
     "metadata": {},
     "output_type": "execute_result"
    }
   ],
   "source": [
    "df['is_apartment'].value_counts()"
   ]
  },
  {
   "cell_type": "markdown",
   "metadata": {},
   "source": [
    "Отлично. Тип булев, пропусков нет."
   ]
  },
  {
   "cell_type": "markdown",
   "metadata": {},
   "source": [
    "* `balcony` — число балконов, 11519 пропусков. Бывают квартиры и без болконов(у меня без), среднее значение тут вряд ли подойдет. Если человек не указал наличие балкона - скорее всего его нет, заменим пропущенные значения на `0` и вернем целочисленное значение столбцу(мало кто может похвастаться половиной балкона или девятью и тремя четвертями)."
   ]
  },
  {
   "cell_type": "code",
   "execution_count": 14,
   "metadata": {},
   "outputs": [],
   "source": [
    "df['balcony'] = df['balcony'].fillna(0).astype('int')"
   ]
  },
  {
   "cell_type": "code",
   "execution_count": 15,
   "metadata": {},
   "outputs": [
    {
     "data": {
      "text/plain": [
       "dtype('int64')"
      ]
     },
     "execution_count": 15,
     "metadata": {},
     "output_type": "execute_result"
    }
   ],
   "source": [
    "df['balcony'].dtype"
   ]
  },
  {
   "cell_type": "code",
   "execution_count": 16,
   "metadata": {
    "scrolled": true
   },
   "outputs": [
    {
     "data": {
      "text/plain": [
       "0"
      ]
     },
     "execution_count": 16,
     "metadata": {},
     "output_type": "execute_result"
    }
   ],
   "source": [
    "df['balcony'].isna().sum()"
   ]
  },
  {
   "cell_type": "markdown",
   "metadata": {},
   "source": [
    "Значение верное пропусков нет."
   ]
  },
  {
   "cell_type": "code",
   "execution_count": 17,
   "metadata": {},
   "outputs": [
    {
     "data": {
      "text/plain": [
       "total_images                0\n",
       "last_price                  0\n",
       "total_area                  0\n",
       "first_day_exposition        0\n",
       "rooms                       0\n",
       "ceiling_height              0\n",
       "floors_total               86\n",
       "living_area              1903\n",
       "floor                       0\n",
       "is_apartment                0\n",
       "studio                      0\n",
       "open_plan                   0\n",
       "kitchen_area             2278\n",
       "balcony                     0\n",
       "locality_name               0\n",
       "airports_nearest         5542\n",
       "cityCenters_nearest      5519\n",
       "parks_around3000         5518\n",
       "parks_nearest           15620\n",
       "ponds_around3000         5518\n",
       "ponds_nearest           14589\n",
       "days_exposition          3181\n",
       "dtype: int64"
      ]
     },
     "execution_count": 17,
     "metadata": {},
     "output_type": "execute_result"
    }
   ],
   "source": [
    "df.isna().sum()"
   ]
  },
  {
   "cell_type": "markdown",
   "metadata": {},
   "source": [
    "## Расчёты и добавление результатов в таблицу"
   ]
  },
  {
   "cell_type": "markdown",
   "metadata": {},
   "source": [
    "### Расчитаем цену квадратного метра"
   ]
  },
  {
   "cell_type": "markdown",
   "metadata": {},
   "source": [
    "Возьмем последнюю стоимость и поделим на общюю площадь. Вернем столбцу целочисленное значение."
   ]
  },
  {
   "cell_type": "code",
   "execution_count": 18,
   "metadata": {},
   "outputs": [],
   "source": [
    "df['price_per_sqme'] = (df['last_price'] / df['total_area']).astype('int')"
   ]
  },
  {
   "cell_type": "markdown",
   "metadata": {},
   "source": [
    "Проверим наш столбец:"
   ]
  },
  {
   "cell_type": "code",
   "execution_count": 19,
   "metadata": {
    "scrolled": true
   },
   "outputs": [
    {
     "data": {
      "text/plain": [
       "0    120370\n",
       "1     82920\n",
       "2     92785\n",
       "3    408176\n",
       "4    100000\n",
       "Name: price_per_sqme, dtype: int64"
      ]
     },
     "execution_count": 19,
     "metadata": {},
     "output_type": "execute_result"
    }
   ],
   "source": [
    "df['price_per_sqme'].head()"
   ]
  },
  {
   "cell_type": "markdown",
   "metadata": {},
   "source": [
    "В некоторых случаях цена доходит до полумиллиона рублей за квадратный метр."
   ]
  },
  {
   "cell_type": "markdown",
   "metadata": {},
   "source": [
    "###  Добавим столбцы день недели, месяц и год объявления"
   ]
  },
  {
   "cell_type": "markdown",
   "metadata": {},
   "source": [
    "Приведем столбец `first_day_exposition` к правильному формату и вернем из него день недели публикации объявления:"
   ]
  },
  {
   "cell_type": "code",
   "execution_count": 20,
   "metadata": {},
   "outputs": [],
   "source": [
    "df['first_day_exposition'] = pd.to_datetime(df['first_day_exposition'], format='%Y-%m-%d %H:%M')\n",
    "df['weekday'] = df['first_day_exposition'].dt.weekday"
   ]
  },
  {
   "cell_type": "markdown",
   "metadata": {},
   "source": [
    "Создадим столбец `month` с порядковым номером месяца публикации:"
   ]
  },
  {
   "cell_type": "code",
   "execution_count": 21,
   "metadata": {},
   "outputs": [],
   "source": [
    "df['month'] = pd.DatetimeIndex(df['first_day_exposition']).month"
   ]
  },
  {
   "cell_type": "markdown",
   "metadata": {},
   "source": [
    "Создадим столбец `year` с годом публикации:"
   ]
  },
  {
   "cell_type": "code",
   "execution_count": 22,
   "metadata": {},
   "outputs": [],
   "source": [
    "df['year'] = df['first_day_exposition'].dt.isocalendar().year"
   ]
  },
  {
   "cell_type": "markdown",
   "metadata": {},
   "source": [
    "Проверим наш обновленный датафрейм:"
   ]
  },
  {
   "cell_type": "code",
   "execution_count": 23,
   "metadata": {
    "scrolled": true
   },
   "outputs": [
    {
     "data": {
      "text/html": [
       "<div>\n",
       "<style scoped>\n",
       "    .dataframe tbody tr th:only-of-type {\n",
       "        vertical-align: middle;\n",
       "    }\n",
       "\n",
       "    .dataframe tbody tr th {\n",
       "        vertical-align: top;\n",
       "    }\n",
       "\n",
       "    .dataframe thead th {\n",
       "        text-align: right;\n",
       "    }\n",
       "</style>\n",
       "<table border=\"1\" class=\"dataframe\">\n",
       "  <thead>\n",
       "    <tr style=\"text-align: right;\">\n",
       "      <th></th>\n",
       "      <th>total_images</th>\n",
       "      <th>last_price</th>\n",
       "      <th>total_area</th>\n",
       "      <th>first_day_exposition</th>\n",
       "      <th>rooms</th>\n",
       "      <th>ceiling_height</th>\n",
       "      <th>floors_total</th>\n",
       "      <th>living_area</th>\n",
       "      <th>floor</th>\n",
       "      <th>is_apartment</th>\n",
       "      <th>...</th>\n",
       "      <th>cityCenters_nearest</th>\n",
       "      <th>parks_around3000</th>\n",
       "      <th>parks_nearest</th>\n",
       "      <th>ponds_around3000</th>\n",
       "      <th>ponds_nearest</th>\n",
       "      <th>days_exposition</th>\n",
       "      <th>price_per_sqme</th>\n",
       "      <th>weekday</th>\n",
       "      <th>month</th>\n",
       "      <th>year</th>\n",
       "    </tr>\n",
       "  </thead>\n",
       "  <tbody>\n",
       "    <tr>\n",
       "      <th>0</th>\n",
       "      <td>20</td>\n",
       "      <td>13000000</td>\n",
       "      <td>108.0</td>\n",
       "      <td>2019-03-07</td>\n",
       "      <td>3</td>\n",
       "      <td>2.7</td>\n",
       "      <td>16.0</td>\n",
       "      <td>51.0</td>\n",
       "      <td>8</td>\n",
       "      <td>False</td>\n",
       "      <td>...</td>\n",
       "      <td>16028.0</td>\n",
       "      <td>1.0</td>\n",
       "      <td>482.0</td>\n",
       "      <td>2.0</td>\n",
       "      <td>755.0</td>\n",
       "      <td>NaN</td>\n",
       "      <td>120370</td>\n",
       "      <td>3</td>\n",
       "      <td>3</td>\n",
       "      <td>2019</td>\n",
       "    </tr>\n",
       "    <tr>\n",
       "      <th>1</th>\n",
       "      <td>7</td>\n",
       "      <td>3350000</td>\n",
       "      <td>40.4</td>\n",
       "      <td>2018-12-04</td>\n",
       "      <td>1</td>\n",
       "      <td>2.6</td>\n",
       "      <td>11.0</td>\n",
       "      <td>18.6</td>\n",
       "      <td>1</td>\n",
       "      <td>False</td>\n",
       "      <td>...</td>\n",
       "      <td>18603.0</td>\n",
       "      <td>0.0</td>\n",
       "      <td>NaN</td>\n",
       "      <td>0.0</td>\n",
       "      <td>NaN</td>\n",
       "      <td>81.0</td>\n",
       "      <td>82920</td>\n",
       "      <td>1</td>\n",
       "      <td>12</td>\n",
       "      <td>2018</td>\n",
       "    </tr>\n",
       "    <tr>\n",
       "      <th>2</th>\n",
       "      <td>10</td>\n",
       "      <td>5196000</td>\n",
       "      <td>56.0</td>\n",
       "      <td>2015-08-20</td>\n",
       "      <td>2</td>\n",
       "      <td>2.6</td>\n",
       "      <td>5.0</td>\n",
       "      <td>34.3</td>\n",
       "      <td>4</td>\n",
       "      <td>False</td>\n",
       "      <td>...</td>\n",
       "      <td>13933.0</td>\n",
       "      <td>1.0</td>\n",
       "      <td>90.0</td>\n",
       "      <td>2.0</td>\n",
       "      <td>574.0</td>\n",
       "      <td>558.0</td>\n",
       "      <td>92785</td>\n",
       "      <td>3</td>\n",
       "      <td>8</td>\n",
       "      <td>2015</td>\n",
       "    </tr>\n",
       "    <tr>\n",
       "      <th>3</th>\n",
       "      <td>0</td>\n",
       "      <td>64900000</td>\n",
       "      <td>159.0</td>\n",
       "      <td>2015-07-24</td>\n",
       "      <td>3</td>\n",
       "      <td>2.6</td>\n",
       "      <td>14.0</td>\n",
       "      <td>NaN</td>\n",
       "      <td>9</td>\n",
       "      <td>False</td>\n",
       "      <td>...</td>\n",
       "      <td>6800.0</td>\n",
       "      <td>2.0</td>\n",
       "      <td>84.0</td>\n",
       "      <td>3.0</td>\n",
       "      <td>234.0</td>\n",
       "      <td>424.0</td>\n",
       "      <td>408176</td>\n",
       "      <td>4</td>\n",
       "      <td>7</td>\n",
       "      <td>2015</td>\n",
       "    </tr>\n",
       "    <tr>\n",
       "      <th>4</th>\n",
       "      <td>2</td>\n",
       "      <td>10000000</td>\n",
       "      <td>100.0</td>\n",
       "      <td>2018-06-19</td>\n",
       "      <td>2</td>\n",
       "      <td>3.0</td>\n",
       "      <td>14.0</td>\n",
       "      <td>32.0</td>\n",
       "      <td>13</td>\n",
       "      <td>False</td>\n",
       "      <td>...</td>\n",
       "      <td>8098.0</td>\n",
       "      <td>2.0</td>\n",
       "      <td>112.0</td>\n",
       "      <td>1.0</td>\n",
       "      <td>48.0</td>\n",
       "      <td>121.0</td>\n",
       "      <td>100000</td>\n",
       "      <td>1</td>\n",
       "      <td>6</td>\n",
       "      <td>2018</td>\n",
       "    </tr>\n",
       "  </tbody>\n",
       "</table>\n",
       "<p>5 rows × 26 columns</p>\n",
       "</div>"
      ],
      "text/plain": [
       "   total_images  last_price  total_area first_day_exposition  rooms  \\\n",
       "0            20    13000000       108.0           2019-03-07      3   \n",
       "1             7     3350000        40.4           2018-12-04      1   \n",
       "2            10     5196000        56.0           2015-08-20      2   \n",
       "3             0    64900000       159.0           2015-07-24      3   \n",
       "4             2    10000000       100.0           2018-06-19      2   \n",
       "\n",
       "   ceiling_height  floors_total  living_area  floor  is_apartment  ...  \\\n",
       "0             2.7          16.0         51.0      8         False  ...   \n",
       "1             2.6          11.0         18.6      1         False  ...   \n",
       "2             2.6           5.0         34.3      4         False  ...   \n",
       "3             2.6          14.0          NaN      9         False  ...   \n",
       "4             3.0          14.0         32.0     13         False  ...   \n",
       "\n",
       "   cityCenters_nearest  parks_around3000  parks_nearest  ponds_around3000  \\\n",
       "0              16028.0               1.0          482.0               2.0   \n",
       "1              18603.0               0.0            NaN               0.0   \n",
       "2              13933.0               1.0           90.0               2.0   \n",
       "3               6800.0               2.0           84.0               3.0   \n",
       "4               8098.0               2.0          112.0               1.0   \n",
       "\n",
       "  ponds_nearest  days_exposition  price_per_sqme  weekday  month  year  \n",
       "0         755.0              NaN          120370        3      3  2019  \n",
       "1           NaN             81.0           82920        1     12  2018  \n",
       "2         574.0            558.0           92785        3      8  2015  \n",
       "3         234.0            424.0          408176        4      7  2015  \n",
       "4          48.0            121.0          100000        1      6  2018  \n",
       "\n",
       "[5 rows x 26 columns]"
      ]
     },
     "execution_count": 23,
     "metadata": {},
     "output_type": "execute_result"
    }
   ],
   "source": [
    "df.head()"
   ]
  },
  {
   "cell_type": "markdown",
   "metadata": {},
   "source": [
    "### Разделим квартиры по этажности\n",
    "\n",
    "где:\n",
    "\n",
    "* `первый` - на первом этаже\n",
    "* `последний` - на последнем этаже\n",
    "* `другой` - все остальный этажи"
   ]
  },
  {
   "cell_type": "code",
   "execution_count": 24,
   "metadata": {
    "scrolled": true
   },
   "outputs": [
    {
     "data": {
      "text/plain": [
       "другой       17446\n",
       "последний     3361\n",
       "первый        2892\n",
       "Name: flat_floor, dtype: int64"
      ]
     },
     "execution_count": 24,
     "metadata": {},
     "output_type": "execute_result"
    }
   ],
   "source": [
    "def flat_floor(row):\n",
    "    floor = row['floor']\n",
    "    floors_total = row['floors_total']\n",
    "    if floor == floors_total:\n",
    "        return 'последний'\n",
    "    if floor == df['floor'].min():\n",
    "        return 'первый'\n",
    "    return 'другой'\n",
    "df['flat_floor'] = df.apply(flat_floor, axis=1)\n",
    "df['flat_floor'].value_counts()"
   ]
  },
  {
   "cell_type": "markdown",
   "metadata": {},
   "source": [
    "### Посчитаем соотношение жилой и общей площади, а также отношение площади кухни к общей."
   ]
  },
  {
   "cell_type": "code",
   "execution_count": 25,
   "metadata": {},
   "outputs": [],
   "source": [
    "df['living_ratio'] = (df['living_area'] / df['total_area']).round(2) # отношение жилой площади к общей"
   ]
  },
  {
   "cell_type": "code",
   "execution_count": 26,
   "metadata": {},
   "outputs": [
    {
     "data": {
      "text/plain": [
       "0.5647449073224445"
      ]
     },
     "execution_count": 26,
     "metadata": {},
     "output_type": "execute_result"
    }
   ],
   "source": [
    "df['living_ratio'].mean()"
   ]
  },
  {
   "cell_type": "code",
   "execution_count": 27,
   "metadata": {},
   "outputs": [],
   "source": [
    "df['kitchen_ratio'] = (df['kitchen_area'] / df['total_area']).round(2) # отношение площади кухни к общей"
   ]
  },
  {
   "cell_type": "code",
   "execution_count": 28,
   "metadata": {},
   "outputs": [
    {
     "data": {
      "text/plain": [
       "0.18732132019980394"
      ]
     },
     "execution_count": 28,
     "metadata": {},
     "output_type": "execute_result"
    }
   ],
   "source": [
    "df['kitchen_ratio'].mean()"
   ]
  },
  {
   "cell_type": "markdown",
   "metadata": {},
   "source": [
    "Видно что жилая площадь занимает порядка 57% от общей, что же касается кухни, то в среднем  её площадь не привышает 20% от общей."
   ]
  },
  {
   "cell_type": "markdown",
   "metadata": {},
   "source": [
    "## Исследовательский анализ данных"
   ]
  },
  {
   "cell_type": "markdown",
   "metadata": {},
   "source": [
    "### Постриоим диаграммы для следующих параметров: общая площадь,  цена,  колличество комнат и высота потолков."
   ]
  },
  {
   "cell_type": "markdown",
   "metadata": {},
   "source": [
    "Для начала нам нужно узнать минимальную площадь недвижимости, чтобы построитьгистограмму не от ноля."
   ]
  },
  {
   "cell_type": "code",
   "execution_count": 29,
   "metadata": {
    "scrolled": true
   },
   "outputs": [
    {
     "data": {
      "text/plain": [
       "12.0"
      ]
     },
     "execution_count": 29,
     "metadata": {},
     "output_type": "execute_result"
    }
   ],
   "source": [
    "df['total_area'].min()"
   ]
  },
  {
   "cell_type": "markdown",
   "metadata": {},
   "source": [
    "Построим гистограмму общей площади недвижимости:"
   ]
  },
  {
   "cell_type": "code",
   "execution_count": 30,
   "metadata": {},
   "outputs": [
    {
     "data": {
      "image/png": "[encoded data removed]",
      "text/plain": [
       "<Figure size 432x288 with 1 Axes>"
      ]
     },
     "metadata": {
      "needs_background": "light"
     },
     "output_type": "display_data"
    }
   ],
   "source": [
    "#df['total_area'].hist(bins=20, range=(12, 900));\n",
    "df.plot(y = 'total_area', kind = 'hist', bins = 100, grid=True, range = (0,200));"
   ]
  },
  {
   "cell_type": "markdown",
   "metadata": {},
   "source": [
    "Похоже на распредиление Пуассона. Мы видим что больше всего объявлений о продаже квартир площадью около 50 квадратных метров.\n",
    "\n",
    "Далее цена:"
   ]
  },
  {
   "cell_type": "code",
   "execution_count": 31,
   "metadata": {},
   "outputs": [
    {
     "data": {
      "text/plain": [
       "count    2.369900e+04\n",
       "mean     6.541549e+06\n",
       "std      1.088701e+07\n",
       "min      1.219000e+04\n",
       "25%      3.400000e+06\n",
       "50%      4.650000e+06\n",
       "75%      6.800000e+06\n",
       "max      7.630000e+08\n",
       "Name: last_price, dtype: float64"
      ]
     },
     "execution_count": 31,
     "metadata": {},
     "output_type": "execute_result"
    }
   ],
   "source": [
    "df['last_price'].describe()"
   ]
  },
  {
   "cell_type": "markdown",
   "metadata": {},
   "source": [
    "Стоимость большинства объектов недвижимости не превышает 68 миллионов рублей, возьмем эту цифру как правую границу гистограммы (брать 763 миллиона нет смысла, так как на гистограмме это не отобразится)."
   ]
  },
  {
   "cell_type": "code",
   "execution_count": 32,
   "metadata": {},
   "outputs": [
    {
     "data": {
      "image/png": "[encoded data removed]",
      "text/plain": [
       "<Figure size 432x288 with 1 Axes>"
      ]
     },
     "metadata": {
      "needs_background": "light"
     },
     "output_type": "display_data"
    }
   ],
   "source": [
    "#df['last_price'].hist(bins=100, range=(0, 68*1e6));\n",
    "df.plot(y = 'last_price', kind = 'hist', bins = 100, grid=True, range = (0,15000000));"
   ]
  },
  {
   "cell_type": "markdown",
   "metadata": {},
   "source": [
    "Разброс цен велик, от стоимости недвижимости в 12190 рублей и до астрономических цен более полумиллиарда. Если отсечь значения свыше 15 миллионов будет похоже на распредиление Гауса, но пока больше похоже на распредиление Пуассона.\n",
    "\n",
    "Количество комнат:"
   ]
  },
  {
   "cell_type": "code",
   "execution_count": 33,
   "metadata": {},
   "outputs": [
    {
     "data": {
      "image/png": "[encoded data removed]",
      "text/plain": [
       "<Figure size 432x288 with 1 Axes>"
      ]
     },
     "metadata": {
      "needs_background": "light"
     },
     "output_type": "display_data"
    }
   ],
   "source": [
    "df['rooms'].hist(bins=8, range=(0, 8));"
   ]
  },
  {
   "cell_type": "markdown",
   "metadata": {},
   "source": [
    "Тут мы видим что в продаже больше сего 1 и 2 комнатных квартир. Далее по убыванию 3, 4 и т.п.. Но встречаются и квартиры с числом комнат 0- это либо ошибка, либо студии и квартиры с открытой планировкой.\n",
    "\n",
    "Высота потолков:"
   ]
  },
  {
   "cell_type": "code",
   "execution_count": 34,
   "metadata": {},
   "outputs": [
    {
     "data": {
      "image/png": "[encoded data removed]",
      "text/plain": [
       "<Figure size 432x288 with 1 Axes>"
      ]
     },
     "metadata": {
      "needs_background": "light"
     },
     "output_type": "display_data"
    }
   ],
   "source": [
    "df['ceiling_height'].hist(bins = 30, range = (2,5)); # если закоментировать результат замены пропусков картина не меняется."
   ]
  },
  {
   "cell_type": "markdown",
   "metadata": {},
   "source": [
    "Как и ожидалось высота потолка в районе 2.7 метра стандартна для большенства квартир. Так же похоже на распредиление Пуассона."
   ]
  },
  {
   "cell_type": "markdown",
   "metadata": {},
   "source": [
    "### Изучим время продажи квартир"
   ]
  },
  {
   "cell_type": "code",
   "execution_count": 35,
   "metadata": {},
   "outputs": [
    {
     "data": {
      "text/plain": [
       "count    20518.000000\n",
       "mean       180.888634\n",
       "std        219.727988\n",
       "min          1.000000\n",
       "25%         45.000000\n",
       "50%         95.000000\n",
       "75%        232.000000\n",
       "max       1580.000000\n",
       "Name: days_exposition, dtype: float64"
      ]
     },
     "execution_count": 35,
     "metadata": {},
     "output_type": "execute_result"
    }
   ],
   "source": [
    "df['days_exposition'].describe()"
   ]
  },
  {
   "cell_type": "code",
   "execution_count": 36,
   "metadata": {
    "scrolled": true
   },
   "outputs": [
    {
     "data": {
      "image/png": "[encoded data removed]",
      "text/plain": [
       "<Figure size 432x288 with 1 Axes>"
      ]
     },
     "metadata": {
      "needs_background": "light"
     },
     "output_type": "display_data"
    }
   ],
   "source": [
    "df['days_exposition'].hist(bins=100);"
   ]
  },
  {
   "cell_type": "markdown",
   "metadata": {},
   "source": [
    "Мы видим распределение Пуассона. И некоторые аномалии. Так на графике видно пики в районе 10, 50 и 100 дней. Отсеим значения более 250 дней (так как 75% обьявлений сняты с публикации в пределах 232 дней) чтобы посмотреть на эти пики и изучить их по подробнее."
   ]
  },
  {
   "cell_type": "code",
   "execution_count": 37,
   "metadata": {},
   "outputs": [
    {
     "data": {
      "image/png": "[encoded data removed]",
      "text/plain": [
       "<Figure size 432x288 with 1 Axes>"
      ]
     },
     "metadata": {
      "needs_background": "light"
     },
     "output_type": "display_data"
    }
   ],
   "source": [
    "df['days_exposition'].hist(bins=180, range = (1,250));"
   ]
  },
  {
   "cell_type": "code",
   "execution_count": 38,
   "metadata": {},
   "outputs": [
    {
     "data": {
      "text/plain": [
       "45.0      880\n",
       "60.0      538\n",
       "7.0       234\n",
       "30.0      208\n",
       "90.0      204\n",
       "         ... \n",
       "969.0       1\n",
       "1.0         1\n",
       "1147.0      1\n",
       "1148.0      1\n",
       "1174.0      1\n",
       "Name: days_exposition, Length: 1141, dtype: int64"
      ]
     },
     "execution_count": 38,
     "metadata": {},
     "output_type": "execute_result"
    }
   ],
   "source": [
    "df['days_exposition'].value_counts()"
   ]
  },
  {
   "cell_type": "code",
   "execution_count": 39,
   "metadata": {},
   "outputs": [
    {
     "data": {
      "image/png": "[encoded data removed]",
      "text/plain": [
       "<Figure size 432x288 with 1 Axes>"
      ]
     },
     "metadata": {
      "needs_background": "light"
     },
     "output_type": "display_data"
    }
   ],
   "source": [
    "plt.boxplot(df['days_exposition'])\n",
    "plt.ylim(1,1580);"
   ]
  },
  {
   "cell_type": "markdown",
   "metadata": {},
   "source": [
    "Аномальных пиков оказалось чуть больше, они соответствуют 7, 30, 45, 60 и 90 дней. В данном случае не понятно появление аномалий, но прослеживается некоторая последовательность (неделя, месяц, полтора месяца, два месяца и три месяца). Нужно посмотреть что на это скажут астрологи, может при продаже недвижимости, этим срокам благоприятствуют планеты или звезды. Но скорее всего дело в чем-то другом. Нужно посмотреть на среднее и медиану."
   ]
  },
  {
   "cell_type": "markdown",
   "metadata": {},
   "source": [
    "Конечно медиана близка к значению 90 дней но всё же не ровна. Нужно искать дальше, слишком много значений, просто так удалять не выяснив причину мы их не можем."
   ]
  },
  {
   "cell_type": "markdown",
   "metadata": {},
   "source": [
    "Исходя из полученных данных быстрыми можно считать продажи завершенные менее чем за 45 дней, те продажи что длятся более 232 дней можно считать необычно долгими. Те же продажи что лежат в промежутке от 45 до 232 дней можно считать нормальными."
   ]
  },
  {
   "cell_type": "markdown",
   "metadata": {},
   "source": [
    "### Редкие и выбивающиеся значения."
   ]
  },
  {
   "cell_type": "code",
   "execution_count": 40,
   "metadata": {},
   "outputs": [
    {
     "data": {
      "image/png": "[encoded data removed]",
      "text/plain": [
       "<Figure size 432x288 with 1 Axes>"
      ]
     },
     "metadata": {
      "needs_background": "light"
     },
     "output_type": "display_data"
    }
   ],
   "source": [
    "df.plot(x='last_price', y='total_area', kind='scatter', grid=True );"
   ]
  },
  {
   "cell_type": "markdown",
   "metadata": {},
   "source": [
    "Мы видим за пределами 400 квадратных метров и 200 миллионами рублей расположены аномальные и редкие квартиры. не все из них ошибки, но значения на столько велики, что существенно влияют на все показатели. Нужно посмотреть на отношение цены к другим показателям.  "
   ]
  },
  {
   "cell_type": "code",
   "execution_count": 41,
   "metadata": {},
   "outputs": [
    {
     "data": {
      "image/png": "[encoded data removed]",
      "text/plain": [
       "<Figure size 432x288 with 1 Axes>"
      ]
     },
     "metadata": {
      "needs_background": "light"
     },
     "output_type": "display_data"
    }
   ],
   "source": [
    "df.plot(x='last_price', y='rooms', kind='scatter', grid=True );"
   ]
  },
  {
   "cell_type": "markdown",
   "metadata": {},
   "source": [
    "Такая же ситуация наблюдается и с квартирами свыше 10 комнат."
   ]
  },
  {
   "cell_type": "code",
   "execution_count": 42,
   "metadata": {
    "scrolled": true
   },
   "outputs": [
    {
     "data": {
      "image/png": "[encoded data removed]",
      "text/plain": [
       "<Figure size 432x288 with 1 Axes>"
      ]
     },
     "metadata": {
      "needs_background": "light"
     },
     "output_type": "display_data"
    }
   ],
   "source": [
    "df.plot(x='last_price', y='ceiling_height', kind='scatter', grid=True );"
   ]
  },
  {
   "cell_type": "markdown",
   "metadata": {},
   "source": [
    "Согласно открытых источников, максимальная высота потолков в Петербурге достигает 4,5 метра, в некоторых квартирах на мандсардных этажах. Можно все значения превышающие 4,5 метра отсечь так как это аномалии."
   ]
  },
  {
   "cell_type": "code",
   "execution_count": 43,
   "metadata": {},
   "outputs": [
    {
     "data": {
      "image/png": "[encoded data removed]",
      "text/plain": [
       "<Figure size 432x288 with 1 Axes>"
      ]
     },
     "metadata": {
      "needs_background": "light"
     },
     "output_type": "display_data"
    }
   ],
   "source": [
    "df.plot(x='last_price', y='floors_total', kind='scatter', grid=True );"
   ]
  },
  {
   "cell_type": "markdown",
   "metadata": {},
   "source": [
    "`Кназь Александр Невский` - самый высокий жилой дом в Петербурге, его высота 126 метров и 37 этажей, 35 над землей и 2 под землей. Так что все значения `floors_total` свыше 35 можно смело удалять."
   ]
  },
  {
   "cell_type": "code",
   "execution_count": 44,
   "metadata": {},
   "outputs": [],
   "source": [
    "df = df.loc[df['total_area'] < 400] # удалим все объявления с площадью более 400 квадратных метров\n",
    "df = df.loc[df['last_price'] < 2*1e8] # удалим все объявления стоимостью более 200 миллионов рублей\n",
    "df = df.loc[df['rooms'] <= 8] # удалим все объявления с колличеством комнат более 10\n",
    "df = df.loc[df['ceiling_height'] <= 4.5] # удалим все объявления с высотой потолков выше 4.5 метров\n",
    "df = df.loc[df['floors_total'] <= 35] # удалим все объявления где этажей больше 35"
   ]
  },
  {
   "cell_type": "code",
   "execution_count": 45,
   "metadata": {},
   "outputs": [
    {
     "data": {
      "text/html": [
       "<div>\n",
       "<style scoped>\n",
       "    .dataframe tbody tr th:only-of-type {\n",
       "        vertical-align: middle;\n",
       "    }\n",
       "\n",
       "    .dataframe tbody tr th {\n",
       "        vertical-align: top;\n",
       "    }\n",
       "\n",
       "    .dataframe thead th {\n",
       "        text-align: right;\n",
       "    }\n",
       "</style>\n",
       "<table border=\"1\" class=\"dataframe\">\n",
       "  <thead>\n",
       "    <tr style=\"text-align: right;\">\n",
       "      <th></th>\n",
       "      <th>total_images</th>\n",
       "      <th>last_price</th>\n",
       "      <th>total_area</th>\n",
       "      <th>rooms</th>\n",
       "      <th>ceiling_height</th>\n",
       "      <th>floors_total</th>\n",
       "      <th>living_area</th>\n",
       "      <th>floor</th>\n",
       "      <th>kitchen_area</th>\n",
       "      <th>balcony</th>\n",
       "      <th>...</th>\n",
       "      <th>parks_nearest</th>\n",
       "      <th>ponds_around3000</th>\n",
       "      <th>ponds_nearest</th>\n",
       "      <th>days_exposition</th>\n",
       "      <th>price_per_sqme</th>\n",
       "      <th>weekday</th>\n",
       "      <th>month</th>\n",
       "      <th>year</th>\n",
       "      <th>living_ratio</th>\n",
       "      <th>kitchen_ratio</th>\n",
       "    </tr>\n",
       "  </thead>\n",
       "  <tbody>\n",
       "    <tr>\n",
       "      <th>count</th>\n",
       "      <td>23522.000000</td>\n",
       "      <td>2.352200e+04</td>\n",
       "      <td>23522.000000</td>\n",
       "      <td>23522.000000</td>\n",
       "      <td>23522.000000</td>\n",
       "      <td>23522.000000</td>\n",
       "      <td>21663.000000</td>\n",
       "      <td>23522.000000</td>\n",
       "      <td>21307.000000</td>\n",
       "      <td>23522.000000</td>\n",
       "      <td>...</td>\n",
       "      <td>7992.000000</td>\n",
       "      <td>18026.000000</td>\n",
       "      <td>9014.000000</td>\n",
       "      <td>20372.000000</td>\n",
       "      <td>23522.000000</td>\n",
       "      <td>23522.000000</td>\n",
       "      <td>23522.000000</td>\n",
       "      <td>23522.000000</td>\n",
       "      <td>21663.000000</td>\n",
       "      <td>21307.000000</td>\n",
       "    </tr>\n",
       "    <tr>\n",
       "      <th>mean</th>\n",
       "      <td>9.870844</td>\n",
       "      <td>6.311170e+06</td>\n",
       "      <td>59.642082</td>\n",
       "      <td>2.059689</td>\n",
       "      <td>2.677999</td>\n",
       "      <td>10.676686</td>\n",
       "      <td>34.113740</td>\n",
       "      <td>5.875181</td>\n",
       "      <td>10.513798</td>\n",
       "      <td>0.592382</td>\n",
       "      <td>...</td>\n",
       "      <td>490.783784</td>\n",
       "      <td>0.767835</td>\n",
       "      <td>519.235412</td>\n",
       "      <td>180.740575</td>\n",
       "      <td>98913.045532</td>\n",
       "      <td>2.567851</td>\n",
       "      <td>6.403240</td>\n",
       "      <td>2017.367826</td>\n",
       "      <td>0.564837</td>\n",
       "      <td>0.187473</td>\n",
       "    </tr>\n",
       "    <tr>\n",
       "      <th>std</th>\n",
       "      <td>5.676974</td>\n",
       "      <td>7.368633e+06</td>\n",
       "      <td>31.617673</td>\n",
       "      <td>1.035696</td>\n",
       "      <td>0.218716</td>\n",
       "      <td>6.577446</td>\n",
       "      <td>20.270758</td>\n",
       "      <td>4.868089</td>\n",
       "      <td>5.721427</td>\n",
       "      <td>0.958954</td>\n",
       "      <td>...</td>\n",
       "      <td>341.941253</td>\n",
       "      <td>0.936941</td>\n",
       "      <td>277.866649</td>\n",
       "      <td>219.504452</td>\n",
       "      <td>45426.503171</td>\n",
       "      <td>1.788605</td>\n",
       "      <td>3.493228</td>\n",
       "      <td>1.039249</td>\n",
       "      <td>0.105247</td>\n",
       "      <td>0.072993</td>\n",
       "    </tr>\n",
       "    <tr>\n",
       "      <th>min</th>\n",
       "      <td>0.000000</td>\n",
       "      <td>1.219000e+04</td>\n",
       "      <td>12.000000</td>\n",
       "      <td>0.000000</td>\n",
       "      <td>1.000000</td>\n",
       "      <td>1.000000</td>\n",
       "      <td>2.000000</td>\n",
       "      <td>1.000000</td>\n",
       "      <td>1.300000</td>\n",
       "      <td>0.000000</td>\n",
       "      <td>...</td>\n",
       "      <td>1.000000</td>\n",
       "      <td>0.000000</td>\n",
       "      <td>13.000000</td>\n",
       "      <td>1.000000</td>\n",
       "      <td>111.000000</td>\n",
       "      <td>0.000000</td>\n",
       "      <td>1.000000</td>\n",
       "      <td>2014.000000</td>\n",
       "      <td>0.020000</td>\n",
       "      <td>0.030000</td>\n",
       "    </tr>\n",
       "    <tr>\n",
       "      <th>25%</th>\n",
       "      <td>6.000000</td>\n",
       "      <td>3.400000e+06</td>\n",
       "      <td>40.000000</td>\n",
       "      <td>1.000000</td>\n",
       "      <td>2.600000</td>\n",
       "      <td>5.000000</td>\n",
       "      <td>18.600000</td>\n",
       "      <td>2.000000</td>\n",
       "      <td>7.000000</td>\n",
       "      <td>0.000000</td>\n",
       "      <td>...</td>\n",
       "      <td>288.000000</td>\n",
       "      <td>0.000000</td>\n",
       "      <td>295.000000</td>\n",
       "      <td>45.000000</td>\n",
       "      <td>76562.000000</td>\n",
       "      <td>1.000000</td>\n",
       "      <td>3.000000</td>\n",
       "      <td>2017.000000</td>\n",
       "      <td>0.500000</td>\n",
       "      <td>0.130000</td>\n",
       "    </tr>\n",
       "    <tr>\n",
       "      <th>50%</th>\n",
       "      <td>9.000000</td>\n",
       "      <td>4.620000e+06</td>\n",
       "      <td>52.000000</td>\n",
       "      <td>2.000000</td>\n",
       "      <td>2.600000</td>\n",
       "      <td>9.000000</td>\n",
       "      <td>30.000000</td>\n",
       "      <td>4.000000</td>\n",
       "      <td>9.100000</td>\n",
       "      <td>0.000000</td>\n",
       "      <td>...</td>\n",
       "      <td>455.000000</td>\n",
       "      <td>1.000000</td>\n",
       "      <td>503.000000</td>\n",
       "      <td>95.000000</td>\n",
       "      <td>94960.000000</td>\n",
       "      <td>3.000000</td>\n",
       "      <td>6.000000</td>\n",
       "      <td>2017.000000</td>\n",
       "      <td>0.570000</td>\n",
       "      <td>0.170000</td>\n",
       "    </tr>\n",
       "    <tr>\n",
       "      <th>75%</th>\n",
       "      <td>14.000000</td>\n",
       "      <td>6.750000e+06</td>\n",
       "      <td>69.500000</td>\n",
       "      <td>3.000000</td>\n",
       "      <td>2.700000</td>\n",
       "      <td>16.000000</td>\n",
       "      <td>42.200000</td>\n",
       "      <td>8.000000</td>\n",
       "      <td>12.000000</td>\n",
       "      <td>1.000000</td>\n",
       "      <td>...</td>\n",
       "      <td>612.000000</td>\n",
       "      <td>1.000000</td>\n",
       "      <td>732.000000</td>\n",
       "      <td>231.000000</td>\n",
       "      <td>114090.750000</td>\n",
       "      <td>4.000000</td>\n",
       "      <td>10.000000</td>\n",
       "      <td>2018.000000</td>\n",
       "      <td>0.640000</td>\n",
       "      <td>0.230000</td>\n",
       "    </tr>\n",
       "    <tr>\n",
       "      <th>max</th>\n",
       "      <td>50.000000</td>\n",
       "      <td>1.908700e+08</td>\n",
       "      <td>380.000000</td>\n",
       "      <td>8.000000</td>\n",
       "      <td>4.500000</td>\n",
       "      <td>35.000000</td>\n",
       "      <td>260.000000</td>\n",
       "      <td>33.000000</td>\n",
       "      <td>107.000000</td>\n",
       "      <td>5.000000</td>\n",
       "      <td>...</td>\n",
       "      <td>3190.000000</td>\n",
       "      <td>3.000000</td>\n",
       "      <td>1344.000000</td>\n",
       "      <td>1580.000000</td>\n",
       "      <td>995983.000000</td>\n",
       "      <td>6.000000</td>\n",
       "      <td>12.000000</td>\n",
       "      <td>2019.000000</td>\n",
       "      <td>1.000000</td>\n",
       "      <td>0.790000</td>\n",
       "    </tr>\n",
       "  </tbody>\n",
       "</table>\n",
       "<p>8 rows × 23 columns</p>\n",
       "</div>"
      ],
      "text/plain": [
       "       total_images    last_price    total_area         rooms  ceiling_height  \\\n",
       "count  23522.000000  2.352200e+04  23522.000000  23522.000000    23522.000000   \n",
       "mean       9.870844  6.311170e+06     59.642082      2.059689        2.677999   \n",
       "std        5.676974  7.368633e+06     31.617673      1.035696        0.218716   \n",
       "min        0.000000  1.219000e+04     12.000000      0.000000        1.000000   \n",
       "25%        6.000000  3.400000e+06     40.000000      1.000000        2.600000   \n",
       "50%        9.000000  4.620000e+06     52.000000      2.000000        2.600000   \n",
       "75%       14.000000  6.750000e+06     69.500000      3.000000        2.700000   \n",
       "max       50.000000  1.908700e+08    380.000000      8.000000        4.500000   \n",
       "\n",
       "       floors_total   living_area         floor  kitchen_area       balcony  \\\n",
       "count  23522.000000  21663.000000  23522.000000  21307.000000  23522.000000   \n",
       "mean      10.676686     34.113740      5.875181     10.513798      0.592382   \n",
       "std        6.577446     20.270758      4.868089      5.721427      0.958954   \n",
       "min        1.000000      2.000000      1.000000      1.300000      0.000000   \n",
       "25%        5.000000     18.600000      2.000000      7.000000      0.000000   \n",
       "50%        9.000000     30.000000      4.000000      9.100000      0.000000   \n",
       "75%       16.000000     42.200000      8.000000     12.000000      1.000000   \n",
       "max       35.000000    260.000000     33.000000    107.000000      5.000000   \n",
       "\n",
       "       ...  parks_nearest  ponds_around3000  ponds_nearest  days_exposition  \\\n",
       "count  ...    7992.000000      18026.000000    9014.000000     20372.000000   \n",
       "mean   ...     490.783784          0.767835     519.235412       180.740575   \n",
       "std    ...     341.941253          0.936941     277.866649       219.504452   \n",
       "min    ...       1.000000          0.000000      13.000000         1.000000   \n",
       "25%    ...     288.000000          0.000000     295.000000        45.000000   \n",
       "50%    ...     455.000000          1.000000     503.000000        95.000000   \n",
       "75%    ...     612.000000          1.000000     732.000000       231.000000   \n",
       "max    ...    3190.000000          3.000000    1344.000000      1580.000000   \n",
       "\n",
       "       price_per_sqme       weekday         month          year  living_ratio  \\\n",
       "count    23522.000000  23522.000000  23522.000000  23522.000000  21663.000000   \n",
       "mean     98913.045532      2.567851      6.403240   2017.367826      0.564837   \n",
       "std      45426.503171      1.788605      3.493228      1.039249      0.105247   \n",
       "min        111.000000      0.000000      1.000000   2014.000000      0.020000   \n",
       "25%      76562.000000      1.000000      3.000000   2017.000000      0.500000   \n",
       "50%      94960.000000      3.000000      6.000000   2017.000000      0.570000   \n",
       "75%     114090.750000      4.000000     10.000000   2018.000000      0.640000   \n",
       "max     995983.000000      6.000000     12.000000   2019.000000      1.000000   \n",
       "\n",
       "       kitchen_ratio  \n",
       "count   21307.000000  \n",
       "mean        0.187473  \n",
       "std         0.072993  \n",
       "min         0.030000  \n",
       "25%         0.130000  \n",
       "50%         0.170000  \n",
       "75%         0.230000  \n",
       "max         0.790000  \n",
       "\n",
       "[8 rows x 23 columns]"
      ]
     },
     "execution_count": 45,
     "metadata": {},
     "output_type": "execute_result"
    }
   ],
   "source": [
    "df.describe()"
   ]
  },
  {
   "cell_type": "markdown",
   "metadata": {},
   "source": [
    "Теперь данные выглядят более правдоподобно. Едем дальше."
   ]
  },
  {
   "cell_type": "markdown",
   "metadata": {},
   "source": [
    "### Факторы влияющие на стоимость квартиры."
   ]
  },
  {
   "cell_type": "markdown",
   "metadata": {},
   "source": [
    "Проверим зависимость цены квартиры от её площади:"
   ]
  },
  {
   "cell_type": "code",
   "execution_count": 46,
   "metadata": {},
   "outputs": [
    {
     "data": {
      "image/png": "[encoded data removed]",
      "text/plain": [
       "<Figure size 432x288 with 1 Axes>"
      ]
     },
     "metadata": {
      "needs_background": "light"
     },
     "output_type": "display_data"
    }
   ],
   "source": [
    "df.plot(x='total_area', y='last_price', kind='scatter', grid=True, alpha = 0.4);"
   ]
  },
  {
   "cell_type": "markdown",
   "metadata": {},
   "source": [
    "Зависимость присутствует, но слабая. С увеличением площади стоимость квартир растет, но не прапорционально."
   ]
  },
  {
   "cell_type": "markdown",
   "metadata": {},
   "source": [
    "Проверим зависимость цены квартиры от числа комнат:"
   ]
  },
  {
   "cell_type": "code",
   "execution_count": 47,
   "metadata": {
    "scrolled": true
   },
   "outputs": [
    {
     "data": {
      "image/png": "[encoded data removed]",
      "text/plain": [
       "<Figure size 432x288 with 1 Axes>"
      ]
     },
     "metadata": {
      "needs_background": "light"
     },
     "output_type": "display_data"
    }
   ],
   "source": [
    "df.plot(x='rooms', y='last_price', kind='scatter');"
   ]
  },
  {
   "cell_type": "markdown",
   "metadata": {},
   "source": [
    "С увеличением числа комнат стоимость объекта недвижимости растет, но только до 5 комнат, дальше падает. Это может быть связано с тем что на рынке присутствуют расселенные коммунальные квартиры, коих в Петербурге всё еще много, такие квартиры стоят дешевле аналогичных по площади и числу комнат, так как требуют немалых вложений.\n",
    "Посмотрим на зависимость цены от удаленности от центра:"
   ]
  },
  {
   "cell_type": "code",
   "execution_count": 48,
   "metadata": {},
   "outputs": [
    {
     "data": {
      "image/png": "[encoded data removed]",
      "text/plain": [
       "<Figure size 432x288 with 1 Axes>"
      ]
     },
     "metadata": {
      "needs_background": "light"
     },
     "output_type": "display_data"
    }
   ],
   "source": [
    "df.plot(x='cityCenters_nearest', y='last_price', kind='scatter', grid=True);"
   ]
  },
  {
   "cell_type": "markdown",
   "metadata": {},
   "source": [
    "Тут наблюдается прямая зависимость, чем ближе к центру тем стоимость выше.\n",
    "\n",
    "Зависимость от этажа:"
   ]
  },
  {
   "cell_type": "code",
   "execution_count": 49,
   "metadata": {
    "scrolled": true
   },
   "outputs": [
    {
     "data": {
      "image/png": "[encoded data removed]",
      "text/plain": [
       "<Figure size 432x288 with 1 Axes>"
      ]
     },
     "metadata": {
      "needs_background": "light"
     },
     "output_type": "display_data"
    }
   ],
   "source": [
    "df.plot(x='flat_floor', y='last_price', kind='scatter', grid=True);"
   ]
  },
  {
   "cell_type": "markdown",
   "metadata": {},
   "source": [
    "Нет прямой зависимости. На первом этаже квартиры стоят чуть дешевле чем на последнем, но есть некоторые квартиры расположенные на других этажах которые стоят дороже.\n",
    "\n",
    "Посмотрим на день недели:"
   ]
  },
  {
   "cell_type": "code",
   "execution_count": 50,
   "metadata": {
    "scrolled": true
   },
   "outputs": [
    {
     "data": {
      "image/png": "[encoded data removed]",
      "text/plain": [
       "<Figure size 432x288 with 1 Axes>"
      ]
     },
     "metadata": {
      "needs_background": "light"
     },
     "output_type": "display_data"
    }
   ],
   "source": [
    "df.plot(x='weekday', y='last_price', kind='scatter', grid=True);"
   ]
  },
  {
   "cell_type": "markdown",
   "metadata": {},
   "source": [
    "Как и ожидалось день размещения объявления не имеют влияния но стоимость квартир.\n",
    "\n",
    "Есть ли зависимость от сезона, проверим стоимость квартир по месяцам:"
   ]
  },
  {
   "cell_type": "code",
   "execution_count": 51,
   "metadata": {},
   "outputs": [
    {
     "data": {
      "image/png": "[encoded data removed]",
      "text/plain": [
       "<Figure size 432x288 with 1 Axes>"
      ]
     },
     "metadata": {
      "needs_background": "light"
     },
     "output_type": "display_data"
    }
   ],
   "source": [
    "df.plot(x='month', y='last_price', kind='scatter', grid=True);"
   ]
  },
  {
   "cell_type": "markdown",
   "metadata": {},
   "source": [
    "Как и в случае с неделями значения колеблются, но существенного влияния не оказывают.\n",
    "\n",
    "Посмотрим что у нас по годам:"
   ]
  },
  {
   "cell_type": "code",
   "execution_count": 52,
   "metadata": {},
   "outputs": [
    {
     "data": {
      "image/png": "[encoded data removed]",
      "text/plain": [
       "<Figure size 432x288 with 1 Axes>"
      ]
     },
     "metadata": {
      "needs_background": "light"
     },
     "output_type": "display_data"
    }
   ],
   "source": [
    "df.plot(x='year', y='last_price', kind='scatter', grid=True);"
   ]
  },
  {
   "cell_type": "markdown",
   "metadata": {},
   "source": [
    "Существенный рост в 2015 году по отношению к 2014, далее плавный рост до 2018, а вот в 2019 году наблюдается некоторое снижение."
   ]
  },
  {
   "cell_type": "markdown",
   "metadata": {},
   "source": [
    "Подводя промежуточный вывод, можно с уверенностью сказать:\n",
    "\n",
    "* стоимость недвижимости растет по мере приближения к центру города\n",
    "* с каждым годом наблюдается рост стоимости недвижимости\n",
    "* увеличение числа комнат, в большенстве случаев, ведет к увеличению стоимости квартиры\n",
    "* квартиры на последнем этаже дороже тех что на первом\n",
    "* сезонность и день недели не влияют на стоимость квартир в Петербурге"
   ]
  },
  {
   "cell_type": "markdown",
   "metadata": {},
   "source": [
    "###  Населенные пункты с наибольшим количеством объявлений."
   ]
  },
  {
   "cell_type": "markdown",
   "metadata": {},
   "source": [
    "Выберем 10 населенных пунктов с наибольшим колличеством объявлений:"
   ]
  },
  {
   "cell_type": "code",
   "execution_count": 53,
   "metadata": {},
   "outputs": [
    {
     "data": {
      "text/plain": [
       "Санкт-Петербург      15574\n",
       "посёлок Мурино         518\n",
       "посёлок Шушары         439\n",
       "Всеволожск             398\n",
       "Пушкин                 369\n",
       "Колпино                338\n",
       "посёлок Парголово      327\n",
       "Гатчина                306\n",
       "деревня Кудрово        299\n",
       "Выборг                 237\n",
       "Name: locality_name, dtype: int64"
      ]
     },
     "execution_count": 53,
     "metadata": {},
     "output_type": "execute_result"
    }
   ],
   "source": [
    "df['locality_name'].value_counts().head(10)"
   ]
  },
  {
   "cell_type": "markdown",
   "metadata": {},
   "source": [
    "Посчитаем среднюю стоимость квадратного метра для каждого:"
   ]
  },
  {
   "cell_type": "code",
   "execution_count": 54,
   "metadata": {},
   "outputs": [
    {
     "data": {
      "text/html": [
       "<div>\n",
       "<style scoped>\n",
       "    .dataframe tbody tr th:only-of-type {\n",
       "        vertical-align: middle;\n",
       "    }\n",
       "\n",
       "    .dataframe tbody tr th {\n",
       "        vertical-align: top;\n",
       "    }\n",
       "\n",
       "    .dataframe thead th {\n",
       "        text-align: right;\n",
       "    }\n",
       "</style>\n",
       "<table border=\"1\" class=\"dataframe\">\n",
       "  <thead>\n",
       "    <tr style=\"text-align: right;\">\n",
       "      <th></th>\n",
       "      <th>count</th>\n",
       "      <th>mean</th>\n",
       "    </tr>\n",
       "    <tr>\n",
       "      <th>locality_name</th>\n",
       "      <th></th>\n",
       "      <th></th>\n",
       "    </tr>\n",
       "  </thead>\n",
       "  <tbody>\n",
       "    <tr>\n",
       "      <th>Санкт-Петербург</th>\n",
       "      <td>15574</td>\n",
       "      <td>114179</td>\n",
       "    </tr>\n",
       "    <tr>\n",
       "      <th>посёлок Мурино</th>\n",
       "      <td>518</td>\n",
       "      <td>85645</td>\n",
       "    </tr>\n",
       "    <tr>\n",
       "      <th>посёлок Шушары</th>\n",
       "      <td>439</td>\n",
       "      <td>78550</td>\n",
       "    </tr>\n",
       "    <tr>\n",
       "      <th>Всеволожск</th>\n",
       "      <td>398</td>\n",
       "      <td>68654</td>\n",
       "    </tr>\n",
       "    <tr>\n",
       "      <th>Пушкин</th>\n",
       "      <td>369</td>\n",
       "      <td>103125</td>\n",
       "    </tr>\n",
       "    <tr>\n",
       "      <th>Колпино</th>\n",
       "      <td>338</td>\n",
       "      <td>75424</td>\n",
       "    </tr>\n",
       "    <tr>\n",
       "      <th>посёлок Парголово</th>\n",
       "      <td>327</td>\n",
       "      <td>90175</td>\n",
       "    </tr>\n",
       "    <tr>\n",
       "      <th>Гатчина</th>\n",
       "      <td>306</td>\n",
       "      <td>68757</td>\n",
       "    </tr>\n",
       "    <tr>\n",
       "      <th>деревня Кудрово</th>\n",
       "      <td>299</td>\n",
       "      <td>92473</td>\n",
       "    </tr>\n",
       "    <tr>\n",
       "      <th>Выборг</th>\n",
       "      <td>237</td>\n",
       "      <td>58141</td>\n",
       "    </tr>\n",
       "  </tbody>\n",
       "</table>\n",
       "</div>"
      ],
      "text/plain": [
       "                   count    mean\n",
       "locality_name                   \n",
       "Санкт-Петербург    15574  114179\n",
       "посёлок Мурино       518   85645\n",
       "посёлок Шушары       439   78550\n",
       "Всеволожск           398   68654\n",
       "Пушкин               369  103125\n",
       "Колпино              338   75424\n",
       "посёлок Парголово    327   90175\n",
       "Гатчина              306   68757\n",
       "деревня Кудрово      299   92473\n",
       "Выборг               237   58141"
      ]
     },
     "execution_count": 54,
     "metadata": {},
     "output_type": "execute_result"
    }
   ],
   "source": [
    "locality_price = df.pivot_table(index = 'locality_name', values = 'price_per_sqme', aggfunc=['count','mean']).astype('int')\n",
    "locality_price.columns = ['count','mean']\n",
    "locality_price = locality_price.sort_values('count', ascending = False).head(10)\n",
    "locality_price  # без сводных таблиц никуда!"
   ]
  },
  {
   "cell_type": "code",
   "execution_count": 55,
   "metadata": {
    "scrolled": true
   },
   "outputs": [
    {
     "data": {
      "text/html": [
       "<div>\n",
       "<style scoped>\n",
       "    .dataframe tbody tr th:only-of-type {\n",
       "        vertical-align: middle;\n",
       "    }\n",
       "\n",
       "    .dataframe tbody tr th {\n",
       "        vertical-align: top;\n",
       "    }\n",
       "\n",
       "    .dataframe thead th {\n",
       "        text-align: right;\n",
       "    }\n",
       "</style>\n",
       "<table border=\"1\" class=\"dataframe\">\n",
       "  <thead>\n",
       "    <tr style=\"text-align: right;\">\n",
       "      <th></th>\n",
       "      <th>count</th>\n",
       "      <th>mean</th>\n",
       "    </tr>\n",
       "    <tr>\n",
       "      <th>locality_name</th>\n",
       "      <th></th>\n",
       "      <th></th>\n",
       "    </tr>\n",
       "  </thead>\n",
       "  <tbody>\n",
       "    <tr>\n",
       "      <th>Санкт-Петербург</th>\n",
       "      <td>15574</td>\n",
       "      <td>114179</td>\n",
       "    </tr>\n",
       "  </tbody>\n",
       "</table>\n",
       "</div>"
      ],
      "text/plain": [
       "                 count    mean\n",
       "locality_name                 \n",
       "Санкт-Петербург  15574  114179"
      ]
     },
     "execution_count": 55,
     "metadata": {},
     "output_type": "execute_result"
    }
   ],
   "source": [
    "locality_price[locality_price['mean']==locality_price['mean'].max()]"
   ]
  },
  {
   "cell_type": "code",
   "execution_count": 56,
   "metadata": {},
   "outputs": [
    {
     "data": {
      "text/html": [
       "<div>\n",
       "<style scoped>\n",
       "    .dataframe tbody tr th:only-of-type {\n",
       "        vertical-align: middle;\n",
       "    }\n",
       "\n",
       "    .dataframe tbody tr th {\n",
       "        vertical-align: top;\n",
       "    }\n",
       "\n",
       "    .dataframe thead th {\n",
       "        text-align: right;\n",
       "    }\n",
       "</style>\n",
       "<table border=\"1\" class=\"dataframe\">\n",
       "  <thead>\n",
       "    <tr style=\"text-align: right;\">\n",
       "      <th></th>\n",
       "      <th>count</th>\n",
       "      <th>mean</th>\n",
       "    </tr>\n",
       "    <tr>\n",
       "      <th>locality_name</th>\n",
       "      <th></th>\n",
       "      <th></th>\n",
       "    </tr>\n",
       "  </thead>\n",
       "  <tbody>\n",
       "    <tr>\n",
       "      <th>Выборг</th>\n",
       "      <td>237</td>\n",
       "      <td>58141</td>\n",
       "    </tr>\n",
       "  </tbody>\n",
       "</table>\n",
       "</div>"
      ],
      "text/plain": [
       "               count   mean\n",
       "locality_name              \n",
       "Выборг           237  58141"
      ]
     },
     "execution_count": 56,
     "metadata": {},
     "output_type": "execute_result"
    }
   ],
   "source": [
    "locality_price[locality_price['mean']==locality_price['mean'].min()]"
   ]
  },
  {
   "cell_type": "markdown",
   "metadata": {},
   "source": [
    "Самая высокая средняя стоимость жилья в Санкт_Петербурге и состовляет 114179 рублей за квадратный метр, а вот самая низкая в Выборге и всего 58141 рубль за квадратный метр. Ура едем в Выборг, и опять же к Финляндии близко, можно ездить за качественными продуктами!"
   ]
  },
  {
   "cell_type": "markdown",
   "metadata": {},
   "source": [
    "###  Изучим центральную часть города"
   ]
  },
  {
   "cell_type": "markdown",
   "metadata": {},
   "source": [
    "У нас есть столбец `cityCenters_nearest` в котором указано расстояние до центра города в метрах, достаточно точно но неудобно, создадим столбец `cityCenters_nearest_km` в котором будет указанно растояние до центра в киллометрах."
   ]
  },
  {
   "cell_type": "markdown",
   "metadata": {},
   "source": [
    "Пропуски в столбце `cityCenters_nearest` которые мы оставили на этапе предобработки данных, теперь будут нам серьезно мешать. Сгрупперуем пропуски в столбце `cityCenters_nearest` по `locality_name` и заменим на медианное значение так как оно более устойчиво к изменениям."
   ]
  },
  {
   "cell_type": "code",
   "execution_count": 57,
   "metadata": {},
   "outputs": [],
   "source": [
    "df['cityCenters_nearest'] = df['cityCenters_nearest'].groupby(df['locality_name']).fillna(df['cityCenters_nearest'].median()).astype('int')"
   ]
  },
  {
   "cell_type": "markdown",
   "metadata": {},
   "source": [
    "Теперь добавим столбец с расстоянием до центра в киллометрах и расчитаем среднюю стоимость на каздый километр, и для наглядности построим график с изменением цен."
   ]
  },
  {
   "cell_type": "code",
   "execution_count": 58,
   "metadata": {},
   "outputs": [
    {
     "data": {
      "text/html": [
       "<div>\n",
       "<style scoped>\n",
       "    .dataframe tbody tr th:only-of-type {\n",
       "        vertical-align: middle;\n",
       "    }\n",
       "\n",
       "    .dataframe tbody tr th {\n",
       "        vertical-align: top;\n",
       "    }\n",
       "\n",
       "    .dataframe thead th {\n",
       "        text-align: right;\n",
       "    }\n",
       "</style>\n",
       "<table border=\"1\" class=\"dataframe\">\n",
       "  <thead>\n",
       "    <tr style=\"text-align: right;\">\n",
       "      <th></th>\n",
       "      <th>price_per_sqme</th>\n",
       "    </tr>\n",
       "    <tr>\n",
       "      <th>cityCenters_nearest_km</th>\n",
       "      <th></th>\n",
       "    </tr>\n",
       "  </thead>\n",
       "  <tbody>\n",
       "    <tr>\n",
       "      <th>0</th>\n",
       "      <td>188313</td>\n",
       "    </tr>\n",
       "    <tr>\n",
       "      <th>1</th>\n",
       "      <td>152454</td>\n",
       "    </tr>\n",
       "    <tr>\n",
       "      <th>2</th>\n",
       "      <td>143709</td>\n",
       "    </tr>\n",
       "    <tr>\n",
       "      <th>3</th>\n",
       "      <td>126268</td>\n",
       "    </tr>\n",
       "    <tr>\n",
       "      <th>4</th>\n",
       "      <td>136266</td>\n",
       "    </tr>\n",
       "    <tr>\n",
       "      <th>...</th>\n",
       "      <td>...</td>\n",
       "    </tr>\n",
       "    <tr>\n",
       "      <th>60</th>\n",
       "      <td>56250</td>\n",
       "    </tr>\n",
       "    <tr>\n",
       "      <th>61</th>\n",
       "      <td>60606</td>\n",
       "    </tr>\n",
       "    <tr>\n",
       "      <th>62</th>\n",
       "      <td>65807</td>\n",
       "    </tr>\n",
       "    <tr>\n",
       "      <th>64</th>\n",
       "      <td>67843</td>\n",
       "    </tr>\n",
       "    <tr>\n",
       "      <th>65</th>\n",
       "      <td>74129</td>\n",
       "    </tr>\n",
       "  </tbody>\n",
       "</table>\n",
       "<p>61 rows × 1 columns</p>\n",
       "</div>"
      ],
      "text/plain": [
       "                        price_per_sqme\n",
       "cityCenters_nearest_km                \n",
       "0                               188313\n",
       "1                               152454\n",
       "2                               143709\n",
       "3                               126268\n",
       "4                               136266\n",
       "...                                ...\n",
       "60                               56250\n",
       "61                               60606\n",
       "62                               65807\n",
       "64                               67843\n",
       "65                               74129\n",
       "\n",
       "[61 rows x 1 columns]"
      ]
     },
     "execution_count": 58,
     "metadata": {},
     "output_type": "execute_result"
    },
    {
     "data": {
      "image/png": "[encoded data removed]",
      "text/plain": [
       "<Figure size 432x288 with 1 Axes>"
      ]
     },
     "metadata": {
      "needs_background": "light"
     },
     "output_type": "display_data"
    }
   ],
   "source": [
    "df['cityCenters_nearest_km'] = df['cityCenters_nearest'] / 1000\n",
    "df['cityCenters_nearest_km'] = df['cityCenters_nearest_km'].astype('int')\n",
    "cityCenters_price_km = df.pivot_table(index = 'cityCenters_nearest_km', values = 'price_per_sqme', aggfunc = 'mean').astype('int')\n",
    "cityCenters_price_km.plot()\n",
    "cityCenters_price_km"
   ]
  },
  {
   "cell_type": "markdown",
   "metadata": {},
   "source": [
    "Мы видим что на графике наблюдается падение стоимости в пределах 3 км., затем рост до 6 км. и снова падение, это может быть обусловленно самими квартирами, напомню что в центре Петербурга много коммуналок. Центральный район Петербурга в радиусе 3 км., однако с точки зрения недвижимости части районов прилегающих к Центральному тоже считаются центром (Петроградка, Адмиралтейский район, Василеостровский). Возьмем за условный центр радиус в 6 км от центра города, что не противоречит получившемуся графику."
   ]
  },
  {
   "cell_type": "markdown",
   "metadata": {},
   "source": [
    "### Анализ квартир в центре Петербурга"
   ]
  },
  {
   "cell_type": "markdown",
   "metadata": {},
   "source": [
    " Как и решиле ранее за условный центр Петербурга возбмем радиус в 6 км. от центра."
   ]
  },
  {
   "cell_type": "code",
   "execution_count": 59,
   "metadata": {},
   "outputs": [],
   "source": [
    "spb_center = df.query('cityCenters_nearest_km <= 6 and locality_name == \"Санкт-Петербург\"')"
   ]
  },
  {
   "cell_type": "code",
   "execution_count": 72,
   "metadata": {
    "scrolled": true
   },
   "outputs": [
    {
     "data": {
      "text/plain": [
       "0.2866995541427228"
      ]
     },
     "execution_count": 72,
     "metadata": {},
     "output_type": "execute_result"
    },
    {
     "data": {
      "image/png": "[encoded data removed]",
      "text/plain": [
       "<Figure size 432x288 with 1 Axes>"
      ]
     },
     "metadata": {
      "needs_background": "light"
     },
     "output_type": "display_data"
    }
   ],
   "source": [
    "spb_center_area = spb_center.pivot_table(index = 'total_area', values = 'price_per_sqme', aggfunc = ['mean', 'count', 'median']).astype('int')\n",
    "spb_center_area.columns = ['mean', 'count', 'median']\n",
    "spb_center_area.plot(y = 'median', style = 'o', alpha = 0.4)\n",
    "spb_center_area.sort_values('median', ascending = False)\n",
    "df['total_area'].corr(df['price_per_sqme'])"
   ]
  },
  {
   "cell_type": "markdown",
   "metadata": {},
   "source": [
    "Видно что зависимость очень слабая, всего 0.28, получается что с увеличением площади стоимость возрастает незначительно."
   ]
  },
  {
   "cell_type": "markdown",
   "metadata": {},
   "source": [
    "Сравним распределение площади среди предложений в центре и всей выборкой:"
   ]
  },
  {
   "cell_type": "code",
   "execution_count": 61,
   "metadata": {},
   "outputs": [
    {
     "data": {
      "image/png": "[encoded data removed]",
      "text/plain": [
       "<Figure size 432x288 with 1 Axes>"
      ]
     },
     "metadata": {
      "needs_background": "light"
     },
     "output_type": "display_data"
    },
    {
     "data": {
      "image/png": "[encoded data removed]",
      "text/plain": [
       "<Figure size 432x288 with 1 Axes>"
      ]
     },
     "metadata": {
      "needs_background": "light"
     },
     "output_type": "display_data"
    }
   ],
   "source": [
    "spb_center.plot(y = 'total_area', kind = 'hist', bins = 100, grid=True, range = (0,200));\n",
    "plt.title('Предложения центр')\n",
    "plt.xlabel('Площадь')\n",
    "plt.ylabel('Предложений всего');\n",
    "df.plot(y = 'total_area', kind = 'hist', bins = 100, grid=True, range = (0,200));\n",
    "plt.title('Предложения по всей выборке')\n",
    "plt.xlabel('Площадь')\n",
    "plt.ylabel('Предложений всего');"
   ]
  },
  {
   "cell_type": "markdown",
   "metadata": {},
   "source": [
    "Распределение в центре имеет более правильную форму, основная часть предложений находится в диапазоне от 25 до 100 метров. Так же заметно что доля квартир площадью более 100 метров значительно больше, в сравнении со всей выборкой.\n",
    "\n",
    "Посмотрим как обстоят дела со стоимостью квадратного метра в центре и сравним со всей выборкой:"
   ]
  },
  {
   "cell_type": "code",
   "execution_count": 62,
   "metadata": {},
   "outputs": [
    {
     "data": {
      "image/png": "[encoded data removed]",
      "text/plain": [
       "<Figure size 432x288 with 1 Axes>"
      ]
     },
     "metadata": {
      "needs_background": "light"
     },
     "output_type": "display_data"
    },
    {
     "data": {
      "image/png": "[encoded data removed]",
      "text/plain": [
       "<Figure size 432x288 with 1 Axes>"
      ]
     },
     "metadata": {
      "needs_background": "light"
     },
     "output_type": "display_data"
    }
   ],
   "source": [
    "spb_center.plot(y = 'price_per_sqme', kind = 'hist', bins = 100, grid=True, range = (0,300000));\n",
    "plt.title('Предложения центр')\n",
    "plt.xlabel('Цена за квадратный метр')\n",
    "plt.ylabel('Предложений всего');\n",
    "df.plot(y = 'price_per_sqme', kind = 'hist', bins = 100, grid=True, range = (0,300000));\n",
    "plt.title('Предложения по всей выборке')\n",
    "plt.xlabel('Цена за квадратный метр')\n",
    "plt.ylabel('Предложений всего');"
   ]
  },
  {
   "cell_type": "markdown",
   "metadata": {},
   "source": [
    "Распределение в центре не такое правильное как во всей выборке. Предожений ниже 50000р. за квадратный метр практически нет, а вот на 100000р. за метр наблюдается пик, как и во всей выборке. Оснавная часть предложений находится в диапазоне от 90000р. до 160000р. за квадратный метр, в отличие от всей выборки где основная часть предложений в диапазоне от 50000р. до 150000р. за метр."
   ]
  },
  {
   "cell_type": "code",
   "execution_count": 63,
   "metadata": {},
   "outputs": [
    {
     "data": {
      "text/html": [
       "<div>\n",
       "<style scoped>\n",
       "    .dataframe tbody tr th:only-of-type {\n",
       "        vertical-align: middle;\n",
       "    }\n",
       "\n",
       "    .dataframe tbody tr th {\n",
       "        vertical-align: top;\n",
       "    }\n",
       "\n",
       "    .dataframe thead th {\n",
       "        text-align: right;\n",
       "    }\n",
       "</style>\n",
       "<table border=\"1\" class=\"dataframe\">\n",
       "  <thead>\n",
       "    <tr style=\"text-align: right;\">\n",
       "      <th></th>\n",
       "      <th>mean</th>\n",
       "      <th>median</th>\n",
       "    </tr>\n",
       "    <tr>\n",
       "      <th>rooms</th>\n",
       "      <th></th>\n",
       "      <th></th>\n",
       "    </tr>\n",
       "  </thead>\n",
       "  <tbody>\n",
       "    <tr>\n",
       "      <th>0</th>\n",
       "      <td>148577</td>\n",
       "      <td>137219</td>\n",
       "    </tr>\n",
       "    <tr>\n",
       "      <th>1</th>\n",
       "      <td>155222</td>\n",
       "      <td>143888</td>\n",
       "    </tr>\n",
       "    <tr>\n",
       "      <th>2</th>\n",
       "      <td>140961</td>\n",
       "      <td>126009</td>\n",
       "    </tr>\n",
       "    <tr>\n",
       "      <th>3</th>\n",
       "      <td>141425</td>\n",
       "      <td>116981</td>\n",
       "    </tr>\n",
       "    <tr>\n",
       "      <th>4</th>\n",
       "      <td>136563</td>\n",
       "      <td>108101</td>\n",
       "    </tr>\n",
       "    <tr>\n",
       "      <th>5</th>\n",
       "      <td>135738</td>\n",
       "      <td>102189</td>\n",
       "    </tr>\n",
       "    <tr>\n",
       "      <th>6</th>\n",
       "      <td>133953</td>\n",
       "      <td>100085</td>\n",
       "    </tr>\n",
       "    <tr>\n",
       "      <th>7</th>\n",
       "      <td>124551</td>\n",
       "      <td>108536</td>\n",
       "    </tr>\n",
       "    <tr>\n",
       "      <th>8</th>\n",
       "      <td>192736</td>\n",
       "      <td>100979</td>\n",
       "    </tr>\n",
       "  </tbody>\n",
       "</table>\n",
       "</div>"
      ],
      "text/plain": [
       "         mean  median\n",
       "rooms                \n",
       "0      148577  137219\n",
       "1      155222  143888\n",
       "2      140961  126009\n",
       "3      141425  116981\n",
       "4      136563  108101\n",
       "5      135738  102189\n",
       "6      133953  100085\n",
       "7      124551  108536\n",
       "8      192736  100979"
      ]
     },
     "execution_count": 63,
     "metadata": {},
     "output_type": "execute_result"
    },
    {
     "data": {
      "image/png": "[encoded data removed]",
      "text/plain": [
       "<Figure size 432x288 with 1 Axes>"
      ]
     },
     "metadata": {
      "needs_background": "light"
     },
     "output_type": "display_data"
    }
   ],
   "source": [
    "spb_center_rooms = spb_center.pivot_table(index = 'rooms', values = 'price_per_sqme', aggfunc = ['mean', 'median']).astype('int')\n",
    "spb_center_rooms.columns = ['mean', 'median']\n",
    "spb_center_rooms.plot()\n",
    "spb_center_rooms"
   ]
  },
  {
   "cell_type": "markdown",
   "metadata": {},
   "source": [
    "И медианное и среднее значение цены уменьшается с увеличением числа комнат, но средняя цена резко растет с 7 до 8 комнат - это можно объяснить тем что есть несколько квартир с 8 комнатами и ценой в диапазоне 150-200 миллионов рублей."
   ]
  },
  {
   "cell_type": "markdown",
   "metadata": {},
   "source": [
    "Сравним распределение числа комнат в центре и во всей выборке:"
   ]
  },
  {
   "cell_type": "code",
   "execution_count": 64,
   "metadata": {},
   "outputs": [
    {
     "data": {
      "image/png": "[encoded data removed]",
      "text/plain": [
       "<Figure size 432x288 with 1 Axes>"
      ]
     },
     "metadata": {
      "needs_background": "light"
     },
     "output_type": "display_data"
    },
    {
     "data": {
      "image/png": "[encoded data removed]",
      "text/plain": [
       "<Figure size 432x288 with 1 Axes>"
      ]
     },
     "metadata": {
      "needs_background": "light"
     },
     "output_type": "display_data"
    }
   ],
   "source": [
    "spb_center.plot(y = 'rooms', kind = 'hist', bins = 8, grid=True, range = (0,8));\n",
    "plt.title('Предложения центр')\n",
    "plt.xlabel('Количество комнат')\n",
    "plt.ylabel('Предложений всего');\n",
    "df.plot(y = 'rooms', kind = 'hist', bins = 8, grid=True, range = (0,8));\n",
    "plt.title('Предложения по всей выборке')\n",
    "plt.xlabel('Количество комнат')\n",
    "plt.ylabel('Предложений всего');"
   ]
  },
  {
   "cell_type": "markdown",
   "metadata": {},
   "source": [
    "Итак что мы видим: мы видим что 2 и 3 комнатных квартир в центре больше чем остальных, в отличии от всей выборки, где болше всего предложений 1 и 2 комнатных квартир; распределение имеет более правильную форму, хотя и скошено в право."
   ]
  },
  {
   "cell_type": "markdown",
   "metadata": {},
   "source": [
    "Проверим влияние этажа на котором расположена квартира на стоимость метра:"
   ]
  },
  {
   "cell_type": "code",
   "execution_count": 65,
   "metadata": {},
   "outputs": [
    {
     "data": {
      "text/html": [
       "<div>\n",
       "<style scoped>\n",
       "    .dataframe tbody tr th:only-of-type {\n",
       "        vertical-align: middle;\n",
       "    }\n",
       "\n",
       "    .dataframe tbody tr th {\n",
       "        vertical-align: top;\n",
       "    }\n",
       "\n",
       "    .dataframe thead th {\n",
       "        text-align: right;\n",
       "    }\n",
       "</style>\n",
       "<table border=\"1\" class=\"dataframe\">\n",
       "  <thead>\n",
       "    <tr style=\"text-align: right;\">\n",
       "      <th></th>\n",
       "      <th>mean</th>\n",
       "      <th>median</th>\n",
       "    </tr>\n",
       "    <tr>\n",
       "      <th>flat_floor</th>\n",
       "      <th></th>\n",
       "      <th></th>\n",
       "    </tr>\n",
       "  </thead>\n",
       "  <tbody>\n",
       "    <tr>\n",
       "      <th>другой</th>\n",
       "      <td>147351</td>\n",
       "      <td>127551</td>\n",
       "    </tr>\n",
       "    <tr>\n",
       "      <th>первый</th>\n",
       "      <td>122493</td>\n",
       "      <td>109457</td>\n",
       "    </tr>\n",
       "    <tr>\n",
       "      <th>последний</th>\n",
       "      <td>133322</td>\n",
       "      <td>115789</td>\n",
       "    </tr>\n",
       "  </tbody>\n",
       "</table>\n",
       "</div>"
      ],
      "text/plain": [
       "              mean  median\n",
       "flat_floor                \n",
       "другой      147351  127551\n",
       "первый      122493  109457\n",
       "последний   133322  115789"
      ]
     },
     "execution_count": 65,
     "metadata": {},
     "output_type": "execute_result"
    },
    {
     "data": {
      "image/png": "[encoded data removed]",
      "text/plain": [
       "<Figure size 432x288 with 1 Axes>"
      ]
     },
     "metadata": {
      "needs_background": "light"
     },
     "output_type": "display_data"
    }
   ],
   "source": [
    "spb_center_floor = spb_center.pivot_table(index = 'flat_floor', values = 'price_per_sqme', aggfunc = ['mean', 'median']).astype('int')\n",
    "spb_center_floor.columns = ['mean', 'median']\n",
    "spb_center_floor.plot()\n",
    "spb_center_floor"
   ]
  },
  {
   "cell_type": "markdown",
   "metadata": {},
   "source": [
    "Предложения на первом этаже дешевле чем на всех остальных, неудивительно ведь в центре многолюдно и моло кому хочется чтобы в его квартиру постоянно смотрела множество людей гуляющих в центре."
   ]
  },
  {
   "cell_type": "markdown",
   "metadata": {},
   "source": [
    "Посмотрим на удаленность от центра."
   ]
  },
  {
   "cell_type": "code",
   "execution_count": 66,
   "metadata": {},
   "outputs": [
    {
     "data": {
      "text/html": [
       "<div>\n",
       "<style scoped>\n",
       "    .dataframe tbody tr th:only-of-type {\n",
       "        vertical-align: middle;\n",
       "    }\n",
       "\n",
       "    .dataframe tbody tr th {\n",
       "        vertical-align: top;\n",
       "    }\n",
       "\n",
       "    .dataframe thead th {\n",
       "        text-align: right;\n",
       "    }\n",
       "</style>\n",
       "<table border=\"1\" class=\"dataframe\">\n",
       "  <thead>\n",
       "    <tr style=\"text-align: right;\">\n",
       "      <th></th>\n",
       "      <th>mean</th>\n",
       "      <th>median</th>\n",
       "    </tr>\n",
       "    <tr>\n",
       "      <th>cityCenters_nearest_km</th>\n",
       "      <th></th>\n",
       "      <th></th>\n",
       "    </tr>\n",
       "  </thead>\n",
       "  <tbody>\n",
       "    <tr>\n",
       "      <th>0</th>\n",
       "      <td>188313</td>\n",
       "      <td>139318</td>\n",
       "    </tr>\n",
       "    <tr>\n",
       "      <th>1</th>\n",
       "      <td>152500</td>\n",
       "      <td>123728</td>\n",
       "    </tr>\n",
       "    <tr>\n",
       "      <th>2</th>\n",
       "      <td>143709</td>\n",
       "      <td>116158</td>\n",
       "    </tr>\n",
       "    <tr>\n",
       "      <th>3</th>\n",
       "      <td>126291</td>\n",
       "      <td>110180</td>\n",
       "    </tr>\n",
       "    <tr>\n",
       "      <th>4</th>\n",
       "      <td>136589</td>\n",
       "      <td>125918</td>\n",
       "    </tr>\n",
       "    <tr>\n",
       "      <th>5</th>\n",
       "      <td>145131</td>\n",
       "      <td>125723</td>\n",
       "    </tr>\n",
       "    <tr>\n",
       "      <th>6</th>\n",
       "      <td>150155</td>\n",
       "      <td>133807</td>\n",
       "    </tr>\n",
       "  </tbody>\n",
       "</table>\n",
       "</div>"
      ],
      "text/plain": [
       "                          mean  median\n",
       "cityCenters_nearest_km                \n",
       "0                       188313  139318\n",
       "1                       152500  123728\n",
       "2                       143709  116158\n",
       "3                       126291  110180\n",
       "4                       136589  125918\n",
       "5                       145131  125723\n",
       "6                       150155  133807"
      ]
     },
     "execution_count": 66,
     "metadata": {},
     "output_type": "execute_result"
    },
    {
     "data": {
      "image/png": "[encoded data removed]",
      "text/plain": [
       "<Figure size 432x288 with 1 Axes>"
      ]
     },
     "metadata": {
      "needs_background": "light"
     },
     "output_type": "display_data"
    }
   ],
   "source": [
    "spb_center_nearest = spb_center.pivot_table(index = 'cityCenters_nearest_km', values = 'price_per_sqme', aggfunc = ['mean', 'median']).astype('int')\n",
    "spb_center_nearest.columns = ['mean', 'median']\n",
    "spb_center_nearest.plot()\n",
    "spb_center_nearest"
   ]
  },
  {
   "cell_type": "markdown",
   "metadata": {},
   "source": [
    "С увеличением расстояния подает и цена, наблюдается коррекция после 3 км. Отличия от общего графика не наблюдается.\n",
    "Посмотрим влияние высоты потолка:"
   ]
  },
  {
   "cell_type": "code",
   "execution_count": 67,
   "metadata": {},
   "outputs": [
    {
     "data": {
      "text/html": [
       "<div>\n",
       "<style scoped>\n",
       "    .dataframe tbody tr th:only-of-type {\n",
       "        vertical-align: middle;\n",
       "    }\n",
       "\n",
       "    .dataframe tbody tr th {\n",
       "        vertical-align: top;\n",
       "    }\n",
       "\n",
       "    .dataframe thead th {\n",
       "        text-align: right;\n",
       "    }\n",
       "</style>\n",
       "<table border=\"1\" class=\"dataframe\">\n",
       "  <thead>\n",
       "    <tr style=\"text-align: right;\">\n",
       "      <th></th>\n",
       "      <th>mean</th>\n",
       "      <th>median</th>\n",
       "    </tr>\n",
       "    <tr>\n",
       "      <th>ceiling_height</th>\n",
       "      <th></th>\n",
       "      <th></th>\n",
       "    </tr>\n",
       "  </thead>\n",
       "  <tbody>\n",
       "    <tr>\n",
       "      <th>2.4</th>\n",
       "      <td>101254</td>\n",
       "      <td>101254</td>\n",
       "    </tr>\n",
       "    <tr>\n",
       "      <th>2.5</th>\n",
       "      <td>127286</td>\n",
       "      <td>120215</td>\n",
       "    </tr>\n",
       "    <tr>\n",
       "      <th>2.6</th>\n",
       "      <td>141552</td>\n",
       "      <td>124274</td>\n",
       "    </tr>\n",
       "    <tr>\n",
       "      <th>2.7</th>\n",
       "      <td>130705</td>\n",
       "      <td>127744</td>\n",
       "    </tr>\n",
       "    <tr>\n",
       "      <th>2.8</th>\n",
       "      <td>132937</td>\n",
       "      <td>125196</td>\n",
       "    </tr>\n",
       "  </tbody>\n",
       "</table>\n",
       "</div>"
      ],
      "text/plain": [
       "                  mean  median\n",
       "ceiling_height                \n",
       "2.4             101254  101254\n",
       "2.5             127286  120215\n",
       "2.6             141552  124274\n",
       "2.7             130705  127744\n",
       "2.8             132937  125196"
      ]
     },
     "execution_count": 67,
     "metadata": {},
     "output_type": "execute_result"
    },
    {
     "data": {
      "image/png": "[encoded data removed]",
      "text/plain": [
       "<Figure size 432x288 with 1 Axes>"
      ]
     },
     "metadata": {
      "needs_background": "light"
     },
     "output_type": "display_data"
    }
   ],
   "source": [
    "spb_center_ceiling_height = spb_center.pivot_table(index = 'ceiling_height', values = 'price_per_sqme', aggfunc = ['mean', 'median']).astype('int')\n",
    "spb_center_ceiling_height.columns = ['mean', 'median']\n",
    "spb_center_ceiling_height.plot()\n",
    "spb_center_ceiling_height.head()"
   ]
  },
  {
   "cell_type": "markdown",
   "metadata": {},
   "source": [
    "Видно что с увеличением потолка стоимость квадратного метра растет. В центре много дворцов а там с высотой потолков полный порядок, ну и цена соответствует.\n"
   ]
  },
  {
   "cell_type": "markdown",
   "metadata": {},
   "source": [
    "Сравним высоту потолков в центре и во всей выборке:"
   ]
  },
  {
   "cell_type": "code",
   "execution_count": 68,
   "metadata": {},
   "outputs": [
    {
     "data": {
      "image/png": "[encoded data removed]",
      "text/plain": [
       "<Figure size 432x288 with 1 Axes>"
      ]
     },
     "metadata": {
      "needs_background": "light"
     },
     "output_type": "display_data"
    },
    {
     "data": {
      "image/png": "[encoded data removed]",
      "text/plain": [
       "<Figure size 432x288 with 1 Axes>"
      ]
     },
     "metadata": {
      "needs_background": "light"
     },
     "output_type": "display_data"
    }
   ],
   "source": [
    "spb_center.plot(y = 'ceiling_height', kind = 'hist', bins = 20, grid=True, range = (2,5));\n",
    "plt.title('Предложения центр')\n",
    "plt.xlabel('Высота потолка')\n",
    "plt.ylabel('Предложений всего');\n",
    "df.plot(y = 'ceiling_height', kind = 'hist', bins = 20, grid=True, range = (2,5));\n",
    "plt.title('Предложения по всей выборке')\n",
    "plt.xlabel('Высота потолка')\n",
    "plt.ylabel('Предложений всего');"
   ]
  },
  {
   "cell_type": "markdown",
   "metadata": {},
   "source": [
    "Пик на 2.7м. как и во всей выборке(влияние заполнения пропусков плюс стандарты строительства современного жилья). Так же заметно большее влияние на выборку предложений с высотой потолка 3 метра и выше. Пики на 3, 3.3 и 3.5 мерта (видимо в прошлом тоже придерживались неких стандартов, касательно высоты потолка). "
   ]
  },
  {
   "cell_type": "markdown",
   "metadata": {},
   "source": [
    "Посмотрим как влияет на стоимость жилья в цетре день недели, месяцы и годы:"
   ]
  },
  {
   "cell_type": "code",
   "execution_count": 69,
   "metadata": {},
   "outputs": [
    {
     "data": {
      "text/html": [
       "<div>\n",
       "<style scoped>\n",
       "    .dataframe tbody tr th:only-of-type {\n",
       "        vertical-align: middle;\n",
       "    }\n",
       "\n",
       "    .dataframe tbody tr th {\n",
       "        vertical-align: top;\n",
       "    }\n",
       "\n",
       "    .dataframe thead th {\n",
       "        text-align: right;\n",
       "    }\n",
       "</style>\n",
       "<table border=\"1\" class=\"dataframe\">\n",
       "  <thead>\n",
       "    <tr style=\"text-align: right;\">\n",
       "      <th></th>\n",
       "      <th>mean</th>\n",
       "      <th>median</th>\n",
       "    </tr>\n",
       "    <tr>\n",
       "      <th>weekday</th>\n",
       "      <th></th>\n",
       "      <th></th>\n",
       "    </tr>\n",
       "  </thead>\n",
       "  <tbody>\n",
       "    <tr>\n",
       "      <th>0</th>\n",
       "      <td>141340</td>\n",
       "      <td>126133</td>\n",
       "    </tr>\n",
       "    <tr>\n",
       "      <th>1</th>\n",
       "      <td>139713</td>\n",
       "      <td>118103</td>\n",
       "    </tr>\n",
       "    <tr>\n",
       "      <th>2</th>\n",
       "      <td>139242</td>\n",
       "      <td>124394</td>\n",
       "    </tr>\n",
       "    <tr>\n",
       "      <th>3</th>\n",
       "      <td>144563</td>\n",
       "      <td>120578</td>\n",
       "    </tr>\n",
       "    <tr>\n",
       "      <th>4</th>\n",
       "      <td>143368</td>\n",
       "      <td>125231</td>\n",
       "    </tr>\n",
       "    <tr>\n",
       "      <th>5</th>\n",
       "      <td>143271</td>\n",
       "      <td>128431</td>\n",
       "    </tr>\n",
       "    <tr>\n",
       "      <th>6</th>\n",
       "      <td>144842</td>\n",
       "      <td>125482</td>\n",
       "    </tr>\n",
       "  </tbody>\n",
       "</table>\n",
       "</div>"
      ],
      "text/plain": [
       "           mean  median\n",
       "weekday                \n",
       "0        141340  126133\n",
       "1        139713  118103\n",
       "2        139242  124394\n",
       "3        144563  120578\n",
       "4        143368  125231\n",
       "5        143271  128431\n",
       "6        144842  125482"
      ]
     },
     "execution_count": 69,
     "metadata": {},
     "output_type": "execute_result"
    },
    {
     "data": {
      "image/png": "[encoded data removed]",
      "text/plain": [
       "<Figure size 432x288 with 1 Axes>"
      ]
     },
     "metadata": {
      "needs_background": "light"
     },
     "output_type": "display_data"
    }
   ],
   "source": [
    "spb_center_weekday = spb_center.pivot_table(index = 'weekday', values = 'price_per_sqme', aggfunc = ['mean', 'median']).astype('int')\n",
    "spb_center_weekday.columns = ['mean', 'median']\n",
    "spb_center_weekday.plot()\n",
    "spb_center_weekday"
   ]
  },
  {
   "cell_type": "markdown",
   "metadata": {},
   "source": [
    "Если хотите приобрести жилье в центре Петербурга, лучшие дни для сделок вторник и четверг!"
   ]
  },
  {
   "cell_type": "code",
   "execution_count": 70,
   "metadata": {},
   "outputs": [
    {
     "data": {
      "text/html": [
       "<div>\n",
       "<style scoped>\n",
       "    .dataframe tbody tr th:only-of-type {\n",
       "        vertical-align: middle;\n",
       "    }\n",
       "\n",
       "    .dataframe tbody tr th {\n",
       "        vertical-align: top;\n",
       "    }\n",
       "\n",
       "    .dataframe thead th {\n",
       "        text-align: right;\n",
       "    }\n",
       "</style>\n",
       "<table border=\"1\" class=\"dataframe\">\n",
       "  <thead>\n",
       "    <tr style=\"text-align: right;\">\n",
       "      <th></th>\n",
       "      <th>mean</th>\n",
       "      <th>median</th>\n",
       "    </tr>\n",
       "    <tr>\n",
       "      <th>month</th>\n",
       "      <th></th>\n",
       "      <th></th>\n",
       "    </tr>\n",
       "  </thead>\n",
       "  <tbody>\n",
       "    <tr>\n",
       "      <th>1</th>\n",
       "      <td>147778</td>\n",
       "      <td>129334</td>\n",
       "    </tr>\n",
       "    <tr>\n",
       "      <th>2</th>\n",
       "      <td>142314</td>\n",
       "      <td>121151</td>\n",
       "    </tr>\n",
       "    <tr>\n",
       "      <th>3</th>\n",
       "      <td>143299</td>\n",
       "      <td>130333</td>\n",
       "    </tr>\n",
       "    <tr>\n",
       "      <th>4</th>\n",
       "      <td>145764</td>\n",
       "      <td>127016</td>\n",
       "    </tr>\n",
       "    <tr>\n",
       "      <th>5</th>\n",
       "      <td>133215</td>\n",
       "      <td>121580</td>\n",
       "    </tr>\n",
       "    <tr>\n",
       "      <th>6</th>\n",
       "      <td>135057</td>\n",
       "      <td>116872</td>\n",
       "    </tr>\n",
       "    <tr>\n",
       "      <th>7</th>\n",
       "      <td>139287</td>\n",
       "      <td>118291</td>\n",
       "    </tr>\n",
       "    <tr>\n",
       "      <th>8</th>\n",
       "      <td>145941</td>\n",
       "      <td>125000</td>\n",
       "    </tr>\n",
       "    <tr>\n",
       "      <th>9</th>\n",
       "      <td>140230</td>\n",
       "      <td>124051</td>\n",
       "    </tr>\n",
       "    <tr>\n",
       "      <th>10</th>\n",
       "      <td>139512</td>\n",
       "      <td>123497</td>\n",
       "    </tr>\n",
       "    <tr>\n",
       "      <th>11</th>\n",
       "      <td>142179</td>\n",
       "      <td>123105</td>\n",
       "    </tr>\n",
       "    <tr>\n",
       "      <th>12</th>\n",
       "      <td>148442</td>\n",
       "      <td>121136</td>\n",
       "    </tr>\n",
       "  </tbody>\n",
       "</table>\n",
       "</div>"
      ],
      "text/plain": [
       "         mean  median\n",
       "month                \n",
       "1      147778  129334\n",
       "2      142314  121151\n",
       "3      143299  130333\n",
       "4      145764  127016\n",
       "5      133215  121580\n",
       "6      135057  116872\n",
       "7      139287  118291\n",
       "8      145941  125000\n",
       "9      140230  124051\n",
       "10     139512  123497\n",
       "11     142179  123105\n",
       "12     148442  121136"
      ]
     },
     "execution_count": 70,
     "metadata": {},
     "output_type": "execute_result"
    },
    {
     "data": {
      "image/png": "[encoded data removed]",
      "text/plain": [
       "<Figure size 432x288 with 1 Axes>"
      ]
     },
     "metadata": {
      "needs_background": "light"
     },
     "output_type": "display_data"
    }
   ],
   "source": [
    "spb_center_month = spb_center.pivot_table(index = 'month', values = 'price_per_sqme', aggfunc = ['mean', 'median']).astype('int')\n",
    "spb_center_month.columns = ['mean', 'median']\n",
    "spb_center_month.plot()\n",
    "spb_center_month"
   ]
  },
  {
   "cell_type": "markdown",
   "metadata": {},
   "source": [
    "Летом самые выгодные предложения за весь год! Неудивительно лето в Петербурге побуждает людей к миграции в теплые края. Особенно если вы живете в центре."
   ]
  },
  {
   "cell_type": "code",
   "execution_count": 71,
   "metadata": {},
   "outputs": [
    {
     "data": {
      "text/html": [
       "<div>\n",
       "<style scoped>\n",
       "    .dataframe tbody tr th:only-of-type {\n",
       "        vertical-align: middle;\n",
       "    }\n",
       "\n",
       "    .dataframe tbody tr th {\n",
       "        vertical-align: top;\n",
       "    }\n",
       "\n",
       "    .dataframe thead th {\n",
       "        text-align: right;\n",
       "    }\n",
       "</style>\n",
       "<table border=\"1\" class=\"dataframe\">\n",
       "  <thead>\n",
       "    <tr style=\"text-align: right;\">\n",
       "      <th></th>\n",
       "      <th>mean</th>\n",
       "      <th>median</th>\n",
       "    </tr>\n",
       "    <tr>\n",
       "      <th>year</th>\n",
       "      <th></th>\n",
       "      <th></th>\n",
       "    </tr>\n",
       "  </thead>\n",
       "  <tbody>\n",
       "    <tr>\n",
       "      <th>2014</th>\n",
       "      <td>195653</td>\n",
       "      <td>143465</td>\n",
       "    </tr>\n",
       "    <tr>\n",
       "      <th>2015</th>\n",
       "      <td>147189</td>\n",
       "      <td>119289</td>\n",
       "    </tr>\n",
       "    <tr>\n",
       "      <th>2016</th>\n",
       "      <td>135792</td>\n",
       "      <td>115178</td>\n",
       "    </tr>\n",
       "    <tr>\n",
       "      <th>2017</th>\n",
       "      <td>139288</td>\n",
       "      <td>120781</td>\n",
       "    </tr>\n",
       "    <tr>\n",
       "      <th>2018</th>\n",
       "      <td>139042</td>\n",
       "      <td>125000</td>\n",
       "    </tr>\n",
       "    <tr>\n",
       "      <th>2019</th>\n",
       "      <td>159095</td>\n",
       "      <td>136363</td>\n",
       "    </tr>\n",
       "  </tbody>\n",
       "</table>\n",
       "</div>"
      ],
      "text/plain": [
       "        mean  median\n",
       "year                \n",
       "2014  195653  143465\n",
       "2015  147189  119289\n",
       "2016  135792  115178\n",
       "2017  139288  120781\n",
       "2018  139042  125000\n",
       "2019  159095  136363"
      ]
     },
     "execution_count": 71,
     "metadata": {},
     "output_type": "execute_result"
    },
    {
     "data": {
      "image/png": "[encoded data removed]",
      "text/plain": [
       "<Figure size 432x288 with 1 Axes>"
      ]
     },
     "metadata": {
      "needs_background": "light"
     },
     "output_type": "display_data"
    }
   ],
   "source": [
    "spb_center_year = spb_center.pivot_table(index = 'year', values = 'price_per_sqme', aggfunc = ['mean', 'median']).astype('int')\n",
    "spb_center_year.columns = ['mean', 'median']\n",
    "spb_center_year.plot()\n",
    "spb_center_year"
   ]
  },
  {
   "cell_type": "markdown",
   "metadata": {},
   "source": [
    "Наблюдается серьезное падение стоимости с 2014 года по 2016. С 2016 года наблюдается рост и стоимость квадратного метра почти отиграла подение предыдущих лет.\n",
    "\n",
    "В целом ситуация в центре Петербурга отличается от остальных районов и пригорода. Так увеличение числа комнат ведет не к росту а к падению стоимости. Наблюдается некоторая сезонность, и разница в стоимости жилья от дня недели. Наблюдается более сильное влияние на стоимость жилья в зависимости от этажа. И в отличие от других районов Петербурга площадь квартиры не является решающим фактором в ценообразовании, лишь незначительно влияя на конечную стоимость."
   ]
  },
  {
   "cell_type": "markdown",
   "metadata": {},
   "source": [
    "## Общий вывод"
   ]
  },
  {
   "cell_type": "markdown",
   "metadata": {},
   "source": [
    "Нами проделана большая работа. Мы обработали имеющиеся у нас данные. Провели анализ, заменили пропущенные значения. Расчитана стоимость квадратного метра. Добавлены столбцы с днем, месяцем и годом объявления. Квартиры разделены по этажности, удаленности от центра. Посчитано соотношение жилой площади к общей. Проведен исследовательский анализ, построены графики и гистограммы.\n",
    "\n",
    "В ходе выполнения роботы получились следующие выводы: \n",
    "\n",
    "* Самая дорогая недвижимость находится в центре города\n",
    "* С 2016 года наблюдается восстановительный рост стоимости недвижимости\n",
    "* Параметры объекта недвижимости существенно влияют на стоимость (высота потолка, площадь, число комнат и т.д.)\n",
    "* в центре города, в отличии от окраин и пригорода, наблюдается сезонность в стоимости квадратного метра\n",
    "* Увеличение площади квартир в центре слабо влияет на увеличение стоимости квадратного метра\n",
    "* доля квартир площадью свыше 75кв.м. в центре больше чем во всей выборке\n",
    "* стоимость квадратного метра в центре выше чем во всей выборке, как и ожидалось \n",
    "* в центре доля 2 и 3 комнатных квартир больше чем в выборке \n",
    "* доля квартир с высокими потолками в цетре больше\n",
    "\n",
    "Так же в ходе исстледования были обнаруженны аномалии во времени размещения объявлений на 7, 30, 45, 60 и 90 днях. С данной проблемой не получилось разобраться. Я проверил и условия размещения (есть некоторые подозрения на условия, только подходящие цифры не относятся к Москве и Петербургу) и посмотрел на данные по конкретным дням. Зависимости обнаружить не удалось. Если бы была возможность обратится к сотрудникам подготавливавшим данные, я думаю нам бы удалось установить истину.\n",
    "\n",
    "В целом более подробные выводы сделать нельзя. Для более детального анализа не достаточно оперировать средними значениями. Но в дальнейшем при получении знаний подобный анализ, я думаю, будет более детальный и наглядный."
   ]
  }
 ],
 "metadata": {
  "ExecuteTimeLog": [
   {
    "duration": 811,
    "start_time": "2022-02-25T09:29:36.419Z"
   },
   {
    "duration": 101,
    "start_time": "2022-02-25T09:32:20.082Z"
   },
   {
    "duration": 79,
    "start_time": "2022-02-25T09:32:24.537Z"
   },
   {
    "duration": 22,
    "start_time": "2022-02-25T09:35:08.001Z"
   },
   {
    "duration": 10,
    "start_time": "2022-02-25T09:35:32.436Z"
   },
   {
    "duration": 98,
    "start_time": "2022-02-25T09:39:29.673Z"
   },
   {
    "duration": 42,
    "start_time": "2022-02-25T09:49:07.347Z"
   },
   {
    "duration": 19,
    "start_time": "2022-02-25T11:08:15.537Z"
   },
   {
    "duration": 6,
    "start_time": "2022-02-25T11:54:07.144Z"
   },
   {
    "duration": 13,
    "start_time": "2022-02-25T11:54:07.872Z"
   },
   {
    "duration": 50,
    "start_time": "2022-02-25T11:54:43.086Z"
   },
   {
    "duration": 7,
    "start_time": "2022-02-25T11:55:11.872Z"
   },
   {
    "duration": 44,
    "start_time": "2022-02-25T11:55:12.500Z"
   },
   {
    "duration": 5,
    "start_time": "2022-02-25T11:55:28.425Z"
   },
   {
    "duration": 45,
    "start_time": "2022-02-25T11:55:29.418Z"
   },
   {
    "duration": 6,
    "start_time": "2022-02-25T11:55:49.392Z"
   },
   {
    "duration": 44,
    "start_time": "2022-02-25T11:55:50.138Z"
   },
   {
    "duration": 526,
    "start_time": "2022-02-25T11:58:18.698Z"
   },
   {
    "duration": 45,
    "start_time": "2022-02-25T11:58:19.261Z"
   },
   {
    "duration": 384,
    "start_time": "2022-02-25T11:58:27.526Z"
   },
   {
    "duration": 387,
    "start_time": "2022-02-25T12:00:31.886Z"
   },
   {
    "duration": 446,
    "start_time": "2022-02-25T12:00:51.650Z"
   },
   {
    "duration": 433,
    "start_time": "2022-02-25T12:01:01.786Z"
   },
   {
    "duration": 45,
    "start_time": "2022-02-25T12:03:31.983Z"
   },
   {
    "duration": 5,
    "start_time": "2022-02-25T12:03:33.667Z"
   },
   {
    "duration": 412,
    "start_time": "2022-02-25T12:06:15.667Z"
   },
   {
    "duration": 443,
    "start_time": "2022-02-25T12:06:32.971Z"
   },
   {
    "duration": 378,
    "start_time": "2022-02-25T12:06:44.418Z"
   },
   {
    "duration": 6,
    "start_time": "2022-02-25T12:06:59.197Z"
   },
   {
    "duration": 7,
    "start_time": "2022-02-25T12:07:06.418Z"
   },
   {
    "duration": 45,
    "start_time": "2022-02-25T12:07:07.264Z"
   },
   {
    "duration": 6,
    "start_time": "2022-02-25T12:07:16.258Z"
   },
   {
    "duration": 50,
    "start_time": "2022-02-25T12:07:17.013Z"
   },
   {
    "duration": 798,
    "start_time": "2022-02-25T12:07:45.004Z"
   },
   {
    "duration": 95,
    "start_time": "2022-02-25T12:07:45.804Z"
   },
   {
    "duration": 19,
    "start_time": "2022-02-25T12:07:45.905Z"
   },
   {
    "duration": 107,
    "start_time": "2022-02-25T12:07:45.927Z"
   },
   {
    "duration": 39,
    "start_time": "2022-02-25T12:07:46.037Z"
   },
   {
    "duration": 36,
    "start_time": "2022-02-25T12:07:46.078Z"
   },
   {
    "duration": 6,
    "start_time": "2022-02-25T12:07:46.117Z"
   },
   {
    "duration": 44,
    "start_time": "2022-02-25T12:07:46.125Z"
   },
   {
    "duration": 206,
    "start_time": "2022-02-25T13:59:41.588Z"
   },
   {
    "duration": 604,
    "start_time": "2022-02-25T14:00:14.427Z"
   },
   {
    "duration": 67,
    "start_time": "2022-02-25T14:00:15.033Z"
   },
   {
    "duration": 14,
    "start_time": "2022-02-25T14:00:15.103Z"
   },
   {
    "duration": 74,
    "start_time": "2022-02-25T14:00:15.119Z"
   },
   {
    "duration": 23,
    "start_time": "2022-02-25T14:00:15.195Z"
   },
   {
    "duration": 9,
    "start_time": "2022-02-25T14:00:15.233Z"
   },
   {
    "duration": 4,
    "start_time": "2022-02-25T14:00:15.243Z"
   },
   {
    "duration": 27,
    "start_time": "2022-02-25T14:00:15.249Z"
   },
   {
    "duration": 609,
    "start_time": "2022-02-27T14:25:56.735Z"
   },
   {
    "duration": 56,
    "start_time": "2022-02-27T14:25:57.346Z"
   },
   {
    "duration": 11,
    "start_time": "2022-02-27T14:25:57.404Z"
   },
   {
    "duration": 93,
    "start_time": "2022-02-27T14:25:57.418Z"
   },
   {
    "duration": 33,
    "start_time": "2022-02-27T14:25:57.514Z"
   },
   {
    "duration": 8,
    "start_time": "2022-02-27T14:25:57.549Z"
   },
   {
    "duration": 6,
    "start_time": "2022-02-27T14:25:57.559Z"
   },
   {
    "duration": 31,
    "start_time": "2022-02-27T14:25:57.568Z"
   },
   {
    "duration": 688,
    "start_time": "2022-02-27T14:27:11.556Z"
   },
   {
    "duration": 62,
    "start_time": "2022-02-27T14:27:12.247Z"
   },
   {
    "duration": 14,
    "start_time": "2022-02-27T14:27:12.311Z"
   },
   {
    "duration": 68,
    "start_time": "2022-02-27T14:27:12.339Z"
   },
   {
    "duration": 38,
    "start_time": "2022-02-27T14:27:12.409Z"
   },
   {
    "duration": 13,
    "start_time": "2022-02-27T14:27:12.449Z"
   },
   {
    "duration": 6,
    "start_time": "2022-02-27T14:27:12.464Z"
   },
   {
    "duration": 34,
    "start_time": "2022-02-27T14:27:12.472Z"
   },
   {
    "duration": 529,
    "start_time": "2022-02-27T14:28:16.776Z"
   },
   {
    "duration": 63,
    "start_time": "2022-02-27T14:28:17.307Z"
   },
   {
    "duration": 11,
    "start_time": "2022-02-27T14:28:17.373Z"
   },
   {
    "duration": 71,
    "start_time": "2022-02-27T14:28:17.386Z"
   },
   {
    "duration": 24,
    "start_time": "2022-02-27T14:28:17.458Z"
   },
   {
    "duration": 13,
    "start_time": "2022-02-27T14:28:17.484Z"
   },
   {
    "duration": 12,
    "start_time": "2022-02-27T14:28:17.499Z"
   },
   {
    "duration": 47,
    "start_time": "2022-02-27T14:28:17.513Z"
   },
   {
    "duration": 6,
    "start_time": "2022-02-27T14:29:20.532Z"
   },
   {
    "duration": 37,
    "start_time": "2022-02-27T14:29:23.552Z"
   },
   {
    "duration": 11,
    "start_time": "2022-02-27T14:30:21.834Z"
   },
   {
    "duration": 12,
    "start_time": "2022-02-27T16:07:23.100Z"
   },
   {
    "duration": 8,
    "start_time": "2022-02-27T16:07:25.324Z"
   },
   {
    "duration": 5,
    "start_time": "2022-02-27T16:09:02.491Z"
   },
   {
    "duration": 12,
    "start_time": "2022-02-27T16:09:10.149Z"
   },
   {
    "duration": 766,
    "start_time": "2022-02-27T16:11:03.579Z"
   },
   {
    "duration": 5,
    "start_time": "2022-02-27T16:11:17.043Z"
   },
   {
    "duration": 4,
    "start_time": "2022-02-27T16:11:27.916Z"
   },
   {
    "duration": 11,
    "start_time": "2022-02-27T16:11:47.756Z"
   },
   {
    "duration": 9,
    "start_time": "2022-02-27T16:12:21.709Z"
   },
   {
    "duration": 24,
    "start_time": "2022-02-27T16:12:56.891Z"
   },
   {
    "duration": 298,
    "start_time": "2022-02-28T11:25:44.957Z"
   },
   {
    "duration": 758,
    "start_time": "2022-02-28T11:25:55.500Z"
   },
   {
    "duration": 78,
    "start_time": "2022-02-28T11:25:56.261Z"
   },
   {
    "duration": 19,
    "start_time": "2022-02-28T11:25:56.342Z"
   },
   {
    "duration": 95,
    "start_time": "2022-02-28T11:25:56.364Z"
   },
   {
    "duration": 52,
    "start_time": "2022-02-28T11:25:56.462Z"
   },
   {
    "duration": 14,
    "start_time": "2022-02-28T11:25:56.516Z"
   },
   {
    "duration": 5,
    "start_time": "2022-02-28T11:25:56.533Z"
   },
   {
    "duration": 45,
    "start_time": "2022-02-28T11:25:56.541Z"
   },
   {
    "duration": 9,
    "start_time": "2022-02-28T11:25:56.590Z"
   },
   {
    "duration": 3,
    "start_time": "2022-02-28T11:25:56.601Z"
   },
   {
    "duration": 8,
    "start_time": "2022-02-28T11:29:11.568Z"
   },
   {
    "duration": 278,
    "start_time": "2022-02-28T11:33:36.802Z"
   },
   {
    "duration": 8,
    "start_time": "2022-02-28T11:33:50.261Z"
   },
   {
    "duration": 5,
    "start_time": "2022-02-28T11:34:50.667Z"
   },
   {
    "duration": 5,
    "start_time": "2022-02-28T11:35:20.092Z"
   },
   {
    "duration": 15,
    "start_time": "2022-02-28T11:35:24.819Z"
   },
   {
    "duration": 34,
    "start_time": "2022-02-28T11:35:44.654Z"
   },
   {
    "duration": 8,
    "start_time": "2022-02-28T11:38:11.264Z"
   },
   {
    "duration": 36,
    "start_time": "2022-02-28T11:38:14.928Z"
   },
   {
    "duration": 45,
    "start_time": "2022-02-28T11:38:30.226Z"
   },
   {
    "duration": 7,
    "start_time": "2022-02-28T11:38:39.759Z"
   },
   {
    "duration": 666,
    "start_time": "2022-02-28T11:38:53.724Z"
   },
   {
    "duration": 76,
    "start_time": "2022-02-28T11:38:54.393Z"
   },
   {
    "duration": 20,
    "start_time": "2022-02-28T11:38:54.472Z"
   },
   {
    "duration": 95,
    "start_time": "2022-02-28T11:38:54.494Z"
   },
   {
    "duration": 38,
    "start_time": "2022-02-28T11:38:54.591Z"
   },
   {
    "duration": 13,
    "start_time": "2022-02-28T11:38:54.631Z"
   },
   {
    "duration": 5,
    "start_time": "2022-02-28T11:38:54.647Z"
   },
   {
    "duration": 13,
    "start_time": "2022-02-28T11:38:54.682Z"
   },
   {
    "duration": 10,
    "start_time": "2022-02-28T11:38:54.698Z"
   },
   {
    "duration": 8,
    "start_time": "2022-02-28T11:38:54.710Z"
   },
   {
    "duration": 77,
    "start_time": "2022-02-28T11:38:54.720Z"
   },
   {
    "duration": 8,
    "start_time": "2022-02-28T11:38:54.799Z"
   },
   {
    "duration": 8,
    "start_time": "2022-02-28T11:38:54.809Z"
   },
   {
    "duration": 70,
    "start_time": "2022-02-28T11:38:54.819Z"
   },
   {
    "duration": 12,
    "start_time": "2022-02-28T11:40:20.432Z"
   },
   {
    "duration": 6,
    "start_time": "2022-02-28T11:43:38.958Z"
   },
   {
    "duration": 6,
    "start_time": "2022-02-28T11:44:48.070Z"
   },
   {
    "duration": 86,
    "start_time": "2022-02-28T11:50:34.117Z"
   },
   {
    "duration": 9,
    "start_time": "2022-02-28T11:51:40.960Z"
   },
   {
    "duration": 306,
    "start_time": "2022-02-28T11:55:27.712Z"
   },
   {
    "duration": 81,
    "start_time": "2022-02-28T11:55:39.253Z"
   },
   {
    "duration": 136,
    "start_time": "2022-02-28T11:55:49.198Z"
   },
   {
    "duration": 245,
    "start_time": "2022-02-28T11:57:59.322Z"
   },
   {
    "duration": 237,
    "start_time": "2022-02-28T11:58:10.128Z"
   },
   {
    "duration": 14,
    "start_time": "2022-02-28T11:58:15.568Z"
   },
   {
    "duration": 9,
    "start_time": "2022-02-28T11:58:37.283Z"
   },
   {
    "duration": 8,
    "start_time": "2022-02-28T11:59:05.129Z"
   },
   {
    "duration": 6,
    "start_time": "2022-02-28T11:59:13.907Z"
   },
   {
    "duration": 8,
    "start_time": "2022-02-28T11:59:37.416Z"
   },
   {
    "duration": 4,
    "start_time": "2022-02-28T12:00:25.111Z"
   },
   {
    "duration": 759,
    "start_time": "2022-02-28T12:17:52.920Z"
   },
   {
    "duration": 73,
    "start_time": "2022-02-28T12:17:53.681Z"
   },
   {
    "duration": 26,
    "start_time": "2022-02-28T12:17:53.757Z"
   },
   {
    "duration": 85,
    "start_time": "2022-02-28T12:17:53.787Z"
   },
   {
    "duration": 40,
    "start_time": "2022-02-28T12:17:53.884Z"
   },
   {
    "duration": 29,
    "start_time": "2022-02-28T12:17:53.927Z"
   },
   {
    "duration": 5,
    "start_time": "2022-02-28T12:17:53.959Z"
   },
   {
    "duration": 7,
    "start_time": "2022-02-28T12:17:53.983Z"
   },
   {
    "duration": 16,
    "start_time": "2022-02-28T12:17:53.992Z"
   },
   {
    "duration": 15,
    "start_time": "2022-02-28T12:17:54.011Z"
   },
   {
    "duration": 17,
    "start_time": "2022-02-28T12:17:54.029Z"
   },
   {
    "duration": 20,
    "start_time": "2022-02-28T12:17:54.048Z"
   },
   {
    "duration": 24,
    "start_time": "2022-02-28T12:17:54.071Z"
   },
   {
    "duration": 14,
    "start_time": "2022-02-28T12:17:54.097Z"
   },
   {
    "duration": 4,
    "start_time": "2022-02-28T12:21:00.654Z"
   },
   {
    "duration": 36,
    "start_time": "2022-02-28T12:21:20.776Z"
   },
   {
    "duration": 14,
    "start_time": "2022-02-28T12:21:23.800Z"
   },
   {
    "duration": 12,
    "start_time": "2022-02-28T12:22:15.933Z"
   },
   {
    "duration": 8,
    "start_time": "2022-02-28T12:22:23.009Z"
   },
   {
    "duration": 34,
    "start_time": "2022-02-28T12:22:47.706Z"
   },
   {
    "duration": 5,
    "start_time": "2022-02-28T12:23:37.872Z"
   },
   {
    "duration": 34,
    "start_time": "2022-02-28T12:23:38.410Z"
   },
   {
    "duration": 672,
    "start_time": "2022-02-28T12:23:47.930Z"
   },
   {
    "duration": 82,
    "start_time": "2022-02-28T12:23:48.605Z"
   },
   {
    "duration": 18,
    "start_time": "2022-02-28T12:23:48.690Z"
   },
   {
    "duration": 101,
    "start_time": "2022-02-28T12:23:48.711Z"
   },
   {
    "duration": 39,
    "start_time": "2022-02-28T12:23:48.815Z"
   },
   {
    "duration": 29,
    "start_time": "2022-02-28T12:23:48.856Z"
   },
   {
    "duration": 6,
    "start_time": "2022-02-28T12:23:48.888Z"
   },
   {
    "duration": 15,
    "start_time": "2022-02-28T12:23:48.897Z"
   },
   {
    "duration": 13,
    "start_time": "2022-02-28T12:23:48.915Z"
   },
   {
    "duration": 16,
    "start_time": "2022-02-28T12:23:48.930Z"
   },
   {
    "duration": 35,
    "start_time": "2022-02-28T12:23:48.948Z"
   },
   {
    "duration": 4,
    "start_time": "2022-02-28T12:23:48.986Z"
   },
   {
    "duration": 36,
    "start_time": "2022-02-28T12:23:48.992Z"
   },
   {
    "duration": 5,
    "start_time": "2022-02-28T12:24:07.899Z"
   },
   {
    "duration": 35,
    "start_time": "2022-02-28T12:24:08.355Z"
   },
   {
    "duration": 688,
    "start_time": "2022-02-28T12:24:18.495Z"
   },
   {
    "duration": 71,
    "start_time": "2022-02-28T12:24:19.186Z"
   },
   {
    "duration": 28,
    "start_time": "2022-02-28T12:24:19.260Z"
   },
   {
    "duration": 99,
    "start_time": "2022-02-28T12:24:19.291Z"
   },
   {
    "duration": 38,
    "start_time": "2022-02-28T12:24:19.393Z"
   },
   {
    "duration": 18,
    "start_time": "2022-02-28T12:24:19.434Z"
   },
   {
    "duration": 5,
    "start_time": "2022-02-28T12:24:19.455Z"
   },
   {
    "duration": 6,
    "start_time": "2022-02-28T12:24:19.483Z"
   },
   {
    "duration": 7,
    "start_time": "2022-02-28T12:24:19.492Z"
   },
   {
    "duration": 9,
    "start_time": "2022-02-28T12:24:19.501Z"
   },
   {
    "duration": 16,
    "start_time": "2022-02-28T12:24:19.512Z"
   },
   {
    "duration": 10,
    "start_time": "2022-02-28T12:24:19.530Z"
   },
   {
    "duration": 69,
    "start_time": "2022-02-28T12:24:19.542Z"
   },
   {
    "duration": 7,
    "start_time": "2022-02-28T12:24:27.089Z"
   },
   {
    "duration": 34,
    "start_time": "2022-02-28T12:24:27.527Z"
   },
   {
    "duration": 747,
    "start_time": "2022-02-28T12:24:33.363Z"
   },
   {
    "duration": 76,
    "start_time": "2022-02-28T12:24:34.113Z"
   },
   {
    "duration": 18,
    "start_time": "2022-02-28T12:24:34.192Z"
   },
   {
    "duration": 103,
    "start_time": "2022-02-28T12:24:34.213Z"
   },
   {
    "duration": 41,
    "start_time": "2022-02-28T12:24:34.319Z"
   },
   {
    "duration": 12,
    "start_time": "2022-02-28T12:24:34.383Z"
   },
   {
    "duration": 8,
    "start_time": "2022-02-28T12:24:34.397Z"
   },
   {
    "duration": 8,
    "start_time": "2022-02-28T12:24:34.409Z"
   },
   {
    "duration": 13,
    "start_time": "2022-02-28T12:24:34.420Z"
   },
   {
    "duration": 7,
    "start_time": "2022-02-28T12:24:34.435Z"
   },
   {
    "duration": 39,
    "start_time": "2022-02-28T12:24:34.445Z"
   },
   {
    "duration": 6,
    "start_time": "2022-02-28T12:24:34.487Z"
   },
   {
    "duration": 37,
    "start_time": "2022-02-28T12:24:34.495Z"
   },
   {
    "duration": 78,
    "start_time": "2022-02-28T12:28:47.299Z"
   },
   {
    "duration": 5,
    "start_time": "2022-02-28T12:28:58.320Z"
   },
   {
    "duration": 6,
    "start_time": "2022-02-28T12:29:38.593Z"
   },
   {
    "duration": 383,
    "start_time": "2022-02-28T12:41:57.561Z"
   },
   {
    "duration": 14,
    "start_time": "2022-02-28T12:44:06.357Z"
   },
   {
    "duration": 12,
    "start_time": "2022-02-28T12:45:51.859Z"
   },
   {
    "duration": 45,
    "start_time": "2022-02-28T12:46:23.989Z"
   },
   {
    "duration": 10,
    "start_time": "2022-02-28T12:47:28.864Z"
   },
   {
    "duration": 44,
    "start_time": "2022-02-28T12:47:32.066Z"
   },
   {
    "duration": 9,
    "start_time": "2022-02-28T13:05:17.478Z"
   },
   {
    "duration": 37,
    "start_time": "2022-02-28T13:05:35.992Z"
   },
   {
    "duration": 382,
    "start_time": "2022-02-28T13:07:10.264Z"
   },
   {
    "duration": 6,
    "start_time": "2022-02-28T13:07:33.479Z"
   },
   {
    "duration": 34,
    "start_time": "2022-02-28T13:07:36.658Z"
   },
   {
    "duration": 8,
    "start_time": "2022-02-28T13:08:22.875Z"
   },
   {
    "duration": 52,
    "start_time": "2022-02-28T13:08:24.199Z"
   },
   {
    "duration": 753,
    "start_time": "2022-02-28T13:12:22.055Z"
   },
   {
    "duration": 85,
    "start_time": "2022-02-28T13:12:22.810Z"
   },
   {
    "duration": 22,
    "start_time": "2022-02-28T13:12:22.900Z"
   },
   {
    "duration": 120,
    "start_time": "2022-02-28T13:12:22.926Z"
   },
   {
    "duration": 49,
    "start_time": "2022-02-28T13:12:23.049Z"
   },
   {
    "duration": 21,
    "start_time": "2022-02-28T13:12:23.102Z"
   },
   {
    "duration": 82,
    "start_time": "2022-02-28T13:12:23.126Z"
   },
   {
    "duration": 1416,
    "start_time": "2022-02-28T13:12:21.796Z"
   },
   {
    "duration": 1411,
    "start_time": "2022-02-28T13:12:21.803Z"
   },
   {
    "duration": 1411,
    "start_time": "2022-02-28T13:12:21.805Z"
   },
   {
    "duration": 1410,
    "start_time": "2022-02-28T13:12:21.808Z"
   },
   {
    "duration": 1409,
    "start_time": "2022-02-28T13:12:21.811Z"
   },
   {
    "duration": 1407,
    "start_time": "2022-02-28T13:12:21.815Z"
   },
   {
    "duration": 1405,
    "start_time": "2022-02-28T13:12:21.819Z"
   },
   {
    "duration": 1406,
    "start_time": "2022-02-28T13:12:21.821Z"
   },
   {
    "duration": 1406,
    "start_time": "2022-02-28T13:12:21.823Z"
   },
   {
    "duration": 1406,
    "start_time": "2022-02-28T13:12:21.825Z"
   },
   {
    "duration": 1405,
    "start_time": "2022-02-28T13:12:21.829Z"
   },
   {
    "duration": 38,
    "start_time": "2022-02-28T13:12:31.642Z"
   },
   {
    "duration": 739,
    "start_time": "2022-02-28T13:12:56.692Z"
   },
   {
    "duration": 79,
    "start_time": "2022-02-28T13:12:57.434Z"
   },
   {
    "duration": 18,
    "start_time": "2022-02-28T13:12:57.516Z"
   },
   {
    "duration": 104,
    "start_time": "2022-02-28T13:12:57.536Z"
   },
   {
    "duration": 45,
    "start_time": "2022-02-28T13:12:57.642Z"
   },
   {
    "duration": 12,
    "start_time": "2022-02-28T13:12:57.689Z"
   },
   {
    "duration": 6,
    "start_time": "2022-02-28T13:12:57.703Z"
   },
   {
    "duration": 6,
    "start_time": "2022-02-28T13:12:57.713Z"
   },
   {
    "duration": 8,
    "start_time": "2022-02-28T13:12:57.721Z"
   },
   {
    "duration": 54,
    "start_time": "2022-02-28T13:12:57.731Z"
   },
   {
    "duration": 7,
    "start_time": "2022-02-28T13:12:57.787Z"
   },
   {
    "duration": 11,
    "start_time": "2022-02-28T13:12:57.797Z"
   },
   {
    "duration": 7,
    "start_time": "2022-02-28T13:12:57.810Z"
   },
   {
    "duration": 13,
    "start_time": "2022-02-28T13:12:57.820Z"
   },
   {
    "duration": 9,
    "start_time": "2022-02-28T13:12:57.836Z"
   },
   {
    "duration": 12,
    "start_time": "2022-02-28T13:12:57.883Z"
   },
   {
    "duration": 8,
    "start_time": "2022-02-28T13:12:57.898Z"
   },
   {
    "duration": 35,
    "start_time": "2022-02-28T13:12:57.908Z"
   },
   {
    "duration": 7,
    "start_time": "2022-02-28T13:15:29.575Z"
   },
   {
    "duration": 323,
    "start_time": "2022-02-28T13:41:00.587Z"
   },
   {
    "duration": 13,
    "start_time": "2022-02-28T13:41:08.630Z"
   },
   {
    "duration": 34,
    "start_time": "2022-02-28T13:41:21.174Z"
   },
   {
    "duration": 12,
    "start_time": "2022-02-28T13:41:30.785Z"
   },
   {
    "duration": 33,
    "start_time": "2022-02-28T13:41:30.803Z"
   },
   {
    "duration": 255,
    "start_time": "2022-02-28T13:50:51.585Z"
   },
   {
    "duration": 250,
    "start_time": "2022-02-28T13:54:08.766Z"
   },
   {
    "duration": 230,
    "start_time": "2022-02-28T13:54:33.334Z"
   },
   {
    "duration": 219,
    "start_time": "2022-02-28T13:57:04.755Z"
   },
   {
    "duration": 257,
    "start_time": "2022-02-28T13:57:28.863Z"
   },
   {
    "duration": 323,
    "start_time": "2022-02-28T14:00:59.365Z"
   },
   {
    "duration": 5850,
    "start_time": "2022-02-28T14:01:38.249Z"
   },
   {
    "duration": 1499,
    "start_time": "2022-02-28T14:01:42.604Z"
   },
   {
    "duration": 16,
    "start_time": "2022-02-28T14:01:59.802Z"
   },
   {
    "duration": 34,
    "start_time": "2022-02-28T14:02:07.182Z"
   },
   {
    "duration": 265,
    "start_time": "2022-02-28T14:06:01.478Z"
   },
   {
    "duration": 8,
    "start_time": "2022-02-28T14:06:09.706Z"
   },
   {
    "duration": 34,
    "start_time": "2022-02-28T14:06:17.769Z"
   },
   {
    "duration": 694,
    "start_time": "2022-02-28T14:06:28.834Z"
   },
   {
    "duration": 77,
    "start_time": "2022-02-28T14:06:29.531Z"
   },
   {
    "duration": 19,
    "start_time": "2022-02-28T14:06:29.611Z"
   },
   {
    "duration": 101,
    "start_time": "2022-02-28T14:06:29.634Z"
   },
   {
    "duration": 49,
    "start_time": "2022-02-28T14:06:29.738Z"
   },
   {
    "duration": 11,
    "start_time": "2022-02-28T14:06:29.790Z"
   },
   {
    "duration": 7,
    "start_time": "2022-02-28T14:06:29.803Z"
   },
   {
    "duration": 5,
    "start_time": "2022-02-28T14:06:29.814Z"
   },
   {
    "duration": 7,
    "start_time": "2022-02-28T14:06:29.821Z"
   },
   {
    "duration": 52,
    "start_time": "2022-02-28T14:06:29.830Z"
   },
   {
    "duration": 6,
    "start_time": "2022-02-28T14:06:29.884Z"
   },
   {
    "duration": 8,
    "start_time": "2022-02-28T14:06:29.892Z"
   },
   {
    "duration": 7,
    "start_time": "2022-02-28T14:06:29.903Z"
   },
   {
    "duration": 5,
    "start_time": "2022-02-28T14:06:29.912Z"
   },
   {
    "duration": 8,
    "start_time": "2022-02-28T14:06:29.919Z"
   },
   {
    "duration": 54,
    "start_time": "2022-02-28T14:06:29.929Z"
   },
   {
    "duration": 9,
    "start_time": "2022-02-28T14:06:29.986Z"
   },
   {
    "duration": 6,
    "start_time": "2022-02-28T14:06:29.998Z"
   },
   {
    "duration": 20,
    "start_time": "2022-02-28T14:06:30.007Z"
   },
   {
    "duration": 8,
    "start_time": "2022-02-28T14:06:30.030Z"
   },
   {
    "duration": 71,
    "start_time": "2022-02-28T14:06:30.041Z"
   },
   {
    "duration": 332,
    "start_time": "2022-02-28T14:06:51.640Z"
   },
   {
    "duration": 11,
    "start_time": "2022-02-28T14:06:57.225Z"
   },
   {
    "duration": 8,
    "start_time": "2022-02-28T14:08:21.089Z"
   },
   {
    "duration": 35,
    "start_time": "2022-02-28T14:08:23.290Z"
   },
   {
    "duration": 723,
    "start_time": "2022-02-28T14:09:58.672Z"
   },
   {
    "duration": 78,
    "start_time": "2022-02-28T14:09:59.398Z"
   },
   {
    "duration": 21,
    "start_time": "2022-02-28T14:09:59.483Z"
   },
   {
    "duration": 107,
    "start_time": "2022-02-28T14:09:59.508Z"
   },
   {
    "duration": 37,
    "start_time": "2022-02-28T14:09:59.619Z"
   },
   {
    "duration": 31,
    "start_time": "2022-02-28T14:09:59.659Z"
   },
   {
    "duration": 6,
    "start_time": "2022-02-28T14:09:59.693Z"
   },
   {
    "duration": 13,
    "start_time": "2022-02-28T14:09:59.701Z"
   },
   {
    "duration": 8,
    "start_time": "2022-02-28T14:09:59.718Z"
   },
   {
    "duration": 9,
    "start_time": "2022-02-28T14:09:59.729Z"
   },
   {
    "duration": 43,
    "start_time": "2022-02-28T14:09:59.741Z"
   },
   {
    "duration": 16,
    "start_time": "2022-02-28T14:09:59.786Z"
   },
   {
    "duration": 24,
    "start_time": "2022-02-28T14:09:59.804Z"
   },
   {
    "duration": 9,
    "start_time": "2022-02-28T14:09:59.832Z"
   },
   {
    "duration": 13,
    "start_time": "2022-02-28T14:09:59.843Z"
   },
   {
    "duration": 31,
    "start_time": "2022-02-28T14:09:59.859Z"
   },
   {
    "duration": 10,
    "start_time": "2022-02-28T14:09:59.893Z"
   },
   {
    "duration": 7,
    "start_time": "2022-02-28T14:09:59.905Z"
   },
   {
    "duration": 31,
    "start_time": "2022-02-28T14:09:59.915Z"
   },
   {
    "duration": 37,
    "start_time": "2022-02-28T14:09:59.948Z"
   },
   {
    "duration": 8,
    "start_time": "2022-02-28T14:09:59.988Z"
   },
   {
    "duration": 39,
    "start_time": "2022-02-28T14:09:59.999Z"
   },
   {
    "duration": 6539,
    "start_time": "2022-02-28T14:20:52.025Z"
   },
   {
    "duration": 601,
    "start_time": "2022-02-28T14:23:03.941Z"
   },
   {
    "duration": 87,
    "start_time": "2022-02-28T14:24:31.803Z"
   },
   {
    "duration": 571,
    "start_time": "2022-02-28T14:24:48.950Z"
   },
   {
    "duration": 7083,
    "start_time": "2022-02-28T14:26:11.405Z"
   },
   {
    "duration": 1550,
    "start_time": "2022-02-28T14:26:16.941Z"
   },
   {
    "duration": 259,
    "start_time": "2022-02-28T14:26:31.519Z"
   },
   {
    "duration": 359,
    "start_time": "2022-02-28T14:26:48.633Z"
   },
   {
    "duration": 11102,
    "start_time": "2022-02-28T14:27:20.712Z"
   },
   {
    "duration": 616,
    "start_time": "2022-02-28T14:29:03.396Z"
   },
   {
    "duration": 32,
    "start_time": "2022-02-28T14:30:22.924Z"
   },
   {
    "duration": 669,
    "start_time": "2022-02-28T14:32:38.561Z"
   },
   {
    "duration": 581,
    "start_time": "2022-02-28T14:33:54.340Z"
   },
   {
    "duration": 3567,
    "start_time": "2022-02-28T14:35:55.559Z"
   },
   {
    "duration": 32,
    "start_time": "2022-02-28T14:36:36.332Z"
   },
   {
    "duration": 61,
    "start_time": "2022-02-28T14:36:44.359Z"
   },
   {
    "duration": 32,
    "start_time": "2022-02-28T14:38:17.990Z"
   },
   {
    "duration": 272,
    "start_time": "2022-02-28T14:51:13.284Z"
   },
   {
    "duration": 39,
    "start_time": "2022-02-28T14:53:42.561Z"
   },
   {
    "duration": 588,
    "start_time": "2022-03-01T07:07:11.009Z"
   },
   {
    "duration": 69,
    "start_time": "2022-03-01T07:07:11.598Z"
   },
   {
    "duration": 11,
    "start_time": "2022-03-01T07:07:11.669Z"
   },
   {
    "duration": 60,
    "start_time": "2022-03-01T07:07:11.681Z"
   },
   {
    "duration": 21,
    "start_time": "2022-03-01T07:07:11.743Z"
   },
   {
    "duration": 11,
    "start_time": "2022-03-01T07:07:11.766Z"
   },
   {
    "duration": 26,
    "start_time": "2022-03-01T07:07:11.779Z"
   },
   {
    "duration": 5,
    "start_time": "2022-03-01T07:07:11.808Z"
   },
   {
    "duration": 5,
    "start_time": "2022-03-01T07:07:11.815Z"
   },
   {
    "duration": 6,
    "start_time": "2022-03-01T07:07:11.821Z"
   },
   {
    "duration": 4,
    "start_time": "2022-03-01T07:07:11.828Z"
   },
   {
    "duration": 9,
    "start_time": "2022-03-01T07:07:11.834Z"
   },
   {
    "duration": 5,
    "start_time": "2022-03-01T07:07:11.844Z"
   },
   {
    "duration": 52,
    "start_time": "2022-03-01T07:07:11.850Z"
   },
   {
    "duration": 8,
    "start_time": "2022-03-01T07:07:11.904Z"
   },
   {
    "duration": 14,
    "start_time": "2022-03-01T07:07:11.914Z"
   },
   {
    "duration": 7,
    "start_time": "2022-03-01T07:07:11.929Z"
   },
   {
    "duration": 12,
    "start_time": "2022-03-01T07:07:11.937Z"
   },
   {
    "duration": 17,
    "start_time": "2022-03-01T07:07:11.951Z"
   },
   {
    "duration": 7,
    "start_time": "2022-03-01T07:07:11.969Z"
   },
   {
    "duration": 27,
    "start_time": "2022-03-01T07:07:11.977Z"
   },
   {
    "duration": 21,
    "start_time": "2022-03-01T07:07:12.005Z"
   },
   {
    "duration": 1803,
    "start_time": "2022-03-01T07:07:12.029Z"
   },
   {
    "duration": 24,
    "start_time": "2022-03-01T07:07:13.834Z"
   },
   {
    "duration": 366,
    "start_time": "2022-03-01T07:10:25.211Z"
   },
   {
    "duration": 28,
    "start_time": "2022-03-01T07:10:49.577Z"
   },
   {
    "duration": 1399,
    "start_time": "2022-03-01T07:12:00.039Z"
   },
   {
    "duration": 28,
    "start_time": "2022-03-01T07:12:10.820Z"
   },
   {
    "duration": 4,
    "start_time": "2022-03-01T07:15:10.775Z"
   },
   {
    "duration": 19,
    "start_time": "2022-03-01T07:15:22.636Z"
   },
   {
    "duration": 4,
    "start_time": "2022-03-01T07:16:10.248Z"
   },
   {
    "duration": 4,
    "start_time": "2022-03-01T07:18:18.566Z"
   },
   {
    "duration": 19,
    "start_time": "2022-03-01T07:18:19.303Z"
   },
   {
    "duration": 4,
    "start_time": "2022-03-01T07:19:42.313Z"
   },
   {
    "duration": 112,
    "start_time": "2022-03-01T07:19:42.804Z"
   },
   {
    "duration": 19,
    "start_time": "2022-03-01T07:19:43.301Z"
   },
   {
    "duration": 4,
    "start_time": "2022-03-01T07:19:48.076Z"
   },
   {
    "duration": 4,
    "start_time": "2022-03-01T07:19:48.507Z"
   },
   {
    "duration": 19,
    "start_time": "2022-03-01T07:19:49.202Z"
   },
   {
    "duration": 20,
    "start_time": "2022-03-01T07:23:59.512Z"
   },
   {
    "duration": 21,
    "start_time": "2022-03-01T07:24:08.734Z"
   },
   {
    "duration": 5,
    "start_time": "2022-03-01T07:24:58.762Z"
   },
   {
    "duration": 5,
    "start_time": "2022-03-01T07:25:13.905Z"
   },
   {
    "duration": 7,
    "start_time": "2022-03-01T07:25:32.317Z"
   },
   {
    "duration": 5,
    "start_time": "2022-03-01T07:25:42.801Z"
   },
   {
    "duration": 4,
    "start_time": "2022-03-01T07:25:59.486Z"
   },
   {
    "duration": 238,
    "start_time": "2022-03-01T07:29:21.689Z"
   },
   {
    "duration": 137,
    "start_time": "2022-03-01T07:29:42.730Z"
   },
   {
    "duration": 209,
    "start_time": "2022-03-01T07:30:11.206Z"
   },
   {
    "duration": 133,
    "start_time": "2022-03-01T07:30:37.815Z"
   },
   {
    "duration": 162,
    "start_time": "2022-03-01T07:30:48.414Z"
   },
   {
    "duration": 158,
    "start_time": "2022-03-01T07:31:44.668Z"
   },
   {
    "duration": 297,
    "start_time": "2022-03-01T07:32:17.566Z"
   },
   {
    "duration": 184,
    "start_time": "2022-03-01T07:32:25.659Z"
   },
   {
    "duration": 302,
    "start_time": "2022-03-01T07:33:01.866Z"
   },
   {
    "duration": 242,
    "start_time": "2022-03-01T07:33:10.193Z"
   },
   {
    "duration": 162,
    "start_time": "2022-03-01T07:33:20.097Z"
   },
   {
    "duration": 692,
    "start_time": "2022-03-01T07:33:32.907Z"
   },
   {
    "duration": 167,
    "start_time": "2022-03-01T07:33:38.952Z"
   },
   {
    "duration": 158,
    "start_time": "2022-03-01T07:33:49.227Z"
   },
   {
    "duration": 175,
    "start_time": "2022-03-01T07:33:55.829Z"
   },
   {
    "duration": 156,
    "start_time": "2022-03-01T07:34:54.125Z"
   },
   {
    "duration": 150,
    "start_time": "2022-03-01T07:35:03.996Z"
   },
   {
    "duration": 149,
    "start_time": "2022-03-01T07:35:10.977Z"
   },
   {
    "duration": 134,
    "start_time": "2022-03-01T07:35:34.021Z"
   },
   {
    "duration": 142,
    "start_time": "2022-03-01T07:36:15.140Z"
   },
   {
    "duration": 584,
    "start_time": "2022-03-01T07:37:12.471Z"
   },
   {
    "duration": 56,
    "start_time": "2022-03-01T07:37:13.057Z"
   },
   {
    "duration": 10,
    "start_time": "2022-03-01T07:37:13.115Z"
   },
   {
    "duration": 55,
    "start_time": "2022-03-01T07:37:13.127Z"
   },
   {
    "duration": 36,
    "start_time": "2022-03-01T07:37:13.184Z"
   },
   {
    "duration": 10,
    "start_time": "2022-03-01T07:37:13.222Z"
   },
   {
    "duration": 4,
    "start_time": "2022-03-01T07:37:13.233Z"
   },
   {
    "duration": 3,
    "start_time": "2022-03-01T07:37:13.239Z"
   },
   {
    "duration": 5,
    "start_time": "2022-03-01T07:37:13.244Z"
   },
   {
    "duration": 5,
    "start_time": "2022-03-01T07:37:13.251Z"
   },
   {
    "duration": 10,
    "start_time": "2022-03-01T07:37:13.258Z"
   },
   {
    "duration": 9,
    "start_time": "2022-03-01T07:37:13.269Z"
   },
   {
    "duration": 25,
    "start_time": "2022-03-01T07:37:13.279Z"
   },
   {
    "duration": 3,
    "start_time": "2022-03-01T07:37:13.306Z"
   },
   {
    "duration": 10,
    "start_time": "2022-03-01T07:37:13.310Z"
   },
   {
    "duration": 12,
    "start_time": "2022-03-01T07:37:13.322Z"
   },
   {
    "duration": 5,
    "start_time": "2022-03-01T07:37:13.335Z"
   },
   {
    "duration": 8,
    "start_time": "2022-03-01T07:37:13.341Z"
   },
   {
    "duration": 14,
    "start_time": "2022-03-01T07:37:13.350Z"
   },
   {
    "duration": 5,
    "start_time": "2022-03-01T07:37:13.366Z"
   },
   {
    "duration": 8,
    "start_time": "2022-03-01T07:37:13.372Z"
   },
   {
    "duration": 35,
    "start_time": "2022-03-01T07:37:13.381Z"
   },
   {
    "duration": 1732,
    "start_time": "2022-03-01T07:37:13.418Z"
   },
   {
    "duration": 3,
    "start_time": "2022-03-01T07:37:15.152Z"
   },
   {
    "duration": 6,
    "start_time": "2022-03-01T07:37:15.157Z"
   },
   {
    "duration": 5,
    "start_time": "2022-03-01T07:37:15.164Z"
   },
   {
    "duration": 7,
    "start_time": "2022-03-01T07:37:15.170Z"
   },
   {
    "duration": 261,
    "start_time": "2022-03-01T07:37:15.178Z"
   },
   {
    "duration": 179,
    "start_time": "2022-03-01T07:37:15.441Z"
   },
   {
    "duration": 162,
    "start_time": "2022-03-01T07:37:15.621Z"
   },
   {
    "duration": 4,
    "start_time": "2022-03-01T07:37:39.802Z"
   },
   {
    "duration": 153,
    "start_time": "2022-03-01T07:37:44.501Z"
   },
   {
    "duration": 134,
    "start_time": "2022-03-01T07:38:03.926Z"
   },
   {
    "duration": 145,
    "start_time": "2022-03-01T07:38:09.786Z"
   },
   {
    "duration": 128,
    "start_time": "2022-03-01T07:38:14.871Z"
   },
   {
    "duration": 205,
    "start_time": "2022-03-01T07:38:24.743Z"
   },
   {
    "duration": 414,
    "start_time": "2022-03-01T07:38:33.516Z"
   },
   {
    "duration": 265,
    "start_time": "2022-03-01T07:38:51.132Z"
   },
   {
    "duration": 1479,
    "start_time": "2022-03-01T07:39:03.029Z"
   },
   {
    "duration": 520,
    "start_time": "2022-03-01T07:39:54.543Z"
   },
   {
    "duration": 56,
    "start_time": "2022-03-01T07:39:55.065Z"
   },
   {
    "duration": 11,
    "start_time": "2022-03-01T07:39:55.123Z"
   },
   {
    "duration": 66,
    "start_time": "2022-03-01T07:39:55.136Z"
   },
   {
    "duration": 21,
    "start_time": "2022-03-01T07:39:55.203Z"
   },
   {
    "duration": 9,
    "start_time": "2022-03-01T07:39:55.225Z"
   },
   {
    "duration": 4,
    "start_time": "2022-03-01T07:39:55.235Z"
   },
   {
    "duration": 2,
    "start_time": "2022-03-01T07:39:55.241Z"
   },
   {
    "duration": 5,
    "start_time": "2022-03-01T07:39:55.245Z"
   },
   {
    "duration": 6,
    "start_time": "2022-03-01T07:39:55.251Z"
   },
   {
    "duration": 7,
    "start_time": "2022-03-01T07:39:55.259Z"
   },
   {
    "duration": 34,
    "start_time": "2022-03-01T07:39:55.267Z"
   },
   {
    "duration": 4,
    "start_time": "2022-03-01T07:39:55.303Z"
   },
   {
    "duration": 3,
    "start_time": "2022-03-01T07:39:55.309Z"
   },
   {
    "duration": 9,
    "start_time": "2022-03-01T07:39:55.313Z"
   },
   {
    "duration": 13,
    "start_time": "2022-03-01T07:39:55.323Z"
   },
   {
    "duration": 5,
    "start_time": "2022-03-01T07:39:55.337Z"
   },
   {
    "duration": 8,
    "start_time": "2022-03-01T07:39:55.343Z"
   },
   {
    "duration": 15,
    "start_time": "2022-03-01T07:39:55.352Z"
   },
   {
    "duration": 12,
    "start_time": "2022-03-01T07:39:55.369Z"
   },
   {
    "duration": 8,
    "start_time": "2022-03-01T07:39:55.382Z"
   },
   {
    "duration": 27,
    "start_time": "2022-03-01T07:39:55.391Z"
   },
   {
    "duration": 1711,
    "start_time": "2022-03-01T07:39:55.421Z"
   },
   {
    "duration": 3,
    "start_time": "2022-03-01T07:39:57.134Z"
   },
   {
    "duration": 6,
    "start_time": "2022-03-01T07:39:57.138Z"
   },
   {
    "duration": 5,
    "start_time": "2022-03-01T07:39:57.145Z"
   },
   {
    "duration": 4,
    "start_time": "2022-03-01T07:39:57.151Z"
   },
   {
    "duration": 271,
    "start_time": "2022-03-01T07:39:57.157Z"
   },
   {
    "duration": 180,
    "start_time": "2022-03-01T07:39:57.429Z"
   },
   {
    "duration": 1530,
    "start_time": "2022-03-01T07:39:57.611Z"
   },
   {
    "duration": 270,
    "start_time": "2022-03-01T07:43:05.268Z"
   },
   {
    "duration": 198,
    "start_time": "2022-03-01T07:43:15.540Z"
   },
   {
    "duration": 137,
    "start_time": "2022-03-01T07:43:24.745Z"
   },
   {
    "duration": 160,
    "start_time": "2022-03-01T07:43:34.526Z"
   },
   {
    "duration": 173,
    "start_time": "2022-03-01T07:43:41.361Z"
   },
   {
    "duration": 161,
    "start_time": "2022-03-01T07:43:54.160Z"
   },
   {
    "duration": 167,
    "start_time": "2022-03-01T07:45:54.937Z"
   },
   {
    "duration": 1720,
    "start_time": "2022-03-01T07:46:12.624Z"
   },
   {
    "duration": 356,
    "start_time": "2022-03-01T07:47:29.139Z"
   },
   {
    "duration": 225,
    "start_time": "2022-03-01T07:47:57.876Z"
   },
   {
    "duration": 371,
    "start_time": "2022-03-01T07:48:04.186Z"
   },
   {
    "duration": 299,
    "start_time": "2022-03-01T07:50:58.692Z"
   },
   {
    "duration": 580,
    "start_time": "2022-03-01T07:54:46.451Z"
   },
   {
    "duration": 61,
    "start_time": "2022-03-01T07:54:47.033Z"
   },
   {
    "duration": 12,
    "start_time": "2022-03-01T07:54:47.096Z"
   },
   {
    "duration": 60,
    "start_time": "2022-03-01T07:54:47.110Z"
   },
   {
    "duration": 46,
    "start_time": "2022-03-01T07:54:47.172Z"
   },
   {
    "duration": 13,
    "start_time": "2022-03-01T07:54:47.220Z"
   },
   {
    "duration": 11,
    "start_time": "2022-03-01T07:54:47.235Z"
   },
   {
    "duration": 21,
    "start_time": "2022-03-01T07:54:47.249Z"
   },
   {
    "duration": 7,
    "start_time": "2022-03-01T07:54:47.273Z"
   },
   {
    "duration": 9,
    "start_time": "2022-03-01T07:54:47.282Z"
   },
   {
    "duration": 9,
    "start_time": "2022-03-01T07:54:47.292Z"
   },
   {
    "duration": 14,
    "start_time": "2022-03-01T07:54:47.302Z"
   },
   {
    "duration": 27,
    "start_time": "2022-03-01T07:54:47.318Z"
   },
   {
    "duration": 27,
    "start_time": "2022-03-01T07:54:47.347Z"
   },
   {
    "duration": 14,
    "start_time": "2022-03-01T07:54:47.375Z"
   },
   {
    "duration": 36,
    "start_time": "2022-03-01T07:54:47.391Z"
   },
   {
    "duration": 6,
    "start_time": "2022-03-01T07:54:47.428Z"
   },
   {
    "duration": 6,
    "start_time": "2022-03-01T07:54:47.436Z"
   },
   {
    "duration": 17,
    "start_time": "2022-03-01T07:54:47.444Z"
   },
   {
    "duration": 8,
    "start_time": "2022-03-01T07:54:47.462Z"
   },
   {
    "duration": 8,
    "start_time": "2022-03-01T07:54:47.471Z"
   },
   {
    "duration": 37,
    "start_time": "2022-03-01T07:54:47.480Z"
   },
   {
    "duration": 3281,
    "start_time": "2022-03-01T07:54:47.521Z"
   },
   {
    "duration": 4,
    "start_time": "2022-03-01T07:54:50.804Z"
   },
   {
    "duration": 23,
    "start_time": "2022-03-01T07:54:50.810Z"
   },
   {
    "duration": 10,
    "start_time": "2022-03-01T07:54:50.835Z"
   },
   {
    "duration": 19,
    "start_time": "2022-03-01T07:54:50.847Z"
   },
   {
    "duration": 419,
    "start_time": "2022-03-01T07:54:50.868Z"
   },
   {
    "duration": 483,
    "start_time": "2022-03-01T07:54:51.289Z"
   },
   {
    "duration": 193,
    "start_time": "2022-03-01T07:54:51.774Z"
   },
   {
    "duration": 1606,
    "start_time": "2022-03-01T07:54:51.969Z"
   },
   {
    "duration": 321,
    "start_time": "2022-03-01T07:54:59.489Z"
   },
   {
    "duration": 173,
    "start_time": "2022-03-01T07:55:06.401Z"
   },
   {
    "duration": 1642,
    "start_time": "2022-03-01T07:55:13.845Z"
   },
   {
    "duration": 95,
    "start_time": "2022-03-01T07:57:19.868Z"
   },
   {
    "duration": 489,
    "start_time": "2022-03-01T07:57:28.004Z"
   },
   {
    "duration": 789,
    "start_time": "2022-03-01T07:57:45.215Z"
   },
   {
    "duration": 523,
    "start_time": "2022-03-01T07:57:50.693Z"
   },
   {
    "duration": 3142,
    "start_time": "2022-03-01T07:58:27.199Z"
   },
   {
    "duration": 294,
    "start_time": "2022-03-01T07:58:39.526Z"
   },
   {
    "duration": 271,
    "start_time": "2022-03-01T07:58:47.681Z"
   },
   {
    "duration": 392,
    "start_time": "2022-03-01T07:58:58.493Z"
   },
   {
    "duration": 173,
    "start_time": "2022-03-01T07:59:24.912Z"
   },
   {
    "duration": 168,
    "start_time": "2022-03-01T07:59:36.174Z"
   },
   {
    "duration": 154,
    "start_time": "2022-03-01T07:59:41.664Z"
   },
   {
    "duration": 174,
    "start_time": "2022-03-01T08:00:05.003Z"
   },
   {
    "duration": 177,
    "start_time": "2022-03-01T08:00:10.548Z"
   },
   {
    "duration": 168,
    "start_time": "2022-03-01T08:00:25.299Z"
   },
   {
    "duration": 159,
    "start_time": "2022-03-01T08:00:29.565Z"
   },
   {
    "duration": 167,
    "start_time": "2022-03-01T08:00:40.013Z"
   },
   {
    "duration": 166,
    "start_time": "2022-03-01T08:01:09.493Z"
   },
   {
    "duration": 281,
    "start_time": "2022-03-01T08:02:28.075Z"
   },
   {
    "duration": 276,
    "start_time": "2022-03-01T08:02:46.927Z"
   },
   {
    "duration": 168,
    "start_time": "2022-03-01T08:03:02.114Z"
   },
   {
    "duration": 163,
    "start_time": "2022-03-01T08:03:07.692Z"
   },
   {
    "duration": 168,
    "start_time": "2022-03-01T08:03:12.573Z"
   },
   {
    "duration": 214,
    "start_time": "2022-03-01T08:03:24.570Z"
   },
   {
    "duration": 170,
    "start_time": "2022-03-01T08:03:56.634Z"
   },
   {
    "duration": 163,
    "start_time": "2022-03-01T08:04:07.604Z"
   },
   {
    "duration": 353,
    "start_time": "2022-03-01T08:04:19.905Z"
   },
   {
    "duration": 168,
    "start_time": "2022-03-01T08:04:35.563Z"
   },
   {
    "duration": 271,
    "start_time": "2022-03-01T08:04:40.355Z"
   },
   {
    "duration": 213,
    "start_time": "2022-03-01T08:04:48.644Z"
   },
   {
    "duration": 166,
    "start_time": "2022-03-01T08:05:15.585Z"
   },
   {
    "duration": 203,
    "start_time": "2022-03-01T08:05:48.812Z"
   },
   {
    "duration": 195,
    "start_time": "2022-03-01T08:06:02.956Z"
   },
   {
    "duration": 175,
    "start_time": "2022-03-01T08:06:32.868Z"
   },
   {
    "duration": 178,
    "start_time": "2022-03-01T08:06:44.429Z"
   },
   {
    "duration": 5,
    "start_time": "2022-03-01T08:07:01.826Z"
   },
   {
    "duration": 178,
    "start_time": "2022-03-01T08:07:08.096Z"
   },
   {
    "duration": 4,
    "start_time": "2022-03-01T08:07:44.693Z"
   },
   {
    "duration": 207,
    "start_time": "2022-03-01T08:07:58.407Z"
   },
   {
    "duration": 207,
    "start_time": "2022-03-01T08:08:16.465Z"
   },
   {
    "duration": 4,
    "start_time": "2022-03-01T09:02:02.452Z"
   },
   {
    "duration": 5,
    "start_time": "2022-03-01T09:04:50.843Z"
   },
   {
    "duration": 235,
    "start_time": "2022-03-01T09:05:03.208Z"
   },
   {
    "duration": 241,
    "start_time": "2022-03-01T09:05:16.342Z"
   },
   {
    "duration": 7,
    "start_time": "2022-03-01T09:05:44.216Z"
   },
   {
    "duration": 7,
    "start_time": "2022-03-01T09:06:07.061Z"
   },
   {
    "duration": 8511,
    "start_time": "2022-03-01T09:17:12.554Z"
   },
   {
    "duration": 454,
    "start_time": "2022-03-01T09:17:47.415Z"
   },
   {
    "duration": 449,
    "start_time": "2022-03-01T09:18:08.512Z"
   },
   {
    "duration": 448,
    "start_time": "2022-03-01T09:18:16.906Z"
   },
   {
    "duration": 637,
    "start_time": "2022-03-01T09:19:09.340Z"
   },
   {
    "duration": 297,
    "start_time": "2022-03-01T09:19:36.270Z"
   },
   {
    "duration": 293,
    "start_time": "2022-03-01T09:19:54.126Z"
   },
   {
    "duration": 790,
    "start_time": "2022-03-01T09:20:27.067Z"
   },
   {
    "duration": 598,
    "start_time": "2022-03-01T09:20:35.365Z"
   },
   {
    "duration": 62,
    "start_time": "2022-03-01T09:20:35.965Z"
   },
   {
    "duration": 20,
    "start_time": "2022-03-01T09:20:36.032Z"
   },
   {
    "duration": 69,
    "start_time": "2022-03-01T09:20:36.054Z"
   },
   {
    "duration": 24,
    "start_time": "2022-03-01T09:20:36.125Z"
   },
   {
    "duration": 9,
    "start_time": "2022-03-01T09:20:36.151Z"
   },
   {
    "duration": 4,
    "start_time": "2022-03-01T09:20:36.161Z"
   },
   {
    "duration": 4,
    "start_time": "2022-03-01T09:20:36.168Z"
   },
   {
    "duration": 29,
    "start_time": "2022-03-01T09:20:36.174Z"
   },
   {
    "duration": 9,
    "start_time": "2022-03-01T09:20:36.204Z"
   },
   {
    "duration": 9,
    "start_time": "2022-03-01T09:20:36.214Z"
   },
   {
    "duration": 18,
    "start_time": "2022-03-01T09:20:36.224Z"
   },
   {
    "duration": 8,
    "start_time": "2022-03-01T09:20:36.244Z"
   },
   {
    "duration": 7,
    "start_time": "2022-03-01T09:20:36.253Z"
   },
   {
    "duration": 9,
    "start_time": "2022-03-01T09:20:36.261Z"
   },
   {
    "duration": 14,
    "start_time": "2022-03-01T09:20:36.271Z"
   },
   {
    "duration": 5,
    "start_time": "2022-03-01T09:20:36.286Z"
   },
   {
    "duration": 9,
    "start_time": "2022-03-01T09:20:36.293Z"
   },
   {
    "duration": 13,
    "start_time": "2022-03-01T09:20:36.303Z"
   },
   {
    "duration": 6,
    "start_time": "2022-03-01T09:20:36.318Z"
   },
   {
    "duration": 6,
    "start_time": "2022-03-01T09:20:36.326Z"
   },
   {
    "duration": 20,
    "start_time": "2022-03-01T09:20:36.334Z"
   },
   {
    "duration": 1798,
    "start_time": "2022-03-01T09:20:36.356Z"
   },
   {
    "duration": 4,
    "start_time": "2022-03-01T09:20:38.156Z"
   },
   {
    "duration": 7,
    "start_time": "2022-03-01T09:20:38.161Z"
   },
   {
    "duration": 4,
    "start_time": "2022-03-01T09:20:38.171Z"
   },
   {
    "duration": 26,
    "start_time": "2022-03-01T09:20:38.176Z"
   },
   {
    "duration": 5,
    "start_time": "2022-03-01T09:20:38.204Z"
   },
   {
    "duration": 296,
    "start_time": "2022-03-01T09:20:38.211Z"
   },
   {
    "duration": 227,
    "start_time": "2022-03-01T09:20:38.508Z"
   },
   {
    "duration": 382,
    "start_time": "2022-03-01T09:20:38.737Z"
   },
   {
    "duration": 807,
    "start_time": "2022-03-01T09:20:38.313Z"
   },
   {
    "duration": 806,
    "start_time": "2022-03-01T09:20:38.315Z"
   },
   {
    "duration": 159,
    "start_time": "2022-03-01T09:22:11.276Z"
   },
   {
    "duration": 159,
    "start_time": "2022-03-01T09:25:22.187Z"
   },
   {
    "duration": 2,
    "start_time": "2022-03-01T09:27:35.798Z"
   },
   {
    "duration": 513,
    "start_time": "2022-03-01T09:27:42.650Z"
   },
   {
    "duration": 58,
    "start_time": "2022-03-01T09:27:43.164Z"
   },
   {
    "duration": 11,
    "start_time": "2022-03-01T09:27:43.223Z"
   },
   {
    "duration": 66,
    "start_time": "2022-03-01T09:27:43.235Z"
   },
   {
    "duration": 21,
    "start_time": "2022-03-01T09:27:43.303Z"
   },
   {
    "duration": 8,
    "start_time": "2022-03-01T09:27:43.325Z"
   },
   {
    "duration": 4,
    "start_time": "2022-03-01T09:27:43.335Z"
   },
   {
    "duration": 2,
    "start_time": "2022-03-01T09:27:43.341Z"
   },
   {
    "duration": 6,
    "start_time": "2022-03-01T09:27:43.345Z"
   },
   {
    "duration": 8,
    "start_time": "2022-03-01T09:27:43.352Z"
   },
   {
    "duration": 9,
    "start_time": "2022-03-01T09:27:43.362Z"
   },
   {
    "duration": 34,
    "start_time": "2022-03-01T09:27:43.372Z"
   },
   {
    "duration": 7,
    "start_time": "2022-03-01T09:27:43.408Z"
   },
   {
    "duration": 6,
    "start_time": "2022-03-01T09:27:43.416Z"
   },
   {
    "duration": 9,
    "start_time": "2022-03-01T09:27:43.424Z"
   },
   {
    "duration": 13,
    "start_time": "2022-03-01T09:27:43.434Z"
   },
   {
    "duration": 5,
    "start_time": "2022-03-01T09:27:43.448Z"
   },
   {
    "duration": 8,
    "start_time": "2022-03-01T09:27:43.454Z"
   },
   {
    "duration": 39,
    "start_time": "2022-03-01T09:27:43.463Z"
   },
   {
    "duration": 5,
    "start_time": "2022-03-01T09:27:43.504Z"
   },
   {
    "duration": 6,
    "start_time": "2022-03-01T09:27:43.510Z"
   },
   {
    "duration": 20,
    "start_time": "2022-03-01T09:27:43.518Z"
   },
   {
    "duration": 1754,
    "start_time": "2022-03-01T09:27:43.541Z"
   },
   {
    "duration": 5,
    "start_time": "2022-03-01T09:27:45.297Z"
   },
   {
    "duration": 5,
    "start_time": "2022-03-01T09:27:45.304Z"
   },
   {
    "duration": 3,
    "start_time": "2022-03-01T09:27:45.311Z"
   },
   {
    "duration": 4,
    "start_time": "2022-03-01T09:27:45.316Z"
   },
   {
    "duration": 5,
    "start_time": "2022-03-01T09:27:45.321Z"
   },
   {
    "duration": 286,
    "start_time": "2022-03-01T09:27:45.328Z"
   },
   {
    "duration": 218,
    "start_time": "2022-03-01T09:27:45.616Z"
   },
   {
    "duration": 177,
    "start_time": "2022-03-01T09:27:45.835Z"
   },
   {
    "duration": 170,
    "start_time": "2022-03-01T09:27:46.014Z"
   },
   {
    "duration": 5,
    "start_time": "2022-03-01T09:30:11.211Z"
   },
   {
    "duration": 163,
    "start_time": "2022-03-01T09:34:38.380Z"
   },
   {
    "duration": 162,
    "start_time": "2022-03-01T09:35:02.336Z"
   },
   {
    "duration": 159,
    "start_time": "2022-03-01T09:35:24.099Z"
   },
   {
    "duration": 275,
    "start_time": "2022-03-01T09:35:36.343Z"
   },
   {
    "duration": 5,
    "start_time": "2022-03-01T09:35:56.172Z"
   },
   {
    "duration": 555,
    "start_time": "2022-03-01T09:36:12.620Z"
   },
   {
    "duration": 120,
    "start_time": "2022-03-01T09:36:30.028Z"
   },
   {
    "duration": 307,
    "start_time": "2022-03-01T09:36:34.660Z"
   },
   {
    "duration": 5,
    "start_time": "2022-03-01T09:36:45.815Z"
   },
   {
    "duration": 7,
    "start_time": "2022-03-01T09:37:03.045Z"
   },
   {
    "duration": 7,
    "start_time": "2022-03-01T09:37:24.810Z"
   },
   {
    "duration": 176,
    "start_time": "2022-03-01T09:37:59.134Z"
   },
   {
    "duration": 306,
    "start_time": "2022-03-01T09:39:28.027Z"
   },
   {
    "duration": 172,
    "start_time": "2022-03-01T09:39:33.299Z"
   },
   {
    "duration": 5,
    "start_time": "2022-03-01T09:39:51.418Z"
   },
   {
    "duration": 4,
    "start_time": "2022-03-01T09:40:10.191Z"
   },
   {
    "duration": 292,
    "start_time": "2022-03-01T13:13:03.665Z"
   },
   {
    "duration": 724,
    "start_time": "2022-03-01T13:13:12.752Z"
   },
   {
    "duration": 81,
    "start_time": "2022-03-01T13:13:13.479Z"
   },
   {
    "duration": 27,
    "start_time": "2022-03-01T13:13:13.563Z"
   },
   {
    "duration": 101,
    "start_time": "2022-03-01T13:13:13.593Z"
   },
   {
    "duration": 42,
    "start_time": "2022-03-01T13:13:13.697Z"
   },
   {
    "duration": 23,
    "start_time": "2022-03-01T13:13:13.742Z"
   },
   {
    "duration": 19,
    "start_time": "2022-03-01T13:13:13.767Z"
   },
   {
    "duration": 20,
    "start_time": "2022-03-01T13:13:13.791Z"
   },
   {
    "duration": 18,
    "start_time": "2022-03-01T13:13:13.814Z"
   },
   {
    "duration": 14,
    "start_time": "2022-03-01T13:13:13.834Z"
   },
   {
    "duration": 9,
    "start_time": "2022-03-01T13:13:13.851Z"
   },
   {
    "duration": 39,
    "start_time": "2022-03-01T13:13:13.862Z"
   },
   {
    "duration": 9,
    "start_time": "2022-03-01T13:13:13.904Z"
   },
   {
    "duration": 6,
    "start_time": "2022-03-01T13:13:13.915Z"
   },
   {
    "duration": 9,
    "start_time": "2022-03-01T13:13:13.923Z"
   },
   {
    "duration": 19,
    "start_time": "2022-03-01T13:13:13.933Z"
   },
   {
    "duration": 28,
    "start_time": "2022-03-01T13:13:13.954Z"
   },
   {
    "duration": 11,
    "start_time": "2022-03-01T13:13:13.984Z"
   },
   {
    "duration": 20,
    "start_time": "2022-03-01T13:13:13.998Z"
   },
   {
    "duration": 9,
    "start_time": "2022-03-01T13:13:14.021Z"
   },
   {
    "duration": 9,
    "start_time": "2022-03-01T13:13:14.033Z"
   },
   {
    "duration": 72,
    "start_time": "2022-03-01T13:13:14.045Z"
   },
   {
    "duration": 3737,
    "start_time": "2022-03-01T13:13:14.122Z"
   },
   {
    "duration": 5,
    "start_time": "2022-03-01T13:13:17.862Z"
   },
   {
    "duration": 29,
    "start_time": "2022-03-01T13:13:17.870Z"
   },
   {
    "duration": 6,
    "start_time": "2022-03-01T13:13:17.901Z"
   },
   {
    "duration": 10,
    "start_time": "2022-03-01T13:13:17.909Z"
   },
   {
    "duration": 7,
    "start_time": "2022-03-01T13:13:17.922Z"
   },
   {
    "duration": 491,
    "start_time": "2022-03-01T13:13:17.931Z"
   },
   {
    "duration": 420,
    "start_time": "2022-03-01T13:13:18.424Z"
   },
   {
    "duration": 331,
    "start_time": "2022-03-01T13:13:18.846Z"
   },
   {
    "duration": 328,
    "start_time": "2022-03-01T13:13:19.182Z"
   },
   {
    "duration": 10,
    "start_time": "2022-03-01T13:13:19.513Z"
   },
   {
    "duration": 345,
    "start_time": "2022-03-01T13:13:19.525Z"
   },
   {
    "duration": 11,
    "start_time": "2022-03-01T13:13:19.872Z"
   },
   {
    "duration": 18,
    "start_time": "2022-03-01T13:13:19.886Z"
   },
   {
    "duration": 6,
    "start_time": "2022-03-01T13:13:19.906Z"
   },
   {
    "duration": 6,
    "start_time": "2022-03-01T13:13:46.762Z"
   },
   {
    "duration": 10,
    "start_time": "2022-03-01T13:14:03.847Z"
   },
   {
    "duration": 5,
    "start_time": "2022-03-01T13:14:41.428Z"
   },
   {
    "duration": 10,
    "start_time": "2022-03-01T13:14:41.877Z"
   },
   {
    "duration": 5,
    "start_time": "2022-03-01T13:14:47.526Z"
   },
   {
    "duration": 11,
    "start_time": "2022-03-01T13:14:48.404Z"
   },
   {
    "duration": 5,
    "start_time": "2022-03-01T13:14:54.314Z"
   },
   {
    "duration": 8,
    "start_time": "2022-03-01T13:14:55.129Z"
   },
   {
    "duration": 5,
    "start_time": "2022-03-01T13:15:00.644Z"
   },
   {
    "duration": 8,
    "start_time": "2022-03-01T13:15:01.759Z"
   },
   {
    "duration": 304,
    "start_time": "2022-03-01T13:15:16.173Z"
   },
   {
    "duration": 5,
    "start_time": "2022-03-01T13:15:25.331Z"
   },
   {
    "duration": 16,
    "start_time": "2022-03-01T13:15:25.882Z"
   },
   {
    "duration": 4,
    "start_time": "2022-03-01T13:15:32.318Z"
   },
   {
    "duration": 12,
    "start_time": "2022-03-01T13:15:33.083Z"
   },
   {
    "duration": 5,
    "start_time": "2022-03-01T13:16:09.862Z"
   },
   {
    "duration": 10,
    "start_time": "2022-03-01T13:16:10.593Z"
   },
   {
    "duration": 5,
    "start_time": "2022-03-01T13:16:23.166Z"
   },
   {
    "duration": 8,
    "start_time": "2022-03-01T13:16:23.696Z"
   },
   {
    "duration": 5,
    "start_time": "2022-03-01T13:16:28.612Z"
   },
   {
    "duration": 8,
    "start_time": "2022-03-01T13:16:29.259Z"
   },
   {
    "duration": 754,
    "start_time": "2022-03-01T13:17:48.011Z"
   },
   {
    "duration": 559,
    "start_time": "2022-03-05T07:09:16.860Z"
   },
   {
    "duration": 64,
    "start_time": "2022-03-05T07:09:17.421Z"
   },
   {
    "duration": 12,
    "start_time": "2022-03-05T07:09:17.489Z"
   },
   {
    "duration": 71,
    "start_time": "2022-03-05T07:09:17.502Z"
   },
   {
    "duration": 24,
    "start_time": "2022-03-05T07:09:17.575Z"
   },
   {
    "duration": 8,
    "start_time": "2022-03-05T07:09:17.601Z"
   },
   {
    "duration": 29,
    "start_time": "2022-03-05T07:09:17.611Z"
   },
   {
    "duration": 6,
    "start_time": "2022-03-05T07:09:17.643Z"
   },
   {
    "duration": 5,
    "start_time": "2022-03-05T07:09:17.651Z"
   },
   {
    "duration": 17,
    "start_time": "2022-03-05T07:09:17.658Z"
   },
   {
    "duration": 5,
    "start_time": "2022-03-05T07:09:17.677Z"
   },
   {
    "duration": 7,
    "start_time": "2022-03-05T07:09:17.683Z"
   },
   {
    "duration": 8,
    "start_time": "2022-03-05T07:09:17.692Z"
   },
   {
    "duration": 3,
    "start_time": "2022-03-05T07:09:17.702Z"
   },
   {
    "duration": 32,
    "start_time": "2022-03-05T07:09:17.707Z"
   },
   {
    "duration": 13,
    "start_time": "2022-03-05T07:09:17.741Z"
   },
   {
    "duration": 5,
    "start_time": "2022-03-05T07:09:17.756Z"
   },
   {
    "duration": 5,
    "start_time": "2022-03-05T07:09:17.763Z"
   },
   {
    "duration": 16,
    "start_time": "2022-03-05T07:09:17.770Z"
   },
   {
    "duration": 8,
    "start_time": "2022-03-05T07:09:17.788Z"
   },
   {
    "duration": 6,
    "start_time": "2022-03-05T07:09:17.798Z"
   },
   {
    "duration": 49,
    "start_time": "2022-03-05T07:09:17.807Z"
   },
   {
    "duration": 1808,
    "start_time": "2022-03-05T07:09:17.858Z"
   },
   {
    "duration": 5,
    "start_time": "2022-03-05T07:09:19.668Z"
   },
   {
    "duration": 15,
    "start_time": "2022-03-05T07:09:19.674Z"
   },
   {
    "duration": 8,
    "start_time": "2022-03-05T07:09:19.692Z"
   },
   {
    "duration": 10,
    "start_time": "2022-03-05T07:09:19.701Z"
   },
   {
    "duration": 10,
    "start_time": "2022-03-05T07:09:19.712Z"
   },
   {
    "duration": 327,
    "start_time": "2022-03-05T07:09:19.724Z"
   },
   {
    "duration": 262,
    "start_time": "2022-03-05T07:09:20.053Z"
   },
   {
    "duration": 202,
    "start_time": "2022-03-05T07:09:20.317Z"
   },
   {
    "duration": 200,
    "start_time": "2022-03-05T07:09:20.521Z"
   },
   {
    "duration": 7,
    "start_time": "2022-03-05T07:09:20.722Z"
   },
   {
    "duration": 207,
    "start_time": "2022-03-05T07:09:20.738Z"
   },
   {
    "duration": 4,
    "start_time": "2022-03-05T07:09:20.947Z"
   },
   {
    "duration": 32,
    "start_time": "2022-03-05T07:09:20.952Z"
   },
   {
    "duration": 7,
    "start_time": "2022-03-05T07:09:20.986Z"
   },
   {
    "duration": 20,
    "start_time": "2022-03-05T07:09:20.994Z"
   },
   {
    "duration": 561,
    "start_time": "2022-03-05T07:09:21.016Z"
   },
   {
    "duration": 544,
    "start_time": "2022-03-05T07:11:00.182Z"
   },
   {
    "duration": 509,
    "start_time": "2022-03-05T07:11:37.804Z"
   },
   {
    "duration": 489,
    "start_time": "2022-03-05T07:12:29.294Z"
   },
   {
    "duration": 530,
    "start_time": "2022-03-05T08:07:33.264Z"
   },
   {
    "duration": 484,
    "start_time": "2022-03-05T08:07:55.051Z"
   },
   {
    "duration": 588,
    "start_time": "2022-03-05T08:13:13.956Z"
   },
   {
    "duration": 522,
    "start_time": "2022-03-05T08:14:55.987Z"
   },
   {
    "duration": 519,
    "start_time": "2022-03-05T08:18:04.166Z"
   },
   {
    "duration": 489,
    "start_time": "2022-03-23T05:39:06.289Z"
   },
   {
    "duration": 93,
    "start_time": "2022-03-23T05:39:06.783Z"
   },
   {
    "duration": 22,
    "start_time": "2022-03-23T05:39:06.878Z"
   },
   {
    "duration": 134,
    "start_time": "2022-03-23T05:39:06.904Z"
   },
   {
    "duration": 53,
    "start_time": "2022-03-23T05:39:07.040Z"
   },
   {
    "duration": 24,
    "start_time": "2022-03-23T05:39:07.095Z"
   },
   {
    "duration": 10,
    "start_time": "2022-03-23T05:39:07.122Z"
   },
   {
    "duration": 31,
    "start_time": "2022-03-23T05:39:07.134Z"
   },
   {
    "duration": 35,
    "start_time": "2022-03-23T05:39:07.167Z"
   },
   {
    "duration": 12,
    "start_time": "2022-03-23T05:39:07.208Z"
   },
   {
    "duration": 27,
    "start_time": "2022-03-23T05:39:07.223Z"
   },
   {
    "duration": 26,
    "start_time": "2022-03-23T05:39:07.253Z"
   },
   {
    "duration": 17,
    "start_time": "2022-03-23T05:39:07.282Z"
   },
   {
    "duration": 27,
    "start_time": "2022-03-23T05:39:07.302Z"
   },
   {
    "duration": 13,
    "start_time": "2022-03-23T05:39:07.331Z"
   },
   {
    "duration": 27,
    "start_time": "2022-03-23T05:39:07.347Z"
   },
   {
    "duration": 36,
    "start_time": "2022-03-23T05:39:07.377Z"
   },
   {
    "duration": 7,
    "start_time": "2022-03-23T05:39:07.416Z"
   },
   {
    "duration": 48,
    "start_time": "2022-03-23T05:39:07.426Z"
   },
   {
    "duration": 39,
    "start_time": "2022-03-23T05:39:07.477Z"
   },
   {
    "duration": 16,
    "start_time": "2022-03-23T05:39:07.518Z"
   },
   {
    "duration": 45,
    "start_time": "2022-03-23T05:39:07.536Z"
   },
   {
    "duration": 2840,
    "start_time": "2022-03-23T05:39:07.583Z"
   },
   {
    "duration": 6,
    "start_time": "2022-03-23T05:39:10.425Z"
   },
   {
    "duration": 36,
    "start_time": "2022-03-23T05:39:10.433Z"
   },
   {
    "duration": 31,
    "start_time": "2022-03-23T05:39:10.471Z"
   },
   {
    "duration": 16,
    "start_time": "2022-03-23T05:39:10.504Z"
   },
   {
    "duration": 33,
    "start_time": "2022-03-23T05:39:10.525Z"
   },
   {
    "duration": 778,
    "start_time": "2022-03-23T05:39:10.560Z"
   },
   {
    "duration": 350,
    "start_time": "2022-03-23T05:39:11.341Z"
   },
   {
    "duration": 244,
    "start_time": "2022-03-23T05:39:11.693Z"
   },
   {
    "duration": 234,
    "start_time": "2022-03-23T05:39:11.939Z"
   },
   {
    "duration": 13,
    "start_time": "2022-03-23T05:39:12.175Z"
   },
   {
    "duration": 234,
    "start_time": "2022-03-23T05:39:12.190Z"
   },
   {
    "duration": 6,
    "start_time": "2022-03-23T05:39:12.427Z"
   },
   {
    "duration": 42,
    "start_time": "2022-03-23T05:39:12.435Z"
   },
   {
    "duration": 282,
    "start_time": "2022-03-23T05:39:12.480Z"
   },
   {
    "duration": 291,
    "start_time": "2022-03-23T05:39:12.764Z"
   },
   {
    "duration": 283,
    "start_time": "2022-03-23T05:39:13.057Z"
   },
   {
    "duration": 314,
    "start_time": "2022-03-23T05:39:13.342Z"
   },
   {
    "duration": 8,
    "start_time": "2022-03-23T05:39:13.659Z"
   },
   {
    "duration": 51,
    "start_time": "2022-03-23T05:39:13.670Z"
   },
   {
    "duration": 233,
    "start_time": "2022-03-23T05:51:32.468Z"
   },
   {
    "duration": 232,
    "start_time": "2022-03-23T06:08:36.399Z"
   },
   {
    "duration": 221,
    "start_time": "2022-03-23T06:09:29.848Z"
   },
   {
    "duration": 435,
    "start_time": "2022-03-23T06:09:35.729Z"
   },
   {
    "duration": 370,
    "start_time": "2022-03-23T06:09:55.165Z"
   },
   {
    "duration": 340,
    "start_time": "2022-03-23T06:12:07.633Z"
   },
   {
    "duration": 391,
    "start_time": "2022-03-23T06:12:22.291Z"
   },
   {
    "duration": 364,
    "start_time": "2022-03-23T06:14:22.624Z"
   },
   {
    "duration": 4,
    "start_time": "2022-03-23T06:16:57.037Z"
   },
   {
    "duration": 466,
    "start_time": "2022-03-23T06:30:41.134Z"
   },
   {
    "duration": 377,
    "start_time": "2022-03-23T06:31:03.018Z"
   },
   {
    "duration": 369,
    "start_time": "2022-03-23T06:31:41.766Z"
   },
   {
    "duration": 238,
    "start_time": "2022-03-23T06:32:32.413Z"
   },
   {
    "duration": 381,
    "start_time": "2022-03-23T06:32:38.866Z"
   },
   {
    "duration": 513,
    "start_time": "2022-03-23T06:37:13.119Z"
   },
   {
    "duration": 575,
    "start_time": "2022-03-23T06:39:54.280Z"
   },
   {
    "duration": 344,
    "start_time": "2022-03-23T06:40:11.612Z"
   },
   {
    "duration": 372,
    "start_time": "2022-03-23T06:40:33.521Z"
   },
   {
    "duration": 501,
    "start_time": "2022-03-23T06:41:09.141Z"
   },
   {
    "duration": 453,
    "start_time": "2022-03-23T07:29:11.575Z"
   },
   {
    "duration": 350,
    "start_time": "2022-03-23T07:29:22.532Z"
   },
   {
    "duration": 357,
    "start_time": "2022-03-23T07:29:59.766Z"
   },
   {
    "duration": 7,
    "start_time": "2022-03-23T07:30:39.325Z"
   },
   {
    "duration": 382,
    "start_time": "2022-03-23T07:31:11.279Z"
   },
   {
    "duration": 191,
    "start_time": "2022-03-23T07:31:21.761Z"
   },
   {
    "duration": 361,
    "start_time": "2022-03-23T07:31:32.624Z"
   },
   {
    "duration": 440,
    "start_time": "2022-03-23T07:32:22.607Z"
   },
   {
    "duration": 368,
    "start_time": "2022-03-23T07:32:58.494Z"
   },
   {
    "duration": 6,
    "start_time": "2022-03-23T07:34:49.427Z"
   },
   {
    "duration": 226,
    "start_time": "2022-03-23T07:35:10.178Z"
   },
   {
    "duration": 2147,
    "start_time": "2022-03-23T07:35:18.488Z"
   },
   {
    "duration": 2198,
    "start_time": "2022-03-23T07:35:31.369Z"
   },
   {
    "duration": 2117,
    "start_time": "2022-03-23T07:35:47.459Z"
   },
   {
    "duration": 231,
    "start_time": "2022-03-23T07:40:00.976Z"
   },
   {
    "duration": 211,
    "start_time": "2022-03-23T07:40:10.614Z"
   },
   {
    "duration": 251,
    "start_time": "2022-03-23T07:40:25.431Z"
   },
   {
    "duration": 6,
    "start_time": "2022-03-23T07:41:09.311Z"
   },
   {
    "duration": 7,
    "start_time": "2022-03-23T07:41:19.199Z"
   },
   {
    "duration": 121,
    "start_time": "2022-03-23T07:41:58.578Z"
   },
   {
    "duration": 11,
    "start_time": "2022-03-23T07:42:17.244Z"
   },
   {
    "duration": 12,
    "start_time": "2022-03-23T07:42:56.832Z"
   },
   {
    "duration": 11,
    "start_time": "2022-03-23T07:43:25.971Z"
   },
   {
    "duration": 13,
    "start_time": "2022-03-23T07:43:29.991Z"
   },
   {
    "duration": 3448,
    "start_time": "2022-03-23T07:46:11.644Z"
   },
   {
    "duration": 490,
    "start_time": "2022-03-23T07:46:30.354Z"
   },
   {
    "duration": 376,
    "start_time": "2022-03-23T07:48:06.533Z"
   },
   {
    "duration": 386,
    "start_time": "2022-03-23T07:48:16.548Z"
   },
   {
    "duration": 21,
    "start_time": "2022-03-23T07:49:37.595Z"
   },
   {
    "duration": 19,
    "start_time": "2022-03-23T07:50:28.795Z"
   },
   {
    "duration": 129,
    "start_time": "2022-03-23T07:51:02.022Z"
   },
   {
    "duration": 153,
    "start_time": "2022-03-23T07:51:23.351Z"
   },
   {
    "duration": 143,
    "start_time": "2022-03-23T07:51:57.221Z"
   },
   {
    "duration": 153,
    "start_time": "2022-03-23T07:52:11.386Z"
   },
   {
    "duration": 135,
    "start_time": "2022-03-23T07:52:16.316Z"
   },
   {
    "duration": 221,
    "start_time": "2022-03-23T07:52:19.652Z"
   },
   {
    "duration": 853,
    "start_time": "2022-03-23T08:05:18.923Z"
   },
   {
    "duration": 100,
    "start_time": "2022-03-23T08:05:19.779Z"
   },
   {
    "duration": 13,
    "start_time": "2022-03-23T08:05:19.881Z"
   },
   {
    "duration": 125,
    "start_time": "2022-03-23T08:05:19.896Z"
   },
   {
    "duration": 59,
    "start_time": "2022-03-23T08:05:20.023Z"
   },
   {
    "duration": 39,
    "start_time": "2022-03-23T08:05:20.085Z"
   },
   {
    "duration": 43,
    "start_time": "2022-03-23T08:05:20.127Z"
   },
   {
    "duration": 47,
    "start_time": "2022-03-23T08:05:20.173Z"
   },
   {
    "duration": 38,
    "start_time": "2022-03-23T08:05:20.223Z"
   },
   {
    "duration": 55,
    "start_time": "2022-03-23T08:05:20.265Z"
   },
   {
    "duration": 43,
    "start_time": "2022-03-23T08:05:20.323Z"
   },
   {
    "duration": 44,
    "start_time": "2022-03-23T08:05:20.369Z"
   },
   {
    "duration": 40,
    "start_time": "2022-03-23T08:05:20.415Z"
   },
   {
    "duration": 46,
    "start_time": "2022-03-23T08:05:20.458Z"
   },
   {
    "duration": 33,
    "start_time": "2022-03-23T08:05:20.506Z"
   },
   {
    "duration": 48,
    "start_time": "2022-03-23T08:05:20.541Z"
   },
   {
    "duration": 22,
    "start_time": "2022-03-23T08:05:20.592Z"
   },
   {
    "duration": 30,
    "start_time": "2022-03-23T08:05:20.616Z"
   },
   {
    "duration": 64,
    "start_time": "2022-03-23T08:05:20.649Z"
   },
   {
    "duration": 102,
    "start_time": "2022-03-23T08:05:20.715Z"
   },
   {
    "duration": 44,
    "start_time": "2022-03-23T08:05:20.820Z"
   },
   {
    "duration": 83,
    "start_time": "2022-03-23T08:05:20.867Z"
   },
   {
    "duration": 2705,
    "start_time": "2022-03-23T08:05:20.952Z"
   },
   {
    "duration": 7,
    "start_time": "2022-03-23T08:05:23.660Z"
   },
   {
    "duration": 41,
    "start_time": "2022-03-23T08:05:23.682Z"
   },
   {
    "duration": 34,
    "start_time": "2022-03-23T08:05:23.726Z"
   },
   {
    "duration": 41,
    "start_time": "2022-03-23T08:05:23.763Z"
   },
   {
    "duration": 20,
    "start_time": "2022-03-23T08:05:23.811Z"
   },
   {
    "duration": 275,
    "start_time": "2022-03-23T08:05:23.833Z"
   },
   {
    "duration": 12,
    "start_time": "2022-03-23T08:05:24.111Z"
   },
   {
    "duration": 442,
    "start_time": "2022-03-23T08:05:24.126Z"
   },
   {
    "duration": 239,
    "start_time": "2022-03-23T08:05:24.571Z"
   },
   {
    "duration": 248,
    "start_time": "2022-03-23T08:05:24.813Z"
   },
   {
    "duration": 20,
    "start_time": "2022-03-23T08:05:25.063Z"
   },
   {
    "duration": 381,
    "start_time": "2022-03-23T08:05:25.085Z"
   },
   {
    "duration": 505,
    "start_time": "2022-03-23T08:05:25.468Z"
   },
   {
    "duration": 12,
    "start_time": "2022-03-23T08:05:25.976Z"
   },
   {
    "duration": 30,
    "start_time": "2022-03-23T08:05:25.991Z"
   },
   {
    "duration": 287,
    "start_time": "2022-03-23T08:05:26.023Z"
   },
   {
    "duration": 281,
    "start_time": "2022-03-23T08:05:26.312Z"
   },
   {
    "duration": 341,
    "start_time": "2022-03-23T08:05:26.595Z"
   },
   {
    "duration": 289,
    "start_time": "2022-03-23T08:05:26.938Z"
   },
   {
    "duration": 5,
    "start_time": "2022-03-23T08:05:27.230Z"
   },
   {
    "duration": 10,
    "start_time": "2022-03-23T08:05:27.237Z"
   },
   {
    "duration": 8,
    "start_time": "2022-03-23T08:08:03.032Z"
   },
   {
    "duration": 39,
    "start_time": "2022-03-23T08:08:07.062Z"
   },
   {
    "duration": 13,
    "start_time": "2022-03-23T08:08:43.413Z"
   },
   {
    "duration": 36,
    "start_time": "2022-03-23T08:08:50.087Z"
   },
   {
    "duration": 12,
    "start_time": "2022-03-23T08:09:41.451Z"
   },
   {
    "duration": 40,
    "start_time": "2022-03-23T08:09:43.487Z"
   },
   {
    "duration": 9,
    "start_time": "2022-03-23T08:12:33.510Z"
   },
   {
    "duration": 10,
    "start_time": "2022-03-23T08:12:55.972Z"
   },
   {
    "duration": 600,
    "start_time": "2022-03-23T08:15:37.995Z"
   },
   {
    "duration": 14,
    "start_time": "2022-03-23T08:24:30.709Z"
   },
   {
    "duration": 525,
    "start_time": "2022-03-23T08:28:34.487Z"
   },
   {
    "duration": 5,
    "start_time": "2022-03-23T08:45:58.697Z"
   },
   {
    "duration": 6,
    "start_time": "2022-03-23T08:46:36.342Z"
   },
   {
    "duration": 5,
    "start_time": "2022-03-23T08:47:31.061Z"
   },
   {
    "duration": 547,
    "start_time": "2022-03-23T08:59:02.303Z"
   },
   {
    "duration": 601,
    "start_time": "2022-03-23T08:59:14.515Z"
   },
   {
    "duration": 502,
    "start_time": "2022-03-23T08:59:25.790Z"
   },
   {
    "duration": 514,
    "start_time": "2022-03-23T08:59:37.248Z"
   },
   {
    "duration": 599,
    "start_time": "2022-03-23T08:59:53.186Z"
   },
   {
    "duration": 116,
    "start_time": "2022-03-23T09:06:34.745Z"
   },
   {
    "duration": 150,
    "start_time": "2022-03-23T09:06:53.467Z"
   },
   {
    "duration": 16,
    "start_time": "2022-03-23T09:07:44.343Z"
   },
   {
    "duration": 24,
    "start_time": "2022-03-23T09:08:48.534Z"
   },
   {
    "duration": 252,
    "start_time": "2022-03-23T09:09:07.287Z"
   },
   {
    "duration": 157,
    "start_time": "2022-03-23T09:09:43.064Z"
   },
   {
    "duration": 144,
    "start_time": "2022-03-23T09:09:59.841Z"
   },
   {
    "duration": 130,
    "start_time": "2022-03-23T09:10:49.605Z"
   },
   {
    "duration": 1214,
    "start_time": "2022-03-23T09:11:17.622Z"
   },
   {
    "duration": 148,
    "start_time": "2022-03-23T09:11:18.840Z"
   },
   {
    "duration": 20,
    "start_time": "2022-03-23T09:11:18.991Z"
   },
   {
    "duration": 188,
    "start_time": "2022-03-23T09:11:19.016Z"
   },
   {
    "duration": 83,
    "start_time": "2022-03-23T09:11:19.207Z"
   },
   {
    "duration": 21,
    "start_time": "2022-03-23T09:11:19.293Z"
   },
   {
    "duration": 7,
    "start_time": "2022-03-23T09:11:19.317Z"
   },
   {
    "duration": 12,
    "start_time": "2022-03-23T09:11:19.327Z"
   },
   {
    "duration": 44,
    "start_time": "2022-03-23T09:11:19.342Z"
   },
   {
    "duration": 11,
    "start_time": "2022-03-23T09:11:19.394Z"
   },
   {
    "duration": 15,
    "start_time": "2022-03-23T09:11:19.408Z"
   },
   {
    "duration": 10,
    "start_time": "2022-03-23T09:11:19.426Z"
   },
   {
    "duration": 43,
    "start_time": "2022-03-23T09:11:19.439Z"
   },
   {
    "duration": 6,
    "start_time": "2022-03-23T09:11:19.485Z"
   },
   {
    "duration": 10,
    "start_time": "2022-03-23T09:11:19.493Z"
   },
   {
    "duration": 15,
    "start_time": "2022-03-23T09:11:19.506Z"
   },
   {
    "duration": 7,
    "start_time": "2022-03-23T09:11:19.523Z"
   },
   {
    "duration": 51,
    "start_time": "2022-03-23T09:11:19.533Z"
   },
   {
    "duration": 16,
    "start_time": "2022-03-23T09:11:19.586Z"
   },
   {
    "duration": 11,
    "start_time": "2022-03-23T09:11:19.605Z"
   },
   {
    "duration": 8,
    "start_time": "2022-03-23T09:11:19.618Z"
   },
   {
    "duration": 80,
    "start_time": "2022-03-23T09:11:19.629Z"
   },
   {
    "duration": 4400,
    "start_time": "2022-03-23T09:11:19.712Z"
   },
   {
    "duration": 6,
    "start_time": "2022-03-23T09:11:24.114Z"
   },
   {
    "duration": 17,
    "start_time": "2022-03-23T09:11:24.123Z"
   },
   {
    "duration": 20,
    "start_time": "2022-03-23T09:11:24.142Z"
   },
   {
    "duration": 18,
    "start_time": "2022-03-23T09:11:24.165Z"
   },
   {
    "duration": 6,
    "start_time": "2022-03-23T09:11:24.188Z"
   },
   {
    "duration": 247,
    "start_time": "2022-03-23T09:11:24.197Z"
   },
   {
    "duration": 12,
    "start_time": "2022-03-23T09:11:24.447Z"
   },
   {
    "duration": 718,
    "start_time": "2022-03-23T09:11:24.461Z"
   },
   {
    "duration": 376,
    "start_time": "2022-03-23T09:11:25.183Z"
   },
   {
    "duration": 411,
    "start_time": "2022-03-23T09:11:25.563Z"
   },
   {
    "duration": 19,
    "start_time": "2022-03-23T09:11:25.981Z"
   },
   {
    "duration": 396,
    "start_time": "2022-03-23T09:11:26.003Z"
   },
   {
    "duration": 895,
    "start_time": "2022-03-23T09:11:26.402Z"
   },
   {
    "duration": 10,
    "start_time": "2022-03-23T09:11:27.299Z"
   },
   {
    "duration": 174,
    "start_time": "2022-03-23T09:11:27.310Z"
   },
   {
    "duration": 275,
    "start_time": "2022-03-23T09:11:27.487Z"
   },
   {
    "duration": 373,
    "start_time": "2022-03-23T09:11:27.765Z"
   },
   {
    "duration": 444,
    "start_time": "2022-03-23T09:11:28.141Z"
   },
   {
    "duration": 8,
    "start_time": "2022-03-23T09:11:28.588Z"
   },
   {
    "duration": 27,
    "start_time": "2022-03-23T09:11:28.598Z"
   },
   {
    "duration": 25,
    "start_time": "2022-03-23T09:11:28.628Z"
   },
   {
    "duration": 141,
    "start_time": "2022-03-23T09:15:07.702Z"
   },
   {
    "duration": 238,
    "start_time": "2022-03-23T09:15:33.483Z"
   },
   {
    "duration": 219,
    "start_time": "2022-03-23T09:15:46.511Z"
   },
   {
    "duration": 1251,
    "start_time": "2022-03-23T09:16:10.946Z"
   },
   {
    "duration": 152,
    "start_time": "2022-03-23T09:16:12.201Z"
   },
   {
    "duration": 27,
    "start_time": "2022-03-23T09:16:12.356Z"
   },
   {
    "duration": 120,
    "start_time": "2022-03-23T09:16:12.388Z"
   },
   {
    "duration": 45,
    "start_time": "2022-03-23T09:16:12.512Z"
   },
   {
    "duration": 36,
    "start_time": "2022-03-23T09:16:12.560Z"
   },
   {
    "duration": 13,
    "start_time": "2022-03-23T09:16:12.598Z"
   },
   {
    "duration": 24,
    "start_time": "2022-03-23T09:16:12.614Z"
   },
   {
    "duration": 25,
    "start_time": "2022-03-23T09:16:12.640Z"
   },
   {
    "duration": 31,
    "start_time": "2022-03-23T09:16:12.670Z"
   },
   {
    "duration": 27,
    "start_time": "2022-03-23T09:16:12.703Z"
   },
   {
    "duration": 17,
    "start_time": "2022-03-23T09:16:12.732Z"
   },
   {
    "duration": 14,
    "start_time": "2022-03-23T09:16:12.751Z"
   },
   {
    "duration": 16,
    "start_time": "2022-03-23T09:16:12.767Z"
   },
   {
    "duration": 23,
    "start_time": "2022-03-23T09:16:12.786Z"
   },
   {
    "duration": 29,
    "start_time": "2022-03-23T09:16:12.812Z"
   },
   {
    "duration": 9,
    "start_time": "2022-03-23T09:16:12.844Z"
   },
   {
    "duration": 31,
    "start_time": "2022-03-23T09:16:12.856Z"
   },
   {
    "duration": 33,
    "start_time": "2022-03-23T09:16:12.890Z"
   },
   {
    "duration": 32,
    "start_time": "2022-03-23T09:16:12.925Z"
   },
   {
    "duration": 26,
    "start_time": "2022-03-23T09:16:12.959Z"
   },
   {
    "duration": 61,
    "start_time": "2022-03-23T09:16:12.988Z"
   },
   {
    "duration": 2758,
    "start_time": "2022-03-23T09:16:13.052Z"
   },
   {
    "duration": 7,
    "start_time": "2022-03-23T09:16:15.812Z"
   },
   {
    "duration": 9,
    "start_time": "2022-03-23T09:16:15.822Z"
   },
   {
    "duration": 6,
    "start_time": "2022-03-23T09:16:15.834Z"
   },
   {
    "duration": 7,
    "start_time": "2022-03-23T09:16:15.842Z"
   },
   {
    "duration": 170,
    "start_time": "2022-03-23T09:16:15.886Z"
   },
   {
    "duration": 6,
    "start_time": "2022-03-23T09:16:16.058Z"
   },
   {
    "duration": 272,
    "start_time": "2022-03-23T09:16:16.067Z"
   },
   {
    "duration": 11,
    "start_time": "2022-03-23T09:16:16.342Z"
   },
   {
    "duration": 405,
    "start_time": "2022-03-23T09:16:16.356Z"
   },
   {
    "duration": 229,
    "start_time": "2022-03-23T09:16:16.764Z"
   },
   {
    "duration": 248,
    "start_time": "2022-03-23T09:16:16.995Z"
   },
   {
    "duration": 14,
    "start_time": "2022-03-23T09:16:17.245Z"
   },
   {
    "duration": 409,
    "start_time": "2022-03-23T09:16:17.261Z"
   },
   {
    "duration": 525,
    "start_time": "2022-03-23T09:16:17.673Z"
   },
   {
    "duration": 10,
    "start_time": "2022-03-23T09:16:18.200Z"
   },
   {
    "duration": 171,
    "start_time": "2022-03-23T09:16:18.212Z"
   },
   {
    "duration": 361,
    "start_time": "2022-03-23T09:16:18.386Z"
   },
   {
    "duration": 401,
    "start_time": "2022-03-23T09:16:18.750Z"
   },
   {
    "duration": 294,
    "start_time": "2022-03-23T09:16:19.153Z"
   },
   {
    "duration": 6,
    "start_time": "2022-03-23T09:16:19.450Z"
   },
   {
    "duration": 30,
    "start_time": "2022-03-23T09:16:19.459Z"
   },
   {
    "duration": 7,
    "start_time": "2022-03-23T09:16:19.492Z"
   },
   {
    "duration": 143,
    "start_time": "2022-03-23T09:16:39.450Z"
   },
   {
    "duration": 132,
    "start_time": "2022-03-23T09:26:39.010Z"
   },
   {
    "duration": 143,
    "start_time": "2022-03-23T09:26:55.444Z"
   },
   {
    "duration": 194,
    "start_time": "2022-03-23T09:30:59.769Z"
   },
   {
    "duration": 211,
    "start_time": "2022-03-23T09:31:08.506Z"
   },
   {
    "duration": 303,
    "start_time": "2022-03-23T09:49:04.283Z"
   },
   {
    "duration": 881,
    "start_time": "2022-03-23T09:51:36.920Z"
   },
   {
    "duration": 584,
    "start_time": "2022-03-23T09:53:46.674Z"
   },
   {
    "duration": 217,
    "start_time": "2022-03-23T09:54:23.471Z"
   },
   {
    "duration": 382,
    "start_time": "2022-03-23T09:54:26.161Z"
   },
   {
    "duration": 224,
    "start_time": "2022-03-23T09:54:28.941Z"
   },
   {
    "duration": 234,
    "start_time": "2022-03-23T09:54:31.510Z"
   },
   {
    "duration": 24,
    "start_time": "2022-03-23T09:54:59.620Z"
   },
   {
    "duration": 9,
    "start_time": "2022-03-23T09:55:06.156Z"
   },
   {
    "duration": 835,
    "start_time": "2022-03-23T09:55:27.928Z"
   },
   {
    "duration": 96,
    "start_time": "2022-03-23T09:55:28.765Z"
   },
   {
    "duration": 22,
    "start_time": "2022-03-23T09:55:28.864Z"
   },
   {
    "duration": 113,
    "start_time": "2022-03-23T09:55:28.889Z"
   },
   {
    "duration": 44,
    "start_time": "2022-03-23T09:55:29.004Z"
   },
   {
    "duration": 43,
    "start_time": "2022-03-23T09:55:29.050Z"
   },
   {
    "duration": 48,
    "start_time": "2022-03-23T09:55:29.095Z"
   },
   {
    "duration": 44,
    "start_time": "2022-03-23T09:55:29.145Z"
   },
   {
    "duration": 43,
    "start_time": "2022-03-23T09:55:29.191Z"
   },
   {
    "duration": 31,
    "start_time": "2022-03-23T09:55:29.238Z"
   },
   {
    "duration": 52,
    "start_time": "2022-03-23T09:55:29.271Z"
   },
   {
    "duration": 45,
    "start_time": "2022-03-23T09:55:29.326Z"
   },
   {
    "duration": 41,
    "start_time": "2022-03-23T09:55:29.374Z"
   },
   {
    "duration": 41,
    "start_time": "2022-03-23T09:55:29.417Z"
   },
   {
    "duration": 36,
    "start_time": "2022-03-23T09:55:29.460Z"
   },
   {
    "duration": 49,
    "start_time": "2022-03-23T09:55:29.498Z"
   },
   {
    "duration": 49,
    "start_time": "2022-03-23T09:55:29.550Z"
   },
   {
    "duration": 44,
    "start_time": "2022-03-23T09:55:29.601Z"
   },
   {
    "duration": 42,
    "start_time": "2022-03-23T09:55:29.647Z"
   },
   {
    "duration": 42,
    "start_time": "2022-03-23T09:55:29.692Z"
   },
   {
    "duration": 34,
    "start_time": "2022-03-23T09:55:29.737Z"
   },
   {
    "duration": 54,
    "start_time": "2022-03-23T09:55:29.773Z"
   },
   {
    "duration": 2892,
    "start_time": "2022-03-23T09:55:29.829Z"
   },
   {
    "duration": 6,
    "start_time": "2022-03-23T09:55:32.723Z"
   },
   {
    "duration": 22,
    "start_time": "2022-03-23T09:55:32.731Z"
   },
   {
    "duration": 26,
    "start_time": "2022-03-23T09:55:32.755Z"
   },
   {
    "duration": 43,
    "start_time": "2022-03-23T09:55:32.783Z"
   },
   {
    "duration": 15,
    "start_time": "2022-03-23T09:55:32.831Z"
   },
   {
    "duration": 257,
    "start_time": "2022-03-23T09:55:32.849Z"
   },
   {
    "duration": 13,
    "start_time": "2022-03-23T09:55:33.108Z"
   },
   {
    "duration": 449,
    "start_time": "2022-03-23T09:55:33.124Z"
   },
   {
    "duration": 241,
    "start_time": "2022-03-23T09:55:33.576Z"
   },
   {
    "duration": 263,
    "start_time": "2022-03-23T09:55:33.819Z"
   },
   {
    "duration": 12,
    "start_time": "2022-03-23T09:55:34.084Z"
   },
   {
    "duration": 366,
    "start_time": "2022-03-23T09:55:34.098Z"
   },
   {
    "duration": 510,
    "start_time": "2022-03-23T09:55:34.466Z"
   },
   {
    "duration": 9,
    "start_time": "2022-03-23T09:55:34.983Z"
   },
   {
    "duration": 158,
    "start_time": "2022-03-23T09:55:34.995Z"
   },
   {
    "duration": 276,
    "start_time": "2022-03-23T09:55:35.156Z"
   },
   {
    "duration": 357,
    "start_time": "2022-03-23T09:55:35.434Z"
   },
   {
    "duration": 278,
    "start_time": "2022-03-23T09:55:35.793Z"
   },
   {
    "duration": 34,
    "start_time": "2022-03-23T09:55:36.074Z"
   },
   {
    "duration": 2982,
    "start_time": "2022-03-23T09:55:36.111Z"
   },
   {
    "duration": 0,
    "start_time": "2022-03-23T09:55:39.096Z"
   },
   {
    "duration": 39,
    "start_time": "2022-03-23T09:59:18.744Z"
   },
   {
    "duration": 146,
    "start_time": "2022-03-23T09:59:58.135Z"
   },
   {
    "duration": 24,
    "start_time": "2022-03-23T10:00:42.190Z"
   },
   {
    "duration": 131,
    "start_time": "2022-03-23T10:00:42.743Z"
   },
   {
    "duration": 271,
    "start_time": "2022-03-23T10:02:56.987Z"
   },
   {
    "duration": 33,
    "start_time": "2022-03-23T10:08:30.525Z"
   },
   {
    "duration": 128,
    "start_time": "2022-03-23T10:08:32.158Z"
   },
   {
    "duration": 28,
    "start_time": "2022-03-23T10:09:00.894Z"
   },
   {
    "duration": 128,
    "start_time": "2022-03-23T10:09:01.370Z"
   },
   {
    "duration": 29,
    "start_time": "2022-03-23T10:10:31.962Z"
   },
   {
    "duration": 282,
    "start_time": "2022-03-23T10:17:03.364Z"
   },
   {
    "duration": 291,
    "start_time": "2022-03-23T10:20:47.830Z"
   },
   {
    "duration": 294,
    "start_time": "2022-03-23T10:21:05.057Z"
   },
   {
    "duration": 285,
    "start_time": "2022-03-23T10:21:20.735Z"
   },
   {
    "duration": 307,
    "start_time": "2022-03-23T10:21:32.162Z"
   },
   {
    "duration": 321,
    "start_time": "2022-03-23T10:21:52.369Z"
   },
   {
    "duration": 171,
    "start_time": "2022-03-23T10:22:53.208Z"
   },
   {
    "duration": 170,
    "start_time": "2022-03-23T10:24:22.450Z"
   },
   {
    "duration": 288,
    "start_time": "2022-03-23T10:25:44.886Z"
   },
   {
    "duration": 282,
    "start_time": "2022-03-23T10:26:11.368Z"
   },
   {
    "duration": 326,
    "start_time": "2022-03-23T10:27:10.679Z"
   },
   {
    "duration": 425,
    "start_time": "2022-03-23T10:27:34.104Z"
   },
   {
    "duration": 275,
    "start_time": "2022-03-23T10:27:48.781Z"
   },
   {
    "duration": 290,
    "start_time": "2022-03-23T10:28:42.859Z"
   },
   {
    "duration": 43,
    "start_time": "2022-03-23T10:37:30.078Z"
   },
   {
    "duration": 244,
    "start_time": "2022-03-23T10:37:47.132Z"
   },
   {
    "duration": 254,
    "start_time": "2022-03-23T10:44:16.394Z"
   },
   {
    "duration": 253,
    "start_time": "2022-03-23T10:45:00.064Z"
   },
   {
    "duration": 296,
    "start_time": "2022-03-23T10:45:42.824Z"
   },
   {
    "duration": 260,
    "start_time": "2022-03-23T10:46:00.200Z"
   },
   {
    "duration": 9,
    "start_time": "2022-03-23T10:50:38.352Z"
   },
   {
    "duration": 11,
    "start_time": "2022-03-23T10:51:36.440Z"
   },
   {
    "duration": 275,
    "start_time": "2022-03-23T10:51:49.693Z"
   },
   {
    "duration": 271,
    "start_time": "2022-03-23T10:52:05.714Z"
   },
   {
    "duration": 600,
    "start_time": "2022-03-23T10:52:38.541Z"
   },
   {
    "duration": 274,
    "start_time": "2022-03-23T10:53:18.348Z"
   },
   {
    "duration": 238,
    "start_time": "2022-03-23T10:55:15.890Z"
   },
   {
    "duration": 273,
    "start_time": "2022-03-23T10:55:54.263Z"
   },
   {
    "duration": 303,
    "start_time": "2022-03-23T10:57:18.098Z"
   },
   {
    "duration": 276,
    "start_time": "2022-03-23T10:58:11.274Z"
   },
   {
    "duration": 502,
    "start_time": "2022-03-23T10:58:14.244Z"
   },
   {
    "duration": 12,
    "start_time": "2022-03-23T11:28:48.964Z"
   },
   {
    "duration": 911,
    "start_time": "2022-03-23T11:28:56.898Z"
   },
   {
    "duration": 103,
    "start_time": "2022-03-23T11:28:57.812Z"
   },
   {
    "duration": 16,
    "start_time": "2022-03-23T11:28:57.917Z"
   },
   {
    "duration": 127,
    "start_time": "2022-03-23T11:28:57.937Z"
   },
   {
    "duration": 52,
    "start_time": "2022-03-23T11:28:58.066Z"
   },
   {
    "duration": 14,
    "start_time": "2022-03-23T11:28:58.120Z"
   },
   {
    "duration": 6,
    "start_time": "2022-03-23T11:28:58.137Z"
   },
   {
    "duration": 37,
    "start_time": "2022-03-23T11:28:58.145Z"
   },
   {
    "duration": 13,
    "start_time": "2022-03-23T11:28:58.185Z"
   },
   {
    "duration": 8,
    "start_time": "2022-03-23T11:28:58.202Z"
   },
   {
    "duration": 8,
    "start_time": "2022-03-23T11:28:58.212Z"
   },
   {
    "duration": 9,
    "start_time": "2022-03-23T11:28:58.222Z"
   },
   {
    "duration": 8,
    "start_time": "2022-03-23T11:28:58.233Z"
   },
   {
    "duration": 5,
    "start_time": "2022-03-23T11:28:58.282Z"
   },
   {
    "duration": 9,
    "start_time": "2022-03-23T11:28:58.289Z"
   },
   {
    "duration": 15,
    "start_time": "2022-03-23T11:28:58.300Z"
   },
   {
    "duration": 10,
    "start_time": "2022-03-23T11:28:58.317Z"
   },
   {
    "duration": 6,
    "start_time": "2022-03-23T11:28:58.330Z"
   },
   {
    "duration": 57,
    "start_time": "2022-03-23T11:28:58.338Z"
   },
   {
    "duration": 7,
    "start_time": "2022-03-23T11:28:58.398Z"
   },
   {
    "duration": 12,
    "start_time": "2022-03-23T11:28:58.408Z"
   },
   {
    "duration": 63,
    "start_time": "2022-03-23T11:28:58.423Z"
   },
   {
    "duration": 2847,
    "start_time": "2022-03-23T11:28:58.488Z"
   },
   {
    "duration": 6,
    "start_time": "2022-03-23T11:29:01.337Z"
   },
   {
    "duration": 49,
    "start_time": "2022-03-23T11:29:01.346Z"
   },
   {
    "duration": 49,
    "start_time": "2022-03-23T11:29:01.398Z"
   },
   {
    "duration": 108,
    "start_time": "2022-03-23T11:29:01.450Z"
   },
   {
    "duration": 59,
    "start_time": "2022-03-23T11:29:01.563Z"
   },
   {
    "duration": 274,
    "start_time": "2022-03-23T11:29:01.624Z"
   },
   {
    "duration": 12,
    "start_time": "2022-03-23T11:29:01.900Z"
   },
   {
    "duration": 492,
    "start_time": "2022-03-23T11:29:01.914Z"
   },
   {
    "duration": 257,
    "start_time": "2022-03-23T11:29:02.408Z"
   },
   {
    "duration": 252,
    "start_time": "2022-03-23T11:29:02.668Z"
   },
   {
    "duration": 13,
    "start_time": "2022-03-23T11:29:02.922Z"
   },
   {
    "duration": 392,
    "start_time": "2022-03-23T11:29:02.937Z"
   },
   {
    "duration": 510,
    "start_time": "2022-03-23T11:29:03.331Z"
   },
   {
    "duration": 9,
    "start_time": "2022-03-23T11:29:03.844Z"
   },
   {
    "duration": 160,
    "start_time": "2022-03-23T11:29:03.855Z"
   },
   {
    "duration": 275,
    "start_time": "2022-03-23T11:29:04.017Z"
   },
   {
    "duration": 473,
    "start_time": "2022-03-23T11:29:04.295Z"
   },
   {
    "duration": 271,
    "start_time": "2022-03-23T11:29:04.770Z"
   },
   {
    "duration": 290,
    "start_time": "2022-03-23T11:29:05.044Z"
   },
   {
    "duration": 55,
    "start_time": "2022-03-23T11:29:05.336Z"
   },
   {
    "duration": 137,
    "start_time": "2022-03-23T11:29:05.393Z"
   },
   {
    "duration": 308,
    "start_time": "2022-03-23T11:29:05.532Z"
   },
   {
    "duration": 290,
    "start_time": "2022-03-23T11:29:05.843Z"
   },
   {
    "duration": 288,
    "start_time": "2022-03-23T11:29:06.136Z"
   },
   {
    "duration": 271,
    "start_time": "2022-03-23T11:29:06.426Z"
   },
   {
    "duration": 309,
    "start_time": "2022-03-23T11:29:06.699Z"
   },
   {
    "duration": 297,
    "start_time": "2022-03-23T11:29:07.011Z"
   },
   {
    "duration": 595,
    "start_time": "2022-03-23T11:29:07.311Z"
   },
   {
    "duration": 47,
    "start_time": "2022-03-23T11:29:07.908Z"
   },
   {
    "duration": 213,
    "start_time": "2022-03-23T11:30:12.219Z"
   },
   {
    "duration": 336,
    "start_time": "2022-03-23T11:30:21.222Z"
   },
   {
    "duration": 7,
    "start_time": "2022-03-23T11:52:31.258Z"
   },
   {
    "duration": 11,
    "start_time": "2022-03-23T11:52:44.161Z"
   },
   {
    "duration": 11,
    "start_time": "2022-03-23T11:53:05.549Z"
   },
   {
    "duration": 123,
    "start_time": "2022-03-23T11:58:52.714Z"
   },
   {
    "duration": 25,
    "start_time": "2022-03-23T11:59:01.709Z"
   },
   {
    "duration": 24,
    "start_time": "2022-03-23T11:59:13.167Z"
   },
   {
    "duration": 26,
    "start_time": "2022-03-23T11:59:20.364Z"
   },
   {
    "duration": 22,
    "start_time": "2022-03-23T11:59:33.092Z"
   },
   {
    "duration": 22,
    "start_time": "2022-03-23T11:59:54.013Z"
   },
   {
    "duration": 23,
    "start_time": "2022-03-23T12:00:03.449Z"
   },
   {
    "duration": 12,
    "start_time": "2022-03-23T12:01:08.544Z"
   },
   {
    "duration": 22,
    "start_time": "2022-03-23T12:01:52.814Z"
   },
   {
    "duration": 23,
    "start_time": "2022-03-23T12:02:47.762Z"
   },
   {
    "duration": 38,
    "start_time": "2022-03-23T12:03:38.114Z"
   },
   {
    "duration": 659,
    "start_time": "2022-03-23T12:04:57.438Z"
   },
   {
    "duration": 34,
    "start_time": "2022-03-23T12:05:11.675Z"
   },
   {
    "duration": 35,
    "start_time": "2022-03-23T12:06:30.025Z"
   },
   {
    "duration": 32,
    "start_time": "2022-03-23T12:06:41.150Z"
   },
   {
    "duration": 11,
    "start_time": "2022-03-23T12:06:54.338Z"
   },
   {
    "duration": 12,
    "start_time": "2022-03-23T12:07:14.367Z"
   },
   {
    "duration": 34,
    "start_time": "2022-03-23T12:10:19.854Z"
   },
   {
    "duration": 11,
    "start_time": "2022-03-23T12:10:25.538Z"
   },
   {
    "duration": 11,
    "start_time": "2022-03-23T12:10:26.267Z"
   },
   {
    "duration": 6,
    "start_time": "2022-03-23T12:11:10.571Z"
   },
   {
    "duration": 9,
    "start_time": "2022-03-23T12:11:50.547Z"
   },
   {
    "duration": 38,
    "start_time": "2022-03-23T12:17:17.131Z"
   },
   {
    "duration": 66,
    "start_time": "2022-03-23T12:17:31.255Z"
   },
   {
    "duration": 40,
    "start_time": "2022-03-23T12:24:24.706Z"
   },
   {
    "duration": 6,
    "start_time": "2022-03-23T12:24:32.099Z"
   },
   {
    "duration": 42,
    "start_time": "2022-03-23T12:24:34.101Z"
   },
   {
    "duration": 18,
    "start_time": "2022-03-23T12:36:02.833Z"
   },
   {
    "duration": 21,
    "start_time": "2022-03-23T12:36:17.527Z"
   },
   {
    "duration": 25,
    "start_time": "2022-03-23T12:36:47.529Z"
   },
   {
    "duration": 160,
    "start_time": "2022-03-23T12:40:25.277Z"
   },
   {
    "duration": 6,
    "start_time": "2022-03-23T12:40:32.985Z"
   },
   {
    "duration": 43,
    "start_time": "2022-03-23T12:40:33.912Z"
   },
   {
    "duration": 98,
    "start_time": "2022-03-23T12:41:07.808Z"
   },
   {
    "duration": 6,
    "start_time": "2022-03-23T12:41:08.293Z"
   },
   {
    "duration": 41,
    "start_time": "2022-03-23T12:41:08.714Z"
   },
   {
    "duration": 98,
    "start_time": "2022-03-23T12:42:12.610Z"
   },
   {
    "duration": 205,
    "start_time": "2022-03-23T12:42:13.628Z"
   },
   {
    "duration": 19,
    "start_time": "2022-03-23T12:42:19.098Z"
   },
   {
    "duration": 94,
    "start_time": "2022-03-23T12:43:18.037Z"
   },
   {
    "duration": 21,
    "start_time": "2022-03-23T12:43:19.420Z"
   },
   {
    "duration": 1201,
    "start_time": "2022-03-23T12:43:42.355Z"
   },
   {
    "duration": 154,
    "start_time": "2022-03-23T12:43:43.560Z"
   },
   {
    "duration": 19,
    "start_time": "2022-03-23T12:43:43.717Z"
   },
   {
    "duration": 138,
    "start_time": "2022-03-23T12:43:43.740Z"
   },
   {
    "duration": 44,
    "start_time": "2022-03-23T12:43:43.882Z"
   },
   {
    "duration": 15,
    "start_time": "2022-03-23T12:43:43.929Z"
   },
   {
    "duration": 40,
    "start_time": "2022-03-23T12:43:43.947Z"
   },
   {
    "duration": 7,
    "start_time": "2022-03-23T12:43:43.989Z"
   },
   {
    "duration": 7,
    "start_time": "2022-03-23T12:43:43.999Z"
   },
   {
    "duration": 8,
    "start_time": "2022-03-23T12:43:44.010Z"
   },
   {
    "duration": 11,
    "start_time": "2022-03-23T12:43:44.021Z"
   },
   {
    "duration": 49,
    "start_time": "2022-03-23T12:43:44.035Z"
   },
   {
    "duration": 8,
    "start_time": "2022-03-23T12:43:44.086Z"
   },
   {
    "duration": 7,
    "start_time": "2022-03-23T12:43:44.096Z"
   },
   {
    "duration": 9,
    "start_time": "2022-03-23T12:43:44.106Z"
   },
   {
    "duration": 21,
    "start_time": "2022-03-23T12:43:44.117Z"
   },
   {
    "duration": 50,
    "start_time": "2022-03-23T12:43:44.140Z"
   },
   {
    "duration": 10,
    "start_time": "2022-03-23T12:43:44.193Z"
   },
   {
    "duration": 24,
    "start_time": "2022-03-23T12:43:44.206Z"
   },
   {
    "duration": 9,
    "start_time": "2022-03-23T12:43:44.232Z"
   },
   {
    "duration": 47,
    "start_time": "2022-03-23T12:43:44.244Z"
   },
   {
    "duration": 38,
    "start_time": "2022-03-23T12:43:44.293Z"
   },
   {
    "duration": 2808,
    "start_time": "2022-03-23T12:43:44.333Z"
   },
   {
    "duration": 7,
    "start_time": "2022-03-23T12:43:47.143Z"
   },
   {
    "duration": 31,
    "start_time": "2022-03-23T12:43:47.153Z"
   },
   {
    "duration": 14,
    "start_time": "2022-03-23T12:43:47.186Z"
   },
   {
    "duration": 36,
    "start_time": "2022-03-23T12:43:47.202Z"
   },
   {
    "duration": 14,
    "start_time": "2022-03-23T12:43:47.244Z"
   },
   {
    "duration": 284,
    "start_time": "2022-03-23T12:43:47.260Z"
   },
   {
    "duration": 15,
    "start_time": "2022-03-23T12:43:47.547Z"
   },
   {
    "duration": 463,
    "start_time": "2022-03-23T12:43:47.565Z"
   },
   {
    "duration": 251,
    "start_time": "2022-03-23T12:43:48.031Z"
   },
   {
    "duration": 247,
    "start_time": "2022-03-23T12:43:48.285Z"
   },
   {
    "duration": 13,
    "start_time": "2022-03-23T12:43:48.535Z"
   },
   {
    "duration": 394,
    "start_time": "2022-03-23T12:43:48.550Z"
   },
   {
    "duration": 540,
    "start_time": "2022-03-23T12:43:48.946Z"
   },
   {
    "duration": 12,
    "start_time": "2022-03-23T12:43:49.488Z"
   },
   {
    "duration": 175,
    "start_time": "2022-03-23T12:43:49.503Z"
   },
   {
    "duration": 287,
    "start_time": "2022-03-23T12:43:49.681Z"
   },
   {
    "duration": 390,
    "start_time": "2022-03-23T12:43:49.971Z"
   },
   {
    "duration": 297,
    "start_time": "2022-03-23T12:43:50.364Z"
   },
   {
    "duration": 301,
    "start_time": "2022-03-23T12:43:50.663Z"
   },
   {
    "duration": 48,
    "start_time": "2022-03-23T12:43:50.966Z"
   },
   {
    "duration": 148,
    "start_time": "2022-03-23T12:43:51.017Z"
   },
   {
    "duration": 318,
    "start_time": "2022-03-23T12:43:51.168Z"
   },
   {
    "duration": 304,
    "start_time": "2022-03-23T12:43:51.489Z"
   },
   {
    "duration": 297,
    "start_time": "2022-03-23T12:43:51.796Z"
   },
   {
    "duration": 404,
    "start_time": "2022-03-23T12:43:52.095Z"
   },
   {
    "duration": 319,
    "start_time": "2022-03-23T12:43:52.501Z"
   },
   {
    "duration": 297,
    "start_time": "2022-03-23T12:43:52.823Z"
   },
   {
    "duration": 295,
    "start_time": "2022-03-23T12:43:53.123Z"
   },
   {
    "duration": 11,
    "start_time": "2022-03-23T12:43:53.420Z"
   },
   {
    "duration": 68,
    "start_time": "2022-03-23T12:43:53.433Z"
   },
   {
    "duration": 29,
    "start_time": "2022-03-23T12:43:53.504Z"
   },
   {
    "duration": 37,
    "start_time": "2022-03-23T12:43:53.535Z"
   },
   {
    "duration": 122,
    "start_time": "2022-03-23T12:43:53.575Z"
   },
   {
    "duration": 126,
    "start_time": "2022-03-23T12:43:53.700Z"
   },
   {
    "duration": 0,
    "start_time": "2022-03-23T12:43:53.829Z"
   },
   {
    "duration": 5,
    "start_time": "2022-03-23T12:44:02.022Z"
   },
   {
    "duration": 57,
    "start_time": "2022-03-23T12:44:13.840Z"
   },
   {
    "duration": 13,
    "start_time": "2022-03-23T12:45:16.898Z"
   },
   {
    "duration": 9,
    "start_time": "2022-03-23T12:47:06.162Z"
   },
   {
    "duration": 13,
    "start_time": "2022-03-23T12:47:13.711Z"
   },
   {
    "duration": 13,
    "start_time": "2022-03-23T12:49:29.468Z"
   },
   {
    "duration": 16,
    "start_time": "2022-03-23T12:50:39.219Z"
   },
   {
    "duration": 6,
    "start_time": "2022-03-23T12:53:06.592Z"
   },
   {
    "duration": 13,
    "start_time": "2022-03-23T12:53:12.149Z"
   },
   {
    "duration": 9,
    "start_time": "2022-03-23T12:54:06.882Z"
   },
   {
    "duration": 18,
    "start_time": "2022-03-23T12:54:51.085Z"
   },
   {
    "duration": 883,
    "start_time": "2022-03-23T12:54:58.709Z"
   },
   {
    "duration": 143,
    "start_time": "2022-03-23T12:54:59.596Z"
   },
   {
    "duration": 17,
    "start_time": "2022-03-23T12:54:59.742Z"
   },
   {
    "duration": 140,
    "start_time": "2022-03-23T12:54:59.762Z"
   },
   {
    "duration": 44,
    "start_time": "2022-03-23T12:54:59.905Z"
   },
   {
    "duration": 31,
    "start_time": "2022-03-23T12:54:59.952Z"
   },
   {
    "duration": 32,
    "start_time": "2022-03-23T12:54:59.985Z"
   },
   {
    "duration": 37,
    "start_time": "2022-03-23T12:55:00.019Z"
   },
   {
    "duration": 52,
    "start_time": "2022-03-23T12:55:00.060Z"
   },
   {
    "duration": 45,
    "start_time": "2022-03-23T12:55:00.116Z"
   },
   {
    "duration": 45,
    "start_time": "2022-03-23T12:55:00.163Z"
   },
   {
    "duration": 44,
    "start_time": "2022-03-23T12:55:00.211Z"
   },
   {
    "duration": 62,
    "start_time": "2022-03-23T12:55:00.257Z"
   },
   {
    "duration": 54,
    "start_time": "2022-03-23T12:55:00.321Z"
   },
   {
    "duration": 66,
    "start_time": "2022-03-23T12:55:00.377Z"
   },
   {
    "duration": 64,
    "start_time": "2022-03-23T12:55:00.446Z"
   },
   {
    "duration": 83,
    "start_time": "2022-03-23T12:55:00.512Z"
   },
   {
    "duration": 59,
    "start_time": "2022-03-23T12:55:00.597Z"
   },
   {
    "duration": 55,
    "start_time": "2022-03-23T12:55:00.659Z"
   },
   {
    "duration": 78,
    "start_time": "2022-03-23T12:55:00.717Z"
   },
   {
    "duration": 77,
    "start_time": "2022-03-23T12:55:00.797Z"
   },
   {
    "duration": 87,
    "start_time": "2022-03-23T12:55:00.877Z"
   },
   {
    "duration": 180,
    "start_time": "2022-03-23T12:55:00.966Z"
   },
   {
    "duration": 3039,
    "start_time": "2022-03-23T12:55:01.149Z"
   },
   {
    "duration": 8,
    "start_time": "2022-03-23T12:55:04.191Z"
   },
   {
    "duration": 63,
    "start_time": "2022-03-23T12:55:04.201Z"
   },
   {
    "duration": 51,
    "start_time": "2022-03-23T12:55:04.267Z"
   },
   {
    "duration": 29,
    "start_time": "2022-03-23T12:55:04.327Z"
   },
   {
    "duration": 37,
    "start_time": "2022-03-23T12:55:04.359Z"
   },
   {
    "duration": 283,
    "start_time": "2022-03-23T12:55:04.399Z"
   },
   {
    "duration": 11,
    "start_time": "2022-03-23T12:55:04.685Z"
   },
   {
    "duration": 463,
    "start_time": "2022-03-23T12:55:04.698Z"
   },
   {
    "duration": 234,
    "start_time": "2022-03-23T12:55:05.163Z"
   },
   {
    "duration": 257,
    "start_time": "2022-03-23T12:55:05.400Z"
   },
   {
    "duration": 29,
    "start_time": "2022-03-23T12:55:05.659Z"
   },
   {
    "duration": 391,
    "start_time": "2022-03-23T12:55:05.690Z"
   },
   {
    "duration": 539,
    "start_time": "2022-03-23T12:55:06.084Z"
   },
   {
    "duration": 10,
    "start_time": "2022-03-23T12:55:06.625Z"
   },
   {
    "duration": 223,
    "start_time": "2022-03-23T12:55:06.637Z"
   },
   {
    "duration": 278,
    "start_time": "2022-03-23T12:55:06.862Z"
   },
   {
    "duration": 393,
    "start_time": "2022-03-23T12:55:07.142Z"
   },
   {
    "duration": 286,
    "start_time": "2022-03-23T12:55:07.537Z"
   },
   {
    "duration": 296,
    "start_time": "2022-03-23T12:55:07.825Z"
   },
   {
    "duration": 38,
    "start_time": "2022-03-23T12:55:08.123Z"
   },
   {
    "duration": 158,
    "start_time": "2022-03-23T12:55:08.163Z"
   },
   {
    "duration": 311,
    "start_time": "2022-03-23T12:55:08.323Z"
   },
   {
    "duration": 319,
    "start_time": "2022-03-23T12:55:08.636Z"
   },
   {
    "duration": 305,
    "start_time": "2022-03-23T12:55:08.958Z"
   },
   {
    "duration": 279,
    "start_time": "2022-03-23T12:55:09.265Z"
   },
   {
    "duration": 349,
    "start_time": "2022-03-23T12:55:09.547Z"
   },
   {
    "duration": 300,
    "start_time": "2022-03-23T12:55:09.899Z"
   },
   {
    "duration": 298,
    "start_time": "2022-03-23T12:55:10.201Z"
   },
   {
    "duration": 11,
    "start_time": "2022-03-23T12:55:10.501Z"
   },
   {
    "duration": 63,
    "start_time": "2022-03-23T12:55:10.514Z"
   },
   {
    "duration": 13,
    "start_time": "2022-03-23T12:55:10.579Z"
   },
   {
    "duration": 38,
    "start_time": "2022-03-23T12:55:10.594Z"
   },
   {
    "duration": 168,
    "start_time": "2022-03-23T12:55:10.635Z"
   },
   {
    "duration": 8,
    "start_time": "2022-03-23T12:55:10.805Z"
   },
   {
    "duration": 44,
    "start_time": "2022-03-23T12:55:10.815Z"
   },
   {
    "duration": 69,
    "start_time": "2022-03-23T12:55:10.861Z"
   },
   {
    "duration": 115,
    "start_time": "2022-03-23T12:58:21.848Z"
   },
   {
    "duration": 153,
    "start_time": "2022-03-23T12:58:57.112Z"
   },
   {
    "duration": 18,
    "start_time": "2022-03-23T12:59:02.279Z"
   },
   {
    "duration": 321,
    "start_time": "2022-03-23T12:59:18.858Z"
   },
   {
    "duration": 246,
    "start_time": "2022-03-23T12:59:40.145Z"
   },
   {
    "duration": 23,
    "start_time": "2022-03-23T13:23:55.246Z"
   },
   {
    "duration": 10,
    "start_time": "2022-03-23T13:24:00.380Z"
   },
   {
    "duration": 164,
    "start_time": "2022-03-23T13:24:06.499Z"
   },
   {
    "duration": 162,
    "start_time": "2022-03-23T13:24:09.536Z"
   },
   {
    "duration": 11,
    "start_time": "2022-03-23T13:24:13.888Z"
   },
   {
    "duration": 13,
    "start_time": "2022-03-23T13:24:23.198Z"
   },
   {
    "duration": 12,
    "start_time": "2022-03-23T13:24:35.445Z"
   },
   {
    "duration": 322,
    "start_time": "2022-03-23T13:27:41.822Z"
   },
   {
    "duration": 301,
    "start_time": "2022-03-23T13:28:11.592Z"
   },
   {
    "duration": 311,
    "start_time": "2022-03-23T13:29:53.391Z"
   },
   {
    "duration": 252,
    "start_time": "2022-03-23T13:37:04.392Z"
   },
   {
    "duration": 285,
    "start_time": "2022-03-23T13:44:30.222Z"
   },
   {
    "duration": 256,
    "start_time": "2022-03-23T13:44:53.346Z"
   },
   {
    "duration": 281,
    "start_time": "2022-03-23T13:48:07.539Z"
   },
   {
    "duration": 269,
    "start_time": "2022-03-23T13:48:50.404Z"
   },
   {
    "duration": 566,
    "start_time": "2022-03-23T13:50:48.776Z"
   },
   {
    "duration": 417,
    "start_time": "2022-03-23T13:51:00.192Z"
   },
   {
    "duration": 364,
    "start_time": "2022-03-23T13:51:11.822Z"
   },
   {
    "duration": 2919,
    "start_time": "2022-03-23T13:51:52.402Z"
   },
   {
    "duration": 2769,
    "start_time": "2022-03-23T13:52:07.462Z"
   },
   {
    "duration": 354,
    "start_time": "2022-03-23T13:52:21.103Z"
   },
   {
    "duration": 37,
    "start_time": "2022-03-23T13:52:50.733Z"
   },
   {
    "duration": 38,
    "start_time": "2022-03-23T13:52:54.144Z"
   },
   {
    "duration": 390,
    "start_time": "2022-03-23T13:52:59.774Z"
   },
   {
    "duration": 253,
    "start_time": "2022-03-23T13:54:57.449Z"
   },
   {
    "duration": 255,
    "start_time": "2022-03-23T13:55:40.585Z"
   },
   {
    "duration": 249,
    "start_time": "2022-03-23T13:55:51.444Z"
   },
   {
    "duration": 244,
    "start_time": "2022-03-23T13:55:57.314Z"
   },
   {
    "duration": 327,
    "start_time": "2022-03-23T13:56:22.586Z"
   },
   {
    "duration": 275,
    "start_time": "2022-03-23T13:57:00.923Z"
   },
   {
    "duration": 278,
    "start_time": "2022-03-23T14:19:08.004Z"
   },
   {
    "duration": 273,
    "start_time": "2022-03-23T14:19:56.020Z"
   },
   {
    "duration": 2862,
    "start_time": "2022-03-23T14:21:02.167Z"
   },
   {
    "duration": 2663,
    "start_time": "2022-03-23T14:21:22.524Z"
   },
   {
    "duration": 2953,
    "start_time": "2022-03-23T14:21:43.992Z"
   },
   {
    "duration": 844,
    "start_time": "2022-03-23T14:45:09.819Z"
   },
   {
    "duration": 142,
    "start_time": "2022-03-23T14:45:10.666Z"
   },
   {
    "duration": 15,
    "start_time": "2022-03-23T14:45:10.811Z"
   },
   {
    "duration": 124,
    "start_time": "2022-03-23T14:45:10.831Z"
   },
   {
    "duration": 60,
    "start_time": "2022-03-23T14:45:10.958Z"
   },
   {
    "duration": 13,
    "start_time": "2022-03-23T14:45:11.020Z"
   },
   {
    "duration": 7,
    "start_time": "2022-03-23T14:45:11.035Z"
   },
   {
    "duration": 40,
    "start_time": "2022-03-23T14:45:11.044Z"
   },
   {
    "duration": 12,
    "start_time": "2022-03-23T14:45:11.086Z"
   },
   {
    "duration": 14,
    "start_time": "2022-03-23T14:45:11.102Z"
   },
   {
    "duration": 19,
    "start_time": "2022-03-23T14:45:11.118Z"
   },
   {
    "duration": 9,
    "start_time": "2022-03-23T14:45:11.139Z"
   },
   {
    "duration": 32,
    "start_time": "2022-03-23T14:45:11.151Z"
   },
   {
    "duration": 9,
    "start_time": "2022-03-23T14:45:11.185Z"
   },
   {
    "duration": 6,
    "start_time": "2022-03-23T14:45:11.196Z"
   },
   {
    "duration": 7,
    "start_time": "2022-03-23T14:45:11.204Z"
   },
   {
    "duration": 13,
    "start_time": "2022-03-23T14:45:11.213Z"
   },
   {
    "duration": 15,
    "start_time": "2022-03-23T14:45:11.228Z"
   },
   {
    "duration": 39,
    "start_time": "2022-03-23T14:45:11.245Z"
   },
   {
    "duration": 22,
    "start_time": "2022-03-23T14:45:11.286Z"
   },
   {
    "duration": 8,
    "start_time": "2022-03-23T14:45:11.310Z"
   },
   {
    "duration": 12,
    "start_time": "2022-03-23T14:45:11.320Z"
   },
   {
    "duration": 71,
    "start_time": "2022-03-23T14:45:11.334Z"
   },
   {
    "duration": 2803,
    "start_time": "2022-03-23T14:45:11.407Z"
   },
   {
    "duration": 6,
    "start_time": "2022-03-23T14:45:14.213Z"
   },
   {
    "duration": 11,
    "start_time": "2022-03-23T14:45:14.221Z"
   },
   {
    "duration": 8,
    "start_time": "2022-03-23T14:45:14.235Z"
   },
   {
    "duration": 6,
    "start_time": "2022-03-23T14:45:14.249Z"
   },
   {
    "duration": 6,
    "start_time": "2022-03-23T14:45:14.283Z"
   },
   {
    "duration": 256,
    "start_time": "2022-03-23T14:45:14.291Z"
   },
   {
    "duration": 11,
    "start_time": "2022-03-23T14:45:14.550Z"
   },
   {
    "duration": 469,
    "start_time": "2022-03-23T14:45:14.564Z"
   },
   {
    "duration": 239,
    "start_time": "2022-03-23T14:45:15.035Z"
   },
   {
    "duration": 278,
    "start_time": "2022-03-23T14:45:15.276Z"
   },
   {
    "duration": 26,
    "start_time": "2022-03-23T14:45:15.557Z"
   },
   {
    "duration": 393,
    "start_time": "2022-03-23T14:45:15.586Z"
   },
   {
    "duration": 582,
    "start_time": "2022-03-23T14:45:15.983Z"
   },
   {
    "duration": 16,
    "start_time": "2022-03-23T14:45:16.567Z"
   },
   {
    "duration": 156,
    "start_time": "2022-03-23T14:45:16.586Z"
   },
   {
    "duration": 286,
    "start_time": "2022-03-23T14:45:16.745Z"
   },
   {
    "duration": 393,
    "start_time": "2022-03-23T14:45:17.034Z"
   },
   {
    "duration": 310,
    "start_time": "2022-03-23T14:45:17.430Z"
   },
   {
    "duration": 284,
    "start_time": "2022-03-23T14:45:17.742Z"
   },
   {
    "duration": 38,
    "start_time": "2022-03-23T14:45:18.029Z"
   },
   {
    "duration": 151,
    "start_time": "2022-03-23T14:45:18.069Z"
   },
   {
    "duration": 303,
    "start_time": "2022-03-23T14:45:18.223Z"
   },
   {
    "duration": 295,
    "start_time": "2022-03-23T14:45:18.528Z"
   },
   {
    "duration": 287,
    "start_time": "2022-03-23T14:45:18.825Z"
   },
   {
    "duration": 263,
    "start_time": "2022-03-23T14:45:19.115Z"
   },
   {
    "duration": 295,
    "start_time": "2022-03-23T14:45:19.382Z"
   },
   {
    "duration": 294,
    "start_time": "2022-03-23T14:45:19.683Z"
   },
   {
    "duration": 302,
    "start_time": "2022-03-23T14:45:19.982Z"
   },
   {
    "duration": 12,
    "start_time": "2022-03-23T14:45:20.287Z"
   },
   {
    "duration": 43,
    "start_time": "2022-03-23T14:45:20.302Z"
   },
   {
    "duration": 41,
    "start_time": "2022-03-23T14:45:20.347Z"
   },
   {
    "duration": 14,
    "start_time": "2022-03-23T14:45:20.390Z"
   },
   {
    "duration": 152,
    "start_time": "2022-03-23T14:45:20.406Z"
   },
   {
    "duration": 322,
    "start_time": "2022-03-23T14:45:20.560Z"
   },
   {
    "duration": 276,
    "start_time": "2022-03-23T14:45:20.884Z"
   },
   {
    "duration": 260,
    "start_time": "2022-03-23T14:45:21.162Z"
   },
   {
    "duration": 277,
    "start_time": "2022-03-23T14:45:21.426Z"
   },
   {
    "duration": 260,
    "start_time": "2022-03-23T14:45:21.706Z"
   },
   {
    "duration": 260,
    "start_time": "2022-03-23T14:45:21.969Z"
   },
   {
    "duration": 258,
    "start_time": "2022-03-23T14:45:22.231Z"
   },
   {
    "duration": 272,
    "start_time": "2022-03-23T14:45:22.491Z"
   },
   {
    "duration": 1152,
    "start_time": "2022-04-03T14:57:21.829Z"
   },
   {
    "duration": 174,
    "start_time": "2022-04-03T14:57:22.984Z"
   },
   {
    "duration": 13,
    "start_time": "2022-04-03T14:57:23.161Z"
   },
   {
    "duration": 609,
    "start_time": "2022-04-03T14:57:23.177Z"
   },
   {
    "duration": 44,
    "start_time": "2022-04-03T14:57:23.789Z"
   },
   {
    "duration": 17,
    "start_time": "2022-04-03T14:57:23.835Z"
   },
   {
    "duration": 12,
    "start_time": "2022-04-03T14:57:23.854Z"
   },
   {
    "duration": 11,
    "start_time": "2022-04-03T14:57:23.868Z"
   },
   {
    "duration": 9,
    "start_time": "2022-04-03T14:57:23.882Z"
   },
   {
    "duration": 15,
    "start_time": "2022-04-03T14:57:23.895Z"
   },
   {
    "duration": 34,
    "start_time": "2022-04-03T14:57:23.913Z"
   },
   {
    "duration": 6,
    "start_time": "2022-04-03T14:57:23.949Z"
   },
   {
    "duration": 11,
    "start_time": "2022-04-03T14:57:23.957Z"
   },
   {
    "duration": 8,
    "start_time": "2022-04-03T14:57:23.970Z"
   },
   {
    "duration": 5,
    "start_time": "2022-04-03T14:57:23.980Z"
   },
   {
    "duration": 9,
    "start_time": "2022-04-03T14:57:23.987Z"
   },
   {
    "duration": 14,
    "start_time": "2022-04-03T14:57:24.043Z"
   },
   {
    "duration": 11,
    "start_time": "2022-04-03T14:57:24.060Z"
   },
   {
    "duration": 6,
    "start_time": "2022-04-03T14:57:24.073Z"
   },
   {
    "duration": 18,
    "start_time": "2022-04-03T14:57:24.081Z"
   },
   {
    "duration": 44,
    "start_time": "2022-04-03T14:57:24.101Z"
   },
   {
    "duration": 11,
    "start_time": "2022-04-03T14:57:24.147Z"
   },
   {
    "duration": 36,
    "start_time": "2022-04-03T14:57:24.161Z"
   },
   {
    "duration": 3849,
    "start_time": "2022-04-03T14:57:24.200Z"
   },
   {
    "duration": 5,
    "start_time": "2022-04-03T14:57:28.052Z"
   },
   {
    "duration": 10,
    "start_time": "2022-04-03T14:57:28.059Z"
   },
   {
    "duration": 6,
    "start_time": "2022-04-03T14:57:28.071Z"
   },
   {
    "duration": 5,
    "start_time": "2022-04-03T14:57:28.084Z"
   },
   {
    "duration": 6,
    "start_time": "2022-04-03T14:57:28.091Z"
   },
   {
    "duration": 269,
    "start_time": "2022-04-03T14:57:28.099Z"
   },
   {
    "duration": 10,
    "start_time": "2022-04-03T14:57:28.371Z"
   },
   {
    "duration": 418,
    "start_time": "2022-04-03T14:57:28.383Z"
   },
   {
    "duration": 221,
    "start_time": "2022-04-03T14:57:28.803Z"
   },
   {
    "duration": 238,
    "start_time": "2022-04-03T14:57:29.027Z"
   },
   {
    "duration": 12,
    "start_time": "2022-04-03T14:57:29.267Z"
   },
   {
    "duration": 366,
    "start_time": "2022-04-03T14:57:29.281Z"
   },
   {
    "duration": 487,
    "start_time": "2022-04-03T14:57:29.649Z"
   },
   {
    "duration": 8,
    "start_time": "2022-04-03T14:57:30.142Z"
   },
   {
    "duration": 150,
    "start_time": "2022-04-03T14:57:30.152Z"
   },
   {
    "duration": 543,
    "start_time": "2022-04-03T14:57:30.304Z"
   },
   {
    "duration": 456,
    "start_time": "2022-04-03T14:57:30.849Z"
   },
   {
    "duration": 290,
    "start_time": "2022-04-03T14:57:31.307Z"
   },
   {
    "duration": 344,
    "start_time": "2022-04-03T14:57:31.599Z"
   },
   {
    "duration": 37,
    "start_time": "2022-04-03T14:57:31.945Z"
   },
   {
    "duration": 176,
    "start_time": "2022-04-03T14:57:31.984Z"
   },
   {
    "duration": 626,
    "start_time": "2022-04-03T14:57:32.162Z"
   },
   {
    "duration": 653,
    "start_time": "2022-04-03T14:57:32.790Z"
   },
   {
    "duration": 290,
    "start_time": "2022-04-03T14:57:33.445Z"
   },
   {
    "duration": 409,
    "start_time": "2022-04-03T14:57:33.742Z"
   },
   {
    "duration": 279,
    "start_time": "2022-04-03T14:57:34.153Z"
   },
   {
    "duration": 285,
    "start_time": "2022-04-03T14:57:34.434Z"
   },
   {
    "duration": 274,
    "start_time": "2022-04-03T14:57:34.722Z"
   },
   {
    "duration": 11,
    "start_time": "2022-04-03T14:57:34.998Z"
   },
   {
    "duration": 64,
    "start_time": "2022-04-03T14:57:35.011Z"
   },
   {
    "duration": 10,
    "start_time": "2022-04-03T14:57:35.078Z"
   },
   {
    "duration": 13,
    "start_time": "2022-04-03T14:57:35.091Z"
   },
   {
    "duration": 113,
    "start_time": "2022-04-03T14:57:35.106Z"
   },
   {
    "duration": 297,
    "start_time": "2022-04-03T14:57:35.222Z"
   },
   {
    "duration": 250,
    "start_time": "2022-04-03T14:57:35.521Z"
   },
   {
    "duration": 257,
    "start_time": "2022-04-03T14:57:35.773Z"
   },
   {
    "duration": 266,
    "start_time": "2022-04-03T14:57:36.032Z"
   },
   {
    "duration": 246,
    "start_time": "2022-04-03T14:57:36.300Z"
   },
   {
    "duration": 242,
    "start_time": "2022-04-03T14:57:36.548Z"
   },
   {
    "duration": 253,
    "start_time": "2022-04-03T14:57:36.792Z"
   },
   {
    "duration": 269,
    "start_time": "2022-04-03T14:57:37.048Z"
   },
   {
    "duration": 19,
    "start_time": "2022-04-03T15:01:32.455Z"
   },
   {
    "duration": 134,
    "start_time": "2022-04-03T15:03:57.822Z"
   },
   {
    "duration": 136,
    "start_time": "2022-04-03T15:04:07.209Z"
   },
   {
    "duration": 700,
    "start_time": "2022-04-03T15:06:40.870Z"
   },
   {
    "duration": 137,
    "start_time": "2022-04-03T15:07:05.410Z"
   },
   {
    "duration": 135,
    "start_time": "2022-04-03T15:16:51.521Z"
   },
   {
    "duration": 139,
    "start_time": "2022-04-03T15:16:57.321Z"
   },
   {
    "duration": 822,
    "start_time": "2022-04-11T10:36:39.280Z"
   },
   {
    "duration": 72,
    "start_time": "2022-04-11T10:36:40.104Z"
   },
   {
    "duration": 9,
    "start_time": "2022-04-11T10:36:40.178Z"
   },
   {
    "duration": 66,
    "start_time": "2022-04-11T10:36:40.189Z"
   },
   {
    "duration": 34,
    "start_time": "2022-04-11T10:36:40.257Z"
   },
   {
    "duration": 7,
    "start_time": "2022-04-11T10:36:40.293Z"
   },
   {
    "duration": 5,
    "start_time": "2022-04-11T10:36:40.301Z"
   },
   {
    "duration": 12,
    "start_time": "2022-04-11T10:36:40.307Z"
   },
   {
    "duration": 5,
    "start_time": "2022-04-11T10:36:40.320Z"
   },
   {
    "duration": 5,
    "start_time": "2022-04-11T10:36:40.327Z"
   },
   {
    "duration": 6,
    "start_time": "2022-04-11T10:36:40.333Z"
   },
   {
    "duration": 30,
    "start_time": "2022-04-11T10:36:40.341Z"
   },
   {
    "duration": 7,
    "start_time": "2022-04-11T10:36:40.373Z"
   },
   {
    "duration": 5,
    "start_time": "2022-04-11T10:36:40.381Z"
   },
   {
    "duration": 4,
    "start_time": "2022-04-11T10:36:40.387Z"
   },
   {
    "duration": 6,
    "start_time": "2022-04-11T10:36:40.393Z"
   },
   {
    "duration": 9,
    "start_time": "2022-04-11T10:36:40.400Z"
   },
   {
    "duration": 4,
    "start_time": "2022-04-11T10:36:40.410Z"
   },
   {
    "duration": 4,
    "start_time": "2022-04-11T10:36:40.416Z"
   },
   {
    "duration": 12,
    "start_time": "2022-04-11T10:36:40.422Z"
   },
   {
    "duration": 37,
    "start_time": "2022-04-11T10:36:40.435Z"
   },
   {
    "duration": 6,
    "start_time": "2022-04-11T10:36:40.474Z"
   },
   {
    "duration": 20,
    "start_time": "2022-04-11T10:36:40.482Z"
   },
   {
    "duration": 1348,
    "start_time": "2022-04-11T10:36:40.503Z"
   },
   {
    "duration": 4,
    "start_time": "2022-04-11T10:36:41.852Z"
   },
   {
    "duration": 15,
    "start_time": "2022-04-11T10:36:41.857Z"
   },
   {
    "duration": 3,
    "start_time": "2022-04-11T10:36:41.874Z"
   },
   {
    "duration": 3,
    "start_time": "2022-04-11T10:36:41.881Z"
   },
   {
    "duration": 8,
    "start_time": "2022-04-11T10:36:41.886Z"
   },
   {
    "duration": 142,
    "start_time": "2022-04-11T10:36:41.895Z"
   },
   {
    "duration": 8,
    "start_time": "2022-04-11T10:36:42.039Z"
   },
   {
    "duration": 257,
    "start_time": "2022-04-11T10:36:42.049Z"
   },
   {
    "duration": 127,
    "start_time": "2022-04-11T10:36:42.308Z"
   },
   {
    "duration": 137,
    "start_time": "2022-04-11T10:36:42.437Z"
   },
   {
    "duration": 8,
    "start_time": "2022-04-11T10:36:42.575Z"
   },
   {
    "duration": 200,
    "start_time": "2022-04-11T10:36:42.584Z"
   },
   {
    "duration": 265,
    "start_time": "2022-04-11T10:36:42.785Z"
   },
   {
    "duration": 6,
    "start_time": "2022-04-11T10:36:43.051Z"
   },
   {
    "duration": 81,
    "start_time": "2022-04-11T10:36:43.058Z"
   },
   {
    "duration": 167,
    "start_time": "2022-04-11T10:36:43.141Z"
   },
   {
    "duration": 226,
    "start_time": "2022-04-11T10:36:43.310Z"
   },
   {
    "duration": 159,
    "start_time": "2022-04-11T10:36:43.537Z"
   },
   {
    "duration": 163,
    "start_time": "2022-04-11T10:36:43.698Z"
   },
   {
    "duration": 24,
    "start_time": "2022-04-11T10:36:43.863Z"
   },
   {
    "duration": 89,
    "start_time": "2022-04-11T10:36:43.889Z"
   },
   {
    "duration": 173,
    "start_time": "2022-04-11T10:36:43.980Z"
   },
   {
    "duration": 175,
    "start_time": "2022-04-11T10:36:44.154Z"
   },
   {
    "duration": 163,
    "start_time": "2022-04-11T10:36:44.331Z"
   },
   {
    "duration": 151,
    "start_time": "2022-04-11T10:36:44.496Z"
   },
   {
    "duration": 173,
    "start_time": "2022-04-11T10:36:44.648Z"
   },
   {
    "duration": 197,
    "start_time": "2022-04-11T10:36:44.823Z"
   },
   {
    "duration": 177,
    "start_time": "2022-04-11T10:36:45.021Z"
   },
   {
    "duration": 7,
    "start_time": "2022-04-11T10:36:45.200Z"
   },
   {
    "duration": 54,
    "start_time": "2022-04-11T10:36:45.209Z"
   },
   {
    "duration": 16,
    "start_time": "2022-04-11T10:36:45.265Z"
   },
   {
    "duration": 13,
    "start_time": "2022-04-11T10:36:45.283Z"
   },
   {
    "duration": 53,
    "start_time": "2022-04-11T10:36:45.298Z"
   },
   {
    "duration": 182,
    "start_time": "2022-04-11T10:36:45.352Z"
   },
   {
    "duration": 147,
    "start_time": "2022-04-11T10:36:45.536Z"
   },
   {
    "duration": 145,
    "start_time": "2022-04-11T10:36:45.685Z"
   },
   {
    "duration": 300,
    "start_time": "2022-04-11T10:36:45.831Z"
   },
   {
    "duration": 189,
    "start_time": "2022-04-11T10:36:46.132Z"
   },
   {
    "duration": 207,
    "start_time": "2022-04-11T10:36:46.323Z"
   },
   {
    "duration": 171,
    "start_time": "2022-04-11T10:36:46.532Z"
   },
   {
    "duration": 153,
    "start_time": "2022-04-11T10:36:46.705Z"
   },
   {
    "duration": 6,
    "start_time": "2022-04-11T10:44:28.536Z"
   },
   {
    "duration": 17,
    "start_time": "2022-04-11T10:46:10.542Z"
   },
   {
    "duration": 4,
    "start_time": "2022-04-11T10:50:22.192Z"
   },
   {
    "duration": 9,
    "start_time": "2022-04-11T10:51:48.660Z"
   },
   {
    "duration": 16,
    "start_time": "2022-04-11T10:51:58.551Z"
   },
   {
    "duration": 7,
    "start_time": "2022-04-11T10:56:08.307Z"
   },
   {
    "duration": 4,
    "start_time": "2022-04-11T11:03:07.101Z"
   },
   {
    "duration": 15,
    "start_time": "2022-04-11T11:03:10.179Z"
   },
   {
    "duration": 644,
    "start_time": "2022-04-11T11:03:26.031Z"
   },
   {
    "duration": 69,
    "start_time": "2022-04-11T11:03:26.678Z"
   },
   {
    "duration": 10,
    "start_time": "2022-04-11T11:03:26.749Z"
   },
   {
    "duration": 70,
    "start_time": "2022-04-11T11:03:26.771Z"
   },
   {
    "duration": 38,
    "start_time": "2022-04-11T11:03:26.843Z"
   },
   {
    "duration": 9,
    "start_time": "2022-04-11T11:03:26.883Z"
   },
   {
    "duration": 4,
    "start_time": "2022-04-11T11:03:26.894Z"
   },
   {
    "duration": 6,
    "start_time": "2022-04-11T11:03:26.900Z"
   },
   {
    "duration": 6,
    "start_time": "2022-04-11T11:03:26.907Z"
   },
   {
    "duration": 5,
    "start_time": "2022-04-11T11:03:26.916Z"
   },
   {
    "duration": 7,
    "start_time": "2022-04-11T11:03:26.922Z"
   },
   {
    "duration": 40,
    "start_time": "2022-04-11T11:03:26.931Z"
   },
   {
    "duration": 7,
    "start_time": "2022-04-11T11:03:26.973Z"
   },
   {
    "duration": 6,
    "start_time": "2022-04-11T11:03:26.982Z"
   },
   {
    "duration": 5,
    "start_time": "2022-04-11T11:03:26.990Z"
   },
   {
    "duration": 5,
    "start_time": "2022-04-11T11:03:26.997Z"
   },
   {
    "duration": 9,
    "start_time": "2022-04-11T11:03:27.004Z"
   },
   {
    "duration": 17,
    "start_time": "2022-04-11T11:03:27.014Z"
   },
   {
    "duration": 38,
    "start_time": "2022-04-11T11:03:27.032Z"
   },
   {
    "duration": 17,
    "start_time": "2022-04-11T11:03:27.072Z"
   },
   {
    "duration": 5,
    "start_time": "2022-04-11T11:03:27.091Z"
   },
   {
    "duration": 6,
    "start_time": "2022-04-11T11:03:27.097Z"
   },
   {
    "duration": 12,
    "start_time": "2022-04-11T11:03:27.104Z"
   },
   {
    "duration": 9,
    "start_time": "2022-04-11T11:03:27.117Z"
   },
   {
    "duration": 7,
    "start_time": "2022-04-11T11:03:27.127Z"
   },
   {
    "duration": 54,
    "start_time": "2022-04-11T11:03:27.135Z"
   },
   {
    "duration": 1332,
    "start_time": "2022-04-11T11:03:27.190Z"
   },
   {
    "duration": 4,
    "start_time": "2022-04-11T11:03:28.525Z"
   },
   {
    "duration": 6,
    "start_time": "2022-04-11T11:03:28.531Z"
   },
   {
    "duration": 5,
    "start_time": "2022-04-11T11:03:28.538Z"
   },
   {
    "duration": 28,
    "start_time": "2022-04-11T11:03:28.544Z"
   },
   {
    "duration": 5,
    "start_time": "2022-04-11T11:03:28.574Z"
   },
   {
    "duration": 136,
    "start_time": "2022-04-11T11:03:28.581Z"
   },
   {
    "duration": 9,
    "start_time": "2022-04-11T11:03:28.719Z"
   },
   {
    "duration": 258,
    "start_time": "2022-04-11T11:03:28.729Z"
   },
   {
    "duration": 131,
    "start_time": "2022-04-11T11:03:28.988Z"
   },
   {
    "duration": 135,
    "start_time": "2022-04-11T11:03:29.120Z"
   },
   {
    "duration": 14,
    "start_time": "2022-04-11T11:03:29.257Z"
   },
   {
    "duration": 260,
    "start_time": "2022-04-11T11:03:29.273Z"
   },
   {
    "duration": 256,
    "start_time": "2022-04-11T11:03:29.536Z"
   },
   {
    "duration": 5,
    "start_time": "2022-04-11T11:03:29.794Z"
   },
   {
    "duration": 88,
    "start_time": "2022-04-11T11:03:29.801Z"
   },
   {
    "duration": 157,
    "start_time": "2022-04-11T11:03:29.890Z"
   },
   {
    "duration": 234,
    "start_time": "2022-04-11T11:03:30.048Z"
   },
   {
    "duration": 161,
    "start_time": "2022-04-11T11:03:30.284Z"
   },
   {
    "duration": 169,
    "start_time": "2022-04-11T11:03:30.446Z"
   },
   {
    "duration": 21,
    "start_time": "2022-04-11T11:03:30.616Z"
   },
   {
    "duration": 97,
    "start_time": "2022-04-11T11:03:30.639Z"
   },
   {
    "duration": 182,
    "start_time": "2022-04-11T11:03:30.737Z"
   },
   {
    "duration": 170,
    "start_time": "2022-04-11T11:03:30.921Z"
   },
   {
    "duration": 166,
    "start_time": "2022-04-11T11:03:31.093Z"
   },
   {
    "duration": 158,
    "start_time": "2022-04-11T11:03:31.261Z"
   },
   {
    "duration": 175,
    "start_time": "2022-04-11T11:03:31.420Z"
   },
   {
    "duration": 169,
    "start_time": "2022-04-11T11:03:31.597Z"
   },
   {
    "duration": 166,
    "start_time": "2022-04-11T11:03:31.770Z"
   },
   {
    "duration": 7,
    "start_time": "2022-04-11T11:03:31.938Z"
   },
   {
    "duration": 35,
    "start_time": "2022-04-11T11:03:31.947Z"
   },
   {
    "duration": 6,
    "start_time": "2022-04-11T11:03:31.984Z"
   },
   {
    "duration": 7,
    "start_time": "2022-04-11T11:03:31.991Z"
   },
   {
    "duration": 53,
    "start_time": "2022-04-11T11:03:31.999Z"
   },
   {
    "duration": 200,
    "start_time": "2022-04-11T11:03:32.054Z"
   },
   {
    "duration": 149,
    "start_time": "2022-04-11T11:03:32.256Z"
   },
   {
    "duration": 148,
    "start_time": "2022-04-11T11:03:32.407Z"
   },
   {
    "duration": 155,
    "start_time": "2022-04-11T11:03:32.556Z"
   },
   {
    "duration": 144,
    "start_time": "2022-04-11T11:03:32.712Z"
   },
   {
    "duration": 146,
    "start_time": "2022-04-11T11:03:32.858Z"
   },
   {
    "duration": 148,
    "start_time": "2022-04-11T11:03:33.006Z"
   },
   {
    "duration": 143,
    "start_time": "2022-04-11T11:03:33.156Z"
   },
   {
    "duration": 6,
    "start_time": "2022-04-11T11:12:01.802Z"
   },
   {
    "duration": 16,
    "start_time": "2022-04-11T11:12:08.292Z"
   },
   {
    "duration": 33,
    "start_time": "2022-04-11T11:18:17.375Z"
   },
   {
    "duration": 93,
    "start_time": "2022-04-11T11:18:31.682Z"
   },
   {
    "duration": 13,
    "start_time": "2022-04-11T11:18:33.326Z"
   },
   {
    "duration": 12,
    "start_time": "2022-04-11T11:18:41.005Z"
   },
   {
    "duration": 642,
    "start_time": "2022-04-11T11:19:01.525Z"
   },
   {
    "duration": 74,
    "start_time": "2022-04-11T11:19:02.169Z"
   },
   {
    "duration": 9,
    "start_time": "2022-04-11T11:19:02.244Z"
   },
   {
    "duration": 96,
    "start_time": "2022-04-11T11:19:02.255Z"
   },
   {
    "duration": 25,
    "start_time": "2022-04-11T11:19:02.352Z"
   },
   {
    "duration": 55,
    "start_time": "2022-04-11T11:19:02.378Z"
   },
   {
    "duration": 19,
    "start_time": "2022-04-11T11:19:02.435Z"
   },
   {
    "duration": 18,
    "start_time": "2022-04-11T11:19:02.455Z"
   },
   {
    "duration": 16,
    "start_time": "2022-04-11T11:19:02.474Z"
   },
   {
    "duration": 10,
    "start_time": "2022-04-11T11:19:02.493Z"
   },
   {
    "duration": 5,
    "start_time": "2022-04-11T11:19:02.504Z"
   },
   {
    "duration": 10,
    "start_time": "2022-04-11T11:19:02.511Z"
   },
   {
    "duration": 8,
    "start_time": "2022-04-11T11:19:02.522Z"
   },
   {
    "duration": 5,
    "start_time": "2022-04-11T11:19:02.531Z"
   },
   {
    "duration": 5,
    "start_time": "2022-04-11T11:19:02.537Z"
   },
   {
    "duration": 6,
    "start_time": "2022-04-11T11:19:02.544Z"
   },
   {
    "duration": 15,
    "start_time": "2022-04-11T11:19:02.552Z"
   },
   {
    "duration": 14,
    "start_time": "2022-04-11T11:19:02.570Z"
   },
   {
    "duration": 10,
    "start_time": "2022-04-11T11:19:02.585Z"
   },
   {
    "duration": 25,
    "start_time": "2022-04-11T11:19:02.596Z"
   },
   {
    "duration": 11,
    "start_time": "2022-04-11T11:19:02.622Z"
   },
   {
    "duration": 7,
    "start_time": "2022-04-11T11:19:02.635Z"
   },
   {
    "duration": 18,
    "start_time": "2022-04-11T11:19:02.644Z"
   },
   {
    "duration": 6,
    "start_time": "2022-04-11T11:19:02.664Z"
   },
   {
    "duration": 13,
    "start_time": "2022-04-11T11:19:02.671Z"
   },
   {
    "duration": 27,
    "start_time": "2022-04-11T11:19:02.685Z"
   },
   {
    "duration": 1363,
    "start_time": "2022-04-11T11:19:02.714Z"
   },
   {
    "duration": 4,
    "start_time": "2022-04-11T11:19:04.080Z"
   },
   {
    "duration": 27,
    "start_time": "2022-04-11T11:19:04.085Z"
   },
   {
    "duration": 11,
    "start_time": "2022-04-11T11:19:04.114Z"
   },
   {
    "duration": 27,
    "start_time": "2022-04-11T11:19:04.127Z"
   },
   {
    "duration": 29,
    "start_time": "2022-04-11T11:19:04.156Z"
   },
   {
    "duration": 134,
    "start_time": "2022-04-11T11:19:04.187Z"
   },
   {
    "duration": 8,
    "start_time": "2022-04-11T11:19:04.322Z"
   },
   {
    "duration": 251,
    "start_time": "2022-04-11T11:19:04.332Z"
   },
   {
    "duration": 125,
    "start_time": "2022-04-11T11:19:04.584Z"
   },
   {
    "duration": 133,
    "start_time": "2022-04-11T11:19:04.711Z"
   },
   {
    "duration": 8,
    "start_time": "2022-04-11T11:19:04.845Z"
   },
   {
    "duration": 204,
    "start_time": "2022-04-11T11:19:04.855Z"
   },
   {
    "duration": 257,
    "start_time": "2022-04-11T11:19:05.061Z"
   },
   {
    "duration": 5,
    "start_time": "2022-04-11T11:19:05.320Z"
   },
   {
    "duration": 87,
    "start_time": "2022-04-11T11:19:05.327Z"
   },
   {
    "duration": 157,
    "start_time": "2022-04-11T11:19:05.415Z"
   },
   {
    "duration": 237,
    "start_time": "2022-04-11T11:19:05.574Z"
   },
   {
    "duration": 153,
    "start_time": "2022-04-11T11:19:05.812Z"
   },
   {
    "duration": 159,
    "start_time": "2022-04-11T11:19:05.970Z"
   },
   {
    "duration": 19,
    "start_time": "2022-04-11T11:19:06.130Z"
   },
   {
    "duration": 90,
    "start_time": "2022-04-11T11:19:06.151Z"
   },
   {
    "duration": 167,
    "start_time": "2022-04-11T11:19:06.243Z"
   },
   {
    "duration": 165,
    "start_time": "2022-04-11T11:19:06.411Z"
   },
   {
    "duration": 162,
    "start_time": "2022-04-11T11:19:06.578Z"
   },
   {
    "duration": 157,
    "start_time": "2022-04-11T11:19:06.741Z"
   },
   {
    "duration": 172,
    "start_time": "2022-04-11T11:19:06.900Z"
   },
   {
    "duration": 167,
    "start_time": "2022-04-11T11:19:07.073Z"
   },
   {
    "duration": 166,
    "start_time": "2022-04-11T11:19:07.241Z"
   },
   {
    "duration": 7,
    "start_time": "2022-04-11T11:19:07.408Z"
   },
   {
    "duration": 32,
    "start_time": "2022-04-11T11:19:07.416Z"
   },
   {
    "duration": 7,
    "start_time": "2022-04-11T11:19:07.449Z"
   },
   {
    "duration": 17,
    "start_time": "2022-04-11T11:19:07.457Z"
   },
   {
    "duration": 59,
    "start_time": "2022-04-11T11:19:07.476Z"
   },
   {
    "duration": 208,
    "start_time": "2022-04-11T11:19:07.537Z"
   },
   {
    "duration": 157,
    "start_time": "2022-04-11T11:19:07.747Z"
   },
   {
    "duration": 145,
    "start_time": "2022-04-11T11:19:07.905Z"
   },
   {
    "duration": 157,
    "start_time": "2022-04-11T11:19:08.052Z"
   },
   {
    "duration": 142,
    "start_time": "2022-04-11T11:19:08.211Z"
   },
   {
    "duration": 139,
    "start_time": "2022-04-11T11:19:08.355Z"
   },
   {
    "duration": 145,
    "start_time": "2022-04-11T11:19:08.496Z"
   },
   {
    "duration": 150,
    "start_time": "2022-04-11T11:19:08.643Z"
   },
   {
    "duration": 5,
    "start_time": "2022-04-11T11:24:30.743Z"
   },
   {
    "duration": 18,
    "start_time": "2022-04-11T11:24:31.849Z"
   },
   {
    "duration": 318,
    "start_time": "2022-04-11T11:26:27.107Z"
   },
   {
    "duration": 142,
    "start_time": "2022-04-11T11:26:39.805Z"
   },
   {
    "duration": 131,
    "start_time": "2022-04-11T11:27:00.540Z"
   },
   {
    "duration": 191,
    "start_time": "2022-04-11T11:27:05.857Z"
   },
   {
    "duration": 226,
    "start_time": "2022-04-11T11:27:44.313Z"
   },
   {
    "duration": 254,
    "start_time": "2022-04-11T11:29:22.063Z"
   },
   {
    "duration": 247,
    "start_time": "2022-04-11T11:29:59.222Z"
   },
   {
    "duration": 250,
    "start_time": "2022-04-11T11:30:23.732Z"
   },
   {
    "duration": 235,
    "start_time": "2022-04-11T11:30:57.644Z"
   },
   {
    "duration": 349,
    "start_time": "2022-04-11T11:31:26.314Z"
   },
   {
    "duration": 246,
    "start_time": "2022-04-11T11:31:40.069Z"
   },
   {
    "duration": 240,
    "start_time": "2022-04-11T11:32:03.638Z"
   },
   {
    "duration": 235,
    "start_time": "2022-04-11T11:33:28.480Z"
   },
   {
    "duration": 253,
    "start_time": "2022-04-11T11:33:37.868Z"
   },
   {
    "duration": 34,
    "start_time": "2022-04-11T11:48:27.599Z"
   },
   {
    "duration": 166,
    "start_time": "2022-04-11T11:49:00.974Z"
   },
   {
    "duration": 334,
    "start_time": "2022-04-11T11:52:28.037Z"
   },
   {
    "duration": 223,
    "start_time": "2022-04-11T11:53:32.108Z"
   },
   {
    "duration": 159,
    "start_time": "2022-04-11T11:56:41.488Z"
   },
   {
    "duration": 151,
    "start_time": "2022-04-11T11:57:00.423Z"
   },
   {
    "duration": 674,
    "start_time": "2022-04-11T12:13:26.446Z"
   },
   {
    "duration": 68,
    "start_time": "2022-04-11T12:13:27.121Z"
   },
   {
    "duration": 9,
    "start_time": "2022-04-11T12:13:27.190Z"
   },
   {
    "duration": 100,
    "start_time": "2022-04-11T12:13:27.201Z"
   },
   {
    "duration": 28,
    "start_time": "2022-04-11T12:13:27.302Z"
   },
   {
    "duration": 22,
    "start_time": "2022-04-11T12:13:27.331Z"
   },
   {
    "duration": 24,
    "start_time": "2022-04-11T12:13:27.354Z"
   },
   {
    "duration": 20,
    "start_time": "2022-04-11T12:13:27.379Z"
   },
   {
    "duration": 30,
    "start_time": "2022-04-11T12:13:27.400Z"
   },
   {
    "duration": 33,
    "start_time": "2022-04-11T12:13:27.432Z"
   },
   {
    "duration": 12,
    "start_time": "2022-04-11T12:13:27.466Z"
   },
   {
    "duration": 17,
    "start_time": "2022-04-11T12:13:27.479Z"
   },
   {
    "duration": 17,
    "start_time": "2022-04-11T12:13:27.498Z"
   },
   {
    "duration": 30,
    "start_time": "2022-04-11T12:13:27.516Z"
   },
   {
    "duration": 26,
    "start_time": "2022-04-11T12:13:27.547Z"
   },
   {
    "duration": 16,
    "start_time": "2022-04-11T12:13:27.574Z"
   },
   {
    "duration": 14,
    "start_time": "2022-04-11T12:13:27.591Z"
   },
   {
    "duration": 15,
    "start_time": "2022-04-11T12:13:27.607Z"
   },
   {
    "duration": 29,
    "start_time": "2022-04-11T12:13:27.624Z"
   },
   {
    "duration": 32,
    "start_time": "2022-04-11T12:13:27.654Z"
   },
   {
    "duration": 21,
    "start_time": "2022-04-11T12:13:27.688Z"
   },
   {
    "duration": 15,
    "start_time": "2022-04-11T12:13:27.710Z"
   },
   {
    "duration": 31,
    "start_time": "2022-04-11T12:13:27.726Z"
   },
   {
    "duration": 1486,
    "start_time": "2022-04-11T12:13:27.758Z"
   },
   {
    "duration": 4,
    "start_time": "2022-04-11T12:13:29.246Z"
   },
   {
    "duration": 32,
    "start_time": "2022-04-11T12:13:29.252Z"
   },
   {
    "duration": 10,
    "start_time": "2022-04-11T12:13:29.286Z"
   },
   {
    "duration": 16,
    "start_time": "2022-04-11T12:13:29.300Z"
   },
   {
    "duration": 6,
    "start_time": "2022-04-11T12:13:29.317Z"
   },
   {
    "duration": 320,
    "start_time": "2022-04-11T12:13:29.325Z"
   },
   {
    "duration": 10,
    "start_time": "2022-04-11T12:13:29.647Z"
   },
   {
    "duration": 265,
    "start_time": "2022-04-11T12:13:29.671Z"
   },
   {
    "duration": 144,
    "start_time": "2022-04-11T12:13:29.938Z"
   },
   {
    "duration": 154,
    "start_time": "2022-04-11T12:13:30.083Z"
   },
   {
    "duration": 10,
    "start_time": "2022-04-11T12:13:30.239Z"
   },
   {
    "duration": 229,
    "start_time": "2022-04-11T12:13:30.251Z"
   },
   {
    "duration": 301,
    "start_time": "2022-04-11T12:13:30.481Z"
   },
   {
    "duration": 7,
    "start_time": "2022-04-11T12:13:30.784Z"
   },
   {
    "duration": 111,
    "start_time": "2022-04-11T12:13:30.793Z"
   },
   {
    "duration": 273,
    "start_time": "2022-04-11T12:13:30.906Z"
   },
   {
    "duration": 187,
    "start_time": "2022-04-11T12:13:31.180Z"
   },
   {
    "duration": 188,
    "start_time": "2022-04-11T12:13:31.369Z"
   },
   {
    "duration": 181,
    "start_time": "2022-04-11T12:13:31.559Z"
   },
   {
    "duration": 21,
    "start_time": "2022-04-11T12:13:31.741Z"
   },
   {
    "duration": 100,
    "start_time": "2022-04-11T12:13:31.763Z"
   },
   {
    "duration": 249,
    "start_time": "2022-04-11T12:13:31.865Z"
   },
   {
    "duration": 207,
    "start_time": "2022-04-11T12:13:32.116Z"
   },
   {
    "duration": 241,
    "start_time": "2022-04-11T12:13:32.324Z"
   },
   {
    "duration": 227,
    "start_time": "2022-04-11T12:13:32.570Z"
   },
   {
    "duration": 247,
    "start_time": "2022-04-11T12:13:32.799Z"
   },
   {
    "duration": 249,
    "start_time": "2022-04-11T12:13:33.048Z"
   },
   {
    "duration": 242,
    "start_time": "2022-04-11T12:13:33.298Z"
   },
   {
    "duration": 10,
    "start_time": "2022-04-11T12:13:33.542Z"
   },
   {
    "duration": 43,
    "start_time": "2022-04-11T12:13:33.554Z"
   },
   {
    "duration": 8,
    "start_time": "2022-04-11T12:13:33.599Z"
   },
   {
    "duration": 10,
    "start_time": "2022-04-11T12:13:33.608Z"
   },
   {
    "duration": 164,
    "start_time": "2022-04-11T12:13:33.619Z"
   },
   {
    "duration": 206,
    "start_time": "2022-04-11T12:13:33.784Z"
   },
   {
    "duration": 11,
    "start_time": "2022-04-11T12:13:33.992Z"
   },
   {
    "duration": 238,
    "start_time": "2022-04-11T12:13:34.005Z"
   },
   {
    "duration": 220,
    "start_time": "2022-04-11T12:13:34.245Z"
   },
   {
    "duration": 210,
    "start_time": "2022-04-11T12:13:34.467Z"
   },
   {
    "duration": 223,
    "start_time": "2022-04-11T12:13:34.678Z"
   },
   {
    "duration": 208,
    "start_time": "2022-04-11T12:13:34.902Z"
   },
   {
    "duration": 154,
    "start_time": "2022-04-11T12:13:35.112Z"
   },
   {
    "duration": 158,
    "start_time": "2022-04-11T12:13:35.270Z"
   },
   {
    "duration": 167,
    "start_time": "2022-04-11T12:13:35.430Z"
   },
   {
    "duration": 38,
    "start_time": "2022-04-11T12:13:35.599Z"
   },
   {
    "duration": 47,
    "start_time": "2022-04-12T07:45:05.310Z"
   },
   {
    "duration": 909,
    "start_time": "2022-04-12T07:45:13.316Z"
   },
   {
    "duration": 98,
    "start_time": "2022-04-12T07:45:14.227Z"
   },
   {
    "duration": 11,
    "start_time": "2022-04-12T07:45:14.327Z"
   },
   {
    "duration": 105,
    "start_time": "2022-04-12T07:45:14.340Z"
   },
   {
    "duration": 29,
    "start_time": "2022-04-12T07:45:14.447Z"
   },
   {
    "duration": 10,
    "start_time": "2022-04-12T07:45:14.478Z"
   },
   {
    "duration": 5,
    "start_time": "2022-04-12T07:45:14.489Z"
   },
   {
    "duration": 29,
    "start_time": "2022-04-12T07:45:14.495Z"
   },
   {
    "duration": 5,
    "start_time": "2022-04-12T07:45:14.526Z"
   },
   {
    "duration": 5,
    "start_time": "2022-04-12T07:45:14.534Z"
   },
   {
    "duration": 6,
    "start_time": "2022-04-12T07:45:14.540Z"
   },
   {
    "duration": 5,
    "start_time": "2022-04-12T07:45:14.548Z"
   },
   {
    "duration": 7,
    "start_time": "2022-04-12T07:45:14.555Z"
   },
   {
    "duration": 5,
    "start_time": "2022-04-12T07:45:14.563Z"
   },
   {
    "duration": 5,
    "start_time": "2022-04-12T07:45:14.570Z"
   },
   {
    "duration": 10,
    "start_time": "2022-04-12T07:45:14.577Z"
   },
   {
    "duration": 41,
    "start_time": "2022-04-12T07:45:14.588Z"
   },
   {
    "duration": 7,
    "start_time": "2022-04-12T07:45:14.631Z"
   },
   {
    "duration": 5,
    "start_time": "2022-04-12T07:45:14.640Z"
   },
   {
    "duration": 14,
    "start_time": "2022-04-12T07:45:14.646Z"
   },
   {
    "duration": 6,
    "start_time": "2022-04-12T07:45:14.662Z"
   },
   {
    "duration": 10,
    "start_time": "2022-04-12T07:45:14.669Z"
   },
   {
    "duration": 55,
    "start_time": "2022-04-12T07:45:14.681Z"
   },
   {
    "duration": 1593,
    "start_time": "2022-04-12T07:45:14.738Z"
   },
   {
    "duration": 4,
    "start_time": "2022-04-12T07:45:16.333Z"
   },
   {
    "duration": 6,
    "start_time": "2022-04-12T07:45:16.339Z"
   },
   {
    "duration": 5,
    "start_time": "2022-04-12T07:45:16.347Z"
   },
   {
    "duration": 5,
    "start_time": "2022-04-12T07:45:16.356Z"
   },
   {
    "duration": 5,
    "start_time": "2022-04-12T07:45:16.362Z"
   },
   {
    "duration": 392,
    "start_time": "2022-04-12T07:45:16.369Z"
   },
   {
    "duration": 8,
    "start_time": "2022-04-12T07:45:16.763Z"
   },
   {
    "duration": 294,
    "start_time": "2022-04-12T07:45:16.773Z"
   },
   {
    "duration": 145,
    "start_time": "2022-04-12T07:45:17.069Z"
   },
   {
    "duration": 154,
    "start_time": "2022-04-12T07:45:17.215Z"
   },
   {
    "duration": 9,
    "start_time": "2022-04-12T07:45:17.370Z"
   },
   {
    "duration": 227,
    "start_time": "2022-04-12T07:45:17.381Z"
   },
   {
    "duration": 318,
    "start_time": "2022-04-12T07:45:17.610Z"
   },
   {
    "duration": 7,
    "start_time": "2022-04-12T07:45:17.930Z"
   },
   {
    "duration": 114,
    "start_time": "2022-04-12T07:45:17.938Z"
   },
   {
    "duration": 280,
    "start_time": "2022-04-12T07:45:18.053Z"
   },
   {
    "duration": 213,
    "start_time": "2022-04-12T07:45:18.335Z"
   },
   {
    "duration": 179,
    "start_time": "2022-04-12T07:45:18.550Z"
   },
   {
    "duration": 197,
    "start_time": "2022-04-12T07:45:18.730Z"
   },
   {
    "duration": 24,
    "start_time": "2022-04-12T07:45:18.929Z"
   },
   {
    "duration": 118,
    "start_time": "2022-04-12T07:45:18.955Z"
   },
   {
    "duration": 207,
    "start_time": "2022-04-12T07:45:19.075Z"
   },
   {
    "duration": 194,
    "start_time": "2022-04-12T07:45:19.283Z"
   },
   {
    "duration": 215,
    "start_time": "2022-04-12T07:45:19.479Z"
   },
   {
    "duration": 229,
    "start_time": "2022-04-12T07:45:19.696Z"
   },
   {
    "duration": 190,
    "start_time": "2022-04-12T07:45:19.927Z"
   },
   {
    "duration": 180,
    "start_time": "2022-04-12T07:45:20.119Z"
   },
   {
    "duration": 189,
    "start_time": "2022-04-12T07:45:20.301Z"
   },
   {
    "duration": 8,
    "start_time": "2022-04-12T07:45:20.492Z"
   },
   {
    "duration": 41,
    "start_time": "2022-04-12T07:45:20.501Z"
   },
   {
    "duration": 7,
    "start_time": "2022-04-12T07:45:20.544Z"
   },
   {
    "duration": 9,
    "start_time": "2022-04-12T07:45:20.552Z"
   },
   {
    "duration": 128,
    "start_time": "2022-04-12T07:45:20.562Z"
   },
   {
    "duration": 142,
    "start_time": "2022-04-12T07:45:20.692Z"
   },
   {
    "duration": 10,
    "start_time": "2022-04-12T07:45:20.835Z"
   },
   {
    "duration": 163,
    "start_time": "2022-04-12T07:45:20.846Z"
   },
   {
    "duration": 158,
    "start_time": "2022-04-12T07:45:21.011Z"
   },
   {
    "duration": 165,
    "start_time": "2022-04-12T07:45:21.171Z"
   },
   {
    "duration": 167,
    "start_time": "2022-04-12T07:45:21.338Z"
   },
   {
    "duration": 176,
    "start_time": "2022-04-12T07:45:21.507Z"
   },
   {
    "duration": 164,
    "start_time": "2022-04-12T07:45:21.684Z"
   },
   {
    "duration": 172,
    "start_time": "2022-04-12T07:45:21.850Z"
   },
   {
    "duration": 174,
    "start_time": "2022-04-12T07:45:22.025Z"
   },
   {
    "duration": 46,
    "start_time": "2022-04-12T07:45:22.201Z"
   },
   {
    "duration": 3499,
    "start_time": "2022-04-12T07:48:16.371Z"
   },
   {
    "duration": 305,
    "start_time": "2022-04-12T07:48:39.354Z"
   },
   {
    "duration": 3155,
    "start_time": "2022-04-12T07:48:44.094Z"
   },
   {
    "duration": 409,
    "start_time": "2022-04-12T07:49:25.614Z"
   },
   {
    "duration": 416,
    "start_time": "2022-04-12T07:49:52.848Z"
   },
   {
    "duration": 279,
    "start_time": "2022-04-12T07:51:58.767Z"
   },
   {
    "duration": 302,
    "start_time": "2022-04-12T07:53:21.691Z"
   },
   {
    "duration": 368,
    "start_time": "2022-04-12T07:53:33.600Z"
   },
   {
    "duration": 243,
    "start_time": "2022-04-12T07:56:35.536Z"
   },
   {
    "duration": 253,
    "start_time": "2022-04-12T07:56:46.889Z"
   },
   {
    "duration": 249,
    "start_time": "2022-04-12T07:57:22.454Z"
   },
   {
    "duration": 254,
    "start_time": "2022-04-12T08:00:15.520Z"
   },
   {
    "duration": 260,
    "start_time": "2022-04-12T08:00:29.717Z"
   },
   {
    "duration": 360,
    "start_time": "2022-04-12T08:00:34.697Z"
   },
   {
    "duration": 259,
    "start_time": "2022-04-12T08:00:44.524Z"
   },
   {
    "duration": 252,
    "start_time": "2022-04-12T08:00:51.643Z"
   },
   {
    "duration": 158,
    "start_time": "2022-04-12T08:05:24.243Z"
   },
   {
    "duration": 886,
    "start_time": "2022-04-12T08:08:56.340Z"
   },
   {
    "duration": 259,
    "start_time": "2022-04-12T08:09:08.059Z"
   },
   {
    "duration": 600,
    "start_time": "2022-04-12T08:11:46.749Z"
   },
   {
    "duration": 833,
    "start_time": "2022-04-12T08:12:00.935Z"
   },
   {
    "duration": 668,
    "start_time": "2022-04-12T08:13:29.685Z"
   },
   {
    "duration": 158,
    "start_time": "2022-04-12T08:15:36.268Z"
   },
   {
    "duration": 322,
    "start_time": "2022-04-12T08:16:13.990Z"
   },
   {
    "duration": 306,
    "start_time": "2022-04-12T08:16:51.975Z"
   },
   {
    "duration": 258,
    "start_time": "2022-04-12T08:18:22.019Z"
   },
   {
    "duration": 336,
    "start_time": "2022-04-12T08:19:07.978Z"
   },
   {
    "duration": 481,
    "start_time": "2022-04-12T08:20:16.041Z"
   },
   {
    "duration": 334,
    "start_time": "2022-04-12T08:20:27.507Z"
   },
   {
    "duration": 355,
    "start_time": "2022-04-12T08:21:27.700Z"
   },
   {
    "duration": 331,
    "start_time": "2022-04-12T08:22:06.084Z"
   },
   {
    "duration": 359,
    "start_time": "2022-04-12T08:22:12.360Z"
   },
   {
    "duration": 709,
    "start_time": "2022-04-12T08:24:17.901Z"
   },
   {
    "duration": 736,
    "start_time": "2022-04-12T09:08:49.026Z"
   },
   {
    "duration": 87,
    "start_time": "2022-04-12T09:08:49.763Z"
   },
   {
    "duration": 10,
    "start_time": "2022-04-12T09:08:49.852Z"
   },
   {
    "duration": 102,
    "start_time": "2022-04-12T09:08:49.864Z"
   },
   {
    "duration": 28,
    "start_time": "2022-04-12T09:08:49.967Z"
   },
   {
    "duration": 16,
    "start_time": "2022-04-12T09:08:49.996Z"
   },
   {
    "duration": 13,
    "start_time": "2022-04-12T09:08:50.022Z"
   },
   {
    "duration": 8,
    "start_time": "2022-04-12T09:08:50.037Z"
   },
   {
    "duration": 19,
    "start_time": "2022-04-12T09:08:50.047Z"
   },
   {
    "duration": 8,
    "start_time": "2022-04-12T09:08:50.069Z"
   },
   {
    "duration": 23,
    "start_time": "2022-04-12T09:08:50.078Z"
   },
   {
    "duration": 13,
    "start_time": "2022-04-12T09:08:50.103Z"
   },
   {
    "duration": 19,
    "start_time": "2022-04-12T09:08:50.118Z"
   },
   {
    "duration": 13,
    "start_time": "2022-04-12T09:08:50.142Z"
   },
   {
    "duration": 4,
    "start_time": "2022-04-12T09:08:50.157Z"
   },
   {
    "duration": 10,
    "start_time": "2022-04-12T09:08:50.163Z"
   },
   {
    "duration": 21,
    "start_time": "2022-04-12T09:08:50.175Z"
   },
   {
    "duration": 8,
    "start_time": "2022-04-12T09:08:50.198Z"
   },
   {
    "duration": 11,
    "start_time": "2022-04-12T09:08:50.208Z"
   },
   {
    "duration": 32,
    "start_time": "2022-04-12T09:08:50.220Z"
   },
   {
    "duration": 11,
    "start_time": "2022-04-12T09:08:50.253Z"
   },
   {
    "duration": 11,
    "start_time": "2022-04-12T09:08:50.265Z"
   },
   {
    "duration": 25,
    "start_time": "2022-04-12T09:08:50.277Z"
   },
   {
    "duration": 2253,
    "start_time": "2022-04-12T09:08:50.304Z"
   },
   {
    "duration": 3,
    "start_time": "2022-04-12T09:08:52.559Z"
   },
   {
    "duration": 9,
    "start_time": "2022-04-12T09:08:52.563Z"
   },
   {
    "duration": 4,
    "start_time": "2022-04-12T09:08:52.574Z"
   },
   {
    "duration": 5,
    "start_time": "2022-04-12T09:08:52.582Z"
   },
   {
    "duration": 4,
    "start_time": "2022-04-12T09:08:52.588Z"
   },
   {
    "duration": 366,
    "start_time": "2022-04-12T09:08:52.593Z"
   },
   {
    "duration": 8,
    "start_time": "2022-04-12T09:08:52.960Z"
   },
   {
    "duration": 289,
    "start_time": "2022-04-12T09:08:52.970Z"
   },
   {
    "duration": 145,
    "start_time": "2022-04-12T09:08:53.260Z"
   },
   {
    "duration": 159,
    "start_time": "2022-04-12T09:08:53.408Z"
   },
   {
    "duration": 10,
    "start_time": "2022-04-12T09:08:53.569Z"
   },
   {
    "duration": 239,
    "start_time": "2022-04-12T09:08:53.580Z"
   },
   {
    "duration": 307,
    "start_time": "2022-04-12T09:08:53.829Z"
   },
   {
    "duration": 7,
    "start_time": "2022-04-12T09:08:54.139Z"
   },
   {
    "duration": 105,
    "start_time": "2022-04-12T09:08:54.147Z"
   },
   {
    "duration": 247,
    "start_time": "2022-04-12T09:08:54.254Z"
   },
   {
    "duration": 189,
    "start_time": "2022-04-12T09:08:54.502Z"
   },
   {
    "duration": 198,
    "start_time": "2022-04-12T09:08:54.693Z"
   },
   {
    "duration": 188,
    "start_time": "2022-04-12T09:08:54.893Z"
   },
   {
    "duration": 21,
    "start_time": "2022-04-12T09:08:55.082Z"
   },
   {
    "duration": 105,
    "start_time": "2022-04-12T09:08:55.105Z"
   },
   {
    "duration": 188,
    "start_time": "2022-04-12T09:08:55.211Z"
   },
   {
    "duration": 195,
    "start_time": "2022-04-12T09:08:55.400Z"
   },
   {
    "duration": 186,
    "start_time": "2022-04-12T09:08:55.597Z"
   },
   {
    "duration": 181,
    "start_time": "2022-04-12T09:08:55.785Z"
   },
   {
    "duration": 201,
    "start_time": "2022-04-12T09:08:55.967Z"
   },
   {
    "duration": 185,
    "start_time": "2022-04-12T09:08:56.170Z"
   },
   {
    "duration": 201,
    "start_time": "2022-04-12T09:08:56.356Z"
   },
   {
    "duration": 8,
    "start_time": "2022-04-12T09:08:56.558Z"
   },
   {
    "duration": 24,
    "start_time": "2022-04-12T09:08:56.568Z"
   },
   {
    "duration": 6,
    "start_time": "2022-04-12T09:08:56.594Z"
   },
   {
    "duration": 36,
    "start_time": "2022-04-12T09:08:56.602Z"
   },
   {
    "duration": 133,
    "start_time": "2022-04-12T09:08:56.640Z"
   },
   {
    "duration": 165,
    "start_time": "2022-04-12T09:08:56.775Z"
   },
   {
    "duration": 9,
    "start_time": "2022-04-12T09:08:56.942Z"
   },
   {
    "duration": 174,
    "start_time": "2022-04-12T09:08:56.953Z"
   },
   {
    "duration": 581,
    "start_time": "2022-04-12T09:08:57.130Z"
   },
   {
    "duration": 555,
    "start_time": "2022-04-12T09:08:57.713Z"
   },
   {
    "duration": 234,
    "start_time": "2022-04-12T09:08:58.270Z"
   },
   {
    "duration": 331,
    "start_time": "2022-04-12T09:08:58.506Z"
   },
   {
    "duration": 168,
    "start_time": "2022-04-12T09:08:58.839Z"
   },
   {
    "duration": 165,
    "start_time": "2022-04-12T09:08:59.009Z"
   },
   {
    "duration": 174,
    "start_time": "2022-04-12T09:08:59.176Z"
   },
   {
    "duration": 343,
    "start_time": "2022-04-12T09:08:59.351Z"
   },
   {
    "duration": 170,
    "start_time": "2022-04-12T09:08:59.696Z"
   },
   {
    "duration": 166,
    "start_time": "2022-04-12T09:08:59.868Z"
   },
   {
    "duration": 162,
    "start_time": "2022-04-12T09:09:00.036Z"
   },
   {
    "duration": 239,
    "start_time": "2022-04-12T09:10:01.700Z"
   }
  ],
  "kernelspec": {
   "display_name": "Python 3 (ipykernel)",
   "language": "python",
   "name": "python3"
  },
  "language_info": {
   "codemirror_mode": {
    "name": "ipython",
    "version": 3
   },
   "file_extension": ".py",
   "mimetype": "text/x-python",
   "name": "python",
   "nbconvert_exporter": "python",
   "pygments_lexer": "ipython3",
   "version": "3.9.7"
  },
  "toc": {
   "base_numbering": 1,
   "nav_menu": {},
   "number_sections": false,
   "sideBar": true,
   "skip_h1_title": false,
   "title_cell": "Содержание",
   "title_sidebar": "Contents",
   "toc_cell": true,
   "toc_position": {
    "height": "calc(100% - 180px)",
    "left": "10px",
    "top": "150px",
    "width": "366.391px"
   },
   "toc_section_display": true,
   "toc_window_display": true
  }
 },
 "nbformat": 4,
 "nbformat_minor": 4
}
