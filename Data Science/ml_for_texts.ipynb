{
 "cells": [
  {
   "cell_type": "markdown",
   "metadata": {
    "toc": true
   },
   "source": [
    "<h1>Содержание<span class=\"tocSkip\"></span></h1>\n",
    "<div class=\"toc\"><ul class=\"toc-item\"><li><span><a href=\"#Подготовка\" data-toc-modified-id=\"Подготовка-1\"><span class=\"toc-item-num\">1&nbsp;&nbsp;</span>Подготовка</a></span></li><li><span><a href=\"#Обучение\" data-toc-modified-id=\"Обучение-2\"><span class=\"toc-item-num\">2&nbsp;&nbsp;</span>Обучение</a></span><ul class=\"toc-item\"><li><span><a href=\"#LogisticRegression\" data-toc-modified-id=\"LogisticRegression-2.1\"><span class=\"toc-item-num\">2.1&nbsp;&nbsp;</span>LogisticRegression</a></span></li><li><span><a href=\"#CatBoost\" data-toc-modified-id=\"CatBoost-2.2\"><span class=\"toc-item-num\">2.2&nbsp;&nbsp;</span>CatBoost</a></span></li></ul></li><li><span><a href=\"#Выводы\" data-toc-modified-id=\"Выводы-3\"><span class=\"toc-item-num\">3&nbsp;&nbsp;</span>Выводы</a></span></li></ul></div>"
   ]
  },
  {
   "cell_type": "markdown",
   "metadata": {},
   "source": [
    "# Проект для «Викишоп»"
   ]
  },
  {
   "cell_type": "markdown",
   "metadata": {},
   "source": [
    "Интернет-магазин «Викишоп» запускает новый сервис. Теперь пользователи могут редактировать и дополнять описания товаров, как в вики-сообществах. То есть клиенты предлагают свои правки и комментируют изменения других. Магазину нужен инструмент, который будет искать токсичные комментарии и отправлять их на модерацию. \n",
    "\n",
    "Необходимо обучить модель классифицировать комментарии на позитивные и негативные. В нашем распоряжении набор данных с разметкой о токсичности правок.\n",
    "\n",
    "Построем модель со значением метрики качества *F1* не меньше 0.75. \n",
    "\n",
    "**План выполнении проекта**\n",
    "\n",
    "1. Загрузим и подготовим данные.\n",
    "2. Обучиим разные модели. \n",
    "3. Сделаем выводы.\n",
    "\n",
    "\n",
    "**Описание данных**\n",
    "\n",
    "Данные находятся в файле `toxic_comments.csv`. Столбец *text* в нём содержит текст комментария, а *toxic* — целевой признак."
   ]
  },
  {
   "cell_type": "markdown",
   "metadata": {},
   "source": [
    "## Подготовка"
   ]
  },
  {
   "cell_type": "code",
   "execution_count": 1,
   "metadata": {},
   "outputs": [],
   "source": [
    "import numpy as np\n",
    "import pandas as pd\n",
    "import re\n",
    "import nltk\n",
    "\n",
    "from sklearn.feature_extraction.text import TfidfVectorizer\n",
    "from nltk.corpus import stopwords as nltk_stopwords\n",
    "from nltk.corpus import wordnet\n",
    "from nltk.stem import WordNetLemmatizer\n",
    "from tqdm import notebook\n",
    "\n",
    "from sklearn.linear_model import LogisticRegression\n",
    "from catboost import CatBoostClassifier\n",
    "\n",
    "from sklearn.model_selection import cross_val_score, GridSearchCV, train_test_split\n",
    "from sklearn.metrics import f1_score as f1\n",
    "\n",
    "import warnings\n",
    "warnings.filterwarnings('ignore')"
   ]
  },
  {
   "cell_type": "code",
   "execution_count": 2,
   "metadata": {},
   "outputs": [
    {
     "name": "stderr",
     "output_type": "stream",
     "text": [
      "[nltk_data] Downloading package wordnet to /home/jovyan/nltk_data...\n",
      "[nltk_data]   Package wordnet is already up-to-date!\n",
      "[nltk_data] Downloading package averaged_perceptron_tagger to\n",
      "[nltk_data]     /home/jovyan/nltk_data...\n",
      "[nltk_data]   Package averaged_perceptron_tagger is already up-to-\n",
      "[nltk_data]       date!\n",
      "[nltk_data] Downloading package stopwords to /home/jovyan/nltk_data...\n",
      "[nltk_data]   Package stopwords is already up-to-date!\n"
     ]
    },
    {
     "data": {
      "text/plain": [
       "True"
      ]
     },
     "execution_count": 2,
     "metadata": {},
     "output_type": "execute_result"
    }
   ],
   "source": [
    "nltk.download('wordnet')\n",
    "nltk.download('averaged_perceptron_tagger')\n",
    "nltk.download('stopwords')"
   ]
  },
  {
   "cell_type": "code",
   "execution_count": 3,
   "metadata": {},
   "outputs": [],
   "source": [
    "try:\n",
    "    df = pd.read_csv('/datasets/toxic_comments.csv')\n",
    "except:\n",
    "    df = pd.read_csv('toxic_comments.csv')"
   ]
  },
  {
   "cell_type": "code",
   "execution_count": 4,
   "metadata": {},
   "outputs": [
    {
     "data": {
      "text/html": [
       "<div>\n",
       "<style scoped>\n",
       "    .dataframe tbody tr th:only-of-type {\n",
       "        vertical-align: middle;\n",
       "    }\n",
       "\n",
       "    .dataframe tbody tr th {\n",
       "        vertical-align: top;\n",
       "    }\n",
       "\n",
       "    .dataframe thead th {\n",
       "        text-align: right;\n",
       "    }\n",
       "</style>\n",
       "<table border=\"1\" class=\"dataframe\">\n",
       "  <thead>\n",
       "    <tr style=\"text-align: right;\">\n",
       "      <th></th>\n",
       "      <th>text</th>\n",
       "      <th>toxic</th>\n",
       "    </tr>\n",
       "  </thead>\n",
       "  <tbody>\n",
       "    <tr>\n",
       "      <th>0</th>\n",
       "      <td>Explanation\\nWhy the edits made under my usern...</td>\n",
       "      <td>0</td>\n",
       "    </tr>\n",
       "    <tr>\n",
       "      <th>1</th>\n",
       "      <td>D'aww! He matches this background colour I'm s...</td>\n",
       "      <td>0</td>\n",
       "    </tr>\n",
       "    <tr>\n",
       "      <th>2</th>\n",
       "      <td>Hey man, I'm really not trying to edit war. It...</td>\n",
       "      <td>0</td>\n",
       "    </tr>\n",
       "    <tr>\n",
       "      <th>3</th>\n",
       "      <td>\"\\nMore\\nI can't make any real suggestions on ...</td>\n",
       "      <td>0</td>\n",
       "    </tr>\n",
       "    <tr>\n",
       "      <th>4</th>\n",
       "      <td>You, sir, are my hero. Any chance you remember...</td>\n",
       "      <td>0</td>\n",
       "    </tr>\n",
       "  </tbody>\n",
       "</table>\n",
       "</div>"
      ],
      "text/plain": [
       "                                                text  toxic\n",
       "0  Explanation\\nWhy the edits made under my usern...      0\n",
       "1  D'aww! He matches this background colour I'm s...      0\n",
       "2  Hey man, I'm really not trying to edit war. It...      0\n",
       "3  \"\\nMore\\nI can't make any real suggestions on ...      0\n",
       "4  You, sir, are my hero. Any chance you remember...      0"
      ]
     },
     "execution_count": 4,
     "metadata": {},
     "output_type": "execute_result"
    }
   ],
   "source": [
    "df.head()"
   ]
  },
  {
   "cell_type": "code",
   "execution_count": 5,
   "metadata": {},
   "outputs": [
    {
     "name": "stdout",
     "output_type": "stream",
     "text": [
      "<class 'pandas.core.frame.DataFrame'>\n",
      "RangeIndex: 159571 entries, 0 to 159570\n",
      "Data columns (total 2 columns):\n",
      " #   Column  Non-Null Count   Dtype \n",
      "---  ------  --------------   ----- \n",
      " 0   text    159571 non-null  object\n",
      " 1   toxic   159571 non-null  int64 \n",
      "dtypes: int64(1), object(1)\n",
      "memory usage: 2.4+ MB\n"
     ]
    }
   ],
   "source": [
    "df.info()"
   ]
  },
  {
   "cell_type": "code",
   "execution_count": 6,
   "metadata": {},
   "outputs": [
    {
     "data": {
      "text/plain": [
       "text     0\n",
       "toxic    0\n",
       "dtype: int64"
      ]
     },
     "execution_count": 6,
     "metadata": {},
     "output_type": "execute_result"
    }
   ],
   "source": [
    "df.isna().sum()"
   ]
  },
  {
   "cell_type": "code",
   "execution_count": 7,
   "metadata": {
    "scrolled": true
   },
   "outputs": [
    {
     "data": {
      "text/plain": [
       "0"
      ]
     },
     "execution_count": 7,
     "metadata": {},
     "output_type": "execute_result"
    }
   ],
   "source": [
    "df.duplicated().sum()"
   ]
  },
  {
   "cell_type": "markdown",
   "metadata": {},
   "source": [
    "Подготовим необходимые для дальнейшей работы признаки:"
   ]
  },
  {
   "cell_type": "code",
   "execution_count": 8,
   "metadata": {},
   "outputs": [],
   "source": [
    "def get_wordnet_pos(word):\n",
    "    \n",
    "    tag = nltk.pos_tag([word])[0][1][0].upper()\n",
    "    tag_dict = {\"J\": wordnet.ADJ,\n",
    "                \"N\": wordnet.NOUN,\n",
    "                \"V\": wordnet.VERB,\n",
    "                \"R\": wordnet.ADV}\n",
    "    return tag_dict.get(tag, wordnet.NOUN)"
   ]
  },
  {
   "cell_type": "code",
   "execution_count": 9,
   "metadata": {
    "scrolled": true
   },
   "outputs": [
    {
     "name": "stdout",
     "output_type": "stream",
     "text": [
      "CPU times: user 18min 24s, sys: 1min 45s, total: 20min 10s\n",
      "Wall time: 20min 10s\n"
     ]
    },
    {
     "data": {
      "text/html": [
       "<div>\n",
       "<style scoped>\n",
       "    .dataframe tbody tr th:only-of-type {\n",
       "        vertical-align: middle;\n",
       "    }\n",
       "\n",
       "    .dataframe tbody tr th {\n",
       "        vertical-align: top;\n",
       "    }\n",
       "\n",
       "    .dataframe thead th {\n",
       "        text-align: right;\n",
       "    }\n",
       "</style>\n",
       "<table border=\"1\" class=\"dataframe\">\n",
       "  <thead>\n",
       "    <tr style=\"text-align: right;\">\n",
       "      <th></th>\n",
       "      <th>toxic</th>\n",
       "      <th>lemm_text</th>\n",
       "    </tr>\n",
       "  </thead>\n",
       "  <tbody>\n",
       "    <tr>\n",
       "      <th>0</th>\n",
       "      <td>0</td>\n",
       "      <td>explanation why the edits make under my userna...</td>\n",
       "    </tr>\n",
       "    <tr>\n",
       "      <th>1</th>\n",
       "      <td>0</td>\n",
       "      <td>d aww he match this background colour i m seem...</td>\n",
       "    </tr>\n",
       "    <tr>\n",
       "      <th>2</th>\n",
       "      <td>0</td>\n",
       "      <td>hey man i m really not try to edit war it s ju...</td>\n",
       "    </tr>\n",
       "    <tr>\n",
       "      <th>3</th>\n",
       "      <td>0</td>\n",
       "      <td>more i can t make any real suggestion on impro...</td>\n",
       "    </tr>\n",
       "    <tr>\n",
       "      <th>4</th>\n",
       "      <td>0</td>\n",
       "      <td>you sir be my hero any chance you remember wha...</td>\n",
       "    </tr>\n",
       "  </tbody>\n",
       "</table>\n",
       "</div>"
      ],
      "text/plain": [
       "   toxic                                          lemm_text\n",
       "0      0  explanation why the edits make under my userna...\n",
       "1      0  d aww he match this background colour i m seem...\n",
       "2      0  hey man i m really not try to edit war it s ju...\n",
       "3      0  more i can t make any real suggestion on impro...\n",
       "4      0  you sir be my hero any chance you remember wha..."
      ]
     },
     "execution_count": 9,
     "metadata": {},
     "output_type": "execute_result"
    }
   ],
   "source": [
    "%%time\n",
    "\n",
    "wnl = WordNetLemmatizer()\n",
    "\n",
    "def lemmatize_text(text):\n",
    "    text = \" \".join(re.sub(r'[^a-zA-Z]', ' ', text.lower()).split())\n",
    "    return \" \".join([wnl.lemmatize(w, get_wordnet_pos(w)) for w in nltk.word_tokenize(text)])\n",
    "\n",
    "df['lemm_text'] = df['text'].apply(lemmatize_text)\n",
    "\n",
    "df = df.drop(['text'], axis=1)\n",
    "\n",
    "df.head()"
   ]
  },
  {
   "cell_type": "code",
   "execution_count": 10,
   "metadata": {
    "scrolled": false
   },
   "outputs": [],
   "source": [
    "target = df['toxic']\n",
    "features = df.drop(['toxic'], axis=1)\n",
    "\n",
    "features_train, features_valid, target_train, target_valid = train_test_split(features, \n",
    "                                                                              target, \n",
    "                                                                              test_size=0.4, \n",
    "                                                                              random_state=12345,\n",
    "                                                                              stratify=target)\n",
    "features_valid, features_test, target_valid, target_test = train_test_split(features_valid, \n",
    "                                                                              target_valid, \n",
    "                                                                              test_size=0.5, \n",
    "                                                                              random_state=12345,\n",
    "                                                                              stratify=target_valid) \n",
    "\n",
    "stopwords = set(nltk_stopwords.words('english'))\n",
    "\n",
    "count_tf_idf = TfidfVectorizer(stop_words=stopwords)\n",
    "\n",
    "features_train = count_tf_idf.fit_transform(features_train['lemm_text'])\n",
    "features_test = count_tf_idf.transform(features_test['lemm_text'])\n",
    "features_valid = count_tf_idf.transform(features_valid['lemm_text'])"
   ]
  },
  {
   "cell_type": "code",
   "execution_count": 11,
   "metadata": {},
   "outputs": [
    {
     "name": "stdout",
     "output_type": "stream",
     "text": [
      "(95742, 110945)\n",
      "(31914, 110945)\n",
      "(31915, 110945)\n"
     ]
    }
   ],
   "source": [
    "print(features_train.shape)\n",
    "print(features_valid.shape)\n",
    "print(features_test.shape)"
   ]
  },
  {
   "cell_type": "markdown",
   "metadata": {},
   "source": [
    "## Обучение"
   ]
  },
  {
   "cell_type": "markdown",
   "metadata": {},
   "source": [
    "### LogisticRegression"
   ]
  },
  {
   "cell_type": "code",
   "execution_count": 12,
   "metadata": {},
   "outputs": [
    {
     "name": "stdout",
     "output_type": "stream",
     "text": [
      "CPU times: user 20.3 s, sys: 21.9 s, total: 42.2 s\n",
      "Wall time: 42.2 s\n"
     ]
    }
   ],
   "source": [
    "%%time\n",
    "\n",
    "clf = LogisticRegression(max_iter=1000).fit(features_train, target_train)"
   ]
  },
  {
   "cell_type": "code",
   "execution_count": 13,
   "metadata": {},
   "outputs": [
    {
     "name": "stdout",
     "output_type": "stream",
     "text": [
      "F1_score для LogisticRegression на валидационной выборке: 0.7223065250379364 \n",
      "F1_score для LogisticRegression на тестовой выборке: 0.7265198569546396\n",
      "CPU times: user 45.7 ms, sys: 27.1 ms, total: 72.8 ms\n",
      "Wall time: 114 ms\n"
     ]
    }
   ],
   "source": [
    "%%time\n",
    "\n",
    "pred = clf.predict(features_valid)\n",
    "score = f1(pred, target_valid)\n",
    "\n",
    "pred_test = clf.predict(features_test)\n",
    "score_test = f1(pred_test, target_test)\n",
    "\n",
    "print(f'F1_score для LogisticRegression на валидационной выборке: {score}',\n",
    "     f'\\nF1_score для LogisticRegression на тестовой выборке: {score_test}')"
   ]
  },
  {
   "cell_type": "markdown",
   "metadata": {},
   "source": [
    "### CatBoost"
   ]
  },
  {
   "cell_type": "code",
   "execution_count": 14,
   "metadata": {
    "scrolled": false
   },
   "outputs": [
    {
     "name": "stdout",
     "output_type": "stream",
     "text": [
      "CPU times: user 2min 53s, sys: 1.97 s, total: 2min 55s\n",
      "Wall time: 2min 55s\n"
     ]
    },
    {
     "data": {
      "text/plain": [
       "<catboost.core.CatBoostClassifier at 0x7f820f103eb0>"
      ]
     },
     "execution_count": 14,
     "metadata": {},
     "output_type": "execute_result"
    }
   ],
   "source": [
    "%%time\n",
    "\n",
    "clf_cat = CatBoostClassifier(verbose=False,\n",
    "                             eval_metric='F1', \n",
    "                             iterations=100, \n",
    "                             max_depth=6, \n",
    "                             learning_rate=0.9, \n",
    "                             random_state=12345)\n",
    "clf_cat.fit(features_train, target_train);"
   ]
  },
  {
   "cell_type": "code",
   "execution_count": 15,
   "metadata": {
    "scrolled": false
   },
   "outputs": [
    {
     "name": "stdout",
     "output_type": "stream",
     "text": [
      "F1_score для CatBoostClassifier на валидационной выборке: 0.7493900313698152 \n",
      "F1_score для CatBoostClassifier на тестовой выборке: 0.7533725354548599\n",
      "CPU times: user 598 ms, sys: 11.7 ms, total: 609 ms\n",
      "Wall time: 626 ms\n"
     ]
    }
   ],
   "source": [
    "%%time\n",
    "\n",
    "\n",
    "pred_cat = clf_cat.predict(features_valid)\n",
    "score_cat = f1(pred_cat, target_valid)\n",
    "\n",
    "pred_cat_test = clf_cat.predict(features_test)\n",
    "score_cat_test = f1(pred_cat_test, target_test)\n",
    "\n",
    "print(f'F1_score для CatBoostClassifier на валидационной выборке: {score_cat}',\n",
    "     f'\\nF1_score для CatBoostClassifier на тестовой выборке: {score_cat_test}')"
   ]
  },
  {
   "cell_type": "markdown",
   "metadata": {},
   "source": [
    "## Выводы"
   ]
  },
  {
   "cell_type": "code",
   "execution_count": 16,
   "metadata": {
    "scrolled": true
   },
   "outputs": [
    {
     "name": "stdout",
     "output_type": "stream",
     "text": [
      "F1-score для LogisticRegression на валидационной выборке: 0.7223065250379364 \n",
      "F1-score для CatBoostClassifier на валидационной выборке: 0.7493900313698152 \n",
      "F1_score для LogisticRegression на тестовой выборке:      0.7265198569546396 \n",
      "F1_score для CatBoostClassifier на тестовой выборке:      0.7533725354548599\n"
     ]
    }
   ],
   "source": [
    "print(f'F1-score для LogisticRegression на валидационной выборке: {score}',\n",
    "      f'\\nF1-score для CatBoostClassifier на валидационной выборке: {score_cat}',\n",
    "      f'\\nF1_score для LogisticRegression на тестовой выборке:      {score_test}',\n",
    "      f'\\nF1_score для CatBoostClassifier на тестовой выборке:      {score_cat_test}')"
   ]
  },
  {
   "cell_type": "markdown",
   "metadata": {},
   "source": [
    "Лучше всего показала себя модель CatBoost  со значением F1-score 0.75 за 3min на тестовой выборке и 0.749 на валидационной, значение F1-score LogisticRegression чуть хуже 0.72 на валидационной и на тестовой, но время обработки меньше, суммарно 42s.\n",
    "\n",
    "Исходя из выводов сделанных выше, рекомендовать заказчику можно модель CatBoost.\n",
    "\n",
    "В ходе выполнения поставленной задачи удалось выполнить следующие шаги:\n",
    "\n",
    "* Выполнен анализ и обработка полученных от заказчика данных;\n",
    "* Обучены 2 модели, с бустингом и без бустинга;\n",
    "* проведен анализ и подготовлены рекомендации для заказчика."
   ]
  }
 ],
 "metadata": {
  "ExecuteTimeLog": [
   {
    "duration": 1419,
    "start_time": "2022-07-22T08:41:34.565Z"
   },
   {
    "duration": 2603,
    "start_time": "2022-07-22T08:41:44.244Z"
   },
   {
    "duration": 16,
    "start_time": "2022-07-22T08:41:46.849Z"
   },
   {
    "duration": 38,
    "start_time": "2022-07-22T08:41:49.944Z"
   },
   {
    "duration": 31,
    "start_time": "2022-07-22T08:41:52.364Z"
   },
   {
    "duration": 243,
    "start_time": "2022-07-22T08:41:54.412Z"
   },
   {
    "duration": 110536,
    "start_time": "2022-07-22T08:42:01.463Z"
   },
   {
    "duration": 22645,
    "start_time": "2022-07-22T08:44:25.920Z"
   },
   {
    "duration": 50828,
    "start_time": "2022-07-22T08:45:38.751Z"
   },
   {
    "duration": 49055,
    "start_time": "2022-07-22T08:46:29.581Z"
   },
   {
    "duration": 0,
    "start_time": "2022-07-22T08:47:18.639Z"
   },
   {
    "duration": 46218,
    "start_time": "2022-07-22T08:47:34.031Z"
   },
   {
    "duration": 50982,
    "start_time": "2022-07-22T08:48:26.759Z"
   },
   {
    "duration": 2366,
    "start_time": "2022-07-22T08:58:13.710Z"
   },
   {
    "duration": 1351,
    "start_time": "2022-07-22T09:01:36.002Z"
   },
   {
    "duration": 764,
    "start_time": "2022-07-22T09:01:37.355Z"
   },
   {
    "duration": 14,
    "start_time": "2022-07-22T09:01:38.122Z"
   },
   {
    "duration": 32,
    "start_time": "2022-07-22T09:01:38.138Z"
   },
   {
    "duration": 24,
    "start_time": "2022-07-22T09:01:38.173Z"
   },
   {
    "duration": 240,
    "start_time": "2022-07-22T09:01:38.199Z"
   },
   {
    "duration": 98351,
    "start_time": "2022-07-22T09:01:38.440Z"
   },
   {
    "duration": 11165,
    "start_time": "2022-07-22T09:03:16.793Z"
   },
   {
    "duration": 43681,
    "start_time": "2022-07-22T09:03:27.960Z"
   },
   {
    "duration": 193,
    "start_time": "2022-07-22T09:04:11.643Z"
   },
   {
    "duration": 4,
    "start_time": "2022-07-22T09:04:57.150Z"
   },
   {
    "duration": 221213,
    "start_time": "2022-07-22T09:05:04.382Z"
   },
   {
    "duration": 3,
    "start_time": "2022-07-22T09:09:45.030Z"
   },
   {
    "duration": 1342,
    "start_time": "2022-07-22T09:10:17.644Z"
   },
   {
    "duration": 910,
    "start_time": "2022-07-22T09:10:18.989Z"
   },
   {
    "duration": 25,
    "start_time": "2022-07-22T09:10:19.900Z"
   },
   {
    "duration": 32,
    "start_time": "2022-07-22T09:10:19.927Z"
   },
   {
    "duration": 28,
    "start_time": "2022-07-22T09:10:19.961Z"
   },
   {
    "duration": 271,
    "start_time": "2022-07-22T09:10:19.990Z"
   },
   {
    "duration": 98731,
    "start_time": "2022-07-22T09:10:20.263Z"
   },
   {
    "duration": 11320,
    "start_time": "2022-07-22T09:11:58.996Z"
   },
   {
    "duration": 41920,
    "start_time": "2022-07-22T09:12:10.317Z"
   },
   {
    "duration": 219269,
    "start_time": "2022-07-22T09:12:52.239Z"
   },
   {
    "duration": 4,
    "start_time": "2022-07-22T09:16:39.332Z"
   },
   {
    "duration": 4,
    "start_time": "2022-07-22T09:17:09.600Z"
   },
   {
    "duration": 1519,
    "start_time": "2022-07-22T09:26:07.460Z"
   },
   {
    "duration": 958,
    "start_time": "2022-07-22T09:26:08.983Z"
   },
   {
    "duration": 19,
    "start_time": "2022-07-22T09:26:09.943Z"
   },
   {
    "duration": 47,
    "start_time": "2022-07-22T09:26:09.964Z"
   },
   {
    "duration": 45,
    "start_time": "2022-07-22T09:26:10.013Z"
   },
   {
    "duration": 257,
    "start_time": "2022-07-22T09:26:10.060Z"
   },
   {
    "duration": 104976,
    "start_time": "2022-07-22T09:26:10.319Z"
   },
   {
    "duration": 11354,
    "start_time": "2022-07-22T09:27:55.298Z"
   },
   {
    "duration": 41873,
    "start_time": "2022-07-22T09:28:06.654Z"
   },
   {
    "duration": 101,
    "start_time": "2022-07-22T09:28:48.529Z"
   },
   {
    "duration": 216642,
    "start_time": "2022-07-22T09:28:48.631Z"
   },
   {
    "duration": 19,
    "start_time": "2022-07-22T09:32:25.275Z"
   },
   {
    "duration": 3,
    "start_time": "2022-07-22T09:32:25.296Z"
   },
   {
    "duration": 1304,
    "start_time": "2022-07-22T09:38:41.679Z"
   },
   {
    "duration": 875,
    "start_time": "2022-07-22T09:38:42.985Z"
   },
   {
    "duration": 16,
    "start_time": "2022-07-22T09:38:43.862Z"
   },
   {
    "duration": 51,
    "start_time": "2022-07-22T09:38:43.880Z"
   },
   {
    "duration": 29,
    "start_time": "2022-07-22T09:38:43.934Z"
   },
   {
    "duration": 253,
    "start_time": "2022-07-22T09:38:43.965Z"
   },
   {
    "duration": 101098,
    "start_time": "2022-07-22T09:38:44.222Z"
   },
   {
    "duration": 10910,
    "start_time": "2022-07-22T09:40:25.324Z"
   },
   {
    "duration": 46990,
    "start_time": "2022-07-22T09:40:36.236Z"
   },
   {
    "duration": 111,
    "start_time": "2022-07-22T09:41:23.229Z"
   },
   {
    "duration": 269324,
    "start_time": "2022-07-22T09:41:23.341Z"
   },
   {
    "duration": 14,
    "start_time": "2022-07-22T09:45:52.668Z"
   },
   {
    "duration": 4,
    "start_time": "2022-07-22T09:45:52.684Z"
   },
   {
    "duration": 1301,
    "start_time": "2022-07-22T09:46:42.247Z"
   },
   {
    "duration": 875,
    "start_time": "2022-07-22T09:46:43.550Z"
   },
   {
    "duration": 15,
    "start_time": "2022-07-22T09:46:44.427Z"
   },
   {
    "duration": 53,
    "start_time": "2022-07-22T09:46:44.444Z"
   },
   {
    "duration": 50,
    "start_time": "2022-07-22T09:46:44.500Z"
   },
   {
    "duration": 330,
    "start_time": "2022-07-22T09:46:44.552Z"
   },
   {
    "duration": 116224,
    "start_time": "2022-07-22T09:46:44.884Z"
   },
   {
    "duration": 11823,
    "start_time": "2022-07-22T09:48:41.111Z"
   },
   {
    "duration": 49892,
    "start_time": "2022-07-22T09:48:52.936Z"
   },
   {
    "duration": 98,
    "start_time": "2022-07-22T09:49:42.833Z"
   },
   {
    "duration": 357958,
    "start_time": "2022-07-22T09:49:42.933Z"
   },
   {
    "duration": 189,
    "start_time": "2022-07-22T09:55:40.893Z"
   },
   {
    "duration": 14,
    "start_time": "2022-07-22T09:55:41.084Z"
   },
   {
    "duration": 53482,
    "start_time": "2022-07-22T09:55:44.051Z"
   },
   {
    "duration": 18,
    "start_time": "2022-07-22T09:57:08.914Z"
   },
   {
    "duration": 51695,
    "start_time": "2022-07-22T09:58:36.719Z"
   },
   {
    "duration": 46361,
    "start_time": "2022-07-22T09:59:38.563Z"
   },
   {
    "duration": 96,
    "start_time": "2022-07-22T10:00:24.927Z"
   },
   {
    "duration": 1419,
    "start_time": "2022-07-22T10:02:04.888Z"
   },
   {
    "duration": 865,
    "start_time": "2022-07-22T10:02:06.309Z"
   },
   {
    "duration": 14,
    "start_time": "2022-07-22T10:02:07.177Z"
   },
   {
    "duration": 49,
    "start_time": "2022-07-22T10:02:07.194Z"
   },
   {
    "duration": 31,
    "start_time": "2022-07-22T10:02:07.247Z"
   },
   {
    "duration": 262,
    "start_time": "2022-07-22T10:02:07.280Z"
   },
   {
    "duration": 117569,
    "start_time": "2022-07-22T10:02:07.543Z"
   },
   {
    "duration": 12278,
    "start_time": "2022-07-22T10:04:05.114Z"
   },
   {
    "duration": 46145,
    "start_time": "2022-07-22T10:04:17.395Z"
   },
   {
    "duration": 28,
    "start_time": "2022-07-22T10:05:03.622Z"
   },
   {
    "duration": 771610,
    "start_time": "2022-07-22T10:05:03.652Z"
   },
   {
    "duration": 531,
    "start_time": "2022-07-22T10:17:55.265Z"
   },
   {
    "duration": 4,
    "start_time": "2022-07-22T10:17:55.798Z"
   },
   {
    "duration": 1329,
    "start_time": "2022-07-22T15:08:30.018Z"
   },
   {
    "duration": 3143,
    "start_time": "2022-07-22T15:08:31.349Z"
   },
   {
    "duration": 15,
    "start_time": "2022-07-22T15:08:34.494Z"
   },
   {
    "duration": 37,
    "start_time": "2022-07-22T15:08:34.511Z"
   },
   {
    "duration": 29,
    "start_time": "2022-07-22T15:08:34.552Z"
   },
   {
    "duration": 256,
    "start_time": "2022-07-22T15:08:34.583Z"
   },
   {
    "duration": 179552,
    "start_time": "2022-07-22T15:08:34.841Z"
   },
   {
    "duration": 3390,
    "start_time": "2022-07-22T15:11:34.395Z"
   },
   {
    "duration": 0,
    "start_time": "2022-07-22T15:11:37.786Z"
   },
   {
    "duration": 0,
    "start_time": "2022-07-22T15:11:37.787Z"
   },
   {
    "duration": 0,
    "start_time": "2022-07-22T15:11:37.788Z"
   },
   {
    "duration": 0,
    "start_time": "2022-07-22T15:11:37.789Z"
   },
   {
    "duration": 0,
    "start_time": "2022-07-22T15:11:37.791Z"
   },
   {
    "duration": 1358,
    "start_time": "2022-07-22T15:12:32.533Z"
   },
   {
    "duration": 832,
    "start_time": "2022-07-22T15:12:33.892Z"
   },
   {
    "duration": 14,
    "start_time": "2022-07-22T15:12:34.726Z"
   },
   {
    "duration": 35,
    "start_time": "2022-07-22T15:12:34.753Z"
   },
   {
    "duration": 31,
    "start_time": "2022-07-22T15:12:34.789Z"
   },
   {
    "duration": 275,
    "start_time": "2022-07-22T15:12:34.822Z"
   },
   {
    "duration": 166367,
    "start_time": "2022-07-22T15:12:35.099Z"
   },
   {
    "duration": 7429,
    "start_time": "2022-07-22T15:15:21.468Z"
   },
   {
    "duration": 48765,
    "start_time": "2022-07-22T15:15:28.899Z"
   },
   {
    "duration": 132,
    "start_time": "2022-07-22T15:16:17.667Z"
   },
   {
    "duration": 0,
    "start_time": "2022-07-22T15:16:17.801Z"
   },
   {
    "duration": 0,
    "start_time": "2022-07-22T15:16:17.803Z"
   },
   {
    "duration": 0,
    "start_time": "2022-07-22T15:16:17.804Z"
   },
   {
    "duration": 206,
    "start_time": "2022-07-22T15:17:09.512Z"
   },
   {
    "duration": 58735,
    "start_time": "2022-07-22T15:20:18.727Z"
   },
   {
    "duration": 720433,
    "start_time": "2022-07-22T15:21:33.369Z"
   },
   {
    "duration": 842014,
    "start_time": "2022-07-22T15:33:33.804Z"
   },
   {
    "duration": 4,
    "start_time": "2022-07-22T15:47:35.819Z"
   },
   {
    "duration": 103,
    "start_time": "2022-07-22T15:52:03.575Z"
   },
   {
    "duration": 7050,
    "start_time": "2022-07-22T15:52:09.535Z"
   },
   {
    "duration": 913,
    "start_time": "2022-07-22T15:52:31.158Z"
   },
   {
    "duration": 4,
    "start_time": "2022-07-22T15:53:42.762Z"
   },
   {
    "duration": 1010,
    "start_time": "2022-07-22T15:55:03.127Z"
   },
   {
    "duration": 856,
    "start_time": "2022-07-22T15:59:20.491Z"
   },
   {
    "duration": 3,
    "start_time": "2022-07-22T16:00:05.961Z"
   },
   {
    "duration": 1048,
    "start_time": "2022-07-22T16:00:31.500Z"
   },
   {
    "duration": 963,
    "start_time": "2022-07-22T16:00:48.618Z"
   },
   {
    "duration": 873,
    "start_time": "2022-07-22T16:00:58.484Z"
   },
   {
    "duration": 122,
    "start_time": "2022-07-22T16:03:10.376Z"
   },
   {
    "duration": 135,
    "start_time": "2022-07-22T16:50:30.987Z"
   },
   {
    "duration": 106,
    "start_time": "2022-07-22T16:50:44.198Z"
   },
   {
    "duration": 1303,
    "start_time": "2022-07-22T16:50:55.606Z"
   },
   {
    "duration": 762,
    "start_time": "2022-07-22T16:50:56.912Z"
   },
   {
    "duration": 13,
    "start_time": "2022-07-22T16:50:57.676Z"
   },
   {
    "duration": 32,
    "start_time": "2022-07-22T16:50:57.691Z"
   },
   {
    "duration": 44,
    "start_time": "2022-07-22T16:50:57.725Z"
   },
   {
    "duration": 221,
    "start_time": "2022-07-22T16:50:57.771Z"
   },
   {
    "duration": 163515,
    "start_time": "2022-07-22T16:50:57.994Z"
   },
   {
    "duration": 7120,
    "start_time": "2022-07-22T16:53:41.511Z"
   },
   {
    "duration": 3,
    "start_time": "2022-07-22T16:53:48.633Z"
   },
   {
    "duration": 37415,
    "start_time": "2022-07-22T16:53:48.638Z"
   },
   {
    "duration": 32,
    "start_time": "2022-07-22T16:54:26.056Z"
   },
   {
    "duration": 592780,
    "start_time": "2022-07-22T16:54:26.090Z"
   },
   {
    "duration": 796,
    "start_time": "2022-07-22T17:04:18.872Z"
   },
   {
    "duration": 3,
    "start_time": "2022-07-22T17:04:19.672Z"
   },
   {
    "duration": 133,
    "start_time": "2022-07-22T17:11:47.885Z"
   },
   {
    "duration": 6,
    "start_time": "2022-07-22T17:14:17.824Z"
   },
   {
    "duration": 38,
    "start_time": "2022-07-22T17:14:25.825Z"
   },
   {
    "duration": 747,
    "start_time": "2022-07-22T17:16:31.766Z"
   },
   {
    "duration": 40596,
    "start_time": "2022-07-22T17:17:23.765Z"
   },
   {
    "duration": 29,
    "start_time": "2022-07-22T17:20:43.338Z"
   },
   {
    "duration": 31,
    "start_time": "2022-07-22T17:24:28.424Z"
   },
   {
    "duration": 214743,
    "start_time": "2022-07-22T17:31:50.426Z"
   },
   {
    "duration": 798,
    "start_time": "2022-07-22T17:35:25.171Z"
   },
   {
    "duration": 3,
    "start_time": "2022-07-22T17:38:34.386Z"
   },
   {
    "duration": 3,
    "start_time": "2022-07-22T17:39:02.758Z"
   },
   {
    "duration": 4,
    "start_time": "2022-07-22T17:39:15.028Z"
   },
   {
    "duration": 4,
    "start_time": "2022-07-22T17:39:21.866Z"
   },
   {
    "duration": 4,
    "start_time": "2022-07-22T17:39:27.886Z"
   },
   {
    "duration": 815,
    "start_time": "2022-07-22T17:39:43.346Z"
   },
   {
    "duration": 43,
    "start_time": "2022-07-22T17:40:01.427Z"
   },
   {
    "duration": 745,
    "start_time": "2022-07-22T17:40:13.378Z"
   },
   {
    "duration": 4,
    "start_time": "2022-07-22T17:42:13.656Z"
   },
   {
    "duration": 1429,
    "start_time": "2022-07-22T17:45:14.644Z"
   },
   {
    "duration": 862,
    "start_time": "2022-07-22T17:45:16.075Z"
   },
   {
    "duration": 19,
    "start_time": "2022-07-22T17:45:16.938Z"
   },
   {
    "duration": 37,
    "start_time": "2022-07-22T17:45:16.959Z"
   },
   {
    "duration": 29,
    "start_time": "2022-07-22T17:45:16.998Z"
   },
   {
    "duration": 248,
    "start_time": "2022-07-22T17:45:17.028Z"
   },
   {
    "duration": 165029,
    "start_time": "2022-07-22T17:45:17.277Z"
   },
   {
    "duration": 7056,
    "start_time": "2022-07-22T17:48:02.307Z"
   },
   {
    "duration": 4,
    "start_time": "2022-07-22T17:48:09.365Z"
   },
   {
    "duration": 38793,
    "start_time": "2022-07-22T17:48:09.371Z"
   },
   {
    "duration": 33,
    "start_time": "2022-07-22T17:48:48.252Z"
   },
   {
    "duration": 220938,
    "start_time": "2022-07-22T17:48:48.287Z"
   },
   {
    "duration": 640,
    "start_time": "2022-07-22T17:52:29.227Z"
   },
   {
    "duration": 4,
    "start_time": "2022-07-22T17:52:29.868Z"
   },
   {
    "duration": 1323,
    "start_time": "2022-07-24T07:02:51.002Z"
   },
   {
    "duration": 2383,
    "start_time": "2022-07-24T07:02:52.327Z"
   },
   {
    "duration": 17,
    "start_time": "2022-07-24T07:02:54.712Z"
   },
   {
    "duration": 33,
    "start_time": "2022-07-24T07:02:54.730Z"
   },
   {
    "duration": 27,
    "start_time": "2022-07-24T07:02:54.765Z"
   },
   {
    "duration": 235,
    "start_time": "2022-07-24T07:02:54.793Z"
   },
   {
    "duration": 3,
    "start_time": "2022-07-24T07:02:55.030Z"
   },
   {
    "duration": 714,
    "start_time": "2022-07-24T07:02:55.035Z"
   },
   {
    "duration": 1724,
    "start_time": "2022-07-24T07:02:55.750Z"
   },
   {
    "duration": 0,
    "start_time": "2022-07-24T07:02:57.480Z"
   },
   {
    "duration": 0,
    "start_time": "2022-07-24T07:02:57.481Z"
   },
   {
    "duration": 0,
    "start_time": "2022-07-24T07:02:57.483Z"
   },
   {
    "duration": 0,
    "start_time": "2022-07-24T07:02:57.485Z"
   },
   {
    "duration": 0,
    "start_time": "2022-07-24T07:02:57.486Z"
   },
   {
    "duration": 0,
    "start_time": "2022-07-24T07:02:57.487Z"
   },
   {
    "duration": 1357,
    "start_time": "2022-07-24T07:05:12.695Z"
   },
   {
    "duration": 911,
    "start_time": "2022-07-24T07:05:14.053Z"
   },
   {
    "duration": 22,
    "start_time": "2022-07-24T07:05:14.966Z"
   },
   {
    "duration": 44,
    "start_time": "2022-07-24T07:05:14.990Z"
   },
   {
    "duration": 64,
    "start_time": "2022-07-24T07:05:15.037Z"
   },
   {
    "duration": 248,
    "start_time": "2022-07-24T07:05:15.103Z"
   },
   {
    "duration": 229,
    "start_time": "2022-07-24T07:05:15.353Z"
   },
   {
    "duration": 4,
    "start_time": "2022-07-24T07:05:15.585Z"
   },
   {
    "duration": 786,
    "start_time": "2022-07-24T07:05:15.591Z"
   },
   {
    "duration": 1255,
    "start_time": "2022-07-24T07:05:16.382Z"
   },
   {
    "duration": 0,
    "start_time": "2022-07-24T07:05:17.639Z"
   },
   {
    "duration": 0,
    "start_time": "2022-07-24T07:05:17.639Z"
   },
   {
    "duration": 0,
    "start_time": "2022-07-24T07:05:17.641Z"
   },
   {
    "duration": 0,
    "start_time": "2022-07-24T07:05:17.642Z"
   },
   {
    "duration": 0,
    "start_time": "2022-07-24T07:05:17.643Z"
   },
   {
    "duration": 0,
    "start_time": "2022-07-24T07:05:17.644Z"
   },
   {
    "duration": 1320,
    "start_time": "2022-07-24T07:05:57.067Z"
   },
   {
    "duration": 867,
    "start_time": "2022-07-24T07:05:58.389Z"
   },
   {
    "duration": 22,
    "start_time": "2022-07-24T07:05:59.258Z"
   },
   {
    "duration": 34,
    "start_time": "2022-07-24T07:05:59.283Z"
   },
   {
    "duration": 43,
    "start_time": "2022-07-24T07:05:59.319Z"
   },
   {
    "duration": 246,
    "start_time": "2022-07-24T07:05:59.364Z"
   },
   {
    "duration": 757,
    "start_time": "2022-07-24T07:05:59.611Z"
   },
   {
    "duration": 4,
    "start_time": "2022-07-24T07:06:00.370Z"
   },
   {
    "duration": 823170,
    "start_time": "2022-07-24T07:06:00.377Z"
   },
   {
    "duration": 960,
    "start_time": "2022-07-24T07:19:43.548Z"
   },
   {
    "duration": 0,
    "start_time": "2022-07-24T07:19:44.510Z"
   },
   {
    "duration": 0,
    "start_time": "2022-07-24T07:19:44.511Z"
   },
   {
    "duration": 0,
    "start_time": "2022-07-24T07:19:44.513Z"
   },
   {
    "duration": 0,
    "start_time": "2022-07-24T07:19:44.514Z"
   },
   {
    "duration": 0,
    "start_time": "2022-07-24T07:19:44.516Z"
   },
   {
    "duration": 0,
    "start_time": "2022-07-24T07:19:44.518Z"
   },
   {
    "duration": 1327,
    "start_time": "2022-07-24T07:23:06.014Z"
   },
   {
    "duration": 846,
    "start_time": "2022-07-24T07:23:07.343Z"
   },
   {
    "duration": 12,
    "start_time": "2022-07-24T07:23:08.191Z"
   },
   {
    "duration": 49,
    "start_time": "2022-07-24T07:23:08.205Z"
   },
   {
    "duration": 42,
    "start_time": "2022-07-24T07:23:08.256Z"
   },
   {
    "duration": 225,
    "start_time": "2022-07-24T07:23:08.300Z"
   },
   {
    "duration": 139,
    "start_time": "2022-07-24T07:23:08.527Z"
   },
   {
    "duration": 2,
    "start_time": "2022-07-24T07:23:08.668Z"
   },
   {
    "duration": 78976,
    "start_time": "2022-07-24T07:23:08.671Z"
   },
   {
    "duration": 6119,
    "start_time": "2022-07-24T07:24:27.649Z"
   },
   {
    "duration": 4,
    "start_time": "2022-07-24T07:24:33.770Z"
   },
   {
    "duration": 31186,
    "start_time": "2022-07-24T07:24:33.776Z"
   },
   {
    "duration": 109,
    "start_time": "2022-07-24T07:25:04.963Z"
   },
   {
    "duration": 23568,
    "start_time": "2022-07-24T07:25:05.074Z"
   },
   {
    "duration": 124,
    "start_time": "2022-07-24T07:25:28.644Z"
   },
   {
    "duration": 8,
    "start_time": "2022-07-24T07:25:28.770Z"
   },
   {
    "duration": 1250,
    "start_time": "2022-07-24T07:26:32.911Z"
   },
   {
    "duration": 823,
    "start_time": "2022-07-24T07:26:34.163Z"
   },
   {
    "duration": 12,
    "start_time": "2022-07-24T07:26:34.987Z"
   },
   {
    "duration": 34,
    "start_time": "2022-07-24T07:26:35.001Z"
   },
   {
    "duration": 41,
    "start_time": "2022-07-24T07:26:35.036Z"
   },
   {
    "duration": 227,
    "start_time": "2022-07-24T07:26:35.079Z"
   },
   {
    "duration": 222,
    "start_time": "2022-07-24T07:26:35.308Z"
   },
   {
    "duration": 3,
    "start_time": "2022-07-24T07:26:35.532Z"
   },
   {
    "duration": 119209,
    "start_time": "2022-07-24T07:26:35.536Z"
   },
   {
    "duration": 1087,
    "start_time": "2022-07-24T07:28:34.748Z"
   },
   {
    "duration": 0,
    "start_time": "2022-07-24T07:28:35.837Z"
   },
   {
    "duration": 0,
    "start_time": "2022-07-24T07:28:35.839Z"
   },
   {
    "duration": 0,
    "start_time": "2022-07-24T07:28:35.839Z"
   },
   {
    "duration": 0,
    "start_time": "2022-07-24T07:28:35.841Z"
   },
   {
    "duration": 0,
    "start_time": "2022-07-24T07:28:35.842Z"
   },
   {
    "duration": 0,
    "start_time": "2022-07-24T07:28:35.842Z"
   },
   {
    "duration": 4,
    "start_time": "2022-07-24T07:28:51.332Z"
   },
   {
    "duration": 5,
    "start_time": "2022-07-24T07:29:19.292Z"
   },
   {
    "duration": 5,
    "start_time": "2022-07-24T07:30:10.291Z"
   },
   {
    "duration": 5,
    "start_time": "2022-07-24T07:30:50.859Z"
   },
   {
    "duration": 1252,
    "start_time": "2022-07-24T07:31:22.098Z"
   },
   {
    "duration": 802,
    "start_time": "2022-07-24T07:31:23.352Z"
   },
   {
    "duration": 14,
    "start_time": "2022-07-24T07:31:24.156Z"
   },
   {
    "duration": 29,
    "start_time": "2022-07-24T07:31:24.171Z"
   },
   {
    "duration": 29,
    "start_time": "2022-07-24T07:31:24.202Z"
   },
   {
    "duration": 227,
    "start_time": "2022-07-24T07:31:24.233Z"
   },
   {
    "duration": 213,
    "start_time": "2022-07-24T07:31:24.462Z"
   },
   {
    "duration": 5,
    "start_time": "2022-07-24T07:31:24.676Z"
   },
   {
    "duration": 1345,
    "start_time": "2022-07-24T07:43:31.328Z"
   },
   {
    "duration": 52,
    "start_time": "2022-07-24T07:43:32.675Z"
   },
   {
    "duration": 0,
    "start_time": "2022-07-24T07:43:32.729Z"
   },
   {
    "duration": 0,
    "start_time": "2022-07-24T07:43:32.730Z"
   },
   {
    "duration": 0,
    "start_time": "2022-07-24T07:43:32.731Z"
   },
   {
    "duration": 0,
    "start_time": "2022-07-24T07:43:32.732Z"
   },
   {
    "duration": 0,
    "start_time": "2022-07-24T07:43:32.733Z"
   },
   {
    "duration": 0,
    "start_time": "2022-07-24T07:43:32.734Z"
   },
   {
    "duration": 0,
    "start_time": "2022-07-24T07:43:32.735Z"
   },
   {
    "duration": 0,
    "start_time": "2022-07-24T07:43:32.736Z"
   },
   {
    "duration": 0,
    "start_time": "2022-07-24T07:43:32.737Z"
   },
   {
    "duration": 0,
    "start_time": "2022-07-24T07:43:32.739Z"
   },
   {
    "duration": 0,
    "start_time": "2022-07-24T07:43:32.740Z"
   },
   {
    "duration": 0,
    "start_time": "2022-07-24T07:43:32.741Z"
   },
   {
    "duration": 0,
    "start_time": "2022-07-24T07:43:32.742Z"
   },
   {
    "duration": 0,
    "start_time": "2022-07-24T07:43:32.743Z"
   },
   {
    "duration": 1416,
    "start_time": "2022-07-24T07:44:20.658Z"
   },
   {
    "duration": 230,
    "start_time": "2022-07-24T07:44:22.079Z"
   },
   {
    "duration": 901,
    "start_time": "2022-07-24T07:44:22.311Z"
   },
   {
    "duration": 8,
    "start_time": "2022-07-24T07:44:23.214Z"
   },
   {
    "duration": 46,
    "start_time": "2022-07-24T07:44:23.224Z"
   },
   {
    "duration": 43,
    "start_time": "2022-07-24T07:44:23.272Z"
   },
   {
    "duration": 222,
    "start_time": "2022-07-24T07:44:23.317Z"
   },
   {
    "duration": 4,
    "start_time": "2022-07-24T07:44:23.540Z"
   },
   {
    "duration": 344191,
    "start_time": "2022-07-24T07:44:23.545Z"
   },
   {
    "duration": 1183,
    "start_time": "2022-07-24T07:50:07.738Z"
   },
   {
    "duration": 0,
    "start_time": "2022-07-24T07:50:08.923Z"
   },
   {
    "duration": 0,
    "start_time": "2022-07-24T07:50:08.924Z"
   },
   {
    "duration": 0,
    "start_time": "2022-07-24T07:50:08.926Z"
   },
   {
    "duration": 0,
    "start_time": "2022-07-24T07:50:08.928Z"
   },
   {
    "duration": 0,
    "start_time": "2022-07-24T07:50:08.930Z"
   },
   {
    "duration": 0,
    "start_time": "2022-07-24T07:50:08.932Z"
   },
   {
    "duration": 34565,
    "start_time": "2022-07-24T07:57:05.747Z"
   },
   {
    "duration": 51276,
    "start_time": "2022-07-24T07:57:40.315Z"
   },
   {
    "duration": 174,
    "start_time": "2022-07-24T07:58:31.593Z"
   },
   {
    "duration": 826,
    "start_time": "2022-07-24T07:58:31.769Z"
   },
   {
    "duration": 9,
    "start_time": "2022-07-24T07:58:32.596Z"
   },
   {
    "duration": 47,
    "start_time": "2022-07-24T07:58:32.607Z"
   },
   {
    "duration": 38,
    "start_time": "2022-07-24T07:58:32.656Z"
   },
   {
    "duration": 250,
    "start_time": "2022-07-24T07:58:32.696Z"
   },
   {
    "duration": 2,
    "start_time": "2022-07-24T07:58:32.948Z"
   },
   {
    "duration": 816,
    "start_time": "2022-07-24T07:58:32.952Z"
   },
   {
    "duration": 2719,
    "start_time": "2022-07-24T07:58:33.770Z"
   },
   {
    "duration": 0,
    "start_time": "2022-07-24T07:58:36.491Z"
   },
   {
    "duration": 0,
    "start_time": "2022-07-24T07:58:36.493Z"
   },
   {
    "duration": 0,
    "start_time": "2022-07-24T07:58:36.494Z"
   },
   {
    "duration": 0,
    "start_time": "2022-07-24T07:58:36.496Z"
   },
   {
    "duration": 0,
    "start_time": "2022-07-24T07:58:36.498Z"
   },
   {
    "duration": 0,
    "start_time": "2022-07-24T07:58:36.499Z"
   },
   {
    "duration": 97,
    "start_time": "2022-07-24T07:59:21.202Z"
   },
   {
    "duration": 148,
    "start_time": "2022-07-24T08:00:15.158Z"
   },
   {
    "duration": 571,
    "start_time": "2022-07-24T08:00:47.677Z"
   },
   {
    "duration": 50587,
    "start_time": "2022-07-24T08:01:01.021Z"
   },
   {
    "duration": 1682,
    "start_time": "2022-07-24T08:02:28.182Z"
   },
   {
    "duration": 1207,
    "start_time": "2022-07-24T08:03:03.549Z"
   },
   {
    "duration": 1279,
    "start_time": "2022-07-24T08:11:45.986Z"
   },
   {
    "duration": 1260,
    "start_time": "2022-07-24T08:12:52.140Z"
   },
   {
    "duration": 1802,
    "start_time": "2022-07-24T08:13:03.515Z"
   },
   {
    "duration": 1496,
    "start_time": "2022-07-24T08:15:30.461Z"
   },
   {
    "duration": 163,
    "start_time": "2022-07-24T08:15:31.958Z"
   },
   {
    "duration": 906,
    "start_time": "2022-07-24T08:15:32.123Z"
   },
   {
    "duration": 9,
    "start_time": "2022-07-24T08:15:33.030Z"
   },
   {
    "duration": 42,
    "start_time": "2022-07-24T08:15:33.041Z"
   },
   {
    "duration": 32,
    "start_time": "2022-07-24T08:15:33.084Z"
   },
   {
    "duration": 241,
    "start_time": "2022-07-24T08:15:33.117Z"
   },
   {
    "duration": 3,
    "start_time": "2022-07-24T08:15:33.361Z"
   },
   {
    "duration": 1210412,
    "start_time": "2022-07-24T08:15:33.366Z"
   },
   {
    "duration": 6912,
    "start_time": "2022-07-24T08:35:43.779Z"
   },
   {
    "duration": 4,
    "start_time": "2022-07-24T08:35:50.693Z"
   },
   {
    "duration": 42270,
    "start_time": "2022-07-24T08:35:50.698Z"
   },
   {
    "duration": 118,
    "start_time": "2022-07-24T08:36:32.971Z"
   },
   {
    "duration": 175867,
    "start_time": "2022-07-24T08:36:33.091Z"
   },
   {
    "duration": 631,
    "start_time": "2022-07-24T08:39:28.968Z"
   },
   {
    "duration": 4,
    "start_time": "2022-07-24T08:39:29.601Z"
   }
  ],
  "kernelspec": {
   "display_name": "Python 3 (ipykernel)",
   "language": "python",
   "name": "python3"
  },
  "language_info": {
   "codemirror_mode": {
    "name": "ipython",
    "version": 3
   },
   "file_extension": ".py",
   "mimetype": "text/x-python",
   "name": "python",
   "nbconvert_exporter": "python",
   "pygments_lexer": "ipython3",
   "version": "3.9.5"
  },
  "toc": {
   "base_numbering": 1,
   "nav_menu": {},
   "number_sections": true,
   "sideBar": true,
   "skip_h1_title": true,
   "title_cell": "Содержание",
   "title_sidebar": "Contents",
   "toc_cell": true,
   "toc_position": {
    "height": "calc(100% - 180px)",
    "left": "10px",
    "top": "150px",
    "width": "302.391px"
   },
   "toc_section_display": true,
   "toc_window_display": false
  }
 },
 "nbformat": 4,
 "nbformat_minor": 2
}
