{
 "cells": [
  {
   "cell_type": "markdown",
   "id": "93ce8364",
   "metadata": {},
   "source": [
    "# Мегалайн"
   ]
  },
  {
   "cell_type": "markdown",
   "id": "b94b7759",
   "metadata": {},
   "source": [
    "В нашем распоряжении данные о пользователях тарифами `Smart` и `Ultra`, компании «Мегалайн» — федерального оператора сотовой связи, за 2018 год.\n",
    "Нам предстоит сделать предварительный анализ тарифов на небольшой выборке клиентов. В нашем распоряжении данные 500 пользователей «Мегалайна»: кто они, откуда, каким тарифом пользуются, сколько звонков и сообщений каждый отправил за 2018 год. Нужно проанализировать поведение клиентов и сделать вывод — какой тариф лучше.\n",
    "\n",
    "Нужно проверить 2 гипотезы:\n",
    "* 1. Средняя выручка пользователей тарифов «Ультра» и «Смарт» различаются.\n",
    "* 2. Средняя выручка пользователей из Москвы отличается от выручки пользователей из других регионов."
   ]
  },
  {
   "cell_type": "markdown",
   "id": "b717adba",
   "metadata": {},
   "source": [
    "## Обзор данных"
   ]
  },
  {
   "cell_type": "code",
   "execution_count": 1,
   "id": "8b35058e",
   "metadata": {},
   "outputs": [],
   "source": [
    "import pandas as pd\n",
    "import numpy as np\n",
    "from scipy import stats as st\n",
    "import seaborn as sns\n",
    "sns.set_style('white')\n",
    "sns.set_context('notebook')\n",
    "from functools import reduce\n",
    "idx = pd.IndexSlice\n",
    "import matplotlib.pyplot as plt\n",
    "\n",
    "try:\n",
    "    df_calls = pd.read_csv('Desktop/files/stat_data/calls.csv')\n",
    "    df_internet = pd.read_csv('Desktop/files/stat_data/internet.csv', index_col=0)\n",
    "    df_messages = pd.read_csv('Desktop/files/stat_data/messages.csv')\n",
    "    df_tariffs = pd.read_csv('Desktop/files/stat_data/tariffs.csv')\n",
    "    df_users = pd.read_csv('Desktop/files/stat_data/users.csv')\n",
    "except:\n",
    "    df_calls = pd.read_csv('/datasets/calls.csv')\n",
    "    df_internet = pd.read_csv('/datasets/internet.csv', index_col=0)\n",
    "    df_messages = pd.read_csv('/datasets/messages.csv')\n",
    "    df_tariffs = pd.read_csv('/datasets/tariffs.csv')\n",
    "    df_users = pd.read_csv('/datasets/users.csv')"
   ]
  },
  {
   "cell_type": "code",
   "execution_count": 2,
   "id": "d4ae7b2b",
   "metadata": {},
   "outputs": [
    {
     "name": "stdout",
     "output_type": "stream",
     "text": [
      "<class 'pandas.core.frame.DataFrame'>\n",
      "RangeIndex: 202607 entries, 0 to 202606\n",
      "Data columns (total 4 columns):\n",
      " #   Column     Non-Null Count   Dtype  \n",
      "---  ------     --------------   -----  \n",
      " 0   id         202607 non-null  object \n",
      " 1   call_date  202607 non-null  object \n",
      " 2   duration   202607 non-null  float64\n",
      " 3   user_id    202607 non-null  int64  \n",
      "dtypes: float64(1), int64(1), object(2)\n",
      "memory usage: 6.2+ MB\n"
     ]
    }
   ],
   "source": [
    "df_calls.info()"
   ]
  },
  {
   "cell_type": "code",
   "execution_count": 3,
   "id": "87e26068",
   "metadata": {},
   "outputs": [
    {
     "data": {
      "text/html": [
       "<div>\n",
       "<style scoped>\n",
       "    .dataframe tbody tr th:only-of-type {\n",
       "        vertical-align: middle;\n",
       "    }\n",
       "\n",
       "    .dataframe tbody tr th {\n",
       "        vertical-align: top;\n",
       "    }\n",
       "\n",
       "    .dataframe thead th {\n",
       "        text-align: right;\n",
       "    }\n",
       "</style>\n",
       "<table border=\"1\" class=\"dataframe\">\n",
       "  <thead>\n",
       "    <tr style=\"text-align: right;\">\n",
       "      <th></th>\n",
       "      <th>id</th>\n",
       "      <th>call_date</th>\n",
       "      <th>duration</th>\n",
       "      <th>user_id</th>\n",
       "    </tr>\n",
       "  </thead>\n",
       "  <tbody>\n",
       "    <tr>\n",
       "      <th>0</th>\n",
       "      <td>1000_0</td>\n",
       "      <td>2018-07-25</td>\n",
       "      <td>0.00</td>\n",
       "      <td>1000</td>\n",
       "    </tr>\n",
       "    <tr>\n",
       "      <th>1</th>\n",
       "      <td>1000_1</td>\n",
       "      <td>2018-08-17</td>\n",
       "      <td>0.00</td>\n",
       "      <td>1000</td>\n",
       "    </tr>\n",
       "    <tr>\n",
       "      <th>2</th>\n",
       "      <td>1000_2</td>\n",
       "      <td>2018-06-11</td>\n",
       "      <td>2.85</td>\n",
       "      <td>1000</td>\n",
       "    </tr>\n",
       "    <tr>\n",
       "      <th>3</th>\n",
       "      <td>1000_3</td>\n",
       "      <td>2018-09-21</td>\n",
       "      <td>13.80</td>\n",
       "      <td>1000</td>\n",
       "    </tr>\n",
       "    <tr>\n",
       "      <th>4</th>\n",
       "      <td>1000_4</td>\n",
       "      <td>2018-12-15</td>\n",
       "      <td>5.18</td>\n",
       "      <td>1000</td>\n",
       "    </tr>\n",
       "    <tr>\n",
       "      <th>5</th>\n",
       "      <td>1000_5</td>\n",
       "      <td>2018-11-02</td>\n",
       "      <td>0.00</td>\n",
       "      <td>1000</td>\n",
       "    </tr>\n",
       "    <tr>\n",
       "      <th>6</th>\n",
       "      <td>1000_6</td>\n",
       "      <td>2018-10-18</td>\n",
       "      <td>0.00</td>\n",
       "      <td>1000</td>\n",
       "    </tr>\n",
       "    <tr>\n",
       "      <th>7</th>\n",
       "      <td>1000_7</td>\n",
       "      <td>2018-08-22</td>\n",
       "      <td>18.31</td>\n",
       "      <td>1000</td>\n",
       "    </tr>\n",
       "    <tr>\n",
       "      <th>8</th>\n",
       "      <td>1000_8</td>\n",
       "      <td>2018-09-15</td>\n",
       "      <td>18.44</td>\n",
       "      <td>1000</td>\n",
       "    </tr>\n",
       "    <tr>\n",
       "      <th>9</th>\n",
       "      <td>1000_9</td>\n",
       "      <td>2018-08-15</td>\n",
       "      <td>0.00</td>\n",
       "      <td>1000</td>\n",
       "    </tr>\n",
       "  </tbody>\n",
       "</table>\n",
       "</div>"
      ],
      "text/plain": [
       "       id   call_date  duration  user_id\n",
       "0  1000_0  2018-07-25      0.00     1000\n",
       "1  1000_1  2018-08-17      0.00     1000\n",
       "2  1000_2  2018-06-11      2.85     1000\n",
       "3  1000_3  2018-09-21     13.80     1000\n",
       "4  1000_4  2018-12-15      5.18     1000\n",
       "5  1000_5  2018-11-02      0.00     1000\n",
       "6  1000_6  2018-10-18      0.00     1000\n",
       "7  1000_7  2018-08-22     18.31     1000\n",
       "8  1000_8  2018-09-15     18.44     1000\n",
       "9  1000_9  2018-08-15      0.00     1000"
      ]
     },
     "execution_count": 3,
     "metadata": {},
     "output_type": "execute_result"
    }
   ],
   "source": [
    "df_calls.head(10)"
   ]
  },
  {
   "cell_type": "code",
   "execution_count": 4,
   "id": "abf0ef97",
   "metadata": {
    "scrolled": false
   },
   "outputs": [
    {
     "data": {
      "text/plain": [
       "id           0\n",
       "call_date    0\n",
       "duration     0\n",
       "user_id      0\n",
       "dtype: int64"
      ]
     },
     "execution_count": 4,
     "metadata": {},
     "output_type": "execute_result"
    }
   ],
   "source": [
    "df_calls.isna().sum()"
   ]
  },
  {
   "cell_type": "markdown",
   "id": "1f3e9576",
   "metadata": {},
   "source": [
    "Таблица calls (информация о звонках):\n",
    "\n",
    "\n",
    "* `id`        —  уникальный номер звонка\n",
    "* `call_date` —  дата звонка, должно быть datatime по факту object\n",
    "* `duration`  —  длительность звонка в минутах\n",
    "* `user_id`   —  идентификатор пользователя, сделавшего звонок\n",
    "\n",
    "В целом всё в норме, нужно только привести значения столбца даты звонка к соответствующему типу и время звонка привести к минутам и округлить в большую сторону (минуты представленны в виде десятичной дроби, легко исправить делением на 0.6). Пропусков нет."
   ]
  },
  {
   "cell_type": "code",
   "execution_count": null,
   "id": "b84f54fa",
   "metadata": {},
   "outputs": [],
   "source": []
  },
  {
   "cell_type": "code",
   "execution_count": 5,
   "id": "86097a6b",
   "metadata": {
    "scrolled": true
   },
   "outputs": [
    {
     "name": "stdout",
     "output_type": "stream",
     "text": [
      "<class 'pandas.core.frame.DataFrame'>\n",
      "Int64Index: 149396 entries, 0 to 149395\n",
      "Data columns (total 4 columns):\n",
      " #   Column        Non-Null Count   Dtype  \n",
      "---  ------        --------------   -----  \n",
      " 0   id            149396 non-null  object \n",
      " 1   mb_used       149396 non-null  float64\n",
      " 2   session_date  149396 non-null  object \n",
      " 3   user_id       149396 non-null  int64  \n",
      "dtypes: float64(1), int64(1), object(2)\n",
      "memory usage: 5.7+ MB\n"
     ]
    }
   ],
   "source": [
    "df_internet.info()"
   ]
  },
  {
   "cell_type": "code",
   "execution_count": 6,
   "id": "a10343b1",
   "metadata": {
    "scrolled": true
   },
   "outputs": [
    {
     "data": {
      "text/html": [
       "<div>\n",
       "<style scoped>\n",
       "    .dataframe tbody tr th:only-of-type {\n",
       "        vertical-align: middle;\n",
       "    }\n",
       "\n",
       "    .dataframe tbody tr th {\n",
       "        vertical-align: top;\n",
       "    }\n",
       "\n",
       "    .dataframe thead th {\n",
       "        text-align: right;\n",
       "    }\n",
       "</style>\n",
       "<table border=\"1\" class=\"dataframe\">\n",
       "  <thead>\n",
       "    <tr style=\"text-align: right;\">\n",
       "      <th></th>\n",
       "      <th>id</th>\n",
       "      <th>mb_used</th>\n",
       "      <th>session_date</th>\n",
       "      <th>user_id</th>\n",
       "    </tr>\n",
       "  </thead>\n",
       "  <tbody>\n",
       "    <tr>\n",
       "      <th>0</th>\n",
       "      <td>1000_0</td>\n",
       "      <td>112.95</td>\n",
       "      <td>2018-11-25</td>\n",
       "      <td>1000</td>\n",
       "    </tr>\n",
       "    <tr>\n",
       "      <th>1</th>\n",
       "      <td>1000_1</td>\n",
       "      <td>1052.81</td>\n",
       "      <td>2018-09-07</td>\n",
       "      <td>1000</td>\n",
       "    </tr>\n",
       "    <tr>\n",
       "      <th>2</th>\n",
       "      <td>1000_2</td>\n",
       "      <td>1197.26</td>\n",
       "      <td>2018-06-25</td>\n",
       "      <td>1000</td>\n",
       "    </tr>\n",
       "    <tr>\n",
       "      <th>3</th>\n",
       "      <td>1000_3</td>\n",
       "      <td>550.27</td>\n",
       "      <td>2018-08-22</td>\n",
       "      <td>1000</td>\n",
       "    </tr>\n",
       "    <tr>\n",
       "      <th>4</th>\n",
       "      <td>1000_4</td>\n",
       "      <td>302.56</td>\n",
       "      <td>2018-09-24</td>\n",
       "      <td>1000</td>\n",
       "    </tr>\n",
       "    <tr>\n",
       "      <th>5</th>\n",
       "      <td>1000_5</td>\n",
       "      <td>399.97</td>\n",
       "      <td>2018-10-02</td>\n",
       "      <td>1000</td>\n",
       "    </tr>\n",
       "    <tr>\n",
       "      <th>6</th>\n",
       "      <td>1000_6</td>\n",
       "      <td>540.08</td>\n",
       "      <td>2018-09-07</td>\n",
       "      <td>1000</td>\n",
       "    </tr>\n",
       "    <tr>\n",
       "      <th>7</th>\n",
       "      <td>1000_7</td>\n",
       "      <td>415.70</td>\n",
       "      <td>2018-07-11</td>\n",
       "      <td>1000</td>\n",
       "    </tr>\n",
       "    <tr>\n",
       "      <th>8</th>\n",
       "      <td>1000_8</td>\n",
       "      <td>505.40</td>\n",
       "      <td>2018-10-08</td>\n",
       "      <td>1000</td>\n",
       "    </tr>\n",
       "    <tr>\n",
       "      <th>9</th>\n",
       "      <td>1000_9</td>\n",
       "      <td>345.54</td>\n",
       "      <td>2018-09-03</td>\n",
       "      <td>1000</td>\n",
       "    </tr>\n",
       "  </tbody>\n",
       "</table>\n",
       "</div>"
      ],
      "text/plain": [
       "       id  mb_used session_date  user_id\n",
       "0  1000_0   112.95   2018-11-25     1000\n",
       "1  1000_1  1052.81   2018-09-07     1000\n",
       "2  1000_2  1197.26   2018-06-25     1000\n",
       "3  1000_3   550.27   2018-08-22     1000\n",
       "4  1000_4   302.56   2018-09-24     1000\n",
       "5  1000_5   399.97   2018-10-02     1000\n",
       "6  1000_6   540.08   2018-09-07     1000\n",
       "7  1000_7   415.70   2018-07-11     1000\n",
       "8  1000_8   505.40   2018-10-08     1000\n",
       "9  1000_9   345.54   2018-09-03     1000"
      ]
     },
     "execution_count": 6,
     "metadata": {},
     "output_type": "execute_result"
    }
   ],
   "source": [
    "df_internet.head(10)"
   ]
  },
  {
   "cell_type": "code",
   "execution_count": 7,
   "id": "22f8ed64",
   "metadata": {
    "scrolled": false
   },
   "outputs": [
    {
     "data": {
      "text/plain": [
       "id              0\n",
       "mb_used         0\n",
       "session_date    0\n",
       "user_id         0\n",
       "dtype: int64"
      ]
     },
     "execution_count": 7,
     "metadata": {},
     "output_type": "execute_result"
    }
   ],
   "source": [
    "df_internet.isna().sum()"
   ]
  },
  {
   "cell_type": "markdown",
   "id": "5b66835d",
   "metadata": {},
   "source": [
    "Таблица internet (информация об интернет-сессиях):\n",
    "\n",
    "\n",
    "* `id` — уникальный номер сессии\n",
    "* `mb_used` — объём потраченного за сессию интернет-трафика (в мегабайтах)\n",
    "* `session_date` — дата интернет-сессии, изменить тип данных\n",
    "* `user_id` — идентификатор пользователя\n",
    "\n",
    "Столбец `Unnamed: 0` в описании не числится, и дублирует индекс таблицы - будем удалять. Округлить значения столбца `mb_used` в большую сторону, и изменить тип данных в `session_date`. Пропусков нет."
   ]
  },
  {
   "cell_type": "code",
   "execution_count": 8,
   "id": "3809da25",
   "metadata": {},
   "outputs": [
    {
     "name": "stdout",
     "output_type": "stream",
     "text": [
      "<class 'pandas.core.frame.DataFrame'>\n",
      "RangeIndex: 123036 entries, 0 to 123035\n",
      "Data columns (total 3 columns):\n",
      " #   Column        Non-Null Count   Dtype \n",
      "---  ------        --------------   ----- \n",
      " 0   id            123036 non-null  object\n",
      " 1   message_date  123036 non-null  object\n",
      " 2   user_id       123036 non-null  int64 \n",
      "dtypes: int64(1), object(2)\n",
      "memory usage: 2.8+ MB\n"
     ]
    }
   ],
   "source": [
    "df_messages.info()"
   ]
  },
  {
   "cell_type": "code",
   "execution_count": 9,
   "id": "e7fd2d84",
   "metadata": {},
   "outputs": [
    {
     "data": {
      "text/html": [
       "<div>\n",
       "<style scoped>\n",
       "    .dataframe tbody tr th:only-of-type {\n",
       "        vertical-align: middle;\n",
       "    }\n",
       "\n",
       "    .dataframe tbody tr th {\n",
       "        vertical-align: top;\n",
       "    }\n",
       "\n",
       "    .dataframe thead th {\n",
       "        text-align: right;\n",
       "    }\n",
       "</style>\n",
       "<table border=\"1\" class=\"dataframe\">\n",
       "  <thead>\n",
       "    <tr style=\"text-align: right;\">\n",
       "      <th></th>\n",
       "      <th>id</th>\n",
       "      <th>message_date</th>\n",
       "      <th>user_id</th>\n",
       "    </tr>\n",
       "  </thead>\n",
       "  <tbody>\n",
       "    <tr>\n",
       "      <th>0</th>\n",
       "      <td>1000_0</td>\n",
       "      <td>2018-06-27</td>\n",
       "      <td>1000</td>\n",
       "    </tr>\n",
       "    <tr>\n",
       "      <th>1</th>\n",
       "      <td>1000_1</td>\n",
       "      <td>2018-10-08</td>\n",
       "      <td>1000</td>\n",
       "    </tr>\n",
       "    <tr>\n",
       "      <th>2</th>\n",
       "      <td>1000_2</td>\n",
       "      <td>2018-08-04</td>\n",
       "      <td>1000</td>\n",
       "    </tr>\n",
       "    <tr>\n",
       "      <th>3</th>\n",
       "      <td>1000_3</td>\n",
       "      <td>2018-06-16</td>\n",
       "      <td>1000</td>\n",
       "    </tr>\n",
       "    <tr>\n",
       "      <th>4</th>\n",
       "      <td>1000_4</td>\n",
       "      <td>2018-12-05</td>\n",
       "      <td>1000</td>\n",
       "    </tr>\n",
       "  </tbody>\n",
       "</table>\n",
       "</div>"
      ],
      "text/plain": [
       "       id message_date  user_id\n",
       "0  1000_0   2018-06-27     1000\n",
       "1  1000_1   2018-10-08     1000\n",
       "2  1000_2   2018-08-04     1000\n",
       "3  1000_3   2018-06-16     1000\n",
       "4  1000_4   2018-12-05     1000"
      ]
     },
     "execution_count": 9,
     "metadata": {},
     "output_type": "execute_result"
    }
   ],
   "source": [
    "df_messages.head()"
   ]
  },
  {
   "cell_type": "code",
   "execution_count": 10,
   "id": "b5c62689",
   "metadata": {
    "scrolled": true
   },
   "outputs": [
    {
     "data": {
      "text/plain": [
       "id              0\n",
       "message_date    0\n",
       "user_id         0\n",
       "dtype: int64"
      ]
     },
     "execution_count": 10,
     "metadata": {},
     "output_type": "execute_result"
    }
   ],
   "source": [
    "df_messages.isna().sum()"
   ]
  },
  {
   "cell_type": "markdown",
   "id": "a23f42a4",
   "metadata": {},
   "source": [
    "Таблица messages (информация о сообщениях):\n",
    "\n",
    "\n",
    "* `id` — уникальный номер сообщения\n",
    "* `message_date` — дата сообщения\n",
    "* `user_id` — идентификатор пользователя, отправившего сообщение\n",
    "\n",
    "Пропусков нет, столбец с датой сообщения нужно привести к формату Datatime."
   ]
  },
  {
   "cell_type": "code",
   "execution_count": 11,
   "id": "a956d913",
   "metadata": {},
   "outputs": [
    {
     "name": "stdout",
     "output_type": "stream",
     "text": [
      "<class 'pandas.core.frame.DataFrame'>\n",
      "RangeIndex: 2 entries, 0 to 1\n",
      "Data columns (total 8 columns):\n",
      " #   Column                 Non-Null Count  Dtype \n",
      "---  ------                 --------------  ----- \n",
      " 0   messages_included      2 non-null      int64 \n",
      " 1   mb_per_month_included  2 non-null      int64 \n",
      " 2   minutes_included       2 non-null      int64 \n",
      " 3   rub_monthly_fee        2 non-null      int64 \n",
      " 4   rub_per_gb             2 non-null      int64 \n",
      " 5   rub_per_message        2 non-null      int64 \n",
      " 6   rub_per_minute         2 non-null      int64 \n",
      " 7   tariff_name            2 non-null      object\n",
      "dtypes: int64(7), object(1)\n",
      "memory usage: 256.0+ bytes\n"
     ]
    }
   ],
   "source": [
    "df_tariffs.info()"
   ]
  },
  {
   "cell_type": "code",
   "execution_count": 12,
   "id": "875926c1",
   "metadata": {
    "scrolled": true
   },
   "outputs": [
    {
     "data": {
      "text/html": [
       "<div>\n",
       "<style scoped>\n",
       "    .dataframe tbody tr th:only-of-type {\n",
       "        vertical-align: middle;\n",
       "    }\n",
       "\n",
       "    .dataframe tbody tr th {\n",
       "        vertical-align: top;\n",
       "    }\n",
       "\n",
       "    .dataframe thead th {\n",
       "        text-align: right;\n",
       "    }\n",
       "</style>\n",
       "<table border=\"1\" class=\"dataframe\">\n",
       "  <thead>\n",
       "    <tr style=\"text-align: right;\">\n",
       "      <th></th>\n",
       "      <th>messages_included</th>\n",
       "      <th>mb_per_month_included</th>\n",
       "      <th>minutes_included</th>\n",
       "      <th>rub_monthly_fee</th>\n",
       "      <th>rub_per_gb</th>\n",
       "      <th>rub_per_message</th>\n",
       "      <th>rub_per_minute</th>\n",
       "      <th>tariff_name</th>\n",
       "    </tr>\n",
       "  </thead>\n",
       "  <tbody>\n",
       "    <tr>\n",
       "      <th>0</th>\n",
       "      <td>50</td>\n",
       "      <td>15360</td>\n",
       "      <td>500</td>\n",
       "      <td>550</td>\n",
       "      <td>200</td>\n",
       "      <td>3</td>\n",
       "      <td>3</td>\n",
       "      <td>smart</td>\n",
       "    </tr>\n",
       "    <tr>\n",
       "      <th>1</th>\n",
       "      <td>1000</td>\n",
       "      <td>30720</td>\n",
       "      <td>3000</td>\n",
       "      <td>1950</td>\n",
       "      <td>150</td>\n",
       "      <td>1</td>\n",
       "      <td>1</td>\n",
       "      <td>ultra</td>\n",
       "    </tr>\n",
       "  </tbody>\n",
       "</table>\n",
       "</div>"
      ],
      "text/plain": [
       "   messages_included  mb_per_month_included  minutes_included  \\\n",
       "0                 50                  15360               500   \n",
       "1               1000                  30720              3000   \n",
       "\n",
       "   rub_monthly_fee  rub_per_gb  rub_per_message  rub_per_minute tariff_name  \n",
       "0              550         200                3               3       smart  \n",
       "1             1950         150                1               1       ultra  "
      ]
     },
     "execution_count": 12,
     "metadata": {},
     "output_type": "execute_result"
    }
   ],
   "source": [
    "df_tariffs"
   ]
  },
  {
   "cell_type": "markdown",
   "id": "787cc284",
   "metadata": {},
   "source": [
    "Таблица tariffs (информация о тарифах):\n",
    "\n",
    "\n",
    "* `tariff_name` — название тарифа\n",
    "* `rub_monthly_fee` — ежемесячная абонентская плата в рублях\n",
    "* `minutes_included` — количество минут разговора в месяц, включённых в абонентскую плату\n",
    "* `messages_included` — количество сообщений в месяц, включённых в абонентскую плату\n",
    "* `mb_per_month_included` — объём интернет-трафика, включённого в абонентскую плату (в мегабайтах)\n",
    "* `rub_per_minute` — стоимость минуты разговора сверх тарифного пакета (например, если в тарифе 100 минут разговора в месяц, то со 101 минуты будет взиматься плата)\n",
    "* `rub_per_message` — стоимость отправки сообщения сверх тарифного пакета\n",
    "* `rub_per_gb` — стоимость дополнительного гигабайта интернет-трафика сверх тарифного пакета (1 гигабайт = 1024 мегабайта)\n",
    "\n",
    "Ошибок нет."
   ]
  },
  {
   "cell_type": "code",
   "execution_count": 13,
   "id": "132cadbb",
   "metadata": {},
   "outputs": [
    {
     "name": "stdout",
     "output_type": "stream",
     "text": [
      "<class 'pandas.core.frame.DataFrame'>\n",
      "RangeIndex: 500 entries, 0 to 499\n",
      "Data columns (total 8 columns):\n",
      " #   Column      Non-Null Count  Dtype \n",
      "---  ------      --------------  ----- \n",
      " 0   user_id     500 non-null    int64 \n",
      " 1   age         500 non-null    int64 \n",
      " 2   churn_date  38 non-null     object\n",
      " 3   city        500 non-null    object\n",
      " 4   first_name  500 non-null    object\n",
      " 5   last_name   500 non-null    object\n",
      " 6   reg_date    500 non-null    object\n",
      " 7   tariff      500 non-null    object\n",
      "dtypes: int64(2), object(6)\n",
      "memory usage: 31.4+ KB\n"
     ]
    }
   ],
   "source": [
    "df_users.info()"
   ]
  },
  {
   "cell_type": "code",
   "execution_count": 14,
   "id": "ab576ac0",
   "metadata": {},
   "outputs": [
    {
     "data": {
      "text/html": [
       "<div>\n",
       "<style scoped>\n",
       "    .dataframe tbody tr th:only-of-type {\n",
       "        vertical-align: middle;\n",
       "    }\n",
       "\n",
       "    .dataframe tbody tr th {\n",
       "        vertical-align: top;\n",
       "    }\n",
       "\n",
       "    .dataframe thead th {\n",
       "        text-align: right;\n",
       "    }\n",
       "</style>\n",
       "<table border=\"1\" class=\"dataframe\">\n",
       "  <thead>\n",
       "    <tr style=\"text-align: right;\">\n",
       "      <th></th>\n",
       "      <th>user_id</th>\n",
       "      <th>age</th>\n",
       "      <th>churn_date</th>\n",
       "      <th>city</th>\n",
       "      <th>first_name</th>\n",
       "      <th>last_name</th>\n",
       "      <th>reg_date</th>\n",
       "      <th>tariff</th>\n",
       "    </tr>\n",
       "  </thead>\n",
       "  <tbody>\n",
       "    <tr>\n",
       "      <th>0</th>\n",
       "      <td>1000</td>\n",
       "      <td>52</td>\n",
       "      <td>NaN</td>\n",
       "      <td>Краснодар</td>\n",
       "      <td>Рафаил</td>\n",
       "      <td>Верещагин</td>\n",
       "      <td>2018-05-25</td>\n",
       "      <td>ultra</td>\n",
       "    </tr>\n",
       "    <tr>\n",
       "      <th>1</th>\n",
       "      <td>1001</td>\n",
       "      <td>41</td>\n",
       "      <td>NaN</td>\n",
       "      <td>Москва</td>\n",
       "      <td>Иван</td>\n",
       "      <td>Ежов</td>\n",
       "      <td>2018-11-01</td>\n",
       "      <td>smart</td>\n",
       "    </tr>\n",
       "    <tr>\n",
       "      <th>2</th>\n",
       "      <td>1002</td>\n",
       "      <td>59</td>\n",
       "      <td>NaN</td>\n",
       "      <td>Стерлитамак</td>\n",
       "      <td>Евгений</td>\n",
       "      <td>Абрамович</td>\n",
       "      <td>2018-06-17</td>\n",
       "      <td>smart</td>\n",
       "    </tr>\n",
       "    <tr>\n",
       "      <th>3</th>\n",
       "      <td>1003</td>\n",
       "      <td>23</td>\n",
       "      <td>NaN</td>\n",
       "      <td>Москва</td>\n",
       "      <td>Белла</td>\n",
       "      <td>Белякова</td>\n",
       "      <td>2018-08-17</td>\n",
       "      <td>ultra</td>\n",
       "    </tr>\n",
       "    <tr>\n",
       "      <th>4</th>\n",
       "      <td>1004</td>\n",
       "      <td>68</td>\n",
       "      <td>NaN</td>\n",
       "      <td>Новокузнецк</td>\n",
       "      <td>Татьяна</td>\n",
       "      <td>Авдеенко</td>\n",
       "      <td>2018-05-14</td>\n",
       "      <td>ultra</td>\n",
       "    </tr>\n",
       "    <tr>\n",
       "      <th>5</th>\n",
       "      <td>1005</td>\n",
       "      <td>67</td>\n",
       "      <td>NaN</td>\n",
       "      <td>Набережные Челны</td>\n",
       "      <td>Афанасий</td>\n",
       "      <td>Горлов</td>\n",
       "      <td>2018-01-25</td>\n",
       "      <td>smart</td>\n",
       "    </tr>\n",
       "    <tr>\n",
       "      <th>6</th>\n",
       "      <td>1006</td>\n",
       "      <td>21</td>\n",
       "      <td>NaN</td>\n",
       "      <td>Ульяновск</td>\n",
       "      <td>Леонид</td>\n",
       "      <td>Ермолаев</td>\n",
       "      <td>2018-02-26</td>\n",
       "      <td>smart</td>\n",
       "    </tr>\n",
       "    <tr>\n",
       "      <th>7</th>\n",
       "      <td>1007</td>\n",
       "      <td>65</td>\n",
       "      <td>NaN</td>\n",
       "      <td>Москва</td>\n",
       "      <td>Юна</td>\n",
       "      <td>Березина</td>\n",
       "      <td>2018-04-19</td>\n",
       "      <td>smart</td>\n",
       "    </tr>\n",
       "    <tr>\n",
       "      <th>8</th>\n",
       "      <td>1008</td>\n",
       "      <td>63</td>\n",
       "      <td>NaN</td>\n",
       "      <td>Челябинск</td>\n",
       "      <td>Рустэм</td>\n",
       "      <td>Пономарёв</td>\n",
       "      <td>2018-12-19</td>\n",
       "      <td>smart</td>\n",
       "    </tr>\n",
       "    <tr>\n",
       "      <th>9</th>\n",
       "      <td>1009</td>\n",
       "      <td>24</td>\n",
       "      <td>NaN</td>\n",
       "      <td>Пермь</td>\n",
       "      <td>Василиса</td>\n",
       "      <td>Блинова</td>\n",
       "      <td>2018-03-22</td>\n",
       "      <td>smart</td>\n",
       "    </tr>\n",
       "  </tbody>\n",
       "</table>\n",
       "</div>"
      ],
      "text/plain": [
       "   user_id  age churn_date              city first_name  last_name  \\\n",
       "0     1000   52        NaN         Краснодар     Рафаил  Верещагин   \n",
       "1     1001   41        NaN            Москва       Иван       Ежов   \n",
       "2     1002   59        NaN       Стерлитамак    Евгений  Абрамович   \n",
       "3     1003   23        NaN            Москва      Белла   Белякова   \n",
       "4     1004   68        NaN       Новокузнецк    Татьяна   Авдеенко   \n",
       "5     1005   67        NaN  Набережные Челны   Афанасий     Горлов   \n",
       "6     1006   21        NaN         Ульяновск     Леонид   Ермолаев   \n",
       "7     1007   65        NaN            Москва        Юна   Березина   \n",
       "8     1008   63        NaN         Челябинск     Рустэм  Пономарёв   \n",
       "9     1009   24        NaN             Пермь   Василиса    Блинова   \n",
       "\n",
       "     reg_date tariff  \n",
       "0  2018-05-25  ultra  \n",
       "1  2018-11-01  smart  \n",
       "2  2018-06-17  smart  \n",
       "3  2018-08-17  ultra  \n",
       "4  2018-05-14  ultra  \n",
       "5  2018-01-25  smart  \n",
       "6  2018-02-26  smart  \n",
       "7  2018-04-19  smart  \n",
       "8  2018-12-19  smart  \n",
       "9  2018-03-22  smart  "
      ]
     },
     "execution_count": 14,
     "metadata": {},
     "output_type": "execute_result"
    }
   ],
   "source": [
    "df_users.head(10)"
   ]
  },
  {
   "cell_type": "code",
   "execution_count": 15,
   "id": "d388aab3",
   "metadata": {
    "scrolled": true
   },
   "outputs": [
    {
     "data": {
      "text/plain": [
       "user_id         0\n",
       "age             0\n",
       "churn_date    462\n",
       "city            0\n",
       "first_name      0\n",
       "last_name       0\n",
       "reg_date        0\n",
       "tariff          0\n",
       "dtype: int64"
      ]
     },
     "execution_count": 15,
     "metadata": {},
     "output_type": "execute_result"
    }
   ],
   "source": [
    "df_users.isna().sum()"
   ]
  },
  {
   "cell_type": "markdown",
   "id": "e65351c1",
   "metadata": {},
   "source": [
    "Таблица users (информация о пользователях):\n",
    "\n",
    "\n",
    "* `user_id` — уникальный идентификатор пользователя\n",
    "* `first_name` — имя пользователя\n",
    "* `last_name` — фамилия пользователя\n",
    "* `age` — возраст пользователя (годы)\n",
    "* `reg_date` — дата подключения тарифа (день, месяц, год)\n",
    "* `churn_date` — дата прекращения пользования тарифом (если значение пропущено, то тариф ещё действовал на момент выгрузки данных)\n",
    "* `city` — город проживания пользователя\n",
    "* `tariff` — название тарифного плана\n",
    "\n",
    "Пропуски в `churn_date` нужно заменить и привести к правильному типу, `reg_date` изменить тип данных."
   ]
  },
  {
   "cell_type": "markdown",
   "id": "d27fa4ae",
   "metadata": {},
   "source": [
    "В целом данных для работы достаточно. Ошибок мало и они не существенны. Можно продолжать работать."
   ]
  },
  {
   "cell_type": "markdown",
   "id": "498a3362",
   "metadata": {},
   "source": [
    "## Предобработка данных"
   ]
  },
  {
   "cell_type": "markdown",
   "id": "4bbe92ad",
   "metadata": {},
   "source": [
    "### Звонки"
   ]
  },
  {
   "cell_type": "markdown",
   "id": "2f3d6b8a",
   "metadata": {},
   "source": [
    "Изменим тип данных в столбце `df_calls['call_date']`."
   ]
  },
  {
   "cell_type": "code",
   "execution_count": 16,
   "id": "f26ce864",
   "metadata": {},
   "outputs": [],
   "source": [
    "df_calls['call_date'] = pd.to_datetime(df_calls['call_date'], format = '%Y-%m-%d')"
   ]
  },
  {
   "cell_type": "code",
   "execution_count": 17,
   "id": "17e41831",
   "metadata": {
    "scrolled": true
   },
   "outputs": [
    {
     "name": "stdout",
     "output_type": "stream",
     "text": [
      "<class 'pandas.core.frame.DataFrame'>\n",
      "RangeIndex: 202607 entries, 0 to 202606\n",
      "Data columns (total 4 columns):\n",
      " #   Column     Non-Null Count   Dtype         \n",
      "---  ------     --------------   -----         \n",
      " 0   id         202607 non-null  object        \n",
      " 1   call_date  202607 non-null  datetime64[ns]\n",
      " 2   duration   202607 non-null  float64       \n",
      " 3   user_id    202607 non-null  int64         \n",
      "dtypes: datetime64[ns](1), float64(1), int64(1), object(1)\n",
      "memory usage: 6.2+ MB\n"
     ]
    }
   ],
   "source": [
    "df_calls.info()"
   ]
  },
  {
   "cell_type": "markdown",
   "id": "87280820",
   "metadata": {},
   "source": [
    "Переведем минуты из десятичной дроби и округлим значение в большую стороную"
   ]
  },
  {
   "cell_type": "code",
   "execution_count": 18,
   "id": "6e2cd289",
   "metadata": {},
   "outputs": [],
   "source": [
    "df_calls['duration'] = np.ceil(df_calls['duration']).astype(int)"
   ]
  },
  {
   "cell_type": "code",
   "execution_count": 19,
   "id": "b267ada4",
   "metadata": {
    "scrolled": true
   },
   "outputs": [
    {
     "data": {
      "text/html": [
       "<div>\n",
       "<style scoped>\n",
       "    .dataframe tbody tr th:only-of-type {\n",
       "        vertical-align: middle;\n",
       "    }\n",
       "\n",
       "    .dataframe tbody tr th {\n",
       "        vertical-align: top;\n",
       "    }\n",
       "\n",
       "    .dataframe thead th {\n",
       "        text-align: right;\n",
       "    }\n",
       "</style>\n",
       "<table border=\"1\" class=\"dataframe\">\n",
       "  <thead>\n",
       "    <tr style=\"text-align: right;\">\n",
       "      <th></th>\n",
       "      <th>id</th>\n",
       "      <th>call_date</th>\n",
       "      <th>duration</th>\n",
       "      <th>user_id</th>\n",
       "    </tr>\n",
       "  </thead>\n",
       "  <tbody>\n",
       "    <tr>\n",
       "      <th>0</th>\n",
       "      <td>1000_0</td>\n",
       "      <td>2018-07-25</td>\n",
       "      <td>0</td>\n",
       "      <td>1000</td>\n",
       "    </tr>\n",
       "    <tr>\n",
       "      <th>1</th>\n",
       "      <td>1000_1</td>\n",
       "      <td>2018-08-17</td>\n",
       "      <td>0</td>\n",
       "      <td>1000</td>\n",
       "    </tr>\n",
       "    <tr>\n",
       "      <th>2</th>\n",
       "      <td>1000_2</td>\n",
       "      <td>2018-06-11</td>\n",
       "      <td>3</td>\n",
       "      <td>1000</td>\n",
       "    </tr>\n",
       "    <tr>\n",
       "      <th>3</th>\n",
       "      <td>1000_3</td>\n",
       "      <td>2018-09-21</td>\n",
       "      <td>14</td>\n",
       "      <td>1000</td>\n",
       "    </tr>\n",
       "    <tr>\n",
       "      <th>4</th>\n",
       "      <td>1000_4</td>\n",
       "      <td>2018-12-15</td>\n",
       "      <td>6</td>\n",
       "      <td>1000</td>\n",
       "    </tr>\n",
       "  </tbody>\n",
       "</table>\n",
       "</div>"
      ],
      "text/plain": [
       "       id  call_date  duration  user_id\n",
       "0  1000_0 2018-07-25         0     1000\n",
       "1  1000_1 2018-08-17         0     1000\n",
       "2  1000_2 2018-06-11         3     1000\n",
       "3  1000_3 2018-09-21        14     1000\n",
       "4  1000_4 2018-12-15         6     1000"
      ]
     },
     "execution_count": 19,
     "metadata": {},
     "output_type": "execute_result"
    }
   ],
   "source": [
    "df_calls.head()"
   ]
  },
  {
   "cell_type": "markdown",
   "id": "aae1d105",
   "metadata": {},
   "source": [
    "### Интернет"
   ]
  },
  {
   "cell_type": "code",
   "execution_count": 20,
   "id": "ae807d55",
   "metadata": {},
   "outputs": [],
   "source": [
    "df_internet['session_date'] = pd.to_datetime(df_internet['session_date'], format = '%Y-%m-%d') # приводим к нужному формату\n",
    "df_internet['mb_used'] = np.ceil(df_internet['mb_used']).astype(int) # округляем в большую сторону"
   ]
  },
  {
   "cell_type": "code",
   "execution_count": 21,
   "id": "6f529fb6",
   "metadata": {
    "scrolled": false
   },
   "outputs": [
    {
     "name": "stdout",
     "output_type": "stream",
     "text": [
      "<class 'pandas.core.frame.DataFrame'>\n",
      "Int64Index: 149396 entries, 0 to 149395\n",
      "Data columns (total 4 columns):\n",
      " #   Column        Non-Null Count   Dtype         \n",
      "---  ------        --------------   -----         \n",
      " 0   id            149396 non-null  object        \n",
      " 1   mb_used       149396 non-null  int64         \n",
      " 2   session_date  149396 non-null  datetime64[ns]\n",
      " 3   user_id       149396 non-null  int64         \n",
      "dtypes: datetime64[ns](1), int64(2), object(1)\n",
      "memory usage: 5.7+ MB\n"
     ]
    }
   ],
   "source": [
    "df_internet.info()"
   ]
  },
  {
   "cell_type": "markdown",
   "id": "07b62e95",
   "metadata": {},
   "source": [
    "### Сообщения"
   ]
  },
  {
   "cell_type": "code",
   "execution_count": 22,
   "id": "885ac603",
   "metadata": {},
   "outputs": [],
   "source": [
    "df_messages['message_date'] = pd.to_datetime(df_messages['message_date'], format = '%Y-%m-%d') # приводим к нужному формату"
   ]
  },
  {
   "cell_type": "code",
   "execution_count": 23,
   "id": "52602203",
   "metadata": {
    "scrolled": true
   },
   "outputs": [
    {
     "name": "stdout",
     "output_type": "stream",
     "text": [
      "<class 'pandas.core.frame.DataFrame'>\n",
      "RangeIndex: 123036 entries, 0 to 123035\n",
      "Data columns (total 3 columns):\n",
      " #   Column        Non-Null Count   Dtype         \n",
      "---  ------        --------------   -----         \n",
      " 0   id            123036 non-null  object        \n",
      " 1   message_date  123036 non-null  datetime64[ns]\n",
      " 2   user_id       123036 non-null  int64         \n",
      "dtypes: datetime64[ns](1), int64(1), object(1)\n",
      "memory usage: 2.8+ MB\n"
     ]
    }
   ],
   "source": [
    "df_messages.info()"
   ]
  },
  {
   "cell_type": "markdown",
   "id": "29c24ecb",
   "metadata": {},
   "source": [
    "### Пользователи"
   ]
  },
  {
   "cell_type": "code",
   "execution_count": 24,
   "id": "6ee262cb",
   "metadata": {},
   "outputs": [],
   "source": [
    "df_users['reg_date'] = pd.to_datetime(df_users['reg_date'], format = '%Y-%m-%d') # приводим к нужному формату\n",
    "df_users['churn_date'] = pd.to_datetime(df_users['churn_date'], format = '%Y-%m-%d') # и тут приводим к нужному формату"
   ]
  },
  {
   "cell_type": "code",
   "execution_count": 25,
   "id": "6851e997",
   "metadata": {
    "scrolled": true
   },
   "outputs": [
    {
     "name": "stdout",
     "output_type": "stream",
     "text": [
      "<class 'pandas.core.frame.DataFrame'>\n",
      "RangeIndex: 500 entries, 0 to 499\n",
      "Data columns (total 8 columns):\n",
      " #   Column      Non-Null Count  Dtype         \n",
      "---  ------      --------------  -----         \n",
      " 0   user_id     500 non-null    int64         \n",
      " 1   age         500 non-null    int64         \n",
      " 2   churn_date  38 non-null     datetime64[ns]\n",
      " 3   city        500 non-null    object        \n",
      " 4   first_name  500 non-null    object        \n",
      " 5   last_name   500 non-null    object        \n",
      " 6   reg_date    500 non-null    datetime64[ns]\n",
      " 7   tariff      500 non-null    object        \n",
      "dtypes: datetime64[ns](2), int64(2), object(4)\n",
      "memory usage: 31.4+ KB\n"
     ]
    }
   ],
   "source": [
    "df_users.info()"
   ]
  },
  {
   "cell_type": "markdown",
   "id": "a3fbaf47",
   "metadata": {},
   "source": [
    "### Звонки пользователей"
   ]
  },
  {
   "cell_type": "markdown",
   "id": "78f875e0",
   "metadata": {},
   "source": [
    "#### Посчитаем для каждого пользователя количество сделанных звонков."
   ]
  },
  {
   "cell_type": "code",
   "execution_count": 26,
   "id": "68fd0641",
   "metadata": {
    "scrolled": true
   },
   "outputs": [],
   "source": [
    "df_calls['month'] = df_calls['call_date'].dt.month # добавим столбец с месяцем звонка\n",
    "df_users['user_index'] = df_users['city'] + df_users['first_name'] + df_users['last_name'] # добавим столбец с уникальным индексом пользователя\n",
    "\n",
    "calls_data = df_calls.merge(df_users, on='user_id', how='inner')\n",
    "sum_calls_month = calls_data.pivot_table(values=['user_index', 'duration'], \n",
    "                       index=['user_id', 'city', 'month'], \n",
    "                       aggfunc={'user_index': 'count', 'duration': 'sum'})\n",
    "\n",
    "sum_calls_month.columns = ['duration', 'calls']"
   ]
  },
  {
   "cell_type": "markdown",
   "id": "80b4bc2f",
   "metadata": {},
   "source": [
    "### Количество сообщений"
   ]
  },
  {
   "cell_type": "markdown",
   "id": "b46bc1f4",
   "metadata": {},
   "source": [
    "#### Посчитаем количество отправленных сообщений по месяцам"
   ]
  },
  {
   "cell_type": "code",
   "execution_count": 27,
   "id": "c334add1",
   "metadata": {},
   "outputs": [],
   "source": [
    "df_messages['month'] = df_messages['message_date'].dt.month # добавим столбец с месяцем сообщения\n",
    "\n",
    "messages_data = df_messages.merge(df_users, on='user_id', how='inner')\n",
    "count_messages_month = messages_data.pivot_table(values='user_index', \n",
    "                       index=['user_id', 'city', 'month'],\n",
    "                       aggfunc={'user_index': 'count'})\n",
    "\n",
    "count_messages_month.columns = ['messages']"
   ]
  },
  {
   "cell_type": "markdown",
   "id": "066658d3",
   "metadata": {},
   "source": [
    "### Трафик интернета"
   ]
  },
  {
   "cell_type": "markdown",
   "id": "b01308c4",
   "metadata": {},
   "source": [
    "#### Посчитаем объем израсходованного интернет-трафика по месяцам"
   ]
  },
  {
   "cell_type": "code",
   "execution_count": 28,
   "id": "577183c9",
   "metadata": {},
   "outputs": [],
   "source": [
    "df_internet['month'] = df_internet['session_date'].dt.month\n",
    "\n",
    "internet_data = df_internet.merge(df_users, on='user_id', how='inner')\n",
    "sum_internet_month = internet_data.pivot_table(values='mb_used', \n",
    "                       index=['user_id', 'city', 'month'], \n",
    "                       aggfunc={'mb_used': 'sum'})\n",
    "sum_internet_month.columns = ['mb_used']"
   ]
  },
  {
   "cell_type": "code",
   "execution_count": 29,
   "id": "27e839b1",
   "metadata": {
    "scrolled": true
   },
   "outputs": [
    {
     "data": {
      "text/html": [
       "<div>\n",
       "<style scoped>\n",
       "    .dataframe tbody tr th:only-of-type {\n",
       "        vertical-align: middle;\n",
       "    }\n",
       "\n",
       "    .dataframe tbody tr th {\n",
       "        vertical-align: top;\n",
       "    }\n",
       "\n",
       "    .dataframe thead th {\n",
       "        text-align: right;\n",
       "    }\n",
       "</style>\n",
       "<table border=\"1\" class=\"dataframe\">\n",
       "  <thead>\n",
       "    <tr style=\"text-align: right;\">\n",
       "      <th></th>\n",
       "      <th></th>\n",
       "      <th></th>\n",
       "      <th>duration</th>\n",
       "      <th>calls</th>\n",
       "      <th>messages</th>\n",
       "      <th>mb_used</th>\n",
       "    </tr>\n",
       "    <tr>\n",
       "      <th>user_id</th>\n",
       "      <th>city</th>\n",
       "      <th>month</th>\n",
       "      <th></th>\n",
       "      <th></th>\n",
       "      <th></th>\n",
       "      <th></th>\n",
       "    </tr>\n",
       "  </thead>\n",
       "  <tbody>\n",
       "    <tr>\n",
       "      <th rowspan=\"8\" valign=\"top\">1000</th>\n",
       "      <th rowspan=\"8\" valign=\"top\">Краснодар</th>\n",
       "      <th>5</th>\n",
       "      <td>159.0</td>\n",
       "      <td>22.0</td>\n",
       "      <td>22.0</td>\n",
       "      <td>2256.0</td>\n",
       "    </tr>\n",
       "    <tr>\n",
       "      <th>6</th>\n",
       "      <td>172.0</td>\n",
       "      <td>43.0</td>\n",
       "      <td>60.0</td>\n",
       "      <td>23257.0</td>\n",
       "    </tr>\n",
       "    <tr>\n",
       "      <th>7</th>\n",
       "      <td>340.0</td>\n",
       "      <td>47.0</td>\n",
       "      <td>75.0</td>\n",
       "      <td>14016.0</td>\n",
       "    </tr>\n",
       "    <tr>\n",
       "      <th>8</th>\n",
       "      <td>408.0</td>\n",
       "      <td>52.0</td>\n",
       "      <td>81.0</td>\n",
       "      <td>14070.0</td>\n",
       "    </tr>\n",
       "    <tr>\n",
       "      <th>9</th>\n",
       "      <td>466.0</td>\n",
       "      <td>58.0</td>\n",
       "      <td>57.0</td>\n",
       "      <td>14581.0</td>\n",
       "    </tr>\n",
       "    <tr>\n",
       "      <th>10</th>\n",
       "      <td>350.0</td>\n",
       "      <td>57.0</td>\n",
       "      <td>73.0</td>\n",
       "      <td>14717.0</td>\n",
       "    </tr>\n",
       "    <tr>\n",
       "      <th>11</th>\n",
       "      <td>338.0</td>\n",
       "      <td>43.0</td>\n",
       "      <td>58.0</td>\n",
       "      <td>14768.0</td>\n",
       "    </tr>\n",
       "    <tr>\n",
       "      <th>12</th>\n",
       "      <td>333.0</td>\n",
       "      <td>46.0</td>\n",
       "      <td>70.0</td>\n",
       "      <td>9827.0</td>\n",
       "    </tr>\n",
       "    <tr>\n",
       "      <th rowspan=\"2\" valign=\"top\">1001</th>\n",
       "      <th rowspan=\"2\" valign=\"top\">Москва</th>\n",
       "      <th>11</th>\n",
       "      <td>430.0</td>\n",
       "      <td>59.0</td>\n",
       "      <td>NaN</td>\n",
       "      <td>18452.0</td>\n",
       "    </tr>\n",
       "    <tr>\n",
       "      <th>12</th>\n",
       "      <td>414.0</td>\n",
       "      <td>63.0</td>\n",
       "      <td>NaN</td>\n",
       "      <td>14053.0</td>\n",
       "    </tr>\n",
       "  </tbody>\n",
       "</table>\n",
       "</div>"
      ],
      "text/plain": [
       "                         duration  calls  messages  mb_used\n",
       "user_id city      month                                    \n",
       "1000    Краснодар 5         159.0   22.0      22.0   2256.0\n",
       "                  6         172.0   43.0      60.0  23257.0\n",
       "                  7         340.0   47.0      75.0  14016.0\n",
       "                  8         408.0   52.0      81.0  14070.0\n",
       "                  9         466.0   58.0      57.0  14581.0\n",
       "                  10        350.0   57.0      73.0  14717.0\n",
       "                  11        338.0   43.0      58.0  14768.0\n",
       "                  12        333.0   46.0      70.0   9827.0\n",
       "1001    Москва    11        430.0   59.0       NaN  18452.0\n",
       "                  12        414.0   63.0       NaN  14053.0"
      ]
     },
     "execution_count": 29,
     "metadata": {},
     "output_type": "execute_result"
    }
   ],
   "source": [
    "df_united = [sum_calls_month, count_messages_month, sum_internet_month]\n",
    "data_united = reduce(lambda left,right: pd.merge(left,right,on=['user_id', 'city', 'month'], how='outer'), df_united)\n",
    "data_united.head(10)"
   ]
  },
  {
   "cell_type": "code",
   "execution_count": 30,
   "id": "00ee5ad4",
   "metadata": {},
   "outputs": [
    {
     "data": {
      "text/plain": [
       "duration     40\n",
       "calls        40\n",
       "messages    497\n",
       "mb_used      11\n",
       "dtype: int64"
      ]
     },
     "execution_count": 30,
     "metadata": {},
     "output_type": "execute_result"
    }
   ],
   "source": [
    "data_united.isna().sum()"
   ]
  },
  {
   "cell_type": "markdown",
   "id": "a8cb93f3",
   "metadata": {},
   "source": [
    "В таблице получилось много пропусков и значения не целочисленные. Заменим пропуски на 0, а тип данных изменим на целочисленный."
   ]
  },
  {
   "cell_type": "code",
   "execution_count": 31,
   "id": "c479ea42",
   "metadata": {},
   "outputs": [],
   "source": [
    "data_united['duration'] = data_united['duration'].fillna(0).astype(int)\n",
    "data_united['calls'] = data_united['calls'].fillna(0).astype(int)\n",
    "data_united['messages'] = data_united['messages'].fillna(0).astype(int)\n",
    "data_united['mb_used'] = data_united['mb_used'].fillna(0).astype(int)"
   ]
  },
  {
   "cell_type": "code",
   "execution_count": 32,
   "id": "06d434cd",
   "metadata": {},
   "outputs": [
    {
     "name": "stderr",
     "output_type": "stream",
     "text": [
      "/opt/conda/lib/python3.9/site-packages/IPython/core/interactiveshell.py:2898: PerformanceWarning: indexing past lexsort depth may impact performance.\n",
      "  result = self._run_cell(\n"
     ]
    }
   ],
   "source": [
    "for df_user in data_united.index:\n",
    "    data_united.loc[df_user, 'tariff'] = df_users.loc[df_user[0]-1000, 'tariff'];"
   ]
  },
  {
   "cell_type": "code",
   "execution_count": 33,
   "id": "fc2f7554",
   "metadata": {
    "scrolled": true
   },
   "outputs": [
    {
     "data": {
      "text/html": [
       "<div>\n",
       "<style scoped>\n",
       "    .dataframe tbody tr th:only-of-type {\n",
       "        vertical-align: middle;\n",
       "    }\n",
       "\n",
       "    .dataframe tbody tr th {\n",
       "        vertical-align: top;\n",
       "    }\n",
       "\n",
       "    .dataframe thead th {\n",
       "        text-align: right;\n",
       "    }\n",
       "</style>\n",
       "<table border=\"1\" class=\"dataframe\">\n",
       "  <thead>\n",
       "    <tr style=\"text-align: right;\">\n",
       "      <th></th>\n",
       "      <th></th>\n",
       "      <th></th>\n",
       "      <th>duration</th>\n",
       "      <th>calls</th>\n",
       "      <th>messages</th>\n",
       "      <th>mb_used</th>\n",
       "      <th>tariff</th>\n",
       "    </tr>\n",
       "    <tr>\n",
       "      <th>user_id</th>\n",
       "      <th>city</th>\n",
       "      <th>month</th>\n",
       "      <th></th>\n",
       "      <th></th>\n",
       "      <th></th>\n",
       "      <th></th>\n",
       "      <th></th>\n",
       "    </tr>\n",
       "  </thead>\n",
       "  <tbody>\n",
       "    <tr>\n",
       "      <th rowspan=\"8\" valign=\"top\">1000</th>\n",
       "      <th rowspan=\"8\" valign=\"top\">Краснодар</th>\n",
       "      <th>5</th>\n",
       "      <td>159</td>\n",
       "      <td>22</td>\n",
       "      <td>22</td>\n",
       "      <td>2256</td>\n",
       "      <td>ultra</td>\n",
       "    </tr>\n",
       "    <tr>\n",
       "      <th>6</th>\n",
       "      <td>172</td>\n",
       "      <td>43</td>\n",
       "      <td>60</td>\n",
       "      <td>23257</td>\n",
       "      <td>ultra</td>\n",
       "    </tr>\n",
       "    <tr>\n",
       "      <th>7</th>\n",
       "      <td>340</td>\n",
       "      <td>47</td>\n",
       "      <td>75</td>\n",
       "      <td>14016</td>\n",
       "      <td>ultra</td>\n",
       "    </tr>\n",
       "    <tr>\n",
       "      <th>8</th>\n",
       "      <td>408</td>\n",
       "      <td>52</td>\n",
       "      <td>81</td>\n",
       "      <td>14070</td>\n",
       "      <td>ultra</td>\n",
       "    </tr>\n",
       "    <tr>\n",
       "      <th>9</th>\n",
       "      <td>466</td>\n",
       "      <td>58</td>\n",
       "      <td>57</td>\n",
       "      <td>14581</td>\n",
       "      <td>ultra</td>\n",
       "    </tr>\n",
       "    <tr>\n",
       "      <th>10</th>\n",
       "      <td>350</td>\n",
       "      <td>57</td>\n",
       "      <td>73</td>\n",
       "      <td>14717</td>\n",
       "      <td>ultra</td>\n",
       "    </tr>\n",
       "    <tr>\n",
       "      <th>11</th>\n",
       "      <td>338</td>\n",
       "      <td>43</td>\n",
       "      <td>58</td>\n",
       "      <td>14768</td>\n",
       "      <td>ultra</td>\n",
       "    </tr>\n",
       "    <tr>\n",
       "      <th>12</th>\n",
       "      <td>333</td>\n",
       "      <td>46</td>\n",
       "      <td>70</td>\n",
       "      <td>9827</td>\n",
       "      <td>ultra</td>\n",
       "    </tr>\n",
       "    <tr>\n",
       "      <th rowspan=\"2\" valign=\"top\">1001</th>\n",
       "      <th rowspan=\"2\" valign=\"top\">Москва</th>\n",
       "      <th>11</th>\n",
       "      <td>430</td>\n",
       "      <td>59</td>\n",
       "      <td>0</td>\n",
       "      <td>18452</td>\n",
       "      <td>smart</td>\n",
       "    </tr>\n",
       "    <tr>\n",
       "      <th>12</th>\n",
       "      <td>414</td>\n",
       "      <td>63</td>\n",
       "      <td>0</td>\n",
       "      <td>14053</td>\n",
       "      <td>smart</td>\n",
       "    </tr>\n",
       "  </tbody>\n",
       "</table>\n",
       "</div>"
      ],
      "text/plain": [
       "                         duration  calls  messages  mb_used tariff\n",
       "user_id city      month                                           \n",
       "1000    Краснодар 5           159     22        22     2256  ultra\n",
       "                  6           172     43        60    23257  ultra\n",
       "                  7           340     47        75    14016  ultra\n",
       "                  8           408     52        81    14070  ultra\n",
       "                  9           466     58        57    14581  ultra\n",
       "                  10          350     57        73    14717  ultra\n",
       "                  11          338     43        58    14768  ultra\n",
       "                  12          333     46        70     9827  ultra\n",
       "1001    Москва    11          430     59         0    18452  smart\n",
       "                  12          414     63         0    14053  smart"
      ]
     },
     "execution_count": 33,
     "metadata": {},
     "output_type": "execute_result"
    }
   ],
   "source": [
    "data_united.head(10)"
   ]
  },
  {
   "cell_type": "markdown",
   "id": "64a42069",
   "metadata": {},
   "source": [
    "### Выручка"
   ]
  },
  {
   "cell_type": "markdown",
   "id": "146150a5",
   "metadata": {},
   "source": [
    "#### Посчитаем помесячную выручку "
   ]
  },
  {
   "cell_type": "markdown",
   "id": "51bdee8b",
   "metadata": {},
   "source": [
    "Создадим функцию которая берет на вход данные из  `revenue`  и возвращает выручку для конкретного пользователя в конкретный месяц."
   ]
  },
  {
   "cell_type": "code",
   "execution_count": 34,
   "id": "b2ad676d",
   "metadata": {},
   "outputs": [],
   "source": [
    "def income_counter(row):\n",
    "    duration = row['duration']\n",
    "    calls = row['calls']\n",
    "    messages = row['messages']\n",
    "    mb_used = row['mb_used']\n",
    "    tariff = row['tariff']\n",
    "    \n",
    "    if tariff == 'smart':\n",
    "        over_limit_duration = duration - df_tariffs.loc[0, 'minutes_included']\n",
    "        over_limit_mb = mb_used - df_tariffs.loc[0, 'mb_per_month_included']\n",
    "        over_limit_messages = messages - df_tariffs.loc[0, 'messages_included']\n",
    "        \n",
    "        if over_limit_duration < 0: over_limit_duration = 0\n",
    "        if over_limit_mb < 0: over_limit_mb = 0\n",
    "        if over_limit_messages < 0: over_limit_messages = 0\n",
    "        \n",
    "        return (df_tariffs.loc[0, 'rub_per_message'] * over_limit_messages + \n",
    "                   (df_tariffs.loc[0, 'rub_per_gb'] / 1024) * over_limit_mb + \n",
    "                   df_tariffs.loc[0, 'rub_per_minute'] * over_limit_duration + \n",
    "                   df_tariffs.loc[0, 'rub_monthly_fee']\n",
    "                  ) \n",
    "    else:\n",
    "        over_limit_duration = duration - df_tariffs.loc[1, 'minutes_included']\n",
    "        over_limit_mb = mb_used - df_tariffs.loc[1, 'mb_per_month_included']\n",
    "        over_limit_messages = messages - df_tariffs.loc[1, 'messages_included']\n",
    "        \n",
    "        if over_limit_duration < 0: over_limit_duration = 0\n",
    "        if over_limit_mb < 0: over_limit_mb = 0\n",
    "        if over_limit_messages < 0: over_limit_messages = 0\n",
    "        \n",
    "        return (df_tariffs.loc[1, 'rub_per_message'] * over_limit_messages + \n",
    "                   (df_tariffs.loc[1, 'rub_per_gb'] / 1024) * over_limit_mb + \n",
    "                   df_tariffs.loc[1, 'rub_per_minute'] * over_limit_duration + \n",
    "                   df_tariffs.loc[1, 'rub_monthly_fee']\n",
    "                  )"
   ]
  },
  {
   "cell_type": "code",
   "execution_count": 35,
   "id": "27d591a8",
   "metadata": {},
   "outputs": [
    {
     "data": {
      "text/html": [
       "<div>\n",
       "<style scoped>\n",
       "    .dataframe tbody tr th:only-of-type {\n",
       "        vertical-align: middle;\n",
       "    }\n",
       "\n",
       "    .dataframe tbody tr th {\n",
       "        vertical-align: top;\n",
       "    }\n",
       "\n",
       "    .dataframe thead th {\n",
       "        text-align: right;\n",
       "    }\n",
       "</style>\n",
       "<table border=\"1\" class=\"dataframe\">\n",
       "  <thead>\n",
       "    <tr style=\"text-align: right;\">\n",
       "      <th></th>\n",
       "      <th></th>\n",
       "      <th></th>\n",
       "      <th>duration</th>\n",
       "      <th>calls</th>\n",
       "      <th>messages</th>\n",
       "      <th>mb_used</th>\n",
       "      <th>tariff</th>\n",
       "      <th>revenue</th>\n",
       "    </tr>\n",
       "    <tr>\n",
       "      <th>user_id</th>\n",
       "      <th>city</th>\n",
       "      <th>month</th>\n",
       "      <th></th>\n",
       "      <th></th>\n",
       "      <th></th>\n",
       "      <th></th>\n",
       "      <th></th>\n",
       "      <th></th>\n",
       "    </tr>\n",
       "  </thead>\n",
       "  <tbody>\n",
       "    <tr>\n",
       "      <th rowspan=\"8\" valign=\"top\">1000</th>\n",
       "      <th rowspan=\"8\" valign=\"top\">Краснодар</th>\n",
       "      <th>5</th>\n",
       "      <td>159</td>\n",
       "      <td>22</td>\n",
       "      <td>22</td>\n",
       "      <td>2256</td>\n",
       "      <td>ultra</td>\n",
       "      <td>1950</td>\n",
       "    </tr>\n",
       "    <tr>\n",
       "      <th>6</th>\n",
       "      <td>172</td>\n",
       "      <td>43</td>\n",
       "      <td>60</td>\n",
       "      <td>23257</td>\n",
       "      <td>ultra</td>\n",
       "      <td>1950</td>\n",
       "    </tr>\n",
       "    <tr>\n",
       "      <th>7</th>\n",
       "      <td>340</td>\n",
       "      <td>47</td>\n",
       "      <td>75</td>\n",
       "      <td>14016</td>\n",
       "      <td>ultra</td>\n",
       "      <td>1950</td>\n",
       "    </tr>\n",
       "    <tr>\n",
       "      <th>8</th>\n",
       "      <td>408</td>\n",
       "      <td>52</td>\n",
       "      <td>81</td>\n",
       "      <td>14070</td>\n",
       "      <td>ultra</td>\n",
       "      <td>1950</td>\n",
       "    </tr>\n",
       "    <tr>\n",
       "      <th>9</th>\n",
       "      <td>466</td>\n",
       "      <td>58</td>\n",
       "      <td>57</td>\n",
       "      <td>14581</td>\n",
       "      <td>ultra</td>\n",
       "      <td>1950</td>\n",
       "    </tr>\n",
       "    <tr>\n",
       "      <th>10</th>\n",
       "      <td>350</td>\n",
       "      <td>57</td>\n",
       "      <td>73</td>\n",
       "      <td>14717</td>\n",
       "      <td>ultra</td>\n",
       "      <td>1950</td>\n",
       "    </tr>\n",
       "    <tr>\n",
       "      <th>11</th>\n",
       "      <td>338</td>\n",
       "      <td>43</td>\n",
       "      <td>58</td>\n",
       "      <td>14768</td>\n",
       "      <td>ultra</td>\n",
       "      <td>1950</td>\n",
       "    </tr>\n",
       "    <tr>\n",
       "      <th>12</th>\n",
       "      <td>333</td>\n",
       "      <td>46</td>\n",
       "      <td>70</td>\n",
       "      <td>9827</td>\n",
       "      <td>ultra</td>\n",
       "      <td>1950</td>\n",
       "    </tr>\n",
       "    <tr>\n",
       "      <th rowspan=\"2\" valign=\"top\">1001</th>\n",
       "      <th rowspan=\"2\" valign=\"top\">Москва</th>\n",
       "      <th>11</th>\n",
       "      <td>430</td>\n",
       "      <td>59</td>\n",
       "      <td>0</td>\n",
       "      <td>18452</td>\n",
       "      <td>smart</td>\n",
       "      <td>1153</td>\n",
       "    </tr>\n",
       "    <tr>\n",
       "      <th>12</th>\n",
       "      <td>414</td>\n",
       "      <td>63</td>\n",
       "      <td>0</td>\n",
       "      <td>14053</td>\n",
       "      <td>smart</td>\n",
       "      <td>550</td>\n",
       "    </tr>\n",
       "  </tbody>\n",
       "</table>\n",
       "</div>"
      ],
      "text/plain": [
       "                         duration  calls  messages  mb_used tariff  revenue\n",
       "user_id city      month                                                    \n",
       "1000    Краснодар 5           159     22        22     2256  ultra     1950\n",
       "                  6           172     43        60    23257  ultra     1950\n",
       "                  7           340     47        75    14016  ultra     1950\n",
       "                  8           408     52        81    14070  ultra     1950\n",
       "                  9           466     58        57    14581  ultra     1950\n",
       "                  10          350     57        73    14717  ultra     1950\n",
       "                  11          338     43        58    14768  ultra     1950\n",
       "                  12          333     46        70     9827  ultra     1950\n",
       "1001    Москва    11          430     59         0    18452  smart     1153\n",
       "                  12          414     63         0    14053  smart      550"
      ]
     },
     "execution_count": 35,
     "metadata": {},
     "output_type": "execute_result"
    }
   ],
   "source": [
    "data_united['revenue'] = data_united.apply(income_counter, axis=1).astype(int)\n",
    "data_united.head(10)"
   ]
  },
  {
   "cell_type": "markdown",
   "id": "83d73b96",
   "metadata": {},
   "source": [
    "## Анализ данных"
   ]
  },
  {
   "cell_type": "markdown",
   "id": "304e52e0",
   "metadata": {},
   "source": [
    "### Тариф *Smart*"
   ]
  },
  {
   "cell_type": "markdown",
   "id": "4f9075bd",
   "metadata": {},
   "source": [
    "#### Распределение звонков в тарифе *Smart*"
   ]
  },
  {
   "cell_type": "code",
   "execution_count": 36,
   "id": "a96783b1",
   "metadata": {},
   "outputs": [],
   "source": [
    "smart_table = data_united[data_united['tariff'] == 'smart'].replace(0, np.NaN)"
   ]
  },
  {
   "cell_type": "code",
   "execution_count": 37,
   "id": "3d2ebf13",
   "metadata": {
    "scrolled": true
   },
   "outputs": [
    {
     "data": {
      "image/png": "[encoded data removed]",
      "text/plain": [
       "<Figure size 432x288 with 1 Axes>"
      ]
     },
     "metadata": {},
     "output_type": "display_data"
    },
    {
     "name": "stdout",
     "output_type": "stream",
     "text": [
      "Среднее: 420.8480194908561\n",
      "Дисперсия: 20578.276241342694\n",
      "Стандартное отклонение: 143.4513026826271\n"
     ]
    }
   ],
   "source": [
    "calls_smart = smart_table.pivot_table(index='user_id', values='duration')\n",
    "\n",
    "for column in calls_smart.columns.values.tolist():\n",
    "    plt.hist(calls_smart[column], range=(1,1000), alpha=0.5)\n",
    "calls_smart['mean_value'] = calls_smart.apply(pd.DataFrame.mean, axis=1) \n",
    "plt.hist(calls_smart['mean_value'])\n",
    "plt.xlabel('minutes')\n",
    "plt.show()\n",
    "print('Среднее:', calls_smart['mean_value'].mean())\n",
    "print('Дисперсия:', calls_smart['mean_value'].var())\n",
    "print('Стандартное отклонение:', calls_smart['mean_value'].std())"
   ]
  },
  {
   "cell_type": "markdown",
   "id": "e8d34ee2",
   "metadata": {},
   "source": [
    "#### Распределение сообщений в тарифе *Smart*"
   ]
  },
  {
   "cell_type": "code",
   "execution_count": 38,
   "id": "99ba1522",
   "metadata": {},
   "outputs": [
    {
     "data": {
      "image/png": "[encoded data removed]",
      "text/plain": [
       "<Figure size 432x288 with 1 Axes>"
      ]
     },
     "metadata": {},
     "output_type": "display_data"
    },
    {
     "name": "stdout",
     "output_type": "stream",
     "text": [
      "Среднее: 37.57560563057251\n",
      "Дисперсия: 617.5094965861842\n",
      "Стандартное отклонение: 24.849738360517687\n"
     ]
    }
   ],
   "source": [
    "messages_smart = smart_table.pivot_table(index='user_id', values='messages')\n",
    "\n",
    "for column in messages_smart.columns.values.tolist():\n",
    "    plt.hist(messages_smart[column], alpha=0.5)\n",
    "messages_smart['mean_value'] = messages_smart.apply(pd.DataFrame.mean, axis=1)\n",
    "plt.hist(messages_smart['mean_value'])\n",
    "plt.show()\n",
    "messages_smart['mean_value'].describe()\n",
    "print('Среднее:', messages_smart['mean_value'].mean())\n",
    "print('Дисперсия:', messages_smart['mean_value'].var())\n",
    "print('Стандартное отклонение:', messages_smart['mean_value'].std())"
   ]
  },
  {
   "cell_type": "markdown",
   "id": "32425440",
   "metadata": {},
   "source": [
    "#### Распределение трафика в тарифе *Smart*"
   ]
  },
  {
   "cell_type": "code",
   "execution_count": 39,
   "id": "1e450f08",
   "metadata": {},
   "outputs": [
    {
     "data": {
      "image/png": "[encoded data removed]",
      "text/plain": [
       "<Figure size 432x288 with 1 Axes>"
      ]
     },
     "metadata": {},
     "output_type": "display_data"
    },
    {
     "name": "stdout",
     "output_type": "stream",
     "text": [
      "Среднее: 15.85644825678259\n",
      "Дисперсия: 13156112.194393754\n",
      "Стандартное отклонение: 3.542124546589574\n"
     ]
    }
   ],
   "source": [
    "internet_smart = smart_table.pivot_table(index='user_id', values='mb_used')\n",
    "\n",
    "for column in internet_smart.columns.values.tolist():\n",
    "    plt.hist(internet_smart[column], alpha=0.5)\n",
    "internet_smart['mean_value'] = internet_smart.apply(pd.DataFrame.mean, axis=1)\n",
    "plt.hist(internet_smart['mean_value'])\n",
    "plt.show()\n",
    "print('Среднее:', internet_smart['mean_value'].mean() / 1024)\n",
    "print('Дисперсия:', internet_smart['mean_value'].var())\n",
    "print('Стандартное отклонение:', internet_smart['mean_value'].std() / 1024)"
   ]
  },
  {
   "cell_type": "markdown",
   "id": "0306b993",
   "metadata": {},
   "source": [
    "#### Вывод\n",
    "\n",
    "* В среднем пользователи тарифа `Smart` используют 421 минуту, что укладывается в пакет минут включенных в тариф. Стандартное отклонение 143 минуты. Распределение нормальное.\n",
    "* Из доступных 50 СМС в среднем используются лишь 38 сообщений и это не удивительно при современном развитии мессенджеров. Стандартное отклонение 25. Распределение скошено в право.\n",
    "* 15.85Гб. столько трафика в среднем расходует в месяц пользователь тарифа `Smart`. Стандартное откланение 3.54Гб.. Нормальное распределение."
   ]
  },
  {
   "cell_type": "markdown",
   "id": "a8025cf8",
   "metadata": {},
   "source": [
    "### Тариф *Ultra*"
   ]
  },
  {
   "cell_type": "markdown",
   "id": "cb5a75d8",
   "metadata": {},
   "source": [
    "#### Распределение звонков в тарифе *Ultra*"
   ]
  },
  {
   "cell_type": "code",
   "execution_count": 40,
   "id": "29765fbf",
   "metadata": {
    "scrolled": true
   },
   "outputs": [
    {
     "data": {
      "image/png": "[encoded data removed]",
      "text/plain": [
       "<Figure size 432x288 with 1 Axes>"
      ]
     },
     "metadata": {},
     "output_type": "display_data"
    },
    {
     "name": "stdout",
     "output_type": "stream",
     "text": [
      "Среднее: 546.9984013461286\n",
      "Дисперсия: 71872.0671269184\n",
      "Стандартное отклонение: 268.08966247678853\n"
     ]
    }
   ],
   "source": [
    "ultra_table = data_united[data_united['tariff'] == 'ultra'].replace(0, np.NaN)\n",
    "\n",
    "calls_ultra = ultra_table.pivot_table(index='user_id', values='duration')\n",
    "\n",
    "for column in calls_ultra.columns.values.tolist():\n",
    "    plt.hist(calls_ultra[column], range=(1,1000), alpha=0.3)\n",
    "calls_ultra['mean_value'] = calls_ultra.apply(pd.DataFrame.mean, axis=1)\n",
    "plt.hist(calls_ultra['mean_value'], alpha=0.85)\n",
    "plt.show()\n",
    "print('Среднее:', calls_ultra['mean_value'].mean())\n",
    "print('Дисперсия:', calls_ultra['mean_value'].var())\n",
    "print('Стандартное отклонение:', calls_ultra['mean_value'].std())"
   ]
  },
  {
   "cell_type": "markdown",
   "id": "18e6bf93",
   "metadata": {},
   "source": [
    "#### Распределение сообщений в тарифе *Ultra*"
   ]
  },
  {
   "cell_type": "code",
   "execution_count": 41,
   "id": "0c240cfe",
   "metadata": {},
   "outputs": [
    {
     "data": {
      "image/png": "[encoded data removed]",
      "text/plain": [
       "<Figure size 432x288 with 1 Axes>"
      ]
     },
     "metadata": {},
     "output_type": "display_data"
    },
    {
     "name": "stdout",
     "output_type": "stream",
     "text": [
      "Среднее: 64.55580197132616\n",
      "Дисперсия: 1882.7452175564708\n",
      "Стандартное отклонение: 43.390612090133864\n"
     ]
    }
   ],
   "source": [
    "messages_ultra = ultra_table.pivot_table(index='user_id', values='messages')\n",
    "\n",
    "for column in messages_ultra.columns.values.tolist():\n",
    "    plt.hist(messages_ultra[column], alpha=0.3)\n",
    "messages_ultra['mean_value'] = messages_ultra.apply(pd.DataFrame.mean, axis=1)\n",
    "plt.hist(messages_ultra['mean_value'], alpha=0.85)\n",
    "plt.show()\n",
    "print('Среднее:', messages_ultra['mean_value'].mean())\n",
    "print('Дисперсия:', messages_ultra['mean_value'].var())\n",
    "print('Стандартное отклонение:', messages_ultra['mean_value'].std())"
   ]
  },
  {
   "cell_type": "markdown",
   "id": "26b4e6ff",
   "metadata": {},
   "source": [
    "#### Распределение трафика в тарифе *Ultra*"
   ]
  },
  {
   "cell_type": "code",
   "execution_count": 42,
   "id": "e75693f4",
   "metadata": {},
   "outputs": [
    {
     "data": {
      "image/png": "[encoded data removed]",
      "text/plain": [
       "<Figure size 432x288 with 1 Axes>"
      ]
     },
     "metadata": {},
     "output_type": "display_data"
    },
    {
     "name": "stdout",
     "output_type": "stream",
     "text": [
      "Среднее: 19.299253517709055\n",
      "Дисперсия: 66869619.030235656\n",
      "Стандартное отклонение: 7.9857271564339305\n"
     ]
    }
   ],
   "source": [
    "internet_ultra = ultra_table.pivot_table(index='user_id', values='mb_used')\n",
    "\n",
    "for column in internet_ultra.columns.values.tolist():\n",
    "    plt.hist(internet_ultra[column], alpha=0.3)\n",
    "internet_ultra['mean_value'] = internet_ultra.apply(pd.DataFrame.mean, axis=1)\n",
    "plt.hist(internet_ultra['mean_value'])\n",
    "plt.show()\n",
    "print('Среднее:', internet_ultra['mean_value'].mean() / 1024)\n",
    "print('Дисперсия:', internet_ultra['mean_value'].var())\n",
    "print('Стандартное отклонение:', internet_ultra['mean_value'].std() / 1024)"
   ]
  },
  {
   "cell_type": "markdown",
   "id": "5e647b2f",
   "metadata": {},
   "source": [
    "#### Вывод\n",
    "\n",
    "* Не смотря на то что в тариф `Ultra` включает в стандартный пакет 3000 минут, среднестатистический пользователь тратит около 550 минут. Стандартное отклонение 268. Нормальное распределение.\n",
    "* Болшенству пользователей не пригодился пакет с 1000 СМС в среднем хватает и 65. Стандартное отклонение 43.\n",
    "* В среднем 20Гб. из 30 тратят пользователи тарифа `Ultra`. Стандартное откланение 8гб.. Распределение нормальное."
   ]
  },
  {
   "cell_type": "markdown",
   "id": "a0434272",
   "metadata": {},
   "source": [
    "####  Для сравнение посмотрим на общее распределение звонков, сообщений и интернет трафика."
   ]
  },
  {
   "cell_type": "code",
   "execution_count": 43,
   "id": "f82125e4",
   "metadata": {},
   "outputs": [
    {
     "name": "stdout",
     "output_type": "stream",
     "text": [
      "Среднее: 456.9316320100819\n",
      "Дисперсия: 56658.88564895877\n",
      "Стандартное отклонение: 238.03127031749162\n"
     ]
    },
    {
     "name": "stderr",
     "output_type": "stream",
     "text": [
      "/opt/conda/lib/python3.9/site-packages/seaborn/distributions.py:2557: FutureWarning: `distplot` is a deprecated function and will be removed in a future version. Please adapt your code to use either `displot` (a figure-level function with similar flexibility) or `histplot` (an axes-level function for histograms).\n",
      "  warnings.warn(msg, FutureWarning)\n"
     ]
    },
    {
     "data": {
      "image/png": "[encoded data removed]",
      "text/plain": [
       "<Figure size 432x288 with 1 Axes>"
      ]
     },
     "metadata": {},
     "output_type": "display_data"
    }
   ],
   "source": [
    "for minutes in ['duration']:\n",
    "    sns.distplot(sum_calls_month['duration'], kde=False, label=minutes, axlabel='Минуты');\n",
    "plt.legend(['Минуты Общее']);\n",
    "print('Среднее:', sum_calls_month['duration'].mean())\n",
    "print('Дисперсия:', sum_calls_month['duration'].var())\n",
    "print('Стандартное отклонение:', sum_calls_month['duration'].std())"
   ]
  },
  {
   "cell_type": "code",
   "execution_count": 44,
   "id": "243d2785",
   "metadata": {
    "scrolled": true
   },
   "outputs": [
    {
     "name": "stdout",
     "output_type": "stream",
     "text": [
      "Среднее: 45.28376886271623\n",
      "Дисперсия: 1228.5980170128298\n",
      "Стандартное отклонение: 35.051362555724275\n"
     ]
    },
    {
     "data": {
      "image/png": "[encoded data removed]",
      "text/plain": [
       "<Figure size 432x288 with 1 Axes>"
      ]
     },
     "metadata": {},
     "output_type": "display_data"
    }
   ],
   "source": [
    "for messages in ['messages']:\n",
    "    sns.distplot(count_messages_month['messages'], kde=False, label=messages, axlabel='Сообщения');\n",
    "plt.legend(['Сообщения Общее']);\n",
    "print('Среднее:', count_messages_month['messages'].mean())\n",
    "print('Дисперсия:', count_messages_month['messages'].var())\n",
    "print('Стандартное отклонение:', count_messages_month['messages'].std())"
   ]
  },
  {
   "cell_type": "code",
   "execution_count": 45,
   "id": "7a9fd39d",
   "metadata": {
    "scrolled": false
   },
   "outputs": [
    {
     "name": "stdout",
     "output_type": "stream",
     "text": [
      "Среднее: 16.881591415762568\n",
      "Дисперсия: 56604261.01411212\n",
      "Стандартное отклонение: 7.347246418102113\n"
     ]
    },
    {
     "data": {
      "image/png": "[encoded data removed]",
      "text/plain": [
       "<Figure size 432x288 with 1 Axes>"
      ]
     },
     "metadata": {},
     "output_type": "display_data"
    }
   ],
   "source": [
    "for internet in ['mb_used']:\n",
    "    sns.distplot(sum_internet_month['mb_used'], kde=False, label=internet, axlabel='Интернет трафик');\n",
    "plt.legend(['Общий Трафик']);\n",
    "print('Среднее:', sum_internet_month['mb_used'].mean() / 1024)\n",
    "print('Дисперсия:', sum_internet_month['mb_used'].var())\n",
    "print('Стандартное отклонение:', sum_internet_month['mb_used'].std() / 1024)"
   ]
  },
  {
   "cell_type": "markdown",
   "id": "181d4bd6",
   "metadata": {},
   "source": [
    " Для наглядности наложим распределения по тарифам друг на друга:"
   ]
  },
  {
   "cell_type": "code",
   "execution_count": 46,
   "id": "194ced7f",
   "metadata": {
    "scrolled": false
   },
   "outputs": [
    {
     "data": {
      "image/png": "[encoded data removed]",
      "text/plain": [
       "<Figure size 432x288 with 1 Axes>"
      ]
     },
     "metadata": {},
     "output_type": "display_data"
    }
   ],
   "source": [
    "for tariff in ['ultra', 'smart']:\n",
    "    sns.distplot(data_united.query('tariff == @tariff')['duration'], kde=False, label=tariff, axlabel='Минуты');\n",
    "plt.legend(['ultra', 'smart']);"
   ]
  },
  {
   "cell_type": "code",
   "execution_count": 47,
   "id": "ba81ecc4",
   "metadata": {},
   "outputs": [
    {
     "data": {
      "image/png": "[encoded data removed]",
      "text/plain": [
       "<Figure size 432x288 with 1 Axes>"
      ]
     },
     "metadata": {},
     "output_type": "display_data"
    }
   ],
   "source": [
    "for tariff in ['ultra', 'smart']:\n",
    "    sns.distplot(data_united.query('tariff == @tariff')['messages'], kde=False, label=tariff, axlabel='Сообщения');\n",
    "plt.legend(['ultra', 'smart']);"
   ]
  },
  {
   "cell_type": "code",
   "execution_count": 48,
   "id": "ce0ea6cb",
   "metadata": {
    "scrolled": true
   },
   "outputs": [
    {
     "data": {
      "image/png": "[encoded data removed]",
      "text/plain": [
       "<Figure size 432x288 with 1 Axes>"
      ]
     },
     "metadata": {},
     "output_type": "display_data"
    }
   ],
   "source": [
    "for tariff in ['ultra', 'smart']:\n",
    "    sns.distplot(data_united.query('tariff == @tariff')['mb_used'], kde=False, label=tariff, axlabel='Интернет Трафик', ax=None)\n",
    "plt.legend(['ultra', 'smart']);"
   ]
  },
  {
   "cell_type": "code",
   "execution_count": 49,
   "id": "03694af6",
   "metadata": {},
   "outputs": [
    {
     "data": {
      "image/png": "[encoded data removed]",
      "text/plain": [
       "<Figure size 432x288 with 1 Axes>"
      ]
     },
     "metadata": {},
     "output_type": "display_data"
    }
   ],
   "source": [
    "for tariff in ['ultra', 'smart']:\n",
    "    sns.distplot(data_united.query('tariff == @tariff')['revenue'], kde=False, label=tariff, axlabel='Выручка');\n",
    "plt.legend(['ultra', 'smart']);"
   ]
  },
  {
   "cell_type": "markdown",
   "id": "9805b746",
   "metadata": {},
   "source": [
    "Вот тут становится интересно два пика 550 и 1950, как и ожидалось, но вот от пика 550 идет длинный хвост в сторону увеличения расходов, чего не наблюдается для клиентов тарифа `Ultra`. Обратимся к методу `describe`:"
   ]
  },
  {
   "cell_type": "code",
   "execution_count": 50,
   "id": "8f14be66",
   "metadata": {
    "scrolled": true
   },
   "outputs": [
    {
     "data": {
      "text/html": [
       "<div>\n",
       "<style scoped>\n",
       "    .dataframe tbody tr th:only-of-type {\n",
       "        vertical-align: middle;\n",
       "    }\n",
       "\n",
       "    .dataframe tbody tr th {\n",
       "        vertical-align: top;\n",
       "    }\n",
       "\n",
       "    .dataframe thead th {\n",
       "        text-align: right;\n",
       "    }\n",
       "</style>\n",
       "<table border=\"1\" class=\"dataframe\">\n",
       "  <thead>\n",
       "    <tr style=\"text-align: right;\">\n",
       "      <th></th>\n",
       "      <th>duration</th>\n",
       "      <th>calls</th>\n",
       "      <th>messages</th>\n",
       "      <th>mb_used</th>\n",
       "      <th>revenue</th>\n",
       "    </tr>\n",
       "  </thead>\n",
       "  <tbody>\n",
       "    <tr>\n",
       "      <th>count</th>\n",
       "      <td>3214.000000</td>\n",
       "      <td>3214.000000</td>\n",
       "      <td>3214.000000</td>\n",
       "      <td>3214.000000</td>\n",
       "      <td>3214.000000</td>\n",
       "    </tr>\n",
       "    <tr>\n",
       "      <th>mean</th>\n",
       "      <td>451.244866</td>\n",
       "      <td>63.038892</td>\n",
       "      <td>38.281269</td>\n",
       "      <td>17227.585252</td>\n",
       "      <td>1486.634101</td>\n",
       "    </tr>\n",
       "    <tr>\n",
       "      <th>std</th>\n",
       "      <td>241.909978</td>\n",
       "      <td>33.236368</td>\n",
       "      <td>36.148326</td>\n",
       "      <td>7578.261501</td>\n",
       "      <td>783.896681</td>\n",
       "    </tr>\n",
       "    <tr>\n",
       "      <th>min</th>\n",
       "      <td>0.000000</td>\n",
       "      <td>0.000000</td>\n",
       "      <td>0.000000</td>\n",
       "      <td>0.000000</td>\n",
       "      <td>550.000000</td>\n",
       "    </tr>\n",
       "    <tr>\n",
       "      <th>25%</th>\n",
       "      <td>282.000000</td>\n",
       "      <td>40.000000</td>\n",
       "      <td>9.000000</td>\n",
       "      <td>12505.250000</td>\n",
       "      <td>694.000000</td>\n",
       "    </tr>\n",
       "    <tr>\n",
       "      <th>50%</th>\n",
       "      <td>443.000000</td>\n",
       "      <td>62.000000</td>\n",
       "      <td>30.000000</td>\n",
       "      <td>16966.500000</td>\n",
       "      <td>1562.500000</td>\n",
       "    </tr>\n",
       "    <tr>\n",
       "      <th>75%</th>\n",
       "      <td>589.000000</td>\n",
       "      <td>82.000000</td>\n",
       "      <td>57.000000</td>\n",
       "      <td>21450.000000</td>\n",
       "      <td>1950.000000</td>\n",
       "    </tr>\n",
       "    <tr>\n",
       "      <th>max</th>\n",
       "      <td>1673.000000</td>\n",
       "      <td>244.000000</td>\n",
       "      <td>224.000000</td>\n",
       "      <td>49789.000000</td>\n",
       "      <td>6711.000000</td>\n",
       "    </tr>\n",
       "  </tbody>\n",
       "</table>\n",
       "</div>"
      ],
      "text/plain": [
       "          duration        calls     messages       mb_used      revenue\n",
       "count  3214.000000  3214.000000  3214.000000   3214.000000  3214.000000\n",
       "mean    451.244866    63.038892    38.281269  17227.585252  1486.634101\n",
       "std     241.909978    33.236368    36.148326   7578.261501   783.896681\n",
       "min       0.000000     0.000000     0.000000      0.000000   550.000000\n",
       "25%     282.000000    40.000000     9.000000  12505.250000   694.000000\n",
       "50%     443.000000    62.000000    30.000000  16966.500000  1562.500000\n",
       "75%     589.000000    82.000000    57.000000  21450.000000  1950.000000\n",
       "max    1673.000000   244.000000   224.000000  49789.000000  6711.000000"
      ]
     },
     "execution_count": 50,
     "metadata": {},
     "output_type": "execute_result"
    }
   ],
   "source": [
    "data_united.describe()"
   ]
  },
  {
   "cell_type": "markdown",
   "id": "0436671e",
   "metadata": {},
   "source": [
    "На обьединеной таблице ни чего не видно. Посмотрим на каждый тариф по отдельности."
   ]
  },
  {
   "cell_type": "code",
   "execution_count": 51,
   "id": "f26e6ad8",
   "metadata": {
    "scrolled": true
   },
   "outputs": [
    {
     "data": {
      "text/html": [
       "<div>\n",
       "<style scoped>\n",
       "    .dataframe tbody tr th:only-of-type {\n",
       "        vertical-align: middle;\n",
       "    }\n",
       "\n",
       "    .dataframe tbody tr th {\n",
       "        vertical-align: top;\n",
       "    }\n",
       "\n",
       "    .dataframe thead th {\n",
       "        text-align: right;\n",
       "    }\n",
       "</style>\n",
       "<table border=\"1\" class=\"dataframe\">\n",
       "  <thead>\n",
       "    <tr style=\"text-align: right;\">\n",
       "      <th></th>\n",
       "      <th>duration</th>\n",
       "      <th>calls</th>\n",
       "      <th>messages</th>\n",
       "      <th>mb_used</th>\n",
       "      <th>revenue</th>\n",
       "    </tr>\n",
       "  </thead>\n",
       "  <tbody>\n",
       "    <tr>\n",
       "      <th>count</th>\n",
       "      <td>2221.000000</td>\n",
       "      <td>2223.000000</td>\n",
       "      <td>1922.000000</td>\n",
       "      <td>2227.000000</td>\n",
       "      <td>2229.000000</td>\n",
       "    </tr>\n",
       "    <tr>\n",
       "      <th>mean</th>\n",
       "      <td>419.440342</td>\n",
       "      <td>58.621233</td>\n",
       "      <td>38.716441</td>\n",
       "      <td>16243.763359</td>\n",
       "      <td>1233.057873</td>\n",
       "    </tr>\n",
       "    <tr>\n",
       "      <th>std</th>\n",
       "      <td>188.992403</td>\n",
       "      <td>25.796101</td>\n",
       "      <td>26.787949</td>\n",
       "      <td>5860.041941</td>\n",
       "      <td>787.544032</td>\n",
       "    </tr>\n",
       "    <tr>\n",
       "      <th>min</th>\n",
       "      <td>2.000000</td>\n",
       "      <td>1.000000</td>\n",
       "      <td>1.000000</td>\n",
       "      <td>202.000000</td>\n",
       "      <td>550.000000</td>\n",
       "    </tr>\n",
       "    <tr>\n",
       "      <th>25%</th>\n",
       "      <td>285.000000</td>\n",
       "      <td>40.000000</td>\n",
       "      <td>17.000000</td>\n",
       "      <td>12677.000000</td>\n",
       "      <td>550.000000</td>\n",
       "    </tr>\n",
       "    <tr>\n",
       "      <th>50%</th>\n",
       "      <td>423.000000</td>\n",
       "      <td>60.000000</td>\n",
       "      <td>34.000000</td>\n",
       "      <td>16533.000000</td>\n",
       "      <td>959.000000</td>\n",
       "    </tr>\n",
       "    <tr>\n",
       "      <th>75%</th>\n",
       "      <td>546.000000</td>\n",
       "      <td>76.000000</td>\n",
       "      <td>55.000000</td>\n",
       "      <td>20068.000000</td>\n",
       "      <td>1668.000000</td>\n",
       "    </tr>\n",
       "    <tr>\n",
       "      <th>max</th>\n",
       "      <td>1435.000000</td>\n",
       "      <td>198.000000</td>\n",
       "      <td>143.000000</td>\n",
       "      <td>38610.000000</td>\n",
       "      <td>6711.000000</td>\n",
       "    </tr>\n",
       "  </tbody>\n",
       "</table>\n",
       "</div>"
      ],
      "text/plain": [
       "          duration        calls     messages       mb_used      revenue\n",
       "count  2221.000000  2223.000000  1922.000000   2227.000000  2229.000000\n",
       "mean    419.440342    58.621233    38.716441  16243.763359  1233.057873\n",
       "std     188.992403    25.796101    26.787949   5860.041941   787.544032\n",
       "min       2.000000     1.000000     1.000000    202.000000   550.000000\n",
       "25%     285.000000    40.000000    17.000000  12677.000000   550.000000\n",
       "50%     423.000000    60.000000    34.000000  16533.000000   959.000000\n",
       "75%     546.000000    76.000000    55.000000  20068.000000  1668.000000\n",
       "max    1435.000000   198.000000   143.000000  38610.000000  6711.000000"
      ]
     },
     "execution_count": 51,
     "metadata": {},
     "output_type": "execute_result"
    }
   ],
   "source": [
    "smart_table.describe()"
   ]
  },
  {
   "cell_type": "markdown",
   "id": "baff1990",
   "metadata": {},
   "source": [
    "И что мы видим:\n",
    "\n",
    "* Лишь 25% пользователей тарифа `Smart` укладываются в абанентскую плату согластно тарифа. \n",
    "* почти половина переплачивает вдвое, а четверть втрое! \n",
    "* 75% пользователей тарифа `Smart` расходуют интернет трафик сверх пакета.\n",
    "* И только 25% не хватает минут заложенных в стандартный пакет.\n",
    "* СМС хватает 75% клиентов."
   ]
  },
  {
   "cell_type": "code",
   "execution_count": 52,
   "id": "caa718ca",
   "metadata": {
    "scrolled": false
   },
   "outputs": [
    {
     "data": {
      "text/html": [
       "<div>\n",
       "<style scoped>\n",
       "    .dataframe tbody tr th:only-of-type {\n",
       "        vertical-align: middle;\n",
       "    }\n",
       "\n",
       "    .dataframe tbody tr th {\n",
       "        vertical-align: top;\n",
       "    }\n",
       "\n",
       "    .dataframe thead th {\n",
       "        text-align: right;\n",
       "    }\n",
       "</style>\n",
       "<table border=\"1\" class=\"dataframe\">\n",
       "  <thead>\n",
       "    <tr style=\"text-align: right;\">\n",
       "      <th></th>\n",
       "      <th>duration</th>\n",
       "      <th>calls</th>\n",
       "      <th>messages</th>\n",
       "      <th>mb_used</th>\n",
       "      <th>revenue</th>\n",
       "    </tr>\n",
       "  </thead>\n",
       "  <tbody>\n",
       "    <tr>\n",
       "      <th>count</th>\n",
       "      <td>947.000000</td>\n",
       "      <td>951.000000</td>\n",
       "      <td>795.000000</td>\n",
       "      <td>974.000000</td>\n",
       "      <td>985.000000</td>\n",
       "    </tr>\n",
       "    <tr>\n",
       "      <th>mean</th>\n",
       "      <td>547.755016</td>\n",
       "      <td>76.016824</td>\n",
       "      <td>61.161006</td>\n",
       "      <td>19706.979466</td>\n",
       "      <td>2060.462944</td>\n",
       "    </tr>\n",
       "    <tr>\n",
       "      <th>std</th>\n",
       "      <td>305.513385</td>\n",
       "      <td>42.403348</td>\n",
       "      <td>45.931026</td>\n",
       "      <td>9937.127298</td>\n",
       "      <td>356.187378</td>\n",
       "    </tr>\n",
       "    <tr>\n",
       "      <th>min</th>\n",
       "      <td>1.000000</td>\n",
       "      <td>1.000000</td>\n",
       "      <td>1.000000</td>\n",
       "      <td>366.000000</td>\n",
       "      <td>1950.000000</td>\n",
       "    </tr>\n",
       "    <tr>\n",
       "      <th>25%</th>\n",
       "      <td>311.000000</td>\n",
       "      <td>43.000000</td>\n",
       "      <td>24.000000</td>\n",
       "      <td>12073.750000</td>\n",
       "      <td>1950.000000</td>\n",
       "    </tr>\n",
       "    <tr>\n",
       "      <th>50%</th>\n",
       "      <td>529.000000</td>\n",
       "      <td>75.000000</td>\n",
       "      <td>51.000000</td>\n",
       "      <td>19427.500000</td>\n",
       "      <td>1950.000000</td>\n",
       "    </tr>\n",
       "    <tr>\n",
       "      <th>75%</th>\n",
       "      <td>758.000000</td>\n",
       "      <td>105.000000</td>\n",
       "      <td>87.500000</td>\n",
       "      <td>26936.250000</td>\n",
       "      <td>1950.000000</td>\n",
       "    </tr>\n",
       "    <tr>\n",
       "      <th>max</th>\n",
       "      <td>1673.000000</td>\n",
       "      <td>244.000000</td>\n",
       "      <td>224.000000</td>\n",
       "      <td>49789.000000</td>\n",
       "      <td>4743.000000</td>\n",
       "    </tr>\n",
       "  </tbody>\n",
       "</table>\n",
       "</div>"
      ],
      "text/plain": [
       "          duration       calls    messages       mb_used      revenue\n",
       "count   947.000000  951.000000  795.000000    974.000000   985.000000\n",
       "mean    547.755016   76.016824   61.161006  19706.979466  2060.462944\n",
       "std     305.513385   42.403348   45.931026   9937.127298   356.187378\n",
       "min       1.000000    1.000000    1.000000    366.000000  1950.000000\n",
       "25%     311.000000   43.000000   24.000000  12073.750000  1950.000000\n",
       "50%     529.000000   75.000000   51.000000  19427.500000  1950.000000\n",
       "75%     758.000000  105.000000   87.500000  26936.250000  1950.000000\n",
       "max    1673.000000  244.000000  224.000000  49789.000000  4743.000000"
      ]
     },
     "execution_count": 52,
     "metadata": {},
     "output_type": "execute_result"
    }
   ],
   "source": [
    "ultra_table.describe()"
   ]
  },
  {
   "cell_type": "code",
   "execution_count": 53,
   "id": "d4b7f0db",
   "metadata": {},
   "outputs": [
    {
     "name": "stdout",
     "output_type": "stream",
     "text": [
      "Процент клиентов переплачивающих по тарифу Ultra - 13.60%\n"
     ]
    }
   ],
   "source": [
    "print('Процент клиентов переплачивающих по тарифу Ultra - {:.2%}'.format(\n",
    "    ultra_table[ultra_table['revenue'] > 1950].shape[0]/ultra_table.shape[0]))"
   ]
  },
  {
   "cell_type": "markdown",
   "id": "abce8485",
   "metadata": {},
   "source": [
    "Пользователи тарифа `Ultra` не привыкли переплачивать, и лишь единицам не хватает стандартных пакетов, включенных в абонентскую плату."
   ]
  },
  {
   "cell_type": "markdown",
   "id": "fa62a481",
   "metadata": {},
   "source": [
    "## Проверка гипотиз"
   ]
  },
  {
   "cell_type": "markdown",
   "id": "8af7509c",
   "metadata": {},
   "source": [
    "#### Гипотеза №1:\n",
    "Средняя выручка пользователей тарифов «Ультра» и «Смарт» различаются.\n",
    "\n",
    "Исходя из формулировки гипотезы мы можем выдвинуть Ho как «Средняя выручка пользователей тарифов «Ультра» и «Смарт» не различаются.», а H1 как «Средняя выручка пользователей тарифов «Ультра» и «Смарт» различаются.»."
   ]
  },
  {
   "cell_type": "code",
   "execution_count": 54,
   "id": "edac523e",
   "metadata": {},
   "outputs": [
    {
     "name": "stdout",
     "output_type": "stream",
     "text": [
      "p-значение: 5.133013116078655e-296\n",
      "Отвергаем нулевую гипотезу\n"
     ]
    }
   ],
   "source": [
    "ultra = data_united.query('tariff == \"ultra\"')['revenue']\n",
    "smart = data_united.query('tariff == \"smart\"')['revenue']\n",
    "\n",
    "\n",
    "alpha = 0.05 # критический уровень статистической значимости\n",
    "\n",
    "results = st.ttest_ind(ultra, smart, equal_var=False)\n",
    "\n",
    "print('p-значение:', results.pvalue)\n",
    "\n",
    "if (results.pvalue < alpha):\n",
    "    print(\"Отвергаем нулевую гипотезу\")\n",
    "else:\n",
    "    print(\"Не получилось отвергнуть нулевую гипотезу\")"
   ]
  },
  {
   "cell_type": "markdown",
   "id": "b107ac3b",
   "metadata": {},
   "source": [
    "#### Гипотеза №2:\n",
    "Средняя выручка пользователей из Москвы отличается от выручки пользователей из других регионов.\n",
    "\n",
    "За Ho примем «Средняя выручка пользователей из Москвы не отличается от выручки пользователей из других регионов.», за H1  примем «Средняя выручка пользователей из Москвы отличается от выручки пользователей из других регионов.»."
   ]
  },
  {
   "cell_type": "code",
   "execution_count": 55,
   "id": "507eb0c0",
   "metadata": {},
   "outputs": [
    {
     "name": "stderr",
     "output_type": "stream",
     "text": [
      "/opt/conda/lib/python3.9/site-packages/IPython/core/interactiveshell.py:2898: PerformanceWarning: indexing past lexsort depth may impact performance.\n",
      "  result = self._run_cell(\n"
     ]
    },
    {
     "name": "stdout",
     "output_type": "stream",
     "text": [
      "p-значение: 0.4546446281204245\n",
      "Не получилось отвергнуть нулевую гипотезу\n"
     ]
    }
   ],
   "source": [
    "for user in data_united.index:\n",
    "    data_united.loc[user, 'city'] = df_users.loc[user[0]-1000, 'city']\n",
    "\n",
    "moscow = data_united.query('city == \"Москва\"')['revenue']\n",
    "regions = data_united.query('city != \"Москва\"')['revenue']\n",
    "\n",
    "alpha = 0.05 # критический уровень статистической значимости\n",
    "\n",
    "\n",
    "results = st.ttest_ind(moscow, regions, equal_var=False)\n",
    "\n",
    "print('p-значение:', results.pvalue)\n",
    "\n",
    "if (results.pvalue < alpha):\n",
    "    print(\"Отвергаем нулевую гипотезу\")\n",
    "else:\n",
    "    print(\"Не получилось отвергнуть нулевую гипотезу\")"
   ]
  },
  {
   "cell_type": "markdown",
   "id": "d83d8900",
   "metadata": {},
   "source": [
    "#### Вывод\n",
    "\n",
    "* Гипотеза о том, что средняя выручка пользователей тарифов «Ультра» и «Смарт» различаются верна.\n",
    "* Гипотеза о том, что средняя выручка пользователей из Москвы отличается от выручки пользователей из других регионов не верна."
   ]
  },
  {
   "cell_type": "markdown",
   "id": "b00e1aab",
   "metadata": {},
   "source": [
    "## Общий вывод"
   ]
  },
  {
   "cell_type": "markdown",
   "id": "5f77bf18",
   "metadata": {},
   "source": [
    "Подводя итог проделанной работы можно сделать следующие выводы:\n",
    "\n",
    "Тариф `Smart`:\n",
    "\n",
    "* Лишь 25% пользователей тарифа `Smart` укладываются в абанентскую плату согластно тарифа.\n",
    "* 75% пользователей тарифа `Smart` расходуют интернет трафик сверх пакета, 15.85Гб. столько трафика в среднем расходует в месяц пользователь тарифа `Smart`.\n",
    "* В среднем пользователи тарифа `Smart` используют 421 минуту, что укладывается в пакет минут включенных в тариф, однако почти трети клиентов лимита заложенного в пакет не хватает. \n",
    "* Из доступных 50 СМС в среднем используются лишь 38 сообщений, прогресс не стоит на месте и СМС становятся рудементом нежели удобным средством общения. \n",
    "\n",
    "Тариф `Ultra`:\n",
    "\n",
    "* Не смотря на то что в тариф `Ultra` включает в стандартный пакет 3000 минут, среднестатистический пользователь тратит около 550 минут.\n",
    "* Болшенству пользователей не пригодился пакет с 1000 СМС в среднем хватает и 65.\n",
    "* В среднем 20Гб. из 30 тратят пользователи тарифа `Ultra`.\n",
    "\n",
    "С точки зрения поведения клиентов более удобным является тариф `Smart`, так как даже с учетом того что многие выходят за рамки входящих в тариф пакетов минут, СМС и интернет трафика, тариф `Smart`, в среднем обходится на 717 рублей дешевле тарифа `Ultra`, хотя изначально почти в 3 раза дешевле.\n",
    "\n",
    "Если смотреть на картину с точки зрения компании \"МегаЛайн\", то тариф `Ultra` является более предпочтительным для дальнешего продвижения, ведь даже самые экономичные клиенты (те что не выходят за рамки стандартных пакетов) приносят дахода больше чем большинство клиентов тарифа `Smart` превышающих лимит стандартного пакета.\n",
    "\n",
    "Удалось проверить 2 гипотезы:\n",
    "\n",
    "\n",
    "Гипотеза №1: Средняя выручка пользователей тарифов «Ультра» и «Смарт» различаются. - подтвердилась.\n",
    "\n",
    "Гипотеза №2: Средняя выручка пользователей из Москвы отличается от выручки пользователей из других регионов. - не подтвердилась. "
   ]
  }
 ],
 "metadata": {
  "ExecuteTimeLog": [
   {
    "duration": 1454,
    "start_time": "2022-04-22T15:55:50.439Z"
   },
   {
    "duration": 0,
    "start_time": "2022-04-22T15:55:51.900Z"
   },
   {
    "duration": 0,
    "start_time": "2022-04-22T15:55:51.901Z"
   },
   {
    "duration": 0,
    "start_time": "2022-04-22T15:55:51.902Z"
   },
   {
    "duration": 0,
    "start_time": "2022-04-22T15:55:51.903Z"
   },
   {
    "duration": 0,
    "start_time": "2022-04-22T15:55:51.904Z"
   },
   {
    "duration": 0,
    "start_time": "2022-04-22T15:55:51.905Z"
   },
   {
    "duration": 0,
    "start_time": "2022-04-22T15:55:51.906Z"
   },
   {
    "duration": 0,
    "start_time": "2022-04-22T15:55:51.907Z"
   },
   {
    "duration": 0,
    "start_time": "2022-04-22T15:55:51.908Z"
   },
   {
    "duration": 0,
    "start_time": "2022-04-22T15:55:51.909Z"
   },
   {
    "duration": 0,
    "start_time": "2022-04-22T15:55:51.910Z"
   },
   {
    "duration": 0,
    "start_time": "2022-04-22T15:55:51.911Z"
   },
   {
    "duration": 0,
    "start_time": "2022-04-22T15:55:51.912Z"
   },
   {
    "duration": 0,
    "start_time": "2022-04-22T15:55:51.913Z"
   },
   {
    "duration": 0,
    "start_time": "2022-04-22T15:55:51.914Z"
   },
   {
    "duration": 0,
    "start_time": "2022-04-22T15:55:51.915Z"
   },
   {
    "duration": 0,
    "start_time": "2022-04-22T15:55:51.916Z"
   },
   {
    "duration": 0,
    "start_time": "2022-04-22T15:55:51.918Z"
   },
   {
    "duration": 0,
    "start_time": "2022-04-22T15:55:51.919Z"
   },
   {
    "duration": 0,
    "start_time": "2022-04-22T15:55:51.920Z"
   },
   {
    "duration": 0,
    "start_time": "2022-04-22T15:55:51.921Z"
   },
   {
    "duration": 0,
    "start_time": "2022-04-22T15:55:51.922Z"
   },
   {
    "duration": 0,
    "start_time": "2022-04-22T15:55:51.924Z"
   },
   {
    "duration": 0,
    "start_time": "2022-04-22T15:55:51.925Z"
   },
   {
    "duration": 0,
    "start_time": "2022-04-22T15:55:51.927Z"
   },
   {
    "duration": 0,
    "start_time": "2022-04-22T15:55:51.928Z"
   },
   {
    "duration": 0,
    "start_time": "2022-04-22T15:55:51.929Z"
   },
   {
    "duration": 0,
    "start_time": "2022-04-22T15:55:51.930Z"
   },
   {
    "duration": 1,
    "start_time": "2022-04-22T15:55:51.931Z"
   },
   {
    "duration": 0,
    "start_time": "2022-04-22T15:55:51.933Z"
   },
   {
    "duration": 0,
    "start_time": "2022-04-22T15:55:51.934Z"
   },
   {
    "duration": 0,
    "start_time": "2022-04-22T15:55:51.936Z"
   },
   {
    "duration": 0,
    "start_time": "2022-04-22T15:55:51.937Z"
   },
   {
    "duration": 0,
    "start_time": "2022-04-22T15:55:51.938Z"
   },
   {
    "duration": 0,
    "start_time": "2022-04-22T15:55:51.939Z"
   },
   {
    "duration": 0,
    "start_time": "2022-04-22T15:55:51.941Z"
   },
   {
    "duration": 0,
    "start_time": "2022-04-22T15:55:51.942Z"
   },
   {
    "duration": 0,
    "start_time": "2022-04-22T15:55:52.000Z"
   },
   {
    "duration": 0,
    "start_time": "2022-04-22T15:55:52.002Z"
   },
   {
    "duration": 0,
    "start_time": "2022-04-22T15:55:52.003Z"
   },
   {
    "duration": 1639,
    "start_time": "2022-04-22T15:59:47.396Z"
   },
   {
    "duration": 37,
    "start_time": "2022-04-22T15:59:49.037Z"
   },
   {
    "duration": 11,
    "start_time": "2022-04-22T15:59:49.076Z"
   },
   {
    "duration": 18,
    "start_time": "2022-04-22T15:59:49.090Z"
   },
   {
    "duration": 20,
    "start_time": "2022-04-22T15:59:49.110Z"
   },
   {
    "duration": 10,
    "start_time": "2022-04-22T15:59:49.131Z"
   },
   {
    "duration": 29,
    "start_time": "2022-04-22T15:59:49.143Z"
   },
   {
    "duration": 46,
    "start_time": "2022-04-22T15:59:49.174Z"
   },
   {
    "duration": 8,
    "start_time": "2022-04-22T15:59:49.221Z"
   },
   {
    "duration": 16,
    "start_time": "2022-04-22T15:59:49.231Z"
   },
   {
    "duration": 11,
    "start_time": "2022-04-22T15:59:49.248Z"
   },
   {
    "duration": 19,
    "start_time": "2022-04-22T15:59:49.261Z"
   },
   {
    "duration": 25,
    "start_time": "2022-04-22T15:59:49.282Z"
   },
   {
    "duration": 19,
    "start_time": "2022-04-22T15:59:49.309Z"
   },
   {
    "duration": 25,
    "start_time": "2022-04-22T15:59:49.330Z"
   },
   {
    "duration": 35,
    "start_time": "2022-04-22T15:59:49.357Z"
   },
   {
    "duration": 17,
    "start_time": "2022-04-22T15:59:49.394Z"
   },
   {
    "duration": 19,
    "start_time": "2022-04-22T15:59:49.413Z"
   },
   {
    "duration": 12,
    "start_time": "2022-04-22T15:59:49.434Z"
   },
   {
    "duration": 59,
    "start_time": "2022-04-22T15:59:49.447Z"
   },
   {
    "duration": 21,
    "start_time": "2022-04-22T15:59:49.507Z"
   },
   {
    "duration": 20,
    "start_time": "2022-04-22T15:59:49.530Z"
   },
   {
    "duration": 17,
    "start_time": "2022-04-22T15:59:49.552Z"
   },
   {
    "duration": 31,
    "start_time": "2022-04-22T15:59:49.570Z"
   },
   {
    "duration": 14,
    "start_time": "2022-04-22T15:59:49.603Z"
   },
   {
    "duration": 84,
    "start_time": "2022-04-22T15:59:49.619Z"
   },
   {
    "duration": 51,
    "start_time": "2022-04-22T15:59:49.705Z"
   },
   {
    "duration": 75,
    "start_time": "2022-04-22T15:59:49.760Z"
   },
   {
    "duration": 63,
    "start_time": "2022-04-22T15:59:49.838Z"
   },
   {
    "duration": 14,
    "start_time": "2022-04-22T15:59:49.903Z"
   },
   {
    "duration": 4,
    "start_time": "2022-04-22T15:59:49.919Z"
   },
   {
    "duration": 164,
    "start_time": "2022-04-22T15:59:49.925Z"
   },
   {
    "duration": 36,
    "start_time": "2022-04-22T15:59:50.091Z"
   },
   {
    "duration": 432,
    "start_time": "2022-04-22T15:59:50.129Z"
   },
   {
    "duration": 352,
    "start_time": "2022-04-22T15:59:50.563Z"
   },
   {
    "duration": 377,
    "start_time": "2022-04-22T15:59:50.917Z"
   },
   {
    "duration": 377,
    "start_time": "2022-04-22T15:59:51.300Z"
   },
   {
    "duration": 340,
    "start_time": "2022-04-22T15:59:51.678Z"
   },
   {
    "duration": 370,
    "start_time": "2022-04-22T15:59:52.020Z"
   },
   {
    "duration": 111,
    "start_time": "2022-04-22T15:59:52.391Z"
   },
   {
    "duration": 111,
    "start_time": "2022-04-22T15:59:52.504Z"
   },
   {
    "duration": 2391,
    "start_time": "2022-04-23T07:15:53.513Z"
   },
   {
    "duration": 43,
    "start_time": "2022-04-23T07:15:55.907Z"
   },
   {
    "duration": 30,
    "start_time": "2022-04-23T07:15:55.953Z"
   },
   {
    "duration": 45,
    "start_time": "2022-04-23T07:15:55.986Z"
   },
   {
    "duration": 31,
    "start_time": "2022-04-23T07:15:56.035Z"
   },
   {
    "duration": 14,
    "start_time": "2022-04-23T07:15:56.068Z"
   },
   {
    "duration": 69,
    "start_time": "2022-04-23T07:15:56.085Z"
   },
   {
    "duration": 24,
    "start_time": "2022-04-23T07:15:56.157Z"
   },
   {
    "duration": 29,
    "start_time": "2022-04-23T07:15:56.184Z"
   },
   {
    "duration": 24,
    "start_time": "2022-04-23T07:15:56.227Z"
   },
   {
    "duration": 28,
    "start_time": "2022-04-23T07:15:56.256Z"
   },
   {
    "duration": 21,
    "start_time": "2022-04-23T07:15:56.286Z"
   },
   {
    "duration": 48,
    "start_time": "2022-04-23T07:15:56.309Z"
   },
   {
    "duration": 36,
    "start_time": "2022-04-23T07:15:56.360Z"
   },
   {
    "duration": 34,
    "start_time": "2022-04-23T07:15:56.399Z"
   },
   {
    "duration": 67,
    "start_time": "2022-04-23T07:15:56.435Z"
   },
   {
    "duration": 34,
    "start_time": "2022-04-23T07:15:56.504Z"
   },
   {
    "duration": 17,
    "start_time": "2022-04-23T07:15:56.541Z"
   },
   {
    "duration": 18,
    "start_time": "2022-04-23T07:15:56.560Z"
   },
   {
    "duration": 84,
    "start_time": "2022-04-23T07:15:56.581Z"
   },
   {
    "duration": 22,
    "start_time": "2022-04-23T07:15:56.668Z"
   },
   {
    "duration": 44,
    "start_time": "2022-04-23T07:15:56.692Z"
   },
   {
    "duration": 29,
    "start_time": "2022-04-23T07:15:56.739Z"
   },
   {
    "duration": 9,
    "start_time": "2022-04-23T07:15:56.771Z"
   },
   {
    "duration": 52,
    "start_time": "2022-04-23T07:15:56.783Z"
   },
   {
    "duration": 124,
    "start_time": "2022-04-23T07:15:56.839Z"
   },
   {
    "duration": 77,
    "start_time": "2022-04-23T07:15:56.965Z"
   },
   {
    "duration": 100,
    "start_time": "2022-04-23T07:15:57.048Z"
   },
   {
    "duration": 105,
    "start_time": "2022-04-23T07:15:57.150Z"
   },
   {
    "duration": 23,
    "start_time": "2022-04-23T07:15:57.258Z"
   },
   {
    "duration": 18,
    "start_time": "2022-04-23T07:15:57.283Z"
   },
   {
    "duration": 224,
    "start_time": "2022-04-23T07:15:57.303Z"
   },
   {
    "duration": 39,
    "start_time": "2022-04-23T07:15:57.530Z"
   },
   {
    "duration": 559,
    "start_time": "2022-04-23T07:15:57.571Z"
   },
   {
    "duration": 528,
    "start_time": "2022-04-23T07:15:58.133Z"
   },
   {
    "duration": 530,
    "start_time": "2022-04-23T07:15:58.663Z"
   },
   {
    "duration": 493,
    "start_time": "2022-04-23T07:15:59.195Z"
   },
   {
    "duration": 481,
    "start_time": "2022-04-23T07:15:59.690Z"
   },
   {
    "duration": 615,
    "start_time": "2022-04-23T07:16:00.173Z"
   },
   {
    "duration": 161,
    "start_time": "2022-04-23T07:16:00.790Z"
   },
   {
    "duration": 178,
    "start_time": "2022-04-23T07:16:00.953Z"
   },
   {
    "duration": 629,
    "start_time": "2022-04-23T07:24:25.647Z"
   },
   {
    "duration": 2139,
    "start_time": "2022-04-23T07:24:35.031Z"
   },
   {
    "duration": 34,
    "start_time": "2022-04-23T07:24:37.173Z"
   },
   {
    "duration": 19,
    "start_time": "2022-04-23T07:24:37.209Z"
   },
   {
    "duration": 28,
    "start_time": "2022-04-23T07:24:37.231Z"
   },
   {
    "duration": 28,
    "start_time": "2022-04-23T07:24:37.262Z"
   },
   {
    "duration": 47,
    "start_time": "2022-04-23T07:24:37.292Z"
   },
   {
    "duration": 29,
    "start_time": "2022-04-23T07:24:37.342Z"
   },
   {
    "duration": 25,
    "start_time": "2022-04-23T07:24:37.373Z"
   },
   {
    "duration": 39,
    "start_time": "2022-04-23T07:24:37.400Z"
   },
   {
    "duration": 21,
    "start_time": "2022-04-23T07:24:37.442Z"
   },
   {
    "duration": 16,
    "start_time": "2022-04-23T07:24:37.466Z"
   },
   {
    "duration": 55,
    "start_time": "2022-04-23T07:24:37.484Z"
   },
   {
    "duration": 17,
    "start_time": "2022-04-23T07:24:37.542Z"
   },
   {
    "duration": 16,
    "start_time": "2022-04-23T07:24:37.564Z"
   },
   {
    "duration": 48,
    "start_time": "2022-04-23T07:24:37.582Z"
   },
   {
    "duration": 51,
    "start_time": "2022-04-23T07:24:37.633Z"
   },
   {
    "duration": 44,
    "start_time": "2022-04-23T07:24:37.686Z"
   },
   {
    "duration": 9,
    "start_time": "2022-04-23T07:24:37.733Z"
   },
   {
    "duration": 12,
    "start_time": "2022-04-23T07:24:37.744Z"
   },
   {
    "duration": 70,
    "start_time": "2022-04-23T07:24:37.758Z"
   },
   {
    "duration": 26,
    "start_time": "2022-04-23T07:24:37.832Z"
   },
   {
    "duration": 29,
    "start_time": "2022-04-23T07:24:37.860Z"
   },
   {
    "duration": 47,
    "start_time": "2022-04-23T07:24:37.891Z"
   },
   {
    "duration": 8,
    "start_time": "2022-04-23T07:24:37.941Z"
   },
   {
    "duration": 16,
    "start_time": "2022-04-23T07:24:37.951Z"
   },
   {
    "duration": 137,
    "start_time": "2022-04-23T07:24:37.970Z"
   },
   {
    "duration": 70,
    "start_time": "2022-04-23T07:24:38.109Z"
   },
   {
    "duration": 97,
    "start_time": "2022-04-23T07:24:38.181Z"
   },
   {
    "duration": 95,
    "start_time": "2022-04-23T07:24:38.280Z"
   },
   {
    "duration": 18,
    "start_time": "2022-04-23T07:24:38.378Z"
   },
   {
    "duration": 4,
    "start_time": "2022-04-23T07:24:38.398Z"
   },
   {
    "duration": 219,
    "start_time": "2022-04-23T07:24:38.426Z"
   },
   {
    "duration": 36,
    "start_time": "2022-04-23T07:24:38.648Z"
   },
   {
    "duration": 546,
    "start_time": "2022-04-23T07:24:38.687Z"
   },
   {
    "duration": 527,
    "start_time": "2022-04-23T07:24:39.236Z"
   },
   {
    "duration": 532,
    "start_time": "2022-04-23T07:24:39.765Z"
   },
   {
    "duration": 494,
    "start_time": "2022-04-23T07:24:40.300Z"
   },
   {
    "duration": 494,
    "start_time": "2022-04-23T07:24:40.796Z"
   },
   {
    "duration": 586,
    "start_time": "2022-04-23T07:24:41.292Z"
   },
   {
    "duration": 164,
    "start_time": "2022-04-23T07:24:41.880Z"
   },
   {
    "duration": 183,
    "start_time": "2022-04-23T07:24:42.049Z"
   },
   {
    "duration": 2061,
    "start_time": "2022-04-23T07:32:58.738Z"
   },
   {
    "duration": 0,
    "start_time": "2022-04-23T07:33:00.801Z"
   },
   {
    "duration": 2097,
    "start_time": "2022-04-23T07:33:14.097Z"
   },
   {
    "duration": 40,
    "start_time": "2022-04-23T07:33:16.197Z"
   },
   {
    "duration": 22,
    "start_time": "2022-04-23T07:33:16.240Z"
   },
   {
    "duration": 28,
    "start_time": "2022-04-23T07:33:16.265Z"
   },
   {
    "duration": 52,
    "start_time": "2022-04-23T07:33:16.295Z"
   },
   {
    "duration": 13,
    "start_time": "2022-04-23T07:33:16.349Z"
   },
   {
    "duration": 26,
    "start_time": "2022-04-23T07:33:16.364Z"
   },
   {
    "duration": 57,
    "start_time": "2022-04-23T07:33:16.393Z"
   },
   {
    "duration": 10,
    "start_time": "2022-04-23T07:33:16.452Z"
   },
   {
    "duration": 20,
    "start_time": "2022-04-23T07:33:16.466Z"
   },
   {
    "duration": 52,
    "start_time": "2022-04-23T07:33:16.488Z"
   },
   {
    "duration": 16,
    "start_time": "2022-04-23T07:33:16.542Z"
   },
   {
    "duration": 30,
    "start_time": "2022-04-23T07:33:16.560Z"
   },
   {
    "duration": 36,
    "start_time": "2022-04-23T07:33:16.593Z"
   },
   {
    "duration": 10,
    "start_time": "2022-04-23T07:33:16.632Z"
   },
   {
    "duration": 53,
    "start_time": "2022-04-23T07:33:16.644Z"
   },
   {
    "duration": 54,
    "start_time": "2022-04-23T07:33:16.700Z"
   },
   {
    "duration": 6,
    "start_time": "2022-04-23T07:33:16.757Z"
   },
   {
    "duration": 15,
    "start_time": "2022-04-23T07:33:16.765Z"
   },
   {
    "duration": 77,
    "start_time": "2022-04-23T07:33:16.782Z"
   },
   {
    "duration": 22,
    "start_time": "2022-04-23T07:33:16.862Z"
   },
   {
    "duration": 50,
    "start_time": "2022-04-23T07:33:16.886Z"
   },
   {
    "duration": 23,
    "start_time": "2022-04-23T07:33:16.939Z"
   },
   {
    "duration": 41,
    "start_time": "2022-04-23T07:33:16.964Z"
   },
   {
    "duration": 41,
    "start_time": "2022-04-23T07:33:17.007Z"
   },
   {
    "duration": 109,
    "start_time": "2022-04-23T07:33:17.051Z"
   },
   {
    "duration": 86,
    "start_time": "2022-04-23T07:33:17.162Z"
   },
   {
    "duration": 100,
    "start_time": "2022-04-23T07:33:17.253Z"
   },
   {
    "duration": 93,
    "start_time": "2022-04-23T07:33:17.355Z"
   },
   {
    "duration": 23,
    "start_time": "2022-04-23T07:33:17.451Z"
   },
   {
    "duration": 5,
    "start_time": "2022-04-23T07:33:17.476Z"
   },
   {
    "duration": 2473,
    "start_time": "2022-04-23T07:33:17.483Z"
   },
   {
    "duration": 0,
    "start_time": "2022-04-23T07:33:19.958Z"
   },
   {
    "duration": 0,
    "start_time": "2022-04-23T07:33:19.960Z"
   },
   {
    "duration": 0,
    "start_time": "2022-04-23T07:33:19.961Z"
   },
   {
    "duration": 0,
    "start_time": "2022-04-23T07:33:19.962Z"
   },
   {
    "duration": 0,
    "start_time": "2022-04-23T07:33:19.964Z"
   },
   {
    "duration": 0,
    "start_time": "2022-04-23T07:33:19.965Z"
   },
   {
    "duration": 0,
    "start_time": "2022-04-23T07:33:19.967Z"
   },
   {
    "duration": 0,
    "start_time": "2022-04-23T07:33:19.969Z"
   },
   {
    "duration": 0,
    "start_time": "2022-04-23T07:33:19.970Z"
   },
   {
    "duration": 94,
    "start_time": "2022-04-23T07:35:03.479Z"
   },
   {
    "duration": 102,
    "start_time": "2022-04-23T07:35:32.987Z"
   },
   {
    "duration": 2041,
    "start_time": "2022-04-23T07:35:57.137Z"
   },
   {
    "duration": 42,
    "start_time": "2022-04-23T07:35:59.207Z"
   },
   {
    "duration": 537,
    "start_time": "2022-04-23T07:36:57.313Z"
   },
   {
    "duration": 107,
    "start_time": "2022-04-23T07:39:51.307Z"
   },
   {
    "duration": 91,
    "start_time": "2022-04-23T07:40:59.810Z"
   },
   {
    "duration": 88,
    "start_time": "2022-04-23T07:41:14.010Z"
   },
   {
    "duration": 111,
    "start_time": "2022-04-23T07:46:07.727Z"
   },
   {
    "duration": 12,
    "start_time": "2022-04-23T07:50:26.490Z"
   },
   {
    "duration": 40,
    "start_time": "2022-04-23T07:51:40.638Z"
   },
   {
    "duration": 125,
    "start_time": "2022-04-23T07:53:06.266Z"
   },
   {
    "duration": 123,
    "start_time": "2022-04-23T07:53:40.442Z"
   },
   {
    "duration": 192,
    "start_time": "2022-04-23T07:53:51.568Z"
   },
   {
    "duration": 242,
    "start_time": "2022-04-23T07:59:33.438Z"
   },
   {
    "duration": 2084,
    "start_time": "2022-04-23T07:59:46.602Z"
   },
   {
    "duration": 47,
    "start_time": "2022-04-23T07:59:48.689Z"
   },
   {
    "duration": 18,
    "start_time": "2022-04-23T07:59:48.738Z"
   },
   {
    "duration": 27,
    "start_time": "2022-04-23T07:59:48.760Z"
   },
   {
    "duration": 54,
    "start_time": "2022-04-23T07:59:48.789Z"
   },
   {
    "duration": 13,
    "start_time": "2022-04-23T07:59:48.845Z"
   },
   {
    "duration": 23,
    "start_time": "2022-04-23T07:59:48.860Z"
   },
   {
    "duration": 58,
    "start_time": "2022-04-23T07:59:48.885Z"
   },
   {
    "duration": 11,
    "start_time": "2022-04-23T07:59:48.945Z"
   },
   {
    "duration": 19,
    "start_time": "2022-04-23T07:59:48.960Z"
   },
   {
    "duration": 15,
    "start_time": "2022-04-23T07:59:48.981Z"
   },
   {
    "duration": 48,
    "start_time": "2022-04-23T07:59:48.998Z"
   },
   {
    "duration": 16,
    "start_time": "2022-04-23T07:59:49.048Z"
   },
   {
    "duration": 18,
    "start_time": "2022-04-23T07:59:49.067Z"
   },
   {
    "duration": 11,
    "start_time": "2022-04-23T07:59:49.129Z"
   },
   {
    "duration": 51,
    "start_time": "2022-04-23T07:59:49.143Z"
   },
   {
    "duration": 46,
    "start_time": "2022-04-23T07:59:49.197Z"
   },
   {
    "duration": 7,
    "start_time": "2022-04-23T07:59:49.246Z"
   },
   {
    "duration": 18,
    "start_time": "2022-04-23T07:59:49.255Z"
   },
   {
    "duration": 67,
    "start_time": "2022-04-23T07:59:49.275Z"
   },
   {
    "duration": 25,
    "start_time": "2022-04-23T07:59:49.344Z"
   },
   {
    "duration": 61,
    "start_time": "2022-04-23T07:59:49.372Z"
   },
   {
    "duration": 29,
    "start_time": "2022-04-23T07:59:49.436Z"
   },
   {
    "duration": 8,
    "start_time": "2022-04-23T07:59:49.468Z"
   },
   {
    "duration": 18,
    "start_time": "2022-04-23T07:59:49.479Z"
   },
   {
    "duration": 268,
    "start_time": "2022-04-23T07:59:49.529Z"
   },
   {
    "duration": 191,
    "start_time": "2022-04-23T07:59:49.802Z"
   },
   {
    "duration": 0,
    "start_time": "2022-04-23T07:59:49.995Z"
   },
   {
    "duration": 0,
    "start_time": "2022-04-23T07:59:49.997Z"
   },
   {
    "duration": 0,
    "start_time": "2022-04-23T07:59:49.999Z"
   },
   {
    "duration": 0,
    "start_time": "2022-04-23T07:59:50.000Z"
   },
   {
    "duration": 0,
    "start_time": "2022-04-23T07:59:50.002Z"
   },
   {
    "duration": 0,
    "start_time": "2022-04-23T07:59:50.003Z"
   },
   {
    "duration": 0,
    "start_time": "2022-04-23T07:59:50.004Z"
   },
   {
    "duration": 0,
    "start_time": "2022-04-23T07:59:50.006Z"
   },
   {
    "duration": 0,
    "start_time": "2022-04-23T07:59:50.007Z"
   },
   {
    "duration": 0,
    "start_time": "2022-04-23T07:59:50.030Z"
   },
   {
    "duration": 0,
    "start_time": "2022-04-23T07:59:50.034Z"
   },
   {
    "duration": 1,
    "start_time": "2022-04-23T07:59:50.037Z"
   },
   {
    "duration": 0,
    "start_time": "2022-04-23T07:59:50.040Z"
   },
   {
    "duration": 0,
    "start_time": "2022-04-23T07:59:50.042Z"
   },
   {
    "duration": 216,
    "start_time": "2022-04-23T08:02:34.355Z"
   },
   {
    "duration": 97,
    "start_time": "2022-04-23T08:06:16.512Z"
   },
   {
    "duration": 125,
    "start_time": "2022-04-23T08:07:53.164Z"
   },
   {
    "duration": 157,
    "start_time": "2022-04-23T08:12:43.989Z"
   },
   {
    "duration": 13,
    "start_time": "2022-04-23T08:15:46.816Z"
   },
   {
    "duration": 2036,
    "start_time": "2022-04-23T08:17:25.282Z"
   },
   {
    "duration": 37,
    "start_time": "2022-04-23T08:17:27.321Z"
   },
   {
    "duration": 18,
    "start_time": "2022-04-23T08:17:27.360Z"
   },
   {
    "duration": 48,
    "start_time": "2022-04-23T08:17:27.381Z"
   },
   {
    "duration": 31,
    "start_time": "2022-04-23T08:17:27.431Z"
   },
   {
    "duration": 13,
    "start_time": "2022-04-23T08:17:27.464Z"
   },
   {
    "duration": 58,
    "start_time": "2022-04-23T08:17:27.480Z"
   },
   {
    "duration": 27,
    "start_time": "2022-04-23T08:17:27.540Z"
   },
   {
    "duration": 11,
    "start_time": "2022-04-23T08:17:27.569Z"
   },
   {
    "duration": 50,
    "start_time": "2022-04-23T08:17:27.584Z"
   },
   {
    "duration": 19,
    "start_time": "2022-04-23T08:17:27.636Z"
   },
   {
    "duration": 13,
    "start_time": "2022-04-23T08:17:27.658Z"
   },
   {
    "duration": 18,
    "start_time": "2022-04-23T08:17:27.673Z"
   },
   {
    "duration": 41,
    "start_time": "2022-04-23T08:17:27.693Z"
   },
   {
    "duration": 12,
    "start_time": "2022-04-23T08:17:27.737Z"
   },
   {
    "duration": 77,
    "start_time": "2022-04-23T08:17:27.751Z"
   },
   {
    "duration": 27,
    "start_time": "2022-04-23T08:17:27.831Z"
   },
   {
    "duration": 7,
    "start_time": "2022-04-23T08:17:27.860Z"
   },
   {
    "duration": 15,
    "start_time": "2022-04-23T08:17:27.869Z"
   },
   {
    "duration": 74,
    "start_time": "2022-04-23T08:17:27.886Z"
   },
   {
    "duration": 24,
    "start_time": "2022-04-23T08:17:27.962Z"
   },
   {
    "duration": 51,
    "start_time": "2022-04-23T08:17:27.988Z"
   },
   {
    "duration": 22,
    "start_time": "2022-04-23T08:17:28.042Z"
   },
   {
    "duration": 8,
    "start_time": "2022-04-23T08:17:28.066Z"
   },
   {
    "duration": 49,
    "start_time": "2022-04-23T08:17:28.076Z"
   },
   {
    "duration": 265,
    "start_time": "2022-04-23T08:17:28.127Z"
   },
   {
    "duration": 4,
    "start_time": "2022-04-23T08:17:28.394Z"
   },
   {
    "duration": 147,
    "start_time": "2022-04-23T08:17:28.406Z"
   },
   {
    "duration": 154,
    "start_time": "2022-04-23T08:17:28.555Z"
   },
   {
    "duration": 0,
    "start_time": "2022-04-23T08:17:28.712Z"
   },
   {
    "duration": 0,
    "start_time": "2022-04-23T08:17:28.714Z"
   },
   {
    "duration": 0,
    "start_time": "2022-04-23T08:17:28.724Z"
   },
   {
    "duration": 0,
    "start_time": "2022-04-23T08:17:28.726Z"
   },
   {
    "duration": 0,
    "start_time": "2022-04-23T08:17:28.728Z"
   },
   {
    "duration": 0,
    "start_time": "2022-04-23T08:17:28.729Z"
   },
   {
    "duration": 0,
    "start_time": "2022-04-23T08:17:28.731Z"
   },
   {
    "duration": 0,
    "start_time": "2022-04-23T08:17:28.733Z"
   },
   {
    "duration": 0,
    "start_time": "2022-04-23T08:17:28.734Z"
   },
   {
    "duration": 0,
    "start_time": "2022-04-23T08:17:28.736Z"
   },
   {
    "duration": 0,
    "start_time": "2022-04-23T08:17:28.737Z"
   },
   {
    "duration": 0,
    "start_time": "2022-04-23T08:17:28.739Z"
   },
   {
    "duration": 0,
    "start_time": "2022-04-23T08:17:28.741Z"
   },
   {
    "duration": 148,
    "start_time": "2022-04-23T08:19:21.040Z"
   },
   {
    "duration": 2090,
    "start_time": "2022-04-23T08:19:38.556Z"
   },
   {
    "duration": 36,
    "start_time": "2022-04-23T08:19:40.649Z"
   },
   {
    "duration": 18,
    "start_time": "2022-04-23T08:19:40.688Z"
   },
   {
    "duration": 35,
    "start_time": "2022-04-23T08:19:40.708Z"
   },
   {
    "duration": 30,
    "start_time": "2022-04-23T08:19:40.747Z"
   },
   {
    "duration": 45,
    "start_time": "2022-04-23T08:19:40.779Z"
   },
   {
    "duration": 23,
    "start_time": "2022-04-23T08:19:40.827Z"
   },
   {
    "duration": 26,
    "start_time": "2022-04-23T08:19:40.853Z"
   },
   {
    "duration": 44,
    "start_time": "2022-04-23T08:19:40.881Z"
   },
   {
    "duration": 27,
    "start_time": "2022-04-23T08:19:40.927Z"
   },
   {
    "duration": 15,
    "start_time": "2022-04-23T08:19:40.956Z"
   },
   {
    "duration": 17,
    "start_time": "2022-04-23T08:19:40.974Z"
   },
   {
    "duration": 47,
    "start_time": "2022-04-23T08:19:40.993Z"
   },
   {
    "duration": 17,
    "start_time": "2022-04-23T08:19:41.045Z"
   },
   {
    "duration": 10,
    "start_time": "2022-04-23T08:19:41.064Z"
   },
   {
    "duration": 92,
    "start_time": "2022-04-23T08:19:41.076Z"
   },
   {
    "duration": 27,
    "start_time": "2022-04-23T08:19:41.170Z"
   },
   {
    "duration": 25,
    "start_time": "2022-04-23T08:19:41.199Z"
   },
   {
    "duration": 12,
    "start_time": "2022-04-23T08:19:41.227Z"
   },
   {
    "duration": 43,
    "start_time": "2022-04-23T08:19:41.241Z"
   },
   {
    "duration": 49,
    "start_time": "2022-04-23T08:19:41.287Z"
   },
   {
    "duration": 34,
    "start_time": "2022-04-23T08:19:41.338Z"
   },
   {
    "duration": 57,
    "start_time": "2022-04-23T08:19:41.374Z"
   },
   {
    "duration": 9,
    "start_time": "2022-04-23T08:19:41.434Z"
   },
   {
    "duration": 20,
    "start_time": "2022-04-23T08:19:41.446Z"
   },
   {
    "duration": 275,
    "start_time": "2022-04-23T08:19:41.469Z"
   },
   {
    "duration": 4,
    "start_time": "2022-04-23T08:19:41.747Z"
   },
   {
    "duration": 147,
    "start_time": "2022-04-23T08:19:41.754Z"
   },
   {
    "duration": 154,
    "start_time": "2022-04-23T08:19:41.904Z"
   },
   {
    "duration": 2036,
    "start_time": "2022-04-23T08:20:43.206Z"
   },
   {
    "duration": 38,
    "start_time": "2022-04-23T08:20:45.245Z"
   },
   {
    "duration": 21,
    "start_time": "2022-04-23T08:20:45.286Z"
   },
   {
    "duration": 30,
    "start_time": "2022-04-23T08:20:45.326Z"
   },
   {
    "duration": 31,
    "start_time": "2022-04-23T08:20:45.358Z"
   },
   {
    "duration": 43,
    "start_time": "2022-04-23T08:20:45.392Z"
   },
   {
    "duration": 24,
    "start_time": "2022-04-23T08:20:45.438Z"
   },
   {
    "duration": 60,
    "start_time": "2022-04-23T08:20:45.465Z"
   },
   {
    "duration": 11,
    "start_time": "2022-04-23T08:20:45.528Z"
   },
   {
    "duration": 30,
    "start_time": "2022-04-23T08:20:45.545Z"
   },
   {
    "duration": 18,
    "start_time": "2022-04-23T08:20:45.577Z"
   },
   {
    "duration": 12,
    "start_time": "2022-04-23T08:20:45.624Z"
   },
   {
    "duration": 20,
    "start_time": "2022-04-23T08:20:45.638Z"
   },
   {
    "duration": 28,
    "start_time": "2022-04-23T08:20:45.660Z"
   },
   {
    "duration": 36,
    "start_time": "2022-04-23T08:20:45.690Z"
   },
   {
    "duration": 54,
    "start_time": "2022-04-23T08:20:45.728Z"
   },
   {
    "duration": 43,
    "start_time": "2022-04-23T08:20:45.784Z"
   },
   {
    "duration": 6,
    "start_time": "2022-04-23T08:20:45.830Z"
   },
   {
    "duration": 23,
    "start_time": "2022-04-23T08:20:45.839Z"
   },
   {
    "duration": 48,
    "start_time": "2022-04-23T08:20:45.864Z"
   },
   {
    "duration": 24,
    "start_time": "2022-04-23T08:20:45.925Z"
   },
   {
    "duration": 31,
    "start_time": "2022-04-23T08:20:45.952Z"
   },
   {
    "duration": 47,
    "start_time": "2022-04-23T08:20:45.985Z"
   },
   {
    "duration": 10,
    "start_time": "2022-04-23T08:20:46.034Z"
   },
   {
    "duration": 23,
    "start_time": "2022-04-23T08:20:46.046Z"
   },
   {
    "duration": 272,
    "start_time": "2022-04-23T08:20:46.072Z"
   },
   {
    "duration": 3,
    "start_time": "2022-04-23T08:20:46.346Z"
   },
   {
    "duration": 137,
    "start_time": "2022-04-23T08:20:46.355Z"
   },
   {
    "duration": 152,
    "start_time": "2022-04-23T08:20:46.494Z"
   },
   {
    "duration": 1998,
    "start_time": "2022-04-23T08:21:39.634Z"
   },
   {
    "duration": 36,
    "start_time": "2022-04-23T08:21:41.635Z"
   },
   {
    "duration": 18,
    "start_time": "2022-04-23T08:21:41.674Z"
   },
   {
    "duration": 46,
    "start_time": "2022-04-23T08:21:41.696Z"
   },
   {
    "duration": 29,
    "start_time": "2022-04-23T08:21:41.744Z"
   },
   {
    "duration": 48,
    "start_time": "2022-04-23T08:21:41.776Z"
   },
   {
    "duration": 21,
    "start_time": "2022-04-23T08:21:41.827Z"
   },
   {
    "duration": 24,
    "start_time": "2022-04-23T08:21:41.851Z"
   },
   {
    "duration": 49,
    "start_time": "2022-04-23T08:21:41.877Z"
   },
   {
    "duration": 19,
    "start_time": "2022-04-23T08:21:41.930Z"
   },
   {
    "duration": 16,
    "start_time": "2022-04-23T08:21:41.951Z"
   },
   {
    "duration": 20,
    "start_time": "2022-04-23T08:21:41.969Z"
   },
   {
    "duration": 16,
    "start_time": "2022-04-23T08:21:42.025Z"
   },
   {
    "duration": 18,
    "start_time": "2022-04-23T08:21:42.044Z"
   },
   {
    "duration": 10,
    "start_time": "2022-04-23T08:21:42.064Z"
   },
   {
    "duration": 92,
    "start_time": "2022-04-23T08:21:42.076Z"
   },
   {
    "duration": 27,
    "start_time": "2022-04-23T08:21:42.170Z"
   },
   {
    "duration": 29,
    "start_time": "2022-04-23T08:21:42.199Z"
   },
   {
    "duration": 13,
    "start_time": "2022-04-23T08:21:42.230Z"
   },
   {
    "duration": 40,
    "start_time": "2022-04-23T08:21:42.245Z"
   },
   {
    "duration": 55,
    "start_time": "2022-04-23T08:21:42.288Z"
   },
   {
    "duration": 30,
    "start_time": "2022-04-23T08:21:42.345Z"
   },
   {
    "duration": 50,
    "start_time": "2022-04-23T08:21:42.377Z"
   },
   {
    "duration": 8,
    "start_time": "2022-04-23T08:21:42.430Z"
   },
   {
    "duration": 19,
    "start_time": "2022-04-23T08:21:42.440Z"
   },
   {
    "duration": 282,
    "start_time": "2022-04-23T08:21:42.462Z"
   },
   {
    "duration": 3,
    "start_time": "2022-04-23T08:21:42.747Z"
   },
   {
    "duration": 137,
    "start_time": "2022-04-23T08:21:42.755Z"
   },
   {
    "duration": 155,
    "start_time": "2022-04-23T08:21:42.894Z"
   },
   {
    "duration": 149,
    "start_time": "2022-04-23T08:21:43.051Z"
   },
   {
    "duration": 0,
    "start_time": "2022-04-23T08:21:43.202Z"
   },
   {
    "duration": 0,
    "start_time": "2022-04-23T08:21:43.204Z"
   },
   {
    "duration": 0,
    "start_time": "2022-04-23T08:21:43.206Z"
   },
   {
    "duration": 0,
    "start_time": "2022-04-23T08:21:43.207Z"
   },
   {
    "duration": 0,
    "start_time": "2022-04-23T08:21:43.225Z"
   },
   {
    "duration": 0,
    "start_time": "2022-04-23T08:21:43.227Z"
   },
   {
    "duration": 0,
    "start_time": "2022-04-23T08:21:43.228Z"
   },
   {
    "duration": 0,
    "start_time": "2022-04-23T08:21:43.230Z"
   },
   {
    "duration": 0,
    "start_time": "2022-04-23T08:21:43.231Z"
   },
   {
    "duration": 0,
    "start_time": "2022-04-23T08:21:43.233Z"
   },
   {
    "duration": 0,
    "start_time": "2022-04-23T08:21:43.235Z"
   },
   {
    "duration": 0,
    "start_time": "2022-04-23T08:21:43.237Z"
   },
   {
    "duration": 41,
    "start_time": "2022-04-23T08:22:08.612Z"
   },
   {
    "duration": 11,
    "start_time": "2022-04-23T08:22:20.656Z"
   },
   {
    "duration": 109,
    "start_time": "2022-04-23T08:24:04.029Z"
   },
   {
    "duration": 12,
    "start_time": "2022-04-23T08:24:17.143Z"
   },
   {
    "duration": 13,
    "start_time": "2022-04-23T08:24:46.518Z"
   },
   {
    "duration": 13,
    "start_time": "2022-04-23T08:26:21.308Z"
   },
   {
    "duration": 202,
    "start_time": "2022-04-23T08:29:29.182Z"
   },
   {
    "duration": 12,
    "start_time": "2022-04-23T08:32:45.368Z"
   },
   {
    "duration": 205,
    "start_time": "2022-04-23T08:32:59.369Z"
   },
   {
    "duration": 3,
    "start_time": "2022-04-23T08:33:00.468Z"
   },
   {
    "duration": 210,
    "start_time": "2022-04-23T08:33:02.929Z"
   },
   {
    "duration": 142,
    "start_time": "2022-04-23T08:33:07.509Z"
   },
   {
    "duration": 35,
    "start_time": "2022-04-23T08:33:08.262Z"
   },
   {
    "duration": 214,
    "start_time": "2022-04-23T08:34:15.437Z"
   },
   {
    "duration": 36,
    "start_time": "2022-04-23T08:34:24.674Z"
   },
   {
    "duration": 55,
    "start_time": "2022-04-23T08:35:07.837Z"
   },
   {
    "duration": 9,
    "start_time": "2022-04-23T08:35:09.127Z"
   },
   {
    "duration": 3814,
    "start_time": "2022-04-23T08:35:17.845Z"
   },
   {
    "duration": 36,
    "start_time": "2022-04-23T08:35:21.662Z"
   },
   {
    "duration": 19,
    "start_time": "2022-04-23T08:35:21.700Z"
   },
   {
    "duration": 51,
    "start_time": "2022-04-23T08:35:21.721Z"
   },
   {
    "duration": 30,
    "start_time": "2022-04-23T08:35:21.774Z"
   },
   {
    "duration": 24,
    "start_time": "2022-04-23T08:35:21.806Z"
   },
   {
    "duration": 26,
    "start_time": "2022-04-23T08:35:21.834Z"
   },
   {
    "duration": 26,
    "start_time": "2022-04-23T08:35:21.863Z"
   },
   {
    "duration": 36,
    "start_time": "2022-04-23T08:35:21.892Z"
   },
   {
    "duration": 27,
    "start_time": "2022-04-23T08:35:21.934Z"
   },
   {
    "duration": 22,
    "start_time": "2022-04-23T08:35:21.964Z"
   },
   {
    "duration": 37,
    "start_time": "2022-04-23T08:35:21.988Z"
   },
   {
    "duration": 20,
    "start_time": "2022-04-23T08:35:22.028Z"
   },
   {
    "duration": 18,
    "start_time": "2022-04-23T08:35:22.050Z"
   },
   {
    "duration": 12,
    "start_time": "2022-04-23T08:35:22.071Z"
   },
   {
    "duration": 91,
    "start_time": "2022-04-23T08:35:22.086Z"
   },
   {
    "duration": 48,
    "start_time": "2022-04-23T08:35:22.179Z"
   },
   {
    "duration": 10,
    "start_time": "2022-04-23T08:35:22.231Z"
   },
   {
    "duration": 14,
    "start_time": "2022-04-23T08:35:22.243Z"
   },
   {
    "duration": 70,
    "start_time": "2022-04-23T08:35:22.259Z"
   },
   {
    "duration": 24,
    "start_time": "2022-04-23T08:35:22.333Z"
   },
   {
    "duration": 31,
    "start_time": "2022-04-23T08:35:22.359Z"
   },
   {
    "duration": 51,
    "start_time": "2022-04-23T08:35:22.392Z"
   },
   {
    "duration": 12,
    "start_time": "2022-04-23T08:35:22.445Z"
   },
   {
    "duration": 25,
    "start_time": "2022-04-23T08:35:22.460Z"
   },
   {
    "duration": 281,
    "start_time": "2022-04-23T08:35:22.487Z"
   },
   {
    "duration": 4,
    "start_time": "2022-04-23T08:35:22.771Z"
   },
   {
    "duration": 177,
    "start_time": "2022-04-23T08:35:22.781Z"
   },
   {
    "duration": 151,
    "start_time": "2022-04-23T08:35:22.960Z"
   },
   {
    "duration": 49,
    "start_time": "2022-04-23T08:35:23.114Z"
   },
   {
    "duration": 82,
    "start_time": "2022-04-23T08:35:23.166Z"
   },
   {
    "duration": 5,
    "start_time": "2022-04-23T08:35:23.250Z"
   },
   {
    "duration": 205,
    "start_time": "2022-04-23T08:35:23.258Z"
   },
   {
    "duration": 1,
    "start_time": "2022-04-23T08:35:23.466Z"
   },
   {
    "duration": 0,
    "start_time": "2022-04-23T08:35:23.468Z"
   },
   {
    "duration": 0,
    "start_time": "2022-04-23T08:35:23.470Z"
   },
   {
    "duration": 0,
    "start_time": "2022-04-23T08:35:23.472Z"
   },
   {
    "duration": 0,
    "start_time": "2022-04-23T08:35:23.474Z"
   },
   {
    "duration": 0,
    "start_time": "2022-04-23T08:35:23.475Z"
   },
   {
    "duration": 0,
    "start_time": "2022-04-23T08:35:23.476Z"
   },
   {
    "duration": 0,
    "start_time": "2022-04-23T08:35:23.477Z"
   },
   {
    "duration": 0,
    "start_time": "2022-04-23T08:35:23.478Z"
   },
   {
    "duration": 16,
    "start_time": "2022-04-23T08:38:19.469Z"
   },
   {
    "duration": 231,
    "start_time": "2022-04-23T08:38:40.796Z"
   },
   {
    "duration": 1877,
    "start_time": "2022-04-23T08:38:51.010Z"
   },
   {
    "duration": 0,
    "start_time": "2022-04-23T08:38:52.890Z"
   },
   {
    "duration": 1958,
    "start_time": "2022-04-23T08:42:21.713Z"
   },
   {
    "duration": 0,
    "start_time": "2022-04-23T08:42:23.673Z"
   },
   {
    "duration": 1908,
    "start_time": "2022-04-23T08:42:51.015Z"
   },
   {
    "duration": 0,
    "start_time": "2022-04-23T08:42:52.927Z"
   },
   {
    "duration": 2172,
    "start_time": "2022-04-23T08:44:31.936Z"
   },
   {
    "duration": 46,
    "start_time": "2022-04-23T08:44:34.111Z"
   },
   {
    "duration": 20,
    "start_time": "2022-04-23T08:44:34.160Z"
   },
   {
    "duration": 61,
    "start_time": "2022-04-23T08:44:34.184Z"
   },
   {
    "duration": 30,
    "start_time": "2022-04-23T08:44:34.248Z"
   },
   {
    "duration": 13,
    "start_time": "2022-04-23T08:44:34.281Z"
   },
   {
    "duration": 31,
    "start_time": "2022-04-23T08:44:34.325Z"
   },
   {
    "duration": 25,
    "start_time": "2022-04-23T08:44:34.359Z"
   },
   {
    "duration": 41,
    "start_time": "2022-04-23T08:44:34.386Z"
   },
   {
    "duration": 29,
    "start_time": "2022-04-23T08:44:34.433Z"
   },
   {
    "duration": 16,
    "start_time": "2022-04-23T08:44:34.464Z"
   },
   {
    "duration": 13,
    "start_time": "2022-04-23T08:44:34.482Z"
   },
   {
    "duration": 21,
    "start_time": "2022-04-23T08:44:34.525Z"
   },
   {
    "duration": 19,
    "start_time": "2022-04-23T08:44:34.548Z"
   },
   {
    "duration": 10,
    "start_time": "2022-04-23T08:44:34.569Z"
   },
   {
    "duration": 88,
    "start_time": "2022-04-23T08:44:34.581Z"
   },
   {
    "duration": 29,
    "start_time": "2022-04-23T08:44:34.671Z"
   },
   {
    "duration": 30,
    "start_time": "2022-04-23T08:44:34.702Z"
   },
   {
    "duration": 23,
    "start_time": "2022-04-23T08:44:34.736Z"
   },
   {
    "duration": 46,
    "start_time": "2022-04-23T08:44:34.761Z"
   },
   {
    "duration": 31,
    "start_time": "2022-04-23T08:44:34.827Z"
   },
   {
    "duration": 30,
    "start_time": "2022-04-23T08:44:34.861Z"
   },
   {
    "duration": 49,
    "start_time": "2022-04-23T08:44:34.893Z"
   },
   {
    "duration": 14,
    "start_time": "2022-04-23T08:44:34.945Z"
   },
   {
    "duration": 18,
    "start_time": "2022-04-23T08:44:34.961Z"
   },
   {
    "duration": 290,
    "start_time": "2022-04-23T08:44:34.982Z"
   },
   {
    "duration": 3,
    "start_time": "2022-04-23T08:44:35.274Z"
   },
   {
    "duration": 146,
    "start_time": "2022-04-23T08:44:35.282Z"
   },
   {
    "duration": 165,
    "start_time": "2022-04-23T08:44:35.431Z"
   },
   {
    "duration": 53,
    "start_time": "2022-04-23T08:44:35.598Z"
   },
   {
    "duration": 56,
    "start_time": "2022-04-23T08:44:35.653Z"
   },
   {
    "duration": 15,
    "start_time": "2022-04-23T08:44:35.711Z"
   },
   {
    "duration": 66608,
    "start_time": "2022-04-23T08:44:35.728Z"
   },
   {
    "duration": 22,
    "start_time": "2022-04-23T08:45:42.338Z"
   },
   {
    "duration": 2402,
    "start_time": "2022-04-23T08:45:42.362Z"
   },
   {
    "duration": 0,
    "start_time": "2022-04-23T08:45:44.766Z"
   },
   {
    "duration": 0,
    "start_time": "2022-04-23T08:45:44.768Z"
   },
   {
    "duration": 0,
    "start_time": "2022-04-23T08:45:44.769Z"
   },
   {
    "duration": 0,
    "start_time": "2022-04-23T08:45:44.771Z"
   },
   {
    "duration": 0,
    "start_time": "2022-04-23T08:45:44.773Z"
   },
   {
    "duration": 0,
    "start_time": "2022-04-23T08:45:44.774Z"
   },
   {
    "duration": 0,
    "start_time": "2022-04-23T08:45:44.776Z"
   },
   {
    "duration": 8,
    "start_time": "2022-04-23T08:54:36.083Z"
   },
   {
    "duration": 5,
    "start_time": "2022-04-23T08:56:30.610Z"
   },
   {
    "duration": 10,
    "start_time": "2022-04-23T08:56:39.290Z"
   },
   {
    "duration": 17,
    "start_time": "2022-04-23T08:56:59.549Z"
   },
   {
    "duration": 9,
    "start_time": "2022-04-23T08:57:50.236Z"
   },
   {
    "duration": 8,
    "start_time": "2022-04-23T08:57:50.767Z"
   },
   {
    "duration": 13,
    "start_time": "2022-04-23T08:57:51.788Z"
   },
   {
    "duration": 9,
    "start_time": "2022-04-23T08:58:23.095Z"
   },
   {
    "duration": 5,
    "start_time": "2022-04-23T08:59:05.212Z"
   },
   {
    "duration": 2171,
    "start_time": "2022-04-23T08:59:14.188Z"
   },
   {
    "duration": 37,
    "start_time": "2022-04-23T08:59:16.363Z"
   },
   {
    "duration": 23,
    "start_time": "2022-04-23T08:59:16.403Z"
   },
   {
    "duration": 30,
    "start_time": "2022-04-23T08:59:16.431Z"
   },
   {
    "duration": 29,
    "start_time": "2022-04-23T08:59:16.464Z"
   },
   {
    "duration": 47,
    "start_time": "2022-04-23T08:59:16.495Z"
   },
   {
    "duration": 27,
    "start_time": "2022-04-23T08:59:16.544Z"
   },
   {
    "duration": 52,
    "start_time": "2022-04-23T08:59:16.573Z"
   },
   {
    "duration": 15,
    "start_time": "2022-04-23T08:59:16.629Z"
   },
   {
    "duration": 21,
    "start_time": "2022-04-23T08:59:16.648Z"
   },
   {
    "duration": 16,
    "start_time": "2022-04-23T08:59:16.671Z"
   },
   {
    "duration": 58,
    "start_time": "2022-04-23T08:59:16.689Z"
   },
   {
    "duration": 29,
    "start_time": "2022-04-23T08:59:16.750Z"
   },
   {
    "duration": 25,
    "start_time": "2022-04-23T08:59:16.781Z"
   },
   {
    "duration": 17,
    "start_time": "2022-04-23T08:59:16.809Z"
   },
   {
    "duration": 59,
    "start_time": "2022-04-23T08:59:16.831Z"
   },
   {
    "duration": 49,
    "start_time": "2022-04-23T08:59:16.892Z"
   },
   {
    "duration": 7,
    "start_time": "2022-04-23T08:59:16.943Z"
   },
   {
    "duration": 13,
    "start_time": "2022-04-23T08:59:16.952Z"
   },
   {
    "duration": 78,
    "start_time": "2022-04-23T08:59:16.967Z"
   },
   {
    "duration": 24,
    "start_time": "2022-04-23T08:59:17.047Z"
   },
   {
    "duration": 52,
    "start_time": "2022-04-23T08:59:17.074Z"
   },
   {
    "duration": 25,
    "start_time": "2022-04-23T08:59:17.129Z"
   },
   {
    "duration": 9,
    "start_time": "2022-04-23T08:59:17.156Z"
   },
   {
    "duration": 20,
    "start_time": "2022-04-23T08:59:17.167Z"
   },
   {
    "duration": 287,
    "start_time": "2022-04-23T08:59:17.190Z"
   },
   {
    "duration": 3,
    "start_time": "2022-04-23T08:59:17.480Z"
   },
   {
    "duration": 148,
    "start_time": "2022-04-23T08:59:17.488Z"
   },
   {
    "duration": 158,
    "start_time": "2022-04-23T08:59:17.639Z"
   },
   {
    "duration": 47,
    "start_time": "2022-04-23T08:59:17.799Z"
   },
   {
    "duration": 8,
    "start_time": "2022-04-23T08:59:17.849Z"
   },
   {
    "duration": 6,
    "start_time": "2022-04-23T08:59:17.860Z"
   },
   {
    "duration": 93,
    "start_time": "2022-04-23T08:59:17.868Z"
   },
   {
    "duration": 5,
    "start_time": "2022-04-23T08:59:17.964Z"
   },
   {
    "duration": 2165,
    "start_time": "2022-04-23T09:00:19.252Z"
   },
   {
    "duration": 44,
    "start_time": "2022-04-23T09:00:21.419Z"
   },
   {
    "duration": 19,
    "start_time": "2022-04-23T09:00:21.465Z"
   },
   {
    "duration": 52,
    "start_time": "2022-04-23T09:00:21.487Z"
   },
   {
    "duration": 32,
    "start_time": "2022-04-23T09:00:21.541Z"
   },
   {
    "duration": 13,
    "start_time": "2022-04-23T09:00:21.575Z"
   },
   {
    "duration": 58,
    "start_time": "2022-04-23T09:00:21.590Z"
   },
   {
    "duration": 26,
    "start_time": "2022-04-23T09:00:21.651Z"
   },
   {
    "duration": 10,
    "start_time": "2022-04-23T09:00:21.679Z"
   },
   {
    "duration": 27,
    "start_time": "2022-04-23T09:00:21.724Z"
   },
   {
    "duration": 17,
    "start_time": "2022-04-23T09:00:21.754Z"
   },
   {
    "duration": 13,
    "start_time": "2022-04-23T09:00:21.773Z"
   },
   {
    "duration": 65,
    "start_time": "2022-04-23T09:00:21.789Z"
   },
   {
    "duration": 18,
    "start_time": "2022-04-23T09:00:21.857Z"
   },
   {
    "duration": 11,
    "start_time": "2022-04-23T09:00:21.878Z"
   },
   {
    "duration": 92,
    "start_time": "2022-04-23T09:00:21.892Z"
   },
   {
    "duration": 44,
    "start_time": "2022-04-23T09:00:21.986Z"
   },
   {
    "duration": 8,
    "start_time": "2022-04-23T09:00:22.033Z"
   },
   {
    "duration": 23,
    "start_time": "2022-04-23T09:00:22.044Z"
   },
   {
    "duration": 77,
    "start_time": "2022-04-23T09:00:22.070Z"
   },
   {
    "duration": 26,
    "start_time": "2022-04-23T09:00:22.151Z"
   },
   {
    "duration": 51,
    "start_time": "2022-04-23T09:00:22.180Z"
   },
   {
    "duration": 29,
    "start_time": "2022-04-23T09:00:22.234Z"
   },
   {
    "duration": 8,
    "start_time": "2022-04-23T09:00:22.266Z"
   },
   {
    "duration": 48,
    "start_time": "2022-04-23T09:00:22.277Z"
   },
   {
    "duration": 286,
    "start_time": "2022-04-23T09:00:22.328Z"
   },
   {
    "duration": 3,
    "start_time": "2022-04-23T09:00:22.617Z"
   },
   {
    "duration": 155,
    "start_time": "2022-04-23T09:00:22.634Z"
   },
   {
    "duration": 180,
    "start_time": "2022-04-23T09:00:22.791Z"
   },
   {
    "duration": 34,
    "start_time": "2022-04-23T09:00:22.973Z"
   },
   {
    "duration": 19,
    "start_time": "2022-04-23T09:00:23.010Z"
   },
   {
    "duration": 33,
    "start_time": "2022-04-23T09:00:23.032Z"
   },
   {
    "duration": 13,
    "start_time": "2022-04-23T09:00:23.067Z"
   },
   {
    "duration": 78,
    "start_time": "2022-04-23T09:00:23.082Z"
   },
   {
    "duration": 5,
    "start_time": "2022-04-23T09:00:23.162Z"
   },
   {
    "duration": 65898,
    "start_time": "2022-04-23T09:00:23.169Z"
   },
   {
    "duration": 16,
    "start_time": "2022-04-23T09:01:29.069Z"
   },
   {
    "duration": 1913,
    "start_time": "2022-04-23T09:01:29.088Z"
   },
   {
    "duration": 0,
    "start_time": "2022-04-23T09:01:31.004Z"
   },
   {
    "duration": 0,
    "start_time": "2022-04-23T09:01:31.006Z"
   },
   {
    "duration": 0,
    "start_time": "2022-04-23T09:01:31.008Z"
   },
   {
    "duration": 0,
    "start_time": "2022-04-23T09:01:31.009Z"
   },
   {
    "duration": 0,
    "start_time": "2022-04-23T09:01:31.010Z"
   },
   {
    "duration": 0,
    "start_time": "2022-04-23T09:01:31.012Z"
   },
   {
    "duration": 0,
    "start_time": "2022-04-23T09:01:31.013Z"
   },
   {
    "duration": 2023,
    "start_time": "2022-04-23T09:02:22.983Z"
   },
   {
    "duration": 14,
    "start_time": "2022-04-23T09:02:46.990Z"
   },
   {
    "duration": 2146,
    "start_time": "2022-04-23T09:05:20.239Z"
   },
   {
    "duration": 36,
    "start_time": "2022-04-23T09:05:22.389Z"
   },
   {
    "duration": 21,
    "start_time": "2022-04-23T09:05:22.429Z"
   },
   {
    "duration": 28,
    "start_time": "2022-04-23T09:05:22.453Z"
   },
   {
    "duration": 65,
    "start_time": "2022-04-23T09:05:22.483Z"
   },
   {
    "duration": 13,
    "start_time": "2022-04-23T09:05:22.550Z"
   },
   {
    "duration": 24,
    "start_time": "2022-04-23T09:05:22.565Z"
   },
   {
    "duration": 58,
    "start_time": "2022-04-23T09:05:22.591Z"
   },
   {
    "duration": 11,
    "start_time": "2022-04-23T09:05:22.651Z"
   },
   {
    "duration": 58,
    "start_time": "2022-04-23T09:05:22.668Z"
   },
   {
    "duration": 21,
    "start_time": "2022-04-23T09:05:22.729Z"
   },
   {
    "duration": 22,
    "start_time": "2022-04-23T09:05:22.752Z"
   },
   {
    "duration": 19,
    "start_time": "2022-04-23T09:05:22.776Z"
   },
   {
    "duration": 45,
    "start_time": "2022-04-23T09:05:22.797Z"
   },
   {
    "duration": 9,
    "start_time": "2022-04-23T09:05:22.845Z"
   },
   {
    "duration": 74,
    "start_time": "2022-04-23T09:05:22.857Z"
   },
   {
    "duration": 28,
    "start_time": "2022-04-23T09:05:22.934Z"
   },
   {
    "duration": 6,
    "start_time": "2022-04-23T09:05:22.964Z"
   },
   {
    "duration": 14,
    "start_time": "2022-04-23T09:05:22.973Z"
   },
   {
    "duration": 89,
    "start_time": "2022-04-23T09:05:22.989Z"
   },
   {
    "duration": 24,
    "start_time": "2022-04-23T09:05:23.080Z"
   },
   {
    "duration": 42,
    "start_time": "2022-04-23T09:05:23.106Z"
   },
   {
    "duration": 22,
    "start_time": "2022-04-23T09:05:23.151Z"
   },
   {
    "duration": 9,
    "start_time": "2022-04-23T09:05:23.175Z"
   },
   {
    "duration": 49,
    "start_time": "2022-04-23T09:05:23.186Z"
   },
   {
    "duration": 282,
    "start_time": "2022-04-23T09:05:23.238Z"
   },
   {
    "duration": 9,
    "start_time": "2022-04-23T09:05:23.525Z"
   },
   {
    "duration": 147,
    "start_time": "2022-04-23T09:05:23.541Z"
   },
   {
    "duration": 167,
    "start_time": "2022-04-23T09:05:23.690Z"
   },
   {
    "duration": 35,
    "start_time": "2022-04-23T09:05:23.861Z"
   },
   {
    "duration": 34,
    "start_time": "2022-04-23T09:05:23.899Z"
   },
   {
    "duration": 17,
    "start_time": "2022-04-23T09:05:23.936Z"
   },
   {
    "duration": 1969,
    "start_time": "2022-04-23T09:05:23.955Z"
   },
   {
    "duration": 18,
    "start_time": "2022-04-23T09:05:25.928Z"
   },
   {
    "duration": 76,
    "start_time": "2022-04-23T09:05:25.949Z"
   },
   {
    "duration": 7,
    "start_time": "2022-04-23T09:05:26.029Z"
   },
   {
    "duration": 79840,
    "start_time": "2022-04-23T09:05:26.039Z"
   },
   {
    "duration": 17,
    "start_time": "2022-04-23T09:06:45.881Z"
   },
   {
    "duration": 1998,
    "start_time": "2022-04-23T09:06:45.900Z"
   },
   {
    "duration": 0,
    "start_time": "2022-04-23T09:06:47.901Z"
   },
   {
    "duration": 0,
    "start_time": "2022-04-23T09:06:47.902Z"
   },
   {
    "duration": 0,
    "start_time": "2022-04-23T09:06:47.904Z"
   },
   {
    "duration": 0,
    "start_time": "2022-04-23T09:06:47.905Z"
   },
   {
    "duration": 0,
    "start_time": "2022-04-23T09:06:47.907Z"
   },
   {
    "duration": 0,
    "start_time": "2022-04-23T09:06:47.908Z"
   },
   {
    "duration": 0,
    "start_time": "2022-04-23T09:06:47.909Z"
   },
   {
    "duration": 2232,
    "start_time": "2022-04-23T09:07:31.958Z"
   },
   {
    "duration": 41,
    "start_time": "2022-04-23T09:07:34.193Z"
   },
   {
    "duration": 20,
    "start_time": "2022-04-23T09:07:34.237Z"
   },
   {
    "duration": 28,
    "start_time": "2022-04-23T09:07:34.261Z"
   },
   {
    "duration": 64,
    "start_time": "2022-04-23T09:07:34.291Z"
   },
   {
    "duration": 13,
    "start_time": "2022-04-23T09:07:34.357Z"
   },
   {
    "duration": 26,
    "start_time": "2022-04-23T09:07:34.372Z"
   },
   {
    "duration": 55,
    "start_time": "2022-04-23T09:07:34.401Z"
   },
   {
    "duration": 10,
    "start_time": "2022-04-23T09:07:34.458Z"
   },
   {
    "duration": 54,
    "start_time": "2022-04-23T09:07:34.472Z"
   },
   {
    "duration": 19,
    "start_time": "2022-04-23T09:07:34.529Z"
   },
   {
    "duration": 12,
    "start_time": "2022-04-23T09:07:34.550Z"
   },
   {
    "duration": 16,
    "start_time": "2022-04-23T09:07:34.564Z"
   },
   {
    "duration": 59,
    "start_time": "2022-04-23T09:07:34.583Z"
   },
   {
    "duration": 11,
    "start_time": "2022-04-23T09:07:34.644Z"
   },
   {
    "duration": 70,
    "start_time": "2022-04-23T09:07:34.657Z"
   },
   {
    "duration": 31,
    "start_time": "2022-04-23T09:07:34.730Z"
   },
   {
    "duration": 8,
    "start_time": "2022-04-23T09:07:34.763Z"
   },
   {
    "duration": 17,
    "start_time": "2022-04-23T09:07:34.773Z"
   },
   {
    "duration": 85,
    "start_time": "2022-04-23T09:07:34.792Z"
   },
   {
    "duration": 22,
    "start_time": "2022-04-23T09:07:34.880Z"
   },
   {
    "duration": 49,
    "start_time": "2022-04-23T09:07:34.904Z"
   },
   {
    "duration": 22,
    "start_time": "2022-04-23T09:07:34.955Z"
   },
   {
    "duration": 9,
    "start_time": "2022-04-23T09:07:34.979Z"
   },
   {
    "duration": 50,
    "start_time": "2022-04-23T09:07:34.990Z"
   },
   {
    "duration": 275,
    "start_time": "2022-04-23T09:07:35.043Z"
   },
   {
    "duration": 9,
    "start_time": "2022-04-23T09:07:35.321Z"
   },
   {
    "duration": 139,
    "start_time": "2022-04-23T09:07:35.340Z"
   },
   {
    "duration": 170,
    "start_time": "2022-04-23T09:07:35.481Z"
   },
   {
    "duration": 36,
    "start_time": "2022-04-23T09:07:35.653Z"
   },
   {
    "duration": 34,
    "start_time": "2022-04-23T09:07:35.691Z"
   },
   {
    "duration": 14,
    "start_time": "2022-04-23T09:07:35.728Z"
   },
   {
    "duration": 1983,
    "start_time": "2022-04-23T09:07:35.744Z"
   },
   {
    "duration": 16,
    "start_time": "2022-04-23T09:07:37.731Z"
   },
   {
    "duration": 76,
    "start_time": "2022-04-23T09:07:37.749Z"
   },
   {
    "duration": 5,
    "start_time": "2022-04-23T09:07:37.827Z"
   },
   {
    "duration": 10,
    "start_time": "2022-04-23T09:07:37.834Z"
   },
   {
    "duration": 36,
    "start_time": "2022-04-23T09:07:37.847Z"
   },
   {
    "duration": 2116,
    "start_time": "2022-04-23T09:07:37.885Z"
   },
   {
    "duration": 0,
    "start_time": "2022-04-23T09:07:40.003Z"
   },
   {
    "duration": 0,
    "start_time": "2022-04-23T09:07:40.005Z"
   },
   {
    "duration": 0,
    "start_time": "2022-04-23T09:07:40.007Z"
   },
   {
    "duration": 0,
    "start_time": "2022-04-23T09:07:40.008Z"
   },
   {
    "duration": 0,
    "start_time": "2022-04-23T09:07:40.009Z"
   },
   {
    "duration": 0,
    "start_time": "2022-04-23T09:07:40.010Z"
   },
   {
    "duration": 0,
    "start_time": "2022-04-23T09:07:40.012Z"
   },
   {
    "duration": 34,
    "start_time": "2022-04-23T09:15:25.537Z"
   },
   {
    "duration": 3324,
    "start_time": "2022-04-23T09:17:22.005Z"
   },
   {
    "duration": 0,
    "start_time": "2022-04-23T09:17:25.333Z"
   },
   {
    "duration": 1808,
    "start_time": "2022-04-23T09:25:11.473Z"
   },
   {
    "duration": 420,
    "start_time": "2022-04-23T09:25:27.201Z"
   },
   {
    "duration": 410,
    "start_time": "2022-04-23T09:25:42.149Z"
   },
   {
    "duration": 418,
    "start_time": "2022-04-23T09:25:48.877Z"
   },
   {
    "duration": 415,
    "start_time": "2022-04-23T09:28:20.437Z"
   },
   {
    "duration": 2086,
    "start_time": "2022-04-23T09:28:33.715Z"
   },
   {
    "duration": 36,
    "start_time": "2022-04-23T09:28:35.804Z"
   },
   {
    "duration": 22,
    "start_time": "2022-04-23T09:28:35.842Z"
   },
   {
    "duration": 28,
    "start_time": "2022-04-23T09:28:35.868Z"
   },
   {
    "duration": 55,
    "start_time": "2022-04-23T09:28:35.898Z"
   },
   {
    "duration": 15,
    "start_time": "2022-04-23T09:28:35.955Z"
   },
   {
    "duration": 42,
    "start_time": "2022-04-23T09:28:35.973Z"
   },
   {
    "duration": 27,
    "start_time": "2022-04-23T09:28:36.025Z"
   },
   {
    "duration": 16,
    "start_time": "2022-04-23T09:28:36.054Z"
   },
   {
    "duration": 28,
    "start_time": "2022-04-23T09:28:36.074Z"
   },
   {
    "duration": 20,
    "start_time": "2022-04-23T09:28:36.124Z"
   },
   {
    "duration": 12,
    "start_time": "2022-04-23T09:28:36.147Z"
   },
   {
    "duration": 32,
    "start_time": "2022-04-23T09:28:36.161Z"
   },
   {
    "duration": 31,
    "start_time": "2022-04-23T09:28:36.196Z"
   },
   {
    "duration": 27,
    "start_time": "2022-04-23T09:28:36.230Z"
   },
   {
    "duration": 67,
    "start_time": "2022-04-23T09:28:36.260Z"
   },
   {
    "duration": 26,
    "start_time": "2022-04-23T09:28:36.330Z"
   },
   {
    "duration": 7,
    "start_time": "2022-04-23T09:28:36.358Z"
   },
   {
    "duration": 26,
    "start_time": "2022-04-23T09:28:36.367Z"
   },
   {
    "duration": 58,
    "start_time": "2022-04-23T09:28:36.395Z"
   },
   {
    "duration": 22,
    "start_time": "2022-04-23T09:28:36.456Z"
   },
   {
    "duration": 48,
    "start_time": "2022-04-23T09:28:36.480Z"
   },
   {
    "duration": 21,
    "start_time": "2022-04-23T09:28:36.531Z"
   },
   {
    "duration": 8,
    "start_time": "2022-04-23T09:28:36.554Z"
   },
   {
    "duration": 23,
    "start_time": "2022-04-23T09:28:36.564Z"
   },
   {
    "duration": 282,
    "start_time": "2022-04-23T09:28:36.589Z"
   },
   {
    "duration": 3,
    "start_time": "2022-04-23T09:28:36.873Z"
   },
   {
    "duration": 145,
    "start_time": "2022-04-23T09:28:36.882Z"
   },
   {
    "duration": 152,
    "start_time": "2022-04-23T09:28:37.029Z"
   },
   {
    "duration": 43,
    "start_time": "2022-04-23T09:28:37.183Z"
   },
   {
    "duration": 8,
    "start_time": "2022-04-23T09:28:37.228Z"
   },
   {
    "duration": 10,
    "start_time": "2022-04-23T09:28:37.238Z"
   },
   {
    "duration": 1816,
    "start_time": "2022-04-23T09:28:37.250Z"
   },
   {
    "duration": 13,
    "start_time": "2022-04-23T09:28:39.068Z"
   },
   {
    "duration": 76,
    "start_time": "2022-04-23T09:28:39.082Z"
   },
   {
    "duration": 5,
    "start_time": "2022-04-23T09:28:39.160Z"
   },
   {
    "duration": 7,
    "start_time": "2022-04-23T09:28:39.167Z"
   },
   {
    "duration": 421,
    "start_time": "2022-04-23T09:28:39.176Z"
   },
   {
    "duration": 14,
    "start_time": "2022-04-23T09:28:39.599Z"
   },
   {
    "duration": 2059,
    "start_time": "2022-04-23T09:28:39.625Z"
   },
   {
    "duration": 0,
    "start_time": "2022-04-23T09:28:41.687Z"
   },
   {
    "duration": 0,
    "start_time": "2022-04-23T09:28:41.688Z"
   },
   {
    "duration": 0,
    "start_time": "2022-04-23T09:28:41.690Z"
   },
   {
    "duration": 0,
    "start_time": "2022-04-23T09:28:41.692Z"
   },
   {
    "duration": 0,
    "start_time": "2022-04-23T09:28:41.694Z"
   },
   {
    "duration": 0,
    "start_time": "2022-04-23T09:28:41.695Z"
   },
   {
    "duration": 0,
    "start_time": "2022-04-23T09:28:41.697Z"
   },
   {
    "duration": 408,
    "start_time": "2022-04-23T09:29:20.832Z"
   },
   {
    "duration": 410,
    "start_time": "2022-04-23T09:30:11.051Z"
   },
   {
    "duration": 4,
    "start_time": "2022-04-23T09:31:41.542Z"
   },
   {
    "duration": 10,
    "start_time": "2022-04-23T09:32:33.392Z"
   },
   {
    "duration": 418,
    "start_time": "2022-04-23T09:32:34.425Z"
   },
   {
    "duration": 2164,
    "start_time": "2022-04-23T09:36:38.985Z"
   },
   {
    "duration": 36,
    "start_time": "2022-04-23T09:36:41.153Z"
   },
   {
    "duration": 19,
    "start_time": "2022-04-23T09:36:41.192Z"
   },
   {
    "duration": 28,
    "start_time": "2022-04-23T09:36:41.227Z"
   },
   {
    "duration": 31,
    "start_time": "2022-04-23T09:36:41.257Z"
   },
   {
    "duration": 45,
    "start_time": "2022-04-23T09:36:41.291Z"
   },
   {
    "duration": 22,
    "start_time": "2022-04-23T09:36:41.339Z"
   },
   {
    "duration": 27,
    "start_time": "2022-04-23T09:36:41.363Z"
   },
   {
    "duration": 40,
    "start_time": "2022-04-23T09:36:41.392Z"
   },
   {
    "duration": 19,
    "start_time": "2022-04-23T09:36:41.436Z"
   },
   {
    "duration": 14,
    "start_time": "2022-04-23T09:36:41.458Z"
   },
   {
    "duration": 55,
    "start_time": "2022-04-23T09:36:41.474Z"
   },
   {
    "duration": 17,
    "start_time": "2022-04-23T09:36:41.532Z"
   },
   {
    "duration": 18,
    "start_time": "2022-04-23T09:36:41.551Z"
   },
   {
    "duration": 11,
    "start_time": "2022-04-23T09:36:41.571Z"
   },
   {
    "duration": 82,
    "start_time": "2022-04-23T09:36:41.584Z"
   },
   {
    "duration": 26,
    "start_time": "2022-04-23T09:36:41.669Z"
   },
   {
    "duration": 6,
    "start_time": "2022-04-23T09:36:41.725Z"
   },
   {
    "duration": 16,
    "start_time": "2022-04-23T09:36:41.734Z"
   },
   {
    "duration": 44,
    "start_time": "2022-04-23T09:36:41.752Z"
   },
   {
    "duration": 45,
    "start_time": "2022-04-23T09:36:41.798Z"
   },
   {
    "duration": 32,
    "start_time": "2022-04-23T09:36:41.845Z"
   },
   {
    "duration": 57,
    "start_time": "2022-04-23T09:36:41.880Z"
   },
   {
    "duration": 9,
    "start_time": "2022-04-23T09:36:41.939Z"
   },
   {
    "duration": 18,
    "start_time": "2022-04-23T09:36:41.952Z"
   },
   {
    "duration": 275,
    "start_time": "2022-04-23T09:36:41.972Z"
   },
   {
    "duration": 3,
    "start_time": "2022-04-23T09:36:42.249Z"
   },
   {
    "duration": 132,
    "start_time": "2022-04-23T09:36:42.257Z"
   },
   {
    "duration": 155,
    "start_time": "2022-04-23T09:36:42.392Z"
   },
   {
    "duration": 155,
    "start_time": "2022-04-23T09:36:42.550Z"
   },
   {
    "duration": 0,
    "start_time": "2022-04-23T09:36:42.707Z"
   },
   {
    "duration": 0,
    "start_time": "2022-04-23T09:36:42.709Z"
   },
   {
    "duration": 0,
    "start_time": "2022-04-23T09:36:42.710Z"
   },
   {
    "duration": 0,
    "start_time": "2022-04-23T09:36:42.711Z"
   },
   {
    "duration": 0,
    "start_time": "2022-04-23T09:36:42.712Z"
   },
   {
    "duration": 0,
    "start_time": "2022-04-23T09:36:42.713Z"
   },
   {
    "duration": 0,
    "start_time": "2022-04-23T09:36:42.724Z"
   },
   {
    "duration": 0,
    "start_time": "2022-04-23T09:36:42.726Z"
   },
   {
    "duration": 0,
    "start_time": "2022-04-23T09:36:42.728Z"
   },
   {
    "duration": 0,
    "start_time": "2022-04-23T09:36:42.729Z"
   },
   {
    "duration": 0,
    "start_time": "2022-04-23T09:36:42.730Z"
   },
   {
    "duration": 0,
    "start_time": "2022-04-23T09:36:42.731Z"
   },
   {
    "duration": 0,
    "start_time": "2022-04-23T09:36:42.732Z"
   },
   {
    "duration": 0,
    "start_time": "2022-04-23T09:36:42.733Z"
   },
   {
    "duration": 0,
    "start_time": "2022-04-23T09:36:42.735Z"
   },
   {
    "duration": 0,
    "start_time": "2022-04-23T09:36:42.737Z"
   },
   {
    "duration": 0,
    "start_time": "2022-04-23T09:36:42.738Z"
   },
   {
    "duration": 2045,
    "start_time": "2022-04-23T09:38:34.599Z"
   },
   {
    "duration": 37,
    "start_time": "2022-04-23T09:38:36.647Z"
   },
   {
    "duration": 19,
    "start_time": "2022-04-23T09:38:36.686Z"
   },
   {
    "duration": 36,
    "start_time": "2022-04-23T09:38:36.708Z"
   },
   {
    "duration": 32,
    "start_time": "2022-04-23T09:38:36.746Z"
   },
   {
    "duration": 13,
    "start_time": "2022-04-23T09:38:36.780Z"
   },
   {
    "duration": 49,
    "start_time": "2022-04-23T09:38:36.796Z"
   },
   {
    "duration": 26,
    "start_time": "2022-04-23T09:38:36.848Z"
   },
   {
    "duration": 11,
    "start_time": "2022-04-23T09:38:36.876Z"
   },
   {
    "duration": 21,
    "start_time": "2022-04-23T09:38:36.926Z"
   },
   {
    "duration": 17,
    "start_time": "2022-04-23T09:38:36.950Z"
   },
   {
    "duration": 15,
    "start_time": "2022-04-23T09:38:36.971Z"
   },
   {
    "duration": 50,
    "start_time": "2022-04-23T09:38:36.988Z"
   },
   {
    "duration": 22,
    "start_time": "2022-04-23T09:38:37.041Z"
   },
   {
    "duration": 12,
    "start_time": "2022-04-23T09:38:37.065Z"
   },
   {
    "duration": 87,
    "start_time": "2022-04-23T09:38:37.079Z"
   },
   {
    "duration": 26,
    "start_time": "2022-04-23T09:38:37.169Z"
   },
   {
    "duration": 7,
    "start_time": "2022-04-23T09:38:37.197Z"
   },
   {
    "duration": 13,
    "start_time": "2022-04-23T09:38:37.225Z"
   },
   {
    "duration": 39,
    "start_time": "2022-04-23T09:38:37.240Z"
   },
   {
    "duration": 49,
    "start_time": "2022-04-23T09:38:37.281Z"
   },
   {
    "duration": 31,
    "start_time": "2022-04-23T09:38:37.332Z"
   },
   {
    "duration": 22,
    "start_time": "2022-04-23T09:38:37.365Z"
   },
   {
    "duration": 35,
    "start_time": "2022-04-23T09:38:37.390Z"
   },
   {
    "duration": 19,
    "start_time": "2022-04-23T09:38:37.428Z"
   },
   {
    "duration": 286,
    "start_time": "2022-04-23T09:38:37.449Z"
   },
   {
    "duration": 4,
    "start_time": "2022-04-23T09:38:37.737Z"
   },
   {
    "duration": 160,
    "start_time": "2022-04-23T09:38:37.746Z"
   },
   {
    "duration": 174,
    "start_time": "2022-04-23T09:38:37.908Z"
   },
   {
    "duration": 49,
    "start_time": "2022-04-23T09:38:38.084Z"
   },
   {
    "duration": 8,
    "start_time": "2022-04-23T09:38:38.136Z"
   },
   {
    "duration": 9,
    "start_time": "2022-04-23T09:38:38.146Z"
   },
   {
    "duration": 1937,
    "start_time": "2022-04-23T09:38:38.157Z"
   },
   {
    "duration": 29,
    "start_time": "2022-04-23T09:38:40.096Z"
   },
   {
    "duration": 4,
    "start_time": "2022-04-23T09:38:40.128Z"
   },
   {
    "duration": 12,
    "start_time": "2022-04-23T09:38:40.134Z"
   },
   {
    "duration": 7,
    "start_time": "2022-04-23T09:38:40.149Z"
   },
   {
    "duration": 11,
    "start_time": "2022-04-23T09:38:40.158Z"
   },
   {
    "duration": 438,
    "start_time": "2022-04-23T09:38:40.172Z"
   },
   {
    "duration": 158,
    "start_time": "2022-04-23T09:38:40.612Z"
   },
   {
    "duration": 0,
    "start_time": "2022-04-23T09:38:40.773Z"
   },
   {
    "duration": 0,
    "start_time": "2022-04-23T09:38:40.775Z"
   },
   {
    "duration": 0,
    "start_time": "2022-04-23T09:38:40.778Z"
   },
   {
    "duration": 0,
    "start_time": "2022-04-23T09:38:40.780Z"
   },
   {
    "duration": 0,
    "start_time": "2022-04-23T09:38:40.782Z"
   },
   {
    "duration": 0,
    "start_time": "2022-04-23T09:38:40.784Z"
   },
   {
    "duration": 0,
    "start_time": "2022-04-23T09:38:40.786Z"
   },
   {
    "duration": 1994,
    "start_time": "2022-04-23T09:39:41.758Z"
   },
   {
    "duration": 38,
    "start_time": "2022-04-23T09:39:43.756Z"
   },
   {
    "duration": 19,
    "start_time": "2022-04-23T09:39:43.797Z"
   },
   {
    "duration": 34,
    "start_time": "2022-04-23T09:39:43.819Z"
   },
   {
    "duration": 29,
    "start_time": "2022-04-23T09:39:43.855Z"
   },
   {
    "duration": 46,
    "start_time": "2022-04-23T09:39:43.886Z"
   },
   {
    "duration": 27,
    "start_time": "2022-04-23T09:39:43.934Z"
   },
   {
    "duration": 25,
    "start_time": "2022-04-23T09:39:43.964Z"
   },
   {
    "duration": 36,
    "start_time": "2022-04-23T09:39:43.991Z"
   },
   {
    "duration": 22,
    "start_time": "2022-04-23T09:39:44.031Z"
   },
   {
    "duration": 16,
    "start_time": "2022-04-23T09:39:44.055Z"
   },
   {
    "duration": 20,
    "start_time": "2022-04-23T09:39:44.073Z"
   },
   {
    "duration": 16,
    "start_time": "2022-04-23T09:39:44.124Z"
   },
   {
    "duration": 24,
    "start_time": "2022-04-23T09:39:44.142Z"
   },
   {
    "duration": 12,
    "start_time": "2022-04-23T09:39:44.168Z"
   },
   {
    "duration": 82,
    "start_time": "2022-04-23T09:39:44.182Z"
   },
   {
    "duration": 27,
    "start_time": "2022-04-23T09:39:44.266Z"
   },
   {
    "duration": 8,
    "start_time": "2022-04-23T09:39:44.295Z"
   },
   {
    "duration": 12,
    "start_time": "2022-04-23T09:39:44.324Z"
   },
   {
    "duration": 43,
    "start_time": "2022-04-23T09:39:44.338Z"
   },
   {
    "duration": 48,
    "start_time": "2022-04-23T09:39:44.384Z"
   },
   {
    "duration": 31,
    "start_time": "2022-04-23T09:39:44.434Z"
   },
   {
    "duration": 21,
    "start_time": "2022-04-23T09:39:44.467Z"
   },
   {
    "duration": 34,
    "start_time": "2022-04-23T09:39:44.491Z"
   },
   {
    "duration": 22,
    "start_time": "2022-04-23T09:39:44.528Z"
   },
   {
    "duration": 283,
    "start_time": "2022-04-23T09:39:44.553Z"
   },
   {
    "duration": 4,
    "start_time": "2022-04-23T09:39:44.838Z"
   },
   {
    "duration": 150,
    "start_time": "2022-04-23T09:39:44.847Z"
   },
   {
    "duration": 174,
    "start_time": "2022-04-23T09:39:44.999Z"
   },
   {
    "duration": 50,
    "start_time": "2022-04-23T09:39:45.175Z"
   },
   {
    "duration": 8,
    "start_time": "2022-04-23T09:39:45.228Z"
   },
   {
    "duration": 17,
    "start_time": "2022-04-23T09:39:45.238Z"
   },
   {
    "duration": 1933,
    "start_time": "2022-04-23T09:39:45.258Z"
   },
   {
    "duration": 15,
    "start_time": "2022-04-23T09:39:47.193Z"
   },
   {
    "duration": 3,
    "start_time": "2022-04-23T09:39:47.225Z"
   },
   {
    "duration": 9,
    "start_time": "2022-04-23T09:39:47.230Z"
   },
   {
    "duration": 9,
    "start_time": "2022-04-23T09:39:47.241Z"
   },
   {
    "duration": 20,
    "start_time": "2022-04-23T09:39:47.252Z"
   },
   {
    "duration": 424,
    "start_time": "2022-04-23T09:39:47.274Z"
   },
   {
    "duration": 163,
    "start_time": "2022-04-23T09:39:47.700Z"
   },
   {
    "duration": 0,
    "start_time": "2022-04-23T09:39:47.865Z"
   },
   {
    "duration": 0,
    "start_time": "2022-04-23T09:39:47.867Z"
   },
   {
    "duration": 0,
    "start_time": "2022-04-23T09:39:47.868Z"
   },
   {
    "duration": 0,
    "start_time": "2022-04-23T09:39:47.869Z"
   },
   {
    "duration": 0,
    "start_time": "2022-04-23T09:39:47.871Z"
   },
   {
    "duration": 0,
    "start_time": "2022-04-23T09:39:47.872Z"
   },
   {
    "duration": 0,
    "start_time": "2022-04-23T09:39:47.874Z"
   },
   {
    "duration": 2027,
    "start_time": "2022-04-23T09:43:30.018Z"
   },
   {
    "duration": 38,
    "start_time": "2022-04-23T09:43:32.048Z"
   },
   {
    "duration": 21,
    "start_time": "2022-04-23T09:43:32.088Z"
   },
   {
    "duration": 40,
    "start_time": "2022-04-23T09:43:32.112Z"
   },
   {
    "duration": 31,
    "start_time": "2022-04-23T09:43:32.155Z"
   },
   {
    "duration": 44,
    "start_time": "2022-04-23T09:43:32.188Z"
   },
   {
    "duration": 35,
    "start_time": "2022-04-23T09:43:32.235Z"
   },
   {
    "duration": 52,
    "start_time": "2022-04-23T09:43:32.273Z"
   },
   {
    "duration": 13,
    "start_time": "2022-04-23T09:43:32.328Z"
   },
   {
    "duration": 22,
    "start_time": "2022-04-23T09:43:32.346Z"
   },
   {
    "duration": 19,
    "start_time": "2022-04-23T09:43:32.371Z"
   },
   {
    "duration": 12,
    "start_time": "2022-04-23T09:43:32.426Z"
   },
   {
    "duration": 19,
    "start_time": "2022-04-23T09:43:32.441Z"
   },
   {
    "duration": 33,
    "start_time": "2022-04-23T09:43:32.463Z"
   },
   {
    "duration": 37,
    "start_time": "2022-04-23T09:43:32.499Z"
   },
   {
    "duration": 58,
    "start_time": "2022-04-23T09:43:32.538Z"
   },
   {
    "duration": 40,
    "start_time": "2022-04-23T09:43:32.599Z"
   },
   {
    "duration": 9,
    "start_time": "2022-04-23T09:43:32.641Z"
   },
   {
    "duration": 30,
    "start_time": "2022-04-23T09:43:32.652Z"
   },
   {
    "duration": 61,
    "start_time": "2022-04-23T09:43:32.685Z"
   },
   {
    "duration": 24,
    "start_time": "2022-04-23T09:43:32.748Z"
   },
   {
    "duration": 53,
    "start_time": "2022-04-23T09:43:32.775Z"
   },
   {
    "duration": 24,
    "start_time": "2022-04-23T09:43:32.831Z"
   },
   {
    "duration": 9,
    "start_time": "2022-04-23T09:43:32.857Z"
   },
   {
    "duration": 19,
    "start_time": "2022-04-23T09:43:32.869Z"
   },
   {
    "duration": 848,
    "start_time": "2022-04-23T09:43:32.891Z"
   },
   {
    "duration": 0,
    "start_time": "2022-04-23T09:43:33.744Z"
   },
   {
    "duration": 0,
    "start_time": "2022-04-23T09:43:33.746Z"
   },
   {
    "duration": 0,
    "start_time": "2022-04-23T09:43:33.748Z"
   },
   {
    "duration": 0,
    "start_time": "2022-04-23T09:43:33.750Z"
   },
   {
    "duration": 0,
    "start_time": "2022-04-23T09:43:33.752Z"
   },
   {
    "duration": 0,
    "start_time": "2022-04-23T09:43:33.754Z"
   },
   {
    "duration": 0,
    "start_time": "2022-04-23T09:43:33.756Z"
   },
   {
    "duration": 0,
    "start_time": "2022-04-23T09:43:33.758Z"
   },
   {
    "duration": 0,
    "start_time": "2022-04-23T09:43:33.761Z"
   },
   {
    "duration": 1,
    "start_time": "2022-04-23T09:43:33.762Z"
   },
   {
    "duration": 0,
    "start_time": "2022-04-23T09:43:33.765Z"
   },
   {
    "duration": 0,
    "start_time": "2022-04-23T09:43:33.767Z"
   },
   {
    "duration": 0,
    "start_time": "2022-04-23T09:43:33.769Z"
   },
   {
    "duration": 0,
    "start_time": "2022-04-23T09:43:33.771Z"
   },
   {
    "duration": 0,
    "start_time": "2022-04-23T09:43:33.774Z"
   },
   {
    "duration": 0,
    "start_time": "2022-04-23T09:43:33.777Z"
   },
   {
    "duration": 0,
    "start_time": "2022-04-23T09:43:33.779Z"
   },
   {
    "duration": 0,
    "start_time": "2022-04-23T09:43:33.780Z"
   },
   {
    "duration": 0,
    "start_time": "2022-04-23T09:43:33.781Z"
   },
   {
    "duration": 0,
    "start_time": "2022-04-23T09:43:33.826Z"
   },
   {
    "duration": 0,
    "start_time": "2022-04-23T09:43:33.828Z"
   },
   {
    "duration": 140,
    "start_time": "2022-04-23T09:44:51.016Z"
   },
   {
    "duration": 122,
    "start_time": "2022-04-23T09:45:13.938Z"
   },
   {
    "duration": 264,
    "start_time": "2022-04-23T09:45:33.328Z"
   },
   {
    "duration": 199,
    "start_time": "2022-04-23T09:46:34.054Z"
   },
   {
    "duration": 109,
    "start_time": "2022-04-23T09:46:36.285Z"
   },
   {
    "duration": 134,
    "start_time": "2022-04-23T09:47:08.394Z"
   },
   {
    "duration": 2065,
    "start_time": "2022-04-23T09:47:25.297Z"
   },
   {
    "duration": 36,
    "start_time": "2022-04-23T09:47:27.365Z"
   },
   {
    "duration": 19,
    "start_time": "2022-04-23T09:47:27.403Z"
   },
   {
    "duration": 28,
    "start_time": "2022-04-23T09:47:27.425Z"
   },
   {
    "duration": 31,
    "start_time": "2022-04-23T09:47:27.455Z"
   },
   {
    "duration": 42,
    "start_time": "2022-04-23T09:47:27.488Z"
   },
   {
    "duration": 25,
    "start_time": "2022-04-23T09:47:27.532Z"
   },
   {
    "duration": 25,
    "start_time": "2022-04-23T09:47:27.560Z"
   },
   {
    "duration": 43,
    "start_time": "2022-04-23T09:47:27.588Z"
   },
   {
    "duration": 20,
    "start_time": "2022-04-23T09:47:27.636Z"
   },
   {
    "duration": 16,
    "start_time": "2022-04-23T09:47:27.658Z"
   },
   {
    "duration": 14,
    "start_time": "2022-04-23T09:47:27.676Z"
   },
   {
    "duration": 17,
    "start_time": "2022-04-23T09:47:27.726Z"
   },
   {
    "duration": 20,
    "start_time": "2022-04-23T09:47:27.746Z"
   },
   {
    "duration": 22,
    "start_time": "2022-04-23T09:47:27.768Z"
   },
   {
    "duration": 77,
    "start_time": "2022-04-23T09:47:27.792Z"
   },
   {
    "duration": 25,
    "start_time": "2022-04-23T09:47:27.871Z"
   },
   {
    "duration": 7,
    "start_time": "2022-04-23T09:47:27.899Z"
   },
   {
    "duration": 26,
    "start_time": "2022-04-23T09:47:27.908Z"
   },
   {
    "duration": 42,
    "start_time": "2022-04-23T09:47:27.937Z"
   },
   {
    "duration": 47,
    "start_time": "2022-04-23T09:47:27.981Z"
   },
   {
    "duration": 31,
    "start_time": "2022-04-23T09:47:28.030Z"
   },
   {
    "duration": 21,
    "start_time": "2022-04-23T09:47:28.063Z"
   },
   {
    "duration": 38,
    "start_time": "2022-04-23T09:47:28.086Z"
   },
   {
    "duration": 16,
    "start_time": "2022-04-23T09:47:28.127Z"
   },
   {
    "duration": 278,
    "start_time": "2022-04-23T09:47:28.146Z"
   },
   {
    "duration": 3,
    "start_time": "2022-04-23T09:47:28.427Z"
   },
   {
    "duration": 153,
    "start_time": "2022-04-23T09:47:28.436Z"
   },
   {
    "duration": 164,
    "start_time": "2022-04-23T09:47:28.592Z"
   },
   {
    "duration": 42,
    "start_time": "2022-04-23T09:47:28.758Z"
   },
   {
    "duration": 25,
    "start_time": "2022-04-23T09:47:28.802Z"
   },
   {
    "duration": 9,
    "start_time": "2022-04-23T09:47:28.830Z"
   },
   {
    "duration": 1947,
    "start_time": "2022-04-23T09:47:28.841Z"
   },
   {
    "duration": 15,
    "start_time": "2022-04-23T09:47:30.790Z"
   },
   {
    "duration": 25,
    "start_time": "2022-04-23T09:47:30.807Z"
   },
   {
    "duration": 19,
    "start_time": "2022-04-23T09:47:30.834Z"
   },
   {
    "duration": 10,
    "start_time": "2022-04-23T09:47:30.856Z"
   },
   {
    "duration": 12,
    "start_time": "2022-04-23T09:47:30.868Z"
   },
   {
    "duration": 429,
    "start_time": "2022-04-23T09:47:30.883Z"
   },
   {
    "duration": 152,
    "start_time": "2022-04-23T09:47:31.314Z"
   },
   {
    "duration": 0,
    "start_time": "2022-04-23T09:47:31.468Z"
   },
   {
    "duration": 0,
    "start_time": "2022-04-23T09:47:31.469Z"
   },
   {
    "duration": 0,
    "start_time": "2022-04-23T09:47:31.471Z"
   },
   {
    "duration": 0,
    "start_time": "2022-04-23T09:47:31.472Z"
   },
   {
    "duration": 0,
    "start_time": "2022-04-23T09:47:31.474Z"
   },
   {
    "duration": 0,
    "start_time": "2022-04-23T09:47:31.476Z"
   },
   {
    "duration": 0,
    "start_time": "2022-04-23T09:47:31.478Z"
   },
   {
    "duration": 1630,
    "start_time": "2022-04-23T09:56:08.826Z"
   },
   {
    "duration": 26,
    "start_time": "2022-04-23T09:57:10.408Z"
   },
   {
    "duration": 2105,
    "start_time": "2022-04-23T09:58:15.897Z"
   },
   {
    "duration": 1740,
    "start_time": "2022-04-23T09:58:50.485Z"
   },
   {
    "duration": 1744,
    "start_time": "2022-04-23T10:17:37.038Z"
   },
   {
    "duration": 14,
    "start_time": "2022-04-23T10:19:13.596Z"
   },
   {
    "duration": 30,
    "start_time": "2022-04-23T10:19:14.111Z"
   },
   {
    "duration": 16,
    "start_time": "2022-04-23T10:20:26.263Z"
   },
   {
    "duration": 340,
    "start_time": "2022-04-23T10:20:52.336Z"
   },
   {
    "duration": 323,
    "start_time": "2022-04-23T10:23:43.641Z"
   },
   {
    "duration": 30,
    "start_time": "2022-04-23T10:30:35.468Z"
   },
   {
    "duration": 54,
    "start_time": "2022-04-23T10:37:13.196Z"
   },
   {
    "duration": 48,
    "start_time": "2022-04-23T10:37:53.843Z"
   },
   {
    "duration": 15,
    "start_time": "2022-04-23T10:41:58.087Z"
   },
   {
    "duration": 288,
    "start_time": "2022-04-23T10:43:16.186Z"
   },
   {
    "duration": 306,
    "start_time": "2022-04-23T10:44:21.905Z"
   },
   {
    "duration": 265,
    "start_time": "2022-04-23T10:45:22.826Z"
   },
   {
    "duration": 318,
    "start_time": "2022-04-23T10:49:33.136Z"
   },
   {
    "duration": 26,
    "start_time": "2022-04-23T10:49:43.016Z"
   },
   {
    "duration": 17,
    "start_time": "2022-04-23T10:51:29.846Z"
   },
   {
    "duration": 270,
    "start_time": "2022-04-23T10:52:34.797Z"
   },
   {
    "duration": 15,
    "start_time": "2022-04-23T10:52:46.583Z"
   },
   {
    "duration": 29,
    "start_time": "2022-04-23T10:55:00.622Z"
   },
   {
    "duration": 283,
    "start_time": "2022-04-23T10:58:14.380Z"
   },
   {
    "duration": 277,
    "start_time": "2022-04-23T10:59:31.662Z"
   },
   {
    "duration": 360,
    "start_time": "2022-04-23T11:01:40.265Z"
   },
   {
    "duration": 251,
    "start_time": "2022-04-23T11:01:42.493Z"
   },
   {
    "duration": 274,
    "start_time": "2022-04-23T11:01:44.740Z"
   },
   {
    "duration": 2193,
    "start_time": "2022-04-23T11:02:03.201Z"
   },
   {
    "duration": 39,
    "start_time": "2022-04-23T11:02:05.396Z"
   },
   {
    "duration": 22,
    "start_time": "2022-04-23T11:02:05.438Z"
   },
   {
    "duration": 28,
    "start_time": "2022-04-23T11:02:05.463Z"
   },
   {
    "duration": 62,
    "start_time": "2022-04-23T11:02:05.493Z"
   },
   {
    "duration": 14,
    "start_time": "2022-04-23T11:02:05.558Z"
   },
   {
    "duration": 30,
    "start_time": "2022-04-23T11:02:05.574Z"
   },
   {
    "duration": 33,
    "start_time": "2022-04-23T11:02:05.625Z"
   },
   {
    "duration": 11,
    "start_time": "2022-04-23T11:02:05.660Z"
   },
   {
    "duration": 54,
    "start_time": "2022-04-23T11:02:05.675Z"
   },
   {
    "duration": 19,
    "start_time": "2022-04-23T11:02:05.731Z"
   },
   {
    "duration": 15,
    "start_time": "2022-04-23T11:02:05.753Z"
   },
   {
    "duration": 26,
    "start_time": "2022-04-23T11:02:05.770Z"
   },
   {
    "duration": 46,
    "start_time": "2022-04-23T11:02:05.798Z"
   },
   {
    "duration": 17,
    "start_time": "2022-04-23T11:02:05.846Z"
   },
   {
    "duration": 63,
    "start_time": "2022-04-23T11:02:05.866Z"
   },
   {
    "duration": 30,
    "start_time": "2022-04-23T11:02:05.932Z"
   },
   {
    "duration": 6,
    "start_time": "2022-04-23T11:02:05.965Z"
   },
   {
    "duration": 19,
    "start_time": "2022-04-23T11:02:05.973Z"
   },
   {
    "duration": 84,
    "start_time": "2022-04-23T11:02:05.994Z"
   },
   {
    "duration": 23,
    "start_time": "2022-04-23T11:02:06.081Z"
   },
   {
    "duration": 45,
    "start_time": "2022-04-23T11:02:06.106Z"
   },
   {
    "duration": 21,
    "start_time": "2022-04-23T11:02:06.153Z"
   },
   {
    "duration": 8,
    "start_time": "2022-04-23T11:02:06.176Z"
   },
   {
    "duration": 45,
    "start_time": "2022-04-23T11:02:06.186Z"
   },
   {
    "duration": 284,
    "start_time": "2022-04-23T11:02:06.234Z"
   },
   {
    "duration": 9,
    "start_time": "2022-04-23T11:02:06.520Z"
   },
   {
    "duration": 157,
    "start_time": "2022-04-23T11:02:06.537Z"
   },
   {
    "duration": 176,
    "start_time": "2022-04-23T11:02:06.697Z"
   },
   {
    "duration": 54,
    "start_time": "2022-04-23T11:02:06.875Z"
   },
   {
    "duration": 14,
    "start_time": "2022-04-23T11:02:06.932Z"
   },
   {
    "duration": 10,
    "start_time": "2022-04-23T11:02:06.948Z"
   },
   {
    "duration": 2140,
    "start_time": "2022-04-23T11:02:06.960Z"
   },
   {
    "duration": 15,
    "start_time": "2022-04-23T11:02:09.103Z"
   },
   {
    "duration": 9,
    "start_time": "2022-04-23T11:02:09.124Z"
   },
   {
    "duration": 20,
    "start_time": "2022-04-23T11:02:09.137Z"
   },
   {
    "duration": 8,
    "start_time": "2022-04-23T11:02:09.159Z"
   },
   {
    "duration": 14,
    "start_time": "2022-04-23T11:02:09.170Z"
   },
   {
    "duration": 478,
    "start_time": "2022-04-23T11:02:09.186Z"
   },
   {
    "duration": 11,
    "start_time": "2022-04-23T11:02:09.666Z"
   },
   {
    "duration": 313,
    "start_time": "2022-04-23T11:02:09.679Z"
   },
   {
    "duration": 286,
    "start_time": "2022-04-23T11:02:09.994Z"
   },
   {
    "duration": 299,
    "start_time": "2022-04-23T11:02:10.283Z"
   },
   {
    "duration": 280,
    "start_time": "2022-04-23T11:02:10.585Z"
   },
   {
    "duration": 278,
    "start_time": "2022-04-23T11:02:10.868Z"
   },
   {
    "duration": 293,
    "start_time": "2022-04-23T11:02:11.149Z"
   },
   {
    "duration": 173,
    "start_time": "2022-04-23T11:02:11.445Z"
   },
   {
    "duration": 0,
    "start_time": "2022-04-23T11:02:11.620Z"
   },
   {
    "duration": 1853,
    "start_time": "2022-04-23T11:04:01.297Z"
   },
   {
    "duration": 2634,
    "start_time": "2022-04-23T11:05:18.641Z"
   },
   {
    "duration": 102,
    "start_time": "2022-04-23T11:06:11.273Z"
   },
   {
    "duration": 24,
    "start_time": "2022-04-23T11:13:44.946Z"
   },
   {
    "duration": 21,
    "start_time": "2022-04-23T11:14:50.818Z"
   },
   {
    "duration": 16,
    "start_time": "2022-04-23T11:18:05.766Z"
   },
   {
    "duration": 2143,
    "start_time": "2022-04-23T11:18:14.993Z"
   },
   {
    "duration": 2083,
    "start_time": "2022-04-23T11:34:40.890Z"
   },
   {
    "duration": 34,
    "start_time": "2022-04-23T11:34:42.976Z"
   },
   {
    "duration": 26,
    "start_time": "2022-04-23T11:34:43.013Z"
   },
   {
    "duration": 27,
    "start_time": "2022-04-23T11:34:43.042Z"
   },
   {
    "duration": 59,
    "start_time": "2022-04-23T11:34:43.072Z"
   },
   {
    "duration": 16,
    "start_time": "2022-04-23T11:34:43.134Z"
   },
   {
    "duration": 25,
    "start_time": "2022-04-23T11:34:43.152Z"
   },
   {
    "duration": 59,
    "start_time": "2022-04-23T11:34:43.179Z"
   },
   {
    "duration": 11,
    "start_time": "2022-04-23T11:34:43.240Z"
   },
   {
    "duration": 20,
    "start_time": "2022-04-23T11:34:43.255Z"
   },
   {
    "duration": 16,
    "start_time": "2022-04-23T11:34:43.277Z"
   },
   {
    "duration": 23,
    "start_time": "2022-04-23T11:34:43.323Z"
   },
   {
    "duration": 18,
    "start_time": "2022-04-23T11:34:43.348Z"
   },
   {
    "duration": 21,
    "start_time": "2022-04-23T11:34:43.369Z"
   },
   {
    "duration": 41,
    "start_time": "2022-04-23T11:34:43.393Z"
   },
   {
    "duration": 53,
    "start_time": "2022-04-23T11:34:43.438Z"
   },
   {
    "duration": 49,
    "start_time": "2022-04-23T11:34:43.494Z"
   },
   {
    "duration": 6,
    "start_time": "2022-04-23T11:34:43.545Z"
   },
   {
    "duration": 13,
    "start_time": "2022-04-23T11:34:43.553Z"
   },
   {
    "duration": 67,
    "start_time": "2022-04-23T11:34:43.568Z"
   },
   {
    "duration": 26,
    "start_time": "2022-04-23T11:34:43.637Z"
   },
   {
    "duration": 30,
    "start_time": "2022-04-23T11:34:43.666Z"
   },
   {
    "duration": 49,
    "start_time": "2022-04-23T11:34:43.699Z"
   },
   {
    "duration": 8,
    "start_time": "2022-04-23T11:34:43.750Z"
   },
   {
    "duration": 22,
    "start_time": "2022-04-23T11:34:43.760Z"
   },
   {
    "duration": 318,
    "start_time": "2022-04-23T11:34:43.784Z"
   },
   {
    "duration": 5,
    "start_time": "2022-04-23T11:34:44.104Z"
   },
   {
    "duration": 151,
    "start_time": "2022-04-23T11:34:44.129Z"
   },
   {
    "duration": 184,
    "start_time": "2022-04-23T11:34:44.282Z"
   },
   {
    "duration": 40,
    "start_time": "2022-04-23T11:34:44.469Z"
   },
   {
    "duration": 19,
    "start_time": "2022-04-23T11:34:44.512Z"
   },
   {
    "duration": 14,
    "start_time": "2022-04-23T11:34:44.534Z"
   },
   {
    "duration": 2040,
    "start_time": "2022-04-23T11:34:44.550Z"
   },
   {
    "duration": 14,
    "start_time": "2022-04-23T11:34:46.592Z"
   },
   {
    "duration": 18,
    "start_time": "2022-04-23T11:34:46.608Z"
   },
   {
    "duration": 15,
    "start_time": "2022-04-23T11:34:46.634Z"
   },
   {
    "duration": 10,
    "start_time": "2022-04-23T11:34:46.651Z"
   },
   {
    "duration": 11,
    "start_time": "2022-04-23T11:34:46.664Z"
   },
   {
    "duration": 448,
    "start_time": "2022-04-23T11:34:46.678Z"
   },
   {
    "duration": 5,
    "start_time": "2022-04-23T11:34:47.129Z"
   },
   {
    "duration": 22,
    "start_time": "2022-04-23T11:34:47.137Z"
   },
   {
    "duration": 292,
    "start_time": "2022-04-23T11:34:47.162Z"
   },
   {
    "duration": 3,
    "start_time": "2022-04-23T11:34:47.456Z"
   },
   {
    "duration": 278,
    "start_time": "2022-04-23T11:34:47.461Z"
   },
   {
    "duration": 4,
    "start_time": "2022-04-23T11:34:47.742Z"
   },
   {
    "duration": 296,
    "start_time": "2022-04-23T11:34:47.748Z"
   },
   {
    "duration": 4,
    "start_time": "2022-04-23T11:34:48.046Z"
   },
   {
    "duration": 260,
    "start_time": "2022-04-23T11:34:48.052Z"
   },
   {
    "duration": 13,
    "start_time": "2022-04-23T11:34:48.314Z"
   },
   {
    "duration": 260,
    "start_time": "2022-04-23T11:34:48.330Z"
   },
   {
    "duration": 4,
    "start_time": "2022-04-23T11:34:48.592Z"
   },
   {
    "duration": 279,
    "start_time": "2022-04-23T11:34:48.599Z"
   },
   {
    "duration": 18,
    "start_time": "2022-04-23T11:34:48.880Z"
   },
   {
    "duration": 2122,
    "start_time": "2022-04-23T11:34:48.900Z"
   },
   {
    "duration": 100,
    "start_time": "2022-04-23T11:38:43.764Z"
   },
   {
    "duration": 2226,
    "start_time": "2022-04-23T11:40:03.696Z"
   },
   {
    "duration": 40,
    "start_time": "2022-04-23T11:40:05.926Z"
   },
   {
    "duration": 18,
    "start_time": "2022-04-23T11:40:05.969Z"
   },
   {
    "duration": 64,
    "start_time": "2022-04-23T11:40:05.990Z"
   },
   {
    "duration": 31,
    "start_time": "2022-04-23T11:40:06.056Z"
   },
   {
    "duration": 13,
    "start_time": "2022-04-23T11:40:06.089Z"
   },
   {
    "duration": 47,
    "start_time": "2022-04-23T11:40:06.104Z"
   },
   {
    "duration": 29,
    "start_time": "2022-04-23T11:40:06.153Z"
   },
   {
    "duration": 41,
    "start_time": "2022-04-23T11:40:06.184Z"
   },
   {
    "duration": 24,
    "start_time": "2022-04-23T11:40:06.230Z"
   },
   {
    "duration": 19,
    "start_time": "2022-04-23T11:40:06.256Z"
   },
   {
    "duration": 47,
    "start_time": "2022-04-23T11:40:06.278Z"
   },
   {
    "duration": 36,
    "start_time": "2022-04-23T11:40:06.328Z"
   },
   {
    "duration": 20,
    "start_time": "2022-04-23T11:40:06.367Z"
   },
   {
    "duration": 12,
    "start_time": "2022-04-23T11:40:06.390Z"
   },
   {
    "duration": 73,
    "start_time": "2022-04-23T11:40:06.404Z"
   },
   {
    "duration": 27,
    "start_time": "2022-04-23T11:40:06.479Z"
   },
   {
    "duration": 9,
    "start_time": "2022-04-23T11:40:06.524Z"
   },
   {
    "duration": 20,
    "start_time": "2022-04-23T11:40:06.537Z"
   },
   {
    "duration": 84,
    "start_time": "2022-04-23T11:40:06.560Z"
   },
   {
    "duration": 26,
    "start_time": "2022-04-23T11:40:06.647Z"
   },
   {
    "duration": 63,
    "start_time": "2022-04-23T11:40:06.676Z"
   },
   {
    "duration": 22,
    "start_time": "2022-04-23T11:40:06.741Z"
   },
   {
    "duration": 9,
    "start_time": "2022-04-23T11:40:06.765Z"
   },
   {
    "duration": 21,
    "start_time": "2022-04-23T11:40:06.777Z"
   },
   {
    "duration": 279,
    "start_time": "2022-04-23T11:40:06.827Z"
   },
   {
    "duration": 4,
    "start_time": "2022-04-23T11:40:07.108Z"
   },
   {
    "duration": 13,
    "start_time": "2022-04-23T11:40:07.118Z"
   },
   {
    "duration": 155,
    "start_time": "2022-04-23T11:40:07.135Z"
   },
   {
    "duration": 182,
    "start_time": "2022-04-23T11:40:07.292Z"
   },
   {
    "duration": 64,
    "start_time": "2022-04-23T11:40:07.476Z"
   },
   {
    "duration": 10,
    "start_time": "2022-04-23T11:40:07.543Z"
   },
   {
    "duration": 13,
    "start_time": "2022-04-23T11:40:07.555Z"
   },
   {
    "duration": 2049,
    "start_time": "2022-04-23T11:40:07.571Z"
   },
   {
    "duration": 21,
    "start_time": "2022-04-23T11:40:09.622Z"
   },
   {
    "duration": 9,
    "start_time": "2022-04-23T11:40:09.645Z"
   },
   {
    "duration": 13,
    "start_time": "2022-04-23T11:40:09.656Z"
   },
   {
    "duration": 7,
    "start_time": "2022-04-23T11:40:09.672Z"
   },
   {
    "duration": 11,
    "start_time": "2022-04-23T11:40:09.682Z"
   },
   {
    "duration": 451,
    "start_time": "2022-04-23T11:40:09.696Z"
   },
   {
    "duration": 4,
    "start_time": "2022-04-23T11:40:10.149Z"
   },
   {
    "duration": 17,
    "start_time": "2022-04-23T11:40:10.155Z"
   },
   {
    "duration": 303,
    "start_time": "2022-04-23T11:40:10.174Z"
   },
   {
    "duration": 3,
    "start_time": "2022-04-23T11:40:10.479Z"
   },
   {
    "duration": 290,
    "start_time": "2022-04-23T11:40:10.484Z"
   },
   {
    "duration": 4,
    "start_time": "2022-04-23T11:40:10.776Z"
   },
   {
    "duration": 401,
    "start_time": "2022-04-23T11:40:10.782Z"
   },
   {
    "duration": 4,
    "start_time": "2022-04-23T11:40:11.186Z"
   },
   {
    "duration": 282,
    "start_time": "2022-04-23T11:40:11.192Z"
   },
   {
    "duration": 5,
    "start_time": "2022-04-23T11:40:11.477Z"
   },
   {
    "duration": 282,
    "start_time": "2022-04-23T11:40:11.485Z"
   },
   {
    "duration": 4,
    "start_time": "2022-04-23T11:40:11.770Z"
   },
   {
    "duration": 292,
    "start_time": "2022-04-23T11:40:11.777Z"
   },
   {
    "duration": 18,
    "start_time": "2022-04-23T11:40:12.071Z"
   },
   {
    "duration": 2265,
    "start_time": "2022-04-23T11:40:12.091Z"
   },
   {
    "duration": 2038,
    "start_time": "2022-04-23T11:42:47.373Z"
   },
   {
    "duration": 37,
    "start_time": "2022-04-23T11:42:49.414Z"
   },
   {
    "duration": 24,
    "start_time": "2022-04-23T11:42:49.453Z"
   },
   {
    "duration": 56,
    "start_time": "2022-04-23T11:42:49.481Z"
   },
   {
    "duration": 30,
    "start_time": "2022-04-23T11:42:49.541Z"
   },
   {
    "duration": 13,
    "start_time": "2022-04-23T11:42:49.573Z"
   },
   {
    "duration": 60,
    "start_time": "2022-04-23T11:42:49.588Z"
   },
   {
    "duration": 27,
    "start_time": "2022-04-23T11:42:49.651Z"
   },
   {
    "duration": 11,
    "start_time": "2022-04-23T11:42:49.680Z"
   },
   {
    "duration": 50,
    "start_time": "2022-04-23T11:42:49.695Z"
   },
   {
    "duration": 14,
    "start_time": "2022-04-23T11:42:49.747Z"
   },
   {
    "duration": 14,
    "start_time": "2022-04-23T11:42:49.764Z"
   },
   {
    "duration": 50,
    "start_time": "2022-04-23T11:42:49.781Z"
   },
   {
    "duration": 25,
    "start_time": "2022-04-23T11:42:49.833Z"
   },
   {
    "duration": 14,
    "start_time": "2022-04-23T11:42:49.860Z"
   },
   {
    "duration": 75,
    "start_time": "2022-04-23T11:42:49.876Z"
   },
   {
    "duration": 27,
    "start_time": "2022-04-23T11:42:49.953Z"
   },
   {
    "duration": 7,
    "start_time": "2022-04-23T11:42:49.982Z"
   },
   {
    "duration": 44,
    "start_time": "2022-04-23T11:42:49.992Z"
   },
   {
    "duration": 45,
    "start_time": "2022-04-23T11:42:50.039Z"
   },
   {
    "duration": 53,
    "start_time": "2022-04-23T11:42:50.086Z"
   },
   {
    "duration": 33,
    "start_time": "2022-04-23T11:42:50.142Z"
   },
   {
    "duration": 22,
    "start_time": "2022-04-23T11:42:50.178Z"
   },
   {
    "duration": 32,
    "start_time": "2022-04-23T11:42:50.202Z"
   },
   {
    "duration": 44,
    "start_time": "2022-04-23T11:42:50.237Z"
   },
   {
    "duration": 334,
    "start_time": "2022-04-23T11:42:50.284Z"
   },
   {
    "duration": 7,
    "start_time": "2022-04-23T11:42:50.621Z"
   },
   {
    "duration": 13,
    "start_time": "2022-04-23T11:42:50.638Z"
   },
   {
    "duration": 152,
    "start_time": "2022-04-23T11:42:50.653Z"
   },
   {
    "duration": 179,
    "start_time": "2022-04-23T11:42:50.808Z"
   },
   {
    "duration": 55,
    "start_time": "2022-04-23T11:42:50.989Z"
   },
   {
    "duration": 9,
    "start_time": "2022-04-23T11:42:51.046Z"
   },
   {
    "duration": 12,
    "start_time": "2022-04-23T11:42:51.058Z"
   },
   {
    "duration": 2138,
    "start_time": "2022-04-23T11:42:51.073Z"
   },
   {
    "duration": 23,
    "start_time": "2022-04-23T11:42:53.213Z"
   },
   {
    "duration": 7,
    "start_time": "2022-04-23T11:42:53.239Z"
   },
   {
    "duration": 15,
    "start_time": "2022-04-23T11:42:53.248Z"
   },
   {
    "duration": 12,
    "start_time": "2022-04-23T11:42:53.265Z"
   },
   {
    "duration": 9,
    "start_time": "2022-04-23T11:42:53.279Z"
   },
   {
    "duration": 471,
    "start_time": "2022-04-23T11:42:53.290Z"
   },
   {
    "duration": 4,
    "start_time": "2022-04-23T11:42:53.763Z"
   },
   {
    "duration": 21,
    "start_time": "2022-04-23T11:42:53.769Z"
   },
   {
    "duration": 302,
    "start_time": "2022-04-23T11:42:53.792Z"
   },
   {
    "duration": 3,
    "start_time": "2022-04-23T11:42:54.097Z"
   },
   {
    "duration": 299,
    "start_time": "2022-04-23T11:42:54.103Z"
   },
   {
    "duration": 5,
    "start_time": "2022-04-23T11:42:54.404Z"
   },
   {
    "duration": 305,
    "start_time": "2022-04-23T11:42:54.412Z"
   },
   {
    "duration": 4,
    "start_time": "2022-04-23T11:42:54.719Z"
   },
   {
    "duration": 281,
    "start_time": "2022-04-23T11:42:54.730Z"
   },
   {
    "duration": 12,
    "start_time": "2022-04-23T11:42:55.013Z"
   },
   {
    "duration": 313,
    "start_time": "2022-04-23T11:42:55.029Z"
   },
   {
    "duration": 4,
    "start_time": "2022-04-23T11:42:55.344Z"
   },
   {
    "duration": 273,
    "start_time": "2022-04-23T11:42:55.350Z"
   },
   {
    "duration": 18,
    "start_time": "2022-04-23T11:42:55.630Z"
   },
   {
    "duration": 2335,
    "start_time": "2022-04-23T11:42:55.651Z"
   },
   {
    "duration": 1680,
    "start_time": "2022-04-24T08:50:05.770Z"
   },
   {
    "duration": 22,
    "start_time": "2022-04-24T08:50:07.452Z"
   },
   {
    "duration": 10,
    "start_time": "2022-04-24T08:50:07.475Z"
   },
   {
    "duration": 19,
    "start_time": "2022-04-24T08:50:07.487Z"
   },
   {
    "duration": 20,
    "start_time": "2022-04-24T08:50:07.508Z"
   },
   {
    "duration": 11,
    "start_time": "2022-04-24T08:50:07.530Z"
   },
   {
    "duration": 17,
    "start_time": "2022-04-24T08:50:07.544Z"
   },
   {
    "duration": 22,
    "start_time": "2022-04-24T08:50:07.563Z"
   },
   {
    "duration": 9,
    "start_time": "2022-04-24T08:50:07.587Z"
   },
   {
    "duration": 22,
    "start_time": "2022-04-24T08:50:07.627Z"
   },
   {
    "duration": 13,
    "start_time": "2022-04-24T08:50:07.650Z"
   },
   {
    "duration": 10,
    "start_time": "2022-04-24T08:50:07.664Z"
   },
   {
    "duration": 17,
    "start_time": "2022-04-24T08:50:07.676Z"
   },
   {
    "duration": 37,
    "start_time": "2022-04-24T08:50:07.696Z"
   },
   {
    "duration": 17,
    "start_time": "2022-04-24T08:50:07.735Z"
   },
   {
    "duration": 33,
    "start_time": "2022-04-24T08:50:07.754Z"
   },
   {
    "duration": 17,
    "start_time": "2022-04-24T08:50:07.789Z"
   },
   {
    "duration": 24,
    "start_time": "2022-04-24T08:50:07.823Z"
   },
   {
    "duration": 9,
    "start_time": "2022-04-24T08:50:07.848Z"
   },
   {
    "duration": 26,
    "start_time": "2022-04-24T08:50:07.858Z"
   },
   {
    "duration": 14,
    "start_time": "2022-04-24T08:50:07.886Z"
   },
   {
    "duration": 31,
    "start_time": "2022-04-24T08:50:07.902Z"
   },
   {
    "duration": 28,
    "start_time": "2022-04-24T08:50:07.935Z"
   },
   {
    "duration": 6,
    "start_time": "2022-04-24T08:50:07.965Z"
   },
   {
    "duration": 14,
    "start_time": "2022-04-24T08:50:07.973Z"
   },
   {
    "duration": 204,
    "start_time": "2022-04-24T08:50:07.988Z"
   },
   {
    "duration": 2,
    "start_time": "2022-04-24T08:50:08.194Z"
   },
   {
    "duration": 8,
    "start_time": "2022-04-24T08:50:08.199Z"
   },
   {
    "duration": 107,
    "start_time": "2022-04-24T08:50:08.209Z"
   },
   {
    "duration": 108,
    "start_time": "2022-04-24T08:50:08.318Z"
   },
   {
    "duration": 29,
    "start_time": "2022-04-24T08:50:08.429Z"
   },
   {
    "duration": 6,
    "start_time": "2022-04-24T08:50:08.459Z"
   },
   {
    "duration": 11,
    "start_time": "2022-04-24T08:50:08.467Z"
   },
   {
    "duration": 1132,
    "start_time": "2022-04-24T08:50:08.479Z"
   },
   {
    "duration": 11,
    "start_time": "2022-04-24T08:50:09.613Z"
   },
   {
    "duration": 14,
    "start_time": "2022-04-24T08:50:09.626Z"
   },
   {
    "duration": 6,
    "start_time": "2022-04-24T08:50:09.641Z"
   },
   {
    "duration": 5,
    "start_time": "2022-04-24T08:50:09.648Z"
   },
   {
    "duration": 10,
    "start_time": "2022-04-24T08:50:09.654Z"
   },
   {
    "duration": 223,
    "start_time": "2022-04-24T08:50:09.665Z"
   },
   {
    "duration": 2,
    "start_time": "2022-04-24T08:50:09.890Z"
   },
   {
    "duration": 17,
    "start_time": "2022-04-24T08:50:09.894Z"
   },
   {
    "duration": 163,
    "start_time": "2022-04-24T08:50:09.912Z"
   },
   {
    "duration": 2,
    "start_time": "2022-04-24T08:50:10.077Z"
   },
   {
    "duration": 154,
    "start_time": "2022-04-24T08:50:10.080Z"
   },
   {
    "duration": 6,
    "start_time": "2022-04-24T08:50:10.236Z"
   },
   {
    "duration": 164,
    "start_time": "2022-04-24T08:50:10.244Z"
   },
   {
    "duration": 3,
    "start_time": "2022-04-24T08:50:10.410Z"
   },
   {
    "duration": 151,
    "start_time": "2022-04-24T08:50:10.414Z"
   },
   {
    "duration": 2,
    "start_time": "2022-04-24T08:50:10.567Z"
   },
   {
    "duration": 139,
    "start_time": "2022-04-24T08:50:10.571Z"
   },
   {
    "duration": 2,
    "start_time": "2022-04-24T08:50:10.712Z"
   },
   {
    "duration": 150,
    "start_time": "2022-04-24T08:50:10.723Z"
   },
   {
    "duration": 11,
    "start_time": "2022-04-24T08:50:10.874Z"
   },
   {
    "duration": 1147,
    "start_time": "2022-04-24T08:50:10.887Z"
   },
   {
    "duration": 72,
    "start_time": "2022-04-24T09:51:38.847Z"
   },
   {
    "duration": 2334,
    "start_time": "2022-04-24T09:51:46.619Z"
   },
   {
    "duration": 59,
    "start_time": "2022-04-24T09:51:48.957Z"
   },
   {
    "duration": 44,
    "start_time": "2022-04-24T09:51:49.019Z"
   },
   {
    "duration": 27,
    "start_time": "2022-04-24T09:51:49.066Z"
   },
   {
    "duration": 29,
    "start_time": "2022-04-24T09:51:49.095Z"
   },
   {
    "duration": 13,
    "start_time": "2022-04-24T09:51:49.152Z"
   },
   {
    "duration": 23,
    "start_time": "2022-04-24T09:51:49.167Z"
   },
   {
    "duration": 25,
    "start_time": "2022-04-24T09:51:49.192Z"
   },
   {
    "duration": 10,
    "start_time": "2022-04-24T09:51:49.252Z"
   },
   {
    "duration": 29,
    "start_time": "2022-04-24T09:51:49.267Z"
   },
   {
    "duration": 55,
    "start_time": "2022-04-24T09:51:49.299Z"
   },
   {
    "duration": 16,
    "start_time": "2022-04-24T09:51:49.356Z"
   },
   {
    "duration": 22,
    "start_time": "2022-04-24T09:51:49.374Z"
   },
   {
    "duration": 59,
    "start_time": "2022-04-24T09:51:49.398Z"
   },
   {
    "duration": 13,
    "start_time": "2022-04-24T09:51:49.460Z"
   },
   {
    "duration": 95,
    "start_time": "2022-04-24T09:51:49.475Z"
   },
   {
    "duration": 38,
    "start_time": "2022-04-24T09:51:49.573Z"
   },
   {
    "duration": 10,
    "start_time": "2022-04-24T09:51:49.613Z"
   },
   {
    "duration": 36,
    "start_time": "2022-04-24T09:51:49.625Z"
   },
   {
    "duration": 56,
    "start_time": "2022-04-24T09:51:49.664Z"
   },
   {
    "duration": 49,
    "start_time": "2022-04-24T09:51:49.723Z"
   },
   {
    "duration": 30,
    "start_time": "2022-04-24T09:51:49.775Z"
   },
   {
    "duration": 50,
    "start_time": "2022-04-24T09:51:49.808Z"
   },
   {
    "duration": 8,
    "start_time": "2022-04-24T09:51:49.861Z"
   },
   {
    "duration": 28,
    "start_time": "2022-04-24T09:51:49.871Z"
   },
   {
    "duration": 383,
    "start_time": "2022-04-24T09:51:49.902Z"
   },
   {
    "duration": 4,
    "start_time": "2022-04-24T09:51:50.288Z"
   },
   {
    "duration": 7,
    "start_time": "2022-04-24T09:51:50.299Z"
   },
   {
    "duration": 193,
    "start_time": "2022-04-24T09:51:50.309Z"
   },
   {
    "duration": 202,
    "start_time": "2022-04-24T09:51:50.504Z"
   },
   {
    "duration": 64,
    "start_time": "2022-04-24T09:51:50.708Z"
   },
   {
    "duration": 9,
    "start_time": "2022-04-24T09:51:50.775Z"
   },
   {
    "duration": 10,
    "start_time": "2022-04-24T09:51:50.787Z"
   },
   {
    "duration": 2579,
    "start_time": "2022-04-24T09:51:50.799Z"
   },
   {
    "duration": 18,
    "start_time": "2022-04-24T09:51:53.380Z"
   },
   {
    "duration": 7,
    "start_time": "2022-04-24T09:51:53.401Z"
   },
   {
    "duration": 16,
    "start_time": "2022-04-24T09:51:53.410Z"
   },
   {
    "duration": 23,
    "start_time": "2022-04-24T09:51:53.429Z"
   },
   {
    "duration": 21,
    "start_time": "2022-04-24T09:51:53.454Z"
   },
   {
    "duration": 643,
    "start_time": "2022-04-24T09:51:53.478Z"
   },
   {
    "duration": 4,
    "start_time": "2022-04-24T09:51:54.124Z"
   },
   {
    "duration": 34,
    "start_time": "2022-04-24T09:51:54.131Z"
   },
   {
    "duration": 329,
    "start_time": "2022-04-24T09:51:54.168Z"
   },
   {
    "duration": 4,
    "start_time": "2022-04-24T09:51:54.499Z"
   },
   {
    "duration": 312,
    "start_time": "2022-04-24T09:51:54.505Z"
   },
   {
    "duration": 4,
    "start_time": "2022-04-24T09:51:54.820Z"
   },
   {
    "duration": 290,
    "start_time": "2022-04-24T09:51:54.826Z"
   },
   {
    "duration": 4,
    "start_time": "2022-04-24T09:51:55.119Z"
   },
   {
    "duration": 270,
    "start_time": "2022-04-24T09:51:55.126Z"
   },
   {
    "duration": 3,
    "start_time": "2022-04-24T09:51:55.399Z"
   },
   {
    "duration": 253,
    "start_time": "2022-04-24T09:51:55.405Z"
   },
   {
    "duration": 4,
    "start_time": "2022-04-24T09:51:55.660Z"
   },
   {
    "duration": 270,
    "start_time": "2022-04-24T09:51:55.666Z"
   },
   {
    "duration": 759,
    "start_time": "2022-04-24T09:51:55.938Z"
   },
   {
    "duration": 0,
    "start_time": "2022-04-24T09:51:56.700Z"
   },
   {
    "duration": 0,
    "start_time": "2022-04-24T09:51:56.702Z"
   },
   {
    "duration": 563,
    "start_time": "2022-04-24T09:52:39.477Z"
   },
   {
    "duration": 191,
    "start_time": "2022-04-24T09:53:30.672Z"
   },
   {
    "duration": 165,
    "start_time": "2022-04-24T09:54:42.309Z"
   },
   {
    "duration": 41,
    "start_time": "2022-04-24T09:55:46.122Z"
   },
   {
    "duration": 151,
    "start_time": "2022-04-24T09:59:04.861Z"
   },
   {
    "duration": 1974,
    "start_time": "2022-04-24T09:59:33.182Z"
   },
   {
    "duration": 36,
    "start_time": "2022-04-24T09:59:35.159Z"
   },
   {
    "duration": 20,
    "start_time": "2022-04-24T09:59:35.197Z"
   },
   {
    "duration": 57,
    "start_time": "2022-04-24T09:59:35.221Z"
   },
   {
    "duration": 31,
    "start_time": "2022-04-24T09:59:35.281Z"
   },
   {
    "duration": 37,
    "start_time": "2022-04-24T09:59:35.315Z"
   },
   {
    "duration": 24,
    "start_time": "2022-04-24T09:59:35.354Z"
   },
   {
    "duration": 27,
    "start_time": "2022-04-24T09:59:35.381Z"
   },
   {
    "duration": 45,
    "start_time": "2022-04-24T09:59:35.410Z"
   },
   {
    "duration": 19,
    "start_time": "2022-04-24T09:59:35.461Z"
   },
   {
    "duration": 18,
    "start_time": "2022-04-24T09:59:35.482Z"
   },
   {
    "duration": 14,
    "start_time": "2022-04-24T09:59:35.502Z"
   },
   {
    "duration": 16,
    "start_time": "2022-04-24T09:59:35.551Z"
   },
   {
    "duration": 23,
    "start_time": "2022-04-24T09:59:35.569Z"
   },
   {
    "duration": 14,
    "start_time": "2022-04-24T09:59:35.594Z"
   },
   {
    "duration": 79,
    "start_time": "2022-04-24T09:59:35.611Z"
   },
   {
    "duration": 26,
    "start_time": "2022-04-24T09:59:35.692Z"
   },
   {
    "duration": 6,
    "start_time": "2022-04-24T09:59:35.720Z"
   },
   {
    "duration": 15,
    "start_time": "2022-04-24T09:59:35.751Z"
   },
   {
    "duration": 46,
    "start_time": "2022-04-24T09:59:35.768Z"
   },
   {
    "duration": 49,
    "start_time": "2022-04-24T09:59:35.817Z"
   },
   {
    "duration": 45,
    "start_time": "2022-04-24T09:59:35.869Z"
   },
   {
    "duration": 46,
    "start_time": "2022-04-24T09:59:35.917Z"
   },
   {
    "duration": 10,
    "start_time": "2022-04-24T09:59:35.966Z"
   },
   {
    "duration": 18,
    "start_time": "2022-04-24T09:59:35.979Z"
   },
   {
    "duration": 295,
    "start_time": "2022-04-24T09:59:35.999Z"
   },
   {
    "duration": 4,
    "start_time": "2022-04-24T09:59:36.297Z"
   },
   {
    "duration": 7,
    "start_time": "2022-04-24T09:59:36.309Z"
   },
   {
    "duration": 208,
    "start_time": "2022-04-24T09:59:36.318Z"
   },
   {
    "duration": 216,
    "start_time": "2022-04-24T09:59:36.528Z"
   },
   {
    "duration": 59,
    "start_time": "2022-04-24T09:59:36.751Z"
   },
   {
    "duration": 9,
    "start_time": "2022-04-24T09:59:36.812Z"
   },
   {
    "duration": 34,
    "start_time": "2022-04-24T09:59:36.824Z"
   },
   {
    "duration": 1897,
    "start_time": "2022-04-24T09:59:36.860Z"
   },
   {
    "duration": 13,
    "start_time": "2022-04-24T09:59:38.759Z"
   },
   {
    "duration": 7,
    "start_time": "2022-04-24T09:59:38.775Z"
   },
   {
    "duration": 11,
    "start_time": "2022-04-24T09:59:38.784Z"
   },
   {
    "duration": 6,
    "start_time": "2022-04-24T09:59:38.797Z"
   },
   {
    "duration": 10,
    "start_time": "2022-04-24T09:59:38.805Z"
   },
   {
    "duration": 410,
    "start_time": "2022-04-24T09:59:38.852Z"
   },
   {
    "duration": 4,
    "start_time": "2022-04-24T09:59:39.264Z"
   },
   {
    "duration": 25,
    "start_time": "2022-04-24T09:59:39.270Z"
   },
   {
    "duration": 292,
    "start_time": "2022-04-24T09:59:39.299Z"
   },
   {
    "duration": 4,
    "start_time": "2022-04-24T09:59:39.595Z"
   },
   {
    "duration": 326,
    "start_time": "2022-04-24T09:59:39.601Z"
   },
   {
    "duration": 4,
    "start_time": "2022-04-24T09:59:39.930Z"
   },
   {
    "duration": 277,
    "start_time": "2022-04-24T09:59:39.953Z"
   },
   {
    "duration": 4,
    "start_time": "2022-04-24T09:59:40.233Z"
   },
   {
    "duration": 264,
    "start_time": "2022-04-24T09:59:40.239Z"
   },
   {
    "duration": 3,
    "start_time": "2022-04-24T09:59:40.506Z"
   },
   {
    "duration": 269,
    "start_time": "2022-04-24T09:59:40.512Z"
   },
   {
    "duration": 3,
    "start_time": "2022-04-24T09:59:40.784Z"
   },
   {
    "duration": 281,
    "start_time": "2022-04-24T09:59:40.789Z"
   },
   {
    "duration": 308,
    "start_time": "2022-04-24T09:59:41.073Z"
   },
   {
    "duration": 0,
    "start_time": "2022-04-24T09:59:41.384Z"
   },
   {
    "duration": 0,
    "start_time": "2022-04-24T09:59:41.385Z"
   },
   {
    "duration": 191,
    "start_time": "2022-04-24T10:00:47.534Z"
   },
   {
    "duration": 432,
    "start_time": "2022-04-24T10:01:09.426Z"
   },
   {
    "duration": 16,
    "start_time": "2022-04-24T10:06:20.543Z"
   },
   {
    "duration": 888,
    "start_time": "2022-04-24T10:06:55.474Z"
   },
   {
    "duration": 26,
    "start_time": "2022-04-24T10:07:03.019Z"
   },
   {
    "duration": 475,
    "start_time": "2022-04-24T10:07:22.040Z"
   },
   {
    "duration": 511,
    "start_time": "2022-04-24T10:07:50.293Z"
   },
   {
    "duration": 106,
    "start_time": "2022-04-24T10:09:11.840Z"
   },
   {
    "duration": 386,
    "start_time": "2022-04-24T10:09:25.534Z"
   },
   {
    "duration": 27,
    "start_time": "2022-04-24T10:11:57.461Z"
   },
   {
    "duration": 421,
    "start_time": "2022-04-24T10:12:06.788Z"
   },
   {
    "duration": 513,
    "start_time": "2022-04-24T10:13:37.750Z"
   },
   {
    "duration": 406,
    "start_time": "2022-04-24T10:15:51.258Z"
   },
   {
    "duration": 375,
    "start_time": "2022-04-24T10:15:55.892Z"
   },
   {
    "duration": 2446,
    "start_time": "2022-04-24T10:17:49.232Z"
   },
   {
    "duration": 40,
    "start_time": "2022-04-24T10:17:51.681Z"
   },
   {
    "duration": 27,
    "start_time": "2022-04-24T10:17:51.724Z"
   },
   {
    "duration": 41,
    "start_time": "2022-04-24T10:17:51.756Z"
   },
   {
    "duration": 42,
    "start_time": "2022-04-24T10:17:51.800Z"
   },
   {
    "duration": 27,
    "start_time": "2022-04-24T10:17:51.844Z"
   },
   {
    "duration": 39,
    "start_time": "2022-04-24T10:17:51.873Z"
   },
   {
    "duration": 24,
    "start_time": "2022-04-24T10:17:51.915Z"
   },
   {
    "duration": 16,
    "start_time": "2022-04-24T10:17:51.953Z"
   },
   {
    "duration": 22,
    "start_time": "2022-04-24T10:17:51.974Z"
   },
   {
    "duration": 24,
    "start_time": "2022-04-24T10:17:51.998Z"
   },
   {
    "duration": 41,
    "start_time": "2022-04-24T10:17:52.025Z"
   },
   {
    "duration": 25,
    "start_time": "2022-04-24T10:17:52.069Z"
   },
   {
    "duration": 31,
    "start_time": "2022-04-24T10:17:52.096Z"
   },
   {
    "duration": 23,
    "start_time": "2022-04-24T10:17:52.130Z"
   },
   {
    "duration": 75,
    "start_time": "2022-04-24T10:17:52.155Z"
   },
   {
    "duration": 29,
    "start_time": "2022-04-24T10:17:52.232Z"
   },
   {
    "duration": 9,
    "start_time": "2022-04-24T10:17:52.264Z"
   },
   {
    "duration": 29,
    "start_time": "2022-04-24T10:17:52.275Z"
   },
   {
    "duration": 52,
    "start_time": "2022-04-24T10:17:52.307Z"
   },
   {
    "duration": 25,
    "start_time": "2022-04-24T10:17:52.362Z"
   },
   {
    "duration": 57,
    "start_time": "2022-04-24T10:17:52.390Z"
   },
   {
    "duration": 36,
    "start_time": "2022-04-24T10:17:52.449Z"
   },
   {
    "duration": 14,
    "start_time": "2022-04-24T10:17:52.487Z"
   },
   {
    "duration": 32,
    "start_time": "2022-04-24T10:17:52.503Z"
   },
   {
    "duration": 283,
    "start_time": "2022-04-24T10:17:52.537Z"
   },
   {
    "duration": 4,
    "start_time": "2022-04-24T10:17:52.822Z"
   },
   {
    "duration": 19,
    "start_time": "2022-04-24T10:17:52.833Z"
   },
   {
    "duration": 159,
    "start_time": "2022-04-24T10:17:52.854Z"
   },
   {
    "duration": 178,
    "start_time": "2022-04-24T10:17:53.015Z"
   },
   {
    "duration": 56,
    "start_time": "2022-04-24T10:17:53.196Z"
   },
   {
    "duration": 12,
    "start_time": "2022-04-24T10:17:53.255Z"
   },
   {
    "duration": 35,
    "start_time": "2022-04-24T10:17:53.269Z"
   },
   {
    "duration": 2717,
    "start_time": "2022-04-24T10:17:53.306Z"
   },
   {
    "duration": 26,
    "start_time": "2022-04-24T10:17:56.026Z"
   },
   {
    "duration": 16,
    "start_time": "2022-04-24T10:17:56.055Z"
   },
   {
    "duration": 8,
    "start_time": "2022-04-24T10:17:56.074Z"
   },
   {
    "duration": 9,
    "start_time": "2022-04-24T10:17:56.084Z"
   },
   {
    "duration": 12,
    "start_time": "2022-04-24T10:17:56.095Z"
   },
   {
    "duration": 490,
    "start_time": "2022-04-24T10:17:56.109Z"
   },
   {
    "duration": 3,
    "start_time": "2022-04-24T10:17:56.601Z"
   },
   {
    "duration": 38,
    "start_time": "2022-04-24T10:17:56.607Z"
   },
   {
    "duration": 357,
    "start_time": "2022-04-24T10:17:56.648Z"
   },
   {
    "duration": 3,
    "start_time": "2022-04-24T10:17:57.008Z"
   },
   {
    "duration": 369,
    "start_time": "2022-04-24T10:17:57.013Z"
   },
   {
    "duration": 3,
    "start_time": "2022-04-24T10:17:57.384Z"
   },
   {
    "duration": 342,
    "start_time": "2022-04-24T10:17:57.389Z"
   },
   {
    "duration": 4,
    "start_time": "2022-04-24T10:17:57.732Z"
   },
   {
    "duration": 333,
    "start_time": "2022-04-24T10:17:57.738Z"
   },
   {
    "duration": 3,
    "start_time": "2022-04-24T10:17:58.075Z"
   },
   {
    "duration": 352,
    "start_time": "2022-04-24T10:17:58.080Z"
   },
   {
    "duration": 4,
    "start_time": "2022-04-24T10:17:58.434Z"
   },
   {
    "duration": 346,
    "start_time": "2022-04-24T10:17:58.451Z"
   },
   {
    "duration": 630,
    "start_time": "2022-04-24T10:17:58.800Z"
   },
   {
    "duration": 498,
    "start_time": "2022-04-24T10:17:59.433Z"
   },
   {
    "duration": 461,
    "start_time": "2022-04-24T10:17:59.933Z"
   },
   {
    "duration": 547,
    "start_time": "2022-04-24T10:18:00.396Z"
   },
   {
    "duration": 24,
    "start_time": "2022-04-24T10:18:00.946Z"
   },
   {
    "duration": 2755,
    "start_time": "2022-04-24T10:18:00.974Z"
   },
   {
    "duration": 125,
    "start_time": "2022-04-24T10:18:25.055Z"
   },
   {
    "duration": 629,
    "start_time": "2022-04-24T10:18:29.125Z"
   },
   {
    "duration": 2537,
    "start_time": "2022-04-24T10:18:53.148Z"
   },
   {
    "duration": 2434,
    "start_time": "2022-04-24T10:19:23.380Z"
   },
   {
    "duration": 2422,
    "start_time": "2022-04-24T10:20:11.635Z"
   },
   {
    "duration": 37,
    "start_time": "2022-04-24T10:20:14.060Z"
   },
   {
    "duration": 18,
    "start_time": "2022-04-24T10:20:14.100Z"
   },
   {
    "duration": 53,
    "start_time": "2022-04-24T10:20:14.122Z"
   },
   {
    "duration": 29,
    "start_time": "2022-04-24T10:20:14.178Z"
   },
   {
    "duration": 46,
    "start_time": "2022-04-24T10:20:14.209Z"
   },
   {
    "duration": 28,
    "start_time": "2022-04-24T10:20:14.257Z"
   },
   {
    "duration": 26,
    "start_time": "2022-04-24T10:20:14.287Z"
   },
   {
    "duration": 37,
    "start_time": "2022-04-24T10:20:14.315Z"
   },
   {
    "duration": 20,
    "start_time": "2022-04-24T10:20:14.356Z"
   },
   {
    "duration": 15,
    "start_time": "2022-04-24T10:20:14.379Z"
   },
   {
    "duration": 13,
    "start_time": "2022-04-24T10:20:14.397Z"
   },
   {
    "duration": 22,
    "start_time": "2022-04-24T10:20:14.452Z"
   },
   {
    "duration": 20,
    "start_time": "2022-04-24T10:20:14.477Z"
   },
   {
    "duration": 13,
    "start_time": "2022-04-24T10:20:14.500Z"
   },
   {
    "duration": 71,
    "start_time": "2022-04-24T10:20:14.515Z"
   },
   {
    "duration": 27,
    "start_time": "2022-04-24T10:20:14.588Z"
   },
   {
    "duration": 36,
    "start_time": "2022-04-24T10:20:14.617Z"
   },
   {
    "duration": 12,
    "start_time": "2022-04-24T10:20:14.655Z"
   },
   {
    "duration": 91,
    "start_time": "2022-04-24T10:20:14.670Z"
   },
   {
    "duration": 32,
    "start_time": "2022-04-24T10:20:14.764Z"
   },
   {
    "duration": 64,
    "start_time": "2022-04-24T10:20:14.799Z"
   },
   {
    "duration": 35,
    "start_time": "2022-04-24T10:20:14.866Z"
   },
   {
    "duration": 11,
    "start_time": "2022-04-24T10:20:14.905Z"
   },
   {
    "duration": 44,
    "start_time": "2022-04-24T10:20:14.918Z"
   },
   {
    "duration": 384,
    "start_time": "2022-04-24T10:20:14.965Z"
   },
   {
    "duration": 4,
    "start_time": "2022-04-24T10:20:15.352Z"
   },
   {
    "duration": 4,
    "start_time": "2022-04-24T10:20:15.364Z"
   },
   {
    "duration": 198,
    "start_time": "2022-04-24T10:20:15.370Z"
   },
   {
    "duration": 171,
    "start_time": "2022-04-24T10:20:15.571Z"
   },
   {
    "duration": 45,
    "start_time": "2022-04-24T10:20:15.744Z"
   },
   {
    "duration": 9,
    "start_time": "2022-04-24T10:20:15.791Z"
   },
   {
    "duration": 16,
    "start_time": "2022-04-24T10:20:15.802Z"
   },
   {
    "duration": 2640,
    "start_time": "2022-04-24T10:20:15.821Z"
   },
   {
    "duration": 19,
    "start_time": "2022-04-24T10:20:18.464Z"
   },
   {
    "duration": 8,
    "start_time": "2022-04-24T10:20:18.486Z"
   },
   {
    "duration": 14,
    "start_time": "2022-04-24T10:20:18.497Z"
   },
   {
    "duration": 8,
    "start_time": "2022-04-24T10:20:18.514Z"
   },
   {
    "duration": 34,
    "start_time": "2022-04-24T10:20:18.525Z"
   },
   {
    "duration": 542,
    "start_time": "2022-04-24T10:20:18.562Z"
   },
   {
    "duration": 4,
    "start_time": "2022-04-24T10:20:19.107Z"
   },
   {
    "duration": 16,
    "start_time": "2022-04-24T10:20:19.114Z"
   },
   {
    "duration": 474,
    "start_time": "2022-04-24T10:20:19.133Z"
   },
   {
    "duration": 6,
    "start_time": "2022-04-24T10:20:19.610Z"
   },
   {
    "duration": 454,
    "start_time": "2022-04-24T10:20:19.618Z"
   },
   {
    "duration": 5,
    "start_time": "2022-04-24T10:20:20.075Z"
   },
   {
    "duration": 470,
    "start_time": "2022-04-24T10:20:20.083Z"
   },
   {
    "duration": 5,
    "start_time": "2022-04-24T10:20:20.555Z"
   },
   {
    "duration": 440,
    "start_time": "2022-04-24T10:20:20.563Z"
   },
   {
    "duration": 4,
    "start_time": "2022-04-24T10:20:21.006Z"
   },
   {
    "duration": 440,
    "start_time": "2022-04-24T10:20:21.013Z"
   },
   {
    "duration": 5,
    "start_time": "2022-04-24T10:20:21.455Z"
   },
   {
    "duration": 453,
    "start_time": "2022-04-24T10:20:21.462Z"
   },
   {
    "duration": 624,
    "start_time": "2022-04-24T10:20:21.918Z"
   },
   {
    "duration": 470,
    "start_time": "2022-04-24T10:20:22.553Z"
   },
   {
    "duration": 700,
    "start_time": "2022-04-24T10:20:23.026Z"
   },
   {
    "duration": 772,
    "start_time": "2022-04-24T10:20:23.728Z"
   },
   {
    "duration": 17,
    "start_time": "2022-04-24T10:20:24.502Z"
   },
   {
    "duration": 3003,
    "start_time": "2022-04-24T10:20:24.521Z"
   },
   {
    "duration": 2126,
    "start_time": "2022-04-24T10:20:56.697Z"
   },
   {
    "duration": 34,
    "start_time": "2022-04-24T10:20:58.826Z"
   },
   {
    "duration": 18,
    "start_time": "2022-04-24T10:20:58.863Z"
   },
   {
    "duration": 27,
    "start_time": "2022-04-24T10:20:58.884Z"
   },
   {
    "duration": 76,
    "start_time": "2022-04-24T10:20:58.913Z"
   },
   {
    "duration": 17,
    "start_time": "2022-04-24T10:20:58.992Z"
   },
   {
    "duration": 58,
    "start_time": "2022-04-24T10:20:59.011Z"
   },
   {
    "duration": 26,
    "start_time": "2022-04-24T10:20:59.071Z"
   },
   {
    "duration": 10,
    "start_time": "2022-04-24T10:20:59.099Z"
   },
   {
    "duration": 59,
    "start_time": "2022-04-24T10:20:59.114Z"
   },
   {
    "duration": 24,
    "start_time": "2022-04-24T10:20:59.176Z"
   },
   {
    "duration": 23,
    "start_time": "2022-04-24T10:20:59.203Z"
   },
   {
    "duration": 38,
    "start_time": "2022-04-24T10:20:59.229Z"
   },
   {
    "duration": 16,
    "start_time": "2022-04-24T10:20:59.270Z"
   },
   {
    "duration": 12,
    "start_time": "2022-04-24T10:20:59.289Z"
   },
   {
    "duration": 81,
    "start_time": "2022-04-24T10:20:59.303Z"
   },
   {
    "duration": 25,
    "start_time": "2022-04-24T10:20:59.386Z"
   },
   {
    "duration": 12,
    "start_time": "2022-04-24T10:20:59.413Z"
   },
   {
    "duration": 35,
    "start_time": "2022-04-24T10:20:59.427Z"
   },
   {
    "duration": 60,
    "start_time": "2022-04-24T10:20:59.464Z"
   },
   {
    "duration": 42,
    "start_time": "2022-04-24T10:20:59.526Z"
   },
   {
    "duration": 33,
    "start_time": "2022-04-24T10:20:59.571Z"
   },
   {
    "duration": 55,
    "start_time": "2022-04-24T10:20:59.607Z"
   },
   {
    "duration": 10,
    "start_time": "2022-04-24T10:20:59.665Z"
   },
   {
    "duration": 26,
    "start_time": "2022-04-24T10:20:59.678Z"
   },
   {
    "duration": 361,
    "start_time": "2022-04-24T10:20:59.706Z"
   },
   {
    "duration": 4,
    "start_time": "2022-04-24T10:21:00.069Z"
   },
   {
    "duration": 12,
    "start_time": "2022-04-24T10:21:00.080Z"
   },
   {
    "duration": 199,
    "start_time": "2022-04-24T10:21:00.095Z"
   },
   {
    "duration": 215,
    "start_time": "2022-04-24T10:21:00.297Z"
   },
   {
    "duration": 69,
    "start_time": "2022-04-24T10:21:00.515Z"
   },
   {
    "duration": 10,
    "start_time": "2022-04-24T10:21:00.587Z"
   },
   {
    "duration": 35,
    "start_time": "2022-04-24T10:21:00.600Z"
   },
   {
    "duration": 2605,
    "start_time": "2022-04-24T10:21:00.637Z"
   },
   {
    "duration": 18,
    "start_time": "2022-04-24T10:21:03.245Z"
   },
   {
    "duration": 4,
    "start_time": "2022-04-24T10:21:03.265Z"
   },
   {
    "duration": 10,
    "start_time": "2022-04-24T10:21:03.271Z"
   },
   {
    "duration": 6,
    "start_time": "2022-04-24T10:21:03.283Z"
   },
   {
    "duration": 10,
    "start_time": "2022-04-24T10:21:03.291Z"
   },
   {
    "duration": 442,
    "start_time": "2022-04-24T10:21:03.303Z"
   },
   {
    "duration": 6,
    "start_time": "2022-04-24T10:21:03.747Z"
   },
   {
    "duration": 17,
    "start_time": "2022-04-24T10:21:03.755Z"
   },
   {
    "duration": 288,
    "start_time": "2022-04-24T10:21:03.775Z"
   },
   {
    "duration": 4,
    "start_time": "2022-04-24T10:21:04.066Z"
   },
   {
    "duration": 380,
    "start_time": "2022-04-24T10:21:04.073Z"
   },
   {
    "duration": 4,
    "start_time": "2022-04-24T10:21:04.456Z"
   },
   {
    "duration": 281,
    "start_time": "2022-04-24T10:21:04.463Z"
   },
   {
    "duration": 6,
    "start_time": "2022-04-24T10:21:04.747Z"
   },
   {
    "duration": 252,
    "start_time": "2022-04-24T10:21:04.755Z"
   },
   {
    "duration": 4,
    "start_time": "2022-04-24T10:21:05.009Z"
   },
   {
    "duration": 255,
    "start_time": "2022-04-24T10:21:05.015Z"
   },
   {
    "duration": 4,
    "start_time": "2022-04-24T10:21:05.272Z"
   },
   {
    "duration": 266,
    "start_time": "2022-04-24T10:21:05.278Z"
   },
   {
    "duration": 400,
    "start_time": "2022-04-24T10:21:05.552Z"
   },
   {
    "duration": 400,
    "start_time": "2022-04-24T10:21:05.954Z"
   },
   {
    "duration": 375,
    "start_time": "2022-04-24T10:21:06.356Z"
   },
   {
    "duration": 445,
    "start_time": "2022-04-24T10:21:06.733Z"
   },
   {
    "duration": 18,
    "start_time": "2022-04-24T10:21:07.180Z"
   },
   {
    "duration": 2016,
    "start_time": "2022-04-24T10:21:07.202Z"
   },
   {
    "duration": 363,
    "start_time": "2022-04-24T10:21:33.576Z"
   },
   {
    "duration": 2705,
    "start_time": "2022-04-24T10:22:52.242Z"
   },
   {
    "duration": 35,
    "start_time": "2022-04-24T10:22:54.950Z"
   },
   {
    "duration": 18,
    "start_time": "2022-04-24T10:22:54.988Z"
   },
   {
    "duration": 63,
    "start_time": "2022-04-24T10:22:55.010Z"
   },
   {
    "duration": 46,
    "start_time": "2022-04-24T10:22:55.076Z"
   },
   {
    "duration": 35,
    "start_time": "2022-04-24T10:22:55.124Z"
   },
   {
    "duration": 40,
    "start_time": "2022-04-24T10:22:55.161Z"
   },
   {
    "duration": 29,
    "start_time": "2022-04-24T10:22:55.203Z"
   },
   {
    "duration": 13,
    "start_time": "2022-04-24T10:22:55.252Z"
   },
   {
    "duration": 41,
    "start_time": "2022-04-24T10:22:55.270Z"
   },
   {
    "duration": 37,
    "start_time": "2022-04-24T10:22:55.314Z"
   },
   {
    "duration": 16,
    "start_time": "2022-04-24T10:22:55.353Z"
   },
   {
    "duration": 17,
    "start_time": "2022-04-24T10:22:55.371Z"
   },
   {
    "duration": 17,
    "start_time": "2022-04-24T10:22:55.390Z"
   },
   {
    "duration": 48,
    "start_time": "2022-04-24T10:22:55.409Z"
   },
   {
    "duration": 50,
    "start_time": "2022-04-24T10:22:55.460Z"
   },
   {
    "duration": 50,
    "start_time": "2022-04-24T10:22:55.513Z"
   },
   {
    "duration": 7,
    "start_time": "2022-04-24T10:22:55.565Z"
   },
   {
    "duration": 13,
    "start_time": "2022-04-24T10:22:55.574Z"
   },
   {
    "duration": 75,
    "start_time": "2022-04-24T10:22:55.589Z"
   },
   {
    "duration": 32,
    "start_time": "2022-04-24T10:22:55.667Z"
   },
   {
    "duration": 52,
    "start_time": "2022-04-24T10:22:55.702Z"
   },
   {
    "duration": 22,
    "start_time": "2022-04-24T10:22:55.756Z"
   },
   {
    "duration": 10,
    "start_time": "2022-04-24T10:22:55.780Z"
   },
   {
    "duration": 18,
    "start_time": "2022-04-24T10:22:55.792Z"
   },
   {
    "duration": 291,
    "start_time": "2022-04-24T10:22:55.813Z"
   },
   {
    "duration": 4,
    "start_time": "2022-04-24T10:22:56.106Z"
   },
   {
    "duration": 4,
    "start_time": "2022-04-24T10:22:56.115Z"
   },
   {
    "duration": 157,
    "start_time": "2022-04-24T10:22:56.121Z"
   },
   {
    "duration": 165,
    "start_time": "2022-04-24T10:22:56.280Z"
   },
   {
    "duration": 42,
    "start_time": "2022-04-24T10:22:56.447Z"
   },
   {
    "duration": 8,
    "start_time": "2022-04-24T10:22:56.492Z"
   },
   {
    "duration": 12,
    "start_time": "2022-04-24T10:22:56.502Z"
   },
   {
    "duration": 2294,
    "start_time": "2022-04-24T10:22:56.515Z"
   },
   {
    "duration": 14,
    "start_time": "2022-04-24T10:22:58.811Z"
   },
   {
    "duration": 4,
    "start_time": "2022-04-24T10:22:58.828Z"
   },
   {
    "duration": 5,
    "start_time": "2022-04-24T10:22:58.851Z"
   },
   {
    "duration": 7,
    "start_time": "2022-04-24T10:22:58.858Z"
   },
   {
    "duration": 10,
    "start_time": "2022-04-24T10:22:58.867Z"
   },
   {
    "duration": 435,
    "start_time": "2022-04-24T10:22:58.878Z"
   },
   {
    "duration": 4,
    "start_time": "2022-04-24T10:22:59.315Z"
   },
   {
    "duration": 31,
    "start_time": "2022-04-24T10:22:59.322Z"
   },
   {
    "duration": 309,
    "start_time": "2022-04-24T10:22:59.356Z"
   },
   {
    "duration": 4,
    "start_time": "2022-04-24T10:22:59.667Z"
   },
   {
    "duration": 311,
    "start_time": "2022-04-24T10:22:59.674Z"
   },
   {
    "duration": 4,
    "start_time": "2022-04-24T10:22:59.987Z"
   },
   {
    "duration": 469,
    "start_time": "2022-04-24T10:22:59.993Z"
   },
   {
    "duration": 3,
    "start_time": "2022-04-24T10:23:00.465Z"
   },
   {
    "duration": 300,
    "start_time": "2022-04-24T10:23:00.470Z"
   },
   {
    "duration": 4,
    "start_time": "2022-04-24T10:23:00.772Z"
   },
   {
    "duration": 305,
    "start_time": "2022-04-24T10:23:00.779Z"
   },
   {
    "duration": 3,
    "start_time": "2022-04-24T10:23:01.087Z"
   },
   {
    "duration": 349,
    "start_time": "2022-04-24T10:23:01.094Z"
   },
   {
    "duration": 411,
    "start_time": "2022-04-24T10:23:01.445Z"
   },
   {
    "duration": 421,
    "start_time": "2022-04-24T10:23:01.859Z"
   },
   {
    "duration": 399,
    "start_time": "2022-04-24T10:23:02.283Z"
   },
   {
    "duration": 17,
    "start_time": "2022-04-24T10:23:02.684Z"
   },
   {
    "duration": 2002,
    "start_time": "2022-04-24T10:23:02.704Z"
   },
   {
    "duration": 2232,
    "start_time": "2022-04-24T10:23:29.808Z"
   },
   {
    "duration": 120,
    "start_time": "2022-04-24T10:24:35.161Z"
   },
   {
    "duration": 419,
    "start_time": "2022-04-24T10:25:05.928Z"
   },
   {
    "duration": 504,
    "start_time": "2022-04-24T10:25:16.711Z"
   },
   {
    "duration": 316,
    "start_time": "2022-04-24T10:25:23.699Z"
   },
   {
    "duration": 403,
    "start_time": "2022-04-24T10:25:29.771Z"
   },
   {
    "duration": 2687,
    "start_time": "2022-04-24T10:25:51.868Z"
   },
   {
    "duration": 33,
    "start_time": "2022-04-24T10:25:54.558Z"
   },
   {
    "duration": 17,
    "start_time": "2022-04-24T10:25:54.593Z"
   },
   {
    "duration": 54,
    "start_time": "2022-04-24T10:25:54.614Z"
   },
   {
    "duration": 28,
    "start_time": "2022-04-24T10:25:54.670Z"
   },
   {
    "duration": 13,
    "start_time": "2022-04-24T10:25:54.700Z"
   },
   {
    "duration": 69,
    "start_time": "2022-04-24T10:25:54.715Z"
   },
   {
    "duration": 38,
    "start_time": "2022-04-24T10:25:54.788Z"
   },
   {
    "duration": 35,
    "start_time": "2022-04-24T10:25:54.828Z"
   },
   {
    "duration": 19,
    "start_time": "2022-04-24T10:25:54.867Z"
   },
   {
    "duration": 19,
    "start_time": "2022-04-24T10:25:54.888Z"
   },
   {
    "duration": 53,
    "start_time": "2022-04-24T10:25:54.909Z"
   },
   {
    "duration": 20,
    "start_time": "2022-04-24T10:25:54.964Z"
   },
   {
    "duration": 18,
    "start_time": "2022-04-24T10:25:54.987Z"
   },
   {
    "duration": 17,
    "start_time": "2022-04-24T10:25:55.008Z"
   },
   {
    "duration": 47,
    "start_time": "2022-04-24T10:25:55.052Z"
   },
   {
    "duration": 50,
    "start_time": "2022-04-24T10:25:55.102Z"
   },
   {
    "duration": 7,
    "start_time": "2022-04-24T10:25:55.154Z"
   },
   {
    "duration": 20,
    "start_time": "2022-04-24T10:25:55.163Z"
   },
   {
    "duration": 82,
    "start_time": "2022-04-24T10:25:55.185Z"
   },
   {
    "duration": 31,
    "start_time": "2022-04-24T10:25:55.270Z"
   },
   {
    "duration": 66,
    "start_time": "2022-04-24T10:25:55.304Z"
   },
   {
    "duration": 28,
    "start_time": "2022-04-24T10:25:55.373Z"
   },
   {
    "duration": 10,
    "start_time": "2022-04-24T10:25:55.403Z"
   },
   {
    "duration": 43,
    "start_time": "2022-04-24T10:25:55.416Z"
   },
   {
    "duration": 267,
    "start_time": "2022-04-24T10:25:55.462Z"
   },
   {
    "duration": 3,
    "start_time": "2022-04-24T10:25:55.731Z"
   },
   {
    "duration": 15,
    "start_time": "2022-04-24T10:25:55.740Z"
   },
   {
    "duration": 146,
    "start_time": "2022-04-24T10:25:55.757Z"
   },
   {
    "duration": 164,
    "start_time": "2022-04-24T10:25:55.905Z"
   },
   {
    "duration": 41,
    "start_time": "2022-04-24T10:25:56.071Z"
   },
   {
    "duration": 9,
    "start_time": "2022-04-24T10:25:56.115Z"
   },
   {
    "duration": 31,
    "start_time": "2022-04-24T10:25:56.126Z"
   },
   {
    "duration": 2155,
    "start_time": "2022-04-24T10:25:56.159Z"
   },
   {
    "duration": 14,
    "start_time": "2022-04-24T10:25:58.317Z"
   },
   {
    "duration": 19,
    "start_time": "2022-04-24T10:25:58.333Z"
   },
   {
    "duration": 8,
    "start_time": "2022-04-24T10:25:58.355Z"
   },
   {
    "duration": 7,
    "start_time": "2022-04-24T10:25:58.366Z"
   },
   {
    "duration": 12,
    "start_time": "2022-04-24T10:25:58.375Z"
   },
   {
    "duration": 695,
    "start_time": "2022-04-24T10:25:58.390Z"
   },
   {
    "duration": 5,
    "start_time": "2022-04-24T10:25:59.087Z"
   },
   {
    "duration": 22,
    "start_time": "2022-04-24T10:25:59.095Z"
   },
   {
    "duration": 329,
    "start_time": "2022-04-24T10:25:59.120Z"
   },
   {
    "duration": 6,
    "start_time": "2022-04-24T10:25:59.452Z"
   },
   {
    "duration": 438,
    "start_time": "2022-04-24T10:25:59.460Z"
   },
   {
    "duration": 7,
    "start_time": "2022-04-24T10:25:59.901Z"
   },
   {
    "duration": 552,
    "start_time": "2022-04-24T10:25:59.911Z"
   },
   {
    "duration": 5,
    "start_time": "2022-04-24T10:26:00.466Z"
   },
   {
    "duration": 455,
    "start_time": "2022-04-24T10:26:00.473Z"
   },
   {
    "duration": 3,
    "start_time": "2022-04-24T10:26:00.931Z"
   },
   {
    "duration": 300,
    "start_time": "2022-04-24T10:26:00.936Z"
   },
   {
    "duration": 13,
    "start_time": "2022-04-24T10:26:01.239Z"
   },
   {
    "duration": 312,
    "start_time": "2022-04-24T10:26:01.255Z"
   },
   {
    "duration": 425,
    "start_time": "2022-04-24T10:26:01.570Z"
   },
   {
    "duration": 602,
    "start_time": "2022-04-24T10:26:01.997Z"
   },
   {
    "duration": 394,
    "start_time": "2022-04-24T10:26:02.601Z"
   },
   {
    "duration": 17,
    "start_time": "2022-04-24T10:26:02.997Z"
   },
   {
    "duration": 2091,
    "start_time": "2022-04-24T10:26:03.017Z"
   },
   {
    "duration": 1783,
    "start_time": "2022-04-25T08:32:10.057Z"
   },
   {
    "duration": 26,
    "start_time": "2022-04-25T08:32:11.842Z"
   },
   {
    "duration": 13,
    "start_time": "2022-04-25T08:32:11.869Z"
   },
   {
    "duration": 21,
    "start_time": "2022-04-25T08:32:11.884Z"
   },
   {
    "duration": 29,
    "start_time": "2022-04-25T08:32:11.906Z"
   },
   {
    "duration": 9,
    "start_time": "2022-04-25T08:32:11.936Z"
   },
   {
    "duration": 31,
    "start_time": "2022-04-25T08:32:11.947Z"
   },
   {
    "duration": 18,
    "start_time": "2022-04-25T08:32:11.980Z"
   },
   {
    "duration": 11,
    "start_time": "2022-04-25T08:32:12.000Z"
   },
   {
    "duration": 18,
    "start_time": "2022-04-25T08:32:12.014Z"
   },
   {
    "duration": 10,
    "start_time": "2022-04-25T08:32:12.034Z"
   },
   {
    "duration": 32,
    "start_time": "2022-04-25T08:32:12.045Z"
   },
   {
    "duration": 13,
    "start_time": "2022-04-25T08:32:12.079Z"
   },
   {
    "duration": 20,
    "start_time": "2022-04-25T08:32:12.093Z"
   },
   {
    "duration": 15,
    "start_time": "2022-04-25T08:32:12.115Z"
   },
   {
    "duration": 47,
    "start_time": "2022-04-25T08:32:12.132Z"
   },
   {
    "duration": 19,
    "start_time": "2022-04-25T08:32:12.181Z"
   },
   {
    "duration": 21,
    "start_time": "2022-04-25T08:32:12.202Z"
   },
   {
    "duration": 12,
    "start_time": "2022-04-25T08:32:12.224Z"
   },
   {
    "duration": 30,
    "start_time": "2022-04-25T08:32:12.237Z"
   },
   {
    "duration": 18,
    "start_time": "2022-04-25T08:32:12.269Z"
   },
   {
    "duration": 19,
    "start_time": "2022-04-25T08:32:12.289Z"
   },
   {
    "duration": 14,
    "start_time": "2022-04-25T08:32:12.310Z"
   },
   {
    "duration": 6,
    "start_time": "2022-04-25T08:32:12.325Z"
   },
   {
    "duration": 42,
    "start_time": "2022-04-25T08:32:12.332Z"
   },
   {
    "duration": 176,
    "start_time": "2022-04-25T08:32:12.376Z"
   },
   {
    "duration": 2,
    "start_time": "2022-04-25T08:32:12.554Z"
   },
   {
    "duration": 13,
    "start_time": "2022-04-25T08:32:12.560Z"
   },
   {
    "duration": 88,
    "start_time": "2022-04-25T08:32:12.574Z"
   },
   {
    "duration": 120,
    "start_time": "2022-04-25T08:32:12.664Z"
   },
   {
    "duration": 27,
    "start_time": "2022-04-25T08:32:12.786Z"
   },
   {
    "duration": 5,
    "start_time": "2022-04-25T08:32:12.815Z"
   },
   {
    "duration": 8,
    "start_time": "2022-04-25T08:32:12.822Z"
   },
   {
    "duration": 1065,
    "start_time": "2022-04-25T08:32:12.831Z"
   },
   {
    "duration": 10,
    "start_time": "2022-04-25T08:32:13.897Z"
   },
   {
    "duration": 5,
    "start_time": "2022-04-25T08:32:13.908Z"
   },
   {
    "duration": 7,
    "start_time": "2022-04-25T08:32:13.915Z"
   },
   {
    "duration": 5,
    "start_time": "2022-04-25T08:32:13.924Z"
   },
   {
    "duration": 6,
    "start_time": "2022-04-25T08:32:13.930Z"
   },
   {
    "duration": 219,
    "start_time": "2022-04-25T08:32:13.938Z"
   },
   {
    "duration": 2,
    "start_time": "2022-04-25T08:32:14.159Z"
   },
   {
    "duration": 20,
    "start_time": "2022-04-25T08:32:14.162Z"
   },
   {
    "duration": 183,
    "start_time": "2022-04-25T08:32:14.184Z"
   },
   {
    "duration": 5,
    "start_time": "2022-04-25T08:32:14.369Z"
   },
   {
    "duration": 187,
    "start_time": "2022-04-25T08:32:14.375Z"
   },
   {
    "duration": 2,
    "start_time": "2022-04-25T08:32:14.564Z"
   },
   {
    "duration": 180,
    "start_time": "2022-04-25T08:32:14.573Z"
   },
   {
    "duration": 2,
    "start_time": "2022-04-25T08:32:14.755Z"
   },
   {
    "duration": 171,
    "start_time": "2022-04-25T08:32:14.758Z"
   },
   {
    "duration": 3,
    "start_time": "2022-04-25T08:32:14.930Z"
   },
   {
    "duration": 190,
    "start_time": "2022-04-25T08:32:14.934Z"
   },
   {
    "duration": 3,
    "start_time": "2022-04-25T08:32:15.125Z"
   },
   {
    "duration": 184,
    "start_time": "2022-04-25T08:32:15.129Z"
   },
   {
    "duration": 265,
    "start_time": "2022-04-25T08:32:15.314Z"
   },
   {
    "duration": 286,
    "start_time": "2022-04-25T08:32:15.580Z"
   },
   {
    "duration": 254,
    "start_time": "2022-04-25T08:32:15.867Z"
   },
   {
    "duration": 12,
    "start_time": "2022-04-25T08:32:16.122Z"
   },
   {
    "duration": 1081,
    "start_time": "2022-04-25T08:32:16.136Z"
   },
   {
    "duration": 231,
    "start_time": "2022-04-25T08:34:31.691Z"
   },
   {
    "duration": 241,
    "start_time": "2022-04-25T08:34:45.093Z"
   },
   {
    "duration": 200,
    "start_time": "2022-04-25T08:34:46.275Z"
   },
   {
    "duration": 229,
    "start_time": "2022-04-25T08:34:47.109Z"
   },
   {
    "duration": 275,
    "start_time": "2022-04-25T08:39:19.478Z"
   },
   {
    "duration": 638,
    "start_time": "2022-04-25T08:40:26.494Z"
   },
   {
    "duration": 279,
    "start_time": "2022-04-25T08:40:42.700Z"
   },
   {
    "duration": 284,
    "start_time": "2022-04-25T08:40:51.540Z"
   },
   {
    "duration": 283,
    "start_time": "2022-04-25T08:41:55.584Z"
   },
   {
    "duration": 221,
    "start_time": "2022-04-25T08:42:22.366Z"
   },
   {
    "duration": 284,
    "start_time": "2022-04-25T08:42:43.662Z"
   },
   {
    "duration": 368,
    "start_time": "2022-04-25T08:43:48.848Z"
   },
   {
    "duration": 309,
    "start_time": "2022-04-25T08:45:14.528Z"
   },
   {
    "duration": 305,
    "start_time": "2022-04-25T08:46:13.602Z"
   },
   {
    "duration": 283,
    "start_time": "2022-04-25T08:48:03.939Z"
   },
   {
    "duration": 268,
    "start_time": "2022-04-25T08:48:27.134Z"
   },
   {
    "duration": 255,
    "start_time": "2022-04-25T08:48:46.315Z"
   },
   {
    "duration": 314,
    "start_time": "2022-04-25T08:48:53.086Z"
   },
   {
    "duration": 271,
    "start_time": "2022-04-25T08:49:05.841Z"
   },
   {
    "duration": 253,
    "start_time": "2022-04-25T08:51:44.733Z"
   },
   {
    "duration": 256,
    "start_time": "2022-04-25T08:52:10.209Z"
   },
   {
    "duration": 270,
    "start_time": "2022-04-25T08:54:28.609Z"
   },
   {
    "duration": 133,
    "start_time": "2022-04-25T08:55:42.853Z"
   },
   {
    "duration": 1541,
    "start_time": "2022-04-25T08:56:02.670Z"
   },
   {
    "duration": 1895,
    "start_time": "2022-04-25T08:58:08.458Z"
   },
   {
    "duration": 643,
    "start_time": "2022-04-25T08:58:46.519Z"
   },
   {
    "duration": 2039,
    "start_time": "2022-04-25T08:59:35.094Z"
   },
   {
    "duration": 2198,
    "start_time": "2022-04-25T09:00:00.191Z"
   },
   {
    "duration": 9,
    "start_time": "2022-04-25T09:01:28.233Z"
   },
   {
    "duration": 9,
    "start_time": "2022-04-25T09:01:36.326Z"
   },
   {
    "duration": 10,
    "start_time": "2022-04-25T09:01:37.527Z"
   },
   {
    "duration": 256,
    "start_time": "2022-04-25T09:02:44.482Z"
   },
   {
    "duration": 205,
    "start_time": "2022-04-25T09:02:51.497Z"
   },
   {
    "duration": 237,
    "start_time": "2022-04-25T09:02:57.460Z"
   },
   {
    "duration": 38,
    "start_time": "2022-04-25T09:04:57.495Z"
   },
   {
    "duration": 32,
    "start_time": "2022-04-25T09:05:17.895Z"
   },
   {
    "duration": 261,
    "start_time": "2022-04-25T09:05:43.317Z"
   },
   {
    "duration": 16,
    "start_time": "2022-04-25T09:06:34.202Z"
   },
   {
    "duration": 22,
    "start_time": "2022-04-25T09:06:58.868Z"
   },
   {
    "duration": 151,
    "start_time": "2022-04-25T09:14:21.815Z"
   },
   {
    "duration": 147,
    "start_time": "2022-04-25T09:16:09.548Z"
   },
   {
    "duration": 144,
    "start_time": "2022-04-25T09:17:17.023Z"
   },
   {
    "duration": 234,
    "start_time": "2022-04-25T09:18:34.102Z"
   },
   {
    "duration": 139,
    "start_time": "2022-04-25T09:20:11.074Z"
   },
   {
    "duration": 119,
    "start_time": "2022-04-25T09:20:42.352Z"
   },
   {
    "duration": 153,
    "start_time": "2022-04-25T09:22:10.430Z"
   },
   {
    "duration": 140,
    "start_time": "2022-04-25T09:22:15.628Z"
   },
   {
    "duration": 162,
    "start_time": "2022-04-25T09:26:35.138Z"
   },
   {
    "duration": 140,
    "start_time": "2022-04-25T09:26:59.743Z"
   },
   {
    "duration": 147,
    "start_time": "2022-04-25T09:27:20.061Z"
   },
   {
    "duration": 242,
    "start_time": "2022-04-25T09:29:04.245Z"
   },
   {
    "duration": 161,
    "start_time": "2022-04-25T09:29:19.235Z"
   },
   {
    "duration": 214,
    "start_time": "2022-04-25T09:32:02.756Z"
   },
   {
    "duration": 1881,
    "start_time": "2022-04-25T09:32:23.722Z"
   },
   {
    "duration": 312,
    "start_time": "2022-04-25T09:32:40.753Z"
   },
   {
    "duration": 199,
    "start_time": "2022-04-25T09:32:56.356Z"
   },
   {
    "duration": 196,
    "start_time": "2022-04-25T09:33:08.283Z"
   },
   {
    "duration": 196,
    "start_time": "2022-04-25T09:33:40.989Z"
   },
   {
    "duration": 204,
    "start_time": "2022-04-25T09:34:40.858Z"
   },
   {
    "duration": 203,
    "start_time": "2022-04-25T09:35:39.021Z"
   },
   {
    "duration": 207,
    "start_time": "2022-04-25T09:35:57.476Z"
   },
   {
    "duration": 220,
    "start_time": "2022-04-25T09:36:03.016Z"
   },
   {
    "duration": 2024,
    "start_time": "2022-04-25T09:37:31.095Z"
   },
   {
    "duration": 198,
    "start_time": "2022-04-25T09:37:49.809Z"
   },
   {
    "duration": 213,
    "start_time": "2022-04-25T09:39:08.893Z"
   },
   {
    "duration": 9,
    "start_time": "2022-04-25T09:50:37.213Z"
   },
   {
    "duration": 23,
    "start_time": "2022-04-25T09:50:56.824Z"
   },
   {
    "duration": 24,
    "start_time": "2022-04-25T09:52:44.709Z"
   },
   {
    "duration": 23,
    "start_time": "2022-04-25T09:53:06.137Z"
   },
   {
    "duration": 22,
    "start_time": "2022-04-25T09:54:52.890Z"
   },
   {
    "duration": 393,
    "start_time": "2022-04-25T10:03:21.788Z"
   },
   {
    "duration": 504,
    "start_time": "2022-04-25T10:22:54.424Z"
   },
   {
    "duration": 472,
    "start_time": "2022-04-25T10:23:03.378Z"
   },
   {
    "duration": 640,
    "start_time": "2022-04-25T10:23:34.027Z"
   },
   {
    "duration": 5,
    "start_time": "2022-04-25T10:24:06.909Z"
   },
   {
    "duration": 5,
    "start_time": "2022-04-25T10:27:59.483Z"
   },
   {
    "duration": 6,
    "start_time": "2022-04-25T10:28:08.648Z"
   },
   {
    "duration": 5,
    "start_time": "2022-04-25T10:31:47.804Z"
   },
   {
    "duration": 5,
    "start_time": "2022-04-25T10:32:02.934Z"
   },
   {
    "duration": 4,
    "start_time": "2022-04-25T10:32:08.945Z"
   },
   {
    "duration": 4,
    "start_time": "2022-04-25T10:33:13.975Z"
   },
   {
    "duration": 5,
    "start_time": "2022-04-25T11:07:03.983Z"
   },
   {
    "duration": 5,
    "start_time": "2022-04-25T11:07:29.201Z"
   },
   {
    "duration": 1626,
    "start_time": "2022-04-25T11:11:04.578Z"
   },
   {
    "duration": 28,
    "start_time": "2022-04-25T11:11:06.206Z"
   },
   {
    "duration": 14,
    "start_time": "2022-04-25T11:11:06.236Z"
   },
   {
    "duration": 22,
    "start_time": "2022-04-25T11:11:06.253Z"
   },
   {
    "duration": 22,
    "start_time": "2022-04-25T11:11:06.277Z"
   },
   {
    "duration": 9,
    "start_time": "2022-04-25T11:11:06.301Z"
   },
   {
    "duration": 19,
    "start_time": "2022-04-25T11:11:06.312Z"
   },
   {
    "duration": 45,
    "start_time": "2022-04-25T11:11:06.333Z"
   },
   {
    "duration": 7,
    "start_time": "2022-04-25T11:11:06.380Z"
   },
   {
    "duration": 19,
    "start_time": "2022-04-25T11:11:06.390Z"
   },
   {
    "duration": 11,
    "start_time": "2022-04-25T11:11:06.410Z"
   },
   {
    "duration": 9,
    "start_time": "2022-04-25T11:11:06.423Z"
   },
   {
    "duration": 11,
    "start_time": "2022-04-25T11:11:06.434Z"
   },
   {
    "duration": 10,
    "start_time": "2022-04-25T11:11:06.474Z"
   },
   {
    "duration": 10,
    "start_time": "2022-04-25T11:11:06.486Z"
   },
   {
    "duration": 39,
    "start_time": "2022-04-25T11:11:06.497Z"
   },
   {
    "duration": 36,
    "start_time": "2022-04-25T11:11:06.538Z"
   },
   {
    "duration": 6,
    "start_time": "2022-04-25T11:11:06.575Z"
   },
   {
    "duration": 11,
    "start_time": "2022-04-25T11:11:06.582Z"
   },
   {
    "duration": 32,
    "start_time": "2022-04-25T11:11:06.595Z"
   },
   {
    "duration": 17,
    "start_time": "2022-04-25T11:11:06.628Z"
   },
   {
    "duration": 42,
    "start_time": "2022-04-25T11:11:06.647Z"
   },
   {
    "duration": 18,
    "start_time": "2022-04-25T11:11:06.691Z"
   },
   {
    "duration": 6,
    "start_time": "2022-04-25T11:11:06.711Z"
   },
   {
    "duration": 18,
    "start_time": "2022-04-25T11:11:06.719Z"
   },
   {
    "duration": 212,
    "start_time": "2022-04-25T11:11:06.739Z"
   },
   {
    "duration": 2,
    "start_time": "2022-04-25T11:11:06.953Z"
   },
   {
    "duration": 13,
    "start_time": "2022-04-25T11:11:06.960Z"
   },
   {
    "duration": 107,
    "start_time": "2022-04-25T11:11:06.975Z"
   },
   {
    "duration": 111,
    "start_time": "2022-04-25T11:11:07.083Z"
   },
   {
    "duration": 29,
    "start_time": "2022-04-25T11:11:07.196Z"
   },
   {
    "duration": 5,
    "start_time": "2022-04-25T11:11:07.227Z"
   },
   {
    "duration": 8,
    "start_time": "2022-04-25T11:11:07.234Z"
   },
   {
    "duration": 1183,
    "start_time": "2022-04-25T11:11:07.244Z"
   },
   {
    "duration": 9,
    "start_time": "2022-04-25T11:11:08.429Z"
   },
   {
    "duration": 27,
    "start_time": "2022-04-25T11:11:08.440Z"
   },
   {
    "duration": 7,
    "start_time": "2022-04-25T11:11:08.469Z"
   },
   {
    "duration": 5,
    "start_time": "2022-04-25T11:11:08.478Z"
   },
   {
    "duration": 7,
    "start_time": "2022-04-25T11:11:08.484Z"
   },
   {
    "duration": 218,
    "start_time": "2022-04-25T11:11:08.492Z"
   },
   {
    "duration": 2,
    "start_time": "2022-04-25T11:11:08.712Z"
   },
   {
    "duration": 18,
    "start_time": "2022-04-25T11:11:08.716Z"
   },
   {
    "duration": 194,
    "start_time": "2022-04-25T11:11:08.736Z"
   },
   {
    "duration": 3,
    "start_time": "2022-04-25T11:11:08.932Z"
   },
   {
    "duration": 203,
    "start_time": "2022-04-25T11:11:08.937Z"
   },
   {
    "duration": 2,
    "start_time": "2022-04-25T11:11:09.142Z"
   },
   {
    "duration": 195,
    "start_time": "2022-04-25T11:11:09.146Z"
   },
   {
    "duration": 3,
    "start_time": "2022-04-25T11:11:09.343Z"
   },
   {
    "duration": 179,
    "start_time": "2022-04-25T11:11:09.347Z"
   },
   {
    "duration": 2,
    "start_time": "2022-04-25T11:11:09.528Z"
   },
   {
    "duration": 193,
    "start_time": "2022-04-25T11:11:09.532Z"
   },
   {
    "duration": 3,
    "start_time": "2022-04-25T11:11:09.727Z"
   },
   {
    "duration": 190,
    "start_time": "2022-04-25T11:11:09.731Z"
   },
   {
    "duration": 107,
    "start_time": "2022-04-25T11:11:09.923Z"
   },
   {
    "duration": 0,
    "start_time": "2022-04-25T11:11:10.032Z"
   },
   {
    "duration": 0,
    "start_time": "2022-04-25T11:11:10.033Z"
   },
   {
    "duration": 0,
    "start_time": "2022-04-25T11:11:10.034Z"
   },
   {
    "duration": 0,
    "start_time": "2022-04-25T11:11:10.035Z"
   },
   {
    "duration": 0,
    "start_time": "2022-04-25T11:11:10.036Z"
   },
   {
    "duration": 1,
    "start_time": "2022-04-25T11:11:10.037Z"
   },
   {
    "duration": 1,
    "start_time": "2022-04-25T11:11:10.038Z"
   },
   {
    "duration": 0,
    "start_time": "2022-04-25T11:11:10.040Z"
   },
   {
    "duration": 0,
    "start_time": "2022-04-25T11:11:10.041Z"
   },
   {
    "duration": 0,
    "start_time": "2022-04-25T11:11:10.042Z"
   },
   {
    "duration": 0,
    "start_time": "2022-04-25T11:11:10.043Z"
   },
   {
    "duration": 0,
    "start_time": "2022-04-25T11:11:10.044Z"
   },
   {
    "duration": 1553,
    "start_time": "2022-04-25T11:11:38.708Z"
   },
   {
    "duration": 27,
    "start_time": "2022-04-25T11:11:40.262Z"
   },
   {
    "duration": 13,
    "start_time": "2022-04-25T11:11:40.290Z"
   },
   {
    "duration": 20,
    "start_time": "2022-04-25T11:11:40.305Z"
   },
   {
    "duration": 21,
    "start_time": "2022-04-25T11:11:40.327Z"
   },
   {
    "duration": 10,
    "start_time": "2022-04-25T11:11:40.372Z"
   },
   {
    "duration": 20,
    "start_time": "2022-04-25T11:11:40.383Z"
   },
   {
    "duration": 18,
    "start_time": "2022-04-25T11:11:40.405Z"
   },
   {
    "duration": 7,
    "start_time": "2022-04-25T11:11:40.425Z"
   },
   {
    "duration": 43,
    "start_time": "2022-04-25T11:11:40.435Z"
   },
   {
    "duration": 10,
    "start_time": "2022-04-25T11:11:40.480Z"
   },
   {
    "duration": 11,
    "start_time": "2022-04-25T11:11:40.491Z"
   },
   {
    "duration": 12,
    "start_time": "2022-04-25T11:11:40.503Z"
   },
   {
    "duration": 11,
    "start_time": "2022-04-25T11:11:40.517Z"
   },
   {
    "duration": 6,
    "start_time": "2022-04-25T11:11:40.530Z"
   },
   {
    "duration": 62,
    "start_time": "2022-04-25T11:11:40.538Z"
   },
   {
    "duration": 18,
    "start_time": "2022-04-25T11:11:40.602Z"
   },
   {
    "duration": 5,
    "start_time": "2022-04-25T11:11:40.622Z"
   },
   {
    "duration": 7,
    "start_time": "2022-04-25T11:11:40.629Z"
   },
   {
    "duration": 54,
    "start_time": "2022-04-25T11:11:40.638Z"
   },
   {
    "duration": 16,
    "start_time": "2022-04-25T11:11:40.694Z"
   },
   {
    "duration": 21,
    "start_time": "2022-04-25T11:11:40.712Z"
   },
   {
    "duration": 16,
    "start_time": "2022-04-25T11:11:40.735Z"
   },
   {
    "duration": 23,
    "start_time": "2022-04-25T11:11:40.753Z"
   },
   {
    "duration": 16,
    "start_time": "2022-04-25T11:11:40.777Z"
   },
   {
    "duration": 193,
    "start_time": "2022-04-25T11:11:40.795Z"
   },
   {
    "duration": 2,
    "start_time": "2022-04-25T11:11:40.990Z"
   },
   {
    "duration": 3,
    "start_time": "2022-04-25T11:11:40.996Z"
   },
   {
    "duration": 104,
    "start_time": "2022-04-25T11:11:41.001Z"
   },
   {
    "duration": 111,
    "start_time": "2022-04-25T11:11:41.106Z"
   },
   {
    "duration": 28,
    "start_time": "2022-04-25T11:11:41.218Z"
   },
   {
    "duration": 5,
    "start_time": "2022-04-25T11:11:41.248Z"
   },
   {
    "duration": 22,
    "start_time": "2022-04-25T11:11:41.255Z"
   },
   {
    "duration": 1040,
    "start_time": "2022-04-25T11:11:41.279Z"
   },
   {
    "duration": 10,
    "start_time": "2022-04-25T11:11:42.321Z"
   },
   {
    "duration": 6,
    "start_time": "2022-04-25T11:11:42.332Z"
   },
   {
    "duration": 9,
    "start_time": "2022-04-25T11:11:42.340Z"
   },
   {
    "duration": 6,
    "start_time": "2022-04-25T11:11:42.350Z"
   },
   {
    "duration": 17,
    "start_time": "2022-04-25T11:11:42.358Z"
   },
   {
    "duration": 215,
    "start_time": "2022-04-25T11:11:42.376Z"
   },
   {
    "duration": 2,
    "start_time": "2022-04-25T11:11:42.593Z"
   },
   {
    "duration": 13,
    "start_time": "2022-04-25T11:11:42.597Z"
   },
   {
    "duration": 198,
    "start_time": "2022-04-25T11:11:42.612Z"
   },
   {
    "duration": 2,
    "start_time": "2022-04-25T11:11:42.812Z"
   },
   {
    "duration": 198,
    "start_time": "2022-04-25T11:11:42.816Z"
   },
   {
    "duration": 3,
    "start_time": "2022-04-25T11:11:43.015Z"
   },
   {
    "duration": 194,
    "start_time": "2022-04-25T11:11:43.019Z"
   },
   {
    "duration": 2,
    "start_time": "2022-04-25T11:11:43.215Z"
   },
   {
    "duration": 186,
    "start_time": "2022-04-25T11:11:43.219Z"
   },
   {
    "duration": 3,
    "start_time": "2022-04-25T11:11:43.406Z"
   },
   {
    "duration": 188,
    "start_time": "2022-04-25T11:11:43.410Z"
   },
   {
    "duration": 2,
    "start_time": "2022-04-25T11:11:43.600Z"
   },
   {
    "duration": 193,
    "start_time": "2022-04-25T11:11:43.604Z"
   },
   {
    "duration": 106,
    "start_time": "2022-04-25T11:11:43.798Z"
   },
   {
    "duration": 0,
    "start_time": "2022-04-25T11:11:43.905Z"
   },
   {
    "duration": 0,
    "start_time": "2022-04-25T11:11:43.906Z"
   },
   {
    "duration": 0,
    "start_time": "2022-04-25T11:11:43.907Z"
   },
   {
    "duration": 0,
    "start_time": "2022-04-25T11:11:43.909Z"
   },
   {
    "duration": 0,
    "start_time": "2022-04-25T11:11:43.910Z"
   },
   {
    "duration": 0,
    "start_time": "2022-04-25T11:11:43.911Z"
   },
   {
    "duration": 0,
    "start_time": "2022-04-25T11:11:43.912Z"
   },
   {
    "duration": 0,
    "start_time": "2022-04-25T11:11:43.913Z"
   },
   {
    "duration": 0,
    "start_time": "2022-04-25T11:11:43.914Z"
   },
   {
    "duration": 0,
    "start_time": "2022-04-25T11:11:43.915Z"
   },
   {
    "duration": 0,
    "start_time": "2022-04-25T11:11:43.917Z"
   },
   {
    "duration": 0,
    "start_time": "2022-04-25T11:11:43.918Z"
   },
   {
    "duration": 224,
    "start_time": "2022-04-25T11:12:28.292Z"
   },
   {
    "duration": 1768,
    "start_time": "2022-04-25T11:14:06.114Z"
   },
   {
    "duration": 30,
    "start_time": "2022-04-25T11:14:07.885Z"
   },
   {
    "duration": 14,
    "start_time": "2022-04-25T11:14:07.917Z"
   },
   {
    "duration": 21,
    "start_time": "2022-04-25T11:14:07.933Z"
   },
   {
    "duration": 25,
    "start_time": "2022-04-25T11:14:07.972Z"
   },
   {
    "duration": 11,
    "start_time": "2022-04-25T11:14:07.999Z"
   },
   {
    "duration": 21,
    "start_time": "2022-04-25T11:14:08.012Z"
   },
   {
    "duration": 55,
    "start_time": "2022-04-25T11:14:08.035Z"
   },
   {
    "duration": 13,
    "start_time": "2022-04-25T11:14:08.093Z"
   },
   {
    "duration": 27,
    "start_time": "2022-04-25T11:14:08.110Z"
   },
   {
    "duration": 34,
    "start_time": "2022-04-25T11:14:08.139Z"
   },
   {
    "duration": 12,
    "start_time": "2022-04-25T11:14:08.177Z"
   },
   {
    "duration": 33,
    "start_time": "2022-04-25T11:14:08.191Z"
   },
   {
    "duration": 19,
    "start_time": "2022-04-25T11:14:08.226Z"
   },
   {
    "duration": 12,
    "start_time": "2022-04-25T11:14:08.247Z"
   },
   {
    "duration": 55,
    "start_time": "2022-04-25T11:14:08.261Z"
   },
   {
    "duration": 22,
    "start_time": "2022-04-25T11:14:08.318Z"
   },
   {
    "duration": 6,
    "start_time": "2022-04-25T11:14:08.342Z"
   },
   {
    "duration": 26,
    "start_time": "2022-04-25T11:14:08.350Z"
   },
   {
    "duration": 32,
    "start_time": "2022-04-25T11:14:08.378Z"
   },
   {
    "duration": 20,
    "start_time": "2022-04-25T11:14:08.412Z"
   },
   {
    "duration": 50,
    "start_time": "2022-04-25T11:14:08.434Z"
   },
   {
    "duration": 16,
    "start_time": "2022-04-25T11:14:08.485Z"
   },
   {
    "duration": 6,
    "start_time": "2022-04-25T11:14:08.503Z"
   },
   {
    "duration": 13,
    "start_time": "2022-04-25T11:14:08.511Z"
   },
   {
    "duration": 211,
    "start_time": "2022-04-25T11:14:08.526Z"
   },
   {
    "duration": 3,
    "start_time": "2022-04-25T11:14:08.739Z"
   },
   {
    "duration": 12,
    "start_time": "2022-04-25T11:14:08.746Z"
   },
   {
    "duration": 107,
    "start_time": "2022-04-25T11:14:08.760Z"
   },
   {
    "duration": 118,
    "start_time": "2022-04-25T11:14:08.868Z"
   },
   {
    "duration": 29,
    "start_time": "2022-04-25T11:14:08.988Z"
   },
   {
    "duration": 7,
    "start_time": "2022-04-25T11:14:09.018Z"
   },
   {
    "duration": 13,
    "start_time": "2022-04-25T11:14:09.026Z"
   },
   {
    "duration": 1118,
    "start_time": "2022-04-25T11:14:09.042Z"
   },
   {
    "duration": 13,
    "start_time": "2022-04-25T11:14:10.161Z"
   },
   {
    "duration": 2,
    "start_time": "2022-04-25T11:14:10.176Z"
   },
   {
    "duration": 6,
    "start_time": "2022-04-25T11:14:10.180Z"
   },
   {
    "duration": 5,
    "start_time": "2022-04-25T11:14:10.188Z"
   },
   {
    "duration": 10,
    "start_time": "2022-04-25T11:14:10.195Z"
   },
   {
    "duration": 237,
    "start_time": "2022-04-25T11:14:10.207Z"
   },
   {
    "duration": 3,
    "start_time": "2022-04-25T11:14:10.446Z"
   },
   {
    "duration": 15,
    "start_time": "2022-04-25T11:14:10.450Z"
   },
   {
    "duration": 199,
    "start_time": "2022-04-25T11:14:10.474Z"
   },
   {
    "duration": 2,
    "start_time": "2022-04-25T11:14:10.675Z"
   },
   {
    "duration": 203,
    "start_time": "2022-04-25T11:14:10.679Z"
   },
   {
    "duration": 2,
    "start_time": "2022-04-25T11:14:10.884Z"
   },
   {
    "duration": 220,
    "start_time": "2022-04-25T11:14:10.888Z"
   },
   {
    "duration": 2,
    "start_time": "2022-04-25T11:14:11.110Z"
   },
   {
    "duration": 192,
    "start_time": "2022-04-25T11:14:11.114Z"
   },
   {
    "duration": 3,
    "start_time": "2022-04-25T11:14:11.307Z"
   },
   {
    "duration": 188,
    "start_time": "2022-04-25T11:14:11.311Z"
   },
   {
    "duration": 3,
    "start_time": "2022-04-25T11:14:11.500Z"
   },
   {
    "duration": 211,
    "start_time": "2022-04-25T11:14:11.504Z"
   },
   {
    "duration": 231,
    "start_time": "2022-04-25T11:14:11.717Z"
   },
   {
    "duration": 111,
    "start_time": "2022-04-25T11:14:11.949Z"
   },
   {
    "duration": 0,
    "start_time": "2022-04-25T11:14:12.062Z"
   },
   {
    "duration": 0,
    "start_time": "2022-04-25T11:14:12.063Z"
   },
   {
    "duration": 0,
    "start_time": "2022-04-25T11:14:12.064Z"
   },
   {
    "duration": 0,
    "start_time": "2022-04-25T11:14:12.066Z"
   },
   {
    "duration": 0,
    "start_time": "2022-04-25T11:14:12.066Z"
   },
   {
    "duration": 0,
    "start_time": "2022-04-25T11:14:12.073Z"
   },
   {
    "duration": 0,
    "start_time": "2022-04-25T11:14:12.074Z"
   },
   {
    "duration": 0,
    "start_time": "2022-04-25T11:14:12.075Z"
   },
   {
    "duration": 0,
    "start_time": "2022-04-25T11:14:12.076Z"
   },
   {
    "duration": 0,
    "start_time": "2022-04-25T11:14:12.077Z"
   },
   {
    "duration": 0,
    "start_time": "2022-04-25T11:14:12.078Z"
   },
   {
    "duration": 211,
    "start_time": "2022-04-25T11:14:31.776Z"
   },
   {
    "duration": 321,
    "start_time": "2022-04-25T11:14:35.569Z"
   },
   {
    "duration": 2835,
    "start_time": "2022-04-25T11:14:42.158Z"
   },
   {
    "duration": 43,
    "start_time": "2022-04-25T11:14:44.996Z"
   },
   {
    "duration": 20,
    "start_time": "2022-04-25T11:14:45.041Z"
   },
   {
    "duration": 27,
    "start_time": "2022-04-25T11:14:45.064Z"
   },
   {
    "duration": 24,
    "start_time": "2022-04-25T11:14:45.093Z"
   },
   {
    "duration": 10,
    "start_time": "2022-04-25T11:14:45.119Z"
   },
   {
    "duration": 28,
    "start_time": "2022-04-25T11:14:45.131Z"
   },
   {
    "duration": 20,
    "start_time": "2022-04-25T11:14:45.175Z"
   },
   {
    "duration": 10,
    "start_time": "2022-04-25T11:14:45.197Z"
   },
   {
    "duration": 20,
    "start_time": "2022-04-25T11:14:45.210Z"
   },
   {
    "duration": 42,
    "start_time": "2022-04-25T11:14:45.232Z"
   },
   {
    "duration": 15,
    "start_time": "2022-04-25T11:14:45.276Z"
   },
   {
    "duration": 17,
    "start_time": "2022-04-25T11:14:45.293Z"
   },
   {
    "duration": 19,
    "start_time": "2022-04-25T11:14:45.312Z"
   },
   {
    "duration": 10,
    "start_time": "2022-04-25T11:14:45.333Z"
   },
   {
    "duration": 60,
    "start_time": "2022-04-25T11:14:45.345Z"
   },
   {
    "duration": 20,
    "start_time": "2022-04-25T11:14:45.407Z"
   },
   {
    "duration": 7,
    "start_time": "2022-04-25T11:14:45.429Z"
   },
   {
    "duration": 36,
    "start_time": "2022-04-25T11:14:45.438Z"
   },
   {
    "duration": 28,
    "start_time": "2022-04-25T11:14:45.477Z"
   },
   {
    "duration": 19,
    "start_time": "2022-04-25T11:14:45.507Z"
   },
   {
    "duration": 51,
    "start_time": "2022-04-25T11:14:45.528Z"
   },
   {
    "duration": 19,
    "start_time": "2022-04-25T11:14:45.581Z"
   },
   {
    "duration": 7,
    "start_time": "2022-04-25T11:14:45.602Z"
   },
   {
    "duration": 14,
    "start_time": "2022-04-25T11:14:45.611Z"
   },
   {
    "duration": 212,
    "start_time": "2022-04-25T11:14:45.627Z"
   },
   {
    "duration": 3,
    "start_time": "2022-04-25T11:14:45.841Z"
   },
   {
    "duration": 7,
    "start_time": "2022-04-25T11:14:45.850Z"
   },
   {
    "duration": 119,
    "start_time": "2022-04-25T11:14:45.860Z"
   },
   {
    "duration": 121,
    "start_time": "2022-04-25T11:14:45.981Z"
   },
   {
    "duration": 41,
    "start_time": "2022-04-25T11:14:46.104Z"
   },
   {
    "duration": 7,
    "start_time": "2022-04-25T11:14:46.147Z"
   },
   {
    "duration": 9,
    "start_time": "2022-04-25T11:14:46.173Z"
   },
   {
    "duration": 1136,
    "start_time": "2022-04-25T11:14:46.184Z"
   },
   {
    "duration": 9,
    "start_time": "2022-04-25T11:14:47.322Z"
   },
   {
    "duration": 6,
    "start_time": "2022-04-25T11:14:47.333Z"
   },
   {
    "duration": 9,
    "start_time": "2022-04-25T11:14:47.341Z"
   },
   {
    "duration": 21,
    "start_time": "2022-04-25T11:14:47.352Z"
   },
   {
    "duration": 6,
    "start_time": "2022-04-25T11:14:47.375Z"
   },
   {
    "duration": 264,
    "start_time": "2022-04-25T11:14:47.384Z"
   },
   {
    "duration": 3,
    "start_time": "2022-04-25T11:14:47.651Z"
   },
   {
    "duration": 22,
    "start_time": "2022-04-25T11:14:47.656Z"
   },
   {
    "duration": 220,
    "start_time": "2022-04-25T11:14:47.680Z"
   },
   {
    "duration": 3,
    "start_time": "2022-04-25T11:14:47.902Z"
   },
   {
    "duration": 205,
    "start_time": "2022-04-25T11:14:47.907Z"
   },
   {
    "duration": 3,
    "start_time": "2022-04-25T11:14:48.115Z"
   },
   {
    "duration": 198,
    "start_time": "2022-04-25T11:14:48.119Z"
   },
   {
    "duration": 3,
    "start_time": "2022-04-25T11:14:48.319Z"
   },
   {
    "duration": 189,
    "start_time": "2022-04-25T11:14:48.323Z"
   },
   {
    "duration": 3,
    "start_time": "2022-04-25T11:14:48.514Z"
   },
   {
    "duration": 196,
    "start_time": "2022-04-25T11:14:48.519Z"
   },
   {
    "duration": 3,
    "start_time": "2022-04-25T11:14:48.716Z"
   },
   {
    "duration": 202,
    "start_time": "2022-04-25T11:14:48.721Z"
   },
   {
    "duration": 238,
    "start_time": "2022-04-25T11:14:48.925Z"
   },
   {
    "duration": 207,
    "start_time": "2022-04-25T11:14:49.173Z"
   },
   {
    "duration": 316,
    "start_time": "2022-04-25T11:14:49.381Z"
   },
   {
    "duration": 126,
    "start_time": "2022-04-25T11:14:49.699Z"
   },
   {
    "duration": 0,
    "start_time": "2022-04-25T11:14:49.827Z"
   },
   {
    "duration": 0,
    "start_time": "2022-04-25T11:14:49.828Z"
   },
   {
    "duration": 0,
    "start_time": "2022-04-25T11:14:49.829Z"
   },
   {
    "duration": 0,
    "start_time": "2022-04-25T11:14:49.830Z"
   },
   {
    "duration": 0,
    "start_time": "2022-04-25T11:14:49.831Z"
   },
   {
    "duration": 0,
    "start_time": "2022-04-25T11:14:49.832Z"
   },
   {
    "duration": 0,
    "start_time": "2022-04-25T11:14:49.833Z"
   },
   {
    "duration": 0,
    "start_time": "2022-04-25T11:14:49.835Z"
   },
   {
    "duration": 0,
    "start_time": "2022-04-25T11:14:49.836Z"
   },
   {
    "duration": 200,
    "start_time": "2022-04-25T11:16:21.622Z"
   },
   {
    "duration": 203,
    "start_time": "2022-04-25T11:16:34.238Z"
   },
   {
    "duration": 265,
    "start_time": "2022-04-25T11:17:16.833Z"
   },
   {
    "duration": 242,
    "start_time": "2022-04-25T11:17:21.563Z"
   },
   {
    "duration": 293,
    "start_time": "2022-04-25T11:17:32.889Z"
   },
   {
    "duration": 281,
    "start_time": "2022-04-25T11:17:39.365Z"
   },
   {
    "duration": 210,
    "start_time": "2022-04-25T11:18:14.060Z"
   },
   {
    "duration": 414,
    "start_time": "2022-04-25T11:18:28.070Z"
   },
   {
    "duration": 249,
    "start_time": "2022-04-25T11:18:45.065Z"
   },
   {
    "duration": 2353,
    "start_time": "2022-04-25T11:19:08.053Z"
   },
   {
    "duration": 27,
    "start_time": "2022-04-25T11:19:10.409Z"
   },
   {
    "duration": 12,
    "start_time": "2022-04-25T11:19:10.438Z"
   },
   {
    "duration": 21,
    "start_time": "2022-04-25T11:19:10.453Z"
   },
   {
    "duration": 31,
    "start_time": "2022-04-25T11:19:10.476Z"
   },
   {
    "duration": 9,
    "start_time": "2022-04-25T11:19:10.509Z"
   },
   {
    "duration": 20,
    "start_time": "2022-04-25T11:19:10.520Z"
   },
   {
    "duration": 39,
    "start_time": "2022-04-25T11:19:10.542Z"
   },
   {
    "duration": 7,
    "start_time": "2022-04-25T11:19:10.583Z"
   },
   {
    "duration": 23,
    "start_time": "2022-04-25T11:19:10.593Z"
   },
   {
    "duration": 13,
    "start_time": "2022-04-25T11:19:10.618Z"
   },
   {
    "duration": 41,
    "start_time": "2022-04-25T11:19:10.633Z"
   },
   {
    "duration": 15,
    "start_time": "2022-04-25T11:19:10.676Z"
   },
   {
    "duration": 13,
    "start_time": "2022-04-25T11:19:10.693Z"
   },
   {
    "duration": 8,
    "start_time": "2022-04-25T11:19:10.708Z"
   },
   {
    "duration": 34,
    "start_time": "2022-04-25T11:19:10.718Z"
   },
   {
    "duration": 36,
    "start_time": "2022-04-25T11:19:10.753Z"
   },
   {
    "duration": 5,
    "start_time": "2022-04-25T11:19:10.791Z"
   },
   {
    "duration": 9,
    "start_time": "2022-04-25T11:19:10.798Z"
   },
   {
    "duration": 32,
    "start_time": "2022-04-25T11:19:10.809Z"
   },
   {
    "duration": 42,
    "start_time": "2022-04-25T11:19:10.842Z"
   },
   {
    "duration": 21,
    "start_time": "2022-04-25T11:19:10.886Z"
   },
   {
    "duration": 15,
    "start_time": "2022-04-25T11:19:10.909Z"
   },
   {
    "duration": 5,
    "start_time": "2022-04-25T11:19:10.926Z"
   },
   {
    "duration": 45,
    "start_time": "2022-04-25T11:19:10.933Z"
   },
   {
    "duration": 187,
    "start_time": "2022-04-25T11:19:10.980Z"
   },
   {
    "duration": 4,
    "start_time": "2022-04-25T11:19:11.169Z"
   },
   {
    "duration": 2,
    "start_time": "2022-04-25T11:19:11.177Z"
   },
   {
    "duration": 109,
    "start_time": "2022-04-25T11:19:11.180Z"
   },
   {
    "duration": 110,
    "start_time": "2022-04-25T11:19:11.290Z"
   },
   {
    "duration": 26,
    "start_time": "2022-04-25T11:19:11.402Z"
   },
   {
    "duration": 6,
    "start_time": "2022-04-25T11:19:11.431Z"
   },
   {
    "duration": 7,
    "start_time": "2022-04-25T11:19:11.439Z"
   },
   {
    "duration": 1071,
    "start_time": "2022-04-25T11:19:11.473Z"
   },
   {
    "duration": 10,
    "start_time": "2022-04-25T11:19:12.546Z"
   },
   {
    "duration": 4,
    "start_time": "2022-04-25T11:19:12.558Z"
   },
   {
    "duration": 3,
    "start_time": "2022-04-25T11:19:12.574Z"
   },
   {
    "duration": 7,
    "start_time": "2022-04-25T11:19:12.579Z"
   },
   {
    "duration": 7,
    "start_time": "2022-04-25T11:19:12.588Z"
   },
   {
    "duration": 232,
    "start_time": "2022-04-25T11:19:12.597Z"
   },
   {
    "duration": 3,
    "start_time": "2022-04-25T11:19:12.831Z"
   },
   {
    "duration": 16,
    "start_time": "2022-04-25T11:19:12.836Z"
   },
   {
    "duration": 210,
    "start_time": "2022-04-25T11:19:12.853Z"
   },
   {
    "duration": 3,
    "start_time": "2022-04-25T11:19:13.072Z"
   },
   {
    "duration": 201,
    "start_time": "2022-04-25T11:19:13.077Z"
   },
   {
    "duration": 4,
    "start_time": "2022-04-25T11:19:13.280Z"
   },
   {
    "duration": 199,
    "start_time": "2022-04-25T11:19:13.286Z"
   },
   {
    "duration": 3,
    "start_time": "2022-04-25T11:19:13.488Z"
   },
   {
    "duration": 190,
    "start_time": "2022-04-25T11:19:13.493Z"
   },
   {
    "duration": 4,
    "start_time": "2022-04-25T11:19:13.685Z"
   },
   {
    "duration": 187,
    "start_time": "2022-04-25T11:19:13.690Z"
   },
   {
    "duration": 3,
    "start_time": "2022-04-25T11:19:13.878Z"
   },
   {
    "duration": 198,
    "start_time": "2022-04-25T11:19:13.882Z"
   },
   {
    "duration": 233,
    "start_time": "2022-04-25T11:19:14.082Z"
   },
   {
    "duration": 209,
    "start_time": "2022-04-25T11:19:14.316Z"
   },
   {
    "duration": 310,
    "start_time": "2022-04-25T11:19:14.527Z"
   },
   {
    "duration": 271,
    "start_time": "2022-04-25T11:19:14.839Z"
   },
   {
    "duration": 212,
    "start_time": "2022-04-25T11:19:15.112Z"
   },
   {
    "duration": 260,
    "start_time": "2022-04-25T11:19:15.325Z"
   },
   {
    "duration": 277,
    "start_time": "2022-04-25T11:19:15.587Z"
   },
   {
    "duration": 29,
    "start_time": "2022-04-25T11:19:15.866Z"
   },
   {
    "duration": 24,
    "start_time": "2022-04-25T11:19:15.896Z"
   },
   {
    "duration": 52,
    "start_time": "2022-04-25T11:19:15.922Z"
   },
   {
    "duration": 5,
    "start_time": "2022-04-25T11:19:15.976Z"
   },
   {
    "duration": 14,
    "start_time": "2022-04-25T11:19:15.982Z"
   },
   {
    "duration": 1105,
    "start_time": "2022-04-25T11:19:15.997Z"
   },
   {
    "duration": 2560,
    "start_time": "2022-09-07T13:03:47.500Z"
   },
   {
    "duration": 1532,
    "start_time": "2022-09-07T13:07:27.006Z"
   },
   {
    "duration": 27,
    "start_time": "2022-09-07T13:07:28.539Z"
   },
   {
    "duration": 18,
    "start_time": "2022-09-07T13:07:28.568Z"
   },
   {
    "duration": 45,
    "start_time": "2022-09-07T13:07:28.588Z"
   },
   {
    "duration": 36,
    "start_time": "2022-09-07T13:07:28.635Z"
   },
   {
    "duration": 41,
    "start_time": "2022-09-07T13:07:28.673Z"
   },
   {
    "duration": 34,
    "start_time": "2022-09-07T13:07:28.716Z"
   },
   {
    "duration": 36,
    "start_time": "2022-09-07T13:07:28.752Z"
   },
   {
    "duration": 25,
    "start_time": "2022-09-07T13:07:28.789Z"
   },
   {
    "duration": 41,
    "start_time": "2022-09-07T13:07:28.817Z"
   },
   {
    "duration": 16,
    "start_time": "2022-09-07T13:07:28.859Z"
   },
   {
    "duration": 30,
    "start_time": "2022-09-07T13:07:28.876Z"
   },
   {
    "duration": 22,
    "start_time": "2022-09-07T13:07:28.907Z"
   },
   {
    "duration": 25,
    "start_time": "2022-09-07T13:07:28.931Z"
   },
   {
    "duration": 34,
    "start_time": "2022-09-07T13:07:28.958Z"
   },
   {
    "duration": 54,
    "start_time": "2022-09-07T13:07:28.993Z"
   },
   {
    "duration": 32,
    "start_time": "2022-09-07T13:07:29.048Z"
   },
   {
    "duration": 32,
    "start_time": "2022-09-07T13:07:29.082Z"
   },
   {
    "duration": 30,
    "start_time": "2022-09-07T13:07:29.116Z"
   },
   {
    "duration": 56,
    "start_time": "2022-09-07T13:07:29.148Z"
   },
   {
    "duration": 16,
    "start_time": "2022-09-07T13:07:29.205Z"
   },
   {
    "duration": 50,
    "start_time": "2022-09-07T13:07:29.223Z"
   },
   {
    "duration": 39,
    "start_time": "2022-09-07T13:07:29.274Z"
   },
   {
    "duration": 27,
    "start_time": "2022-09-07T13:07:29.315Z"
   },
   {
    "duration": 45,
    "start_time": "2022-09-07T13:07:29.344Z"
   },
   {
    "duration": 172,
    "start_time": "2022-09-07T13:07:29.390Z"
   },
   {
    "duration": 90,
    "start_time": "2022-09-07T13:07:29.564Z"
   },
   {
    "duration": 104,
    "start_time": "2022-09-07T13:07:29.659Z"
   },
   {
    "duration": 25,
    "start_time": "2022-09-07T13:07:29.765Z"
   },
   {
    "duration": 26,
    "start_time": "2022-09-07T13:07:29.792Z"
   },
   {
    "duration": 29,
    "start_time": "2022-09-07T13:07:29.819Z"
   },
   {
    "duration": 931,
    "start_time": "2022-09-07T13:07:29.849Z"
   },
   {
    "duration": 9,
    "start_time": "2022-09-07T13:07:30.781Z"
   },
   {
    "duration": 46,
    "start_time": "2022-09-07T13:07:30.792Z"
   },
   {
    "duration": 246,
    "start_time": "2022-09-07T13:07:30.839Z"
   },
   {
    "duration": 7,
    "start_time": "2022-09-07T13:07:31.087Z"
   },
   {
    "duration": 212,
    "start_time": "2022-09-07T13:07:31.096Z"
   },
   {
    "duration": 201,
    "start_time": "2022-09-07T13:07:31.310Z"
   },
   {
    "duration": 180,
    "start_time": "2022-09-07T13:07:31.512Z"
   },
   {
    "duration": 161,
    "start_time": "2022-09-07T13:07:31.694Z"
   },
   {
    "duration": 187,
    "start_time": "2022-09-07T13:07:31.857Z"
   },
   {
    "duration": 175,
    "start_time": "2022-09-07T13:07:32.046Z"
   },
   {
    "duration": 213,
    "start_time": "2022-09-07T13:07:32.223Z"
   },
   {
    "duration": 255,
    "start_time": "2022-09-07T13:07:32.438Z"
   },
   {
    "duration": 295,
    "start_time": "2022-09-07T13:07:32.695Z"
   },
   {
    "duration": 238,
    "start_time": "2022-09-07T13:07:32.991Z"
   },
   {
    "duration": 211,
    "start_time": "2022-09-07T13:07:33.231Z"
   },
   {
    "duration": 228,
    "start_time": "2022-09-07T13:07:33.445Z"
   },
   {
    "duration": 245,
    "start_time": "2022-09-07T13:07:33.675Z"
   },
   {
    "duration": 21,
    "start_time": "2022-09-07T13:07:33.922Z"
   },
   {
    "duration": 20,
    "start_time": "2022-09-07T13:07:33.944Z"
   },
   {
    "duration": 47,
    "start_time": "2022-09-07T13:07:33.965Z"
   },
   {
    "duration": 4,
    "start_time": "2022-09-07T13:07:34.014Z"
   },
   {
    "duration": 22,
    "start_time": "2022-09-07T13:07:34.020Z"
   },
   {
    "duration": 923,
    "start_time": "2022-09-07T13:07:34.044Z"
   }
  ],
  "kernelspec": {
   "display_name": "Python 3 (ipykernel)",
   "language": "python",
   "name": "python3"
  },
  "language_info": {
   "codemirror_mode": {
    "name": "ipython",
    "version": 3
   },
   "file_extension": ".py",
   "mimetype": "text/x-python",
   "name": "python",
   "nbconvert_exporter": "python",
   "pygments_lexer": "ipython3",
   "version": "3.9.5"
  },
  "toc": {
   "base_numbering": 1,
   "nav_menu": {},
   "number_sections": true,
   "sideBar": true,
   "skip_h1_title": true,
   "title_cell": "Table of Contents",
   "title_sidebar": "Contents",
   "toc_cell": false,
   "toc_position": {},
   "toc_section_display": true,
   "toc_window_display": false
  }
 },
 "nbformat": 4,
 "nbformat_minor": 5
}
