{
 "cells": [
  {
   "cell_type": "markdown",
   "metadata": {},
   "source": [
    "# Определение стоимости автомобилей"
   ]
  },
  {
   "cell_type": "markdown",
   "metadata": {},
   "source": [
    "Сервис по продаже автомобилей с пробегом «Не бит, не крашен» разрабатывает приложение для привлечения новых клиентов. В нём можно быстро узнать рыночную стоимость своего автомобиля. В вашем распоряжении исторические данные: технические характеристики, комплектации и цены автомобилей. Вам нужно построить модель для определения стоимости. \n",
    "\n",
    "Заказчику важны:\n",
    "\n",
    "- качество предсказания;\n",
    "- скорость предсказания;\n",
    "- время обучения."
   ]
  },
  {
   "cell_type": "markdown",
   "metadata": {},
   "source": [
    "#### Признаки:\n",
    "* DateCrawled — дата скачивания анкеты из базы\n",
    "* VehicleType — тип автомобильного кузова\n",
    "* RegistrationYear — год регистрации автомобиля\n",
    "* Gearbox — тип коробки передач\n",
    "* Power — мощность (л. с.)\n",
    "* Model — модель автомобиля\n",
    "* Kilometer — пробег (км)\n",
    "* RegistrationMonth — месяц регистрации автомобиля\n",
    "* FuelType — тип топлива\n",
    "* Brand — марка автомобиля\n",
    "* NotRepaired — была машина в ремонте или нет\n",
    "* DateCreated — дата создания анкеты\n",
    "* NumberOfPictures — количество фотографий автомобиля\n",
    "* PostalCode — почтовый индекс владельца анкеты (пользователя)\n",
    "* LastSeen — дата последней активности пользователя\n",
    "\n",
    "#### Целевой признак:\n",
    "\n",
    "* Price — цена (евро)"
   ]
  },
  {
   "cell_type": "markdown",
   "metadata": {},
   "source": [
    "Для успешного выполнения поставленной задачи, будем придерживаться следующего плана:\n",
    "\n",
    "1. Загрузим и подготовим данные.\n",
    "2. Обучим разные модели. Для каждой подберем различные гиперпараметры.\n",
    "3. Проанализируем скорость работы и качество моделей."
   ]
  },
  {
   "cell_type": "markdown",
   "metadata": {},
   "source": [
    "## Подготовка данных"
   ]
  },
  {
   "cell_type": "code",
   "execution_count": 1,
   "metadata": {},
   "outputs": [],
   "source": [
    "#!pip install catboost\n",
    "#!pip install lightgbm"
   ]
  },
  {
   "cell_type": "code",
   "execution_count": 2,
   "metadata": {},
   "outputs": [],
   "source": [
    "import pandas as pd\n",
    "import numpy as np\n",
    "import random\n",
    "\n",
    "from sklearn.linear_model import LinearRegression\n",
    "from sklearn.preprocessing import OneHotEncoder, LabelEncoder\n",
    "from sklearn.model_selection import cross_val_score, GridSearchCV, train_test_split, KFold\n",
    "from sklearn.metrics import mean_squared_error as mse\n",
    "from sklearn.ensemble import RandomForestRegressor\n",
    "\n",
    "from catboost import CatBoostRegressor\n",
    "from lightgbm import LGBMRegressor\n",
    "\n",
    "import warnings\n",
    "warnings.filterwarnings('ignore')"
   ]
  },
  {
   "cell_type": "code",
   "execution_count": 3,
   "metadata": {},
   "outputs": [],
   "source": [
    "try:\n",
    "    df = pd.read_csv('/datasets/autos.csv')\n",
    "except:\n",
    "    df = pd.read_csv('autos.csv')"
   ]
  },
  {
   "cell_type": "code",
   "execution_count": 4,
   "metadata": {
    "scrolled": true
   },
   "outputs": [
    {
     "data": {
      "text/html": [
       "<div>\n",
       "<style scoped>\n",
       "    .dataframe tbody tr th:only-of-type {\n",
       "        vertical-align: middle;\n",
       "    }\n",
       "\n",
       "    .dataframe tbody tr th {\n",
       "        vertical-align: top;\n",
       "    }\n",
       "\n",
       "    .dataframe thead th {\n",
       "        text-align: right;\n",
       "    }\n",
       "</style>\n",
       "<table border=\"1\" class=\"dataframe\">\n",
       "  <thead>\n",
       "    <tr style=\"text-align: right;\">\n",
       "      <th></th>\n",
       "      <th>DateCrawled</th>\n",
       "      <th>Price</th>\n",
       "      <th>VehicleType</th>\n",
       "      <th>RegistrationYear</th>\n",
       "      <th>Gearbox</th>\n",
       "      <th>Power</th>\n",
       "      <th>Model</th>\n",
       "      <th>Kilometer</th>\n",
       "      <th>RegistrationMonth</th>\n",
       "      <th>FuelType</th>\n",
       "      <th>Brand</th>\n",
       "      <th>NotRepaired</th>\n",
       "      <th>DateCreated</th>\n",
       "      <th>NumberOfPictures</th>\n",
       "      <th>PostalCode</th>\n",
       "      <th>LastSeen</th>\n",
       "    </tr>\n",
       "  </thead>\n",
       "  <tbody>\n",
       "    <tr>\n",
       "      <th>0</th>\n",
       "      <td>2016-03-24 11:52:17</td>\n",
       "      <td>480</td>\n",
       "      <td>NaN</td>\n",
       "      <td>1993</td>\n",
       "      <td>manual</td>\n",
       "      <td>0</td>\n",
       "      <td>golf</td>\n",
       "      <td>150000</td>\n",
       "      <td>0</td>\n",
       "      <td>petrol</td>\n",
       "      <td>volkswagen</td>\n",
       "      <td>NaN</td>\n",
       "      <td>2016-03-24 00:00:00</td>\n",
       "      <td>0</td>\n",
       "      <td>70435</td>\n",
       "      <td>2016-04-07 03:16:57</td>\n",
       "    </tr>\n",
       "    <tr>\n",
       "      <th>1</th>\n",
       "      <td>2016-03-24 10:58:45</td>\n",
       "      <td>18300</td>\n",
       "      <td>coupe</td>\n",
       "      <td>2011</td>\n",
       "      <td>manual</td>\n",
       "      <td>190</td>\n",
       "      <td>NaN</td>\n",
       "      <td>125000</td>\n",
       "      <td>5</td>\n",
       "      <td>gasoline</td>\n",
       "      <td>audi</td>\n",
       "      <td>yes</td>\n",
       "      <td>2016-03-24 00:00:00</td>\n",
       "      <td>0</td>\n",
       "      <td>66954</td>\n",
       "      <td>2016-04-07 01:46:50</td>\n",
       "    </tr>\n",
       "    <tr>\n",
       "      <th>2</th>\n",
       "      <td>2016-03-14 12:52:21</td>\n",
       "      <td>9800</td>\n",
       "      <td>suv</td>\n",
       "      <td>2004</td>\n",
       "      <td>auto</td>\n",
       "      <td>163</td>\n",
       "      <td>grand</td>\n",
       "      <td>125000</td>\n",
       "      <td>8</td>\n",
       "      <td>gasoline</td>\n",
       "      <td>jeep</td>\n",
       "      <td>NaN</td>\n",
       "      <td>2016-03-14 00:00:00</td>\n",
       "      <td>0</td>\n",
       "      <td>90480</td>\n",
       "      <td>2016-04-05 12:47:46</td>\n",
       "    </tr>\n",
       "    <tr>\n",
       "      <th>3</th>\n",
       "      <td>2016-03-17 16:54:04</td>\n",
       "      <td>1500</td>\n",
       "      <td>small</td>\n",
       "      <td>2001</td>\n",
       "      <td>manual</td>\n",
       "      <td>75</td>\n",
       "      <td>golf</td>\n",
       "      <td>150000</td>\n",
       "      <td>6</td>\n",
       "      <td>petrol</td>\n",
       "      <td>volkswagen</td>\n",
       "      <td>no</td>\n",
       "      <td>2016-03-17 00:00:00</td>\n",
       "      <td>0</td>\n",
       "      <td>91074</td>\n",
       "      <td>2016-03-17 17:40:17</td>\n",
       "    </tr>\n",
       "    <tr>\n",
       "      <th>4</th>\n",
       "      <td>2016-03-31 17:25:20</td>\n",
       "      <td>3600</td>\n",
       "      <td>small</td>\n",
       "      <td>2008</td>\n",
       "      <td>manual</td>\n",
       "      <td>69</td>\n",
       "      <td>fabia</td>\n",
       "      <td>90000</td>\n",
       "      <td>7</td>\n",
       "      <td>gasoline</td>\n",
       "      <td>skoda</td>\n",
       "      <td>no</td>\n",
       "      <td>2016-03-31 00:00:00</td>\n",
       "      <td>0</td>\n",
       "      <td>60437</td>\n",
       "      <td>2016-04-06 10:17:21</td>\n",
       "    </tr>\n",
       "  </tbody>\n",
       "</table>\n",
       "</div>"
      ],
      "text/plain": [
       "           DateCrawled  Price VehicleType  RegistrationYear Gearbox  Power  \\\n",
       "0  2016-03-24 11:52:17    480         NaN              1993  manual      0   \n",
       "1  2016-03-24 10:58:45  18300       coupe              2011  manual    190   \n",
       "2  2016-03-14 12:52:21   9800         suv              2004    auto    163   \n",
       "3  2016-03-17 16:54:04   1500       small              2001  manual     75   \n",
       "4  2016-03-31 17:25:20   3600       small              2008  manual     69   \n",
       "\n",
       "   Model  Kilometer  RegistrationMonth  FuelType       Brand NotRepaired  \\\n",
       "0   golf     150000                  0    petrol  volkswagen         NaN   \n",
       "1    NaN     125000                  5  gasoline        audi         yes   \n",
       "2  grand     125000                  8  gasoline        jeep         NaN   \n",
       "3   golf     150000                  6    petrol  volkswagen          no   \n",
       "4  fabia      90000                  7  gasoline       skoda          no   \n",
       "\n",
       "           DateCreated  NumberOfPictures  PostalCode             LastSeen  \n",
       "0  2016-03-24 00:00:00                 0       70435  2016-04-07 03:16:57  \n",
       "1  2016-03-24 00:00:00                 0       66954  2016-04-07 01:46:50  \n",
       "2  2016-03-14 00:00:00                 0       90480  2016-04-05 12:47:46  \n",
       "3  2016-03-17 00:00:00                 0       91074  2016-03-17 17:40:17  \n",
       "4  2016-03-31 00:00:00                 0       60437  2016-04-06 10:17:21  "
      ]
     },
     "execution_count": 4,
     "metadata": {},
     "output_type": "execute_result"
    }
   ],
   "source": [
    "df.head()"
   ]
  },
  {
   "cell_type": "code",
   "execution_count": 5,
   "metadata": {},
   "outputs": [
    {
     "name": "stdout",
     "output_type": "stream",
     "text": [
      "<class 'pandas.core.frame.DataFrame'>\n",
      "RangeIndex: 354369 entries, 0 to 354368\n",
      "Data columns (total 16 columns):\n",
      " #   Column             Non-Null Count   Dtype \n",
      "---  ------             --------------   ----- \n",
      " 0   DateCrawled        354369 non-null  object\n",
      " 1   Price              354369 non-null  int64 \n",
      " 2   VehicleType        316879 non-null  object\n",
      " 3   RegistrationYear   354369 non-null  int64 \n",
      " 4   Gearbox            334536 non-null  object\n",
      " 5   Power              354369 non-null  int64 \n",
      " 6   Model              334664 non-null  object\n",
      " 7   Kilometer          354369 non-null  int64 \n",
      " 8   RegistrationMonth  354369 non-null  int64 \n",
      " 9   FuelType           321474 non-null  object\n",
      " 10  Brand              354369 non-null  object\n",
      " 11  NotRepaired        283215 non-null  object\n",
      " 12  DateCreated        354369 non-null  object\n",
      " 13  NumberOfPictures   354369 non-null  int64 \n",
      " 14  PostalCode         354369 non-null  int64 \n",
      " 15  LastSeen           354369 non-null  object\n",
      "dtypes: int64(7), object(9)\n",
      "memory usage: 43.3+ MB\n"
     ]
    }
   ],
   "source": [
    "df.info()"
   ]
  },
  {
   "cell_type": "code",
   "execution_count": 6,
   "metadata": {},
   "outputs": [
    {
     "data": {
      "text/plain": [
       "DateCrawled              0\n",
       "Price                    0\n",
       "VehicleType          37490\n",
       "RegistrationYear         0\n",
       "Gearbox              19833\n",
       "Power                    0\n",
       "Model                19705\n",
       "Kilometer                0\n",
       "RegistrationMonth        0\n",
       "FuelType             32895\n",
       "Brand                    0\n",
       "NotRepaired          71154\n",
       "DateCreated              0\n",
       "NumberOfPictures         0\n",
       "PostalCode               0\n",
       "LastSeen                 0\n",
       "dtype: int64"
      ]
     },
     "execution_count": 6,
     "metadata": {},
     "output_type": "execute_result"
    }
   ],
   "source": [
    "df.isna().sum()"
   ]
  },
  {
   "cell_type": "code",
   "execution_count": 7,
   "metadata": {
    "scrolled": true
   },
   "outputs": [],
   "source": [
    "#приведем названия столбцев к змеиному регистру\n",
    "df.columns = df.columns.str.replace(r\"([A-Z])\", r\" \\1\").str.lower().str.replace(' ', '_').str[1:]\n",
    "\n",
    "#в данных о модели, коробке передач, типе топлива и типе кузова данные заменим на 'unk'(unknown - неизвестно)\n",
    "df['model'] = df['model'].fillna('unk')\n",
    "df['vehicle_type'] = df['vehicle_type'].fillna('unk')\n",
    "df['gearbox'] = df['gearbox'].fillna('unk')\n",
    "df['fuel_type'] = df['fuel_type'].fillna('unk')\n",
    "\n",
    "#в столбце not_repaired пропуски заменим на yes подразумевая \"не бит, не крашен\"\n",
    "df['not_repaired'].fillna('yes', inplace=True)"
   ]
  },
  {
   "cell_type": "markdown",
   "metadata": {},
   "source": [
    "Для замены модой некоторых 'unk' в данных о форме кузова напишем функцию:"
   ]
  },
  {
   "cell_type": "code",
   "execution_count": 8,
   "metadata": {},
   "outputs": [],
   "source": [
    "mvt = df.groupby('model')['vehicle_type'].agg(lambda x:x.value_counts().index[0]).to_dict()"
   ]
  },
  {
   "cell_type": "code",
   "execution_count": 9,
   "metadata": {},
   "outputs": [],
   "source": [
    "def mvt_inputer(row):\n",
    "   \n",
    "    model = row['model']\n",
    "    veh_type = row['vehicle_type']\n",
    "    \n",
    "    if model == 'unk' and veh_type == 'unk':\n",
    "        return 'unk'\n",
    "    elif model == 'unk' and veh_type != 'unk':\n",
    "        return veh_type\n",
    "    \n",
    "    return mvt[model]"
   ]
  },
  {
   "cell_type": "code",
   "execution_count": 10,
   "metadata": {},
   "outputs": [],
   "source": [
    "df['vehicle_type'] = df[['vehicle_type', 'model']].apply(mvt_inputer, axis=1)"
   ]
  },
  {
   "cell_type": "code",
   "execution_count": 11,
   "metadata": {
    "scrolled": false
   },
   "outputs": [
    {
     "data": {
      "text/plain": [
       "array(['sedan', 'coupe', 'suv', 'small', 'bus', 'wagon', 'convertible',\n",
       "       'unk', 'other'], dtype=object)"
      ]
     },
     "execution_count": 11,
     "metadata": {},
     "output_type": "execute_result"
    }
   ],
   "source": [
    "df['vehicle_type'].unique()"
   ]
  },
  {
   "cell_type": "markdown",
   "metadata": {},
   "source": [
    "для некоторых значений нет моды, поэтому 'unk' останется."
   ]
  },
  {
   "cell_type": "code",
   "execution_count": 12,
   "metadata": {
    "scrolled": false
   },
   "outputs": [
    {
     "data": {
      "text/plain": [
       "0"
      ]
     },
     "execution_count": 12,
     "metadata": {},
     "output_type": "execute_result"
    }
   ],
   "source": [
    "df.isna().sum().sum()"
   ]
  },
  {
   "cell_type": "code",
   "execution_count": 13,
   "metadata": {
    "scrolled": true
   },
   "outputs": [
    {
     "data": {
      "text/html": [
       "<div>\n",
       "<style scoped>\n",
       "    .dataframe tbody tr th:only-of-type {\n",
       "        vertical-align: middle;\n",
       "    }\n",
       "\n",
       "    .dataframe tbody tr th {\n",
       "        vertical-align: top;\n",
       "    }\n",
       "\n",
       "    .dataframe thead th {\n",
       "        text-align: right;\n",
       "    }\n",
       "</style>\n",
       "<table border=\"1\" class=\"dataframe\">\n",
       "  <thead>\n",
       "    <tr style=\"text-align: right;\">\n",
       "      <th></th>\n",
       "      <th>price</th>\n",
       "      <th>registration_year</th>\n",
       "      <th>power</th>\n",
       "      <th>kilometer</th>\n",
       "      <th>registration_month</th>\n",
       "      <th>number_of_pictures</th>\n",
       "      <th>postal_code</th>\n",
       "    </tr>\n",
       "  </thead>\n",
       "  <tbody>\n",
       "    <tr>\n",
       "      <th>count</th>\n",
       "      <td>354369.000000</td>\n",
       "      <td>354369.000000</td>\n",
       "      <td>354369.000000</td>\n",
       "      <td>354369.000000</td>\n",
       "      <td>354369.000000</td>\n",
       "      <td>354369.0</td>\n",
       "      <td>354369.000000</td>\n",
       "    </tr>\n",
       "    <tr>\n",
       "      <th>mean</th>\n",
       "      <td>4416.656776</td>\n",
       "      <td>2004.234448</td>\n",
       "      <td>110.094337</td>\n",
       "      <td>128211.172535</td>\n",
       "      <td>5.714645</td>\n",
       "      <td>0.0</td>\n",
       "      <td>50508.689087</td>\n",
       "    </tr>\n",
       "    <tr>\n",
       "      <th>std</th>\n",
       "      <td>4514.158514</td>\n",
       "      <td>90.227958</td>\n",
       "      <td>189.850405</td>\n",
       "      <td>37905.341530</td>\n",
       "      <td>3.726421</td>\n",
       "      <td>0.0</td>\n",
       "      <td>25783.096248</td>\n",
       "    </tr>\n",
       "    <tr>\n",
       "      <th>min</th>\n",
       "      <td>0.000000</td>\n",
       "      <td>1000.000000</td>\n",
       "      <td>0.000000</td>\n",
       "      <td>5000.000000</td>\n",
       "      <td>0.000000</td>\n",
       "      <td>0.0</td>\n",
       "      <td>1067.000000</td>\n",
       "    </tr>\n",
       "    <tr>\n",
       "      <th>25%</th>\n",
       "      <td>1050.000000</td>\n",
       "      <td>1999.000000</td>\n",
       "      <td>69.000000</td>\n",
       "      <td>125000.000000</td>\n",
       "      <td>3.000000</td>\n",
       "      <td>0.0</td>\n",
       "      <td>30165.000000</td>\n",
       "    </tr>\n",
       "    <tr>\n",
       "      <th>50%</th>\n",
       "      <td>2700.000000</td>\n",
       "      <td>2003.000000</td>\n",
       "      <td>105.000000</td>\n",
       "      <td>150000.000000</td>\n",
       "      <td>6.000000</td>\n",
       "      <td>0.0</td>\n",
       "      <td>49413.000000</td>\n",
       "    </tr>\n",
       "    <tr>\n",
       "      <th>75%</th>\n",
       "      <td>6400.000000</td>\n",
       "      <td>2008.000000</td>\n",
       "      <td>143.000000</td>\n",
       "      <td>150000.000000</td>\n",
       "      <td>9.000000</td>\n",
       "      <td>0.0</td>\n",
       "      <td>71083.000000</td>\n",
       "    </tr>\n",
       "    <tr>\n",
       "      <th>max</th>\n",
       "      <td>20000.000000</td>\n",
       "      <td>9999.000000</td>\n",
       "      <td>20000.000000</td>\n",
       "      <td>150000.000000</td>\n",
       "      <td>12.000000</td>\n",
       "      <td>0.0</td>\n",
       "      <td>99998.000000</td>\n",
       "    </tr>\n",
       "  </tbody>\n",
       "</table>\n",
       "</div>"
      ],
      "text/plain": [
       "               price  registration_year          power      kilometer  \\\n",
       "count  354369.000000      354369.000000  354369.000000  354369.000000   \n",
       "mean     4416.656776        2004.234448     110.094337  128211.172535   \n",
       "std      4514.158514          90.227958     189.850405   37905.341530   \n",
       "min         0.000000        1000.000000       0.000000    5000.000000   \n",
       "25%      1050.000000        1999.000000      69.000000  125000.000000   \n",
       "50%      2700.000000        2003.000000     105.000000  150000.000000   \n",
       "75%      6400.000000        2008.000000     143.000000  150000.000000   \n",
       "max     20000.000000        9999.000000   20000.000000  150000.000000   \n",
       "\n",
       "       registration_month  number_of_pictures    postal_code  \n",
       "count       354369.000000            354369.0  354369.000000  \n",
       "mean             5.714645                 0.0   50508.689087  \n",
       "std              3.726421                 0.0   25783.096248  \n",
       "min              0.000000                 0.0    1067.000000  \n",
       "25%              3.000000                 0.0   30165.000000  \n",
       "50%              6.000000                 0.0   49413.000000  \n",
       "75%              9.000000                 0.0   71083.000000  \n",
       "max             12.000000                 0.0   99998.000000  "
      ]
     },
     "execution_count": 13,
     "metadata": {},
     "output_type": "execute_result"
    }
   ],
   "source": [
    "df.describe()"
   ]
  },
  {
   "cell_type": "markdown",
   "metadata": {},
   "source": [
    "Сложно представить автомобиль стоимостью 0 евро. Это скорее всего аномалия. Заменим все значения в столбце цены менее 50 евро на медиану."
   ]
  },
  {
   "cell_type": "code",
   "execution_count": 14,
   "metadata": {},
   "outputs": [],
   "source": [
    "df.loc[df['price'] < 50, 'price'] = df['price'].median()"
   ]
  },
  {
   "cell_type": "code",
   "execution_count": 15,
   "metadata": {
    "scrolled": false
   },
   "outputs": [
    {
     "data": {
      "image/png": "[encoded data removed]",
      "text/plain": [
       "<Figure size 432x288 with 1 Axes>"
      ]
     },
     "metadata": {
      "needs_background": "light"
     },
     "output_type": "display_data"
    }
   ],
   "source": [
    "df['price'].plot(kind='hist', bins=100);"
   ]
  },
  {
   "cell_type": "markdown",
   "metadata": {},
   "source": [
    "Первый серийный автомобиль вышел с конвеера в 1886 году, его и возьмем за нижний порог. За верхний возьмем 2021 год, так как авто 2022 года вряд ли пресутствуют в выборке."
   ]
  },
  {
   "cell_type": "code",
   "execution_count": 16,
   "metadata": {},
   "outputs": [],
   "source": [
    "def registration_year_limit(value):\n",
    "    if value > 2021:\n",
    "        return 2021\n",
    "    elif value < 1886:\n",
    "        return 1886 \n",
    "    else:\n",
    "        return value\n",
    "    \n",
    "df['registration_year'] = df['registration_year'].apply(registration_year_limit)    "
   ]
  },
  {
   "cell_type": "markdown",
   "metadata": {},
   "source": [
    "Месяца с порядковым номером 0 в календаре нет, возьмем за 1 все значения равные 0( по аналогии со списками)."
   ]
  },
  {
   "cell_type": "code",
   "execution_count": 17,
   "metadata": {},
   "outputs": [],
   "source": [
    "df.loc[df['registration_month'] == 0, 'registration_month'] = 1"
   ]
  },
  {
   "cell_type": "markdown",
   "metadata": {},
   "source": [
    "На июль 2022 года самым мощьным серийным автомобилем является Lotus Evija, Мощность: 2000 л.с., первый серийный автомобиль имел мощьность 0.75л.с.. Этим и ограничим значения в столбце."
   ]
  },
  {
   "cell_type": "code",
   "execution_count": 18,
   "metadata": {},
   "outputs": [],
   "source": [
    "def power_limit(value):\n",
    "    if value > 2000:\n",
    "        return 2000\n",
    "    elif value == 0:\n",
    "        return 0.75\n",
    "    else:\n",
    "        return value\n",
    "    \n",
    "df['power'] = df['power'].apply(power_limit)   "
   ]
  },
  {
   "cell_type": "markdown",
   "metadata": {},
   "source": [
    "## Обучение моделей"
   ]
  },
  {
   "cell_type": "markdown",
   "metadata": {},
   "source": [
    "Подготовим необходимые признаки:"
   ]
  },
  {
   "cell_type": "code",
   "execution_count": 19,
   "metadata": {},
   "outputs": [],
   "source": [
    "df = df.drop(['date_crawled', 'date_created', 'last_seen'], axis=1)\n",
    "df['vehicle_type'] = df['vehicle_type'].astype('category')\n",
    "df['gearbox'] = df['gearbox'].astype('category')\n",
    "df['model'] = df['model'].astype('category')\n",
    "df['fuel_type'] =df['fuel_type'].astype('category') \n",
    "df['brand'] = df['brand'].astype('category')\n",
    "df['not_repaired'] = df['not_repaired'].astype('category')"
   ]
  },
  {
   "cell_type": "code",
   "execution_count": 20,
   "metadata": {},
   "outputs": [],
   "source": [
    "cat_features = df.select_dtypes(include='category').columns.to_list()"
   ]
  },
  {
   "cell_type": "code",
   "execution_count": 21,
   "metadata": {},
   "outputs": [],
   "source": [
    "features = df.drop('price', axis=1)\n",
    "target = df['price']\n",
    "\n",
    "features_train, features_test, target_train, target_test = train_test_split(\n",
    "    features, target, test_size=0.25, random_state=12345)"
   ]
  },
  {
   "cell_type": "markdown",
   "metadata": {},
   "source": [
    "### CatBoost"
   ]
  },
  {
   "cell_type": "code",
   "execution_count": 22,
   "metadata": {
    "scrolled": true
   },
   "outputs": [
    {
     "name": "stdout",
     "output_type": "stream",
     "text": [
      "Learning rate set to 0.173776\n",
      "0:\tlearn: 3933.2656722\ttotal: 429ms\tremaining: 3m 34s\n",
      "100:\tlearn: 1738.6457218\ttotal: 26.1s\tremaining: 1m 42s\n",
      "200:\tlearn: 1649.8643582\ttotal: 52.2s\tremaining: 1m 17s\n",
      "300:\tlearn: 1597.7433796\ttotal: 1m 18s\tremaining: 51.7s\n",
      "400:\tlearn: 1560.3847009\ttotal: 1m 44s\tremaining: 25.8s\n",
      "499:\tlearn: 1528.5574165\ttotal: 2m 11s\tremaining: 0us\n",
      "Лучшие параметры модели:{'depth': 9}\n",
      "Wall time: 11min 41s\n"
     ]
    }
   ],
   "source": [
    "%%time\n",
    "kf = KFold(n_splits=3, shuffle=True, random_state=12345)\n",
    "parametrs_cat = {\n",
    "                 'depth' : [i for i in range(1, 10, 2)],\n",
    "                }\n",
    "\n",
    "model_grid_cat = CatBoostRegressor(iterations=500, cat_features=cat_features,  verbose=100)\n",
    "grid_cat = GridSearchCV(estimator=model_grid_cat, param_grid=parametrs_cat, cv=kf, n_jobs=-1)\n",
    "grid_cat.fit(features_train, target_train)\n",
    "\n",
    "print(f'Лучшие параметры модели:{grid_cat.best_params_}')"
   ]
  },
  {
   "cell_type": "code",
   "execution_count": 23,
   "metadata": {
    "scrolled": true
   },
   "outputs": [
    {
     "name": "stdout",
     "output_type": "stream",
     "text": [
      "Learning rate set to 0.173776\n",
      "0:\tlearn: 3933.2656722\ttotal: 298ms\tremaining: 2m 28s\n",
      "100:\tlearn: 1738.6457218\ttotal: 25.8s\tremaining: 1m 41s\n",
      "200:\tlearn: 1649.8643582\ttotal: 52.8s\tremaining: 1m 18s\n",
      "300:\tlearn: 1597.7433796\ttotal: 1m 18s\tremaining: 52.2s\n",
      "400:\tlearn: 1560.3847009\ttotal: 1m 45s\tremaining: 26.1s\n",
      "499:\tlearn: 1528.5574165\ttotal: 2m 11s\tremaining: 0us\n",
      "Wall time: 2min 12s\n"
     ]
    },
    {
     "data": {
      "text/plain": [
       "<catboost.core.CatBoostRegressor at 0x2bbf313fbe0>"
      ]
     },
     "execution_count": 23,
     "metadata": {},
     "output_type": "execute_result"
    }
   ],
   "source": [
    "%%time\n",
    "model_cat = CatBoostRegressor(iterations=500, depth=9, cat_features=cat_features, verbose=100)\n",
    "model_cat.fit(features_train, target_train)"
   ]
  },
  {
   "cell_type": "code",
   "execution_count": 24,
   "metadata": {},
   "outputs": [
    {
     "name": "stdout",
     "output_type": "stream",
     "text": [
      "RMSE CatBost: 1703.7536972188911\n",
      "Wall time: 242 ms\n"
     ]
    }
   ],
   "source": [
    "%%time\n",
    "\n",
    "model_predict = model_cat.predict(features_test)\n",
    "\n",
    "print(f'RMSE CatBost: {mse(target_test, model_predict)**(.5)}')"
   ]
  },
  {
   "cell_type": "markdown",
   "metadata": {
    "scrolled": true
   },
   "source": [
    "### LightGBM"
   ]
  },
  {
   "cell_type": "code",
   "execution_count": 25,
   "metadata": {},
   "outputs": [
    {
     "name": "stdout",
     "output_type": "stream",
     "text": [
      "Wall time: 986 ms\n"
     ]
    },
    {
     "data": {
      "text/plain": [
       "LGBMRegressor(categorical_feature=['vehicle_type', 'gearbox', 'model',\n",
       "                                   'fuel_type', 'brand', 'not_repaired'],\n",
       "              silent=True)"
      ]
     },
     "execution_count": 25,
     "metadata": {},
     "output_type": "execute_result"
    }
   ],
   "source": [
    "%%time\n",
    "\n",
    "model_lgbm = LGBMRegressor(categorical_feature=cat_features, silent=True)\n",
    "model_lgbm.fit(features_train, target_train)"
   ]
  },
  {
   "cell_type": "code",
   "execution_count": 26,
   "metadata": {},
   "outputs": [
    {
     "name": "stdout",
     "output_type": "stream",
     "text": [
      "RMSE LightGBM: 1770.4097162325952\n",
      "Wall time: 164 ms\n"
     ]
    }
   ],
   "source": [
    "%%time\n",
    "\n",
    "model_lgbm_pred = model_lgbm.predict(features_test)\n",
    "\n",
    "print(f'RMSE LightGBM: {mse(target_test, model_lgbm_pred)**(.5)}')"
   ]
  },
  {
   "cell_type": "markdown",
   "metadata": {},
   "source": [
    "#### Для дальнейшей работы нужно избавиться от категориальных значений. \n",
    "\n",
    "Применим One-Hot Encoding:"
   ]
  },
  {
   "cell_type": "code",
   "execution_count": 27,
   "metadata": {},
   "outputs": [],
   "source": [
    "ohe = OneHotEncoder(handle_unknown='ignore', sparse=False)\n",
    "ohe_columns = pd.DataFrame(ohe.fit_transform(df[cat_features]))\n",
    "ohe_columns.index = df.index\n",
    "numerical_features = df.drop(cat_features, axis=1)\n",
    "df_ohe = pd.concat([numerical_features, ohe_columns], axis=1)\n",
    "df_ohe = pd.get_dummies(df, columns=cat_features, drop_first=True)"
   ]
  },
  {
   "cell_type": "code",
   "execution_count": 28,
   "metadata": {
    "scrolled": true
   },
   "outputs": [],
   "source": [
    "target_ohe = df_ohe['price']\n",
    "features_ohe = df_ohe.drop('price', axis=1)\n",
    "\n",
    "features_ohe_train, features_ohe_test, target_ohe_train, target_ohe_test = train_test_split(\n",
    "    features_ohe, target_ohe, test_size=0.25, random_state=12345)    "
   ]
  },
  {
   "cell_type": "markdown",
   "metadata": {},
   "source": [
    "### LinearRegression"
   ]
  },
  {
   "cell_type": "code",
   "execution_count": 29,
   "metadata": {
    "scrolled": true
   },
   "outputs": [
    {
     "name": "stdout",
     "output_type": "stream",
     "text": [
      "Wall time: 4.99 s\n"
     ]
    },
    {
     "data": {
      "text/plain": [
       "LinearRegression()"
      ]
     },
     "execution_count": 29,
     "metadata": {},
     "output_type": "execute_result"
    }
   ],
   "source": [
    "%%time\n",
    "\n",
    "model_lr = LinearRegression()\n",
    "model_lr.fit(features_ohe_train, target_ohe_train)"
   ]
  },
  {
   "cell_type": "code",
   "execution_count": 30,
   "metadata": {},
   "outputs": [
    {
     "name": "stdout",
     "output_type": "stream",
     "text": [
      "RMSE LinearRegression: 2913.2086357409867\n",
      "Wall time: 146 ms\n"
     ]
    }
   ],
   "source": [
    "%%time\n",
    "\n",
    "model_lr_pred = model_lr.predict(features_ohe_test)\n",
    "\n",
    "print(f'RMSE LinearRegression: {mse(target_ohe_test, model_lr_pred)**(.5)}')"
   ]
  },
  {
   "cell_type": "markdown",
   "metadata": {},
   "source": [
    "## Анализ моделей"
   ]
  },
  {
   "cell_type": "code",
   "execution_count": 31,
   "metadata": {},
   "outputs": [
    {
     "name": "stdout",
     "output_type": "stream",
     "text": [
      "RMSE CatBost: 1703.7536972188911. за 2min 9s обучения и 254 ms. предсказания.\n",
      "RMSE LightGBM: 1770.4097162325952. за 864 ms обучения и 167 ms. предсказания.\n",
      "RMSE LinearRegression: 2913.2086357409867. за 4.99 s обучения и 176 ms. предсказания.\n"
     ]
    }
   ],
   "source": [
    "print(f'RMSE CatBost: {mse(target_test, model_predict)**(.5)}. за 2min 9s обучения и 254 ms. предсказания.'\n",
    "     f'\\nRMSE LightGBM: {mse(target_test, model_lgbm_pred)**(.5)}. за 864 ms обучения и 167 ms. предсказания.'\n",
    "     f'\\nRMSE LinearRegression: {mse(target_ohe_test, model_lr_pred)**(.5)}. за 4.99 s обучения и 176 ms. предсказания.')"
   ]
  },
  {
   "cell_type": "markdown",
   "metadata": {},
   "source": [
    "## Выводы\n",
    "\n",
    "Лучше всего показала себя модель CatBost со значением RMSE 1703.75 за 2min 9s и 254 ms. предсказания., значение RMSE LightGBM чуть хуже 1770.40 но время обработки суммарно всего 1 секунда. Модель линейной регрессии показала себя хуже всего RMSE 2913.20 за 5 секунд.\n",
    "\n",
    "Исходя из выводов сделанных выше, рекомендовать заказчику можно модель CatBost. Не смотря на то что время обучения незначительно больше, качество модели выше.\n",
    "\n",
    "В ходе выполнения поставленной задачи удалось выполнить следующие шаги:\n",
    "\n",
    "* Выполнен анализ и обработка полученных от заказчика данных;\n",
    "* Обучены 2 модели с бустингом и одна без бустинга;\n",
    "* проведен анализ и подготовлены рекомендации для заказчика."
   ]
  }
 ],
 "metadata": {
  "ExecuteTimeLog": [
   {
    "duration": 5,
    "start_time": "2022-07-11T13:39:09.927Z"
   }
  ],
  "kernelspec": {
   "display_name": "Python 3 (ipykernel)",
   "language": "python",
   "name": "python3"
  },
  "language_info": {
   "codemirror_mode": {
    "name": "ipython",
    "version": 3
   },
   "file_extension": ".py",
   "mimetype": "text/x-python",
   "name": "python",
   "nbconvert_exporter": "python",
   "pygments_lexer": "ipython3",
   "version": "3.9.5"
  },
  "toc": {
   "base_numbering": 1,
   "nav_menu": {},
   "number_sections": true,
   "sideBar": true,
   "skip_h1_title": true,
   "title_cell": "Table of Contents",
   "title_sidebar": "Contents",
   "toc_cell": false,
   "toc_position": {},
   "toc_section_display": true,
   "toc_window_display": false
  }
 },
 "nbformat": 4,
 "nbformat_minor": 2
}
