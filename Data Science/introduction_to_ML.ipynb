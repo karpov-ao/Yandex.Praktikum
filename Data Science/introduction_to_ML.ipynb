{
 "cells": [
  {
   "cell_type": "markdown",
   "metadata": {},
   "source": [
    "# Рекомендация тарифов"
   ]
  },
  {
   "cell_type": "markdown",
   "metadata": {},
   "source": [
    "В вашем распоряжении данные о поведении клиентов, которые уже перешли на эти тарифы (из проекта курса «Статистический анализ данных»). Нужно построить модель для задачи классификации, которая выберет подходящий тариф. Предобработка данных не понадобится — вы её уже сделали.\n",
    "\n",
    "Постройте модель с максимально большим значением *accuracy*. Чтобы сдать проект успешно, нужно довести долю правильных ответов по крайней мере до 0.75. Проверьте *accuracy* на тестовой выборке самостоятельно."
   ]
  },
  {
   "cell_type": "markdown",
   "metadata": {},
   "source": [
    "## Откройте и изучите файл"
   ]
  },
  {
   "cell_type": "code",
   "execution_count": 1,
   "metadata": {},
   "outputs": [],
   "source": [
    "import pandas as pd\n",
    "import seaborn as sns\n",
    "from sklearn.tree import DecisionTreeClassifier\n",
    "from sklearn.ensemble import RandomForestClassifier\n",
    "from sklearn.linear_model import LogisticRegression\n",
    "from sklearn.model_selection import train_test_split\n",
    "import sklearn.metrics\n",
    "from sklearn.metrics import accuracy_score\n",
    "from sklearn.metrics import mean_squared_error\n",
    "from sklearn.dummy import DummyClassifier\n",
    "from statsmodels.tools.tools import add_constant\n",
    "from statsmodels.stats.outliers_influence import variance_inflation_factor"
   ]
  },
  {
   "cell_type": "code",
   "execution_count": 2,
   "metadata": {},
   "outputs": [],
   "source": [
    "data = pd.read_csv('/datasets/users_behavior.csv')"
   ]
  },
  {
   "cell_type": "code",
   "execution_count": 3,
   "metadata": {},
   "outputs": [
    {
     "data": {
      "text/html": [
       "<div>\n",
       "<style scoped>\n",
       "    .dataframe tbody tr th:only-of-type {\n",
       "        vertical-align: middle;\n",
       "    }\n",
       "\n",
       "    .dataframe tbody tr th {\n",
       "        vertical-align: top;\n",
       "    }\n",
       "\n",
       "    .dataframe thead th {\n",
       "        text-align: right;\n",
       "    }\n",
       "</style>\n",
       "<table border=\"1\" class=\"dataframe\">\n",
       "  <thead>\n",
       "    <tr style=\"text-align: right;\">\n",
       "      <th></th>\n",
       "      <th>calls</th>\n",
       "      <th>minutes</th>\n",
       "      <th>messages</th>\n",
       "      <th>mb_used</th>\n",
       "      <th>is_ultra</th>\n",
       "    </tr>\n",
       "  </thead>\n",
       "  <tbody>\n",
       "    <tr>\n",
       "      <th>0</th>\n",
       "      <td>40.0</td>\n",
       "      <td>311.90</td>\n",
       "      <td>83.0</td>\n",
       "      <td>19915.42</td>\n",
       "      <td>0</td>\n",
       "    </tr>\n",
       "    <tr>\n",
       "      <th>1</th>\n",
       "      <td>85.0</td>\n",
       "      <td>516.75</td>\n",
       "      <td>56.0</td>\n",
       "      <td>22696.96</td>\n",
       "      <td>0</td>\n",
       "    </tr>\n",
       "    <tr>\n",
       "      <th>2</th>\n",
       "      <td>77.0</td>\n",
       "      <td>467.66</td>\n",
       "      <td>86.0</td>\n",
       "      <td>21060.45</td>\n",
       "      <td>0</td>\n",
       "    </tr>\n",
       "    <tr>\n",
       "      <th>3</th>\n",
       "      <td>106.0</td>\n",
       "      <td>745.53</td>\n",
       "      <td>81.0</td>\n",
       "      <td>8437.39</td>\n",
       "      <td>1</td>\n",
       "    </tr>\n",
       "    <tr>\n",
       "      <th>4</th>\n",
       "      <td>66.0</td>\n",
       "      <td>418.74</td>\n",
       "      <td>1.0</td>\n",
       "      <td>14502.75</td>\n",
       "      <td>0</td>\n",
       "    </tr>\n",
       "  </tbody>\n",
       "</table>\n",
       "</div>"
      ],
      "text/plain": [
       "   calls  minutes  messages   mb_used  is_ultra\n",
       "0   40.0   311.90      83.0  19915.42         0\n",
       "1   85.0   516.75      56.0  22696.96         0\n",
       "2   77.0   467.66      86.0  21060.45         0\n",
       "3  106.0   745.53      81.0   8437.39         1\n",
       "4   66.0   418.74       1.0  14502.75         0"
      ]
     },
     "execution_count": 3,
     "metadata": {},
     "output_type": "execute_result"
    }
   ],
   "source": [
    "data.head()"
   ]
  },
  {
   "cell_type": "code",
   "execution_count": 4,
   "metadata": {
    "scrolled": true
   },
   "outputs": [
    {
     "name": "stdout",
     "output_type": "stream",
     "text": [
      "<class 'pandas.core.frame.DataFrame'>\n",
      "RangeIndex: 3214 entries, 0 to 3213\n",
      "Data columns (total 5 columns):\n",
      " #   Column    Non-Null Count  Dtype  \n",
      "---  ------    --------------  -----  \n",
      " 0   calls     3214 non-null   float64\n",
      " 1   minutes   3214 non-null   float64\n",
      " 2   messages  3214 non-null   float64\n",
      " 3   mb_used   3214 non-null   float64\n",
      " 4   is_ultra  3214 non-null   int64  \n",
      "dtypes: float64(4), int64(1)\n",
      "memory usage: 125.7 KB\n"
     ]
    }
   ],
   "source": [
    "data.info()"
   ]
  },
  {
   "cell_type": "code",
   "execution_count": 5,
   "metadata": {},
   "outputs": [
    {
     "data": {
      "text/plain": [
       "0    2229\n",
       "1     985\n",
       "Name: is_ultra, dtype: int64"
      ]
     },
     "execution_count": 5,
     "metadata": {},
     "output_type": "execute_result"
    }
   ],
   "source": [
    "data['is_ultra'].value_counts()"
   ]
  },
  {
   "cell_type": "markdown",
   "metadata": {},
   "source": [
    "Число клиентов перешедших на тариф \"Ультра\" в 2.26 раза меньше клиентов пользующихся архивными тарифами."
   ]
  },
  {
   "cell_type": "code",
   "execution_count": 6,
   "metadata": {
    "scrolled": true
   },
   "outputs": [
    {
     "data": {
      "image/png": "[encoded data removed]",
      "text/plain": [
       "<Figure size 432x288 with 2 Axes>"
      ]
     },
     "metadata": {
      "needs_background": "light"
     },
     "output_type": "display_data"
    }
   ],
   "source": [
    "sns.heatmap(data.corr(), annot=True, cmap=\"Blues\", fmt='.2f', annot_kws={'size':16});"
   ]
  },
  {
   "cell_type": "code",
   "execution_count": 27,
   "metadata": {},
   "outputs": [
    {
     "data": {
      "text/plain": [
       "const       8.033289\n",
       "minutes     1.125911\n",
       "messages    1.082372\n",
       "mb_used     1.130558\n",
       "is_ultra    1.094845\n",
       "dtype: float64"
      ]
     },
     "execution_count": 27,
     "metadata": {},
     "output_type": "execute_result"
    }
   ],
   "source": [
    "def get_VIF(data , target):\n",
    "    X = add_constant(data.loc[:, data.columns != target])\n",
    "    seriesObject = pd.Series([variance_inflation_factor(X.values,i) for i in range(X.shape[1])] , index=X.columns,)\n",
    "    return seriesObject\n",
    "\n",
    "target = 'calls'\n",
    "get_VIF(data,target)"
   ]
  },
  {
   "cell_type": "markdown",
   "metadata": {},
   "source": [
    "Пара минуты и звонки имеет признаки сильно-скоррелированных (мультиколлинеарных признаков). Столбец Calls содержит информацию о колличестве звонков, нам эта метрика не нужна, достаточно информации о колличестве минут. Удалим столбец Calls чтобы исключить влияние мультиколлинеарных признаков."
   ]
  },
  {
   "cell_type": "code",
   "execution_count": 8,
   "metadata": {},
   "outputs": [],
   "source": [
    "df = data.drop(['calls'], axis=1)"
   ]
  },
  {
   "cell_type": "code",
   "execution_count": 9,
   "metadata": {},
   "outputs": [
    {
     "data": {
      "image/png": "[encoded data removed]",
      "text/plain": [
       "<Figure size 432x288 with 2 Axes>"
      ]
     },
     "metadata": {
      "needs_background": "light"
     },
     "output_type": "display_data"
    }
   ],
   "source": [
    "sns.heatmap(df.corr(), annot=True, cmap=\"Blues\", fmt='.2f', annot_kws={'size':16});"
   ]
  },
  {
   "cell_type": "markdown",
   "metadata": {},
   "source": [
    "## Разбейте данные на выборки"
   ]
  },
  {
   "cell_type": "markdown",
   "metadata": {},
   "source": [
    "Обучающую выборка:"
   ]
  },
  {
   "cell_type": "code",
   "execution_count": 10,
   "metadata": {},
   "outputs": [],
   "source": [
    "main_set, training_set = train_test_split(df, test_size=0.25, random_state=12345, stratify = df['is_ultra'])"
   ]
  },
  {
   "cell_type": "code",
   "execution_count": 11,
   "metadata": {},
   "outputs": [],
   "source": [
    "features_main = main_set.drop(['is_ultra'], axis=1) # основная выборка\n",
    "target_main = main_set['is_ultra'] # целевой признак"
   ]
  },
  {
   "cell_type": "markdown",
   "metadata": {},
   "source": [
    "Уровень precision достаточно высок, значит модель делает много корректных предсказаний класса Positive."
   ]
  },
  {
   "cell_type": "code",
   "execution_count": 12,
   "metadata": {},
   "outputs": [],
   "source": [
    "features = training_set.drop(['is_ultra'], axis=1) # тренировочная выборка\n",
    "target = training_set['is_ultra'] # целевой признак"
   ]
  },
  {
   "cell_type": "markdown",
   "metadata": {},
   "source": [
    "Разобьем данные на валидационную и тестовую выборки:"
   ]
  },
  {
   "cell_type": "code",
   "execution_count": 13,
   "metadata": {},
   "outputs": [],
   "source": [
    "features_test, features_valid, target_test, target_valid = train_test_split(\n",
    "    features, target, test_size=0.5, random_state=12345, stratify = target)"
   ]
  },
  {
   "cell_type": "markdown",
   "metadata": {},
   "source": [
    "## Исследуйте модели"
   ]
  },
  {
   "cell_type": "markdown",
   "metadata": {},
   "source": [
    "### Решающее дерево:"
   ]
  },
  {
   "cell_type": "code",
   "execution_count": 14,
   "metadata": {},
   "outputs": [
    {
     "name": "stdout",
     "output_type": "stream",
     "text": [
      "Глубина модели: 5; Качество модели: 0.8059701492537313.\n"
     ]
    }
   ],
   "source": [
    "best_model = None\n",
    "best_result = 0\n",
    "best_depth = 0\n",
    "for depth in range(1, 6):\n",
    "    model = DecisionTreeClassifier(random_state=12345, max_depth=depth)\n",
    "    model.fit(features_main, target_main)\n",
    "    result = model.score(features_valid, target_valid)\n",
    "    if result > best_result:\n",
    "        best_model = model\n",
    "        best_result = result\n",
    "        best_depth = depth\n",
    "        \n",
    "print(f'Глубина модели: {depth}; Качество модели: {best_result}.')"
   ]
  },
  {
   "cell_type": "markdown",
   "metadata": {},
   "source": [
    "### Случайный лес:"
   ]
  },
  {
   "cell_type": "code",
   "execution_count": 15,
   "metadata": {
    "scrolled": true
   },
   "outputs": [
    {
     "name": "stdout",
     "output_type": "stream",
     "text": [
      "Качество модели: 0.8084577114427861. EST:20\n"
     ]
    }
   ],
   "source": [
    "best_model = None\n",
    "best_result = 0\n",
    "for est in range(1, 21):\n",
    "    model = RandomForestClassifier(random_state=12345, n_estimators=est)\n",
    "    model.fit(features_main, target_main)\n",
    "    result = model.score(features_valid, target_valid)\n",
    "    if result > best_result:\n",
    "        best_model = model\n",
    "        best_result = result\n",
    "\n",
    "print(f'Качество модели: {best_result}. EST:{est}')"
   ]
  },
  {
   "cell_type": "markdown",
   "metadata": {},
   "source": [
    "#### Попробуем поменять гиперпараметры:"
   ]
  },
  {
   "cell_type": "code",
   "execution_count": 16,
   "metadata": {
    "scrolled": true
   },
   "outputs": [
    {
     "name": "stdout",
     "output_type": "stream",
     "text": [
      "Качество модели: 0.8059701492537313.\n"
     ]
    }
   ],
   "source": [
    "model = RandomForestClassifier(max_depth=22, random_state=12345, n_estimators=54)\n",
    "model.fit(features_main, target_main)\n",
    "result_1 = model.score(features_valid, target_valid)\n",
    "print(f'Качество модели: {result_1}.')"
   ]
  },
  {
   "cell_type": "code",
   "execution_count": 17,
   "metadata": {},
   "outputs": [
    {
     "name": "stdout",
     "output_type": "stream",
     "text": [
      "Качество модели: 0.7686567164179104.\n"
     ]
    }
   ],
   "source": [
    "model = RandomForestClassifier(max_depth=2, random_state=12345, n_estimators=17)\n",
    "model.fit(features_main, target_main)\n",
    "result_2 = model.score(features_valid, target_valid)\n",
    "print(f'Качество модели: {result_2}.')"
   ]
  },
  {
   "cell_type": "code",
   "execution_count": 18,
   "metadata": {},
   "outputs": [
    {
     "name": "stdout",
     "output_type": "stream",
     "text": [
      "Качество модели: 0.8233830845771144.\n"
     ]
    }
   ],
   "source": [
    "model = RandomForestClassifier(max_depth=18, random_state=12345, n_estimators=100)\n",
    "model.fit(features_main, target_main)\n",
    "result_3 = model.score(features_valid, target_valid)\n",
    "print(f'Качество модели: {result_3}.')"
   ]
  },
  {
   "cell_type": "markdown",
   "metadata": {},
   "source": [
    "Чем выше гиперпараметр **n_estimators** тем выше качество модели а значения глубины дерева дают лучший результат в диапазоне от 8 до 20."
   ]
  },
  {
   "cell_type": "markdown",
   "metadata": {},
   "source": [
    "### Логистическая регрессия:"
   ]
  },
  {
   "cell_type": "code",
   "execution_count": 19,
   "metadata": {},
   "outputs": [
    {
     "name": "stdout",
     "output_type": "stream",
     "text": [
      "Качество модели: 0.7064676616915423.\n"
     ]
    }
   ],
   "source": [
    "model = LogisticRegression()\n",
    "model.fit(features_main, target_main)\n",
    "result = model.score(features_valid, target_valid)\n",
    "print(f'Качество модели: {result}.')"
   ]
  },
  {
   "cell_type": "markdown",
   "metadata": {},
   "source": [
    "В \"Решающем лесу\" качество модели лучше всего."
   ]
  },
  {
   "cell_type": "markdown",
   "metadata": {},
   "source": [
    "## Проверьте модель на тестовой выборке"
   ]
  },
  {
   "cell_type": "markdown",
   "metadata": {},
   "source": [
    "### Решающее дерево:"
   ]
  },
  {
   "cell_type": "code",
   "execution_count": 20,
   "metadata": {},
   "outputs": [
    {
     "name": "stdout",
     "output_type": "stream",
     "text": [
      "Качество модели: 0.7885572139303483.\n"
     ]
    }
   ],
   "source": [
    "model = DecisionTreeClassifier(max_depth=4, random_state=12345)\n",
    "model.fit(features_main, target_main)\n",
    "result_tree = model.score(features_test, target_test)       \n",
    "print(f'Качество модели: {result_tree}.')"
   ]
  },
  {
   "cell_type": "markdown",
   "metadata": {},
   "source": [
    "### Случайный лес:"
   ]
  },
  {
   "cell_type": "code",
   "execution_count": 21,
   "metadata": {},
   "outputs": [
    {
     "name": "stdout",
     "output_type": "stream",
     "text": [
      "Качество модели: 0.7885572139303483.\n"
     ]
    }
   ],
   "source": [
    "model = RandomForestClassifier(random_state=12345, n_estimators=20)\n",
    "model.fit(features_main, target_main)\n",
    "result_forest = model.score(features_test, target_test)\n",
    "print(f'Качество модели: {result_forest}.')"
   ]
  },
  {
   "cell_type": "markdown",
   "metadata": {},
   "source": [
    "### Логистическая регрессия:"
   ]
  },
  {
   "cell_type": "code",
   "execution_count": 22,
   "metadata": {
    "scrolled": true
   },
   "outputs": [
    {
     "name": "stdout",
     "output_type": "stream",
     "text": [
      "Качество модели: 0.7164179104477612.\n"
     ]
    }
   ],
   "source": [
    "model = LogisticRegression()\n",
    "model.fit(features_main, target_main)\n",
    "result_logistic = model.score(features_test, target_test)\n",
    "print(f'Качество модели: {result_logistic}.')"
   ]
  },
  {
   "cell_type": "markdown",
   "metadata": {},
   "source": [
    "При проверке на тестовой выборке, качество модели \"решающего древа\" <s>лучше чем в</s> и \"случайном лесу\" одинаковы."
   ]
  },
  {
   "cell_type": "markdown",
   "metadata": {},
   "source": [
    "## (бонус) Проверьте модели на адекватность"
   ]
  },
  {
   "cell_type": "code",
   "execution_count": 23,
   "metadata": {
    "scrolled": true
   },
   "outputs": [
    {
     "name": "stdout",
     "output_type": "stream",
     "text": [
      "Наивный прогноз: 0.6940298507462687. Наш прогноз: 0.7885572139303483\n"
     ]
    }
   ],
   "source": [
    "dc_mf = DummyClassifier(strategy=\"most_frequent\") \n",
    "dc_mf.fit(features_main, target_main)\n",
    "naive_forecast = dc_mf.score(features_test, target_test)\n",
    "print(f'Наивный прогноз: {naive_forecast}. Наш прогноз: {result_forest}')"
   ]
  },
  {
   "cell_type": "code",
   "execution_count": 24,
   "metadata": {},
   "outputs": [
    {
     "name": "stdout",
     "output_type": "stream",
     "text": [
      "Наивный прогноз: 0.6940298507462687. Наш прогноз: 0.7885572139303483\n"
     ]
    }
   ],
   "source": [
    "dc_mf = DummyClassifier(strategy=\"prior\") \n",
    "dc_mf.fit(features_main, target_main)\n",
    "naive_forecast = dc_mf.score(features_test, target_test)\n",
    "print(f'Наивный прогноз: {naive_forecast}. Наш прогноз: {result_forest}')"
   ]
  },
  {
   "cell_type": "code",
   "execution_count": 25,
   "metadata": {},
   "outputs": [
    {
     "name": "stdout",
     "output_type": "stream",
     "text": [
      "Наивный прогноз: 0.5870646766169154. Наш прогноз: 0.7885572139303483\n"
     ]
    }
   ],
   "source": [
    "dc_mf = DummyClassifier(strategy=\"stratified\") \n",
    "dc_mf.fit(features_main, target_main)\n",
    "naive_forecast = dc_mf.score(features_test, target_test)\n",
    "print(f'Наивный прогноз: {naive_forecast}. Наш прогноз: {result_forest}')"
   ]
  },
  {
   "cell_type": "code",
   "execution_count": 26,
   "metadata": {
    "scrolled": true
   },
   "outputs": [
    {
     "name": "stdout",
     "output_type": "stream",
     "text": [
      "Наивный прогноз: 0.4900497512437811. Наш прогноз: 0.7885572139303483\n"
     ]
    }
   ],
   "source": [
    "dc_mf = DummyClassifier(strategy=\"uniform\") \n",
    "dc_mf.fit(features_main, target_main)\n",
    "naive_forecast = dc_mf.score(features_test, target_test)\n",
    "print(f'Наивный прогноз: {naive_forecast}. Наш прогноз: {result_forest}')"
   ]
  },
  {
   "cell_type": "markdown",
   "metadata": {},
   "source": [
    "Наша модель оказалась адекватнее константной."
   ]
  },
  {
   "cell_type": "markdown",
   "metadata": {},
   "source": [
    "***Выводы:***\n",
    "\n",
    "* Мы проверили 3 модели(решащее дерево, случайный лес и логистическая модель)\n",
    "* Наилучший параметр касчесва 0.7885572139303483\n",
    "* удалось выяснить что с увеличением гиперпараметра **n_estimators** растет и качество модели\n",
    "* Результаты проверки на адекватность считаю удовлетварительными(но это не точно)."
   ]
  }
 ],
 "metadata": {
  "ExecuteTimeLog": [
   {
    "duration": 2493,
    "start_time": "2022-05-05T13:05:10.666Z"
   },
   {
    "duration": 45,
    "start_time": "2022-05-05T13:05:13.161Z"
   },
   {
    "duration": 20,
    "start_time": "2022-05-05T13:05:28.043Z"
   },
   {
    "duration": 3,
    "start_time": "2022-05-05T13:07:48.205Z"
   },
   {
    "duration": 97,
    "start_time": "2022-05-05T13:10:15.017Z"
   },
   {
    "duration": 4,
    "start_time": "2022-05-05T13:10:18.287Z"
   },
   {
    "duration": 3,
    "start_time": "2022-05-05T13:10:18.725Z"
   },
   {
    "duration": 46,
    "start_time": "2022-05-06T07:13:05.717Z"
   },
   {
    "duration": 1184,
    "start_time": "2022-05-06T07:13:09.430Z"
   },
   {
    "duration": 19,
    "start_time": "2022-05-06T07:13:10.615Z"
   },
   {
    "duration": 16,
    "start_time": "2022-05-06T07:13:10.635Z"
   },
   {
    "duration": 4,
    "start_time": "2022-05-06T07:13:10.653Z"
   },
   {
    "duration": 3,
    "start_time": "2022-05-06T07:13:13.996Z"
   },
   {
    "duration": 4,
    "start_time": "2022-05-06T07:13:14.411Z"
   },
   {
    "duration": 6,
    "start_time": "2022-05-06T07:16:51.593Z"
   },
   {
    "duration": 37,
    "start_time": "2022-05-06T07:46:03.383Z"
   },
   {
    "duration": 38,
    "start_time": "2022-05-06T07:50:31.964Z"
   },
   {
    "duration": 39,
    "start_time": "2022-05-06T07:51:11.419Z"
   },
   {
    "duration": 141,
    "start_time": "2022-05-06T07:51:41.625Z"
   },
   {
    "duration": 41,
    "start_time": "2022-05-06T07:51:49.245Z"
   },
   {
    "duration": 5,
    "start_time": "2022-05-06T07:52:13.714Z"
   },
   {
    "duration": 38,
    "start_time": "2022-05-06T07:52:14.817Z"
   },
   {
    "duration": 5,
    "start_time": "2022-05-06T07:52:19.976Z"
   },
   {
    "duration": 38,
    "start_time": "2022-05-06T07:52:20.945Z"
   },
   {
    "duration": 39,
    "start_time": "2022-05-06T07:53:07.699Z"
   },
   {
    "duration": 6,
    "start_time": "2022-05-06T08:07:15.470Z"
   },
   {
    "duration": 4,
    "start_time": "2022-05-06T08:08:55.120Z"
   },
   {
    "duration": 3,
    "start_time": "2022-05-06T08:08:55.522Z"
   },
   {
    "duration": 3,
    "start_time": "2022-05-06T08:08:57.597Z"
   },
   {
    "duration": 4,
    "start_time": "2022-05-06T08:09:19.404Z"
   },
   {
    "duration": 24,
    "start_time": "2022-05-06T08:09:21.166Z"
   },
   {
    "duration": 1374,
    "start_time": "2022-05-06T08:09:33.346Z"
   },
   {
    "duration": 21,
    "start_time": "2022-05-06T08:09:34.722Z"
   },
   {
    "duration": 23,
    "start_time": "2022-05-06T08:09:34.745Z"
   },
   {
    "duration": 5,
    "start_time": "2022-05-06T08:09:34.770Z"
   },
   {
    "duration": 5,
    "start_time": "2022-05-06T08:09:34.792Z"
   },
   {
    "duration": 5,
    "start_time": "2022-05-06T08:09:34.799Z"
   },
   {
    "duration": 8,
    "start_time": "2022-05-06T08:09:34.805Z"
   },
   {
    "duration": 19,
    "start_time": "2022-05-06T08:09:34.814Z"
   },
   {
    "duration": 25,
    "start_time": "2022-05-06T08:09:34.835Z"
   },
   {
    "duration": 24,
    "start_time": "2022-05-06T08:11:31.431Z"
   },
   {
    "duration": 25,
    "start_time": "2022-05-06T08:15:00.945Z"
   },
   {
    "duration": 25,
    "start_time": "2022-05-06T08:16:44.607Z"
   },
   {
    "duration": 127,
    "start_time": "2022-05-06T08:17:58.821Z"
   },
   {
    "duration": 137,
    "start_time": "2022-05-06T08:18:59.903Z"
   },
   {
    "duration": 4,
    "start_time": "2022-05-06T08:20:23.400Z"
   },
   {
    "duration": 24,
    "start_time": "2022-05-06T08:22:07.382Z"
   },
   {
    "duration": 5,
    "start_time": "2022-05-06T08:28:15.045Z"
   },
   {
    "duration": 3,
    "start_time": "2022-05-06T08:28:15.446Z"
   },
   {
    "duration": 4,
    "start_time": "2022-05-06T08:28:15.884Z"
   },
   {
    "duration": 4,
    "start_time": "2022-05-06T08:29:50.305Z"
   },
   {
    "duration": 5,
    "start_time": "2022-05-06T08:30:01.455Z"
   },
   {
    "duration": 5,
    "start_time": "2022-05-06T08:31:49.814Z"
   },
   {
    "duration": 3,
    "start_time": "2022-05-06T08:31:50.264Z"
   },
   {
    "duration": 5,
    "start_time": "2022-05-06T08:31:50.709Z"
   },
   {
    "duration": 5,
    "start_time": "2022-05-06T08:31:51.574Z"
   },
   {
    "duration": 43,
    "start_time": "2022-05-06T08:31:52.527Z"
   },
   {
    "duration": 437,
    "start_time": "2022-05-06T08:31:54.593Z"
   },
   {
    "duration": 205,
    "start_time": "2022-05-06T08:32:00.992Z"
   },
   {
    "duration": 34,
    "start_time": "2022-05-06T08:32:54.927Z"
   },
   {
    "duration": 165,
    "start_time": "2022-05-06T08:35:34.877Z"
   },
   {
    "duration": 13,
    "start_time": "2022-05-06T08:36:39.318Z"
   },
   {
    "duration": 12,
    "start_time": "2022-05-06T08:36:53.560Z"
   },
   {
    "duration": 12,
    "start_time": "2022-05-06T08:37:11.470Z"
   },
   {
    "duration": 13,
    "start_time": "2022-05-06T08:38:24.576Z"
   },
   {
    "duration": 13,
    "start_time": "2022-05-06T08:38:55.375Z"
   },
   {
    "duration": 11,
    "start_time": "2022-05-06T08:39:10.357Z"
   },
   {
    "duration": 310,
    "start_time": "2022-05-06T08:39:28.582Z"
   },
   {
    "duration": 375,
    "start_time": "2022-05-06T08:40:46.028Z"
   },
   {
    "duration": 57,
    "start_time": "2022-05-06T08:41:48.718Z"
   },
   {
    "duration": 13,
    "start_time": "2022-05-06T08:42:13.174Z"
   },
   {
    "duration": 56,
    "start_time": "2022-05-06T08:42:17.197Z"
   },
   {
    "duration": 194,
    "start_time": "2022-05-06T08:42:18.000Z"
   },
   {
    "duration": 56,
    "start_time": "2022-05-06T08:42:32.375Z"
   },
   {
    "duration": 1472,
    "start_time": "2022-05-06T08:43:08.694Z"
   },
   {
    "duration": 19,
    "start_time": "2022-05-06T08:43:10.169Z"
   },
   {
    "duration": 23,
    "start_time": "2022-05-06T08:43:10.190Z"
   },
   {
    "duration": 5,
    "start_time": "2022-05-06T08:43:10.214Z"
   },
   {
    "duration": 6,
    "start_time": "2022-05-06T08:43:10.221Z"
   },
   {
    "duration": 7,
    "start_time": "2022-05-06T08:43:10.228Z"
   },
   {
    "duration": 7,
    "start_time": "2022-05-06T08:43:10.237Z"
   },
   {
    "duration": 9,
    "start_time": "2022-05-06T08:43:10.245Z"
   },
   {
    "duration": 68,
    "start_time": "2022-05-06T08:43:10.256Z"
   },
   {
    "duration": 311,
    "start_time": "2022-05-06T08:43:10.325Z"
   },
   {
    "duration": 466,
    "start_time": "2022-05-06T08:43:10.637Z"
   },
   {
    "duration": 195,
    "start_time": "2022-05-06T08:43:11.104Z"
   },
   {
    "duration": 64,
    "start_time": "2022-05-06T08:43:11.301Z"
   },
   {
    "duration": 233,
    "start_time": "2022-05-06T08:43:11.368Z"
   },
   {
    "duration": 102,
    "start_time": "2022-05-06T09:03:53.360Z"
   },
   {
    "duration": 3,
    "start_time": "2022-05-06T09:04:42.558Z"
   },
   {
    "duration": 5,
    "start_time": "2022-05-06T09:04:46.947Z"
   },
   {
    "duration": 14,
    "start_time": "2022-05-06T09:06:45.382Z"
   },
   {
    "duration": 61,
    "start_time": "2022-05-06T09:06:45.826Z"
   },
   {
    "duration": 123,
    "start_time": "2022-05-06T09:06:46.272Z"
   },
   {
    "duration": 5,
    "start_time": "2022-05-06T09:07:35.009Z"
   },
   {
    "duration": 6,
    "start_time": "2022-05-06T09:11:22.452Z"
   },
   {
    "duration": 5,
    "start_time": "2022-05-06T09:11:47.310Z"
   },
   {
    "duration": 5,
    "start_time": "2022-05-06T09:12:01.703Z"
   },
   {
    "duration": 19,
    "start_time": "2022-05-06T09:12:52.202Z"
   },
   {
    "duration": 41,
    "start_time": "2022-05-06T09:16:42.809Z"
   },
   {
    "duration": 32,
    "start_time": "2022-05-06T09:16:51.168Z"
   },
   {
    "duration": 15,
    "start_time": "2022-05-06T09:16:56.658Z"
   },
   {
    "duration": 79,
    "start_time": "2022-05-06T09:17:14.109Z"
   },
   {
    "duration": 1007,
    "start_time": "2022-05-06T09:17:39.006Z"
   },
   {
    "duration": 166,
    "start_time": "2022-05-06T09:20:33.458Z"
   },
   {
    "duration": 123,
    "start_time": "2022-05-06T09:20:41.131Z"
   },
   {
    "duration": 204,
    "start_time": "2022-05-06T09:20:55.457Z"
   },
   {
    "duration": 280,
    "start_time": "2022-05-06T09:21:03.565Z"
   },
   {
    "duration": 14,
    "start_time": "2022-05-06T09:23:17.362Z"
   },
   {
    "duration": 56,
    "start_time": "2022-05-06T09:23:18.046Z"
   },
   {
    "duration": 207,
    "start_time": "2022-05-06T09:23:18.890Z"
   },
   {
    "duration": 250,
    "start_time": "2022-05-06T09:23:44.713Z"
   },
   {
    "duration": 7167,
    "start_time": "2022-05-06T09:24:02.264Z"
   },
   {
    "duration": 262,
    "start_time": "2022-05-06T09:24:35.645Z"
   },
   {
    "duration": 106,
    "start_time": "2022-05-06T09:24:45.867Z"
   },
   {
    "duration": 996,
    "start_time": "2022-05-06T09:24:58.724Z"
   },
   {
    "duration": 248,
    "start_time": "2022-05-06T09:25:02.132Z"
   },
   {
    "duration": 248,
    "start_time": "2022-05-06T09:25:14.695Z"
   },
   {
    "duration": 102,
    "start_time": "2022-05-06T09:25:43.880Z"
   },
   {
    "duration": 7,
    "start_time": "2022-05-06T09:25:48.582Z"
   },
   {
    "duration": 6,
    "start_time": "2022-05-06T09:25:50.513Z"
   },
   {
    "duration": 5,
    "start_time": "2022-05-06T09:25:50.944Z"
   },
   {
    "duration": 5,
    "start_time": "2022-05-06T09:25:52.865Z"
   },
   {
    "duration": 227,
    "start_time": "2022-05-06T10:32:37.969Z"
   },
   {
    "duration": 66,
    "start_time": "2022-05-06T10:32:50.433Z"
   },
   {
    "duration": 36,
    "start_time": "2022-05-06T10:33:23.868Z"
   },
   {
    "duration": 84,
    "start_time": "2022-05-06T10:33:44.747Z"
   },
   {
    "duration": 21,
    "start_time": "2022-05-06T10:33:45.544Z"
   },
   {
    "duration": 1194,
    "start_time": "2022-05-06T10:35:12.050Z"
   },
   {
    "duration": 18,
    "start_time": "2022-05-06T10:35:13.246Z"
   },
   {
    "duration": 18,
    "start_time": "2022-05-06T10:35:13.265Z"
   },
   {
    "duration": 4,
    "start_time": "2022-05-06T10:35:13.284Z"
   },
   {
    "duration": 6,
    "start_time": "2022-05-06T10:35:13.293Z"
   },
   {
    "duration": 5,
    "start_time": "2022-05-06T10:35:13.300Z"
   },
   {
    "duration": 5,
    "start_time": "2022-05-06T10:35:13.307Z"
   },
   {
    "duration": 6,
    "start_time": "2022-05-06T10:35:13.314Z"
   },
   {
    "duration": 34,
    "start_time": "2022-05-06T10:35:13.321Z"
   },
   {
    "duration": 1050,
    "start_time": "2022-05-06T10:35:13.356Z"
   },
   {
    "duration": 256,
    "start_time": "2022-05-06T10:35:14.408Z"
   },
   {
    "duration": 96,
    "start_time": "2022-05-06T10:35:14.665Z"
   },
   {
    "duration": 30,
    "start_time": "2022-05-06T10:35:14.763Z"
   },
   {
    "duration": 108,
    "start_time": "2022-05-06T10:35:14.796Z"
   },
   {
    "duration": 104,
    "start_time": "2022-05-06T10:35:14.994Z"
   },
   {
    "duration": 117,
    "start_time": "2022-05-06T10:35:15.100Z"
   },
   {
    "duration": 184,
    "start_time": "2022-05-06T10:35:15.219Z"
   },
   {
    "duration": 9,
    "start_time": "2022-05-06T10:35:15.494Z"
   },
   {
    "duration": 6,
    "start_time": "2022-05-06T10:35:15.593Z"
   },
   {
    "duration": 8,
    "start_time": "2022-05-06T10:35:15.601Z"
   },
   {
    "duration": 6,
    "start_time": "2022-05-06T10:35:15.610Z"
   },
   {
    "duration": 242,
    "start_time": "2022-05-06T10:36:25.740Z"
   },
   {
    "duration": 258,
    "start_time": "2022-05-06T10:36:47.727Z"
   },
   {
    "duration": 87,
    "start_time": "2022-05-06T10:36:48.600Z"
   },
   {
    "duration": 25,
    "start_time": "2022-05-06T10:36:50.146Z"
   },
   {
    "duration": 1149,
    "start_time": "2022-05-06T10:36:55.917Z"
   },
   {
    "duration": 100,
    "start_time": "2022-05-06T10:37:08.737Z"
   },
   {
    "duration": 14,
    "start_time": "2022-05-06T10:40:19.472Z"
   },
   {
    "duration": 14,
    "start_time": "2022-05-06T10:40:27.646Z"
   },
   {
    "duration": 11,
    "start_time": "2022-05-06T10:40:41.277Z"
   },
   {
    "duration": 1186,
    "start_time": "2022-05-06T10:40:49.446Z"
   },
   {
    "duration": 19,
    "start_time": "2022-05-06T10:40:50.634Z"
   },
   {
    "duration": 20,
    "start_time": "2022-05-06T10:40:50.655Z"
   },
   {
    "duration": 18,
    "start_time": "2022-05-06T10:40:50.676Z"
   },
   {
    "duration": 5,
    "start_time": "2022-05-06T10:40:50.696Z"
   },
   {
    "duration": 10,
    "start_time": "2022-05-06T10:40:50.703Z"
   },
   {
    "duration": 5,
    "start_time": "2022-05-06T10:40:50.715Z"
   },
   {
    "duration": 7,
    "start_time": "2022-05-06T10:40:50.722Z"
   },
   {
    "duration": 36,
    "start_time": "2022-05-06T10:40:50.730Z"
   },
   {
    "duration": 1101,
    "start_time": "2022-05-06T10:40:50.767Z"
   },
   {
    "duration": 275,
    "start_time": "2022-05-06T10:40:51.870Z"
   },
   {
    "duration": 96,
    "start_time": "2022-05-06T10:40:52.147Z"
   },
   {
    "duration": 23,
    "start_time": "2022-05-06T10:40:52.245Z"
   },
   {
    "duration": 130,
    "start_time": "2022-05-06T10:40:52.272Z"
   },
   {
    "duration": 188,
    "start_time": "2022-05-06T10:40:52.405Z"
   },
   {
    "duration": 113,
    "start_time": "2022-05-06T10:40:52.595Z"
   },
   {
    "duration": 96,
    "start_time": "2022-05-06T10:40:52.710Z"
   },
   {
    "duration": 6,
    "start_time": "2022-05-06T10:40:52.894Z"
   },
   {
    "duration": 94,
    "start_time": "2022-05-06T10:40:52.902Z"
   },
   {
    "duration": 7,
    "start_time": "2022-05-06T10:40:52.997Z"
   },
   {
    "duration": 7,
    "start_time": "2022-05-06T10:40:53.006Z"
   },
   {
    "duration": 8,
    "start_time": "2022-05-06T10:50:26.681Z"
   },
   {
    "duration": 12,
    "start_time": "2022-05-06T10:50:33.395Z"
   },
   {
    "duration": 116,
    "start_time": "2022-05-07T07:40:12.343Z"
   },
   {
    "duration": 1524,
    "start_time": "2022-05-07T07:40:18.876Z"
   },
   {
    "duration": 20,
    "start_time": "2022-05-07T07:40:20.404Z"
   },
   {
    "duration": 32,
    "start_time": "2022-05-07T07:40:20.427Z"
   },
   {
    "duration": 17,
    "start_time": "2022-05-07T07:40:20.461Z"
   },
   {
    "duration": 10,
    "start_time": "2022-05-07T07:40:20.481Z"
   },
   {
    "duration": 8,
    "start_time": "2022-05-07T07:40:20.493Z"
   },
   {
    "duration": 9,
    "start_time": "2022-05-07T07:40:20.504Z"
   },
   {
    "duration": 6,
    "start_time": "2022-05-07T07:40:20.553Z"
   },
   {
    "duration": 12,
    "start_time": "2022-05-07T07:40:20.561Z"
   },
   {
    "duration": 80,
    "start_time": "2022-05-07T07:40:20.575Z"
   },
   {
    "duration": 2094,
    "start_time": "2022-05-07T07:40:20.658Z"
   },
   {
    "duration": 512,
    "start_time": "2022-05-07T07:40:22.755Z"
   },
   {
    "duration": 184,
    "start_time": "2022-05-07T07:40:23.270Z"
   },
   {
    "duration": 42,
    "start_time": "2022-05-07T07:40:23.460Z"
   },
   {
    "duration": 348,
    "start_time": "2022-05-07T07:40:23.506Z"
   },
   {
    "duration": 102,
    "start_time": "2022-05-07T07:40:23.858Z"
   },
   {
    "duration": 160,
    "start_time": "2022-05-07T07:40:23.963Z"
   },
   {
    "duration": 234,
    "start_time": "2022-05-07T07:40:24.126Z"
   },
   {
    "duration": 100,
    "start_time": "2022-05-07T07:40:24.363Z"
   },
   {
    "duration": 6,
    "start_time": "2022-05-07T07:40:24.552Z"
   },
   {
    "duration": 9,
    "start_time": "2022-05-07T07:40:24.560Z"
   },
   {
    "duration": 10,
    "start_time": "2022-05-07T07:40:24.571Z"
   },
   {
    "duration": 301,
    "start_time": "2022-05-07T07:58:18.595Z"
   },
   {
    "duration": 5,
    "start_time": "2022-05-07T07:58:43.067Z"
   },
   {
    "duration": 125,
    "start_time": "2022-05-07T07:58:46.930Z"
   },
   {
    "duration": 116,
    "start_time": "2022-05-07T07:59:00.040Z"
   },
   {
    "duration": 21,
    "start_time": "2022-05-07T07:59:12.484Z"
   },
   {
    "duration": 12,
    "start_time": "2022-05-07T07:59:26.832Z"
   },
   {
    "duration": 51,
    "start_time": "2022-05-07T07:59:36.116Z"
   },
   {
    "duration": 11,
    "start_time": "2022-05-07T07:59:40.932Z"
   },
   {
    "duration": 20,
    "start_time": "2022-05-07T08:09:58.158Z"
   },
   {
    "duration": 686,
    "start_time": "2022-05-07T08:13:37.301Z"
   },
   {
    "duration": 40,
    "start_time": "2022-05-07T08:14:17.726Z"
   },
   {
    "duration": 503,
    "start_time": "2022-05-07T08:14:42.668Z"
   },
   {
    "duration": 507,
    "start_time": "2022-05-07T08:18:01.115Z"
   },
   {
    "duration": 487,
    "start_time": "2022-05-07T08:18:23.848Z"
   },
   {
    "duration": 551,
    "start_time": "2022-05-07T08:19:33.169Z"
   },
   {
    "duration": 503,
    "start_time": "2022-05-07T08:19:40.984Z"
   },
   {
    "duration": 20,
    "start_time": "2022-05-07T08:30:31.865Z"
   },
   {
    "duration": 14,
    "start_time": "2022-05-07T08:30:57.691Z"
   },
   {
    "duration": 22,
    "start_time": "2022-05-07T08:31:03.074Z"
   },
   {
    "duration": 39,
    "start_time": "2022-05-07T08:31:10.782Z"
   },
   {
    "duration": 53,
    "start_time": "2022-05-07T08:31:31.527Z"
   },
   {
    "duration": 179,
    "start_time": "2022-05-07T08:31:35.572Z"
   },
   {
    "duration": 496,
    "start_time": "2022-05-07T08:31:48.641Z"
   },
   {
    "duration": 2142,
    "start_time": "2022-05-07T08:46:42.390Z"
   },
   {
    "duration": 18,
    "start_time": "2022-05-07T08:46:44.536Z"
   },
   {
    "duration": 18,
    "start_time": "2022-05-07T08:46:44.556Z"
   },
   {
    "duration": 16,
    "start_time": "2022-05-07T08:46:44.577Z"
   },
   {
    "duration": 8,
    "start_time": "2022-05-07T08:46:44.595Z"
   },
   {
    "duration": 549,
    "start_time": "2022-05-07T08:46:44.605Z"
   },
   {
    "duration": 24,
    "start_time": "2022-05-07T08:46:45.156Z"
   },
   {
    "duration": 5,
    "start_time": "2022-05-07T08:46:45.254Z"
   },
   {
    "duration": 101,
    "start_time": "2022-05-07T08:46:45.262Z"
   },
   {
    "duration": 6,
    "start_time": "2022-05-07T08:46:45.367Z"
   },
   {
    "duration": 210,
    "start_time": "2022-05-07T08:46:45.375Z"
   },
   {
    "duration": 0,
    "start_time": "2022-05-07T08:46:45.587Z"
   },
   {
    "duration": 0,
    "start_time": "2022-05-07T08:46:45.589Z"
   },
   {
    "duration": 0,
    "start_time": "2022-05-07T08:46:45.591Z"
   },
   {
    "duration": 0,
    "start_time": "2022-05-07T08:46:45.593Z"
   },
   {
    "duration": 0,
    "start_time": "2022-05-07T08:46:45.595Z"
   },
   {
    "duration": 0,
    "start_time": "2022-05-07T08:46:45.597Z"
   },
   {
    "duration": 0,
    "start_time": "2022-05-07T08:46:45.598Z"
   },
   {
    "duration": 0,
    "start_time": "2022-05-07T08:46:45.600Z"
   },
   {
    "duration": 0,
    "start_time": "2022-05-07T08:46:45.603Z"
   },
   {
    "duration": 0,
    "start_time": "2022-05-07T08:46:45.604Z"
   },
   {
    "duration": 0,
    "start_time": "2022-05-07T08:46:45.607Z"
   },
   {
    "duration": 0,
    "start_time": "2022-05-07T08:46:45.608Z"
   },
   {
    "duration": 0,
    "start_time": "2022-05-07T08:46:45.610Z"
   },
   {
    "duration": 0,
    "start_time": "2022-05-07T08:46:45.651Z"
   },
   {
    "duration": 0,
    "start_time": "2022-05-07T08:46:45.652Z"
   },
   {
    "duration": 2032,
    "start_time": "2022-05-07T08:48:04.303Z"
   },
   {
    "duration": 17,
    "start_time": "2022-05-07T08:48:06.337Z"
   },
   {
    "duration": 22,
    "start_time": "2022-05-07T08:48:06.357Z"
   },
   {
    "duration": 51,
    "start_time": "2022-05-07T08:48:06.381Z"
   },
   {
    "duration": 88,
    "start_time": "2022-05-07T08:48:06.443Z"
   },
   {
    "duration": 491,
    "start_time": "2022-05-07T08:48:06.534Z"
   },
   {
    "duration": 143,
    "start_time": "2022-05-07T08:48:07.028Z"
   },
   {
    "duration": 11,
    "start_time": "2022-05-07T08:48:07.253Z"
   },
   {
    "duration": 117,
    "start_time": "2022-05-07T08:48:07.267Z"
   },
   {
    "duration": 14,
    "start_time": "2022-05-07T08:48:07.387Z"
   },
   {
    "duration": 12,
    "start_time": "2022-05-07T08:48:07.403Z"
   },
   {
    "duration": 24,
    "start_time": "2022-05-07T08:48:07.417Z"
   },
   {
    "duration": 16,
    "start_time": "2022-05-07T08:48:07.443Z"
   },
   {
    "duration": 44,
    "start_time": "2022-05-07T08:48:07.465Z"
   },
   {
    "duration": 1127,
    "start_time": "2022-05-07T08:48:07.512Z"
   },
   {
    "duration": 284,
    "start_time": "2022-05-07T08:48:08.642Z"
   },
   {
    "duration": 108,
    "start_time": "2022-05-07T08:48:08.928Z"
   },
   {
    "duration": 37,
    "start_time": "2022-05-07T08:48:09.038Z"
   },
   {
    "duration": 27,
    "start_time": "2022-05-07T08:48:09.077Z"
   },
   {
    "duration": 14,
    "start_time": "2022-05-07T08:48:09.107Z"
   },
   {
    "duration": 128,
    "start_time": "2022-05-07T08:48:09.151Z"
   },
   {
    "duration": 27,
    "start_time": "2022-05-07T08:48:09.281Z"
   },
   {
    "duration": 7,
    "start_time": "2022-05-07T08:48:09.310Z"
   },
   {
    "duration": 40,
    "start_time": "2022-05-07T08:48:09.320Z"
   },
   {
    "duration": 11,
    "start_time": "2022-05-07T08:48:09.363Z"
   },
   {
    "duration": 7,
    "start_time": "2022-05-07T08:48:09.376Z"
   },
   {
    "duration": 497,
    "start_time": "2022-05-07T08:49:04.565Z"
   },
   {
    "duration": 25,
    "start_time": "2022-05-07T08:52:02.899Z"
   },
   {
    "duration": 129,
    "start_time": "2022-05-07T09:00:41.349Z"
   },
   {
    "duration": 11,
    "start_time": "2022-05-07T09:03:00.314Z"
   },
   {
    "duration": 9,
    "start_time": "2022-05-07T09:03:28.807Z"
   },
   {
    "duration": 1938,
    "start_time": "2022-05-07T09:04:21.309Z"
   },
   {
    "duration": 19,
    "start_time": "2022-05-07T09:04:23.250Z"
   },
   {
    "duration": 18,
    "start_time": "2022-05-07T09:04:23.271Z"
   },
   {
    "duration": 16,
    "start_time": "2022-05-07T09:04:23.292Z"
   },
   {
    "duration": 8,
    "start_time": "2022-05-07T09:04:23.310Z"
   },
   {
    "duration": 514,
    "start_time": "2022-05-07T09:04:23.321Z"
   },
   {
    "duration": 119,
    "start_time": "2022-05-07T09:04:23.839Z"
   },
   {
    "duration": 95,
    "start_time": "2022-05-07T09:04:23.961Z"
   },
   {
    "duration": 513,
    "start_time": "2022-05-07T09:04:24.059Z"
   },
   {
    "duration": 3,
    "start_time": "2022-05-07T09:04:24.576Z"
   },
   {
    "duration": 13,
    "start_time": "2022-05-07T09:04:24.582Z"
   },
   {
    "duration": 5,
    "start_time": "2022-05-07T09:04:24.597Z"
   },
   {
    "duration": 10,
    "start_time": "2022-05-07T09:04:24.604Z"
   },
   {
    "duration": 35,
    "start_time": "2022-05-07T09:04:24.616Z"
   },
   {
    "duration": 44,
    "start_time": "2022-05-07T09:04:24.653Z"
   },
   {
    "duration": 1110,
    "start_time": "2022-05-07T09:04:24.700Z"
   },
   {
    "duration": 276,
    "start_time": "2022-05-07T09:04:25.812Z"
   },
   {
    "duration": 99,
    "start_time": "2022-05-07T09:04:26.090Z"
   },
   {
    "duration": 28,
    "start_time": "2022-05-07T09:04:26.191Z"
   },
   {
    "duration": 54,
    "start_time": "2022-05-07T09:04:26.222Z"
   },
   {
    "duration": 15,
    "start_time": "2022-05-07T09:04:26.278Z"
   },
   {
    "duration": 131,
    "start_time": "2022-05-07T09:04:26.295Z"
   },
   {
    "duration": 40,
    "start_time": "2022-05-07T09:04:26.429Z"
   },
   {
    "duration": 7,
    "start_time": "2022-05-07T09:04:26.472Z"
   },
   {
    "duration": 13,
    "start_time": "2022-05-07T09:04:26.480Z"
   },
   {
    "duration": 30,
    "start_time": "2022-05-07T09:04:26.496Z"
   },
   {
    "duration": 12,
    "start_time": "2022-05-07T09:04:26.528Z"
   },
   {
    "duration": 267,
    "start_time": "2022-05-07T09:10:17.391Z"
   },
   {
    "duration": 57,
    "start_time": "2022-05-07T09:10:38.751Z"
   },
   {
    "duration": 38,
    "start_time": "2022-05-07T09:10:42.796Z"
   },
   {
    "duration": 211,
    "start_time": "2022-05-07T09:11:01.049Z"
   },
   {
    "duration": 266,
    "start_time": "2022-05-07T09:11:09.154Z"
   },
   {
    "duration": 28,
    "start_time": "2022-05-07T09:11:16.578Z"
   },
   {
    "duration": 28,
    "start_time": "2022-05-07T09:11:38.079Z"
   },
   {
    "duration": 28,
    "start_time": "2022-05-07T09:11:44.918Z"
   },
   {
    "duration": 29,
    "start_time": "2022-05-07T09:11:50.753Z"
   },
   {
    "duration": 27,
    "start_time": "2022-05-07T09:12:04.634Z"
   },
   {
    "duration": 469,
    "start_time": "2022-05-07T09:12:24.375Z"
   },
   {
    "duration": 1932,
    "start_time": "2022-05-07T09:19:45.241Z"
   },
   {
    "duration": 20,
    "start_time": "2022-05-07T09:19:47.175Z"
   },
   {
    "duration": 18,
    "start_time": "2022-05-07T09:19:47.197Z"
   },
   {
    "duration": 16,
    "start_time": "2022-05-07T09:19:47.218Z"
   },
   {
    "duration": 22,
    "start_time": "2022-05-07T09:19:47.236Z"
   },
   {
    "duration": 462,
    "start_time": "2022-05-07T09:19:47.261Z"
   },
   {
    "duration": 126,
    "start_time": "2022-05-07T09:19:47.726Z"
   },
   {
    "duration": 97,
    "start_time": "2022-05-07T09:19:47.855Z"
   },
   {
    "duration": 418,
    "start_time": "2022-05-07T09:19:47.955Z"
   },
   {
    "duration": 4,
    "start_time": "2022-05-07T09:19:48.375Z"
   },
   {
    "duration": 12,
    "start_time": "2022-05-07T09:19:48.381Z"
   },
   {
    "duration": 7,
    "start_time": "2022-05-07T09:19:48.395Z"
   },
   {
    "duration": 7,
    "start_time": "2022-05-07T09:19:48.404Z"
   },
   {
    "duration": 37,
    "start_time": "2022-05-07T09:19:48.417Z"
   },
   {
    "duration": 49,
    "start_time": "2022-05-07T09:19:48.457Z"
   },
   {
    "duration": 1135,
    "start_time": "2022-05-07T09:19:48.508Z"
   },
   {
    "duration": 276,
    "start_time": "2022-05-07T09:19:49.651Z"
   },
   {
    "duration": 65,
    "start_time": "2022-05-07T09:19:49.929Z"
   },
   {
    "duration": 459,
    "start_time": "2022-05-07T09:19:49.996Z"
   },
   {
    "duration": 25,
    "start_time": "2022-05-07T09:19:50.457Z"
   },
   {
    "duration": 14,
    "start_time": "2022-05-07T09:19:50.484Z"
   },
   {
    "duration": 136,
    "start_time": "2022-05-07T09:19:50.500Z"
   },
   {
    "duration": 33,
    "start_time": "2022-05-07T09:19:50.639Z"
   },
   {
    "duration": 7,
    "start_time": "2022-05-07T09:19:50.674Z"
   },
   {
    "duration": 23,
    "start_time": "2022-05-07T09:19:50.683Z"
   },
   {
    "duration": 11,
    "start_time": "2022-05-07T09:19:50.708Z"
   },
   {
    "duration": 13,
    "start_time": "2022-05-07T09:19:50.721Z"
   },
   {
    "duration": 1769,
    "start_time": "2022-05-07T16:49:33.631Z"
   },
   {
    "duration": 21,
    "start_time": "2022-05-07T16:49:35.402Z"
   },
   {
    "duration": 15,
    "start_time": "2022-05-07T16:49:35.428Z"
   },
   {
    "duration": 12,
    "start_time": "2022-05-07T16:49:35.445Z"
   },
   {
    "duration": 7,
    "start_time": "2022-05-07T16:49:35.459Z"
   },
   {
    "duration": 469,
    "start_time": "2022-05-07T16:49:35.468Z"
   },
   {
    "duration": 92,
    "start_time": "2022-05-07T16:49:35.939Z"
   },
   {
    "duration": 76,
    "start_time": "2022-05-07T16:49:36.034Z"
   },
   {
    "duration": 432,
    "start_time": "2022-05-07T16:49:36.115Z"
   },
   {
    "duration": 6,
    "start_time": "2022-05-07T16:49:36.549Z"
   },
   {
    "duration": 4,
    "start_time": "2022-05-07T16:49:36.557Z"
   },
   {
    "duration": 5,
    "start_time": "2022-05-07T16:49:36.563Z"
   },
   {
    "duration": 9,
    "start_time": "2022-05-07T16:49:36.569Z"
   },
   {
    "duration": 41,
    "start_time": "2022-05-07T16:49:36.607Z"
   },
   {
    "duration": 903,
    "start_time": "2022-05-07T16:49:36.650Z"
   },
   {
    "duration": 217,
    "start_time": "2022-05-07T16:49:37.555Z"
   },
   {
    "duration": 57,
    "start_time": "2022-05-07T16:49:37.775Z"
   },
   {
    "duration": 373,
    "start_time": "2022-05-07T16:49:37.834Z"
   },
   {
    "duration": 30,
    "start_time": "2022-05-07T16:49:38.209Z"
   },
   {
    "duration": 13,
    "start_time": "2022-05-07T16:49:38.241Z"
   },
   {
    "duration": 105,
    "start_time": "2022-05-07T16:49:38.256Z"
   },
   {
    "duration": 29,
    "start_time": "2022-05-07T16:49:38.363Z"
   },
   {
    "duration": 23,
    "start_time": "2022-05-07T16:49:38.394Z"
   },
   {
    "duration": 5,
    "start_time": "2022-05-07T16:49:38.422Z"
   },
   {
    "duration": 5,
    "start_time": "2022-05-07T16:49:38.429Z"
   },
   {
    "duration": 6,
    "start_time": "2022-05-07T16:49:38.436Z"
   },
   {
    "duration": 122,
    "start_time": "2022-05-07T16:49:49.603Z"
   }
  ],
  "kernelspec": {
   "display_name": "Python 3 (ipykernel)",
   "language": "python",
   "name": "python3"
  },
  "language_info": {
   "codemirror_mode": {
    "name": "ipython",
    "version": 3
   },
   "file_extension": ".py",
   "mimetype": "text/x-python",
   "name": "python",
   "nbconvert_exporter": "python",
   "pygments_lexer": "ipython3",
   "version": "3.9.5"
  },
  "toc": {
   "base_numbering": 1,
   "nav_menu": {},
   "number_sections": true,
   "sideBar": true,
   "skip_h1_title": true,
   "title_cell": "Table of Contents",
   "title_sidebar": "Contents",
   "toc_cell": false,
   "toc_position": {},
   "toc_section_display": true,
   "toc_window_display": false
  }
 },
 "nbformat": 4,
 "nbformat_minor": 2
}
