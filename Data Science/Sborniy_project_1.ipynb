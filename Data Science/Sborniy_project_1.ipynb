{
 "cells": [
  {
   "cell_type": "markdown",
   "id": "cba3e08e",
   "metadata": {},
   "source": [
    "# Сборный проект №1"
   ]
  },
  {
   "cell_type": "markdown",
   "id": "567a0fa1",
   "metadata": {},
   "source": [
    "## \"Стримчик\"\n",
    "\n",
    "\n",
    "У нас имеется набор данных из открытых источников о продажах игр, оценки пользователей и экспертов, жанры и платформы в период с 1980г. по 2016 г. включительно. Руководство поставило задачу выявить определяющие успешность игры закономерности, что позволит сделать ставку на потенциально популярный продукт и спланировать рекламные кампании. Так как на дворе начало декабря 2016г., данные за 2016 год могут быть не полными. \n",
    "\n",
    "Согласно имеющемуся у нас описанию данные представлены в виде таблицы со следующими столбцами:\n",
    "\n",
    "*\tName — название игры\n",
    "*\tPlatform — платформа\n",
    "*\tYear_of_Release — год выпуска\n",
    "*\tGenre — жанр игры\n",
    "*\tNA_sales — продажи в Северной Америке (миллионы проданных копий)\n",
    "*\tEU_sales — продажи в Европе (миллионы проданных копий)\n",
    "*\tJP_sales — продажи в Японии (миллионы проданных копий)\n",
    "*\tOther_sales — продажи в других странах (миллионы проданных копий)\n",
    "*\tCritic_Score — оценка критиков (максимум 100)\n",
    "*\tUser_Score — оценка пользователей (максимум 10)\n",
    "*\tRating — рейтинг от организации ESRB (англ. Entertainment Software Rating Board). Эта ассоциация определяет рейтинг компьютерных игр и присваивает им подходящую возрастную категорию."
   ]
  },
  {
   "cell_type": "markdown",
   "id": "b55196ff",
   "metadata": {},
   "source": [
    "## Обзор данных"
   ]
  },
  {
   "cell_type": "code",
   "execution_count": 1,
   "id": "06c19ee1",
   "metadata": {},
   "outputs": [],
   "source": [
    "import pandas as pd\n",
    "import numpy as np\n",
    "from scipy import stats as st\n",
    "import matplotlib.pyplot as plt\n",
    "import seaborn as sns"
   ]
  },
  {
   "cell_type": "code",
   "execution_count": 2,
   "id": "3346387c",
   "metadata": {},
   "outputs": [],
   "source": [
    "try:\n",
    "    df = pd.read_csv('games.csv')\n",
    "except:\n",
    "    df = pd.read_csv('/datasets/games.csv')  "
   ]
  },
  {
   "cell_type": "code",
   "execution_count": 3,
   "id": "28ec0ce4",
   "metadata": {},
   "outputs": [
    {
     "name": "stdout",
     "output_type": "stream",
     "text": [
      "<class 'pandas.core.frame.DataFrame'>\n",
      "RangeIndex: 16715 entries, 0 to 16714\n",
      "Data columns (total 11 columns):\n",
      " #   Column           Non-Null Count  Dtype  \n",
      "---  ------           --------------  -----  \n",
      " 0   Name             16713 non-null  object \n",
      " 1   Platform         16715 non-null  object \n",
      " 2   Year_of_Release  16446 non-null  float64\n",
      " 3   Genre            16713 non-null  object \n",
      " 4   NA_sales         16715 non-null  float64\n",
      " 5   EU_sales         16715 non-null  float64\n",
      " 6   JP_sales         16715 non-null  float64\n",
      " 7   Other_sales      16715 non-null  float64\n",
      " 8   Critic_Score     8137 non-null   float64\n",
      " 9   User_Score       10014 non-null  object \n",
      " 10  Rating           9949 non-null   object \n",
      "dtypes: float64(6), object(5)\n",
      "memory usage: 1.4+ MB\n"
     ]
    }
   ],
   "source": [
    "df.info()"
   ]
  },
  {
   "cell_type": "code",
   "execution_count": 4,
   "id": "4d788e6f",
   "metadata": {},
   "outputs": [
    {
     "data": {
      "text/html": [
       "<div>\n",
       "<style scoped>\n",
       "    .dataframe tbody tr th:only-of-type {\n",
       "        vertical-align: middle;\n",
       "    }\n",
       "\n",
       "    .dataframe tbody tr th {\n",
       "        vertical-align: top;\n",
       "    }\n",
       "\n",
       "    .dataframe thead th {\n",
       "        text-align: right;\n",
       "    }\n",
       "</style>\n",
       "<table border=\"1\" class=\"dataframe\">\n",
       "  <thead>\n",
       "    <tr style=\"text-align: right;\">\n",
       "      <th></th>\n",
       "      <th>Name</th>\n",
       "      <th>Platform</th>\n",
       "      <th>Year_of_Release</th>\n",
       "      <th>Genre</th>\n",
       "      <th>NA_sales</th>\n",
       "      <th>EU_sales</th>\n",
       "      <th>JP_sales</th>\n",
       "      <th>Other_sales</th>\n",
       "      <th>Critic_Score</th>\n",
       "      <th>User_Score</th>\n",
       "      <th>Rating</th>\n",
       "    </tr>\n",
       "  </thead>\n",
       "  <tbody>\n",
       "    <tr>\n",
       "      <th>0</th>\n",
       "      <td>Wii Sports</td>\n",
       "      <td>Wii</td>\n",
       "      <td>2006.0</td>\n",
       "      <td>Sports</td>\n",
       "      <td>41.36</td>\n",
       "      <td>28.96</td>\n",
       "      <td>3.77</td>\n",
       "      <td>8.45</td>\n",
       "      <td>76.0</td>\n",
       "      <td>8</td>\n",
       "      <td>E</td>\n",
       "    </tr>\n",
       "    <tr>\n",
       "      <th>1</th>\n",
       "      <td>Super Mario Bros.</td>\n",
       "      <td>NES</td>\n",
       "      <td>1985.0</td>\n",
       "      <td>Platform</td>\n",
       "      <td>29.08</td>\n",
       "      <td>3.58</td>\n",
       "      <td>6.81</td>\n",
       "      <td>0.77</td>\n",
       "      <td>NaN</td>\n",
       "      <td>NaN</td>\n",
       "      <td>NaN</td>\n",
       "    </tr>\n",
       "    <tr>\n",
       "      <th>2</th>\n",
       "      <td>Mario Kart Wii</td>\n",
       "      <td>Wii</td>\n",
       "      <td>2008.0</td>\n",
       "      <td>Racing</td>\n",
       "      <td>15.68</td>\n",
       "      <td>12.76</td>\n",
       "      <td>3.79</td>\n",
       "      <td>3.29</td>\n",
       "      <td>82.0</td>\n",
       "      <td>8.3</td>\n",
       "      <td>E</td>\n",
       "    </tr>\n",
       "    <tr>\n",
       "      <th>3</th>\n",
       "      <td>Wii Sports Resort</td>\n",
       "      <td>Wii</td>\n",
       "      <td>2009.0</td>\n",
       "      <td>Sports</td>\n",
       "      <td>15.61</td>\n",
       "      <td>10.93</td>\n",
       "      <td>3.28</td>\n",
       "      <td>2.95</td>\n",
       "      <td>80.0</td>\n",
       "      <td>8</td>\n",
       "      <td>E</td>\n",
       "    </tr>\n",
       "    <tr>\n",
       "      <th>4</th>\n",
       "      <td>Pokemon Red/Pokemon Blue</td>\n",
       "      <td>GB</td>\n",
       "      <td>1996.0</td>\n",
       "      <td>Role-Playing</td>\n",
       "      <td>11.27</td>\n",
       "      <td>8.89</td>\n",
       "      <td>10.22</td>\n",
       "      <td>1.00</td>\n",
       "      <td>NaN</td>\n",
       "      <td>NaN</td>\n",
       "      <td>NaN</td>\n",
       "    </tr>\n",
       "  </tbody>\n",
       "</table>\n",
       "</div>"
      ],
      "text/plain": [
       "                       Name Platform  Year_of_Release         Genre  NA_sales  \\\n",
       "0                Wii Sports      Wii           2006.0        Sports     41.36   \n",
       "1         Super Mario Bros.      NES           1985.0      Platform     29.08   \n",
       "2            Mario Kart Wii      Wii           2008.0        Racing     15.68   \n",
       "3         Wii Sports Resort      Wii           2009.0        Sports     15.61   \n",
       "4  Pokemon Red/Pokemon Blue       GB           1996.0  Role-Playing     11.27   \n",
       "\n",
       "   EU_sales  JP_sales  Other_sales  Critic_Score User_Score Rating  \n",
       "0     28.96      3.77         8.45          76.0          8      E  \n",
       "1      3.58      6.81         0.77           NaN        NaN    NaN  \n",
       "2     12.76      3.79         3.29          82.0        8.3      E  \n",
       "3     10.93      3.28         2.95          80.0          8      E  \n",
       "4      8.89     10.22         1.00           NaN        NaN    NaN  "
      ]
     },
     "execution_count": 4,
     "metadata": {},
     "output_type": "execute_result"
    }
   ],
   "source": [
    "df.head()"
   ]
  },
  {
   "cell_type": "code",
   "execution_count": 5,
   "id": "52ff3879",
   "metadata": {},
   "outputs": [
    {
     "data": {
      "text/html": [
       "<div>\n",
       "<style scoped>\n",
       "    .dataframe tbody tr th:only-of-type {\n",
       "        vertical-align: middle;\n",
       "    }\n",
       "\n",
       "    .dataframe tbody tr th {\n",
       "        vertical-align: top;\n",
       "    }\n",
       "\n",
       "    .dataframe thead th {\n",
       "        text-align: right;\n",
       "    }\n",
       "</style>\n",
       "<table border=\"1\" class=\"dataframe\">\n",
       "  <thead>\n",
       "    <tr style=\"text-align: right;\">\n",
       "      <th></th>\n",
       "      <th>Year_of_Release</th>\n",
       "      <th>NA_sales</th>\n",
       "      <th>EU_sales</th>\n",
       "      <th>JP_sales</th>\n",
       "      <th>Other_sales</th>\n",
       "      <th>Critic_Score</th>\n",
       "    </tr>\n",
       "  </thead>\n",
       "  <tbody>\n",
       "    <tr>\n",
       "      <th>count</th>\n",
       "      <td>16446.000000</td>\n",
       "      <td>16715.000000</td>\n",
       "      <td>16715.000000</td>\n",
       "      <td>16715.000000</td>\n",
       "      <td>16715.000000</td>\n",
       "      <td>8137.000000</td>\n",
       "    </tr>\n",
       "    <tr>\n",
       "      <th>mean</th>\n",
       "      <td>2006.484616</td>\n",
       "      <td>0.263377</td>\n",
       "      <td>0.145060</td>\n",
       "      <td>0.077617</td>\n",
       "      <td>0.047342</td>\n",
       "      <td>68.967679</td>\n",
       "    </tr>\n",
       "    <tr>\n",
       "      <th>std</th>\n",
       "      <td>5.877050</td>\n",
       "      <td>0.813604</td>\n",
       "      <td>0.503339</td>\n",
       "      <td>0.308853</td>\n",
       "      <td>0.186731</td>\n",
       "      <td>13.938165</td>\n",
       "    </tr>\n",
       "    <tr>\n",
       "      <th>min</th>\n",
       "      <td>1980.000000</td>\n",
       "      <td>0.000000</td>\n",
       "      <td>0.000000</td>\n",
       "      <td>0.000000</td>\n",
       "      <td>0.000000</td>\n",
       "      <td>13.000000</td>\n",
       "    </tr>\n",
       "    <tr>\n",
       "      <th>25%</th>\n",
       "      <td>2003.000000</td>\n",
       "      <td>0.000000</td>\n",
       "      <td>0.000000</td>\n",
       "      <td>0.000000</td>\n",
       "      <td>0.000000</td>\n",
       "      <td>60.000000</td>\n",
       "    </tr>\n",
       "    <tr>\n",
       "      <th>50%</th>\n",
       "      <td>2007.000000</td>\n",
       "      <td>0.080000</td>\n",
       "      <td>0.020000</td>\n",
       "      <td>0.000000</td>\n",
       "      <td>0.010000</td>\n",
       "      <td>71.000000</td>\n",
       "    </tr>\n",
       "    <tr>\n",
       "      <th>75%</th>\n",
       "      <td>2010.000000</td>\n",
       "      <td>0.240000</td>\n",
       "      <td>0.110000</td>\n",
       "      <td>0.040000</td>\n",
       "      <td>0.030000</td>\n",
       "      <td>79.000000</td>\n",
       "    </tr>\n",
       "    <tr>\n",
       "      <th>max</th>\n",
       "      <td>2016.000000</td>\n",
       "      <td>41.360000</td>\n",
       "      <td>28.960000</td>\n",
       "      <td>10.220000</td>\n",
       "      <td>10.570000</td>\n",
       "      <td>98.000000</td>\n",
       "    </tr>\n",
       "  </tbody>\n",
       "</table>\n",
       "</div>"
      ],
      "text/plain": [
       "       Year_of_Release      NA_sales      EU_sales      JP_sales  \\\n",
       "count     16446.000000  16715.000000  16715.000000  16715.000000   \n",
       "mean       2006.484616      0.263377      0.145060      0.077617   \n",
       "std           5.877050      0.813604      0.503339      0.308853   \n",
       "min        1980.000000      0.000000      0.000000      0.000000   \n",
       "25%        2003.000000      0.000000      0.000000      0.000000   \n",
       "50%        2007.000000      0.080000      0.020000      0.000000   \n",
       "75%        2010.000000      0.240000      0.110000      0.040000   \n",
       "max        2016.000000     41.360000     28.960000     10.220000   \n",
       "\n",
       "        Other_sales  Critic_Score  \n",
       "count  16715.000000   8137.000000  \n",
       "mean       0.047342     68.967679  \n",
       "std        0.186731     13.938165  \n",
       "min        0.000000     13.000000  \n",
       "25%        0.000000     60.000000  \n",
       "50%        0.010000     71.000000  \n",
       "75%        0.030000     79.000000  \n",
       "max       10.570000     98.000000  "
      ]
     },
     "execution_count": 5,
     "metadata": {},
     "output_type": "execute_result"
    }
   ],
   "source": [
    "df.describe()"
   ]
  },
  {
   "cell_type": "code",
   "execution_count": 6,
   "id": "1a276029",
   "metadata": {},
   "outputs": [
    {
     "data": {
      "text/plain": [
       "Name                  2\n",
       "Platform              0\n",
       "Year_of_Release     269\n",
       "Genre                 2\n",
       "NA_sales              0\n",
       "EU_sales              0\n",
       "JP_sales              0\n",
       "Other_sales           0\n",
       "Critic_Score       8578\n",
       "User_Score         6701\n",
       "Rating             6766\n",
       "dtype: int64"
      ]
     },
     "execution_count": 6,
     "metadata": {},
     "output_type": "execute_result"
    }
   ],
   "source": [
    "df.isna().sum()"
   ]
  },
  {
   "cell_type": "code",
   "execution_count": 7,
   "id": "4c49f6db",
   "metadata": {},
   "outputs": [
    {
     "data": {
      "text/plain": [
       "0"
      ]
     },
     "execution_count": 7,
     "metadata": {},
     "output_type": "execute_result"
    }
   ],
   "source": [
    "df.duplicated().sum()"
   ]
  },
  {
   "cell_type": "markdown",
   "id": "c3030af7",
   "metadata": {},
   "source": [
    "### Вывод\n",
    "\n",
    "Посмотрев на данные можно выделить следующие обьекты для первичной обработки:\n",
    "\n",
    "* требуется заменить названия столбцов (приведите к нижнему регистру)\n",
    "* изменить тип данных в столбцах `Year_of_Release`, `User_Score`\n",
    "* обработать пропуски в столбцах `Name`, `Year_of_Release`, `Genre`, `Critic_Score`, `User_Score`, `Rating` \n",
    "\n",
    "Вывод можно стделать следующий: несмотря на большое количество пропусков, в некоторых столбцах, данных для анализа достаточно, можно приступать к предобработке."
   ]
  },
  {
   "cell_type": "markdown",
   "id": "7651f68e",
   "metadata": {},
   "source": [
    "## Предобработка данных"
   ]
  },
  {
   "cell_type": "code",
   "execution_count": 8,
   "id": "12df96f2",
   "metadata": {},
   "outputs": [],
   "source": [
    "df.columns = df.columns.str.lower() # приведем столбцы у нижнему регистру"
   ]
  },
  {
   "cell_type": "code",
   "execution_count": 9,
   "id": "313532af",
   "metadata": {},
   "outputs": [],
   "source": [
    "df['year_of_release'] = df['year_of_release'].fillna(0)   # пропусков в столбце 269, удалим их \n",
    "df = df.query(\"year_of_release != 0\")                     # на результате скажется меньше чем если заменить на конкретное число                          \n",
    "df['year_of_release'] = df['year_of_release'].astype(int) # заменим тип данных на целочисленный                                                                           "
   ]
  },
  {
   "cell_type": "code",
   "execution_count": 10,
   "id": "c54ee49e",
   "metadata": {
    "scrolled": true
   },
   "outputs": [
    {
     "data": {
      "text/plain": [
       "array([76., nan, 82., 80., 89., 58., 87., 91., 61., 97., 95., 77., 88.,\n",
       "       83., 94., 93., 85., 86., 98., 96., 90., 84., 73., 74., 78., 92.,\n",
       "       71., 72., 68., 62., 49., 67., 81., 66., 56., 79., 70., 59., 64.,\n",
       "       75., 60., 63., 69., 50., 25., 42., 44., 55., 48., 57., 29., 47.,\n",
       "       65., 54., 20., 53., 37., 38., 33., 52., 30., 32., 43., 45., 51.,\n",
       "       40., 46., 39., 34., 41., 36., 31., 27., 35., 26., 19., 28., 23.,\n",
       "       24., 21., 17., 13.])"
      ]
     },
     "execution_count": 10,
     "metadata": {},
     "output_type": "execute_result"
    }
   ],
   "source": [
    "df['critic_score'].unique() "
   ]
  },
  {
   "cell_type": "code",
   "execution_count": 11,
   "id": "d6e5a8e3",
   "metadata": {
    "scrolled": true
   },
   "outputs": [
    {
     "data": {
      "text/plain": [
       "array(['8', nan, '8.3', '8.5', '6.6', '8.4', '8.6', '7.7', '6.3', '7.4',\n",
       "       '8.2', '9', '7.9', '8.1', '8.7', '7.1', '3.4', '5.3', '4.8', '3.2',\n",
       "       '8.9', '6.4', '7.8', '7.5', '2.6', '7.2', '9.2', '7', '7.3', '4.3',\n",
       "       '7.6', '5.7', '5', '9.1', '6.5', 'tbd', '8.8', '6.9', '9.4', '6.8',\n",
       "       '6.1', '6.7', '5.4', '4', '4.9', '4.5', '9.3', '6.2', '4.2', '6',\n",
       "       '3.7', '4.1', '5.8', '5.6', '5.5', '4.4', '4.6', '5.9', '3.9',\n",
       "       '3.1', '2.9', '5.2', '3.3', '4.7', '5.1', '3.5', '2.5', '1.9', '3',\n",
       "       '2.7', '2.2', '2', '9.5', '2.1', '3.6', '2.8', '1.8', '3.8', '0',\n",
       "       '1.6', '9.6', '2.4', '1.7', '1.1', '0.3', '1.5', '0.7', '1.2',\n",
       "       '2.3', '0.5', '1.3', '0.2', '0.6', '1.4', '0.9', '1', '9.7'],\n",
       "      dtype=object)"
      ]
     },
     "execution_count": 11,
     "metadata": {},
     "output_type": "execute_result"
    }
   ],
   "source": [
    "df['user_score'].unique() "
   ]
  },
  {
   "cell_type": "code",
   "execution_count": 12,
   "id": "7957c049",
   "metadata": {},
   "outputs": [
    {
     "data": {
      "text/plain": [
       "2376"
      ]
     },
     "execution_count": 12,
     "metadata": {},
     "output_type": "execute_result"
    }
   ],
   "source": [
    "df[df['user_score'] == 'tbd']['user_score'].count()"
   ]
  },
  {
   "cell_type": "markdown",
   "id": "b22882ea",
   "metadata": {},
   "source": [
    "В столбце 'user_score' встречается значение 'tbd'. Согласно открытых источников: \n",
    "\"TBD - аббревиатура от английского To Be Determined (будет определено) \n",
    "или To Be Decided (будет решено). Используется, если какая-то информация еще не определена или решение по вопросу не принято. \n",
    "Акроним служит для отметки неясностей или пропусков, которые надо заполнить, в информации требований.\"\n",
    "Можно предположить что в данных пропуси уже пытались обработать, заменив их на 'tbd'. Нам этот вариант не подходит.\n",
    "Заменить на 0 тоже нельзя, так как рейтинг 0 тоже присутствует. \n",
    "Заменим пропуски и 'tbd' на -1 (отрицательный рейтинг - тоже рейтинг), так как числовое значение в\n",
    "этом столбце нам необходимо для дальнейшей работы.\n",
    "'critic_score' судя по всему рейтинг критиков в целых числах, тоже изменим тип данных"
   ]
  },
  {
   "cell_type": "code",
   "execution_count": 13,
   "id": "9f4611d8",
   "metadata": {},
   "outputs": [],
   "source": [
    "df['critic_score'] = df['critic_score'].fillna(-1) # заполним пропуски (-1)\n",
    "df['critic_score'] = df['critic_score'].astype('int') # изменяем тип на целочисленный\n",
    "\n",
    "# так же поступим и с рейтингом пользователей:\n",
    "\n",
    "df['user_score'] = df['user_score'].replace('tbd', np.NaN) # заменяем 'tbd' на NaN\n",
    "df['user_score'] = df['user_score'].fillna(-1) # заполним пропуски (-1)\n",
    "df['user_score'] = df['user_score'].astype('float') # изменяем тип на числовой"
   ]
  },
  {
   "cell_type": "code",
   "execution_count": 14,
   "id": "df0ab929",
   "metadata": {},
   "outputs": [
    {
     "data": {
      "text/plain": [
       "array(['E', nan, 'M', 'T', 'E10+', 'K-A', 'AO', 'EC', 'RP'], dtype=object)"
      ]
     },
     "execution_count": 14,
     "metadata": {},
     "output_type": "execute_result"
    }
   ],
   "source": [
    "df['rating'].unique() "
   ]
  },
  {
   "cell_type": "markdown",
   "id": "bfe30cb8",
   "metadata": {},
   "source": [
    "А вот тут то мы и можем пропуски заменить на 'tbd', по мне так изящное решение ;), \n",
    "типа \"бритва Оккама\", новых сущностей не пораждаем, и все такое..."
   ]
  },
  {
   "cell_type": "code",
   "execution_count": 15,
   "id": "aaf00a7d",
   "metadata": {},
   "outputs": [],
   "source": [
    "df['rating'] = df['rating'].fillna('tbd') # заменим пропуски на 'tbd'"
   ]
  },
  {
   "cell_type": "code",
   "execution_count": 16,
   "id": "3ea7037e",
   "metadata": {},
   "outputs": [],
   "source": [
    "# в столбцах 'name' и 'genre' всего по 2 пропуска, заменим пропуски на 'Misk' так как скорее всего это технические ошибки и на работу в целом не повлияют ('Misc' жанр не определенный, так что там им и место\n",
    "df['name'] = df['name'].fillna('Misc')\n",
    "df['genre'] = df['genre'].fillna('Misc')"
   ]
  },
  {
   "cell_type": "code",
   "execution_count": 17,
   "id": "0f42d24b",
   "metadata": {
    "scrolled": false
   },
   "outputs": [
    {
     "data": {
      "text/plain": [
       "name               0\n",
       "platform           0\n",
       "year_of_release    0\n",
       "genre              0\n",
       "na_sales           0\n",
       "eu_sales           0\n",
       "jp_sales           0\n",
       "other_sales        0\n",
       "critic_score       0\n",
       "user_score         0\n",
       "rating             0\n",
       "dtype: int64"
      ]
     },
     "execution_count": 17,
     "metadata": {},
     "output_type": "execute_result"
    }
   ],
   "source": [
    "df.isna().sum()"
   ]
  },
  {
   "cell_type": "code",
   "execution_count": 18,
   "id": "2d394570",
   "metadata": {},
   "outputs": [],
   "source": [
    "# Посчитаем суммарные продажи во всех регионах и запишем их в отдельный столбец.\n",
    "df['general_sales'] = df[['na_sales','eu_sales','jp_sales', 'other_sales']].sum(axis = 1)"
   ]
  },
  {
   "cell_type": "code",
   "execution_count": 19,
   "id": "7a147f4d",
   "metadata": {},
   "outputs": [
    {
     "data": {
      "text/html": [
       "<div>\n",
       "<style scoped>\n",
       "    .dataframe tbody tr th:only-of-type {\n",
       "        vertical-align: middle;\n",
       "    }\n",
       "\n",
       "    .dataframe tbody tr th {\n",
       "        vertical-align: top;\n",
       "    }\n",
       "\n",
       "    .dataframe thead th {\n",
       "        text-align: right;\n",
       "    }\n",
       "</style>\n",
       "<table border=\"1\" class=\"dataframe\">\n",
       "  <thead>\n",
       "    <tr style=\"text-align: right;\">\n",
       "      <th></th>\n",
       "      <th>name</th>\n",
       "      <th>platform</th>\n",
       "      <th>year_of_release</th>\n",
       "      <th>genre</th>\n",
       "      <th>na_sales</th>\n",
       "      <th>eu_sales</th>\n",
       "      <th>jp_sales</th>\n",
       "      <th>other_sales</th>\n",
       "      <th>critic_score</th>\n",
       "      <th>user_score</th>\n",
       "      <th>rating</th>\n",
       "      <th>general_sales</th>\n",
       "    </tr>\n",
       "  </thead>\n",
       "  <tbody>\n",
       "    <tr>\n",
       "      <th>0</th>\n",
       "      <td>Wii Sports</td>\n",
       "      <td>Wii</td>\n",
       "      <td>2006</td>\n",
       "      <td>Sports</td>\n",
       "      <td>41.36</td>\n",
       "      <td>28.96</td>\n",
       "      <td>3.77</td>\n",
       "      <td>8.45</td>\n",
       "      <td>76</td>\n",
       "      <td>8.0</td>\n",
       "      <td>E</td>\n",
       "      <td>82.54</td>\n",
       "    </tr>\n",
       "    <tr>\n",
       "      <th>1</th>\n",
       "      <td>Super Mario Bros.</td>\n",
       "      <td>NES</td>\n",
       "      <td>1985</td>\n",
       "      <td>Platform</td>\n",
       "      <td>29.08</td>\n",
       "      <td>3.58</td>\n",
       "      <td>6.81</td>\n",
       "      <td>0.77</td>\n",
       "      <td>-1</td>\n",
       "      <td>-1.0</td>\n",
       "      <td>tbd</td>\n",
       "      <td>40.24</td>\n",
       "    </tr>\n",
       "    <tr>\n",
       "      <th>2</th>\n",
       "      <td>Mario Kart Wii</td>\n",
       "      <td>Wii</td>\n",
       "      <td>2008</td>\n",
       "      <td>Racing</td>\n",
       "      <td>15.68</td>\n",
       "      <td>12.76</td>\n",
       "      <td>3.79</td>\n",
       "      <td>3.29</td>\n",
       "      <td>82</td>\n",
       "      <td>8.3</td>\n",
       "      <td>E</td>\n",
       "      <td>35.52</td>\n",
       "    </tr>\n",
       "    <tr>\n",
       "      <th>3</th>\n",
       "      <td>Wii Sports Resort</td>\n",
       "      <td>Wii</td>\n",
       "      <td>2009</td>\n",
       "      <td>Sports</td>\n",
       "      <td>15.61</td>\n",
       "      <td>10.93</td>\n",
       "      <td>3.28</td>\n",
       "      <td>2.95</td>\n",
       "      <td>80</td>\n",
       "      <td>8.0</td>\n",
       "      <td>E</td>\n",
       "      <td>32.77</td>\n",
       "    </tr>\n",
       "    <tr>\n",
       "      <th>4</th>\n",
       "      <td>Pokemon Red/Pokemon Blue</td>\n",
       "      <td>GB</td>\n",
       "      <td>1996</td>\n",
       "      <td>Role-Playing</td>\n",
       "      <td>11.27</td>\n",
       "      <td>8.89</td>\n",
       "      <td>10.22</td>\n",
       "      <td>1.00</td>\n",
       "      <td>-1</td>\n",
       "      <td>-1.0</td>\n",
       "      <td>tbd</td>\n",
       "      <td>31.38</td>\n",
       "    </tr>\n",
       "  </tbody>\n",
       "</table>\n",
       "</div>"
      ],
      "text/plain": [
       "                       name platform  year_of_release         genre  na_sales  \\\n",
       "0                Wii Sports      Wii             2006        Sports     41.36   \n",
       "1         Super Mario Bros.      NES             1985      Platform     29.08   \n",
       "2            Mario Kart Wii      Wii             2008        Racing     15.68   \n",
       "3         Wii Sports Resort      Wii             2009        Sports     15.61   \n",
       "4  Pokemon Red/Pokemon Blue       GB             1996  Role-Playing     11.27   \n",
       "\n",
       "   eu_sales  jp_sales  other_sales  critic_score  user_score rating  \\\n",
       "0     28.96      3.77         8.45            76         8.0      E   \n",
       "1      3.58      6.81         0.77            -1        -1.0    tbd   \n",
       "2     12.76      3.79         3.29            82         8.3      E   \n",
       "3     10.93      3.28         2.95            80         8.0      E   \n",
       "4      8.89     10.22         1.00            -1        -1.0    tbd   \n",
       "\n",
       "   general_sales  \n",
       "0          82.54  \n",
       "1          40.24  \n",
       "2          35.52  \n",
       "3          32.77  \n",
       "4          31.38  "
      ]
     },
     "execution_count": 19,
     "metadata": {},
     "output_type": "execute_result"
    }
   ],
   "source": [
    "df.head() # посмотрим на итог предобработки"
   ]
  },
  {
   "cell_type": "markdown",
   "id": "a07445bd",
   "metadata": {},
   "source": [
    "### Вывод\n",
    "\n",
    "Привели данные к нормальному виду. Можно работать. Судя повсему с данными уже начинали работать, в столбце `User_Score` некоторые пропуски были заменены на 'tbd'(В столбце 'user_score' встречается значение 'tbd'. Согласно открытых источников: \"TBD - аббревиатура от английского To Be Determined (будет определено) или To Be Decided (будет решено). Используется, если какая-то информация еще не определена или решение по вопросу не принято.). Можно предположить что в данных пропуски уже пытались обработать, заменив их на 'tbd', нам этот вариант не подходит и пропуски в рейтингах мы заменили на `-1`. Что касательно самих пропусков тут может сказатся зональность выборки(Северная Америка, Европа, Япония), и игры выпускаемые для внутренних рынков просто не оцениваются критиками и пользователями из других регионов. Некоторые игры могут не иметь оценок в принципе, по причине отсутствия каких либо рейтингов во время выхода и популярности. А вот в столбце возрастного рейтинга пропуски заменили на 'tbd'. Для удобства добавили новый столбец `general_sales` с обще мировыми продажами."
   ]
  },
  {
   "cell_type": "markdown",
   "id": "436267aa",
   "metadata": {},
   "source": [
    "## Исследовательский анализ "
   ]
  },
  {
   "cell_type": "code",
   "execution_count": 20,
   "id": "c74b7188",
   "metadata": {
    "scrolled": true
   },
   "outputs": [
    {
     "data": {
      "image/png": "[encoded data removed]",
      "text/plain": [
       "<Figure size 432x288 with 1 Axes>"
      ]
     },
     "metadata": {
      "needs_background": "light"
     },
     "output_type": "display_data"
    }
   ],
   "source": [
    "# Построим гистограмму распредиления игр по годам релиза, чтобы опредилить нужны ли данные за весь период наблюдений:\n",
    "df['year_of_release'].plot(kind='hist', bins=37)\n",
    "plt.title('Распределение по годам релиза');\n",
    "plt.xlabel('Год релиза')\n",
    "plt.ylabel('Релизов всего')\n",
    "plt.show()"
   ]
  },
  {
   "cell_type": "markdown",
   "id": "ef15e712",
   "metadata": {},
   "source": [
    "На графике видно что с начала 1990 до 1994 года шел плавный рост производства игр.\n",
    "А вот с 1994 резкий рост, это можно обьяснить появлением игровой приставки \n",
    "PlayStation. Приставки были широко представленны на рынке и до 1994г. (это и SEGA, и \n",
    "Nintendo Entertainment System), но все они использовали в качестве носителя картриджи или магнитные носители.\n",
    "А картриджи это сложно в производстве, дорого и самое главное мало памяти.\n",
    "PlayStation же в качестве носителя использовали CD, \n",
    "которые снимали ограничение по памяти плюс стоимость  производства CD дешевле. \n",
    "Попытки использовать CD в качестве носителя были и до этого,\n",
    "SEGA предлагала для своего MegaDrive дополнительное устройство с CD чейнджером, но эта идея не получила развития.\n",
    "Бурный рост производства игр в начале 2000х.\n",
    "можно обьяснить выходом приставок нового поколения (PlayStation 2, и приемник SEGA DreamCast - Xbox).\n",
    "Но все это дела менувших дней, и не смотря на высокие продажи, в своё время, эти платформы ( и их предшественники) \n",
    "устарели и делать анализ по ним на будущее не целесообразно."
   ]
  },
  {
   "cell_type": "code",
   "execution_count": 21,
   "id": "99c92e8f",
   "metadata": {
    "scrolled": false
   },
   "outputs": [
    {
     "data": {
      "image/png": "[encoded data removed]",
      "text/plain": [
       "<Figure size 1080x360 with 1 Axes>"
      ]
     },
     "metadata": {
      "needs_background": "light"
     },
     "output_type": "display_data"
    }
   ],
   "source": [
    "# Построим распредиление продаж по платформам:\n",
    "platform = df.pivot_table(index='platform', values='general_sales', aggfunc='sum').sort_values(\n",
    "    by='general_sales', ascending=False)\n",
    "plt.figure(figsize=(15,5))\n",
    "sns.barplot(x=platform.index,y=platform['general_sales'])\n",
    "plt.title('Продажи по платформам')\n",
    "plt.xlabel('Платформа')\n",
    "plt.ylabel('Продажи');"
   ]
  },
  {
   "cell_type": "code",
   "execution_count": 22,
   "id": "a0aed2e3",
   "metadata": {
    "scrolled": false
   },
   "outputs": [
    {
     "data": {
      "text/html": [
       "<div>\n",
       "<style scoped>\n",
       "    .dataframe tbody tr th:only-of-type {\n",
       "        vertical-align: middle;\n",
       "    }\n",
       "\n",
       "    .dataframe tbody tr th {\n",
       "        vertical-align: top;\n",
       "    }\n",
       "\n",
       "    .dataframe thead th {\n",
       "        text-align: right;\n",
       "    }\n",
       "</style>\n",
       "<table border=\"1\" class=\"dataframe\">\n",
       "  <thead>\n",
       "    <tr style=\"text-align: right;\">\n",
       "      <th></th>\n",
       "      <th>general_sales</th>\n",
       "    </tr>\n",
       "    <tr>\n",
       "      <th>platform</th>\n",
       "      <th></th>\n",
       "    </tr>\n",
       "  </thead>\n",
       "  <tbody>\n",
       "    <tr>\n",
       "      <th>PS2</th>\n",
       "      <td>1233.56</td>\n",
       "    </tr>\n",
       "    <tr>\n",
       "      <th>X360</th>\n",
       "      <td>961.24</td>\n",
       "    </tr>\n",
       "    <tr>\n",
       "      <th>PS3</th>\n",
       "      <td>931.34</td>\n",
       "    </tr>\n",
       "    <tr>\n",
       "      <th>Wii</th>\n",
       "      <td>891.18</td>\n",
       "    </tr>\n",
       "    <tr>\n",
       "      <th>DS</th>\n",
       "      <td>802.78</td>\n",
       "    </tr>\n",
       "    <tr>\n",
       "      <th>PS</th>\n",
       "      <td>727.58</td>\n",
       "    </tr>\n",
       "    <tr>\n",
       "      <th>PS4</th>\n",
       "      <td>314.14</td>\n",
       "    </tr>\n",
       "    <tr>\n",
       "      <th>GBA</th>\n",
       "      <td>312.88</td>\n",
       "    </tr>\n",
       "    <tr>\n",
       "      <th>PSP</th>\n",
       "      <td>289.53</td>\n",
       "    </tr>\n",
       "    <tr>\n",
       "      <th>3DS</th>\n",
       "      <td>257.81</td>\n",
       "    </tr>\n",
       "    <tr>\n",
       "      <th>PC</th>\n",
       "      <td>255.76</td>\n",
       "    </tr>\n",
       "    <tr>\n",
       "      <th>GB</th>\n",
       "      <td>254.43</td>\n",
       "    </tr>\n",
       "    <tr>\n",
       "      <th>XB</th>\n",
       "      <td>251.57</td>\n",
       "    </tr>\n",
       "    <tr>\n",
       "      <th>NES</th>\n",
       "      <td>251.05</td>\n",
       "    </tr>\n",
       "    <tr>\n",
       "      <th>N64</th>\n",
       "      <td>218.01</td>\n",
       "    </tr>\n",
       "    <tr>\n",
       "      <th>SNES</th>\n",
       "      <td>200.04</td>\n",
       "    </tr>\n",
       "    <tr>\n",
       "      <th>GC</th>\n",
       "      <td>196.73</td>\n",
       "    </tr>\n",
       "    <tr>\n",
       "      <th>XOne</th>\n",
       "      <td>159.32</td>\n",
       "    </tr>\n",
       "    <tr>\n",
       "      <th>2600</th>\n",
       "      <td>86.48</td>\n",
       "    </tr>\n",
       "    <tr>\n",
       "      <th>WiiU</th>\n",
       "      <td>82.19</td>\n",
       "    </tr>\n",
       "  </tbody>\n",
       "</table>\n",
       "</div>"
      ],
      "text/plain": [
       "          general_sales\n",
       "platform               \n",
       "PS2             1233.56\n",
       "X360             961.24\n",
       "PS3              931.34\n",
       "Wii              891.18\n",
       "DS               802.78\n",
       "PS               727.58\n",
       "PS4              314.14\n",
       "GBA              312.88\n",
       "PSP              289.53\n",
       "3DS              257.81\n",
       "PC               255.76\n",
       "GB               254.43\n",
       "XB               251.57\n",
       "NES              251.05\n",
       "N64              218.01\n",
       "SNES             200.04\n",
       "GC               196.73\n",
       "XOne             159.32\n",
       "2600              86.48\n",
       "WiiU              82.19"
      ]
     },
     "execution_count": 22,
     "metadata": {},
     "output_type": "execute_result"
    }
   ],
   "source": [
    "# Выберем платформы с наибольшими суммарными продажами:\n",
    "df.groupby('platform')['general_sales'].sum().to_frame('general_sales').sort_values(by='general_sales', ascending=False).head(20)"
   ]
  },
  {
   "cell_type": "markdown",
   "id": "e24dc5f7",
   "metadata": {},
   "source": [
    "Из первых 10 платформ, на 2016 год, 10 неактуальные.\n",
    "Среди платформ с наибольшими продажами можно выделить XOne, PC, WiiU, 3DS, PS4 для последующего анализа,\n",
    "несмотря на то что PS4 и XOne имеют низкие продажи, на декабрь 2016г. это самые актуальные платформы."
   ]
  },
  {
   "cell_type": "markdown",
   "id": "5368ad65",
   "metadata": {},
   "source": [
    "Построим график для отображения продаж на всех платформах, и определим среднюю продолжительность жизни для наиболее популярных:"
   ]
  },
  {
   "cell_type": "code",
   "execution_count": 23,
   "id": "ff539687",
   "metadata": {
    "scrolled": false
   },
   "outputs": [
    {
     "data": {
      "image/png": "[encoded data removed]",
      "text/plain": [
       "<Figure size 1080x576 with 1 Axes>"
      ]
     },
     "metadata": {
      "needs_background": "light"
     },
     "output_type": "display_data"
    }
   ],
   "source": [
    "platforms = df['platform'] .unique().tolist() # список платформ\n",
    "\n",
    "for platform in platforms:\n",
    "    ax = plt.gca()\n",
    "    bbox_y = 1\n",
    "    legend_size = 10\n",
    "    df_to_plot = df.query('platform == @platform')\n",
    "    lines = df_to_plot.groupby('year_of_release')['general_sales'].sum().plot(x='year_of_release', y='general_sales',\n",
    "                                                                    style='-', kind='line', fontsize=10,\n",
    "                                                                    linewidth=1, label=platform, ax=ax, figsize=(15,8))\n",
    "    ax.set_xlabel('')\n",
    "   \n",
    "    ax.legend(platforms, prop={'size':legend_size}, bbox_to_anchor=(1, bbox_y))\n",
    "    \n",
    "    plt.xlabel('Год релиза',fontsize=15)\n",
    "    plt.ylabel('Жанр игры',fontsize=15)\n",
    "    \n",
    "plt.show()"
   ]
  },
  {
   "cell_type": "markdown",
   "id": "fb9c2c43",
   "metadata": {},
   "source": [
    "* PS Продержалась на рынке 8 лет\n",
    "* PS2 10 лет активности\n",
    "* DS 8 лет, хвост от 1985 года скорее всего ошибки (либо одноименные игры, либо ремастер популярных в то время игр)\n",
    "* X360 9 лет\n",
    "* PS3 9 лет\n",
    "* Wii 9 лет\n",
    "* Исходя из вышесказанного, можно сделать вывод что в среднем платформы живут 9 лет.\n",
    "* PS2 заменим на XOne, не смотря на выдающиеся показатели по продажам, на момент проведения анализа полностью\n",
    "* утратила актуальность, а PS на PS4, Wii на WiiU и DS на 3DS соответственно."
   ]
  },
  {
   "cell_type": "markdown",
   "id": "0f9d1886",
   "metadata": {
    "scrolled": false
   },
   "source": [
    "В качестве актуального периода можем взять от 2012 и позднее, платформы прошлого покодения,  на момент анализа, ещё не утратили актуальности. На их фоне можно будет оценить перспективы поколения нового. И мы избежим влияния пиков 2008, 2009 и 2010 годов. "
   ]
  },
  {
   "cell_type": "markdown",
   "id": "493414fc",
   "metadata": {},
   "source": [
    "Выберем наиболее подходящие платформы для анализа:"
   ]
  },
  {
   "cell_type": "code",
   "execution_count": 24,
   "id": "5cee58f7",
   "metadata": {},
   "outputs": [],
   "source": [
    "# Отсортируем данные по интересующим нас платформам и периоду наблюдений.\n",
    "decline_period_data = df[df['year_of_release'] > 2012]\n",
    "df_top_platforms = decline_period_data[decline_period_data['platform'].isin(['XOne', 'PC', 'WiiU', '3DS', 'PS4'])]"
   ]
  },
  {
   "cell_type": "code",
   "execution_count": 25,
   "id": "2762fb3b",
   "metadata": {
    "scrolled": false
   },
   "outputs": [
    {
     "data": {
      "image/png": "[encoded data removed]",
      "text/plain": [
       "<Figure size 1080x576 with 1 Axes>"
      ]
     },
     "metadata": {
      "needs_background": "light"
     },
     "output_type": "display_data"
    }
   ],
   "source": [
    "top_platforms = ['XOne', 'PC', 'WiiU', '3DS', 'PS4']\n",
    "\n",
    "for platform in top_platforms:\n",
    "    ax = plt.gca()\n",
    "    bbox_y = 1\n",
    "    legend_size = 15\n",
    "    df_to_plot = df_top_platforms.query('platform == @platform')\n",
    "    lines = df_to_plot.groupby('year_of_release')['general_sales'].sum().plot(x='year_of_release', y='general_sales',\n",
    "                                                                    style='-', kind='line', fontsize=10,\n",
    "                                                                    linewidth=1, label=platform, ax=ax, figsize=(15,8))\n",
    "    ax.set_xlabel('')\n",
    "   \n",
    "    ax.legend(top_platforms, prop={'size':legend_size}, bbox_to_anchor=(1, bbox_y))\n",
    "    \n",
    "    plt.xlabel('Год релиза',fontsize=15)\n",
    "    plt.ylabel('Жанр игры',fontsize=15)\n",
    "plt.show()"
   ]
  },
  {
   "cell_type": "code",
   "execution_count": 26,
   "id": "c04b8abd",
   "metadata": {
    "scrolled": false
   },
   "outputs": [
    {
     "data": {
      "image/png": "[encoded data removed]",
      "text/plain": [
       "<Figure size 576x576 with 1 Axes>"
      ]
     },
     "metadata": {
      "needs_background": "light"
     },
     "output_type": "display_data"
    }
   ],
   "source": [
    "plot = df.boxplot('general_sales', figsize=(8, 8)) # Построим ящик с усами по глобальным продажам."
   ]
  },
  {
   "cell_type": "markdown",
   "id": "ad707559",
   "metadata": {},
   "source": [
    "На таком масштабе хорошо видны лишь выбросы. Выбросы скорее всего представляют из себя данные данные по \"топовым\" играм продаваемым миллионами копий (можно предположить что чем больше у платформы популярных эксклюзивов, тем больше выбросов). Увеличим масштаб взяв за верхний придел 2 миллиона проданных копий:"
   ]
  },
  {
   "cell_type": "code",
   "execution_count": 27,
   "id": "911620d1",
   "metadata": {},
   "outputs": [
    {
     "data": {
      "image/png": "[encoded data removed]",
      "text/plain": [
       "<Figure size 1080x576 with 1 Axes>"
      ]
     },
     "metadata": {
      "needs_background": "light"
     },
     "output_type": "display_data"
    }
   ],
   "source": [
    "df_top_platforms = df_top_platforms[df_top_platforms['general_sales']<2]\n",
    "plt.figure(figsize=(15,8))\n",
    "sns.boxplot(data=df_top_platforms, x='platform', y='general_sales')\n",
    "plt.title('Ящик с усами', fontsize=10)\n",
    "plt.xlabel('Платформа', fontsize=10)\n",
    "plt.ylabel('Глобальные продажи',fontsize=10);"
   ]
  },
  {
   "cell_type": "markdown",
   "id": "8091969d",
   "metadata": {},
   "source": [
    " Медиана у всех платформ на разном уровне от 0.1 до 0.25 миллиона проданных копий.\n",
    " На первом месте по продажам расположились XOne и WiiU.\n",
    " Верхняя граница у XOne и WiiU 1.23 и 1.2 миллиона копий соответственно. \n",
    " Результаты у 3DS и PC самые скромные медиана 0.1, а верхний предел 0.6."
   ]
  },
  {
   "cell_type": "code",
   "execution_count": 28,
   "id": "63a4db08",
   "metadata": {},
   "outputs": [],
   "source": [
    "PC = df[(df['platform']=='PC') & (df['user_score'] >= 0) & (df['critic_score'] >= 0) \n",
    "         & (df['year_of_release'] > 2012)]  \n",
    "\n",
    "PS4 = df[(df['platform']=='PS4') & (df['user_score'] >= 0) & (df['critic_score'] >= 0) \n",
    "         & (df['year_of_release'] > 2012)]\n",
    "\n",
    "WiiU = df[(df['platform']=='WiiU') & (df['user_score'] >= 0) & (df['critic_score'] >= 0) \n",
    "          & (df['year_of_release'] > 2012)]\n",
    "\n",
    "XOne = df[(df['platform']=='XOne') & (df['user_score'] >= 0) & (df['critic_score'] >= 0) \n",
    "          & (df['year_of_release'] > 2012)]\n",
    "\n",
    "DS3 = df[(df['platform']=='3DS') & (df['user_score'] >= 0) & (df['critic_score'] >= 0) \n",
    "         & (df['year_of_release'] > 2012)]"
   ]
  },
  {
   "cell_type": "markdown",
   "id": "4f43fff8",
   "metadata": {},
   "source": [
    "Посмотрим как влияют продажи игр на PS3, отзывы пользователей и критиков."
   ]
  },
  {
   "cell_type": "code",
   "execution_count": 29,
   "id": "c91b5af2",
   "metadata": {
    "scrolled": false
   },
   "outputs": [
    {
     "data": {
      "text/plain": [
       "-0.09400318326920852"
      ]
     },
     "execution_count": 29,
     "metadata": {},
     "output_type": "execute_result"
    }
   ],
   "source": [
    "XOne['user_score'].corr(XOne['general_sales']) # коэфициент корреляции"
   ]
  },
  {
   "cell_type": "code",
   "execution_count": 30,
   "id": "1ea1eeec",
   "metadata": {},
   "outputs": [
    {
     "data": {
      "image/png": "[encoded data removed]",
      "text/plain": [
       "<Figure size 864x432 with 1 Axes>"
      ]
     },
     "metadata": {
      "needs_background": "light"
     },
     "output_type": "display_data"
    }
   ],
   "source": [
    "plt.figure(figsize=(12,6))\n",
    "sns.scatterplot(x='user_score', y='general_sales', data=XOne)\n",
    "plt.title('Диаграмма рассеяния PS3', fontsize=10)\n",
    "plt.xlabel('Оценка пользователей', fontsize=10)\n",
    "plt.ylabel('Глобальные продажи',fontsize=10);"
   ]
  },
  {
   "cell_type": "markdown",
   "id": "76e492a8",
   "metadata": {},
   "source": [
    "Корреляция между оценками пользователей и продажами отсутствует."
   ]
  },
  {
   "cell_type": "code",
   "execution_count": 31,
   "id": "42367834",
   "metadata": {},
   "outputs": [
    {
     "data": {
      "text/plain": [
       "0.41042203561296375"
      ]
     },
     "execution_count": 31,
     "metadata": {},
     "output_type": "execute_result"
    }
   ],
   "source": [
    "XOne['critic_score'].corr(XOne['general_sales']) # коэфициент корреляции"
   ]
  },
  {
   "cell_type": "code",
   "execution_count": 32,
   "id": "2f8cd88b",
   "metadata": {
    "scrolled": false
   },
   "outputs": [
    {
     "data": {
      "image/png": "[encoded data removed]",
      "text/plain": [
       "<Figure size 864x360 with 1 Axes>"
      ]
     },
     "metadata": {
      "needs_background": "light"
     },
     "output_type": "display_data"
    }
   ],
   "source": [
    "plt.figure(figsize=(12,5))\n",
    "sns.scatterplot(x='critic_score', y='general_sales', data=XOne)\n",
    "plt.title('Диаграмма рассеяния PS3', fontsize=10)\n",
    "plt.xlabel('Оценка критиков', fontsize=10)\n",
    "plt.ylabel('Глобальные продажи',fontsize=10);"
   ]
  },
  {
   "cell_type": "markdown",
   "id": "f8115cfe",
   "metadata": {},
   "source": [
    "С ростом оценок критиков растут и продажи."
   ]
  },
  {
   "cell_type": "markdown",
   "id": "9e190b33",
   "metadata": {},
   "source": [
    "Построим матрицу корреляции для сравнения с продажами на других платформах:"
   ]
  },
  {
   "cell_type": "code",
   "execution_count": 33,
   "id": "43dc1883",
   "metadata": {
    "scrolled": true
   },
   "outputs": [],
   "source": [
    "# Отфильтруем данные по интересующим нас параметрам:\n",
    "pc_data = PC[['general_sales' ,'critic_score', 'user_score']]\n",
    "ps4_data = PS4[['general_sales' ,'critic_score', 'user_score']] \n",
    "wiiu_data = WiiU[['general_sales' ,'critic_score', 'user_score']]\n",
    "xone_data = XOne[['general_sales' ,'critic_score', 'user_score']]\n",
    "ds3_data = DS3[['general_sales' ,'critic_score', 'user_score']] "
   ]
  },
  {
   "cell_type": "code",
   "execution_count": 34,
   "id": "b74a0724",
   "metadata": {},
   "outputs": [
    {
     "data": {
      "image/png": "[encoded data removed]",
      "text/plain": [
       "<Figure size 1080x1080 with 10 Axes>"
      ]
     },
     "metadata": {
      "needs_background": "light"
     },
     "output_type": "display_data"
    }
   ],
   "source": [
    "# Матрица корреляции:\n",
    "fig, axes = plt.subplots(2, 3, figsize=(15,15))\n",
    "\n",
    "plt.subplot(3, 2, 1)\n",
    "plt.title(\"3DS\", fontsize=15)            \n",
    "sns.heatmap(ds3_data.corr()[['general_sales']].sort_values(by='general_sales', ascending=False), cmap=\"Blues\", annot=True)\n",
    "\n",
    "plt.subplot(3, 2, 2)\n",
    "plt.title(\"WiiU\", fontsize=15)\n",
    "sns.heatmap(wiiu_data.corr()[['general_sales']].sort_values(by='general_sales', ascending=False), cmap=\"Blues\", annot=True)\n",
    "\n",
    "\n",
    "plt.subplot(3, 2, 3)\n",
    "plt.title(\"PC\", fontsize=15)            \n",
    "sns.heatmap(pc_data.corr()[['general_sales']].sort_values(by='general_sales', ascending=False), cmap=\"Blues\", annot=True)\n",
    "\n",
    "plt.subplot(3, 2, 4)\n",
    "plt.title(\"PS4\", fontsize=15)            \n",
    "sns.heatmap(ps4_data.corr()[['general_sales']].sort_values(by='general_sales', ascending=False), cmap=\"Blues\", annot=True)\n",
    "\n",
    "plt.subplot(3, 2, 5)\n",
    "plt.title(\"Xone\", fontsize=15)            \n",
    "sns.heatmap(xone_data.corr()[['general_sales']].sort_values(by='general_sales', ascending=False), cmap=\"Blues\", annot=True);"
   ]
  },
  {
   "cell_type": "markdown",
   "id": "205178da",
   "metadata": {},
   "source": [
    "Выводы:\n",
    "\n",
    "*    Оценки пользователей не оказывает существенно на продажи, кроме продуктов Nintendo тут корреляция прослеживается(возможно менее токсичное сообщество играет роль);\n",
    "*    Зависимость продаж от оценки критиков слабая, но прослеживается."
   ]
  },
  {
   "cell_type": "code",
   "execution_count": 35,
   "id": "4e142689",
   "metadata": {
    "scrolled": true
   },
   "outputs": [
    {
     "data": {
      "text/html": [
       "<div>\n",
       "<style scoped>\n",
       "    .dataframe tbody tr th:only-of-type {\n",
       "        vertical-align: middle;\n",
       "    }\n",
       "\n",
       "    .dataframe tbody tr th {\n",
       "        vertical-align: top;\n",
       "    }\n",
       "\n",
       "    .dataframe thead th {\n",
       "        text-align: right;\n",
       "    }\n",
       "</style>\n",
       "<table border=\"1\" class=\"dataframe\">\n",
       "  <thead>\n",
       "    <tr style=\"text-align: right;\">\n",
       "      <th></th>\n",
       "      <th>mean</th>\n",
       "      <th>median</th>\n",
       "    </tr>\n",
       "    <tr>\n",
       "      <th>genre</th>\n",
       "      <th></th>\n",
       "      <th></th>\n",
       "    </tr>\n",
       "  </thead>\n",
       "  <tbody>\n",
       "    <tr>\n",
       "      <th>Platform</th>\n",
       "      <td>0.940262</td>\n",
       "      <td>0.27</td>\n",
       "    </tr>\n",
       "    <tr>\n",
       "      <th>Shooter</th>\n",
       "      <td>0.803519</td>\n",
       "      <td>0.24</td>\n",
       "    </tr>\n",
       "    <tr>\n",
       "      <th>Role-Playing</th>\n",
       "      <td>0.628683</td>\n",
       "      <td>0.18</td>\n",
       "    </tr>\n",
       "    <tr>\n",
       "      <th>Racing</th>\n",
       "      <td>0.590122</td>\n",
       "      <td>0.19</td>\n",
       "    </tr>\n",
       "    <tr>\n",
       "      <th>Sports</th>\n",
       "      <td>0.567940</td>\n",
       "      <td>0.22</td>\n",
       "    </tr>\n",
       "  </tbody>\n",
       "</table>\n",
       "</div>"
      ],
      "text/plain": [
       "                  mean  median\n",
       "genre                         \n",
       "Platform      0.940262    0.27\n",
       "Shooter       0.803519    0.24\n",
       "Role-Playing  0.628683    0.18\n",
       "Racing        0.590122    0.19\n",
       "Sports        0.567940    0.22"
      ]
     },
     "execution_count": 35,
     "metadata": {},
     "output_type": "execute_result"
    }
   ],
   "source": [
    "df_sales = df_top_platforms.pivot_table(index=['genre'], values='general_sales', aggfunc=['mean', 'median'])\n",
    "df_sales = df.groupby(['genre']).agg({'general_sales':['mean', 'median']})\n",
    "df_sales.columns = ['mean', 'median']\n",
    "df_sales = df_sales.sort_values(by='mean', ascending=False)\n",
    "df_sales.head()"
   ]
  },
  {
   "cell_type": "code",
   "execution_count": 36,
   "id": "7f35ab7d",
   "metadata": {},
   "outputs": [
    {
     "data": {
      "image/png": "[encoded data removed]",
      "text/plain": [
       "<Figure size 936x360 with 1 Axes>"
      ]
     },
     "metadata": {
      "needs_background": "light"
     },
     "output_type": "display_data"
    }
   ],
   "source": [
    "ax = plt.gca()\n",
    "\n",
    "ax1 = df_sales['mean']\n",
    "ax2 = df_sales['median']\n",
    "\n",
    "ax1.plot(kind='bar', figsize=(13,5), ax=ax, color='b', position=1)\n",
    "ax2.plot(kind='bar', figsize=(13,5), ax=ax, color='r', position=0)\n",
    "\n",
    "plt.grid()\n",
    "plt.legend(['Средние значения по продажам', 'Медиана'])\n",
    "plt.title('Распредиление по жанрам', fontsize=15)\n",
    "plt.xlabel('Жанр Игры', fontsize=15);"
   ]
  },
  {
   "cell_type": "markdown",
   "id": "4fd9f423",
   "metadata": {},
   "source": [
    " Первая тройка Platform, Shooter, Role-Playng. \n",
    " Заключающая тройка  Puzzle, Strategy, Adventure.\n",
    " Является ли жанр Shooter прибыльнее жанра Puzzle? На первый взгляд хочется сказать - Да!\n",
    " Но если учесть трудозатраты, затраты на производство игр класса AAA, то может оказаться \n",
    " что не каждая игра жанра Shooter будет прибыльней некоторой \"веселой фермы\"."
   ]
  },
  {
   "cell_type": "markdown",
   "id": "9668791b",
   "metadata": {},
   "source": [
    "### Вывод\n",
    "\n",
    "Мы провели исследовательский анализ и сделали кое какие выводы:\n",
    "\n",
    "* Рынок компьютерных игр плавно развивался до 1994 года, начиная с 1994 года бурный рост продаж. Связанно это прежде всего с выходом таких латформ как PlayStation, PlayStation 2 и т.д.\n",
    "* Но рост заканчивается пиком на 2008 году, что скорее всего связанно с мировым кризисом, затронувшим и рынок интерактивных развлечений. Далее снижение продолжилось и в 2010, и тут рынок комьпьютерных игр получил новы удар - так называемый \"Мобильный гейминг\".\n",
    "* С момента выхода PlayStation наблюдается закономерность: игровые платформы живут 8-10 лет, а потом их заменяют платформы следующего поколения (может быть мы нашли третий закон Мура???)\n",
    "* В выбранных нами платформах, наблюдается зависимость между оценками критиков и профажами игр, зависимости между оценками пользователей и продажами не наблюдается(кроме Nintendo). Неудевительно ведь компетентное мнение всегда важнее чем чьи-то несбывшиеся надежды.\n",
    "* Самым популярным жанром является жанр Platform, Adventure замыкает рейтинг.\n",
    "* Пик популярности платформы наступает примерно в середине ее жизненного цикла (примерно 4 года с момента выхода)."
   ]
  },
  {
   "cell_type": "markdown",
   "id": "aad2bfd1",
   "metadata": {},
   "source": [
    "## Портрет пользователя для каждого региона"
   ]
  },
  {
   "cell_type": "code",
   "execution_count": 37,
   "id": "9270d254",
   "metadata": {},
   "outputs": [],
   "source": [
    "# Создадим функцию для отрисовки распределения продаж по регионам (Платформа, жанр, рейтинг):\n",
    "def port_user(r, g, b):\n",
    "    data_reg = df_top_platforms.groupby(r).agg({g: 'sum'}).sort_values(by=g, ascending=False)[:5]\n",
    "    title_dict = {'na_sales': 'North America', 'eu_sales': 'Europe', 'jp_sales': 'Japan'}\n",
    "    color_dict = {'na_sales': 'Red', 'eu_sales': 'Green', 'jp_sales': 'Blue'}\n",
    "    graph = data_reg.plot(kind='bar', ec='black', title=title_dict[g], ax=axes[b], \n",
    "                   fontsize=9, color=color_dict[g], rot=10)\n",
    "    graph.legend(prop={'size':10})\n",
    "    graph.set_xlabel('')\n",
    "    graph.title.set_size(12)"
   ]
  },
  {
   "cell_type": "code",
   "execution_count": 38,
   "id": "be325dba",
   "metadata": {
    "scrolled": false
   },
   "outputs": [
    {
     "data": {
      "image/png": "[encoded data removed]",
      "text/plain": [
       "<Figure size 1080x360 with 3 Axes>"
      ]
     },
     "metadata": {
      "needs_background": "light"
     },
     "output_type": "display_data"
    }
   ],
   "source": [
    "# Распределение по платформами:\n",
    "fig, axes = plt.subplots(1, 3, figsize=(15,5))\n",
    "\n",
    "port_user('platform', 'na_sales', 0)\n",
    "port_user('platform', 'eu_sales', 1)\n",
    "port_user('platform', 'jp_sales', 2)"
   ]
  },
  {
   "cell_type": "markdown",
   "id": "40a9dd6d",
   "metadata": {},
   "source": [
    "* В Японии на первом месте 3ds далее ps4 и WiiU, XOne и PC 4 и 5 место. \n",
    "* На вропейском рынке  на первом месте PS4, на Северо Американском XOne.\n",
    "* В отличие от Японии, ПК гейминг уверенно присутствует на рынках Европы и Северной Америки."
   ]
  },
  {
   "cell_type": "code",
   "execution_count": 39,
   "id": "29482c5c",
   "metadata": {
    "scrolled": false
   },
   "outputs": [
    {
     "data": {
      "image/png": "[encoded data removed]",
      "text/plain": [
       "<Figure size 1080x360 with 3 Axes>"
      ]
     },
     "metadata": {
      "needs_background": "light"
     },
     "output_type": "display_data"
    }
   ],
   "source": [
    "# Распредиление по жанрами\n",
    "fig, axes = plt.subplots(1, 3, figsize=(15,5))\n",
    "\n",
    "port_user('genre', 'na_sales', 0)\n",
    "port_user('genre', 'eu_sales', 1)\n",
    "port_user('genre', 'jp_sales', 2)"
   ]
  },
  {
   "cell_type": "markdown",
   "id": "5cc201a7",
   "metadata": {},
   "source": [
    "* Жанр Action лидирует во всех регионах.\n",
    "* В Японии на ряду с Action так же популярен жанр Role-Plaing(не значительно уступая первому месту)."
   ]
  },
  {
   "cell_type": "markdown",
   "id": "5081b35f",
   "metadata": {},
   "source": [
    "ПОсмотрим влияние возростного рейтинга на продажи:"
   ]
  },
  {
   "cell_type": "markdown",
   "id": "3c8bfe27",
   "metadata": {},
   "source": [
    "* «EC» («Early childhood») — «Для детей младшего возраста»: Игра подходит для детей от 3 лет.\n",
    "* «E» («Everyone») — «Для всех»: Содержание вполне подходит для возрастной категории от 6 лет.Первоначально \"K-A\" (\"Kids to Adults\").\n",
    "* «E10+» («Everyone 10 and older») — «Для всех от 10 лет и старше».\n",
    "* «T» («Teen») — «Подросткам»: Игра подходит для лиц от 13 лет. \n",
    "* «M» («Mature») — «Для взрослых»: Материалы игры не подходят для подростков младше 17 лет.\n",
    "* «AO» («Adults Only 18+») — «Только для взрослых»: Содержание игры только для взрослых старше 18 лет.\n",
    "* «RP» («Rating Pending») — «Рейтинг ожидается»: Продукт был отправлен в ESRB и ожидает присвоения рейтинга."
   ]
  },
  {
   "cell_type": "markdown",
   "id": "42130cfb",
   "metadata": {},
   "source": [
    "Заменим устаревший рейтинг 'K-A' на новый 'E' (обозначают одно и тоже)\n"
   ]
  },
  {
   "cell_type": "code",
   "execution_count": 40,
   "id": "74aa5594",
   "metadata": {
    "scrolled": false
   },
   "outputs": [
    {
     "name": "stderr",
     "output_type": "stream",
     "text": [
      "/opt/conda/lib/python3.9/site-packages/pandas/core/generic.py:9286: SettingWithCopyWarning: \n",
      "A value is trying to be set on a copy of a slice from a DataFrame\n",
      "\n",
      "See the caveats in the documentation: https://pandas.pydata.org/pandas-docs/stable/user_guide/indexing.html#returning-a-view-versus-a-copy\n",
      "  return self._where(\n"
     ]
    },
    {
     "data": {
      "image/png": "[encoded data removed]",
      "text/plain": [
       "<Figure size 1080x360 with 3 Axes>"
      ]
     },
     "metadata": {
      "needs_background": "light"
     },
     "output_type": "display_data"
    }
   ],
   "source": [
    "decline_period_data['rating'].where(~(decline_period_data.rating == 'K-A'), other='E', inplace=True)\n",
    "\n",
    "fig, axes = plt.subplots(1, 3, figsize=(15,5)) # Распределение по возрастному рейтингу:\n",
    "\n",
    "port_user('rating', 'na_sales', 0)\n",
    "port_user('rating', 'eu_sales', 1)\n",
    "port_user('rating', 'jp_sales', 2)"
   ]
  },
  {
   "cell_type": "markdown",
   "id": "ea416957",
   "metadata": {},
   "source": [
    "Рейтинг ESRB влияет на продажи существенно так: \n",
    "* В Северной Америке и Европе лидирует рейтинг «M» («Mature») — «Для взрослых» (за последние годы игры повзрослели, аудитория становится старше), а в Японии аж на 5.\n",
    "* «E» («Everyone») — «Для всех» — занимает 2 места в регионах Америки и Японии.\n",
    "* Рейтинг «E10+» («Everyone 10 and older») на 4 месте США, и на 3 Европпа, в Японии на 4.\n",
    "* 'tbd' наш рейтинг, в него вошли все игры для которых возрастной рейтинг не был указан. Тому могут быть разные причины, для каких-то игр рейтинг еще не указан, а какие-то игры вышли до существования каких либо рейтингов ну и человеческий фактор исключать нельзя. А в Японии вообще свой собственный рейтинг CERO, и 'tbd' на первом месте как раз на это нам намекает."
   ]
  },
  {
   "cell_type": "markdown",
   "id": "0bdd4059",
   "metadata": {},
   "source": [
    "### Вывод\n",
    "\n",
    "\n",
    "\n",
    "Удалось составить портрет пользователя по регионам Северной Америки, Европы и Японии.\n",
    "\n",
    "По топ-5 поулярных платформ картина следующая:\n",
    "\n",
    "* На Японском рынке доминируют отечественные игровые платформы. Причем портативная консоль 3DS на первом месте.\n",
    "* Европейский рынок разнообразнее, но большинство за Японскими консолями. XOne удерживается на 2 месте.\n",
    "* На Североамериканском рынке на первом месте XOne/\n",
    "\n",
    "По топ-5 жанрам:\n",
    "\n",
    "* В Северной Америке Action, Sports, Shooter, Role-Plaing, Platform\n",
    "* В Европе Action, Shooter, Role-Plaing, Sports Racing\n",
    "* В Японии Action, Role-Plaing, Misc, Platform, Adventurer\n",
    "\n",
    "Так же удалось выяснить что возрастной рейтинг ESRB, оказывает существенное влияние на продажи игр."
   ]
  },
  {
   "cell_type": "markdown",
   "id": "7f158997",
   "metadata": {},
   "source": [
    "## Проверка гипотез"
   ]
  },
  {
   "cell_type": "markdown",
   "id": "bba51a87",
   "metadata": {},
   "source": [
    "Во время выполнения работ созрели 2 гипотезы, которые могли бы помочь руководству в разрабатке стратегии развития на будующий год. А именно:\n",
    "\n",
    "* Средние пользовательские рейтинги платформ Xbox One и PC одинаковые;\n",
    "* Средние пользовательские рейтинги жанров Action и Sports разные."
   ]
  },
  {
   "cell_type": "markdown",
   "id": "acba5a27",
   "metadata": {},
   "source": [
    "*Первая гипотеза:* \n",
    "\n",
    "Средние пользовательские рейтинги платформ Xbox One и PC одинаковые.\n",
    "* H0 - средние пользовательские рейтинги жанров Xbox One  и PC одинаковые.\n",
    "* H1 - средние пользовательские рейтинги жанров Xbox One  и PC разные."
   ]
  },
  {
   "cell_type": "code",
   "execution_count": 41,
   "id": "3c9b4e6d",
   "metadata": {},
   "outputs": [
    {
     "name": "stdout",
     "output_type": "stream",
     "text": [
      "p-значение: 4.5385802963771835e-06\n",
      "Отвергаем нулевую гипотезу\n"
     ]
    }
   ],
   "source": [
    "xone = df[(df['platform'] == 'XOne') & (df['user_score'] > 0)]['user_score'] # пользовательский рейтинг XOne\n",
    "pc = df[(df['platform'] == 'PC') & (df['user_score'] > 0)]['user_score'] # пользовательский рейтинг PC\n",
    "\n",
    "                  \n",
    "alpha = 0.05 # критический уровень статистической значимости\n",
    "\n",
    "\n",
    "results = st.ttest_ind(xone, \n",
    "                       pc, equal_var=False) # проверяем гипотезу\n",
    "\n",
    "print('p-значение:', results.pvalue)\n",
    "\n",
    "if (results.pvalue < alpha):\n",
    "    print(\"Отвергаем нулевую гипотезу\")\n",
    "else:\n",
    "    print(\"Не получилось отвергнуть нулевую гипотезу\")"
   ]
  },
  {
   "cell_type": "markdown",
   "id": "5b87b419",
   "metadata": {},
   "source": [
    "*Вторая гипотеза:* \n",
    "\n",
    "Средние пользовательские рейтинги жанров Action и Sports одинаковые.\n",
    "* H0 - средние пользовательские рейтинги жанров Action и Sports одинаковые.\n",
    "* H1 - средние пользовательские рейтинги жанров Action и Sports разные."
   ]
  },
  {
   "cell_type": "code",
   "execution_count": 42,
   "id": "1165cdda",
   "metadata": {},
   "outputs": [
    {
     "name": "stdout",
     "output_type": "stream",
     "text": [
      "p-значение: 0.07370217419278526\n",
      "Не получилось отвергнуть нулевую гипотезу\n"
     ]
    }
   ],
   "source": [
    "action = df[(df['genre'] == 'Action') & (df['user_score'] > 0)]['user_score'] # пользовательский рейтинг Action\n",
    "sports = df[(df['genre'] == 'Sports') & (df['user_score'] > 0)]['user_score'] # пользовательский рейтинг Sports\n",
    "\n",
    "\n",
    "alpha = 0.05 # критический уровень статистической значимости\n",
    "\n",
    "\n",
    "results = st.ttest_ind(action, \n",
    "                       sports, equal_var=False) # проверяем гипотезу\n",
    "\n",
    "print('p-значение:', results.pvalue)\n",
    "\n",
    "if (results.pvalue < alpha):\n",
    "    print(\"Отвергаем нулевую гипотезу\")\n",
    "else:\n",
    "    print(\"Не получилось отвергнуть нулевую гипотезу\")"
   ]
  },
  {
   "cell_type": "markdown",
   "id": "e1f8584e",
   "metadata": {},
   "source": [
    "### Вывод по работе с гипотезами\n",
    "\n",
    "По работе над гипотезами. Для первой гипотезы удалось сформулировать нулевую и альтернативную гипотезы так:\n",
    "\n",
    "* H0 - средние пользовательские рейтинги жанров Xbox One  и PC одинаковые;\n",
    "* H1 - средние пользовательские рейтинги жанров Xbox One  и PC разные.\n",
    "\n",
    "Для второй гипотезы сформулировать нулевую и альтернативную гипотезы так:\n",
    "\n",
    "* H0 - средние пользовательские рейтинги жанров Action и Sports одинаковые.\n",
    "* H1 - средние пользовательские рейтинги жанров Action и Sports разные.\n",
    "\n",
    "Так как в обоих случаях выборки независимы между собой, для проверки гипотез выбрали метод ttest_ind. Критический уровень статистической значимости взяли 0.05.\n",
    "\n",
    "В ходе проверки первой гипотезы удалось отвергнуть Н0. \n",
    "Во втором случае не удалось отвергнуть нулевую гипотезу."
   ]
  },
  {
   "cell_type": "markdown",
   "id": "5cc2f576",
   "metadata": {},
   "source": [
    "## Общий вывод"
   ]
  },
  {
   "cell_type": "markdown",
   "id": "b1f9c5ea",
   "metadata": {
    "scrolled": true
   },
   "source": [
    "Поставленное от руководства задание выполненно. Данные проверены, исправлены сгрупированы. Проведен статистический анализ и проверка гипотез.\n",
    "В ходе проведения работ удалось вустановить:\n",
    "\n",
    "* Высокие оценки критиков положительно сказываются на продажах игр;\n",
    "* Пользовательские рейтинги на продажи существенно не влияют (кроме продуктов Nintendo).\n",
    "\n",
    "На данный момент игровая индустрия переживает не лучшие свои годы. И ждать результатов 2008 года не приходится. \n",
    "\n",
    "При планировании стратегии развития на будующий год следует обратить внимание на следующее:\n",
    "\n",
    "* Самыми популярными играми в США и Европе остаются игры с возростным рейтингом «M» («Mature») — «Для взрослых», т.е. аудитория интерактивных развлечений растет.\n",
    "* так же в качестве целевой аудитории следует рассматривать и детей старше 6 лет, продажи с данным рейтингом занимают второе место;\n",
    "* больше внимания уделить жанрам Action, Role_Plaing и Shooter.\n",
    "\n",
    "Исходя из выявленной нами средней продолжительности жизни игровых платформ, следует расширить поддержку актуальных на данный момент PlayStation 4 и Xbox One, так как пик популярности у них впереди.\n",
    "\n",
    "Спасибо за уделённое внимание!"
   ]
  }
 ],
 "metadata": {
  "ExecuteTimeLog": [
   {
    "duration": 6932,
    "start_time": "2022-04-27T13:08:39.937Z"
   },
   {
    "duration": 2118,
    "start_time": "2022-04-27T13:08:51.537Z"
   },
   {
    "duration": 234,
    "start_time": "2022-04-27T13:09:45.914Z"
   },
   {
    "duration": 33,
    "start_time": "2022-04-27T13:09:48.726Z"
   },
   {
    "duration": 33,
    "start_time": "2022-04-27T13:09:51.336Z"
   },
   {
    "duration": 33,
    "start_time": "2022-04-27T13:09:59.638Z"
   },
   {
    "duration": 21,
    "start_time": "2022-04-27T13:10:02.490Z"
   },
   {
    "duration": 15,
    "start_time": "2022-04-27T13:10:03.965Z"
   },
   {
    "duration": 7,
    "start_time": "2022-04-27T13:10:06.358Z"
   },
   {
    "duration": 6,
    "start_time": "2022-04-27T13:10:07.017Z"
   },
   {
    "duration": 7,
    "start_time": "2022-04-27T13:10:07.683Z"
   },
   {
    "duration": 9,
    "start_time": "2022-04-27T13:10:08.297Z"
   },
   {
    "duration": 7,
    "start_time": "2022-04-27T13:10:08.965Z"
   },
   {
    "duration": 3,
    "start_time": "2022-04-27T13:10:09.545Z"
   },
   {
    "duration": 18,
    "start_time": "2022-04-27T13:10:10.388Z"
   },
   {
    "duration": 7,
    "start_time": "2022-04-27T13:10:10.964Z"
   },
   {
    "duration": 3,
    "start_time": "2022-04-27T13:10:11.400Z"
   },
   {
    "duration": 5,
    "start_time": "2022-04-27T13:10:11.826Z"
   },
   {
    "duration": 9,
    "start_time": "2022-04-27T13:10:12.177Z"
   },
   {
    "duration": 17,
    "start_time": "2022-04-27T13:10:12.537Z"
   },
   {
    "duration": 14,
    "start_time": "2022-04-27T13:10:12.898Z"
   },
   {
    "duration": 26,
    "start_time": "2022-04-27T13:10:13.423Z"
   },
   {
    "duration": 272,
    "start_time": "2022-04-27T13:10:15.194Z"
   },
   {
    "duration": 7,
    "start_time": "2022-04-27T13:10:17.037Z"
   },
   {
    "duration": 369,
    "start_time": "2022-04-27T13:10:17.676Z"
   },
   {
    "duration": 12,
    "start_time": "2022-04-27T13:10:18.780Z"
   },
   {
    "duration": 3,
    "start_time": "2022-04-27T13:10:19.453Z"
   },
   {
    "duration": 9,
    "start_time": "2022-04-27T13:10:20.184Z"
   },
   {
    "duration": 3,
    "start_time": "2022-04-27T13:10:21.041Z"
   },
   {
    "duration": 339,
    "start_time": "2022-04-27T13:10:21.825Z"
   },
   {
    "duration": 330,
    "start_time": "2022-04-27T13:10:37.683Z"
   },
   {
    "duration": 3,
    "start_time": "2022-04-27T13:10:39.182Z"
   },
   {
    "duration": 710,
    "start_time": "2022-04-27T13:10:52.485Z"
   },
   {
    "duration": 9,
    "start_time": "2022-04-27T13:10:58.073Z"
   },
   {
    "duration": 236,
    "start_time": "2022-04-27T13:11:00.162Z"
   },
   {
    "duration": 3,
    "start_time": "2022-04-27T13:11:06.275Z"
   },
   {
    "duration": 17,
    "start_time": "2022-04-27T13:11:06.764Z"
   },
   {
    "duration": 3,
    "start_time": "2022-04-27T13:11:07.370Z"
   },
   {
    "duration": 6,
    "start_time": "2022-04-27T13:11:07.860Z"
   },
   {
    "duration": 187,
    "start_time": "2022-04-27T13:11:08.753Z"
   },
   {
    "duration": 3,
    "start_time": "2022-04-27T13:11:10.668Z"
   },
   {
    "duration": 5,
    "start_time": "2022-04-27T13:11:11.493Z"
   },
   {
    "duration": 209,
    "start_time": "2022-04-27T13:11:14.671Z"
   },
   {
    "duration": 2,
    "start_time": "2022-04-27T13:11:19.160Z"
   },
   {
    "duration": 1623,
    "start_time": "2022-04-27T13:11:19.815Z"
   },
   {
    "duration": 2,
    "start_time": "2022-04-27T13:11:24.892Z"
   },
   {
    "duration": 196,
    "start_time": "2022-04-27T13:11:25.477Z"
   },
   {
    "duration": 3,
    "start_time": "2022-04-27T13:11:30.645Z"
   },
   {
    "duration": 4,
    "start_time": "2022-04-27T13:11:42.957Z"
   },
   {
    "duration": 265,
    "start_time": "2022-04-27T13:11:44.370Z"
   },
   {
    "duration": 3,
    "start_time": "2022-04-27T13:11:48.072Z"
   },
   {
    "duration": 267,
    "start_time": "2022-04-27T13:11:48.961Z"
   },
   {
    "duration": 3,
    "start_time": "2022-04-27T13:11:53.113Z"
   },
   {
    "duration": 6,
    "start_time": "2022-04-27T13:11:54.780Z"
   },
   {
    "duration": 20,
    "start_time": "2022-04-27T13:11:55.633Z"
   },
   {
    "duration": 416,
    "start_time": "2022-04-27T13:11:57.849Z"
   },
   {
    "duration": 3,
    "start_time": "2022-04-27T13:12:01.061Z"
   },
   {
    "duration": 3,
    "start_time": "2022-04-27T13:12:04.337Z"
   },
   {
    "duration": 14,
    "start_time": "2022-04-27T13:12:06.361Z"
   },
   {
    "duration": 22,
    "start_time": "2022-04-27T13:12:09.119Z"
   },
   {
    "duration": 387202,
    "start_time": "2022-04-28T08:24:35.148Z"
   },
   {
    "duration": 1616,
    "start_time": "2022-04-28T08:31:02.353Z"
   },
   {
    "duration": 176,
    "start_time": "2022-04-28T08:31:05.851Z"
   },
   {
    "duration": 99,
    "start_time": "2022-04-28T08:31:07.454Z"
   },
   {
    "duration": 18,
    "start_time": "2022-04-28T08:31:13.576Z"
   },
   {
    "duration": 19,
    "start_time": "2022-04-28T08:31:13.701Z"
   },
   {
    "duration": 32,
    "start_time": "2022-04-28T08:31:13.837Z"
   },
   {
    "duration": 11,
    "start_time": "2022-04-28T08:31:14.076Z"
   },
   {
    "duration": 16,
    "start_time": "2022-04-28T08:31:14.221Z"
   },
   {
    "duration": 4,
    "start_time": "2022-04-28T08:31:14.940Z"
   },
   {
    "duration": 6,
    "start_time": "2022-04-28T08:31:15.092Z"
   },
   {
    "duration": 7,
    "start_time": "2022-04-28T08:31:15.382Z"
   },
   {
    "duration": 7,
    "start_time": "2022-04-28T08:31:15.534Z"
   },
   {
    "duration": 9,
    "start_time": "2022-04-28T08:31:15.689Z"
   },
   {
    "duration": 4,
    "start_time": "2022-04-28T08:31:15.839Z"
   },
   {
    "duration": 15,
    "start_time": "2022-04-28T08:31:16.138Z"
   },
   {
    "duration": 7,
    "start_time": "2022-04-28T08:31:16.448Z"
   },
   {
    "duration": 3,
    "start_time": "2022-04-28T08:31:16.598Z"
   },
   {
    "duration": 7,
    "start_time": "2022-04-28T08:31:16.758Z"
   },
   {
    "duration": 10,
    "start_time": "2022-04-28T08:31:17.061Z"
   },
   {
    "duration": 13,
    "start_time": "2022-04-28T08:31:18.974Z"
   },
   {
    "duration": 8,
    "start_time": "2022-04-28T08:31:20.239Z"
   },
   {
    "duration": 16,
    "start_time": "2022-04-28T08:31:20.250Z"
   },
   {
    "duration": 218,
    "start_time": "2022-04-28T08:31:20.267Z"
   },
   {
    "duration": 2,
    "start_time": "2022-04-28T08:31:20.488Z"
   },
   {
    "duration": 321,
    "start_time": "2022-04-28T08:31:20.492Z"
   },
   {
    "duration": 12,
    "start_time": "2022-04-28T08:31:20.814Z"
   },
   {
    "duration": 18,
    "start_time": "2022-04-28T08:31:20.828Z"
   },
   {
    "duration": 10,
    "start_time": "2022-04-28T08:31:20.848Z"
   },
   {
    "duration": 14,
    "start_time": "2022-04-28T08:31:20.860Z"
   },
   {
    "duration": 208,
    "start_time": "2022-04-28T08:31:20.877Z"
   },
   {
    "duration": 3,
    "start_time": "2022-04-28T08:31:21.087Z"
   },
   {
    "duration": 594,
    "start_time": "2022-04-28T08:31:21.092Z"
   },
   {
    "duration": 12,
    "start_time": "2022-04-28T08:31:21.687Z"
   },
   {
    "duration": 139,
    "start_time": "2022-04-28T08:31:21.700Z"
   },
   {
    "duration": 3,
    "start_time": "2022-04-28T08:31:21.841Z"
   },
   {
    "duration": 41,
    "start_time": "2022-04-28T08:31:21.846Z"
   },
   {
    "duration": 3,
    "start_time": "2022-04-28T08:31:21.889Z"
   },
   {
    "duration": 10,
    "start_time": "2022-04-28T08:31:21.894Z"
   },
   {
    "duration": 212,
    "start_time": "2022-04-28T08:31:21.906Z"
   },
   {
    "duration": 4,
    "start_time": "2022-04-28T08:31:22.120Z"
   },
   {
    "duration": 9,
    "start_time": "2022-04-28T08:31:22.126Z"
   },
   {
    "duration": 129,
    "start_time": "2022-04-28T08:31:22.136Z"
   },
   {
    "duration": 3,
    "start_time": "2022-04-28T08:31:22.267Z"
   },
   {
    "duration": 1638,
    "start_time": "2022-04-28T08:31:22.272Z"
   },
   {
    "duration": 4,
    "start_time": "2022-04-28T08:31:23.912Z"
   },
   {
    "duration": 135,
    "start_time": "2022-04-28T08:31:23.918Z"
   },
   {
    "duration": 4,
    "start_time": "2022-04-28T08:31:24.055Z"
   },
   {
    "duration": 13,
    "start_time": "2022-04-28T08:31:24.064Z"
   },
   {
    "duration": 243,
    "start_time": "2022-04-28T08:31:24.080Z"
   },
   {
    "duration": 6,
    "start_time": "2022-04-28T08:31:24.325Z"
   },
   {
    "duration": 199,
    "start_time": "2022-04-28T08:31:24.332Z"
   },
   {
    "duration": 3,
    "start_time": "2022-04-28T08:31:24.533Z"
   },
   {
    "duration": 36,
    "start_time": "2022-04-28T08:31:24.538Z"
   },
   {
    "duration": 13,
    "start_time": "2022-04-28T08:31:24.576Z"
   },
   {
    "duration": 205,
    "start_time": "2022-04-28T08:31:24.591Z"
   },
   {
    "duration": 4,
    "start_time": "2022-04-28T08:31:24.798Z"
   },
   {
    "duration": 19,
    "start_time": "2022-04-28T08:31:24.804Z"
   },
   {
    "duration": 49,
    "start_time": "2022-04-28T08:31:24.825Z"
   },
   {
    "duration": 5,
    "start_time": "2022-04-28T08:31:24.875Z"
   },
   {
    "duration": 17,
    "start_time": "2022-04-28T08:31:24.882Z"
   },
   {
    "duration": 188,
    "start_time": "2022-04-28T10:41:50.617Z"
   },
   {
    "duration": 5,
    "start_time": "2022-04-29T12:17:33.418Z"
   },
   {
    "duration": 1794,
    "start_time": "2022-04-29T12:17:33.426Z"
   },
   {
    "duration": 169,
    "start_time": "2022-04-29T12:17:35.223Z"
   },
   {
    "duration": 21,
    "start_time": "2022-04-29T12:17:35.395Z"
   },
   {
    "duration": 23,
    "start_time": "2022-04-29T12:17:35.419Z"
   },
   {
    "duration": 63,
    "start_time": "2022-04-29T12:17:35.444Z"
   },
   {
    "duration": 12,
    "start_time": "2022-04-29T12:17:35.509Z"
   },
   {
    "duration": 30,
    "start_time": "2022-04-29T12:17:35.523Z"
   },
   {
    "duration": 4,
    "start_time": "2022-04-29T12:17:35.557Z"
   },
   {
    "duration": 35,
    "start_time": "2022-04-29T12:17:35.563Z"
   },
   {
    "duration": 12,
    "start_time": "2022-04-29T12:17:35.600Z"
   },
   {
    "duration": 9,
    "start_time": "2022-04-29T12:17:35.614Z"
   },
   {
    "duration": 13,
    "start_time": "2022-04-29T12:17:35.625Z"
   },
   {
    "duration": 13,
    "start_time": "2022-04-29T12:17:35.640Z"
   },
   {
    "duration": 38,
    "start_time": "2022-04-29T12:17:35.655Z"
   },
   {
    "duration": 6,
    "start_time": "2022-04-29T12:17:35.695Z"
   },
   {
    "duration": 22,
    "start_time": "2022-04-29T12:17:35.702Z"
   },
   {
    "duration": 15,
    "start_time": "2022-04-29T12:17:35.726Z"
   },
   {
    "duration": 7,
    "start_time": "2022-04-29T12:17:35.743Z"
   },
   {
    "duration": 42,
    "start_time": "2022-04-29T12:17:35.752Z"
   },
   {
    "duration": 299,
    "start_time": "2022-04-29T12:17:35.796Z"
   },
   {
    "duration": 491,
    "start_time": "2022-04-29T12:17:36.097Z"
   },
   {
    "duration": 15,
    "start_time": "2022-04-29T12:17:36.593Z"
   },
   {
    "duration": 4,
    "start_time": "2022-04-29T12:17:36.613Z"
   },
   {
    "duration": 1859,
    "start_time": "2022-04-29T12:17:36.619Z"
   },
   {
    "duration": 3,
    "start_time": "2022-04-29T12:17:38.480Z"
   },
   {
    "duration": 548,
    "start_time": "2022-04-29T12:17:38.485Z"
   },
   {
    "duration": 8,
    "start_time": "2022-04-29T12:17:39.035Z"
   },
   {
    "duration": 190,
    "start_time": "2022-04-29T12:17:39.045Z"
   },
   {
    "duration": 350,
    "start_time": "2022-04-29T12:17:39.237Z"
   },
   {
    "duration": 26,
    "start_time": "2022-04-29T12:17:39.592Z"
   },
   {
    "duration": 6,
    "start_time": "2022-04-29T12:17:39.620Z"
   },
   {
    "duration": 243,
    "start_time": "2022-04-29T12:17:39.629Z"
   },
   {
    "duration": 8,
    "start_time": "2022-04-29T12:17:39.874Z"
   },
   {
    "duration": 236,
    "start_time": "2022-04-29T12:17:39.893Z"
   },
   {
    "duration": 4,
    "start_time": "2022-04-29T12:17:40.132Z"
   },
   {
    "duration": 17,
    "start_time": "2022-04-29T12:17:40.138Z"
   },
   {
    "duration": 2236,
    "start_time": "2022-04-29T12:17:40.157Z"
   },
   {
    "duration": 4,
    "start_time": "2022-04-29T12:17:42.395Z"
   },
   {
    "duration": 39,
    "start_time": "2022-04-29T12:17:42.401Z"
   },
   {
    "duration": 403,
    "start_time": "2022-04-29T12:17:42.442Z"
   },
   {
    "duration": 7,
    "start_time": "2022-04-29T12:17:42.848Z"
   },
   {
    "duration": 586,
    "start_time": "2022-04-29T12:17:42.857Z"
   },
   {
    "duration": 557,
    "start_time": "2022-04-29T12:17:43.446Z"
   },
   {
    "duration": 13,
    "start_time": "2022-04-29T12:17:44.005Z"
   },
   {
    "duration": 528,
    "start_time": "2022-04-29T12:17:44.020Z"
   },
   {
    "duration": 14,
    "start_time": "2022-04-29T12:17:44.550Z"
   },
   {
    "duration": 35,
    "start_time": "2022-04-29T12:17:44.566Z"
   },
   {
    "duration": 4,
    "start_time": "2022-04-29T13:31:39.640Z"
   },
   {
    "duration": 1296,
    "start_time": "2022-04-29T13:31:39.647Z"
   },
   {
    "duration": 124,
    "start_time": "2022-04-29T13:31:40.946Z"
   },
   {
    "duration": 23,
    "start_time": "2022-04-29T13:31:41.072Z"
   },
   {
    "duration": 26,
    "start_time": "2022-04-29T13:31:41.098Z"
   },
   {
    "duration": 34,
    "start_time": "2022-04-29T13:31:41.134Z"
   },
   {
    "duration": 12,
    "start_time": "2022-04-29T13:31:41.170Z"
   },
   {
    "duration": 52,
    "start_time": "2022-04-29T13:31:41.184Z"
   },
   {
    "duration": 4,
    "start_time": "2022-04-29T13:31:41.238Z"
   },
   {
    "duration": 16,
    "start_time": "2022-04-29T13:31:41.244Z"
   },
   {
    "duration": 7,
    "start_time": "2022-04-29T13:31:41.264Z"
   },
   {
    "duration": 10,
    "start_time": "2022-04-29T13:31:41.274Z"
   },
   {
    "duration": 14,
    "start_time": "2022-04-29T13:31:41.287Z"
   },
   {
    "duration": 35,
    "start_time": "2022-04-29T13:31:41.303Z"
   },
   {
    "duration": 9,
    "start_time": "2022-04-29T13:31:41.340Z"
   },
   {
    "duration": 7,
    "start_time": "2022-04-29T13:31:41.351Z"
   },
   {
    "duration": 9,
    "start_time": "2022-04-29T13:31:41.360Z"
   },
   {
    "duration": 14,
    "start_time": "2022-04-29T13:31:41.370Z"
   },
   {
    "duration": 9,
    "start_time": "2022-04-29T13:31:41.386Z"
   },
   {
    "duration": 43,
    "start_time": "2022-04-29T13:31:41.397Z"
   },
   {
    "duration": 225,
    "start_time": "2022-04-29T13:31:41.442Z"
   },
   {
    "duration": 355,
    "start_time": "2022-04-29T13:31:41.668Z"
   },
   {
    "duration": 17,
    "start_time": "2022-04-29T13:31:42.024Z"
   },
   {
    "duration": 3,
    "start_time": "2022-04-29T13:31:42.042Z"
   },
   {
    "duration": 1339,
    "start_time": "2022-04-29T13:31:42.047Z"
   },
   {
    "duration": 2,
    "start_time": "2022-04-29T13:31:43.388Z"
   },
   {
    "duration": 408,
    "start_time": "2022-04-29T13:31:43.392Z"
   },
   {
    "duration": 5,
    "start_time": "2022-04-29T13:31:43.802Z"
   },
   {
    "duration": 135,
    "start_time": "2022-04-29T13:31:43.811Z"
   },
   {
    "duration": 245,
    "start_time": "2022-04-29T13:31:43.948Z"
   },
   {
    "duration": 20,
    "start_time": "2022-04-29T13:31:44.194Z"
   },
   {
    "duration": 18,
    "start_time": "2022-04-29T13:31:44.215Z"
   },
   {
    "duration": 160,
    "start_time": "2022-04-29T13:31:44.235Z"
   },
   {
    "duration": 6,
    "start_time": "2022-04-29T13:31:44.396Z"
   },
   {
    "duration": 190,
    "start_time": "2022-04-29T13:31:44.403Z"
   },
   {
    "duration": 3,
    "start_time": "2022-04-29T13:31:44.595Z"
   },
   {
    "duration": 12,
    "start_time": "2022-04-29T13:31:44.599Z"
   },
   {
    "duration": 1781,
    "start_time": "2022-04-29T13:31:44.613Z"
   },
   {
    "duration": 3,
    "start_time": "2022-04-29T13:31:46.396Z"
   },
   {
    "duration": 42,
    "start_time": "2022-04-29T13:31:46.401Z"
   },
   {
    "duration": 274,
    "start_time": "2022-04-29T13:31:46.444Z"
   },
   {
    "duration": 5,
    "start_time": "2022-04-29T13:31:46.720Z"
   },
   {
    "duration": 384,
    "start_time": "2022-04-29T13:31:46.727Z"
   },
   {
    "duration": 400,
    "start_time": "2022-04-29T13:31:47.112Z"
   },
   {
    "duration": 20,
    "start_time": "2022-04-29T13:31:47.514Z"
   },
   {
    "duration": 379,
    "start_time": "2022-04-29T13:31:47.536Z"
   },
   {
    "duration": 16,
    "start_time": "2022-04-29T13:31:47.917Z"
   },
   {
    "duration": 11,
    "start_time": "2022-04-29T13:31:47.935Z"
   },
   {
    "duration": 197,
    "start_time": "2022-04-29T13:39:47.195Z"
   },
   {
    "duration": 166,
    "start_time": "2022-04-29T14:26:35.094Z"
   },
   {
    "duration": 6,
    "start_time": "2022-04-29T14:39:23.556Z"
   },
   {
    "duration": 5,
    "start_time": "2022-04-29T14:39:37.654Z"
   },
   {
    "duration": 4,
    "start_time": "2022-04-29T14:40:02.460Z"
   },
   {
    "duration": 1299,
    "start_time": "2022-04-30T06:11:36.009Z"
   },
   {
    "duration": 97,
    "start_time": "2022-04-30T06:11:37.310Z"
   },
   {
    "duration": 16,
    "start_time": "2022-04-30T06:11:37.409Z"
   },
   {
    "duration": 24,
    "start_time": "2022-04-30T06:11:37.427Z"
   },
   {
    "duration": 38,
    "start_time": "2022-04-30T06:11:37.453Z"
   },
   {
    "duration": 9,
    "start_time": "2022-04-30T06:11:37.493Z"
   },
   {
    "duration": 20,
    "start_time": "2022-04-30T06:11:37.504Z"
   },
   {
    "duration": 5,
    "start_time": "2022-04-30T06:11:37.526Z"
   },
   {
    "duration": 1900,
    "start_time": "2022-04-30T06:11:37.533Z"
   },
   {
    "duration": 0,
    "start_time": "2022-04-30T06:11:39.436Z"
   },
   {
    "duration": 0,
    "start_time": "2022-04-30T06:11:39.437Z"
   },
   {
    "duration": 0,
    "start_time": "2022-04-30T06:11:39.438Z"
   },
   {
    "duration": 0,
    "start_time": "2022-04-30T06:11:39.439Z"
   },
   {
    "duration": 0,
    "start_time": "2022-04-30T06:11:39.440Z"
   },
   {
    "duration": 0,
    "start_time": "2022-04-30T06:11:39.441Z"
   },
   {
    "duration": 0,
    "start_time": "2022-04-30T06:11:39.442Z"
   },
   {
    "duration": 0,
    "start_time": "2022-04-30T06:11:39.443Z"
   },
   {
    "duration": 0,
    "start_time": "2022-04-30T06:11:39.444Z"
   },
   {
    "duration": 0,
    "start_time": "2022-04-30T06:11:39.445Z"
   },
   {
    "duration": 0,
    "start_time": "2022-04-30T06:11:39.446Z"
   },
   {
    "duration": 0,
    "start_time": "2022-04-30T06:11:39.447Z"
   },
   {
    "duration": 0,
    "start_time": "2022-04-30T06:11:39.447Z"
   },
   {
    "duration": 0,
    "start_time": "2022-04-30T06:11:39.448Z"
   },
   {
    "duration": 0,
    "start_time": "2022-04-30T06:11:39.449Z"
   },
   {
    "duration": 0,
    "start_time": "2022-04-30T06:11:39.450Z"
   },
   {
    "duration": 0,
    "start_time": "2022-04-30T06:11:39.451Z"
   },
   {
    "duration": 0,
    "start_time": "2022-04-30T06:11:39.452Z"
   },
   {
    "duration": 0,
    "start_time": "2022-04-30T06:11:39.453Z"
   },
   {
    "duration": 0,
    "start_time": "2022-04-30T06:11:39.454Z"
   },
   {
    "duration": 0,
    "start_time": "2022-04-30T06:11:39.455Z"
   },
   {
    "duration": 0,
    "start_time": "2022-04-30T06:11:39.456Z"
   },
   {
    "duration": 0,
    "start_time": "2022-04-30T06:11:39.457Z"
   },
   {
    "duration": 0,
    "start_time": "2022-04-30T06:11:39.458Z"
   },
   {
    "duration": 0,
    "start_time": "2022-04-30T06:11:39.459Z"
   },
   {
    "duration": 0,
    "start_time": "2022-04-30T06:11:39.460Z"
   },
   {
    "duration": 0,
    "start_time": "2022-04-30T06:11:39.461Z"
   },
   {
    "duration": 0,
    "start_time": "2022-04-30T06:11:39.462Z"
   },
   {
    "duration": 0,
    "start_time": "2022-04-30T06:11:39.462Z"
   },
   {
    "duration": 0,
    "start_time": "2022-04-30T06:11:39.463Z"
   },
   {
    "duration": 0,
    "start_time": "2022-04-30T06:11:39.464Z"
   },
   {
    "duration": 0,
    "start_time": "2022-04-30T06:11:39.465Z"
   },
   {
    "duration": 0,
    "start_time": "2022-04-30T06:11:39.466Z"
   },
   {
    "duration": 0,
    "start_time": "2022-04-30T06:11:39.467Z"
   },
   {
    "duration": 0,
    "start_time": "2022-04-30T06:11:39.468Z"
   },
   {
    "duration": 0,
    "start_time": "2022-04-30T06:11:39.469Z"
   },
   {
    "duration": 0,
    "start_time": "2022-04-30T06:11:39.469Z"
   },
   {
    "duration": 0,
    "start_time": "2022-04-30T06:11:39.470Z"
   },
   {
    "duration": 0,
    "start_time": "2022-04-30T06:11:39.473Z"
   },
   {
    "duration": 1169,
    "start_time": "2022-04-30T06:12:21.164Z"
   },
   {
    "duration": 87,
    "start_time": "2022-04-30T06:12:22.335Z"
   },
   {
    "duration": 16,
    "start_time": "2022-04-30T06:12:22.424Z"
   },
   {
    "duration": 22,
    "start_time": "2022-04-30T06:12:22.442Z"
   },
   {
    "duration": 29,
    "start_time": "2022-04-30T06:12:22.466Z"
   },
   {
    "duration": 9,
    "start_time": "2022-04-30T06:12:22.496Z"
   },
   {
    "duration": 20,
    "start_time": "2022-04-30T06:12:22.507Z"
   },
   {
    "duration": 3,
    "start_time": "2022-04-30T06:12:22.529Z"
   },
   {
    "duration": 15,
    "start_time": "2022-04-30T06:12:22.533Z"
   },
   {
    "duration": 1968,
    "start_time": "2022-04-30T06:12:22.550Z"
   },
   {
    "duration": 0,
    "start_time": "2022-04-30T06:12:24.521Z"
   },
   {
    "duration": 0,
    "start_time": "2022-04-30T06:12:24.523Z"
   },
   {
    "duration": 0,
    "start_time": "2022-04-30T06:12:24.524Z"
   },
   {
    "duration": 0,
    "start_time": "2022-04-30T06:12:24.525Z"
   },
   {
    "duration": 0,
    "start_time": "2022-04-30T06:12:24.526Z"
   },
   {
    "duration": 0,
    "start_time": "2022-04-30T06:12:24.527Z"
   },
   {
    "duration": 0,
    "start_time": "2022-04-30T06:12:24.528Z"
   },
   {
    "duration": 0,
    "start_time": "2022-04-30T06:12:24.530Z"
   },
   {
    "duration": 0,
    "start_time": "2022-04-30T06:12:24.531Z"
   },
   {
    "duration": 0,
    "start_time": "2022-04-30T06:12:24.532Z"
   },
   {
    "duration": 1,
    "start_time": "2022-04-30T06:12:24.532Z"
   },
   {
    "duration": 0,
    "start_time": "2022-04-30T06:12:24.534Z"
   },
   {
    "duration": 0,
    "start_time": "2022-04-30T06:12:24.535Z"
   },
   {
    "duration": 0,
    "start_time": "2022-04-30T06:12:24.536Z"
   },
   {
    "duration": 0,
    "start_time": "2022-04-30T06:12:24.536Z"
   },
   {
    "duration": 0,
    "start_time": "2022-04-30T06:12:24.537Z"
   },
   {
    "duration": 0,
    "start_time": "2022-04-30T06:12:24.539Z"
   },
   {
    "duration": 0,
    "start_time": "2022-04-30T06:12:24.539Z"
   },
   {
    "duration": 0,
    "start_time": "2022-04-30T06:12:24.541Z"
   },
   {
    "duration": 0,
    "start_time": "2022-04-30T06:12:24.542Z"
   },
   {
    "duration": 0,
    "start_time": "2022-04-30T06:12:24.543Z"
   },
   {
    "duration": 0,
    "start_time": "2022-04-30T06:12:24.544Z"
   },
   {
    "duration": 0,
    "start_time": "2022-04-30T06:12:24.545Z"
   },
   {
    "duration": 0,
    "start_time": "2022-04-30T06:12:24.546Z"
   },
   {
    "duration": 0,
    "start_time": "2022-04-30T06:12:24.547Z"
   },
   {
    "duration": 0,
    "start_time": "2022-04-30T06:12:24.548Z"
   },
   {
    "duration": 0,
    "start_time": "2022-04-30T06:12:24.549Z"
   },
   {
    "duration": 0,
    "start_time": "2022-04-30T06:12:24.550Z"
   },
   {
    "duration": 0,
    "start_time": "2022-04-30T06:12:24.551Z"
   },
   {
    "duration": 0,
    "start_time": "2022-04-30T06:12:24.552Z"
   },
   {
    "duration": 0,
    "start_time": "2022-04-30T06:12:24.553Z"
   },
   {
    "duration": 0,
    "start_time": "2022-04-30T06:12:24.554Z"
   },
   {
    "duration": 0,
    "start_time": "2022-04-30T06:12:24.555Z"
   },
   {
    "duration": 0,
    "start_time": "2022-04-30T06:12:24.556Z"
   },
   {
    "duration": 0,
    "start_time": "2022-04-30T06:12:24.557Z"
   },
   {
    "duration": 0,
    "start_time": "2022-04-30T06:12:24.558Z"
   },
   {
    "duration": 0,
    "start_time": "2022-04-30T06:12:24.573Z"
   },
   {
    "duration": 0,
    "start_time": "2022-04-30T06:12:24.574Z"
   },
   {
    "duration": 0,
    "start_time": "2022-04-30T06:12:24.575Z"
   },
   {
    "duration": 5,
    "start_time": "2022-04-30T06:12:36.605Z"
   },
   {
    "duration": 5,
    "start_time": "2022-04-30T06:13:10.135Z"
   },
   {
    "duration": 6,
    "start_time": "2022-04-30T06:13:21.149Z"
   },
   {
    "duration": 33,
    "start_time": "2022-04-30T06:14:27.774Z"
   },
   {
    "duration": 9,
    "start_time": "2022-04-30T06:15:12.984Z"
   },
   {
    "duration": 5,
    "start_time": "2022-04-30T06:15:14.316Z"
   },
   {
    "duration": 16,
    "start_time": "2022-04-30T06:16:06.679Z"
   },
   {
    "duration": 6,
    "start_time": "2022-04-30T06:17:29.736Z"
   },
   {
    "duration": 5,
    "start_time": "2022-04-30T06:17:34.146Z"
   },
   {
    "duration": 9,
    "start_time": "2022-04-30T06:20:11.210Z"
   },
   {
    "duration": 5,
    "start_time": "2022-04-30T06:20:12.393Z"
   },
   {
    "duration": 5,
    "start_time": "2022-04-30T06:20:26.690Z"
   },
   {
    "duration": 9,
    "start_time": "2022-04-30T06:23:24.089Z"
   },
   {
    "duration": 10,
    "start_time": "2022-04-30T06:24:26.373Z"
   },
   {
    "duration": 4,
    "start_time": "2022-04-30T06:24:27.021Z"
   },
   {
    "duration": 6,
    "start_time": "2022-04-30T06:25:05.952Z"
   },
   {
    "duration": 6,
    "start_time": "2022-04-30T06:25:09.112Z"
   },
   {
    "duration": 7,
    "start_time": "2022-04-30T06:25:12.720Z"
   },
   {
    "duration": 7,
    "start_time": "2022-04-30T06:40:57.711Z"
   },
   {
    "duration": 1097,
    "start_time": "2022-04-30T06:46:53.814Z"
   },
   {
    "duration": 96,
    "start_time": "2022-04-30T06:46:54.913Z"
   },
   {
    "duration": 14,
    "start_time": "2022-04-30T06:46:55.011Z"
   },
   {
    "duration": 17,
    "start_time": "2022-04-30T06:46:55.027Z"
   },
   {
    "duration": 36,
    "start_time": "2022-04-30T06:46:55.046Z"
   },
   {
    "duration": 9,
    "start_time": "2022-04-30T06:46:55.084Z"
   },
   {
    "duration": 21,
    "start_time": "2022-04-30T06:46:55.094Z"
   },
   {
    "duration": 3,
    "start_time": "2022-04-30T06:46:55.117Z"
   },
   {
    "duration": 14,
    "start_time": "2022-04-30T06:46:55.121Z"
   },
   {
    "duration": 9,
    "start_time": "2022-04-30T06:46:55.138Z"
   },
   {
    "duration": 26,
    "start_time": "2022-04-30T06:46:55.148Z"
   },
   {
    "duration": 7,
    "start_time": "2022-04-30T06:46:55.176Z"
   },
   {
    "duration": 12,
    "start_time": "2022-04-30T06:46:55.184Z"
   },
   {
    "duration": 5,
    "start_time": "2022-04-30T06:46:55.197Z"
   },
   {
    "duration": 6,
    "start_time": "2022-04-30T06:46:55.203Z"
   },
   {
    "duration": 10,
    "start_time": "2022-04-30T06:46:55.210Z"
   },
   {
    "duration": 9,
    "start_time": "2022-04-30T06:46:55.221Z"
   },
   {
    "duration": 5,
    "start_time": "2022-04-30T06:46:55.231Z"
   },
   {
    "duration": 46,
    "start_time": "2022-04-30T06:46:55.237Z"
   },
   {
    "duration": 194,
    "start_time": "2022-04-30T06:46:55.285Z"
   },
   {
    "duration": 301,
    "start_time": "2022-04-30T06:46:55.481Z"
   },
   {
    "duration": 10,
    "start_time": "2022-04-30T06:46:55.784Z"
   },
   {
    "duration": 1154,
    "start_time": "2022-04-30T06:46:55.796Z"
   },
   {
    "duration": 385,
    "start_time": "2022-04-30T06:46:56.951Z"
   },
   {
    "duration": 6,
    "start_time": "2022-04-30T06:46:57.337Z"
   },
   {
    "duration": 119,
    "start_time": "2022-04-30T06:46:57.345Z"
   },
   {
    "duration": 212,
    "start_time": "2022-04-30T06:46:57.466Z"
   },
   {
    "duration": 20,
    "start_time": "2022-04-30T06:46:57.681Z"
   },
   {
    "duration": 4,
    "start_time": "2022-04-30T06:46:57.703Z"
   },
   {
    "duration": 167,
    "start_time": "2022-04-30T06:46:57.709Z"
   },
   {
    "duration": 6,
    "start_time": "2022-04-30T06:46:57.877Z"
   },
   {
    "duration": 146,
    "start_time": "2022-04-30T06:46:57.884Z"
   },
   {
    "duration": 8,
    "start_time": "2022-04-30T06:46:58.032Z"
   },
   {
    "duration": 1505,
    "start_time": "2022-04-30T06:46:58.041Z"
   },
   {
    "duration": 33,
    "start_time": "2022-04-30T06:46:59.548Z"
   },
   {
    "duration": 229,
    "start_time": "2022-04-30T06:46:59.583Z"
   },
   {
    "duration": 5,
    "start_time": "2022-04-30T06:46:59.813Z"
   },
   {
    "duration": 347,
    "start_time": "2022-04-30T06:46:59.820Z"
   },
   {
    "duration": 331,
    "start_time": "2022-04-30T06:47:00.173Z"
   },
   {
    "duration": 9,
    "start_time": "2022-04-30T06:47:00.506Z"
   },
   {
    "duration": 358,
    "start_time": "2022-04-30T06:47:00.517Z"
   },
   {
    "duration": 10,
    "start_time": "2022-04-30T06:47:00.877Z"
   },
   {
    "duration": 22,
    "start_time": "2022-04-30T06:47:00.889Z"
   },
   {
    "duration": 21,
    "start_time": "2022-04-30T06:47:00.913Z"
   },
   {
    "duration": 11,
    "start_time": "2022-04-30T06:55:38.122Z"
   },
   {
    "duration": 256,
    "start_time": "2022-04-30T06:56:51.691Z"
   },
   {
    "duration": 6,
    "start_time": "2022-04-30T06:58:54.680Z"
   },
   {
    "duration": 253,
    "start_time": "2022-04-30T06:58:55.818Z"
   },
   {
    "duration": 259,
    "start_time": "2022-04-30T07:02:33.644Z"
   },
   {
    "duration": 193,
    "start_time": "2022-04-30T07:02:38.172Z"
   },
   {
    "duration": 18,
    "start_time": "2022-04-30T07:05:28.332Z"
   },
   {
    "duration": 5,
    "start_time": "2022-04-30T07:05:33.120Z"
   },
   {
    "duration": 5,
    "start_time": "2022-04-30T07:05:49.480Z"
   },
   {
    "duration": 6,
    "start_time": "2022-04-30T07:06:13.867Z"
   },
   {
    "duration": 6,
    "start_time": "2022-04-30T07:06:28.181Z"
   },
   {
    "duration": 178,
    "start_time": "2022-04-30T07:06:53.359Z"
   },
   {
    "duration": 5,
    "start_time": "2022-04-30T07:07:20.081Z"
   },
   {
    "duration": 152,
    "start_time": "2022-04-30T07:07:28.714Z"
   },
   {
    "duration": 7,
    "start_time": "2022-04-30T07:08:33.282Z"
   },
   {
    "duration": 1301,
    "start_time": "2022-04-30T07:08:34.150Z"
   },
   {
    "duration": 1356,
    "start_time": "2022-04-30T07:09:04.959Z"
   },
   {
    "duration": 1218,
    "start_time": "2022-04-30T07:09:16.085Z"
   },
   {
    "duration": 1377,
    "start_time": "2022-04-30T07:09:43.324Z"
   },
   {
    "duration": 1273,
    "start_time": "2022-04-30T07:24:27.568Z"
   },
   {
    "duration": 1290,
    "start_time": "2022-04-30T07:24:37.687Z"
   },
   {
    "duration": 1328,
    "start_time": "2022-04-30T07:24:44.782Z"
   },
   {
    "duration": 1163,
    "start_time": "2022-04-30T07:25:47.879Z"
   },
   {
    "duration": 14,
    "start_time": "2022-04-30T07:27:57.401Z"
   },
   {
    "duration": 24,
    "start_time": "2022-04-30T07:28:21.488Z"
   },
   {
    "duration": 373,
    "start_time": "2022-04-30T07:28:28.002Z"
   },
   {
    "duration": 229,
    "start_time": "2022-04-30T07:29:15.210Z"
   },
   {
    "duration": 4,
    "start_time": "2022-04-30T07:36:28.530Z"
   },
   {
    "duration": 345,
    "start_time": "2022-04-30T07:36:29.866Z"
   },
   {
    "duration": 418,
    "start_time": "2022-04-30T07:36:50.410Z"
   },
   {
    "duration": 8,
    "start_time": "2022-04-30T07:37:23.735Z"
   },
   {
    "duration": 337,
    "start_time": "2022-04-30T07:38:38.208Z"
   },
   {
    "duration": 6,
    "start_time": "2022-04-30T07:39:14.455Z"
   },
   {
    "duration": 1208,
    "start_time": "2022-05-03T08:05:41.016Z"
   },
   {
    "duration": 172,
    "start_time": "2022-05-03T08:05:42.226Z"
   },
   {
    "duration": 17,
    "start_time": "2022-05-03T08:05:42.400Z"
   },
   {
    "duration": 19,
    "start_time": "2022-05-03T08:05:42.419Z"
   },
   {
    "duration": 31,
    "start_time": "2022-05-03T08:05:42.440Z"
   },
   {
    "duration": 10,
    "start_time": "2022-05-03T08:05:42.473Z"
   },
   {
    "duration": 18,
    "start_time": "2022-05-03T08:05:42.485Z"
   },
   {
    "duration": 29,
    "start_time": "2022-05-03T08:05:42.505Z"
   },
   {
    "duration": 11,
    "start_time": "2022-05-03T08:05:42.536Z"
   },
   {
    "duration": 5,
    "start_time": "2022-05-03T08:05:42.551Z"
   },
   {
    "duration": 8,
    "start_time": "2022-05-03T08:05:42.558Z"
   },
   {
    "duration": 9,
    "start_time": "2022-05-03T08:05:42.567Z"
   },
   {
    "duration": 13,
    "start_time": "2022-05-03T08:05:42.578Z"
   },
   {
    "duration": 6,
    "start_time": "2022-05-03T08:05:42.592Z"
   },
   {
    "duration": 6,
    "start_time": "2022-05-03T08:05:42.634Z"
   },
   {
    "duration": 8,
    "start_time": "2022-05-03T08:05:42.641Z"
   },
   {
    "duration": 10,
    "start_time": "2022-05-03T08:05:42.651Z"
   },
   {
    "duration": 5,
    "start_time": "2022-05-03T08:05:42.663Z"
   },
   {
    "duration": 14,
    "start_time": "2022-05-03T08:05:42.669Z"
   },
   {
    "duration": 230,
    "start_time": "2022-05-03T08:05:42.684Z"
   },
   {
    "duration": 325,
    "start_time": "2022-05-03T08:05:42.916Z"
   },
   {
    "duration": 12,
    "start_time": "2022-05-03T08:05:43.242Z"
   },
   {
    "duration": 1238,
    "start_time": "2022-05-03T08:05:43.255Z"
   },
   {
    "duration": 6,
    "start_time": "2022-05-03T08:05:44.495Z"
   },
   {
    "duration": 368,
    "start_time": "2022-05-03T08:05:44.502Z"
   },
   {
    "duration": 122,
    "start_time": "2022-05-03T08:05:44.871Z"
   },
   {
    "duration": 225,
    "start_time": "2022-05-03T08:05:44.995Z"
   },
   {
    "duration": 22,
    "start_time": "2022-05-03T08:05:45.223Z"
   },
   {
    "duration": 5,
    "start_time": "2022-05-03T08:05:45.246Z"
   },
   {
    "duration": 181,
    "start_time": "2022-05-03T08:05:45.253Z"
   },
   {
    "duration": 5,
    "start_time": "2022-05-03T08:05:45.436Z"
   },
   {
    "duration": 179,
    "start_time": "2022-05-03T08:05:45.443Z"
   },
   {
    "duration": 14,
    "start_time": "2022-05-03T08:05:45.624Z"
   },
   {
    "duration": 962,
    "start_time": "2022-05-03T08:05:45.639Z"
   },
   {
    "duration": 0,
    "start_time": "2022-05-03T08:05:46.603Z"
   },
   {
    "duration": 0,
    "start_time": "2022-05-03T08:05:46.604Z"
   },
   {
    "duration": 0,
    "start_time": "2022-05-03T08:05:46.605Z"
   },
   {
    "duration": 0,
    "start_time": "2022-05-03T08:05:46.606Z"
   },
   {
    "duration": 0,
    "start_time": "2022-05-03T08:05:46.608Z"
   },
   {
    "duration": 1,
    "start_time": "2022-05-03T08:05:46.608Z"
   },
   {
    "duration": 0,
    "start_time": "2022-05-03T08:05:46.610Z"
   },
   {
    "duration": 1,
    "start_time": "2022-05-03T08:05:46.610Z"
   },
   {
    "duration": 253,
    "start_time": "2022-05-03T08:09:11.495Z"
   },
   {
    "duration": 8,
    "start_time": "2022-05-03T08:09:29.700Z"
   },
   {
    "duration": 46,
    "start_time": "2022-05-03T08:11:23.041Z"
   },
   {
    "duration": 33,
    "start_time": "2022-05-03T08:12:30.713Z"
   },
   {
    "duration": 40,
    "start_time": "2022-05-03T08:12:55.476Z"
   },
   {
    "duration": 16,
    "start_time": "2022-05-03T08:13:54.433Z"
   },
   {
    "duration": 15,
    "start_time": "2022-05-03T08:15:46.438Z"
   },
   {
    "duration": 1224,
    "start_time": "2022-05-03T08:17:09.492Z"
   },
   {
    "duration": 131,
    "start_time": "2022-05-03T08:17:10.718Z"
   },
   {
    "duration": 17,
    "start_time": "2022-05-03T08:17:10.851Z"
   },
   {
    "duration": 19,
    "start_time": "2022-05-03T08:17:10.870Z"
   },
   {
    "duration": 56,
    "start_time": "2022-05-03T08:17:10.890Z"
   },
   {
    "duration": 9,
    "start_time": "2022-05-03T08:17:10.948Z"
   },
   {
    "duration": 18,
    "start_time": "2022-05-03T08:17:10.959Z"
   },
   {
    "duration": 3,
    "start_time": "2022-05-03T08:17:10.980Z"
   },
   {
    "duration": 15,
    "start_time": "2022-05-03T08:17:10.985Z"
   },
   {
    "duration": 31,
    "start_time": "2022-05-03T08:17:11.004Z"
   },
   {
    "duration": 5,
    "start_time": "2022-05-03T08:17:11.037Z"
   },
   {
    "duration": 14,
    "start_time": "2022-05-03T08:17:11.044Z"
   },
   {
    "duration": 18,
    "start_time": "2022-05-03T08:17:11.059Z"
   },
   {
    "duration": 9,
    "start_time": "2022-05-03T08:17:11.079Z"
   },
   {
    "duration": 7,
    "start_time": "2022-05-03T08:17:11.090Z"
   },
   {
    "duration": 7,
    "start_time": "2022-05-03T08:17:11.099Z"
   },
   {
    "duration": 28,
    "start_time": "2022-05-03T08:17:11.108Z"
   },
   {
    "duration": 6,
    "start_time": "2022-05-03T08:17:11.138Z"
   },
   {
    "duration": 17,
    "start_time": "2022-05-03T08:17:11.145Z"
   },
   {
    "duration": 214,
    "start_time": "2022-05-03T08:17:11.164Z"
   },
   {
    "duration": 329,
    "start_time": "2022-05-03T08:17:11.379Z"
   },
   {
    "duration": 12,
    "start_time": "2022-05-03T08:17:11.709Z"
   },
   {
    "duration": 1212,
    "start_time": "2022-05-03T08:17:11.733Z"
   },
   {
    "duration": 6,
    "start_time": "2022-05-03T08:17:12.947Z"
   },
   {
    "duration": 365,
    "start_time": "2022-05-03T08:17:12.955Z"
   },
   {
    "duration": 119,
    "start_time": "2022-05-03T08:17:13.321Z"
   },
   {
    "duration": 211,
    "start_time": "2022-05-03T08:17:13.442Z"
   },
   {
    "duration": 17,
    "start_time": "2022-05-03T08:17:13.656Z"
   },
   {
    "duration": 15,
    "start_time": "2022-05-03T08:17:13.675Z"
   },
   {
    "duration": 5,
    "start_time": "2022-05-03T08:17:13.692Z"
   },
   {
    "duration": 189,
    "start_time": "2022-05-03T08:17:13.698Z"
   },
   {
    "duration": 5,
    "start_time": "2022-05-03T08:17:13.889Z"
   },
   {
    "duration": 177,
    "start_time": "2022-05-03T08:17:13.896Z"
   },
   {
    "duration": 7,
    "start_time": "2022-05-03T08:17:14.075Z"
   },
   {
    "duration": 894,
    "start_time": "2022-05-03T08:17:14.084Z"
   },
   {
    "duration": 0,
    "start_time": "2022-05-03T08:17:14.980Z"
   },
   {
    "duration": 0,
    "start_time": "2022-05-03T08:17:14.982Z"
   },
   {
    "duration": 0,
    "start_time": "2022-05-03T08:17:14.983Z"
   },
   {
    "duration": 0,
    "start_time": "2022-05-03T08:17:14.984Z"
   },
   {
    "duration": 0,
    "start_time": "2022-05-03T08:17:14.986Z"
   },
   {
    "duration": 0,
    "start_time": "2022-05-03T08:17:14.986Z"
   },
   {
    "duration": 0,
    "start_time": "2022-05-03T08:17:14.988Z"
   },
   {
    "duration": 0,
    "start_time": "2022-05-03T08:17:14.989Z"
   },
   {
    "duration": 1148,
    "start_time": "2022-05-03T08:17:53.635Z"
   },
   {
    "duration": 35,
    "start_time": "2022-05-03T08:19:42.226Z"
   },
   {
    "duration": 269,
    "start_time": "2022-05-03T08:19:43.312Z"
   },
   {
    "duration": 29,
    "start_time": "2022-05-03T08:22:01.234Z"
   },
   {
    "duration": 33,
    "start_time": "2022-05-03T08:22:20.425Z"
   },
   {
    "duration": 4,
    "start_time": "2022-05-03T08:25:08.791Z"
   },
   {
    "duration": 362,
    "start_time": "2022-05-03T08:25:10.326Z"
   },
   {
    "duration": 418,
    "start_time": "2022-05-03T08:25:59.052Z"
   },
   {
    "duration": 378,
    "start_time": "2022-05-03T08:26:13.722Z"
   },
   {
    "duration": 12,
    "start_time": "2022-05-03T08:26:32.630Z"
   },
   {
    "duration": 14,
    "start_time": "2022-05-03T08:26:44.800Z"
   },
   {
    "duration": 6,
    "start_time": "2022-05-03T08:27:56.426Z"
   },
   {
    "duration": 5,
    "start_time": "2022-05-03T08:28:07.191Z"
   },
   {
    "duration": 14,
    "start_time": "2022-05-03T08:31:17.165Z"
   },
   {
    "duration": 12,
    "start_time": "2022-05-03T08:31:33.226Z"
   },
   {
    "duration": 17,
    "start_time": "2022-05-03T08:32:21.505Z"
   },
   {
    "duration": 25,
    "start_time": "2022-05-03T08:32:46.101Z"
   },
   {
    "duration": 19,
    "start_time": "2022-05-03T08:33:13.009Z"
   },
   {
    "duration": 17,
    "start_time": "2022-05-03T08:33:31.283Z"
   },
   {
    "duration": 6,
    "start_time": "2022-05-03T08:33:54.415Z"
   },
   {
    "duration": 217,
    "start_time": "2022-05-03T08:37:37.332Z"
   },
   {
    "duration": 1627,
    "start_time": "2022-05-03T08:42:49.840Z"
   },
   {
    "duration": 126,
    "start_time": "2022-05-03T08:42:51.469Z"
   },
   {
    "duration": 18,
    "start_time": "2022-05-03T08:42:51.596Z"
   },
   {
    "duration": 28,
    "start_time": "2022-05-03T08:42:51.616Z"
   },
   {
    "duration": 29,
    "start_time": "2022-05-03T08:42:51.646Z"
   },
   {
    "duration": 8,
    "start_time": "2022-05-03T08:42:51.677Z"
   },
   {
    "duration": 16,
    "start_time": "2022-05-03T08:42:51.687Z"
   },
   {
    "duration": 19,
    "start_time": "2022-05-03T08:42:51.705Z"
   },
   {
    "duration": 14,
    "start_time": "2022-05-03T08:42:51.726Z"
   },
   {
    "duration": 7,
    "start_time": "2022-05-03T08:42:51.742Z"
   },
   {
    "duration": 7,
    "start_time": "2022-05-03T08:42:51.750Z"
   },
   {
    "duration": 9,
    "start_time": "2022-05-03T08:42:51.758Z"
   },
   {
    "duration": 11,
    "start_time": "2022-05-03T08:42:51.768Z"
   },
   {
    "duration": 43,
    "start_time": "2022-05-03T08:42:51.781Z"
   },
   {
    "duration": 7,
    "start_time": "2022-05-03T08:42:51.826Z"
   },
   {
    "duration": 10,
    "start_time": "2022-05-03T08:42:51.835Z"
   },
   {
    "duration": 17,
    "start_time": "2022-05-03T08:42:51.848Z"
   },
   {
    "duration": 7,
    "start_time": "2022-05-03T08:42:51.867Z"
   },
   {
    "duration": 18,
    "start_time": "2022-05-03T08:42:51.876Z"
   },
   {
    "duration": 211,
    "start_time": "2022-05-03T08:42:51.896Z"
   },
   {
    "duration": 407,
    "start_time": "2022-05-03T08:42:52.109Z"
   },
   {
    "duration": 15,
    "start_time": "2022-05-03T08:42:52.524Z"
   },
   {
    "duration": 1295,
    "start_time": "2022-05-03T08:42:52.541Z"
   },
   {
    "duration": 6,
    "start_time": "2022-05-03T08:42:53.838Z"
   },
   {
    "duration": 472,
    "start_time": "2022-05-03T08:42:53.846Z"
   },
   {
    "duration": 157,
    "start_time": "2022-05-03T08:42:54.320Z"
   },
   {
    "duration": 406,
    "start_time": "2022-05-03T08:42:54.480Z"
   },
   {
    "duration": 41,
    "start_time": "2022-05-03T08:42:54.891Z"
   },
   {
    "duration": 21,
    "start_time": "2022-05-03T08:42:54.934Z"
   },
   {
    "duration": 6,
    "start_time": "2022-05-03T08:42:54.957Z"
   },
   {
    "duration": 175,
    "start_time": "2022-05-03T08:42:54.965Z"
   },
   {
    "duration": 5,
    "start_time": "2022-05-03T08:42:55.142Z"
   },
   {
    "duration": 166,
    "start_time": "2022-05-03T08:42:55.149Z"
   },
   {
    "duration": 11,
    "start_time": "2022-05-03T08:42:55.316Z"
   },
   {
    "duration": 1118,
    "start_time": "2022-05-03T08:42:55.328Z"
   },
   {
    "duration": 39,
    "start_time": "2022-05-03T08:42:56.448Z"
   },
   {
    "duration": 512,
    "start_time": "2022-05-03T08:42:56.489Z"
   },
   {
    "duration": 6,
    "start_time": "2022-05-03T08:42:57.004Z"
   },
   {
    "duration": 510,
    "start_time": "2022-05-03T08:42:57.024Z"
   },
   {
    "duration": 562,
    "start_time": "2022-05-03T08:42:57.536Z"
   },
   {
    "duration": 526,
    "start_time": "2022-05-03T08:42:58.100Z"
   },
   {
    "duration": 11,
    "start_time": "2022-05-03T08:42:58.627Z"
   },
   {
    "duration": 18,
    "start_time": "2022-05-03T08:42:58.640Z"
   },
   {
    "duration": 815,
    "start_time": "2022-05-03T08:43:21.982Z"
   },
   {
    "duration": 1271,
    "start_time": "2022-05-03T08:43:52.681Z"
   },
   {
    "duration": 1318,
    "start_time": "2022-05-03T08:44:17.764Z"
   },
   {
    "duration": 90,
    "start_time": "2022-05-03T08:44:19.084Z"
   },
   {
    "duration": 15,
    "start_time": "2022-05-03T08:44:19.176Z"
   },
   {
    "duration": 18,
    "start_time": "2022-05-03T08:44:19.193Z"
   },
   {
    "duration": 28,
    "start_time": "2022-05-03T08:44:19.213Z"
   },
   {
    "duration": 10,
    "start_time": "2022-05-03T08:44:19.243Z"
   },
   {
    "duration": 17,
    "start_time": "2022-05-03T08:44:19.255Z"
   },
   {
    "duration": 4,
    "start_time": "2022-05-03T08:44:19.274Z"
   },
   {
    "duration": 12,
    "start_time": "2022-05-03T08:44:19.280Z"
   },
   {
    "duration": 30,
    "start_time": "2022-05-03T08:44:19.296Z"
   },
   {
    "duration": 9,
    "start_time": "2022-05-03T08:44:19.328Z"
   },
   {
    "duration": 11,
    "start_time": "2022-05-03T08:44:19.339Z"
   },
   {
    "duration": 11,
    "start_time": "2022-05-03T08:44:19.352Z"
   },
   {
    "duration": 5,
    "start_time": "2022-05-03T08:44:19.364Z"
   },
   {
    "duration": 6,
    "start_time": "2022-05-03T08:44:19.371Z"
   },
   {
    "duration": 8,
    "start_time": "2022-05-03T08:44:19.379Z"
   },
   {
    "duration": 41,
    "start_time": "2022-05-03T08:44:19.388Z"
   },
   {
    "duration": 6,
    "start_time": "2022-05-03T08:44:19.431Z"
   },
   {
    "duration": 14,
    "start_time": "2022-05-03T08:44:19.439Z"
   },
   {
    "duration": 210,
    "start_time": "2022-05-03T08:44:19.455Z"
   },
   {
    "duration": 309,
    "start_time": "2022-05-03T08:44:19.667Z"
   },
   {
    "duration": 11,
    "start_time": "2022-05-03T08:44:19.978Z"
   },
   {
    "duration": 1229,
    "start_time": "2022-05-03T08:44:19.991Z"
   },
   {
    "duration": 9,
    "start_time": "2022-05-03T08:44:21.222Z"
   },
   {
    "duration": 592,
    "start_time": "2022-05-03T08:44:21.232Z"
   },
   {
    "duration": 198,
    "start_time": "2022-05-03T08:44:21.826Z"
   },
   {
    "duration": 346,
    "start_time": "2022-05-03T08:44:22.026Z"
   },
   {
    "duration": 22,
    "start_time": "2022-05-03T08:44:22.377Z"
   },
   {
    "duration": 35,
    "start_time": "2022-05-03T08:44:22.401Z"
   },
   {
    "duration": 7,
    "start_time": "2022-05-03T08:44:22.438Z"
   },
   {
    "duration": 199,
    "start_time": "2022-05-03T08:44:22.447Z"
   },
   {
    "duration": 11,
    "start_time": "2022-05-03T08:44:22.648Z"
   },
   {
    "duration": 264,
    "start_time": "2022-05-03T08:44:22.660Z"
   },
   {
    "duration": 11,
    "start_time": "2022-05-03T08:44:22.927Z"
   },
   {
    "duration": 1161,
    "start_time": "2022-05-03T08:44:22.940Z"
   },
   {
    "duration": 32,
    "start_time": "2022-05-03T08:44:24.103Z"
   },
   {
    "duration": 329,
    "start_time": "2022-05-03T08:44:24.136Z"
   },
   {
    "duration": 4,
    "start_time": "2022-05-03T08:44:24.467Z"
   },
   {
    "duration": 334,
    "start_time": "2022-05-03T08:44:24.473Z"
   },
   {
    "duration": 484,
    "start_time": "2022-05-03T08:44:24.808Z"
   },
   {
    "duration": 565,
    "start_time": "2022-05-03T08:44:25.294Z"
   },
   {
    "duration": 12,
    "start_time": "2022-05-03T08:44:25.861Z"
   },
   {
    "duration": 18,
    "start_time": "2022-05-03T08:44:25.875Z"
   },
   {
    "duration": 1068,
    "start_time": "2022-09-07T13:33:26.524Z"
   },
   {
    "duration": 131,
    "start_time": "2022-09-07T13:33:27.594Z"
   },
   {
    "duration": 14,
    "start_time": "2022-09-07T13:33:27.726Z"
   },
   {
    "duration": 15,
    "start_time": "2022-09-07T13:33:27.742Z"
   },
   {
    "duration": 24,
    "start_time": "2022-09-07T13:33:27.759Z"
   },
   {
    "duration": 8,
    "start_time": "2022-09-07T13:33:27.784Z"
   },
   {
    "duration": 24,
    "start_time": "2022-09-07T13:33:27.793Z"
   },
   {
    "duration": 3,
    "start_time": "2022-09-07T13:33:27.819Z"
   },
   {
    "duration": 12,
    "start_time": "2022-09-07T13:33:27.824Z"
   },
   {
    "duration": 14,
    "start_time": "2022-09-07T13:33:27.839Z"
   },
   {
    "duration": 10,
    "start_time": "2022-09-07T13:33:27.854Z"
   },
   {
    "duration": 10,
    "start_time": "2022-09-07T13:33:27.866Z"
   },
   {
    "duration": 19,
    "start_time": "2022-09-07T13:33:27.877Z"
   },
   {
    "duration": 7,
    "start_time": "2022-09-07T13:33:27.897Z"
   },
   {
    "duration": 4,
    "start_time": "2022-09-07T13:33:27.911Z"
   },
   {
    "duration": 12,
    "start_time": "2022-09-07T13:33:27.917Z"
   },
   {
    "duration": 17,
    "start_time": "2022-09-07T13:33:27.930Z"
   },
   {
    "duration": 21,
    "start_time": "2022-09-07T13:33:27.948Z"
   },
   {
    "duration": 16,
    "start_time": "2022-09-07T13:33:27.970Z"
   },
   {
    "duration": 172,
    "start_time": "2022-09-07T13:33:27.988Z"
   },
   {
    "duration": 287,
    "start_time": "2022-09-07T13:33:28.162Z"
   },
   {
    "duration": 11,
    "start_time": "2022-09-07T13:33:28.451Z"
   },
   {
    "duration": 1071,
    "start_time": "2022-09-07T13:33:28.464Z"
   },
   {
    "duration": 5,
    "start_time": "2022-09-07T13:33:29.536Z"
   },
   {
    "duration": 323,
    "start_time": "2022-09-07T13:33:29.543Z"
   },
   {
    "duration": 108,
    "start_time": "2022-09-07T13:33:29.867Z"
   },
   {
    "duration": 200,
    "start_time": "2022-09-07T13:33:29.976Z"
   },
   {
    "duration": 16,
    "start_time": "2022-09-07T13:33:30.179Z"
   },
   {
    "duration": 15,
    "start_time": "2022-09-07T13:33:30.197Z"
   },
   {
    "duration": 161,
    "start_time": "2022-09-07T13:33:30.213Z"
   },
   {
    "duration": 5,
    "start_time": "2022-09-07T13:33:30.375Z"
   },
   {
    "duration": 150,
    "start_time": "2022-09-07T13:33:30.381Z"
   },
   {
    "duration": 7,
    "start_time": "2022-09-07T13:33:30.532Z"
   },
   {
    "duration": 1074,
    "start_time": "2022-09-07T13:33:30.540Z"
   },
   {
    "duration": 21,
    "start_time": "2022-09-07T13:33:31.616Z"
   },
   {
    "duration": 331,
    "start_time": "2022-09-07T13:33:31.638Z"
   },
   {
    "duration": 5,
    "start_time": "2022-09-07T13:33:31.971Z"
   },
   {
    "duration": 324,
    "start_time": "2022-09-07T13:33:31.977Z"
   },
   {
    "duration": 382,
    "start_time": "2022-09-07T13:33:32.304Z"
   },
   {
    "duration": 332,
    "start_time": "2022-09-07T13:33:32.689Z"
   },
   {
    "duration": 10,
    "start_time": "2022-09-07T13:33:33.023Z"
   },
   {
    "duration": 26,
    "start_time": "2022-09-07T13:33:33.034Z"
   }
  ],
  "kernelspec": {
   "display_name": "Python 3 (ipykernel)",
   "language": "python",
   "name": "python3"
  },
  "language_info": {
   "codemirror_mode": {
    "name": "ipython",
    "version": 3
   },
   "file_extension": ".py",
   "mimetype": "text/x-python",
   "name": "python",
   "nbconvert_exporter": "python",
   "pygments_lexer": "ipython3",
   "version": "3.9.5"
  },
  "toc": {
   "base_numbering": 1,
   "nav_menu": {},
   "number_sections": true,
   "sideBar": true,
   "skip_h1_title": true,
   "title_cell": "Table of Contents",
   "title_sidebar": "Contents",
   "toc_cell": false,
   "toc_position": {},
   "toc_section_display": true,
   "toc_window_display": false
  }
 },
 "nbformat": 4,
 "nbformat_minor": 5
}
