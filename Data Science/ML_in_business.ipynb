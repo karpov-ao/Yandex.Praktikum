{
 "cells": [
  {
   "cell_type": "markdown",
   "metadata": {},
   "source": [
    "# Выбор локации для скважины"
   ]
  },
  {
   "cell_type": "markdown",
   "metadata": {},
   "source": [
    "Допустим, вы работаете в добывающей компании «ГлавРосГосНефть». Нужно решить, где бурить новую скважину.\n",
    "\n",
    "Вам предоставлены пробы нефти в трёх регионах: в каждом 10 000 месторождений, где измерили качество нефти и объём её запасов. Постройте модель машинного обучения, которая поможет определить регион, где добыча принесёт наибольшую прибыль. Проанализируйте возможную прибыль и риски техникой *Bootstrap.*\n",
    "\n",
    "Шаги для выбора локации:\n",
    "\n",
    "- В избранном регионе ищут месторождения, для каждого определяют значения признаков;\n",
    "- Строят модель и оценивают объём запасов;\n",
    "- Выбирают месторождения с самым высокими оценками значений. Количество месторождений зависит от бюджета компании и стоимости разработки одной скважины;\n",
    "- Прибыль равна суммарной прибыли отобранных месторождений."
   ]
  },
  {
   "cell_type": "markdown",
   "metadata": {},
   "source": [
    "## Загрузка и подготовка данных"
   ]
  },
  {
   "cell_type": "code",
   "execution_count": 1,
   "metadata": {},
   "outputs": [],
   "source": [
    "import pandas as pd\n",
    "import seaborn as sns\n",
    "import numpy as np\n",
    "import scipy.stats as st\n",
    "import matplotlib.pyplot as plt\n",
    "from sklearn.decomposition import PCA\n",
    "from sklearn.preprocessing import StandardScaler\n",
    "from sklearn.linear_model import LinearRegression\n",
    "from sklearn.model_selection import train_test_split\n",
    "import sklearn.metrics\n",
    "from sklearn.metrics import accuracy_score, f1_score\n",
    "from sklearn.metrics import mean_squared_error\n",
    "from sklearn.dummy import DummyClassifier\n",
    "from statsmodels.tools.tools import add_constant\n",
    "from statsmodels.stats.outliers_influence import variance_inflation_factor\n",
    "from sklearn.metrics import roc_curve, roc_auc_score\n",
    "from sklearn.utils import shuffle\n",
    "import warnings\n",
    "warnings.filterwarnings('ignore')"
   ]
  },
  {
   "cell_type": "code",
   "execution_count": 2,
   "metadata": {},
   "outputs": [],
   "source": [
    "try:\n",
    "    data_0 = pd.read_csv('/datasets/geo_data_0.csv')\n",
    "    data_1 = pd.read_csv('/datasets/geo_data_1.csv')\n",
    "    data_2 = pd.read_csv('/datasets/geo_data_2.csv')\n",
    "except:\n",
    "    data_0 = pd.read_csv('geo_data_0.csv')\n",
    "    data_1 = pd.read_csv('geo_data_1.csv')\n",
    "    data_2 = pd.read_csv('geo_data_2.csv')    "
   ]
  },
  {
   "cell_type": "markdown",
   "metadata": {},
   "source": [
    "### Посмотрим на общую информацию о датафреймах:"
   ]
  },
  {
   "cell_type": "code",
   "execution_count": 3,
   "metadata": {
    "scrolled": true
   },
   "outputs": [
    {
     "name": "stdout",
     "output_type": "stream",
     "text": [
      "<class 'pandas.core.frame.DataFrame'>\n",
      "RangeIndex: 100000 entries, 0 to 99999\n",
      "Data columns (total 5 columns):\n",
      " #   Column   Non-Null Count   Dtype  \n",
      "---  ------   --------------   -----  \n",
      " 0   id       100000 non-null  object \n",
      " 1   f0       100000 non-null  float64\n",
      " 2   f1       100000 non-null  float64\n",
      " 3   f2       100000 non-null  float64\n",
      " 4   product  100000 non-null  float64\n",
      "dtypes: float64(4), object(1)\n",
      "memory usage: 3.8+ MB\n"
     ]
    }
   ],
   "source": [
    "data_0.info()"
   ]
  },
  {
   "cell_type": "code",
   "execution_count": 4,
   "metadata": {},
   "outputs": [
    {
     "name": "stdout",
     "output_type": "stream",
     "text": [
      "<class 'pandas.core.frame.DataFrame'>\n",
      "RangeIndex: 100000 entries, 0 to 99999\n",
      "Data columns (total 5 columns):\n",
      " #   Column   Non-Null Count   Dtype  \n",
      "---  ------   --------------   -----  \n",
      " 0   id       100000 non-null  object \n",
      " 1   f0       100000 non-null  float64\n",
      " 2   f1       100000 non-null  float64\n",
      " 3   f2       100000 non-null  float64\n",
      " 4   product  100000 non-null  float64\n",
      "dtypes: float64(4), object(1)\n",
      "memory usage: 3.8+ MB\n"
     ]
    }
   ],
   "source": [
    "data_1.info()"
   ]
  },
  {
   "cell_type": "code",
   "execution_count": 5,
   "metadata": {
    "scrolled": true
   },
   "outputs": [
    {
     "name": "stdout",
     "output_type": "stream",
     "text": [
      "<class 'pandas.core.frame.DataFrame'>\n",
      "RangeIndex: 100000 entries, 0 to 99999\n",
      "Data columns (total 5 columns):\n",
      " #   Column   Non-Null Count   Dtype  \n",
      "---  ------   --------------   -----  \n",
      " 0   id       100000 non-null  object \n",
      " 1   f0       100000 non-null  float64\n",
      " 2   f1       100000 non-null  float64\n",
      " 3   f2       100000 non-null  float64\n",
      " 4   product  100000 non-null  float64\n",
      "dtypes: float64(4), object(1)\n",
      "memory usage: 3.8+ MB\n"
     ]
    }
   ],
   "source": [
    "data_2.info()"
   ]
  },
  {
   "cell_type": "code",
   "execution_count": 6,
   "metadata": {
    "scrolled": true
   },
   "outputs": [
    {
     "data": {
      "text/html": [
       "<div>\n",
       "<style scoped>\n",
       "    .dataframe tbody tr th:only-of-type {\n",
       "        vertical-align: middle;\n",
       "    }\n",
       "\n",
       "    .dataframe tbody tr th {\n",
       "        vertical-align: top;\n",
       "    }\n",
       "\n",
       "    .dataframe thead th {\n",
       "        text-align: right;\n",
       "    }\n",
       "</style>\n",
       "<table border=\"1\" class=\"dataframe\">\n",
       "  <thead>\n",
       "    <tr style=\"text-align: right;\">\n",
       "      <th></th>\n",
       "      <th>id</th>\n",
       "      <th>f0</th>\n",
       "      <th>f1</th>\n",
       "      <th>f2</th>\n",
       "      <th>product</th>\n",
       "    </tr>\n",
       "  </thead>\n",
       "  <tbody>\n",
       "    <tr>\n",
       "      <th>0</th>\n",
       "      <td>txEyH</td>\n",
       "      <td>0.705745</td>\n",
       "      <td>-0.497823</td>\n",
       "      <td>1.221170</td>\n",
       "      <td>105.280062</td>\n",
       "    </tr>\n",
       "    <tr>\n",
       "      <th>1</th>\n",
       "      <td>2acmU</td>\n",
       "      <td>1.334711</td>\n",
       "      <td>-0.340164</td>\n",
       "      <td>4.365080</td>\n",
       "      <td>73.037750</td>\n",
       "    </tr>\n",
       "    <tr>\n",
       "      <th>2</th>\n",
       "      <td>409Wp</td>\n",
       "      <td>1.022732</td>\n",
       "      <td>0.151990</td>\n",
       "      <td>1.419926</td>\n",
       "      <td>85.265647</td>\n",
       "    </tr>\n",
       "    <tr>\n",
       "      <th>3</th>\n",
       "      <td>iJLyR</td>\n",
       "      <td>-0.032172</td>\n",
       "      <td>0.139033</td>\n",
       "      <td>2.978566</td>\n",
       "      <td>168.620776</td>\n",
       "    </tr>\n",
       "    <tr>\n",
       "      <th>4</th>\n",
       "      <td>Xdl7t</td>\n",
       "      <td>1.988431</td>\n",
       "      <td>0.155413</td>\n",
       "      <td>4.751769</td>\n",
       "      <td>154.036647</td>\n",
       "    </tr>\n",
       "  </tbody>\n",
       "</table>\n",
       "</div>"
      ],
      "text/plain": [
       "      id        f0        f1        f2     product\n",
       "0  txEyH  0.705745 -0.497823  1.221170  105.280062\n",
       "1  2acmU  1.334711 -0.340164  4.365080   73.037750\n",
       "2  409Wp  1.022732  0.151990  1.419926   85.265647\n",
       "3  iJLyR -0.032172  0.139033  2.978566  168.620776\n",
       "4  Xdl7t  1.988431  0.155413  4.751769  154.036647"
      ]
     },
     "execution_count": 6,
     "metadata": {},
     "output_type": "execute_result"
    }
   ],
   "source": [
    "data_0.head()"
   ]
  },
  {
   "cell_type": "code",
   "execution_count": 7,
   "metadata": {
    "scrolled": true
   },
   "outputs": [
    {
     "data": {
      "text/html": [
       "<div>\n",
       "<style scoped>\n",
       "    .dataframe tbody tr th:only-of-type {\n",
       "        vertical-align: middle;\n",
       "    }\n",
       "\n",
       "    .dataframe tbody tr th {\n",
       "        vertical-align: top;\n",
       "    }\n",
       "\n",
       "    .dataframe thead th {\n",
       "        text-align: right;\n",
       "    }\n",
       "</style>\n",
       "<table border=\"1\" class=\"dataframe\">\n",
       "  <thead>\n",
       "    <tr style=\"text-align: right;\">\n",
       "      <th></th>\n",
       "      <th>id</th>\n",
       "      <th>f0</th>\n",
       "      <th>f1</th>\n",
       "      <th>f2</th>\n",
       "      <th>product</th>\n",
       "    </tr>\n",
       "  </thead>\n",
       "  <tbody>\n",
       "    <tr>\n",
       "      <th>0</th>\n",
       "      <td>kBEdx</td>\n",
       "      <td>-15.001348</td>\n",
       "      <td>-8.276000</td>\n",
       "      <td>-0.005876</td>\n",
       "      <td>3.179103</td>\n",
       "    </tr>\n",
       "    <tr>\n",
       "      <th>1</th>\n",
       "      <td>62mP7</td>\n",
       "      <td>14.272088</td>\n",
       "      <td>-3.475083</td>\n",
       "      <td>0.999183</td>\n",
       "      <td>26.953261</td>\n",
       "    </tr>\n",
       "    <tr>\n",
       "      <th>2</th>\n",
       "      <td>vyE1P</td>\n",
       "      <td>6.263187</td>\n",
       "      <td>-5.948386</td>\n",
       "      <td>5.001160</td>\n",
       "      <td>134.766305</td>\n",
       "    </tr>\n",
       "    <tr>\n",
       "      <th>3</th>\n",
       "      <td>KcrkZ</td>\n",
       "      <td>-13.081196</td>\n",
       "      <td>-11.506057</td>\n",
       "      <td>4.999415</td>\n",
       "      <td>137.945408</td>\n",
       "    </tr>\n",
       "    <tr>\n",
       "      <th>4</th>\n",
       "      <td>AHL4O</td>\n",
       "      <td>12.702195</td>\n",
       "      <td>-8.147433</td>\n",
       "      <td>5.004363</td>\n",
       "      <td>134.766305</td>\n",
       "    </tr>\n",
       "  </tbody>\n",
       "</table>\n",
       "</div>"
      ],
      "text/plain": [
       "      id         f0         f1        f2     product\n",
       "0  kBEdx -15.001348  -8.276000 -0.005876    3.179103\n",
       "1  62mP7  14.272088  -3.475083  0.999183   26.953261\n",
       "2  vyE1P   6.263187  -5.948386  5.001160  134.766305\n",
       "3  KcrkZ -13.081196 -11.506057  4.999415  137.945408\n",
       "4  AHL4O  12.702195  -8.147433  5.004363  134.766305"
      ]
     },
     "execution_count": 7,
     "metadata": {},
     "output_type": "execute_result"
    }
   ],
   "source": [
    "data_1.head()"
   ]
  },
  {
   "cell_type": "code",
   "execution_count": 8,
   "metadata": {},
   "outputs": [
    {
     "data": {
      "text/html": [
       "<div>\n",
       "<style scoped>\n",
       "    .dataframe tbody tr th:only-of-type {\n",
       "        vertical-align: middle;\n",
       "    }\n",
       "\n",
       "    .dataframe tbody tr th {\n",
       "        vertical-align: top;\n",
       "    }\n",
       "\n",
       "    .dataframe thead th {\n",
       "        text-align: right;\n",
       "    }\n",
       "</style>\n",
       "<table border=\"1\" class=\"dataframe\">\n",
       "  <thead>\n",
       "    <tr style=\"text-align: right;\">\n",
       "      <th></th>\n",
       "      <th>id</th>\n",
       "      <th>f0</th>\n",
       "      <th>f1</th>\n",
       "      <th>f2</th>\n",
       "      <th>product</th>\n",
       "    </tr>\n",
       "  </thead>\n",
       "  <tbody>\n",
       "    <tr>\n",
       "      <th>0</th>\n",
       "      <td>fwXo0</td>\n",
       "      <td>-1.146987</td>\n",
       "      <td>0.963328</td>\n",
       "      <td>-0.828965</td>\n",
       "      <td>27.758673</td>\n",
       "    </tr>\n",
       "    <tr>\n",
       "      <th>1</th>\n",
       "      <td>WJtFt</td>\n",
       "      <td>0.262778</td>\n",
       "      <td>0.269839</td>\n",
       "      <td>-2.530187</td>\n",
       "      <td>56.069697</td>\n",
       "    </tr>\n",
       "    <tr>\n",
       "      <th>2</th>\n",
       "      <td>ovLUW</td>\n",
       "      <td>0.194587</td>\n",
       "      <td>0.289035</td>\n",
       "      <td>-5.586433</td>\n",
       "      <td>62.871910</td>\n",
       "    </tr>\n",
       "    <tr>\n",
       "      <th>3</th>\n",
       "      <td>q6cA6</td>\n",
       "      <td>2.236060</td>\n",
       "      <td>-0.553760</td>\n",
       "      <td>0.930038</td>\n",
       "      <td>114.572842</td>\n",
       "    </tr>\n",
       "    <tr>\n",
       "      <th>4</th>\n",
       "      <td>WPMUX</td>\n",
       "      <td>-0.515993</td>\n",
       "      <td>1.716266</td>\n",
       "      <td>5.899011</td>\n",
       "      <td>149.600746</td>\n",
       "    </tr>\n",
       "  </tbody>\n",
       "</table>\n",
       "</div>"
      ],
      "text/plain": [
       "      id        f0        f1        f2     product\n",
       "0  fwXo0 -1.146987  0.963328 -0.828965   27.758673\n",
       "1  WJtFt  0.262778  0.269839 -2.530187   56.069697\n",
       "2  ovLUW  0.194587  0.289035 -5.586433   62.871910\n",
       "3  q6cA6  2.236060 -0.553760  0.930038  114.572842\n",
       "4  WPMUX -0.515993  1.716266  5.899011  149.600746"
      ]
     },
     "execution_count": 8,
     "metadata": {},
     "output_type": "execute_result"
    }
   ],
   "source": [
    "data_2.head()"
   ]
  },
  {
   "cell_type": "markdown",
   "metadata": {},
   "source": [
    "Столбец id, во всех датафреймах, для нешего исследования не несет ни какой полезной информации, удалим его:"
   ]
  },
  {
   "cell_type": "code",
   "execution_count": 9,
   "metadata": {},
   "outputs": [],
   "source": [
    "data_0.drop(['id'], axis=1, inplace=True) # удаляем столбец id во всех датафреймах.\n",
    "data_1.drop(['id'], axis=1, inplace=True)\n",
    "data_2.drop(['id'], axis=1, inplace=True)"
   ]
  },
  {
   "cell_type": "code",
   "execution_count": 10,
   "metadata": {
    "scrolled": false
   },
   "outputs": [
    {
     "data": {
      "text/html": [
       "<div>\n",
       "<style scoped>\n",
       "    .dataframe tbody tr th:only-of-type {\n",
       "        vertical-align: middle;\n",
       "    }\n",
       "\n",
       "    .dataframe tbody tr th {\n",
       "        vertical-align: top;\n",
       "    }\n",
       "\n",
       "    .dataframe thead th {\n",
       "        text-align: right;\n",
       "    }\n",
       "</style>\n",
       "<table border=\"1\" class=\"dataframe\">\n",
       "  <thead>\n",
       "    <tr style=\"text-align: right;\">\n",
       "      <th></th>\n",
       "      <th>f0</th>\n",
       "      <th>f1</th>\n",
       "      <th>f2</th>\n",
       "      <th>product</th>\n",
       "    </tr>\n",
       "  </thead>\n",
       "  <tbody>\n",
       "    <tr>\n",
       "      <th>count</th>\n",
       "      <td>100000.000000</td>\n",
       "      <td>100000.000000</td>\n",
       "      <td>100000.000000</td>\n",
       "      <td>100000.000000</td>\n",
       "    </tr>\n",
       "    <tr>\n",
       "      <th>mean</th>\n",
       "      <td>0.500419</td>\n",
       "      <td>0.250143</td>\n",
       "      <td>2.502647</td>\n",
       "      <td>92.500000</td>\n",
       "    </tr>\n",
       "    <tr>\n",
       "      <th>std</th>\n",
       "      <td>0.871832</td>\n",
       "      <td>0.504433</td>\n",
       "      <td>3.248248</td>\n",
       "      <td>44.288691</td>\n",
       "    </tr>\n",
       "    <tr>\n",
       "      <th>min</th>\n",
       "      <td>-1.408605</td>\n",
       "      <td>-0.848218</td>\n",
       "      <td>-12.088328</td>\n",
       "      <td>0.000000</td>\n",
       "    </tr>\n",
       "    <tr>\n",
       "      <th>25%</th>\n",
       "      <td>-0.072580</td>\n",
       "      <td>-0.200881</td>\n",
       "      <td>0.287748</td>\n",
       "      <td>56.497507</td>\n",
       "    </tr>\n",
       "    <tr>\n",
       "      <th>50%</th>\n",
       "      <td>0.502360</td>\n",
       "      <td>0.250252</td>\n",
       "      <td>2.515969</td>\n",
       "      <td>91.849972</td>\n",
       "    </tr>\n",
       "    <tr>\n",
       "      <th>75%</th>\n",
       "      <td>1.073581</td>\n",
       "      <td>0.700646</td>\n",
       "      <td>4.715088</td>\n",
       "      <td>128.564089</td>\n",
       "    </tr>\n",
       "    <tr>\n",
       "      <th>max</th>\n",
       "      <td>2.362331</td>\n",
       "      <td>1.343769</td>\n",
       "      <td>16.003790</td>\n",
       "      <td>185.364347</td>\n",
       "    </tr>\n",
       "  </tbody>\n",
       "</table>\n",
       "</div>"
      ],
      "text/plain": [
       "                  f0             f1             f2        product\n",
       "count  100000.000000  100000.000000  100000.000000  100000.000000\n",
       "mean        0.500419       0.250143       2.502647      92.500000\n",
       "std         0.871832       0.504433       3.248248      44.288691\n",
       "min        -1.408605      -0.848218     -12.088328       0.000000\n",
       "25%        -0.072580      -0.200881       0.287748      56.497507\n",
       "50%         0.502360       0.250252       2.515969      91.849972\n",
       "75%         1.073581       0.700646       4.715088     128.564089\n",
       "max         2.362331       1.343769      16.003790     185.364347"
      ]
     },
     "execution_count": 10,
     "metadata": {},
     "output_type": "execute_result"
    }
   ],
   "source": [
    "data_0.describe()"
   ]
  },
  {
   "cell_type": "code",
   "execution_count": 11,
   "metadata": {},
   "outputs": [
    {
     "data": {
      "text/html": [
       "<div>\n",
       "<style scoped>\n",
       "    .dataframe tbody tr th:only-of-type {\n",
       "        vertical-align: middle;\n",
       "    }\n",
       "\n",
       "    .dataframe tbody tr th {\n",
       "        vertical-align: top;\n",
       "    }\n",
       "\n",
       "    .dataframe thead th {\n",
       "        text-align: right;\n",
       "    }\n",
       "</style>\n",
       "<table border=\"1\" class=\"dataframe\">\n",
       "  <thead>\n",
       "    <tr style=\"text-align: right;\">\n",
       "      <th></th>\n",
       "      <th>f0</th>\n",
       "      <th>f1</th>\n",
       "      <th>f2</th>\n",
       "      <th>product</th>\n",
       "    </tr>\n",
       "  </thead>\n",
       "  <tbody>\n",
       "    <tr>\n",
       "      <th>count</th>\n",
       "      <td>100000.000000</td>\n",
       "      <td>100000.000000</td>\n",
       "      <td>100000.000000</td>\n",
       "      <td>100000.000000</td>\n",
       "    </tr>\n",
       "    <tr>\n",
       "      <th>mean</th>\n",
       "      <td>1.141296</td>\n",
       "      <td>-4.796579</td>\n",
       "      <td>2.494541</td>\n",
       "      <td>68.825000</td>\n",
       "    </tr>\n",
       "    <tr>\n",
       "      <th>std</th>\n",
       "      <td>8.965932</td>\n",
       "      <td>5.119872</td>\n",
       "      <td>1.703572</td>\n",
       "      <td>45.944423</td>\n",
       "    </tr>\n",
       "    <tr>\n",
       "      <th>min</th>\n",
       "      <td>-31.609576</td>\n",
       "      <td>-26.358598</td>\n",
       "      <td>-0.018144</td>\n",
       "      <td>0.000000</td>\n",
       "    </tr>\n",
       "    <tr>\n",
       "      <th>25%</th>\n",
       "      <td>-6.298551</td>\n",
       "      <td>-8.267985</td>\n",
       "      <td>1.000021</td>\n",
       "      <td>26.953261</td>\n",
       "    </tr>\n",
       "    <tr>\n",
       "      <th>50%</th>\n",
       "      <td>1.153055</td>\n",
       "      <td>-4.813172</td>\n",
       "      <td>2.011479</td>\n",
       "      <td>57.085625</td>\n",
       "    </tr>\n",
       "    <tr>\n",
       "      <th>75%</th>\n",
       "      <td>8.621015</td>\n",
       "      <td>-1.332816</td>\n",
       "      <td>3.999904</td>\n",
       "      <td>107.813044</td>\n",
       "    </tr>\n",
       "    <tr>\n",
       "      <th>max</th>\n",
       "      <td>29.421755</td>\n",
       "      <td>18.734063</td>\n",
       "      <td>5.019721</td>\n",
       "      <td>137.945408</td>\n",
       "    </tr>\n",
       "  </tbody>\n",
       "</table>\n",
       "</div>"
      ],
      "text/plain": [
       "                  f0             f1             f2        product\n",
       "count  100000.000000  100000.000000  100000.000000  100000.000000\n",
       "mean        1.141296      -4.796579       2.494541      68.825000\n",
       "std         8.965932       5.119872       1.703572      45.944423\n",
       "min       -31.609576     -26.358598      -0.018144       0.000000\n",
       "25%        -6.298551      -8.267985       1.000021      26.953261\n",
       "50%         1.153055      -4.813172       2.011479      57.085625\n",
       "75%         8.621015      -1.332816       3.999904     107.813044\n",
       "max        29.421755      18.734063       5.019721     137.945408"
      ]
     },
     "execution_count": 11,
     "metadata": {},
     "output_type": "execute_result"
    }
   ],
   "source": [
    "data_1.describe()"
   ]
  },
  {
   "cell_type": "code",
   "execution_count": 12,
   "metadata": {},
   "outputs": [
    {
     "data": {
      "text/html": [
       "<div>\n",
       "<style scoped>\n",
       "    .dataframe tbody tr th:only-of-type {\n",
       "        vertical-align: middle;\n",
       "    }\n",
       "\n",
       "    .dataframe tbody tr th {\n",
       "        vertical-align: top;\n",
       "    }\n",
       "\n",
       "    .dataframe thead th {\n",
       "        text-align: right;\n",
       "    }\n",
       "</style>\n",
       "<table border=\"1\" class=\"dataframe\">\n",
       "  <thead>\n",
       "    <tr style=\"text-align: right;\">\n",
       "      <th></th>\n",
       "      <th>f0</th>\n",
       "      <th>f1</th>\n",
       "      <th>f2</th>\n",
       "      <th>product</th>\n",
       "    </tr>\n",
       "  </thead>\n",
       "  <tbody>\n",
       "    <tr>\n",
       "      <th>count</th>\n",
       "      <td>100000.000000</td>\n",
       "      <td>100000.000000</td>\n",
       "      <td>100000.000000</td>\n",
       "      <td>100000.000000</td>\n",
       "    </tr>\n",
       "    <tr>\n",
       "      <th>mean</th>\n",
       "      <td>0.002023</td>\n",
       "      <td>-0.002081</td>\n",
       "      <td>2.495128</td>\n",
       "      <td>95.000000</td>\n",
       "    </tr>\n",
       "    <tr>\n",
       "      <th>std</th>\n",
       "      <td>1.732045</td>\n",
       "      <td>1.730417</td>\n",
       "      <td>3.473445</td>\n",
       "      <td>44.749921</td>\n",
       "    </tr>\n",
       "    <tr>\n",
       "      <th>min</th>\n",
       "      <td>-8.760004</td>\n",
       "      <td>-7.084020</td>\n",
       "      <td>-11.970335</td>\n",
       "      <td>0.000000</td>\n",
       "    </tr>\n",
       "    <tr>\n",
       "      <th>25%</th>\n",
       "      <td>-1.162288</td>\n",
       "      <td>-1.174820</td>\n",
       "      <td>0.130359</td>\n",
       "      <td>59.450441</td>\n",
       "    </tr>\n",
       "    <tr>\n",
       "      <th>50%</th>\n",
       "      <td>0.009424</td>\n",
       "      <td>-0.009482</td>\n",
       "      <td>2.484236</td>\n",
       "      <td>94.925613</td>\n",
       "    </tr>\n",
       "    <tr>\n",
       "      <th>75%</th>\n",
       "      <td>1.158535</td>\n",
       "      <td>1.163678</td>\n",
       "      <td>4.858794</td>\n",
       "      <td>130.595027</td>\n",
       "    </tr>\n",
       "    <tr>\n",
       "      <th>max</th>\n",
       "      <td>7.238262</td>\n",
       "      <td>7.844801</td>\n",
       "      <td>16.739402</td>\n",
       "      <td>190.029838</td>\n",
       "    </tr>\n",
       "  </tbody>\n",
       "</table>\n",
       "</div>"
      ],
      "text/plain": [
       "                  f0             f1             f2        product\n",
       "count  100000.000000  100000.000000  100000.000000  100000.000000\n",
       "mean        0.002023      -0.002081       2.495128      95.000000\n",
       "std         1.732045       1.730417       3.473445      44.749921\n",
       "min        -8.760004      -7.084020     -11.970335       0.000000\n",
       "25%        -1.162288      -1.174820       0.130359      59.450441\n",
       "50%         0.009424      -0.009482       2.484236      94.925613\n",
       "75%         1.158535       1.163678       4.858794     130.595027\n",
       "max         7.238262       7.844801      16.739402     190.029838"
      ]
     },
     "execution_count": 12,
     "metadata": {},
     "output_type": "execute_result"
    }
   ],
   "source": [
    "data_2.describe()"
   ]
  },
  {
   "cell_type": "markdown",
   "metadata": {},
   "source": [
    "### Пропуски:"
   ]
  },
  {
   "cell_type": "code",
   "execution_count": 13,
   "metadata": {
    "scrolled": true
   },
   "outputs": [
    {
     "data": {
      "text/plain": [
       "f0         0\n",
       "f1         0\n",
       "f2         0\n",
       "product    0\n",
       "dtype: int64"
      ]
     },
     "execution_count": 13,
     "metadata": {},
     "output_type": "execute_result"
    }
   ],
   "source": [
    "data_0.isna().sum()"
   ]
  },
  {
   "cell_type": "code",
   "execution_count": 14,
   "metadata": {},
   "outputs": [
    {
     "data": {
      "text/plain": [
       "f0         0\n",
       "f1         0\n",
       "f2         0\n",
       "product    0\n",
       "dtype: int64"
      ]
     },
     "execution_count": 14,
     "metadata": {},
     "output_type": "execute_result"
    }
   ],
   "source": [
    "data_1.isna().sum()"
   ]
  },
  {
   "cell_type": "code",
   "execution_count": 15,
   "metadata": {},
   "outputs": [
    {
     "data": {
      "text/plain": [
       "f0         0\n",
       "f1         0\n",
       "f2         0\n",
       "product    0\n",
       "dtype: int64"
      ]
     },
     "execution_count": 15,
     "metadata": {},
     "output_type": "execute_result"
    }
   ],
   "source": [
    "data_2.isna().sum()"
   ]
  },
  {
   "cell_type": "markdown",
   "metadata": {},
   "source": [
    "### Дубликаты:"
   ]
  },
  {
   "cell_type": "code",
   "execution_count": 16,
   "metadata": {
    "scrolled": false
   },
   "outputs": [
    {
     "data": {
      "text/plain": [
       "0"
      ]
     },
     "execution_count": 16,
     "metadata": {},
     "output_type": "execute_result"
    }
   ],
   "source": [
    "data_0.duplicated().sum()"
   ]
  },
  {
   "cell_type": "code",
   "execution_count": 17,
   "metadata": {},
   "outputs": [
    {
     "data": {
      "text/plain": [
       "0"
      ]
     },
     "execution_count": 17,
     "metadata": {},
     "output_type": "execute_result"
    }
   ],
   "source": [
    "data_1.duplicated().sum()"
   ]
  },
  {
   "cell_type": "code",
   "execution_count": 18,
   "metadata": {},
   "outputs": [
    {
     "data": {
      "text/plain": [
       "0"
      ]
     },
     "execution_count": 18,
     "metadata": {},
     "output_type": "execute_result"
    }
   ],
   "source": [
    "data_2.duplicated().sum()"
   ]
  },
  {
   "cell_type": "markdown",
   "metadata": {},
   "source": [
    "### Проверим наличие мультиколлинеарных признаков:"
   ]
  },
  {
   "cell_type": "code",
   "execution_count": 19,
   "metadata": {
    "scrolled": false
   },
   "outputs": [
    {
     "data": {
      "image/png": "[encoded data removed]",
      "text/plain": [
       "<Figure size 432x288 with 2 Axes>"
      ]
     },
     "metadata": {
      "needs_background": "light"
     },
     "output_type": "display_data"
    }
   ],
   "source": [
    "sns.heatmap(data_0.corr(), annot=True, cmap=\"Blues\", fmt='.2f', annot_kws={'size':8});"
   ]
  },
  {
   "cell_type": "code",
   "execution_count": 20,
   "metadata": {
    "scrolled": false
   },
   "outputs": [
    {
     "data": {
      "image/png": "[encoded data removed]",
      "text/plain": [
       "<Figure size 432x288 with 2 Axes>"
      ]
     },
     "metadata": {
      "needs_background": "light"
     },
     "output_type": "display_data"
    }
   ],
   "source": [
    "sns.heatmap(data_1.corr(), annot=True, cmap=\"Blues\", fmt='.2f', annot_kws={'size':8});"
   ]
  },
  {
   "cell_type": "markdown",
   "metadata": {},
   "source": [
    "Пара product-f2, датафрейма data_1, показывает сильную зависимость."
   ]
  },
  {
   "cell_type": "code",
   "execution_count": 21,
   "metadata": {
    "scrolled": true
   },
   "outputs": [
    {
     "data": {
      "image/png": "[encoded data removed]",
      "text/plain": [
       "<Figure size 432x288 with 2 Axes>"
      ]
     },
     "metadata": {
      "needs_background": "light"
     },
     "output_type": "display_data"
    }
   ],
   "source": [
    "sns.heatmap(data_2.corr(), annot=True, cmap=\"Blues\", fmt='.2f', annot_kws={'size':8});"
   ]
  },
  {
   "cell_type": "markdown",
   "metadata": {},
   "source": [
    "***Итог:***\n",
    "Мы провели первичное исследование и подготовку данных к обучению и проверки модели."
   ]
  },
  {
   "cell_type": "markdown",
   "metadata": {},
   "source": [
    "## Обучение и проверка модели"
   ]
  },
  {
   "cell_type": "code",
   "execution_count": 23,
   "metadata": {},
   "outputs": [],
   "source": [
    "def sample(data):\n",
    "\n",
    "    features = data.drop(['product'], axis=1)\n",
    "    target = data['product']\n",
    "    \n",
    "    features_train, features_test, target_train, target_test = train_test_split(features, target, test_size=0.25, \n",
    "                                                                                  random_state=12345)\n",
    "    scaler  = StandardScaler()\n",
    "    features_train = scaler.fit_transform(features_train)\n",
    "    features_test = scaler.transform(features_test)\n",
    "    \n",
    "    model = LinearRegression() # модель LinearRegression\n",
    "    model.fit(features_train, target_train) # # обучаем модель на тренировочной выборке\n",
    "    predictions = model.predict(features_test) # предсказания модели на валидационной выборке\n",
    "    predictions = pd.Series(predictions)\n",
    "    result = mean_squared_error(predictions, target_test)**0.5 # значение метрики RMSE на валидационной выборке\n",
    "    \n",
    "    print(f'RMSE модели: {result}. Средний предсказанный запас: {predictions.mean()}. Реальный средний запас: {target.mean()}.')\n",
    "    return (predictions, target_test.reset_index(drop=True), result)"
   ]
  },
  {
   "cell_type": "code",
   "execution_count": 24,
   "metadata": {},
   "outputs": [
    {
     "name": "stdout",
     "output_type": "stream",
     "text": [
      "Регион 1:\n",
      "RMSE модели: 37.5794217150813. Средний предсказанный запас: 92.59256778438035. Реальный средний запас: 92.50000000000001.\n",
      "\n",
      "Регион 2:\n",
      "RMSE модели: 0.893099286775617. Средний предсказанный запас: 68.728546895446. Реальный средний запас: 68.82500000000002.\n",
      "\n",
      "Регион 3:\n",
      "RMSE модели: 40.02970873393434. Средний предсказанный запас: 94.96504596800489. Реальный средний запас: 95.00000000000004.\n",
      "\n"
     ]
    }
   ],
   "source": [
    "n = 1\n",
    "for region in [data_0, data_1, data_2]:\n",
    "    print(f'Регион {n}:')\n",
    "    sample(region)\n",
    "    print()\n",
    "    n+=1"
   ]
  },
  {
   "cell_type": "code",
   "execution_count": 25,
   "metadata": {},
   "outputs": [
    {
     "name": "stdout",
     "output_type": "stream",
     "text": [
      "RMSE модели: 37.5794217150813. Средний предсказанный запас: 92.59256778438035. Реальный средний запас: 92.50000000000001.\n",
      "RMSE модели: 0.893099286775617. Средний предсказанный запас: 68.728546895446. Реальный средний запас: 68.82500000000002.\n",
      "RMSE модели: 40.02970873393434. Средний предсказанный запас: 94.96504596800489. Реальный средний запас: 95.00000000000004.\n"
     ]
    }
   ],
   "source": [
    "predictions_1, target_1, result_1 = sample(data_0)\n",
    "predictions_2, target_2, result_2 = sample(data_1)\n",
    "predictions_3, target_3, result_3 = sample(data_2)"
   ]
  },
  {
   "cell_type": "markdown",
   "metadata": {},
   "source": [
    "## Подготовка к расчёту прибыли"
   ]
  },
  {
   "cell_type": "markdown",
   "metadata": {},
   "source": [
    "Переменные необходимые для подготовки к расчету прибыли:"
   ]
  },
  {
   "cell_type": "code",
   "execution_count": 27,
   "metadata": {},
   "outputs": [],
   "source": [
    "BUDGET = 10e9\n",
    "INCOME_ONE_BARREL = 450\n",
    "INCOME_THOUSAND_BARREL = INCOME_ONE_BARREL * 1000\n",
    "RESEARCHED_SPOTS = 500\n",
    "TOP_SPOTS = 200"
   ]
  },
  {
   "cell_type": "code",
   "execution_count": 28,
   "metadata": {},
   "outputs": [],
   "source": [
    "def revenue(predictions, target): # функция для подсчета прибыли\n",
    "    pred_sorted = predictions.sort_values(ascending=False)\n",
    "    selected = target[pred_sorted.index][:200]\n",
    "    return INCOME_THOUSAND_BARREL * selected.sum() - BUDGET"
   ]
  },
  {
   "cell_type": "markdown",
   "metadata": {},
   "source": [
    "При помощи наших переменных расчитаем:\n",
    " * Среднюю прибыль на лучшую точку\n",
    " * Средний объём для безубыточной добычи на регион"
   ]
  },
  {
   "cell_type": "markdown",
   "metadata": {},
   "source": [
    "Исходя из бюджета на один регион в 10 млрд.руб. и то что отобраны будут для разработки всего 200 скважин то:\n",
    "* безубыточная добыча на одну скважину в регионе равна: бюджет / колличество скважин;\n",
    "* Средний объём для безубыточной добычи на регион равен: бюджет / цену 1000 баррелей."
   ]
  },
  {
   "cell_type": "code",
   "execution_count": 29,
   "metadata": {},
   "outputs": [
    {
     "name": "stdout",
     "output_type": "stream",
     "text": [
      "Среднюю прибыль на лучшую точку:50000000.0 руб.\n",
      "Средний объём для безубыточной добычи на регион: 22222 тыс. баррелей\n",
      "Средний объем запасов нефти в скважине для безубыточной добычи: 112.0\n"
     ]
    }
   ],
   "source": [
    "break_even_production = BUDGET / TOP_SPOTS\n",
    "average_breakeven_volume = BUDGET / INCOME_THOUSAND_BARREL\n",
    "print(f'Среднюю прибыль на лучшую точку:{break_even_production} руб.')\n",
    "print('Средний объём для безубыточной добычи на регион: {0:.0f} тыс. баррелей'.format(average_breakeven_volume))\n",
    "print('Средний объем запасов нефти в скважине для безубыточной добычи:', np.ceil(average_breakeven_volume/200))"
   ]
  },
  {
   "cell_type": "markdown",
   "metadata": {},
   "source": [
    "## Расчёт прибыли и рисков "
   ]
  },
  {
   "cell_type": "markdown",
   "metadata": {},
   "source": [
    "Напишем функцию при помощи которой найдем среднюю прибыль, 95%-й доверительный интервал и риск убытков. "
   ]
  },
  {
   "cell_type": "code",
   "execution_count": 34,
   "metadata": {},
   "outputs": [],
   "source": [
    "state = np.random.RandomState(12345)\n",
    "\n",
    "def profit_and_risk(target, predictions):\n",
    "    \n",
    "    values = []\n",
    "    \n",
    "    for i in range(1000):\n",
    "        target_subsample = target.sample(500, replace=True, random_state=state)\n",
    "        probs_subsample = predictions[target_subsample.index]\n",
    "        rev = revenue(target_subsample,probs_subsample)\n",
    "        values.append(rev)\n",
    "    \n",
    "    values = pd.Series(values)\n",
    "    lower = values.quantile(0.025)\n",
    "    upper = values.quantile(0.975)\n",
    "    mean = values.mean()\n",
    "    risk = st.percentileofscore(values, 0)\n",
    "    \n",
    "    return ((lower, upper), mean, risk)        "
   ]
  },
  {
   "cell_type": "markdown",
   "metadata": {},
   "source": [
    "При помощи цикла выведем на экран все необходимые нам данные."
   ]
  },
  {
   "cell_type": "code",
   "execution_count": 35,
   "metadata": {},
   "outputs": [
    {
     "name": "stdout",
     "output_type": "stream",
     "text": [
      "Регион 1:\n",
      "Средняя выручка: 425938526.91059244руб.\n",
      "95% Доверительный интервал: (-102090094.83793654, 947976353.3583689)\n",
      "Риск убытков: 6.0%\n",
      "\n",
      "Регион 2:\n",
      "Средняя выручка: 518259493.6973249руб.\n",
      "95% Доверительный интервал: (128123231.43308444, 953612982.0669085)\n",
      "Риск убытков: 0.3%\n",
      "\n",
      "Регион 3:\n",
      "Средняя выручка: 420194005.3440501руб.\n",
      "95% Доверительный интервал: (-115852609.16001143, 989629939.8445739)\n",
      "Риск убытков: 6.2%\n",
      "\n"
     ]
    }
   ],
   "source": [
    "n = 1\n",
    "for predictions, target in zip([predictions_1, predictions_2, predictions_3], \n",
    "                         [target_1, target_2, target_3]):\n",
    "    interval, mean, risk = profit_and_risk(predictions, target)\n",
    "    print(f'Регион {n}:')\n",
    "    print(f'Средняя выручка: {mean}руб.')\n",
    "    print(f'95% Доверительный интервал: {interval}')\n",
    "    print(f'Риск убытков: {risk}%')    \n",
    "    print()\n",
    "    n+=1"
   ]
  },
  {
   "cell_type": "markdown",
   "metadata": {},
   "source": [
    "## Выводы"
   ]
  },
  {
   "cell_type": "markdown",
   "metadata": {},
   "source": [
    "Мы подготовили данные, провели первичный анализ, проверили данные на наличие пропусков и дубликатов. Разделили данные на выборки (тренировочную и тестовую), обучили и проверили модель линейной регрессии.\n",
    "\n",
    "Исходя из проделанной работы, можно сделать вывод о том что:\n",
    "* 2 из 3 региона имеют 6% риск убыточности\n",
    "* Регион 2 (data_1) на данный момент является самым перспективным, для дальнейшей разработки"
   ]
  }
 ],
 "metadata": {
  "ExecuteTimeLog": [
   {
    "duration": 1695,
    "start_time": "2022-05-30T22:33:06.593Z"
   },
   {
    "duration": 496,
    "start_time": "2022-05-30T22:33:08.292Z"
   },
   {
    "duration": 21,
    "start_time": "2022-05-30T22:33:08.791Z"
   },
   {
    "duration": 37,
    "start_time": "2022-05-30T22:33:08.815Z"
   },
   {
    "duration": 49,
    "start_time": "2022-05-30T22:33:08.856Z"
   },
   {
    "duration": 14,
    "start_time": "2022-05-30T22:33:08.908Z"
   },
   {
    "duration": 16,
    "start_time": "2022-05-30T22:33:08.923Z"
   },
   {
    "duration": 56,
    "start_time": "2022-05-30T22:33:08.942Z"
   },
   {
    "duration": 16,
    "start_time": "2022-05-30T22:33:09.001Z"
   },
   {
    "duration": 73,
    "start_time": "2022-05-30T22:33:09.019Z"
   },
   {
    "duration": 50,
    "start_time": "2022-05-30T22:33:09.094Z"
   },
   {
    "duration": 54,
    "start_time": "2022-05-30T22:33:09.146Z"
   },
   {
    "duration": 22,
    "start_time": "2022-05-30T22:33:09.203Z"
   },
   {
    "duration": 17,
    "start_time": "2022-05-30T22:33:09.234Z"
   },
   {
    "duration": 39,
    "start_time": "2022-05-30T22:33:09.253Z"
   },
   {
    "duration": 84,
    "start_time": "2022-05-30T22:33:09.296Z"
   },
   {
    "duration": 48,
    "start_time": "2022-05-30T22:33:09.383Z"
   },
   {
    "duration": 48,
    "start_time": "2022-05-30T22:33:09.436Z"
   },
   {
    "duration": 451,
    "start_time": "2022-05-30T22:33:09.486Z"
   },
   {
    "duration": 372,
    "start_time": "2022-05-30T22:33:09.941Z"
   },
   {
    "duration": 372,
    "start_time": "2022-05-30T22:33:10.315Z"
   },
   {
    "duration": 48,
    "start_time": "2022-05-30T22:33:10.689Z"
   },
   {
    "duration": 64,
    "start_time": "2022-05-30T22:33:10.747Z"
   },
   {
    "duration": 35,
    "start_time": "2022-05-30T22:33:10.814Z"
   },
   {
    "duration": 62,
    "start_time": "2022-05-30T22:33:10.851Z"
   },
   {
    "duration": 36,
    "start_time": "2022-05-30T22:33:10.916Z"
   },
   {
    "duration": 47,
    "start_time": "2022-05-30T22:33:10.954Z"
   },
   {
    "duration": 65,
    "start_time": "2022-05-30T22:33:11.002Z"
   },
   {
    "duration": 98,
    "start_time": "2022-05-30T22:33:11.075Z"
   },
   {
    "duration": 161,
    "start_time": "2022-05-30T22:33:11.184Z"
   },
   {
    "duration": 212,
    "start_time": "2022-05-30T22:33:11.356Z"
   },
   {
    "duration": 113,
    "start_time": "2022-05-30T22:33:11.578Z"
   },
   {
    "duration": 187,
    "start_time": "2022-05-30T22:33:11.693Z"
   },
   {
    "duration": 67,
    "start_time": "2022-05-30T22:33:11.925Z"
   },
   {
    "duration": 46,
    "start_time": "2022-05-30T22:33:11.994Z"
   },
   {
    "duration": 18,
    "start_time": "2022-05-30T22:48:13.643Z"
   },
   {
    "duration": 6,
    "start_time": "2022-05-30T22:48:31.093Z"
   },
   {
    "duration": 11,
    "start_time": "2022-05-30T22:49:04.165Z"
   },
   {
    "duration": 1769,
    "start_time": "2022-06-01T18:12:42.771Z"
   },
   {
    "duration": 1036,
    "start_time": "2022-06-01T18:12:44.543Z"
   },
   {
    "duration": 17,
    "start_time": "2022-06-01T18:12:45.581Z"
   },
   {
    "duration": 21,
    "start_time": "2022-06-01T18:12:45.600Z"
   },
   {
    "duration": 28,
    "start_time": "2022-06-01T18:12:45.624Z"
   },
   {
    "duration": 22,
    "start_time": "2022-06-01T18:12:45.655Z"
   },
   {
    "duration": 12,
    "start_time": "2022-06-01T18:12:45.678Z"
   },
   {
    "duration": 14,
    "start_time": "2022-06-01T18:12:45.692Z"
   },
   {
    "duration": 40,
    "start_time": "2022-06-01T18:12:45.708Z"
   },
   {
    "duration": 64,
    "start_time": "2022-06-01T18:12:45.752Z"
   },
   {
    "duration": 52,
    "start_time": "2022-06-01T18:12:45.818Z"
   },
   {
    "duration": 39,
    "start_time": "2022-06-01T18:12:45.871Z"
   },
   {
    "duration": 7,
    "start_time": "2022-06-01T18:12:45.912Z"
   },
   {
    "duration": 24,
    "start_time": "2022-06-01T18:12:45.921Z"
   },
   {
    "duration": 8,
    "start_time": "2022-06-01T18:12:45.948Z"
   },
   {
    "duration": 43,
    "start_time": "2022-06-01T18:12:45.958Z"
   },
   {
    "duration": 26,
    "start_time": "2022-06-01T18:12:46.002Z"
   },
   {
    "duration": 39,
    "start_time": "2022-06-01T18:12:46.045Z"
   },
   {
    "duration": 453,
    "start_time": "2022-06-01T18:12:46.086Z"
   },
   {
    "duration": 348,
    "start_time": "2022-06-01T18:12:46.540Z"
   },
   {
    "duration": 345,
    "start_time": "2022-06-01T18:12:46.890Z"
   },
   {
    "duration": 12,
    "start_time": "2022-06-01T18:12:47.237Z"
   },
   {
    "duration": 426,
    "start_time": "2022-06-01T18:12:47.252Z"
   },
   {
    "duration": 588,
    "start_time": "2022-06-01T18:12:47.682Z"
   },
   {
    "duration": 2,
    "start_time": "2022-06-01T18:12:48.273Z"
   },
   {
    "duration": 191,
    "start_time": "2022-06-01T18:12:48.277Z"
   },
   {
    "duration": 7,
    "start_time": "2022-06-01T18:12:48.471Z"
   },
   {
    "duration": 16,
    "start_time": "2022-06-01T18:12:48.482Z"
   },
   {
    "duration": 13,
    "start_time": "2022-06-01T18:12:48.500Z"
   },
   {
    "duration": 5062,
    "start_time": "2022-06-01T18:12:48.515Z"
   },
   {
    "duration": 265,
    "start_time": "2022-06-01T18:14:17.585Z"
   },
   {
    "duration": 5,
    "start_time": "2022-06-01T18:15:24.896Z"
   },
   {
    "duration": 290,
    "start_time": "2022-06-01T18:15:31.517Z"
   },
   {
    "duration": 5,
    "start_time": "2022-06-01T18:23:40.254Z"
   },
   {
    "duration": 275,
    "start_time": "2022-06-01T18:23:41.108Z"
   },
   {
    "duration": 6,
    "start_time": "2022-06-01T18:24:48.696Z"
   },
   {
    "duration": 269,
    "start_time": "2022-06-01T18:24:49.380Z"
   },
   {
    "duration": 6,
    "start_time": "2022-06-01T18:27:05.624Z"
   },
   {
    "duration": 132,
    "start_time": "2022-06-01T18:27:49.174Z"
   },
   {
    "duration": 1503,
    "start_time": "2022-06-01T18:27:59.454Z"
   },
   {
    "duration": 10,
    "start_time": "2022-06-01T18:28:33.467Z"
   },
   {
    "duration": 8,
    "start_time": "2022-06-01T18:28:47.878Z"
   },
   {
    "duration": 1247,
    "start_time": "2022-06-01T18:30:33.478Z"
   },
   {
    "duration": 377,
    "start_time": "2022-06-01T18:30:34.727Z"
   },
   {
    "duration": 16,
    "start_time": "2022-06-01T18:30:35.106Z"
   },
   {
    "duration": 26,
    "start_time": "2022-06-01T18:30:35.124Z"
   },
   {
    "duration": 14,
    "start_time": "2022-06-01T18:30:35.153Z"
   },
   {
    "duration": 17,
    "start_time": "2022-06-01T18:30:35.169Z"
   },
   {
    "duration": 11,
    "start_time": "2022-06-01T18:30:35.188Z"
   },
   {
    "duration": 16,
    "start_time": "2022-06-01T18:30:35.202Z"
   },
   {
    "duration": 16,
    "start_time": "2022-06-01T18:30:35.244Z"
   },
   {
    "duration": 43,
    "start_time": "2022-06-01T18:30:35.261Z"
   },
   {
    "duration": 58,
    "start_time": "2022-06-01T18:30:35.306Z"
   },
   {
    "duration": 35,
    "start_time": "2022-06-01T18:30:35.366Z"
   },
   {
    "duration": 6,
    "start_time": "2022-06-01T18:30:35.403Z"
   },
   {
    "duration": 20,
    "start_time": "2022-06-01T18:30:35.411Z"
   },
   {
    "duration": 7,
    "start_time": "2022-06-01T18:30:35.444Z"
   },
   {
    "duration": 32,
    "start_time": "2022-06-01T18:30:35.452Z"
   },
   {
    "duration": 29,
    "start_time": "2022-06-01T18:30:35.486Z"
   },
   {
    "duration": 52,
    "start_time": "2022-06-01T18:30:35.517Z"
   },
   {
    "duration": 324,
    "start_time": "2022-06-01T18:30:35.571Z"
   },
   {
    "duration": 361,
    "start_time": "2022-06-01T18:30:35.897Z"
   },
   {
    "duration": 302,
    "start_time": "2022-06-01T18:30:36.260Z"
   },
   {
    "duration": 19,
    "start_time": "2022-06-01T18:30:36.563Z"
   },
   {
    "duration": 7,
    "start_time": "2022-06-01T18:30:36.583Z"
   },
   {
    "duration": 363,
    "start_time": "2022-06-01T18:30:36.592Z"
   },
   {
    "duration": 610,
    "start_time": "2022-06-01T18:30:36.957Z"
   },
   {
    "duration": 3,
    "start_time": "2022-06-01T18:30:37.570Z"
   },
   {
    "duration": 99,
    "start_time": "2022-06-01T18:30:37.646Z"
   },
   {
    "duration": 16,
    "start_time": "2022-06-01T18:30:37.747Z"
   },
   {
    "duration": 37,
    "start_time": "2022-06-01T18:30:37.764Z"
   },
   {
    "duration": 32,
    "start_time": "2022-06-01T18:30:37.803Z"
   },
   {
    "duration": 4279,
    "start_time": "2022-06-01T18:30:37.837Z"
   },
   {
    "duration": 5,
    "start_time": "2022-06-01T18:37:10.623Z"
   },
   {
    "duration": 6,
    "start_time": "2022-06-01T18:38:18.497Z"
   },
   {
    "duration": 8,
    "start_time": "2022-06-01T18:40:09.484Z"
   },
   {
    "duration": 6,
    "start_time": "2022-06-01T18:40:21.035Z"
   },
   {
    "duration": 505,
    "start_time": "2022-06-01T18:40:25.339Z"
   },
   {
    "duration": 6,
    "start_time": "2022-06-01T18:40:29.148Z"
   },
   {
    "duration": 6,
    "start_time": "2022-06-01T18:40:30.220Z"
   },
   {
    "duration": 6,
    "start_time": "2022-06-01T18:42:18.599Z"
   },
   {
    "duration": 308,
    "start_time": "2022-06-01T18:42:23.551Z"
   },
   {
    "duration": 127,
    "start_time": "2022-06-01T18:42:24.908Z"
   },
   {
    "duration": 5,
    "start_time": "2022-06-01T18:42:48.743Z"
   },
   {
    "duration": 469,
    "start_time": "2022-06-01T18:42:55.677Z"
   },
   {
    "duration": 7,
    "start_time": "2022-06-01T18:42:56.826Z"
   },
   {
    "duration": 6,
    "start_time": "2022-06-01T18:42:59.226Z"
   },
   {
    "duration": 7,
    "start_time": "2022-06-01T18:46:27.388Z"
   },
   {
    "duration": 27,
    "start_time": "2022-06-01T18:46:34.078Z"
   },
   {
    "duration": 1452,
    "start_time": "2022-06-01T18:47:07.536Z"
   },
   {
    "duration": 438,
    "start_time": "2022-06-01T18:47:08.991Z"
   },
   {
    "duration": 22,
    "start_time": "2022-06-01T18:47:09.431Z"
   },
   {
    "duration": 48,
    "start_time": "2022-06-01T18:47:09.455Z"
   },
   {
    "duration": 36,
    "start_time": "2022-06-01T18:47:09.505Z"
   },
   {
    "duration": 31,
    "start_time": "2022-06-01T18:47:09.543Z"
   },
   {
    "duration": 33,
    "start_time": "2022-06-01T18:47:09.576Z"
   },
   {
    "duration": 31,
    "start_time": "2022-06-01T18:47:09.611Z"
   },
   {
    "duration": 24,
    "start_time": "2022-06-01T18:47:09.644Z"
   },
   {
    "duration": 71,
    "start_time": "2022-06-01T18:47:09.670Z"
   },
   {
    "duration": 48,
    "start_time": "2022-06-01T18:47:09.743Z"
   },
   {
    "duration": 37,
    "start_time": "2022-06-01T18:47:09.793Z"
   },
   {
    "duration": 18,
    "start_time": "2022-06-01T18:47:09.832Z"
   },
   {
    "duration": 46,
    "start_time": "2022-06-01T18:47:09.853Z"
   },
   {
    "duration": 18,
    "start_time": "2022-06-01T18:47:09.901Z"
   },
   {
    "duration": 67,
    "start_time": "2022-06-01T18:47:09.921Z"
   },
   {
    "duration": 24,
    "start_time": "2022-06-01T18:47:09.990Z"
   },
   {
    "duration": 55,
    "start_time": "2022-06-01T18:47:10.017Z"
   },
   {
    "duration": 409,
    "start_time": "2022-06-01T18:47:10.074Z"
   },
   {
    "duration": 338,
    "start_time": "2022-06-01T18:47:10.485Z"
   },
   {
    "duration": 345,
    "start_time": "2022-06-01T18:47:10.825Z"
   },
   {
    "duration": 16,
    "start_time": "2022-06-01T18:47:11.171Z"
   },
   {
    "duration": 25,
    "start_time": "2022-06-01T18:47:11.188Z"
   },
   {
    "duration": 548,
    "start_time": "2022-06-01T18:47:11.215Z"
   },
   {
    "duration": 426,
    "start_time": "2022-06-01T18:47:11.845Z"
   },
   {
    "duration": 71,
    "start_time": "2022-06-01T18:47:12.273Z"
   },
   {
    "duration": 107,
    "start_time": "2022-06-01T18:47:12.346Z"
   },
   {
    "duration": 5,
    "start_time": "2022-06-01T18:47:12.455Z"
   },
   {
    "duration": 31,
    "start_time": "2022-06-01T18:47:12.462Z"
   },
   {
    "duration": 25,
    "start_time": "2022-06-01T18:47:12.495Z"
   },
   {
    "duration": 177,
    "start_time": "2022-06-01T18:47:12.524Z"
   },
   {
    "duration": 1301,
    "start_time": "2022-06-01T18:47:23.452Z"
   },
   {
    "duration": 393,
    "start_time": "2022-06-01T18:47:24.755Z"
   },
   {
    "duration": 17,
    "start_time": "2022-06-01T18:47:25.150Z"
   },
   {
    "duration": 45,
    "start_time": "2022-06-01T18:47:25.169Z"
   },
   {
    "duration": 28,
    "start_time": "2022-06-01T18:47:25.216Z"
   },
   {
    "duration": 33,
    "start_time": "2022-06-01T18:47:25.246Z"
   },
   {
    "duration": 68,
    "start_time": "2022-06-01T18:47:25.281Z"
   },
   {
    "duration": 61,
    "start_time": "2022-06-01T18:47:25.351Z"
   },
   {
    "duration": 42,
    "start_time": "2022-06-01T18:47:25.414Z"
   },
   {
    "duration": 76,
    "start_time": "2022-06-01T18:47:25.459Z"
   },
   {
    "duration": 57,
    "start_time": "2022-06-01T18:47:25.536Z"
   },
   {
    "duration": 64,
    "start_time": "2022-06-01T18:47:25.595Z"
   },
   {
    "duration": 12,
    "start_time": "2022-06-01T18:47:25.661Z"
   },
   {
    "duration": 46,
    "start_time": "2022-06-01T18:47:25.676Z"
   },
   {
    "duration": 48,
    "start_time": "2022-06-01T18:47:25.724Z"
   },
   {
    "duration": 77,
    "start_time": "2022-06-01T18:47:25.776Z"
   },
   {
    "duration": 45,
    "start_time": "2022-06-01T18:47:25.855Z"
   },
   {
    "duration": 44,
    "start_time": "2022-06-01T18:47:25.902Z"
   },
   {
    "duration": 347,
    "start_time": "2022-06-01T18:47:25.948Z"
   },
   {
    "duration": 380,
    "start_time": "2022-06-01T18:47:26.297Z"
   },
   {
    "duration": 323,
    "start_time": "2022-06-01T18:47:26.678Z"
   },
   {
    "duration": 15,
    "start_time": "2022-06-01T18:47:27.002Z"
   },
   {
    "duration": 25,
    "start_time": "2022-06-01T18:47:27.019Z"
   },
   {
    "duration": 499,
    "start_time": "2022-06-01T18:47:27.047Z"
   },
   {
    "duration": 603,
    "start_time": "2022-06-01T18:47:27.549Z"
   },
   {
    "duration": 86,
    "start_time": "2022-06-01T18:47:28.159Z"
   },
   {
    "duration": 22,
    "start_time": "2022-06-01T18:47:28.247Z"
   },
   {
    "duration": 34,
    "start_time": "2022-06-01T18:47:28.273Z"
   },
   {
    "duration": 20,
    "start_time": "2022-06-01T18:47:28.309Z"
   },
   {
    "duration": 36,
    "start_time": "2022-06-01T18:47:28.330Z"
   },
   {
    "duration": 4498,
    "start_time": "2022-06-01T18:47:28.368Z"
   },
   {
    "duration": 6,
    "start_time": "2022-06-01T18:47:50.797Z"
   },
   {
    "duration": 4356,
    "start_time": "2022-06-01T18:47:51.974Z"
   },
   {
    "duration": 1619,
    "start_time": "2022-06-01T19:02:44.887Z"
   },
   {
    "duration": 783,
    "start_time": "2022-06-01T19:02:46.508Z"
   },
   {
    "duration": 17,
    "start_time": "2022-06-01T19:02:47.293Z"
   },
   {
    "duration": 19,
    "start_time": "2022-06-01T19:02:47.312Z"
   },
   {
    "duration": 15,
    "start_time": "2022-06-01T19:02:47.333Z"
   },
   {
    "duration": 16,
    "start_time": "2022-06-01T19:02:47.349Z"
   },
   {
    "duration": 11,
    "start_time": "2022-06-01T19:02:47.366Z"
   },
   {
    "duration": 47,
    "start_time": "2022-06-01T19:02:47.379Z"
   },
   {
    "duration": 25,
    "start_time": "2022-06-01T19:02:47.428Z"
   },
   {
    "duration": 57,
    "start_time": "2022-06-01T19:02:47.457Z"
   },
   {
    "duration": 47,
    "start_time": "2022-06-01T19:02:47.516Z"
   },
   {
    "duration": 38,
    "start_time": "2022-06-01T19:02:47.564Z"
   },
   {
    "duration": 27,
    "start_time": "2022-06-01T19:02:47.604Z"
   },
   {
    "duration": 12,
    "start_time": "2022-06-01T19:02:47.633Z"
   },
   {
    "duration": 13,
    "start_time": "2022-06-01T19:02:47.647Z"
   },
   {
    "duration": 44,
    "start_time": "2022-06-01T19:02:47.662Z"
   },
   {
    "duration": 26,
    "start_time": "2022-06-01T19:02:47.726Z"
   },
   {
    "duration": 30,
    "start_time": "2022-06-01T19:02:47.754Z"
   },
   {
    "duration": 413,
    "start_time": "2022-06-01T19:02:47.785Z"
   },
   {
    "duration": 339,
    "start_time": "2022-06-01T19:02:48.200Z"
   },
   {
    "duration": 333,
    "start_time": "2022-06-01T19:02:48.541Z"
   },
   {
    "duration": 23,
    "start_time": "2022-06-01T19:02:48.876Z"
   },
   {
    "duration": 8,
    "start_time": "2022-06-01T19:02:48.901Z"
   },
   {
    "duration": 410,
    "start_time": "2022-06-01T19:02:48.927Z"
   },
   {
    "duration": 598,
    "start_time": "2022-06-01T19:02:49.428Z"
   },
   {
    "duration": 5,
    "start_time": "2022-06-01T19:02:50.028Z"
   },
   {
    "duration": 100,
    "start_time": "2022-06-01T19:02:50.035Z"
   },
   {
    "duration": 6,
    "start_time": "2022-06-01T19:02:50.139Z"
   },
   {
    "duration": 8,
    "start_time": "2022-06-01T19:02:50.147Z"
   },
   {
    "duration": 23,
    "start_time": "2022-06-01T19:02:50.158Z"
   },
   {
    "duration": 4446,
    "start_time": "2022-06-01T19:02:50.183Z"
   },
   {
    "duration": 7,
    "start_time": "2022-06-01T19:05:24.661Z"
   },
   {
    "duration": 1442,
    "start_time": "2022-06-01T19:05:26.456Z"
   },
   {
    "duration": 4,
    "start_time": "2022-06-01T19:05:32.521Z"
   },
   {
    "duration": 4006,
    "start_time": "2022-06-01T19:05:35.159Z"
   }
  ],
  "kernelspec": {
   "display_name": "Python 3 (ipykernel)",
   "language": "python",
   "name": "python3"
  },
  "language_info": {
   "codemirror_mode": {
    "name": "ipython",
    "version": 3
   },
   "file_extension": ".py",
   "mimetype": "text/x-python",
   "name": "python",
   "nbconvert_exporter": "python",
   "pygments_lexer": "ipython3",
   "version": "3.9.5"
  },
  "toc": {
   "base_numbering": 1,
   "nav_menu": {},
   "number_sections": true,
   "sideBar": true,
   "skip_h1_title": true,
   "title_cell": "Table of Contents",
   "title_sidebar": "Contents",
   "toc_cell": false,
   "toc_position": {},
   "toc_section_display": true,
   "toc_window_display": false
  }
 },
 "nbformat": 4,
 "nbformat_minor": 2
}
